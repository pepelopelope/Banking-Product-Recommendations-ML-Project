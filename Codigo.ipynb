{
 "cells": [
  {
   "cell_type": "code",
   "execution_count": 135,
   "metadata": {},
   "outputs": [],
   "source": [
    "import pandas as pd\n",
    "from sklearn.model_selection import train_test_split\n",
    "from sklearn.ensemble import RandomForestClassifier\n",
    "from sklearn.metrics import average_precision_score\n",
    "from scoring import mapk, apk\n",
    "import matplotlib.pyplot as plt\n",
    "import h2o\n",
    "from h2o.automl import H2OAutoML\n",
    "import numpy as np\n"
   ]
  },
  {
   "cell_type": "code",
   "execution_count": 136,
   "metadata": {},
   "outputs": [
    {
     "name": "stderr",
     "output_type": "stream",
     "text": [
      "C:\\Users\\pepei\\AppData\\Local\\Temp\\ipykernel_38144\\480542211.py:2: DtypeWarning: Columns (5,9,11) have mixed types. Specify dtype option on import or set low_memory=False.\n",
      "  dataset = pd.read_csv('dataset_para_modelar.csv')\n"
     ]
    },
    {
     "name": "stdout",
     "output_type": "stream",
     "text": [
      "<class 'pandas.core.frame.DataFrame'>\n",
      "RangeIndex: 634682 entries, 0 to 634681\n",
      "Data columns (total 49 columns):\n",
      " #   Column                 Non-Null Count   Dtype  \n",
      "---  ------                 --------------   -----  \n",
      " 0   Unnamed: 0             634682 non-null  int64  \n",
      " 1   cod_persona            634682 non-null  int64  \n",
      " 2   mes                    634682 non-null  object \n",
      " 3   pais                   634626 non-null  object \n",
      " 4   sexo                   634617 non-null  object \n",
      " 5   edad                   634682 non-null  float64\n",
      " 6   fecha1                 634626 non-null  object \n",
      " 7   xti_empleado           634626 non-null  object \n",
      " 8   xti_nuevo_cliente      634626 non-null  float64\n",
      " 9   num_antiguedad         634682 non-null  object \n",
      " 10  xti_rel                634626 non-null  float64\n",
      " 11  fec_ult_cli_1t         36 non-null      object \n",
      " 12  xti_rel_1mes           629040 non-null  float64\n",
      " 13  tip_rel_1mes           629040 non-null  object \n",
      " 14  indresi                634626 non-null  object \n",
      " 15  indext                 634626 non-null  object \n",
      " 16  des_canal              627504 non-null  object \n",
      " 17  xti_extra              634626 non-null  object \n",
      " 18  tip_dom                634626 non-null  float64\n",
      " 19  cod_provincia          631736 non-null  float64\n",
      " 20  xti_actividad_cliente  634626 non-null  float64\n",
      " 21  imp_renta              510518 non-null  float64\n",
      " 22  id_segmento            627279 non-null  object \n",
      " 23  mean_engagement        629040 non-null  float64\n",
      " 24  ind_prod1              634682 non-null  int64  \n",
      " 25  ind_prod2              634682 non-null  int64  \n",
      " 26  ind_prod3              634682 non-null  int64  \n",
      " 27  ind_prod4              634682 non-null  int64  \n",
      " 28  ind_prod5              634682 non-null  int64  \n",
      " 29  ind_prod6              634682 non-null  int64  \n",
      " 30  ind_prod7              634682 non-null  int64  \n",
      " 31  ind_prod8              634682 non-null  int64  \n",
      " 32  ind_prod9              634682 non-null  int64  \n",
      " 33  ind_prod10             634682 non-null  int64  \n",
      " 34  ind_prod11             634682 non-null  int64  \n",
      " 35  ind_prod12             634682 non-null  int64  \n",
      " 36  ind_prod13             634682 non-null  int64  \n",
      " 37  ind_prod14             634682 non-null  int64  \n",
      " 38  ind_prod15             634682 non-null  int64  \n",
      " 39  ind_prod16             634682 non-null  int64  \n",
      " 40  ind_prod17             634682 non-null  int64  \n",
      " 41  ind_prod18             634682 non-null  int64  \n",
      " 42  ind_prod19             634682 non-null  int64  \n",
      " 43  ind_prod20             634682 non-null  int64  \n",
      " 44  ind_prod21             634682 non-null  int64  \n",
      " 45  ind_prod22             634651 non-null  float64\n",
      " 46  ind_prod23             634651 non-null  float64\n",
      " 47  ind_prod24             634682 non-null  int64  \n",
      " 48  ind_prod25             634682 non-null  int64  \n",
      "dtypes: float64(11), int64(25), object(13)\n",
      "memory usage: 237.3+ MB\n",
      "None\n",
      "          Unnamed: 0   cod_persona           edad  xti_nuevo_cliente  \\\n",
      "count  634682.000000  6.346820e+05  634682.000000      634626.000000   \n",
      "mean   321920.356254  7.217769e+05      40.119201           0.059846   \n",
      "std    185232.719038  4.290892e+05      17.207522           0.237202   \n",
      "min         0.000000  5.514000e+03       2.000000           0.000000   \n",
      "25%    161691.250000  3.584120e+05      24.000000           0.000000   \n",
      "50%    322352.500000  6.230450e+05      39.000000           0.000000   \n",
      "75%    482540.750000  1.102693e+06      50.000000           0.000000   \n",
      "max    641706.000000  1.537800e+06     117.000000           1.000000   \n",
      "\n",
      "             xti_rel   xti_rel_1mes   tip_dom  cod_provincia  \\\n",
      "count  634626.000000  629040.000000  634626.0  631736.000000   \n",
      "mean        1.005559       1.000587       1.0      26.598741   \n",
      "std         0.738085       0.036560       0.0      12.777667   \n",
      "min         1.000000       0.000000       1.0       1.000000   \n",
      "25%         1.000000       1.000000       1.0      15.000000   \n",
      "50%         1.000000       1.000000       1.0      28.000000   \n",
      "75%         1.000000       1.000000       1.0      35.000000   \n",
      "max        99.000000       4.000000       1.0      52.000000   \n",
      "\n",
      "       xti_actividad_cliente     imp_renta  ...     ind_prod16     ind_prod17  \\\n",
      "count          634626.000000  5.105180e+05  ...  634682.000000  634682.000000   \n",
      "mean                0.459126  1.367071e+05  ...       0.009263       0.002718   \n",
      "std                 0.498327  3.339545e+05  ...       0.095797       0.052063   \n",
      "min                 0.000000  4.559550e+03  ...       0.000000       0.000000   \n",
      "25%                 0.000000  6.821148e+04  ...       0.000000       0.000000   \n",
      "50%                 0.000000  1.012905e+05  ...       0.000000       0.000000   \n",
      "75%                 1.000000  1.566742e+05  ...       0.000000       0.000000   \n",
      "max                 1.000000  2.889440e+07  ...       1.000000       1.000000   \n",
      "\n",
      "          ind_prod18     ind_prod19     ind_prod20     ind_prod21  \\\n",
      "count  634682.000000  634682.000000  634682.000000  634682.000000   \n",
      "mean        0.053576       0.045505       0.026503       0.003756   \n",
      "std         0.225180       0.208408       0.160626       0.061173   \n",
      "min         0.000000       0.000000       0.000000       0.000000   \n",
      "25%         0.000000       0.000000       0.000000       0.000000   \n",
      "50%         0.000000       0.000000       0.000000       0.000000   \n",
      "75%         0.000000       0.000000       0.000000       0.000000   \n",
      "max         1.000000       1.000000       1.000000       1.000000   \n",
      "\n",
      "          ind_prod22     ind_prod23     ind_prod24     ind_prod25  \n",
      "count  634651.000000  634651.000000  634682.000000  634682.000000  \n",
      "mean        0.055561       0.060295       0.128827       0.065876  \n",
      "std         0.229073       0.238032       0.335008       0.248065  \n",
      "min         0.000000       0.000000       0.000000       0.000000  \n",
      "25%         0.000000       0.000000       0.000000       0.000000  \n",
      "50%         0.000000       0.000000       0.000000       0.000000  \n",
      "75%         0.000000       0.000000       0.000000       0.000000  \n",
      "max         1.000000       1.000000       1.000000       1.000000  \n",
      "\n",
      "[8 rows x 36 columns]\n",
      "   Unnamed: 0  cod_persona         mes pais sexo  edad      fecha1  \\\n",
      "0           0       178103  2015-01-28   ES    H  35.0  2015-01-12   \n",
      "1           1       503082  2015-01-28   ES    V  27.0  2012-08-10   \n",
      "2           2       502996  2015-01-28   ES    V  37.0  2012-08-10   \n",
      "3           3       503053  2015-01-28   ES    H  23.0  2012-08-10   \n",
      "4           4       503031  2015-01-28   ES    H  44.0  2012-08-10   \n",
      "\n",
      "  xti_empleado  xti_nuevo_cliente num_antiguedad  ...  ind_prod16 ind_prod17  \\\n",
      "0            N                0.0              6  ...           0          0   \n",
      "1            N                0.0             35  ...           0          0   \n",
      "2            N                0.0             35  ...           0          0   \n",
      "3            N                0.0             35  ...           0          0   \n",
      "4            N                0.0             35  ...           0          0   \n",
      "\n",
      "   ind_prod18 ind_prod19 ind_prod20 ind_prod21 ind_prod22 ind_prod23  \\\n",
      "0           0          0          0          0        0.0        0.0   \n",
      "1           0          0          0          0        0.0        0.0   \n",
      "2           0          0          0          0        0.0        0.0   \n",
      "3           0          0          0          0        0.0        0.0   \n",
      "4           0          0          0          0        0.0        0.0   \n",
      "\n",
      "   ind_prod24  ind_prod25  \n",
      "0           0           0  \n",
      "1           0           0  \n",
      "2           0           0  \n",
      "3           1           0  \n",
      "4           0           0  \n",
      "\n",
      "[5 rows x 49 columns]\n"
     ]
    }
   ],
   "source": [
    "\n",
    "# Cargar datos\n",
    "dataset = pd.read_csv('dataset_para_modelar.csv')\n",
    "\n",
    "# Limpiar columna 'edad'\n",
    "dataset['edad'] = pd.to_numeric(dataset['edad'], errors='coerce')\n",
    "dataset['edad'].fillna(dataset['edad'].mean(), inplace=True)\n",
    "\n",
    "# Mostrar información básica del dataset\n",
    "print(dataset.info())\n",
    "print(dataset.describe())\n",
    "# Ver algunas filas del dataset\n",
    "print(dataset.head())\n"
   ]
  },
  {
   "cell_type": "code",
   "execution_count": 137,
   "metadata": {},
   "outputs": [],
   "source": [
    "dataset[['ind_prod23', 'ind_prod22']].astype('Int64')\n",
    "\n",
    "# Eliminar columnas innecesarias\n",
    "columns_to_drop = ['Unnamed: 0', 'cod_persona', 'xti_extra', 'tip_dom']\n",
    "\n",
    "# Unnamed la elimino porque es un índice que se ha guardado en el csv\n",
    "# cod_persona la elimino porque es un identificador único de cada persona\n",
    "# xti_extra la elimino porque es una variable que no aporta información ya que la mayoría de los registros son personas vivas\n",
    "# tip_dom la elimino porque es una variable que no aporta información ya que no aporta informacion, todas son 1\n",
    "\n",
    "dataset.drop(columns=columns_to_drop, inplace=True)\n"
   ]
  },
  {
   "cell_type": "code",
   "execution_count": 138,
   "metadata": {},
   "outputs": [],
   "source": [
    "\n",
    "# Pasame la columna 'mes' a solo el mes\n",
    "dataset['mes'] = dataset['mes'].apply(lambda x: int(x.split('-')[1]))\n",
    "# Pasame la columna 'fecha1' a dategime\n",
    "dataset['fecha1'] = pd.to_datetime(dataset['fecha1'], format='%Y-%m-%d')\n"
   ]
  },
  {
   "cell_type": "code",
   "execution_count": 139,
   "metadata": {},
   "outputs": [
    {
     "data": {
      "text/plain": [
       "array(['ES', nan, 'GB', 'CH', 'SE', 'MX', 'PL', 'BE', 'IT', 'PT', 'RO',\n",
       "       'PE', 'FR', 'SV', 'CO', 'AT', 'CN', 'US', 'CA', 'BG', 'PA', 'EC',\n",
       "       'CU', 'FI', 'GE', 'AR', 'VE', 'DE', 'UA', 'NG', 'AD', 'IN', 'AU',\n",
       "       'BR', 'NL', 'NZ', 'JP', 'PY', 'GT', 'PK', 'CL', 'GN', 'PR', 'SA',\n",
       "       'IL', 'BO', 'MD', 'RU', 'HU'], dtype=object)"
      ]
     },
     "execution_count": 139,
     "metadata": {},
     "output_type": "execute_result"
    }
   ],
   "source": [
    "dataset['pais'].unique()"
   ]
  },
  {
   "cell_type": "code",
   "execution_count": 140,
   "metadata": {},
   "outputs": [
    {
     "name": "stdout",
     "output_type": "stream",
     "text": [
      "[ 1  2  3  4  5  6  7  8  9 10 11 12 13 14 15 16 17 18 19 20 21 22 23 24\n",
      " 25 26 27 28 29 30 31 32 33 34 35 36 37 38 39 40 41 42 43 44 45 46 47 48\n",
      " 49]\n"
     ]
    }
   ],
   "source": [
    "# Crear un diccionario de mapeo para asignar números a cada país\n",
    "unique_countries = dataset['pais'].unique()\n",
    "\n",
    "# Asegurar que 'ES' sea 1\n",
    "mapping_pais = {'ES': 1}\n",
    "\n",
    "# Asignar números incrementales a los demás países\n",
    "current_num = 2\n",
    "for country in unique_countries:\n",
    "    if country != 'ES' and country not in mapping_pais:\n",
    "        mapping_pais[country] = current_num\n",
    "        current_num += 1\n",
    "\n",
    "# Aplicar el mapeo a la columna 'pais'\n",
    "dataset['pais'] = dataset['pais'].map(mapping_pais)\n",
    "\n",
    "# Asegurar que la columna sea de tipo Int64\n",
    "dataset['pais'] = dataset['pais'].astype('int64')\n",
    "\n",
    "# Verificar que el mapeo fue correcto\n",
    "print(dataset['pais'].unique())\n"
   ]
  },
  {
   "cell_type": "code",
   "execution_count": 141,
   "metadata": {},
   "outputs": [],
   "source": [
    "# Crear un diccionario de mapeo para asignar números a cada género\n",
    "mapping_sex = {'V': 1, 'H': 0}\n",
    "\n",
    "# Aplicar el mapeo a la columna 'customer_sex'\n",
    "dataset['sexo'] = dataset['sexo'].map(mapping_sex)"
   ]
  },
  {
   "cell_type": "code",
   "execution_count": 142,
   "metadata": {},
   "outputs": [
    {
     "data": {
      "image/png": "[encoded data removed]",
      "text/plain": [
       "<Figure size 640x480 with 1 Axes>"
      ]
     },
     "metadata": {},
     "output_type": "display_data"
    },
    {
     "data": {
      "image/png": "[encoded data removed]",
      "text/plain": [
       "<Figure size 640x480 with 1 Axes>"
      ]
     },
     "metadata": {},
     "output_type": "display_data"
    }
   ],
   "source": [
    "\n",
    "# Distribución de las características principales\n",
    "\n",
    "dataset['edad'].hist()\n",
    "plt.title('Distribución de Edad')\n",
    "plt.xlabel('Edad')\n",
    "plt.ylabel('Frecuencia')\n",
    "plt.show()\n",
    "\n",
    "dataset['imp_renta'].hist()\n",
    "plt.title('Distribución de Ingresos')\n",
    "plt.xlabel('Ingresos')\n",
    "plt.ylabel('Frecuencia')\n",
    "plt.show()\n"
   ]
  },
  {
   "cell_type": "code",
   "execution_count": 143,
   "metadata": {},
   "outputs": [
    {
     "name": "stdout",
     "output_type": "stream",
     "text": [
      "   mes  pais  sexo  edad     fecha1 xti_empleado  xti_nuevo_cliente  \\\n",
      "0    1     1   0.0  35.0 2015-01-12            N                0.0   \n",
      "1    1     1   1.0  27.0 2012-08-10            N                0.0   \n",
      "2    1     1   1.0  37.0 2012-08-10            N                0.0   \n",
      "3    1     1   0.0  23.0 2012-08-10            N                0.0   \n",
      "4    1     1   0.0  44.0 2012-08-10            N                0.0   \n",
      "\n",
      "  num_antiguedad  xti_rel fec_ult_cli_1t  ...  ind_prod17 ind_prod18  \\\n",
      "0              6      1.0            NaN  ...           0          0   \n",
      "1             35      1.0            NaN  ...           0          0   \n",
      "2             35      1.0            NaN  ...           0          0   \n",
      "3             35      1.0            NaN  ...           0          0   \n",
      "4             35      1.0            NaN  ...           0          0   \n",
      "\n",
      "  ind_prod19 ind_prod20 ind_prod21 ind_prod22  ind_prod23  ind_prod24  \\\n",
      "0          0          0          0        0.0         0.0           0   \n",
      "1          0          0          0        0.0         0.0           0   \n",
      "2          0          0          0        0.0         0.0           0   \n",
      "3          0          0          0        0.0         0.0           1   \n",
      "4          0          0          0        0.0         0.0           0   \n",
      "\n",
      "   ind_prod25  nueva_caracteristica  \n",
      "0           0            3052633.50  \n",
      "1           0            1910994.93  \n",
      "2           0            3849297.96  \n",
      "3           0            3149395.29  \n",
      "4           0            4850803.32  \n",
      "\n",
      "[5 rows x 48 columns]\n"
     ]
    }
   ],
   "source": [
    "# Limpiar datos\n",
    "dataset['edad'].fillna(dataset['edad'].mean(), inplace=True)\n",
    "dataset['imp_renta'].fillna(dataset['imp_renta'].mean(), inplace=True)\n",
    "\n",
    "# Feature Engineering\n",
    "dataset['nueva_caracteristica'] = dataset['edad'] * dataset['imp_renta']\n",
    "\n",
    "# Verificar cambios\n",
    "print(dataset.head())\n"
   ]
  },
  {
   "cell_type": "code",
   "execution_count": 144,
   "metadata": {},
   "outputs": [
    {
     "data": {
      "text/plain": [
       "Index(['mes', 'edad', 'fecha1', 'xti_nuevo_cliente', 'num_antiguedad',\n",
       "       'fec_ult_cli_1t', 'xti_rel_1mes', 'tip_dom', 'cod_provincia',\n",
       "       'xti_actividad_cliente',\n",
       "       ...\n",
       "       'des_canal_KHO', 'des_canal_KHP', 'des_canal_KHQ', 'des_canal_RED',\n",
       "       'xti_extra_N', 'xti_extra_S', 'tip_rel_1mes_A', 'tip_rel_1mes_I',\n",
       "       'tip_rel_1mes_P', 'tip_rel_1mes_R'],\n",
       "      dtype='object', length=232)"
      ]
     },
     "execution_count": 144,
     "metadata": {},
     "output_type": "execute_result"
    }
   ],
   "source": [
    "\n",
    "\n",
    "# Convertir columnas con valores mixtos a numéricos\n",
    "dataset['num_antiguedad'] = pd.to_numeric(dataset['num_antiguedad'], errors='coerce')\n",
    "dataset['num_antiguedad'].fillna(dataset['num_antiguedad'].mean(), inplace=True)\n",
    "dataset['xti_rel_1mes'] = pd.to_numeric(dataset['xti_rel_1mes'], errors='coerce')\n",
    "dataset['xti_rel_1mes'].fillna(dataset['xti_rel_1mes'].mean(), inplace=True)\n",
    "\n",
    "# Convertir columnas categóricas en variables dummy\n",
    "categorical_columns = ['pais', 'sexo', 'xti_empleado', 'xti_rel', 'indresi', 'indext', 'des_canal', 'xti_extra', 'tip_rel_1mes']\n",
    "dataset = pd.get_dummies(dataset, columns=categorical_columns)\n",
    "\n",
    "\n",
    "\n",
    "dataset.columns"
   ]
  },
  {
   "cell_type": "code",
   "execution_count": 145,
   "metadata": {},
   "outputs": [
    {
     "name": "stdout",
     "output_type": "stream",
     "text": [
      "<class 'pandas.core.frame.DataFrame'>\n",
      "RangeIndex: 634682 entries, 0 to 634681\n",
      "Columns: 232 entries, mes to tip_rel_1mes_R\n",
      "dtypes: bool(193), datetime64[ns](1), float64(12), int64(24), object(2)\n",
      "memory usage: 305.7+ MB\n",
      "None\n",
      "   mes  edad     fecha1  xti_nuevo_cliente  num_antiguedad fec_ult_cli_1t  \\\n",
      "0    1  35.0 2015-01-12                0.0             6.0            NaN   \n",
      "1    1  27.0 2012-08-10                0.0            35.0            NaN   \n",
      "2    1  37.0 2012-08-10                0.0            35.0            NaN   \n",
      "3    1  23.0 2012-08-10                0.0            35.0            NaN   \n",
      "4    1  44.0 2012-08-10                0.0            35.0            NaN   \n",
      "\n",
      "   xti_rel_1mes  tip_dom  cod_provincia  xti_actividad_cliente  ...  \\\n",
      "0           1.0      1.0           29.0                    1.0  ...   \n",
      "1           1.0      1.0           40.0                    0.0  ...   \n",
      "2           1.0      1.0            8.0                    0.0  ...   \n",
      "3           1.0      1.0           39.0                    1.0  ...   \n",
      "4           1.0      1.0           28.0                    0.0  ...   \n",
      "\n",
      "   des_canal_KHO des_canal_KHP  des_canal_KHQ  des_canal_RED  xti_extra_N  \\\n",
      "0          False         False          False          False         True   \n",
      "1          False         False          False          False         True   \n",
      "2          False         False          False          False         True   \n",
      "3          False         False          False          False         True   \n",
      "4          False         False          False          False         True   \n",
      "\n",
      "   xti_extra_S  tip_rel_1mes_A  tip_rel_1mes_I  tip_rel_1mes_P  tip_rel_1mes_R  \n",
      "0        False            True           False           False           False  \n",
      "1        False           False            True           False           False  \n",
      "2        False            True           False           False           False  \n",
      "3        False            True           False           False           False  \n",
      "4        False           False            True           False           False  \n",
      "\n",
      "[5 rows x 232 columns]\n"
     ]
    }
   ],
   "source": [
    "\n",
    "# Verificar los cambios\n",
    "print(dataset.info())\n",
    "print(dataset.head())\n",
    "\n",
    "# Separar características y targets\n",
    "X = dataset.drop(columns=[f'ind_prod{i}' for i in range(1, 26)])\n",
    "y = dataset[[f'ind_prod{i}' for i in range(1, 26)]]\n",
    "\n",
    "# Dividir en conjuntos de entrenamiento y prueba\n",
    "X_train, X_test, y_train, y_test = train_test_split(X, y, test_size=0.2, random_state=42)\n"
   ]
  },
  {
   "cell_type": "code",
   "execution_count": 146,
   "metadata": {},
   "outputs": [
    {
     "ename": "TypeError",
     "evalue": "Cannot cast DatetimeArray to dtype float32",
     "output_type": "error",
     "traceback": [
      "\u001b[1;31m---------------------------------------------------------------------------\u001b[0m",
      "\u001b[1;31mTypeError\u001b[0m                                 Traceback (most recent call last)",
      "Cell \u001b[1;32mIn[146], line 3\u001b[0m\n\u001b[0;32m      1\u001b[0m \u001b[38;5;66;03m# Entrenar el modelo\u001b[39;00m\n\u001b[0;32m      2\u001b[0m modelo \u001b[38;5;241m=\u001b[39m RandomForestClassifier()\n\u001b[1;32m----> 3\u001b[0m modelo\u001b[38;5;241m.\u001b[39mfit(X_train, y_train)\n\u001b[0;32m      5\u001b[0m \u001b[38;5;66;03m# Generar predicciones\u001b[39;00m\n\u001b[0;32m      6\u001b[0m predicciones \u001b[38;5;241m=\u001b[39m modelo\u001b[38;5;241m.\u001b[39mpredict(X_test)\n",
      "File \u001b[1;32mc:\\Users\\pepei\\anaconda3\\Lib\\site-packages\\sklearn\\base.py:1151\u001b[0m, in \u001b[0;36m_fit_context.<locals>.decorator.<locals>.wrapper\u001b[1;34m(estimator, *args, **kwargs)\u001b[0m\n\u001b[0;32m   1144\u001b[0m     estimator\u001b[38;5;241m.\u001b[39m_validate_params()\n\u001b[0;32m   1146\u001b[0m \u001b[38;5;28;01mwith\u001b[39;00m config_context(\n\u001b[0;32m   1147\u001b[0m     skip_parameter_validation\u001b[38;5;241m=\u001b[39m(\n\u001b[0;32m   1148\u001b[0m         prefer_skip_nested_validation \u001b[38;5;129;01mor\u001b[39;00m global_skip_validation\n\u001b[0;32m   1149\u001b[0m     )\n\u001b[0;32m   1150\u001b[0m ):\n\u001b[1;32m-> 1151\u001b[0m     \u001b[38;5;28;01mreturn\u001b[39;00m fit_method(estimator, \u001b[38;5;241m*\u001b[39margs, \u001b[38;5;241m*\u001b[39m\u001b[38;5;241m*\u001b[39mkwargs)\n",
      "File \u001b[1;32mc:\\Users\\pepei\\anaconda3\\Lib\\site-packages\\sklearn\\ensemble\\_forest.py:348\u001b[0m, in \u001b[0;36mBaseForest.fit\u001b[1;34m(self, X, y, sample_weight)\u001b[0m\n\u001b[0;32m    346\u001b[0m \u001b[38;5;28;01mif\u001b[39;00m issparse(y):\n\u001b[0;32m    347\u001b[0m     \u001b[38;5;28;01mraise\u001b[39;00m \u001b[38;5;167;01mValueError\u001b[39;00m(\u001b[38;5;124m\"\u001b[39m\u001b[38;5;124msparse multilabel-indicator for y is not supported.\u001b[39m\u001b[38;5;124m\"\u001b[39m)\n\u001b[1;32m--> 348\u001b[0m X, y \u001b[38;5;241m=\u001b[39m \u001b[38;5;28mself\u001b[39m\u001b[38;5;241m.\u001b[39m_validate_data(\n\u001b[0;32m    349\u001b[0m     X, y, multi_output\u001b[38;5;241m=\u001b[39m\u001b[38;5;28;01mTrue\u001b[39;00m, accept_sparse\u001b[38;5;241m=\u001b[39m\u001b[38;5;124m\"\u001b[39m\u001b[38;5;124mcsc\u001b[39m\u001b[38;5;124m\"\u001b[39m, dtype\u001b[38;5;241m=\u001b[39mDTYPE\n\u001b[0;32m    350\u001b[0m )\n\u001b[0;32m    351\u001b[0m \u001b[38;5;28;01mif\u001b[39;00m sample_weight \u001b[38;5;129;01mis\u001b[39;00m \u001b[38;5;129;01mnot\u001b[39;00m \u001b[38;5;28;01mNone\u001b[39;00m:\n\u001b[0;32m    352\u001b[0m     sample_weight \u001b[38;5;241m=\u001b[39m _check_sample_weight(sample_weight, X)\n",
      "File \u001b[1;32mc:\\Users\\pepei\\anaconda3\\Lib\\site-packages\\sklearn\\base.py:621\u001b[0m, in \u001b[0;36mBaseEstimator._validate_data\u001b[1;34m(self, X, y, reset, validate_separately, cast_to_ndarray, **check_params)\u001b[0m\n\u001b[0;32m    619\u001b[0m         y \u001b[38;5;241m=\u001b[39m check_array(y, input_name\u001b[38;5;241m=\u001b[39m\u001b[38;5;124m\"\u001b[39m\u001b[38;5;124my\u001b[39m\u001b[38;5;124m\"\u001b[39m, \u001b[38;5;241m*\u001b[39m\u001b[38;5;241m*\u001b[39mcheck_y_params)\n\u001b[0;32m    620\u001b[0m     \u001b[38;5;28;01melse\u001b[39;00m:\n\u001b[1;32m--> 621\u001b[0m         X, y \u001b[38;5;241m=\u001b[39m check_X_y(X, y, \u001b[38;5;241m*\u001b[39m\u001b[38;5;241m*\u001b[39mcheck_params)\n\u001b[0;32m    622\u001b[0m     out \u001b[38;5;241m=\u001b[39m X, y\n\u001b[0;32m    624\u001b[0m \u001b[38;5;28;01mif\u001b[39;00m \u001b[38;5;129;01mnot\u001b[39;00m no_val_X \u001b[38;5;129;01mand\u001b[39;00m check_params\u001b[38;5;241m.\u001b[39mget(\u001b[38;5;124m\"\u001b[39m\u001b[38;5;124mensure_2d\u001b[39m\u001b[38;5;124m\"\u001b[39m, \u001b[38;5;28;01mTrue\u001b[39;00m):\n",
      "File \u001b[1;32mc:\\Users\\pepei\\anaconda3\\Lib\\site-packages\\sklearn\\utils\\validation.py:1147\u001b[0m, in \u001b[0;36mcheck_X_y\u001b[1;34m(X, y, accept_sparse, accept_large_sparse, dtype, order, copy, force_all_finite, ensure_2d, allow_nd, multi_output, ensure_min_samples, ensure_min_features, y_numeric, estimator)\u001b[0m\n\u001b[0;32m   1142\u001b[0m         estimator_name \u001b[38;5;241m=\u001b[39m _check_estimator_name(estimator)\n\u001b[0;32m   1143\u001b[0m     \u001b[38;5;28;01mraise\u001b[39;00m \u001b[38;5;167;01mValueError\u001b[39;00m(\n\u001b[0;32m   1144\u001b[0m         \u001b[38;5;124mf\u001b[39m\u001b[38;5;124m\"\u001b[39m\u001b[38;5;132;01m{\u001b[39;00mestimator_name\u001b[38;5;132;01m}\u001b[39;00m\u001b[38;5;124m requires y to be passed, but the target y is None\u001b[39m\u001b[38;5;124m\"\u001b[39m\n\u001b[0;32m   1145\u001b[0m     )\n\u001b[1;32m-> 1147\u001b[0m X \u001b[38;5;241m=\u001b[39m check_array(\n\u001b[0;32m   1148\u001b[0m     X,\n\u001b[0;32m   1149\u001b[0m     accept_sparse\u001b[38;5;241m=\u001b[39maccept_sparse,\n\u001b[0;32m   1150\u001b[0m     accept_large_sparse\u001b[38;5;241m=\u001b[39maccept_large_sparse,\n\u001b[0;32m   1151\u001b[0m     dtype\u001b[38;5;241m=\u001b[39mdtype,\n\u001b[0;32m   1152\u001b[0m     order\u001b[38;5;241m=\u001b[39morder,\n\u001b[0;32m   1153\u001b[0m     copy\u001b[38;5;241m=\u001b[39mcopy,\n\u001b[0;32m   1154\u001b[0m     force_all_finite\u001b[38;5;241m=\u001b[39mforce_all_finite,\n\u001b[0;32m   1155\u001b[0m     ensure_2d\u001b[38;5;241m=\u001b[39mensure_2d,\n\u001b[0;32m   1156\u001b[0m     allow_nd\u001b[38;5;241m=\u001b[39mallow_nd,\n\u001b[0;32m   1157\u001b[0m     ensure_min_samples\u001b[38;5;241m=\u001b[39mensure_min_samples,\n\u001b[0;32m   1158\u001b[0m     ensure_min_features\u001b[38;5;241m=\u001b[39mensure_min_features,\n\u001b[0;32m   1159\u001b[0m     estimator\u001b[38;5;241m=\u001b[39mestimator,\n\u001b[0;32m   1160\u001b[0m     input_name\u001b[38;5;241m=\u001b[39m\u001b[38;5;124m\"\u001b[39m\u001b[38;5;124mX\u001b[39m\u001b[38;5;124m\"\u001b[39m,\n\u001b[0;32m   1161\u001b[0m )\n\u001b[0;32m   1163\u001b[0m y \u001b[38;5;241m=\u001b[39m _check_y(y, multi_output\u001b[38;5;241m=\u001b[39mmulti_output, y_numeric\u001b[38;5;241m=\u001b[39my_numeric, estimator\u001b[38;5;241m=\u001b[39mestimator)\n\u001b[0;32m   1165\u001b[0m check_consistent_length(X, y)\n",
      "File \u001b[1;32mc:\\Users\\pepei\\anaconda3\\Lib\\site-packages\\sklearn\\utils\\validation.py:838\u001b[0m, in \u001b[0;36mcheck_array\u001b[1;34m(array, accept_sparse, accept_large_sparse, dtype, order, copy, force_all_finite, ensure_2d, allow_nd, ensure_min_samples, ensure_min_features, estimator, input_name)\u001b[0m\n\u001b[0;32m    833\u001b[0m \u001b[38;5;28;01mif\u001b[39;00m pandas_requires_conversion:\n\u001b[0;32m    834\u001b[0m     \u001b[38;5;66;03m# pandas dataframe requires conversion earlier to handle extension dtypes with\u001b[39;00m\n\u001b[0;32m    835\u001b[0m     \u001b[38;5;66;03m# nans\u001b[39;00m\n\u001b[0;32m    836\u001b[0m     \u001b[38;5;66;03m# Use the original dtype for conversion if dtype is None\u001b[39;00m\n\u001b[0;32m    837\u001b[0m     new_dtype \u001b[38;5;241m=\u001b[39m dtype_orig \u001b[38;5;28;01mif\u001b[39;00m dtype \u001b[38;5;129;01mis\u001b[39;00m \u001b[38;5;28;01mNone\u001b[39;00m \u001b[38;5;28;01melse\u001b[39;00m dtype\n\u001b[1;32m--> 838\u001b[0m     array \u001b[38;5;241m=\u001b[39m array\u001b[38;5;241m.\u001b[39mastype(new_dtype)\n\u001b[0;32m    839\u001b[0m     \u001b[38;5;66;03m# Since we converted here, we do not need to convert again later\u001b[39;00m\n\u001b[0;32m    840\u001b[0m     dtype \u001b[38;5;241m=\u001b[39m \u001b[38;5;28;01mNone\u001b[39;00m\n",
      "File \u001b[1;32mc:\\Users\\pepei\\anaconda3\\Lib\\site-packages\\pandas\\core\\generic.py:6324\u001b[0m, in \u001b[0;36mNDFrame.astype\u001b[1;34m(self, dtype, copy, errors)\u001b[0m\n\u001b[0;32m   6317\u001b[0m     results \u001b[38;5;241m=\u001b[39m [\n\u001b[0;32m   6318\u001b[0m         \u001b[38;5;28mself\u001b[39m\u001b[38;5;241m.\u001b[39miloc[:, i]\u001b[38;5;241m.\u001b[39mastype(dtype, copy\u001b[38;5;241m=\u001b[39mcopy)\n\u001b[0;32m   6319\u001b[0m         \u001b[38;5;28;01mfor\u001b[39;00m i \u001b[38;5;129;01min\u001b[39;00m \u001b[38;5;28mrange\u001b[39m(\u001b[38;5;28mlen\u001b[39m(\u001b[38;5;28mself\u001b[39m\u001b[38;5;241m.\u001b[39mcolumns))\n\u001b[0;32m   6320\u001b[0m     ]\n\u001b[0;32m   6322\u001b[0m \u001b[38;5;28;01melse\u001b[39;00m:\n\u001b[0;32m   6323\u001b[0m     \u001b[38;5;66;03m# else, only a single dtype is given\u001b[39;00m\n\u001b[1;32m-> 6324\u001b[0m     new_data \u001b[38;5;241m=\u001b[39m \u001b[38;5;28mself\u001b[39m\u001b[38;5;241m.\u001b[39m_mgr\u001b[38;5;241m.\u001b[39mastype(dtype\u001b[38;5;241m=\u001b[39mdtype, copy\u001b[38;5;241m=\u001b[39mcopy, errors\u001b[38;5;241m=\u001b[39merrors)\n\u001b[0;32m   6325\u001b[0m     \u001b[38;5;28;01mreturn\u001b[39;00m \u001b[38;5;28mself\u001b[39m\u001b[38;5;241m.\u001b[39m_constructor(new_data)\u001b[38;5;241m.\u001b[39m__finalize__(\u001b[38;5;28mself\u001b[39m, method\u001b[38;5;241m=\u001b[39m\u001b[38;5;124m\"\u001b[39m\u001b[38;5;124mastype\u001b[39m\u001b[38;5;124m\"\u001b[39m)\n\u001b[0;32m   6327\u001b[0m \u001b[38;5;66;03m# GH 33113: handle empty frame or series\u001b[39;00m\n",
      "File \u001b[1;32mc:\\Users\\pepei\\anaconda3\\Lib\\site-packages\\pandas\\core\\internals\\managers.py:451\u001b[0m, in \u001b[0;36mBaseBlockManager.astype\u001b[1;34m(self, dtype, copy, errors)\u001b[0m\n\u001b[0;32m    448\u001b[0m \u001b[38;5;28;01melif\u001b[39;00m using_copy_on_write():\n\u001b[0;32m    449\u001b[0m     copy \u001b[38;5;241m=\u001b[39m \u001b[38;5;28;01mFalse\u001b[39;00m\n\u001b[1;32m--> 451\u001b[0m \u001b[38;5;28;01mreturn\u001b[39;00m \u001b[38;5;28mself\u001b[39m\u001b[38;5;241m.\u001b[39mapply(\n\u001b[0;32m    452\u001b[0m     \u001b[38;5;124m\"\u001b[39m\u001b[38;5;124mastype\u001b[39m\u001b[38;5;124m\"\u001b[39m,\n\u001b[0;32m    453\u001b[0m     dtype\u001b[38;5;241m=\u001b[39mdtype,\n\u001b[0;32m    454\u001b[0m     copy\u001b[38;5;241m=\u001b[39mcopy,\n\u001b[0;32m    455\u001b[0m     errors\u001b[38;5;241m=\u001b[39merrors,\n\u001b[0;32m    456\u001b[0m     using_cow\u001b[38;5;241m=\u001b[39musing_copy_on_write(),\n\u001b[0;32m    457\u001b[0m )\n",
      "File \u001b[1;32mc:\\Users\\pepei\\anaconda3\\Lib\\site-packages\\pandas\\core\\internals\\managers.py:352\u001b[0m, in \u001b[0;36mBaseBlockManager.apply\u001b[1;34m(self, f, align_keys, **kwargs)\u001b[0m\n\u001b[0;32m    350\u001b[0m         applied \u001b[38;5;241m=\u001b[39m b\u001b[38;5;241m.\u001b[39mapply(f, \u001b[38;5;241m*\u001b[39m\u001b[38;5;241m*\u001b[39mkwargs)\n\u001b[0;32m    351\u001b[0m     \u001b[38;5;28;01melse\u001b[39;00m:\n\u001b[1;32m--> 352\u001b[0m         applied \u001b[38;5;241m=\u001b[39m \u001b[38;5;28mgetattr\u001b[39m(b, f)(\u001b[38;5;241m*\u001b[39m\u001b[38;5;241m*\u001b[39mkwargs)\n\u001b[0;32m    353\u001b[0m     result_blocks \u001b[38;5;241m=\u001b[39m extend_blocks(applied, result_blocks)\n\u001b[0;32m    355\u001b[0m out \u001b[38;5;241m=\u001b[39m \u001b[38;5;28mtype\u001b[39m(\u001b[38;5;28mself\u001b[39m)\u001b[38;5;241m.\u001b[39mfrom_blocks(result_blocks, \u001b[38;5;28mself\u001b[39m\u001b[38;5;241m.\u001b[39maxes)\n",
      "File \u001b[1;32mc:\\Users\\pepei\\anaconda3\\Lib\\site-packages\\pandas\\core\\internals\\blocks.py:511\u001b[0m, in \u001b[0;36mBlock.astype\u001b[1;34m(self, dtype, copy, errors, using_cow)\u001b[0m\n\u001b[0;32m    491\u001b[0m \u001b[38;5;250m\u001b[39m\u001b[38;5;124;03m\"\"\"\u001b[39;00m\n\u001b[0;32m    492\u001b[0m \u001b[38;5;124;03mCoerce to the new dtype.\u001b[39;00m\n\u001b[0;32m    493\u001b[0m \n\u001b[1;32m   (...)\u001b[0m\n\u001b[0;32m    507\u001b[0m \u001b[38;5;124;03mBlock\u001b[39;00m\n\u001b[0;32m    508\u001b[0m \u001b[38;5;124;03m\"\"\"\u001b[39;00m\n\u001b[0;32m    509\u001b[0m values \u001b[38;5;241m=\u001b[39m \u001b[38;5;28mself\u001b[39m\u001b[38;5;241m.\u001b[39mvalues\n\u001b[1;32m--> 511\u001b[0m new_values \u001b[38;5;241m=\u001b[39m astype_array_safe(values, dtype, copy\u001b[38;5;241m=\u001b[39mcopy, errors\u001b[38;5;241m=\u001b[39merrors)\n\u001b[0;32m    513\u001b[0m new_values \u001b[38;5;241m=\u001b[39m maybe_coerce_values(new_values)\n\u001b[0;32m    515\u001b[0m refs \u001b[38;5;241m=\u001b[39m \u001b[38;5;28;01mNone\u001b[39;00m\n",
      "File \u001b[1;32mc:\\Users\\pepei\\anaconda3\\Lib\\site-packages\\pandas\\core\\dtypes\\astype.py:242\u001b[0m, in \u001b[0;36mastype_array_safe\u001b[1;34m(values, dtype, copy, errors)\u001b[0m\n\u001b[0;32m    239\u001b[0m     dtype \u001b[38;5;241m=\u001b[39m dtype\u001b[38;5;241m.\u001b[39mnumpy_dtype\n\u001b[0;32m    241\u001b[0m \u001b[38;5;28;01mtry\u001b[39;00m:\n\u001b[1;32m--> 242\u001b[0m     new_values \u001b[38;5;241m=\u001b[39m astype_array(values, dtype, copy\u001b[38;5;241m=\u001b[39mcopy)\n\u001b[0;32m    243\u001b[0m \u001b[38;5;28;01mexcept\u001b[39;00m (\u001b[38;5;167;01mValueError\u001b[39;00m, \u001b[38;5;167;01mTypeError\u001b[39;00m):\n\u001b[0;32m    244\u001b[0m     \u001b[38;5;66;03m# e.g. _astype_nansafe can fail on object-dtype of strings\u001b[39;00m\n\u001b[0;32m    245\u001b[0m     \u001b[38;5;66;03m#  trying to convert to float\u001b[39;00m\n\u001b[0;32m    246\u001b[0m     \u001b[38;5;28;01mif\u001b[39;00m errors \u001b[38;5;241m==\u001b[39m \u001b[38;5;124m\"\u001b[39m\u001b[38;5;124mignore\u001b[39m\u001b[38;5;124m\"\u001b[39m:\n",
      "File \u001b[1;32mc:\\Users\\pepei\\anaconda3\\Lib\\site-packages\\pandas\\core\\dtypes\\astype.py:184\u001b[0m, in \u001b[0;36mastype_array\u001b[1;34m(values, dtype, copy)\u001b[0m\n\u001b[0;32m    180\u001b[0m     \u001b[38;5;28;01mreturn\u001b[39;00m values\n\u001b[0;32m    182\u001b[0m \u001b[38;5;28;01mif\u001b[39;00m \u001b[38;5;129;01mnot\u001b[39;00m \u001b[38;5;28misinstance\u001b[39m(values, np\u001b[38;5;241m.\u001b[39mndarray):\n\u001b[0;32m    183\u001b[0m     \u001b[38;5;66;03m# i.e. ExtensionArray\u001b[39;00m\n\u001b[1;32m--> 184\u001b[0m     values \u001b[38;5;241m=\u001b[39m values\u001b[38;5;241m.\u001b[39mastype(dtype, copy\u001b[38;5;241m=\u001b[39mcopy)\n\u001b[0;32m    186\u001b[0m \u001b[38;5;28;01melse\u001b[39;00m:\n\u001b[0;32m    187\u001b[0m     values \u001b[38;5;241m=\u001b[39m _astype_nansafe(values, dtype, copy\u001b[38;5;241m=\u001b[39mcopy)\n",
      "File \u001b[1;32mc:\\Users\\pepei\\anaconda3\\Lib\\site-packages\\pandas\\core\\arrays\\datetimes.py:701\u001b[0m, in \u001b[0;36mDatetimeArray.astype\u001b[1;34m(self, dtype, copy)\u001b[0m\n\u001b[0;32m    699\u001b[0m \u001b[38;5;28;01melif\u001b[39;00m is_period_dtype(dtype):\n\u001b[0;32m    700\u001b[0m     \u001b[38;5;28;01mreturn\u001b[39;00m \u001b[38;5;28mself\u001b[39m\u001b[38;5;241m.\u001b[39mto_period(freq\u001b[38;5;241m=\u001b[39mdtype\u001b[38;5;241m.\u001b[39mfreq)\n\u001b[1;32m--> 701\u001b[0m \u001b[38;5;28;01mreturn\u001b[39;00m dtl\u001b[38;5;241m.\u001b[39mDatetimeLikeArrayMixin\u001b[38;5;241m.\u001b[39mastype(\u001b[38;5;28mself\u001b[39m, dtype, copy)\n",
      "File \u001b[1;32mc:\\Users\\pepei\\anaconda3\\Lib\\site-packages\\pandas\\core\\arrays\\datetimelike.py:487\u001b[0m, in \u001b[0;36mDatetimeLikeArrayMixin.astype\u001b[1;34m(self, dtype, copy)\u001b[0m\n\u001b[0;32m    480\u001b[0m \u001b[38;5;28;01melif\u001b[39;00m (\n\u001b[0;32m    481\u001b[0m     is_datetime_or_timedelta_dtype(dtype)\n\u001b[0;32m    482\u001b[0m     \u001b[38;5;129;01mand\u001b[39;00m \u001b[38;5;129;01mnot\u001b[39;00m is_dtype_equal(\u001b[38;5;28mself\u001b[39m\u001b[38;5;241m.\u001b[39mdtype, dtype)\n\u001b[0;32m    483\u001b[0m ) \u001b[38;5;129;01mor\u001b[39;00m is_float_dtype(dtype):\n\u001b[0;32m    484\u001b[0m     \u001b[38;5;66;03m# disallow conversion between datetime/timedelta,\u001b[39;00m\n\u001b[0;32m    485\u001b[0m     \u001b[38;5;66;03m# and conversions for any datetimelike to float\u001b[39;00m\n\u001b[0;32m    486\u001b[0m     msg \u001b[38;5;241m=\u001b[39m \u001b[38;5;124mf\u001b[39m\u001b[38;5;124m\"\u001b[39m\u001b[38;5;124mCannot cast \u001b[39m\u001b[38;5;132;01m{\u001b[39;00m\u001b[38;5;28mtype\u001b[39m(\u001b[38;5;28mself\u001b[39m)\u001b[38;5;241m.\u001b[39m\u001b[38;5;18m__name__\u001b[39m\u001b[38;5;132;01m}\u001b[39;00m\u001b[38;5;124m to dtype \u001b[39m\u001b[38;5;132;01m{\u001b[39;00mdtype\u001b[38;5;132;01m}\u001b[39;00m\u001b[38;5;124m\"\u001b[39m\n\u001b[1;32m--> 487\u001b[0m     \u001b[38;5;28;01mraise\u001b[39;00m \u001b[38;5;167;01mTypeError\u001b[39;00m(msg)\n\u001b[0;32m    488\u001b[0m \u001b[38;5;28;01melse\u001b[39;00m:\n\u001b[0;32m    489\u001b[0m     \u001b[38;5;28;01mreturn\u001b[39;00m np\u001b[38;5;241m.\u001b[39masarray(\u001b[38;5;28mself\u001b[39m, dtype\u001b[38;5;241m=\u001b[39mdtype)\n",
      "\u001b[1;31mTypeError\u001b[0m: Cannot cast DatetimeArray to dtype float32"
     ]
    }
   ],
   "source": [
    "\n",
    "# Entrenar el modelo\n",
    "modelo = RandomForestClassifier()\n",
    "modelo.fit(X_train, y_train)\n",
    "\n",
    "# Generar predicciones\n",
    "predicciones = modelo.predict(X_test)\n",
    "\n",
    "# Convertir predicciones y valores reales a listas de listas para MAP@7\n",
    "y_test_list = [list(np.where(row == 1)[0] + 1) for row in y_test.values]\n",
    "predicciones_list = [list(np.argsort(row)[-7:][::-1] + 1) for row in predicciones]\n",
    "\n",
    "# Calcular MAP@7\n",
    "score = mapk(y_test_list, predicciones_list, 7)\n",
    "print(f'MAP@7 Score: {score}')"
   ]
  }
 ],
 "metadata": {
  "kernelspec": {
   "display_name": "base",
   "language": "python",
   "name": "python3"
  },
  "language_info": {
   "codemirror_mode": {
    "name": "ipython",
    "version": 3
   },
   "file_extension": ".py",
   "mimetype": "text/x-python",
   "name": "python",
   "nbconvert_exporter": "python",
   "pygments_lexer": "ipython3",
   "version": "3.11.5"
  }
 },
 "nbformat": 4,
 "nbformat_minor": 2
}
