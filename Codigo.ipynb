{
 "cells": [
  {
   "cell_type": "markdown",
   "metadata": {},
   "source": [
    "Cristobal Gomez y Pepe López "
   ]
  },
  {
   "cell_type": "markdown",
   "metadata": {},
   "source": [
    "# Proyecto de predicción de contratación de productos para clientes de un banco"
   ]
  },
  {
   "cell_type": "markdown",
   "metadata": {},
   "source": [
    "## Importe de librerias"
   ]
  },
  {
   "cell_type": "code",
   "execution_count": 1,
   "metadata": {
    "ExecuteTime": {
     "end_time": "2024-06-09T01:16:22.773717600Z",
     "start_time": "2024-06-09T01:16:20.669640500Z"
    }
   },
   "outputs": [],
   "source": [
    "import pandas as pd\n",
    "from sklearn.model_selection import train_test_split\n",
    "from sklearn.ensemble import RandomForestClassifier\n",
    "from sklearn.metrics import average_precision_score\n",
    "import matplotlib.pyplot as plt\n",
    "import numpy as np\n",
    "from scoring import mapk, apk\n"
   ]
  },
  {
   "cell_type": "markdown",
   "metadata": {},
   "source": [
    "## 1. Importación y Exploración Inicial de los Datos\n"
   ]
  },
  {
   "cell_type": "markdown",
   "metadata": {},
   "source": [
    "### 1.1. Importación de los Datos"
   ]
  },
  {
   "cell_type": "code",
   "execution_count": 2,
   "metadata": {
    "ExecuteTime": {
     "end_time": "2024-06-09T01:16:26.474893500Z",
     "start_time": "2024-06-09T01:16:22.687359Z"
    }
   },
   "outputs": [
    {
     "name": "stderr",
     "output_type": "stream",
     "text": [
      "C:\\Users\\pepei\\AppData\\Local\\Temp\\ipykernel_24400\\4278556622.py:2: DtypeWarning: Columns (5,9,11) have mixed types. Specify dtype option on import or set low_memory=False.\n",
      "  dataset = pd.read_csv('dataset_para_modelar.csv')\n"
     ]
    }
   ],
   "source": [
    "# Cargar datos\n",
    "dataset = pd.read_csv('dataset_para_modelar.csv')"
   ]
  },
  {
   "cell_type": "markdown",
   "metadata": {},
   "source": [
    "### 1.2. Exploración Inicial\n"
   ]
  },
  {
   "cell_type": "markdown",
   "metadata": {},
   "source": [
    "Mostrar información básica del dataset\n"
   ]
  },
  {
   "cell_type": "code",
   "execution_count": 3,
   "metadata": {
    "ExecuteTime": {
     "end_time": "2024-06-09T01:16:26.724270900Z",
     "start_time": "2024-06-09T01:16:26.289408300Z"
    }
   },
   "outputs": [
    {
     "name": "stdout",
     "output_type": "stream",
     "text": [
      "<class 'pandas.core.frame.DataFrame'>\n",
      "RangeIndex: 634682 entries, 0 to 634681\n",
      "Data columns (total 49 columns):\n",
      " #   Column                 Non-Null Count   Dtype  \n",
      "---  ------                 --------------   -----  \n",
      " 0   Unnamed: 0             634682 non-null  int64  \n",
      " 1   cod_persona            634682 non-null  int64  \n",
      " 2   mes                    634682 non-null  object \n",
      " 3   pais                   634626 non-null  object \n",
      " 4   sexo                   634617 non-null  object \n",
      " 5   edad                   634682 non-null  object \n",
      " 6   fecha1                 634626 non-null  object \n",
      " 7   xti_empleado           634626 non-null  object \n",
      " 8   xti_nuevo_cliente      634626 non-null  float64\n",
      " 9   num_antiguedad         634682 non-null  object \n",
      " 10  xti_rel                634626 non-null  float64\n",
      " 11  fec_ult_cli_1t         36 non-null      object \n",
      " 12  xti_rel_1mes           629040 non-null  float64\n",
      " 13  tip_rel_1mes           629040 non-null  object \n",
      " 14  indresi                634626 non-null  object \n",
      " 15  indext                 634626 non-null  object \n",
      " 16  des_canal              627504 non-null  object \n",
      " 17  xti_extra              634626 non-null  object \n",
      " 18  tip_dom                634626 non-null  float64\n",
      " 19  cod_provincia          631736 non-null  float64\n",
      " 20  xti_actividad_cliente  634626 non-null  float64\n",
      " 21  imp_renta              510518 non-null  float64\n",
      " 22  id_segmento            627279 non-null  object \n",
      " 23  mean_engagement        629040 non-null  float64\n",
      " 24  ind_prod1              634682 non-null  int64  \n",
      " 25  ind_prod2              634682 non-null  int64  \n",
      " 26  ind_prod3              634682 non-null  int64  \n",
      " 27  ind_prod4              634682 non-null  int64  \n",
      " 28  ind_prod5              634682 non-null  int64  \n",
      " 29  ind_prod6              634682 non-null  int64  \n",
      " 30  ind_prod7              634682 non-null  int64  \n",
      " 31  ind_prod8              634682 non-null  int64  \n",
      " 32  ind_prod9              634682 non-null  int64  \n",
      " 33  ind_prod10             634682 non-null  int64  \n",
      " 34  ind_prod11             634682 non-null  int64  \n",
      " 35  ind_prod12             634682 non-null  int64  \n",
      " 36  ind_prod13             634682 non-null  int64  \n",
      " 37  ind_prod14             634682 non-null  int64  \n",
      " 38  ind_prod15             634682 non-null  int64  \n",
      " 39  ind_prod16             634682 non-null  int64  \n",
      " 40  ind_prod17             634682 non-null  int64  \n",
      " 41  ind_prod18             634682 non-null  int64  \n",
      " 42  ind_prod19             634682 non-null  int64  \n",
      " 43  ind_prod20             634682 non-null  int64  \n",
      " 44  ind_prod21             634682 non-null  int64  \n",
      " 45  ind_prod22             634651 non-null  float64\n",
      " 46  ind_prod23             634651 non-null  float64\n",
      " 47  ind_prod24             634682 non-null  int64  \n",
      " 48  ind_prod25             634682 non-null  int64  \n",
      "dtypes: float64(10), int64(25), object(14)\n",
      "memory usage: 237.3+ MB\n"
     ]
    }
   ],
   "source": [
    "dataset.info()"
   ]
  },
  {
   "cell_type": "markdown",
   "metadata": {},
   "source": [
    "Descripcion de las principales metricas de cada variable"
   ]
  },
  {
   "cell_type": "code",
   "execution_count": 4,
   "metadata": {
    "ExecuteTime": {
     "end_time": "2024-06-09T01:16:27.704472900Z",
     "start_time": "2024-06-09T01:16:26.652218500Z"
    }
   },
   "outputs": [
    {
     "data": {
      "text/html": [
       "<div>\n",
       "<style scoped>\n",
       "    .dataframe tbody tr th:only-of-type {\n",
       "        vertical-align: middle;\n",
       "    }\n",
       "\n",
       "    .dataframe tbody tr th {\n",
       "        vertical-align: top;\n",
       "    }\n",
       "\n",
       "    .dataframe thead th {\n",
       "        text-align: right;\n",
       "    }\n",
       "</style>\n",
       "<table border=\"1\" class=\"dataframe\">\n",
       "  <thead>\n",
       "    <tr style=\"text-align: right;\">\n",
       "      <th></th>\n",
       "      <th>Unnamed: 0</th>\n",
       "      <th>cod_persona</th>\n",
       "      <th>xti_nuevo_cliente</th>\n",
       "      <th>xti_rel</th>\n",
       "      <th>xti_rel_1mes</th>\n",
       "      <th>tip_dom</th>\n",
       "      <th>cod_provincia</th>\n",
       "      <th>xti_actividad_cliente</th>\n",
       "      <th>imp_renta</th>\n",
       "      <th>mean_engagement</th>\n",
       "      <th>...</th>\n",
       "      <th>ind_prod16</th>\n",
       "      <th>ind_prod17</th>\n",
       "      <th>ind_prod18</th>\n",
       "      <th>ind_prod19</th>\n",
       "      <th>ind_prod20</th>\n",
       "      <th>ind_prod21</th>\n",
       "      <th>ind_prod22</th>\n",
       "      <th>ind_prod23</th>\n",
       "      <th>ind_prod24</th>\n",
       "      <th>ind_prod25</th>\n",
       "    </tr>\n",
       "  </thead>\n",
       "  <tbody>\n",
       "    <tr>\n",
       "      <th>count</th>\n",
       "      <td>634682.000000</td>\n",
       "      <td>6.346820e+05</td>\n",
       "      <td>634626.000000</td>\n",
       "      <td>634626.000000</td>\n",
       "      <td>629040.000000</td>\n",
       "      <td>634626.0</td>\n",
       "      <td>631736.000000</td>\n",
       "      <td>634626.000000</td>\n",
       "      <td>5.105180e+05</td>\n",
       "      <td>629040.000000</td>\n",
       "      <td>...</td>\n",
       "      <td>634682.000000</td>\n",
       "      <td>634682.000000</td>\n",
       "      <td>634682.000000</td>\n",
       "      <td>634682.000000</td>\n",
       "      <td>634682.000000</td>\n",
       "      <td>634682.000000</td>\n",
       "      <td>634651.000000</td>\n",
       "      <td>634651.000000</td>\n",
       "      <td>634682.000000</td>\n",
       "      <td>634682.000000</td>\n",
       "    </tr>\n",
       "    <tr>\n",
       "      <th>mean</th>\n",
       "      <td>321920.356254</td>\n",
       "      <td>7.217769e+05</td>\n",
       "      <td>0.059846</td>\n",
       "      <td>1.005559</td>\n",
       "      <td>1.000587</td>\n",
       "      <td>1.0</td>\n",
       "      <td>26.598741</td>\n",
       "      <td>0.459126</td>\n",
       "      <td>1.367071e+05</td>\n",
       "      <td>6.425623</td>\n",
       "      <td>...</td>\n",
       "      <td>0.009263</td>\n",
       "      <td>0.002718</td>\n",
       "      <td>0.053576</td>\n",
       "      <td>0.045505</td>\n",
       "      <td>0.026503</td>\n",
       "      <td>0.003756</td>\n",
       "      <td>0.055561</td>\n",
       "      <td>0.060295</td>\n",
       "      <td>0.128827</td>\n",
       "      <td>0.065876</td>\n",
       "    </tr>\n",
       "    <tr>\n",
       "      <th>std</th>\n",
       "      <td>185232.719038</td>\n",
       "      <td>4.290892e+05</td>\n",
       "      <td>0.237202</td>\n",
       "      <td>0.738085</td>\n",
       "      <td>0.036560</td>\n",
       "      <td>0.0</td>\n",
       "      <td>12.777667</td>\n",
       "      <td>0.498327</td>\n",
       "      <td>3.339545e+05</td>\n",
       "      <td>1.345879</td>\n",
       "      <td>...</td>\n",
       "      <td>0.095797</td>\n",
       "      <td>0.052063</td>\n",
       "      <td>0.225180</td>\n",
       "      <td>0.208408</td>\n",
       "      <td>0.160626</td>\n",
       "      <td>0.061173</td>\n",
       "      <td>0.229073</td>\n",
       "      <td>0.238032</td>\n",
       "      <td>0.335008</td>\n",
       "      <td>0.248065</td>\n",
       "    </tr>\n",
       "    <tr>\n",
       "      <th>min</th>\n",
       "      <td>0.000000</td>\n",
       "      <td>5.514000e+03</td>\n",
       "      <td>0.000000</td>\n",
       "      <td>1.000000</td>\n",
       "      <td>0.000000</td>\n",
       "      <td>1.0</td>\n",
       "      <td>1.000000</td>\n",
       "      <td>0.000000</td>\n",
       "      <td>4.559550e+03</td>\n",
       "      <td>0.218520</td>\n",
       "      <td>...</td>\n",
       "      <td>0.000000</td>\n",
       "      <td>0.000000</td>\n",
       "      <td>0.000000</td>\n",
       "      <td>0.000000</td>\n",
       "      <td>0.000000</td>\n",
       "      <td>0.000000</td>\n",
       "      <td>0.000000</td>\n",
       "      <td>0.000000</td>\n",
       "      <td>0.000000</td>\n",
       "      <td>0.000000</td>\n",
       "    </tr>\n",
       "    <tr>\n",
       "      <th>25%</th>\n",
       "      <td>161691.250000</td>\n",
       "      <td>3.584120e+05</td>\n",
       "      <td>0.000000</td>\n",
       "      <td>1.000000</td>\n",
       "      <td>1.000000</td>\n",
       "      <td>1.0</td>\n",
       "      <td>15.000000</td>\n",
       "      <td>0.000000</td>\n",
       "      <td>6.821148e+04</td>\n",
       "      <td>5.117500</td>\n",
       "      <td>...</td>\n",
       "      <td>0.000000</td>\n",
       "      <td>0.000000</td>\n",
       "      <td>0.000000</td>\n",
       "      <td>0.000000</td>\n",
       "      <td>0.000000</td>\n",
       "      <td>0.000000</td>\n",
       "      <td>0.000000</td>\n",
       "      <td>0.000000</td>\n",
       "      <td>0.000000</td>\n",
       "      <td>0.000000</td>\n",
       "    </tr>\n",
       "    <tr>\n",
       "      <th>50%</th>\n",
       "      <td>322352.500000</td>\n",
       "      <td>6.230450e+05</td>\n",
       "      <td>0.000000</td>\n",
       "      <td>1.000000</td>\n",
       "      <td>1.000000</td>\n",
       "      <td>1.0</td>\n",
       "      <td>28.000000</td>\n",
       "      <td>0.000000</td>\n",
       "      <td>1.012905e+05</td>\n",
       "      <td>6.463518</td>\n",
       "      <td>...</td>\n",
       "      <td>0.000000</td>\n",
       "      <td>0.000000</td>\n",
       "      <td>0.000000</td>\n",
       "      <td>0.000000</td>\n",
       "      <td>0.000000</td>\n",
       "      <td>0.000000</td>\n",
       "      <td>0.000000</td>\n",
       "      <td>0.000000</td>\n",
       "      <td>0.000000</td>\n",
       "      <td>0.000000</td>\n",
       "    </tr>\n",
       "    <tr>\n",
       "      <th>75%</th>\n",
       "      <td>482540.750000</td>\n",
       "      <td>1.102693e+06</td>\n",
       "      <td>0.000000</td>\n",
       "      <td>1.000000</td>\n",
       "      <td>1.000000</td>\n",
       "      <td>1.0</td>\n",
       "      <td>35.000000</td>\n",
       "      <td>1.000000</td>\n",
       "      <td>1.566742e+05</td>\n",
       "      <td>7.359949</td>\n",
       "      <td>...</td>\n",
       "      <td>0.000000</td>\n",
       "      <td>0.000000</td>\n",
       "      <td>0.000000</td>\n",
       "      <td>0.000000</td>\n",
       "      <td>0.000000</td>\n",
       "      <td>0.000000</td>\n",
       "      <td>0.000000</td>\n",
       "      <td>0.000000</td>\n",
       "      <td>0.000000</td>\n",
       "      <td>0.000000</td>\n",
       "    </tr>\n",
       "    <tr>\n",
       "      <th>max</th>\n",
       "      <td>641706.000000</td>\n",
       "      <td>1.537800e+06</td>\n",
       "      <td>1.000000</td>\n",
       "      <td>99.000000</td>\n",
       "      <td>4.000000</td>\n",
       "      <td>1.0</td>\n",
       "      <td>52.000000</td>\n",
       "      <td>1.000000</td>\n",
       "      <td>2.889440e+07</td>\n",
       "      <td>38.793123</td>\n",
       "      <td>...</td>\n",
       "      <td>1.000000</td>\n",
       "      <td>1.000000</td>\n",
       "      <td>1.000000</td>\n",
       "      <td>1.000000</td>\n",
       "      <td>1.000000</td>\n",
       "      <td>1.000000</td>\n",
       "      <td>1.000000</td>\n",
       "      <td>1.000000</td>\n",
       "      <td>1.000000</td>\n",
       "      <td>1.000000</td>\n",
       "    </tr>\n",
       "  </tbody>\n",
       "</table>\n",
       "<p>8 rows × 35 columns</p>\n",
       "</div>"
      ],
      "text/plain": [
       "          Unnamed: 0   cod_persona  xti_nuevo_cliente        xti_rel  \\\n",
       "count  634682.000000  6.346820e+05      634626.000000  634626.000000   \n",
       "mean   321920.356254  7.217769e+05           0.059846       1.005559   \n",
       "std    185232.719038  4.290892e+05           0.237202       0.738085   \n",
       "min         0.000000  5.514000e+03           0.000000       1.000000   \n",
       "25%    161691.250000  3.584120e+05           0.000000       1.000000   \n",
       "50%    322352.500000  6.230450e+05           0.000000       1.000000   \n",
       "75%    482540.750000  1.102693e+06           0.000000       1.000000   \n",
       "max    641706.000000  1.537800e+06           1.000000      99.000000   \n",
       "\n",
       "        xti_rel_1mes   tip_dom  cod_provincia  xti_actividad_cliente  \\\n",
       "count  629040.000000  634626.0  631736.000000          634626.000000   \n",
       "mean        1.000587       1.0      26.598741               0.459126   \n",
       "std         0.036560       0.0      12.777667               0.498327   \n",
       "min         0.000000       1.0       1.000000               0.000000   \n",
       "25%         1.000000       1.0      15.000000               0.000000   \n",
       "50%         1.000000       1.0      28.000000               0.000000   \n",
       "75%         1.000000       1.0      35.000000               1.000000   \n",
       "max         4.000000       1.0      52.000000               1.000000   \n",
       "\n",
       "          imp_renta  mean_engagement  ...     ind_prod16     ind_prod17  \\\n",
       "count  5.105180e+05    629040.000000  ...  634682.000000  634682.000000   \n",
       "mean   1.367071e+05         6.425623  ...       0.009263       0.002718   \n",
       "std    3.339545e+05         1.345879  ...       0.095797       0.052063   \n",
       "min    4.559550e+03         0.218520  ...       0.000000       0.000000   \n",
       "25%    6.821148e+04         5.117500  ...       0.000000       0.000000   \n",
       "50%    1.012905e+05         6.463518  ...       0.000000       0.000000   \n",
       "75%    1.566742e+05         7.359949  ...       0.000000       0.000000   \n",
       "max    2.889440e+07        38.793123  ...       1.000000       1.000000   \n",
       "\n",
       "          ind_prod18     ind_prod19     ind_prod20     ind_prod21  \\\n",
       "count  634682.000000  634682.000000  634682.000000  634682.000000   \n",
       "mean        0.053576       0.045505       0.026503       0.003756   \n",
       "std         0.225180       0.208408       0.160626       0.061173   \n",
       "min         0.000000       0.000000       0.000000       0.000000   \n",
       "25%         0.000000       0.000000       0.000000       0.000000   \n",
       "50%         0.000000       0.000000       0.000000       0.000000   \n",
       "75%         0.000000       0.000000       0.000000       0.000000   \n",
       "max         1.000000       1.000000       1.000000       1.000000   \n",
       "\n",
       "          ind_prod22     ind_prod23     ind_prod24     ind_prod25  \n",
       "count  634651.000000  634651.000000  634682.000000  634682.000000  \n",
       "mean        0.055561       0.060295       0.128827       0.065876  \n",
       "std         0.229073       0.238032       0.335008       0.248065  \n",
       "min         0.000000       0.000000       0.000000       0.000000  \n",
       "25%         0.000000       0.000000       0.000000       0.000000  \n",
       "50%         0.000000       0.000000       0.000000       0.000000  \n",
       "75%         0.000000       0.000000       0.000000       0.000000  \n",
       "max         1.000000       1.000000       1.000000       1.000000  \n",
       "\n",
       "[8 rows x 35 columns]"
      ]
     },
     "execution_count": 4,
     "metadata": {},
     "output_type": "execute_result"
    }
   ],
   "source": [
    "dataset.describe()"
   ]
  },
  {
   "cell_type": "markdown",
   "metadata": {},
   "source": [
    "Primera visualizacion de las variables"
   ]
  },
  {
   "cell_type": "code",
   "execution_count": 5,
   "metadata": {
    "ExecuteTime": {
     "end_time": "2024-06-09T01:16:27.843101300Z",
     "start_time": "2024-06-09T01:16:27.617829500Z"
    }
   },
   "outputs": [
    {
     "data": {
      "text/html": [
       "<div>\n",
       "<style scoped>\n",
       "    .dataframe tbody tr th:only-of-type {\n",
       "        vertical-align: middle;\n",
       "    }\n",
       "\n",
       "    .dataframe tbody tr th {\n",
       "        vertical-align: top;\n",
       "    }\n",
       "\n",
       "    .dataframe thead th {\n",
       "        text-align: right;\n",
       "    }\n",
       "</style>\n",
       "<table border=\"1\" class=\"dataframe\">\n",
       "  <thead>\n",
       "    <tr style=\"text-align: right;\">\n",
       "      <th></th>\n",
       "      <th>Unnamed: 0</th>\n",
       "      <th>cod_persona</th>\n",
       "      <th>mes</th>\n",
       "      <th>pais</th>\n",
       "      <th>sexo</th>\n",
       "      <th>edad</th>\n",
       "      <th>fecha1</th>\n",
       "      <th>xti_empleado</th>\n",
       "      <th>xti_nuevo_cliente</th>\n",
       "      <th>num_antiguedad</th>\n",
       "      <th>...</th>\n",
       "      <th>ind_prod16</th>\n",
       "      <th>ind_prod17</th>\n",
       "      <th>ind_prod18</th>\n",
       "      <th>ind_prod19</th>\n",
       "      <th>ind_prod20</th>\n",
       "      <th>ind_prod21</th>\n",
       "      <th>ind_prod22</th>\n",
       "      <th>ind_prod23</th>\n",
       "      <th>ind_prod24</th>\n",
       "      <th>ind_prod25</th>\n",
       "    </tr>\n",
       "  </thead>\n",
       "  <tbody>\n",
       "    <tr>\n",
       "      <th>0</th>\n",
       "      <td>0</td>\n",
       "      <td>178103</td>\n",
       "      <td>2015-01-28</td>\n",
       "      <td>ES</td>\n",
       "      <td>H</td>\n",
       "      <td>35</td>\n",
       "      <td>2015-01-12</td>\n",
       "      <td>N</td>\n",
       "      <td>0.0</td>\n",
       "      <td>6</td>\n",
       "      <td>...</td>\n",
       "      <td>0</td>\n",
       "      <td>0</td>\n",
       "      <td>0</td>\n",
       "      <td>0</td>\n",
       "      <td>0</td>\n",
       "      <td>0</td>\n",
       "      <td>0.0</td>\n",
       "      <td>0.0</td>\n",
       "      <td>0</td>\n",
       "      <td>0</td>\n",
       "    </tr>\n",
       "    <tr>\n",
       "      <th>1</th>\n",
       "      <td>1</td>\n",
       "      <td>503082</td>\n",
       "      <td>2015-01-28</td>\n",
       "      <td>ES</td>\n",
       "      <td>V</td>\n",
       "      <td>27</td>\n",
       "      <td>2012-08-10</td>\n",
       "      <td>N</td>\n",
       "      <td>0.0</td>\n",
       "      <td>35</td>\n",
       "      <td>...</td>\n",
       "      <td>0</td>\n",
       "      <td>0</td>\n",
       "      <td>0</td>\n",
       "      <td>0</td>\n",
       "      <td>0</td>\n",
       "      <td>0</td>\n",
       "      <td>0.0</td>\n",
       "      <td>0.0</td>\n",
       "      <td>0</td>\n",
       "      <td>0</td>\n",
       "    </tr>\n",
       "    <tr>\n",
       "      <th>2</th>\n",
       "      <td>2</td>\n",
       "      <td>502996</td>\n",
       "      <td>2015-01-28</td>\n",
       "      <td>ES</td>\n",
       "      <td>V</td>\n",
       "      <td>37</td>\n",
       "      <td>2012-08-10</td>\n",
       "      <td>N</td>\n",
       "      <td>0.0</td>\n",
       "      <td>35</td>\n",
       "      <td>...</td>\n",
       "      <td>0</td>\n",
       "      <td>0</td>\n",
       "      <td>0</td>\n",
       "      <td>0</td>\n",
       "      <td>0</td>\n",
       "      <td>0</td>\n",
       "      <td>0.0</td>\n",
       "      <td>0.0</td>\n",
       "      <td>0</td>\n",
       "      <td>0</td>\n",
       "    </tr>\n",
       "    <tr>\n",
       "      <th>3</th>\n",
       "      <td>3</td>\n",
       "      <td>503053</td>\n",
       "      <td>2015-01-28</td>\n",
       "      <td>ES</td>\n",
       "      <td>H</td>\n",
       "      <td>23</td>\n",
       "      <td>2012-08-10</td>\n",
       "      <td>N</td>\n",
       "      <td>0.0</td>\n",
       "      <td>35</td>\n",
       "      <td>...</td>\n",
       "      <td>0</td>\n",
       "      <td>0</td>\n",
       "      <td>0</td>\n",
       "      <td>0</td>\n",
       "      <td>0</td>\n",
       "      <td>0</td>\n",
       "      <td>0.0</td>\n",
       "      <td>0.0</td>\n",
       "      <td>1</td>\n",
       "      <td>0</td>\n",
       "    </tr>\n",
       "    <tr>\n",
       "      <th>4</th>\n",
       "      <td>4</td>\n",
       "      <td>503031</td>\n",
       "      <td>2015-01-28</td>\n",
       "      <td>ES</td>\n",
       "      <td>H</td>\n",
       "      <td>44</td>\n",
       "      <td>2012-08-10</td>\n",
       "      <td>N</td>\n",
       "      <td>0.0</td>\n",
       "      <td>35</td>\n",
       "      <td>...</td>\n",
       "      <td>0</td>\n",
       "      <td>0</td>\n",
       "      <td>0</td>\n",
       "      <td>0</td>\n",
       "      <td>0</td>\n",
       "      <td>0</td>\n",
       "      <td>0.0</td>\n",
       "      <td>0.0</td>\n",
       "      <td>0</td>\n",
       "      <td>0</td>\n",
       "    </tr>\n",
       "    <tr>\n",
       "      <th>5</th>\n",
       "      <td>5</td>\n",
       "      <td>503112</td>\n",
       "      <td>2015-01-28</td>\n",
       "      <td>ES</td>\n",
       "      <td>H</td>\n",
       "      <td>23</td>\n",
       "      <td>2012-08-10</td>\n",
       "      <td>N</td>\n",
       "      <td>0.0</td>\n",
       "      <td>35</td>\n",
       "      <td>...</td>\n",
       "      <td>0</td>\n",
       "      <td>0</td>\n",
       "      <td>0</td>\n",
       "      <td>0</td>\n",
       "      <td>0</td>\n",
       "      <td>0</td>\n",
       "      <td>0.0</td>\n",
       "      <td>0.0</td>\n",
       "      <td>0</td>\n",
       "      <td>0</td>\n",
       "    </tr>\n",
       "    <tr>\n",
       "      <th>6</th>\n",
       "      <td>6</td>\n",
       "      <td>503163</td>\n",
       "      <td>2015-01-28</td>\n",
       "      <td>ES</td>\n",
       "      <td>V</td>\n",
       "      <td>22</td>\n",
       "      <td>2012-08-10</td>\n",
       "      <td>N</td>\n",
       "      <td>0.0</td>\n",
       "      <td>35</td>\n",
       "      <td>...</td>\n",
       "      <td>0</td>\n",
       "      <td>0</td>\n",
       "      <td>0</td>\n",
       "      <td>0</td>\n",
       "      <td>0</td>\n",
       "      <td>0</td>\n",
       "      <td>0.0</td>\n",
       "      <td>0.0</td>\n",
       "      <td>0</td>\n",
       "      <td>0</td>\n",
       "    </tr>\n",
       "    <tr>\n",
       "      <th>7</th>\n",
       "      <td>7</td>\n",
       "      <td>503154</td>\n",
       "      <td>2015-01-28</td>\n",
       "      <td>ES</td>\n",
       "      <td>H</td>\n",
       "      <td>23</td>\n",
       "      <td>2012-08-10</td>\n",
       "      <td>N</td>\n",
       "      <td>0.0</td>\n",
       "      <td>35</td>\n",
       "      <td>...</td>\n",
       "      <td>0</td>\n",
       "      <td>0</td>\n",
       "      <td>0</td>\n",
       "      <td>0</td>\n",
       "      <td>0</td>\n",
       "      <td>0</td>\n",
       "      <td>0.0</td>\n",
       "      <td>0.0</td>\n",
       "      <td>0</td>\n",
       "      <td>0</td>\n",
       "    </tr>\n",
       "    <tr>\n",
       "      <th>8</th>\n",
       "      <td>8</td>\n",
       "      <td>503142</td>\n",
       "      <td>2015-01-28</td>\n",
       "      <td>ES</td>\n",
       "      <td>H</td>\n",
       "      <td>23</td>\n",
       "      <td>2012-08-10</td>\n",
       "      <td>N</td>\n",
       "      <td>0.0</td>\n",
       "      <td>35</td>\n",
       "      <td>...</td>\n",
       "      <td>0</td>\n",
       "      <td>0</td>\n",
       "      <td>0</td>\n",
       "      <td>0</td>\n",
       "      <td>0</td>\n",
       "      <td>0</td>\n",
       "      <td>0.0</td>\n",
       "      <td>0.0</td>\n",
       "      <td>0</td>\n",
       "      <td>0</td>\n",
       "    </tr>\n",
       "    <tr>\n",
       "      <th>9</th>\n",
       "      <td>9</td>\n",
       "      <td>502804</td>\n",
       "      <td>2015-01-28</td>\n",
       "      <td>ES</td>\n",
       "      <td>H</td>\n",
       "      <td>24</td>\n",
       "      <td>2012-08-10</td>\n",
       "      <td>N</td>\n",
       "      <td>0.0</td>\n",
       "      <td>35</td>\n",
       "      <td>...</td>\n",
       "      <td>0</td>\n",
       "      <td>0</td>\n",
       "      <td>0</td>\n",
       "      <td>0</td>\n",
       "      <td>0</td>\n",
       "      <td>0</td>\n",
       "      <td>0.0</td>\n",
       "      <td>0.0</td>\n",
       "      <td>0</td>\n",
       "      <td>0</td>\n",
       "    </tr>\n",
       "  </tbody>\n",
       "</table>\n",
       "<p>10 rows × 49 columns</p>\n",
       "</div>"
      ],
      "text/plain": [
       "   Unnamed: 0  cod_persona         mes pais sexo edad      fecha1  \\\n",
       "0           0       178103  2015-01-28   ES    H   35  2015-01-12   \n",
       "1           1       503082  2015-01-28   ES    V   27  2012-08-10   \n",
       "2           2       502996  2015-01-28   ES    V   37  2012-08-10   \n",
       "3           3       503053  2015-01-28   ES    H   23  2012-08-10   \n",
       "4           4       503031  2015-01-28   ES    H   44  2012-08-10   \n",
       "5           5       503112  2015-01-28   ES    H   23  2012-08-10   \n",
       "6           6       503163  2015-01-28   ES    V   22  2012-08-10   \n",
       "7           7       503154  2015-01-28   ES    H   23  2012-08-10   \n",
       "8           8       503142  2015-01-28   ES    H   23  2012-08-10   \n",
       "9           9       502804  2015-01-28   ES    H   24  2012-08-10   \n",
       "\n",
       "  xti_empleado  xti_nuevo_cliente num_antiguedad  ...  ind_prod16 ind_prod17  \\\n",
       "0            N                0.0              6  ...           0          0   \n",
       "1            N                0.0             35  ...           0          0   \n",
       "2            N                0.0             35  ...           0          0   \n",
       "3            N                0.0             35  ...           0          0   \n",
       "4            N                0.0             35  ...           0          0   \n",
       "5            N                0.0             35  ...           0          0   \n",
       "6            N                0.0             35  ...           0          0   \n",
       "7            N                0.0             35  ...           0          0   \n",
       "8            N                0.0             35  ...           0          0   \n",
       "9            N                0.0             35  ...           0          0   \n",
       "\n",
       "   ind_prod18 ind_prod19 ind_prod20 ind_prod21 ind_prod22 ind_prod23  \\\n",
       "0           0          0          0          0        0.0        0.0   \n",
       "1           0          0          0          0        0.0        0.0   \n",
       "2           0          0          0          0        0.0        0.0   \n",
       "3           0          0          0          0        0.0        0.0   \n",
       "4           0          0          0          0        0.0        0.0   \n",
       "5           0          0          0          0        0.0        0.0   \n",
       "6           0          0          0          0        0.0        0.0   \n",
       "7           0          0          0          0        0.0        0.0   \n",
       "8           0          0          0          0        0.0        0.0   \n",
       "9           0          0          0          0        0.0        0.0   \n",
       "\n",
       "   ind_prod24  ind_prod25  \n",
       "0           0           0  \n",
       "1           0           0  \n",
       "2           0           0  \n",
       "3           1           0  \n",
       "4           0           0  \n",
       "5           0           0  \n",
       "6           0           0  \n",
       "7           0           0  \n",
       "8           0           0  \n",
       "9           0           0  \n",
       "\n",
       "[10 rows x 49 columns]"
      ]
     },
     "execution_count": 5,
     "metadata": {},
     "output_type": "execute_result"
    }
   ],
   "source": [
    "dataset.head(10)"
   ]
  },
  {
   "cell_type": "markdown",
   "metadata": {},
   "source": [
    "## 2. Limpieza de Datos\n"
   ]
  },
  {
   "cell_type": "code",
   "execution_count": 6,
   "metadata": {
    "ExecuteTime": {
     "end_time": "2024-06-09T01:16:27.872817800Z",
     "start_time": "2024-06-09T01:16:27.647363100Z"
    }
   },
   "outputs": [
    {
     "data": {
      "text/plain": [
       "Index(['Unnamed: 0', 'cod_persona', 'mes', 'pais', 'sexo', 'edad', 'fecha1',\n",
       "       'xti_empleado', 'xti_nuevo_cliente', 'num_antiguedad', 'xti_rel',\n",
       "       'fec_ult_cli_1t', 'xti_rel_1mes', 'tip_rel_1mes', 'indresi', 'indext',\n",
       "       'des_canal', 'xti_extra', 'tip_dom', 'cod_provincia',\n",
       "       'xti_actividad_cliente', 'imp_renta', 'id_segmento', 'mean_engagement',\n",
       "       'ind_prod1', 'ind_prod2', 'ind_prod3', 'ind_prod4', 'ind_prod5',\n",
       "       'ind_prod6', 'ind_prod7', 'ind_prod8', 'ind_prod9', 'ind_prod10',\n",
       "       'ind_prod11', 'ind_prod12', 'ind_prod13', 'ind_prod14', 'ind_prod15',\n",
       "       'ind_prod16', 'ind_prod17', 'ind_prod18', 'ind_prod19', 'ind_prod20',\n",
       "       'ind_prod21', 'ind_prod22', 'ind_prod23', 'ind_prod24', 'ind_prod25'],\n",
       "      dtype='object')"
      ]
     },
     "execution_count": 6,
     "metadata": {},
     "output_type": "execute_result"
    }
   ],
   "source": [
    "dataset.columns"
   ]
  },
  {
   "cell_type": "markdown",
   "metadata": {},
   "source": []
  },
  {
   "cell_type": "markdown",
   "metadata": {},
   "source": [
    "### Unnamed: 0\n",
    "Index"
   ]
  },
  {
   "cell_type": "code",
   "execution_count": 7,
   "metadata": {
    "ExecuteTime": {
     "end_time": "2024-06-09T01:16:28.055127400Z",
     "start_time": "2024-06-09T01:16:27.665391100Z"
    }
   },
   "outputs": [],
   "source": [
    "#Dropeamos el indice:\n",
    "dataset.drop(columns=['Unnamed: 0'], inplace=True)"
   ]
  },
  {
   "cell_type": "markdown",
   "metadata": {},
   "source": [
    "### Cod_persona\n",
    "Customer\tcode"
   ]
  },
  {
   "cell_type": "code",
   "execution_count": 8,
   "metadata": {
    "ExecuteTime": {
     "end_time": "2024-06-09T01:16:28.258553Z",
     "start_time": "2024-06-09T01:16:27.786418200Z"
    }
   },
   "outputs": [
    {
     "data": {
      "text/html": [
       "<div>\n",
       "<style scoped>\n",
       "    .dataframe tbody tr th:only-of-type {\n",
       "        vertical-align: middle;\n",
       "    }\n",
       "\n",
       "    .dataframe tbody tr th {\n",
       "        vertical-align: top;\n",
       "    }\n",
       "\n",
       "    .dataframe thead th {\n",
       "        text-align: right;\n",
       "    }\n",
       "</style>\n",
       "<table border=\"1\" class=\"dataframe\">\n",
       "  <thead>\n",
       "    <tr style=\"text-align: right;\">\n",
       "      <th></th>\n",
       "      <th>cod_persona</th>\n",
       "      <th>mes</th>\n",
       "      <th>pais</th>\n",
       "      <th>sexo</th>\n",
       "      <th>edad</th>\n",
       "      <th>fecha1</th>\n",
       "      <th>xti_empleado</th>\n",
       "      <th>xti_nuevo_cliente</th>\n",
       "      <th>num_antiguedad</th>\n",
       "      <th>xti_rel</th>\n",
       "      <th>...</th>\n",
       "      <th>ind_prod16</th>\n",
       "      <th>ind_prod17</th>\n",
       "      <th>ind_prod18</th>\n",
       "      <th>ind_prod19</th>\n",
       "      <th>ind_prod20</th>\n",
       "      <th>ind_prod21</th>\n",
       "      <th>ind_prod22</th>\n",
       "      <th>ind_prod23</th>\n",
       "      <th>ind_prod24</th>\n",
       "      <th>ind_prod25</th>\n",
       "    </tr>\n",
       "  </thead>\n",
       "  <tbody>\n",
       "    <tr>\n",
       "      <th>62</th>\n",
       "      <td>504546</td>\n",
       "      <td>2015-01-28</td>\n",
       "      <td>ES</td>\n",
       "      <td>H</td>\n",
       "      <td>23</td>\n",
       "      <td>2012-08-09</td>\n",
       "      <td>N</td>\n",
       "      <td>0.0</td>\n",
       "      <td>35</td>\n",
       "      <td>1.0</td>\n",
       "      <td>...</td>\n",
       "      <td>0</td>\n",
       "      <td>0</td>\n",
       "      <td>0</td>\n",
       "      <td>0</td>\n",
       "      <td>0</td>\n",
       "      <td>0</td>\n",
       "      <td>0.0</td>\n",
       "      <td>0.0</td>\n",
       "      <td>0</td>\n",
       "      <td>0</td>\n",
       "    </tr>\n",
       "    <tr>\n",
       "      <th>61530</th>\n",
       "      <td>504546</td>\n",
       "      <td>2015-02-28</td>\n",
       "      <td>ES</td>\n",
       "      <td>H</td>\n",
       "      <td>23</td>\n",
       "      <td>2012-08-09</td>\n",
       "      <td>N</td>\n",
       "      <td>0.0</td>\n",
       "      <td>35</td>\n",
       "      <td>1.0</td>\n",
       "      <td>...</td>\n",
       "      <td>0</td>\n",
       "      <td>0</td>\n",
       "      <td>0</td>\n",
       "      <td>0</td>\n",
       "      <td>0</td>\n",
       "      <td>0</td>\n",
       "      <td>0.0</td>\n",
       "      <td>0.0</td>\n",
       "      <td>0</td>\n",
       "      <td>0</td>\n",
       "    </tr>\n",
       "    <tr>\n",
       "      <th>91495</th>\n",
       "      <td>504546</td>\n",
       "      <td>2015-03-28</td>\n",
       "      <td>ES</td>\n",
       "      <td>H</td>\n",
       "      <td>23</td>\n",
       "      <td>2012-08-09</td>\n",
       "      <td>N</td>\n",
       "      <td>0.0</td>\n",
       "      <td>35</td>\n",
       "      <td>1.0</td>\n",
       "      <td>...</td>\n",
       "      <td>0</td>\n",
       "      <td>0</td>\n",
       "      <td>0</td>\n",
       "      <td>0</td>\n",
       "      <td>0</td>\n",
       "      <td>0</td>\n",
       "      <td>0.0</td>\n",
       "      <td>0.0</td>\n",
       "      <td>0</td>\n",
       "      <td>0</td>\n",
       "    </tr>\n",
       "    <tr>\n",
       "      <th>123869</th>\n",
       "      <td>504546</td>\n",
       "      <td>2015-04-28</td>\n",
       "      <td>ES</td>\n",
       "      <td>H</td>\n",
       "      <td>23</td>\n",
       "      <td>2012-08-09</td>\n",
       "      <td>N</td>\n",
       "      <td>0.0</td>\n",
       "      <td>35</td>\n",
       "      <td>1.0</td>\n",
       "      <td>...</td>\n",
       "      <td>0</td>\n",
       "      <td>0</td>\n",
       "      <td>0</td>\n",
       "      <td>0</td>\n",
       "      <td>0</td>\n",
       "      <td>0</td>\n",
       "      <td>0.0</td>\n",
       "      <td>0.0</td>\n",
       "      <td>0</td>\n",
       "      <td>0</td>\n",
       "    </tr>\n",
       "    <tr>\n",
       "      <th>125782</th>\n",
       "      <td>504546</td>\n",
       "      <td>2015-05-28</td>\n",
       "      <td>ES</td>\n",
       "      <td>H</td>\n",
       "      <td>23</td>\n",
       "      <td>2012-08-09</td>\n",
       "      <td>N</td>\n",
       "      <td>0.0</td>\n",
       "      <td>35</td>\n",
       "      <td>1.0</td>\n",
       "      <td>...</td>\n",
       "      <td>0</td>\n",
       "      <td>0</td>\n",
       "      <td>0</td>\n",
       "      <td>0</td>\n",
       "      <td>0</td>\n",
       "      <td>0</td>\n",
       "      <td>0.0</td>\n",
       "      <td>0.0</td>\n",
       "      <td>0</td>\n",
       "      <td>0</td>\n",
       "    </tr>\n",
       "    <tr>\n",
       "      <th>157209</th>\n",
       "      <td>504546</td>\n",
       "      <td>2015-06-28</td>\n",
       "      <td>ES</td>\n",
       "      <td>H</td>\n",
       "      <td>23</td>\n",
       "      <td>2012-08-09</td>\n",
       "      <td>N</td>\n",
       "      <td>0.0</td>\n",
       "      <td>35</td>\n",
       "      <td>1.0</td>\n",
       "      <td>...</td>\n",
       "      <td>0</td>\n",
       "      <td>0</td>\n",
       "      <td>0</td>\n",
       "      <td>0</td>\n",
       "      <td>0</td>\n",
       "      <td>0</td>\n",
       "      <td>0.0</td>\n",
       "      <td>0.0</td>\n",
       "      <td>0</td>\n",
       "      <td>0</td>\n",
       "    </tr>\n",
       "    <tr>\n",
       "      <th>216829</th>\n",
       "      <td>504546</td>\n",
       "      <td>2015-07-28</td>\n",
       "      <td>ES</td>\n",
       "      <td>H</td>\n",
       "      <td>23</td>\n",
       "      <td>2012-08-09</td>\n",
       "      <td>N</td>\n",
       "      <td>0.0</td>\n",
       "      <td>35</td>\n",
       "      <td>1.0</td>\n",
       "      <td>...</td>\n",
       "      <td>0</td>\n",
       "      <td>0</td>\n",
       "      <td>0</td>\n",
       "      <td>0</td>\n",
       "      <td>0</td>\n",
       "      <td>0</td>\n",
       "      <td>0.0</td>\n",
       "      <td>0.0</td>\n",
       "      <td>0</td>\n",
       "      <td>0</td>\n",
       "    </tr>\n",
       "    <tr>\n",
       "      <th>254727</th>\n",
       "      <td>504546</td>\n",
       "      <td>2015-08-28</td>\n",
       "      <td>ES</td>\n",
       "      <td>H</td>\n",
       "      <td>24</td>\n",
       "      <td>2012-08-09</td>\n",
       "      <td>N</td>\n",
       "      <td>0.0</td>\n",
       "      <td>36</td>\n",
       "      <td>1.0</td>\n",
       "      <td>...</td>\n",
       "      <td>0</td>\n",
       "      <td>0</td>\n",
       "      <td>0</td>\n",
       "      <td>0</td>\n",
       "      <td>0</td>\n",
       "      <td>0</td>\n",
       "      <td>0.0</td>\n",
       "      <td>0.0</td>\n",
       "      <td>0</td>\n",
       "      <td>0</td>\n",
       "    </tr>\n",
       "    <tr>\n",
       "      <th>300440</th>\n",
       "      <td>504546</td>\n",
       "      <td>2015-09-28</td>\n",
       "      <td>ES</td>\n",
       "      <td>H</td>\n",
       "      <td>24</td>\n",
       "      <td>2012-08-09</td>\n",
       "      <td>N</td>\n",
       "      <td>0.0</td>\n",
       "      <td>37</td>\n",
       "      <td>1.0</td>\n",
       "      <td>...</td>\n",
       "      <td>0</td>\n",
       "      <td>0</td>\n",
       "      <td>0</td>\n",
       "      <td>0</td>\n",
       "      <td>0</td>\n",
       "      <td>0</td>\n",
       "      <td>0.0</td>\n",
       "      <td>0.0</td>\n",
       "      <td>0</td>\n",
       "      <td>0</td>\n",
       "    </tr>\n",
       "    <tr>\n",
       "      <th>322426</th>\n",
       "      <td>504546</td>\n",
       "      <td>2015-10-28</td>\n",
       "      <td>ES</td>\n",
       "      <td>H</td>\n",
       "      <td>24</td>\n",
       "      <td>2012-08-09</td>\n",
       "      <td>N</td>\n",
       "      <td>0.0</td>\n",
       "      <td>38</td>\n",
       "      <td>1.0</td>\n",
       "      <td>...</td>\n",
       "      <td>0</td>\n",
       "      <td>0</td>\n",
       "      <td>0</td>\n",
       "      <td>0</td>\n",
       "      <td>0</td>\n",
       "      <td>0</td>\n",
       "      <td>0.0</td>\n",
       "      <td>0.0</td>\n",
       "      <td>0</td>\n",
       "      <td>0</td>\n",
       "    </tr>\n",
       "    <tr>\n",
       "      <th>402065</th>\n",
       "      <td>504546</td>\n",
       "      <td>2015-11-28</td>\n",
       "      <td>ES</td>\n",
       "      <td>H</td>\n",
       "      <td>24</td>\n",
       "      <td>2012-08-09</td>\n",
       "      <td>N</td>\n",
       "      <td>0.0</td>\n",
       "      <td>39</td>\n",
       "      <td>1.0</td>\n",
       "      <td>...</td>\n",
       "      <td>0</td>\n",
       "      <td>0</td>\n",
       "      <td>0</td>\n",
       "      <td>0</td>\n",
       "      <td>0</td>\n",
       "      <td>0</td>\n",
       "      <td>0.0</td>\n",
       "      <td>0.0</td>\n",
       "      <td>0</td>\n",
       "      <td>0</td>\n",
       "    </tr>\n",
       "    <tr>\n",
       "      <th>407176</th>\n",
       "      <td>504546</td>\n",
       "      <td>2015-12-28</td>\n",
       "      <td>ES</td>\n",
       "      <td>H</td>\n",
       "      <td>24</td>\n",
       "      <td>2012-08-09</td>\n",
       "      <td>N</td>\n",
       "      <td>0.0</td>\n",
       "      <td>40</td>\n",
       "      <td>1.0</td>\n",
       "      <td>...</td>\n",
       "      <td>0</td>\n",
       "      <td>0</td>\n",
       "      <td>0</td>\n",
       "      <td>0</td>\n",
       "      <td>0</td>\n",
       "      <td>0</td>\n",
       "      <td>0.0</td>\n",
       "      <td>0.0</td>\n",
       "      <td>0</td>\n",
       "      <td>0</td>\n",
       "    </tr>\n",
       "    <tr>\n",
       "      <th>492771</th>\n",
       "      <td>504546</td>\n",
       "      <td>2016-01-28</td>\n",
       "      <td>ES</td>\n",
       "      <td>H</td>\n",
       "      <td>24</td>\n",
       "      <td>2012-08-09</td>\n",
       "      <td>N</td>\n",
       "      <td>0.0</td>\n",
       "      <td>41</td>\n",
       "      <td>1.0</td>\n",
       "      <td>...</td>\n",
       "      <td>0</td>\n",
       "      <td>0</td>\n",
       "      <td>0</td>\n",
       "      <td>0</td>\n",
       "      <td>0</td>\n",
       "      <td>0</td>\n",
       "      <td>0.0</td>\n",
       "      <td>0.0</td>\n",
       "      <td>0</td>\n",
       "      <td>0</td>\n",
       "    </tr>\n",
       "    <tr>\n",
       "      <th>528203</th>\n",
       "      <td>504546</td>\n",
       "      <td>2016-02-28</td>\n",
       "      <td>ES</td>\n",
       "      <td>H</td>\n",
       "      <td>24</td>\n",
       "      <td>2012-08-09</td>\n",
       "      <td>N</td>\n",
       "      <td>0.0</td>\n",
       "      <td>42</td>\n",
       "      <td>1.0</td>\n",
       "      <td>...</td>\n",
       "      <td>0</td>\n",
       "      <td>0</td>\n",
       "      <td>0</td>\n",
       "      <td>0</td>\n",
       "      <td>0</td>\n",
       "      <td>0</td>\n",
       "      <td>0.0</td>\n",
       "      <td>0.0</td>\n",
       "      <td>0</td>\n",
       "      <td>0</td>\n",
       "    </tr>\n",
       "    <tr>\n",
       "      <th>587552</th>\n",
       "      <td>504546</td>\n",
       "      <td>2016-03-28</td>\n",
       "      <td>ES</td>\n",
       "      <td>H</td>\n",
       "      <td>24</td>\n",
       "      <td>2012-08-09</td>\n",
       "      <td>N</td>\n",
       "      <td>0.0</td>\n",
       "      <td>43</td>\n",
       "      <td>1.0</td>\n",
       "      <td>...</td>\n",
       "      <td>0</td>\n",
       "      <td>0</td>\n",
       "      <td>0</td>\n",
       "      <td>0</td>\n",
       "      <td>0</td>\n",
       "      <td>0</td>\n",
       "      <td>0.0</td>\n",
       "      <td>0.0</td>\n",
       "      <td>0</td>\n",
       "      <td>0</td>\n",
       "    </tr>\n",
       "    <tr>\n",
       "      <th>620983</th>\n",
       "      <td>504546</td>\n",
       "      <td>2016-04-28</td>\n",
       "      <td>ES</td>\n",
       "      <td>H</td>\n",
       "      <td>24</td>\n",
       "      <td>2012-08-09</td>\n",
       "      <td>N</td>\n",
       "      <td>0.0</td>\n",
       "      <td>44</td>\n",
       "      <td>1.0</td>\n",
       "      <td>...</td>\n",
       "      <td>0</td>\n",
       "      <td>0</td>\n",
       "      <td>0</td>\n",
       "      <td>0</td>\n",
       "      <td>0</td>\n",
       "      <td>0</td>\n",
       "      <td>0.0</td>\n",
       "      <td>0.0</td>\n",
       "      <td>0</td>\n",
       "      <td>0</td>\n",
       "    </tr>\n",
       "  </tbody>\n",
       "</table>\n",
       "<p>16 rows × 48 columns</p>\n",
       "</div>"
      ],
      "text/plain": [
       "        cod_persona         mes pais sexo edad      fecha1 xti_empleado  \\\n",
       "62           504546  2015-01-28   ES    H   23  2012-08-09            N   \n",
       "61530        504546  2015-02-28   ES    H   23  2012-08-09            N   \n",
       "91495        504546  2015-03-28   ES    H   23  2012-08-09            N   \n",
       "123869       504546  2015-04-28   ES    H   23  2012-08-09            N   \n",
       "125782       504546  2015-05-28   ES    H   23  2012-08-09            N   \n",
       "157209       504546  2015-06-28   ES    H   23  2012-08-09            N   \n",
       "216829       504546  2015-07-28   ES    H   23  2012-08-09            N   \n",
       "254727       504546  2015-08-28   ES    H   24  2012-08-09            N   \n",
       "300440       504546  2015-09-28   ES    H   24  2012-08-09            N   \n",
       "322426       504546  2015-10-28   ES    H   24  2012-08-09            N   \n",
       "402065       504546  2015-11-28   ES    H   24  2012-08-09            N   \n",
       "407176       504546  2015-12-28   ES    H   24  2012-08-09            N   \n",
       "492771       504546  2016-01-28   ES    H   24  2012-08-09            N   \n",
       "528203       504546  2016-02-28   ES    H   24  2012-08-09            N   \n",
       "587552       504546  2016-03-28   ES    H   24  2012-08-09            N   \n",
       "620983       504546  2016-04-28   ES    H   24  2012-08-09            N   \n",
       "\n",
       "        xti_nuevo_cliente num_antiguedad  xti_rel  ... ind_prod16  ind_prod17  \\\n",
       "62                    0.0             35      1.0  ...          0           0   \n",
       "61530                 0.0             35      1.0  ...          0           0   \n",
       "91495                 0.0             35      1.0  ...          0           0   \n",
       "123869                0.0             35      1.0  ...          0           0   \n",
       "125782                0.0             35      1.0  ...          0           0   \n",
       "157209                0.0             35      1.0  ...          0           0   \n",
       "216829                0.0             35      1.0  ...          0           0   \n",
       "254727                0.0             36      1.0  ...          0           0   \n",
       "300440                0.0             37      1.0  ...          0           0   \n",
       "322426                0.0             38      1.0  ...          0           0   \n",
       "402065                0.0             39      1.0  ...          0           0   \n",
       "407176                0.0             40      1.0  ...          0           0   \n",
       "492771                0.0             41      1.0  ...          0           0   \n",
       "528203                0.0             42      1.0  ...          0           0   \n",
       "587552                0.0             43      1.0  ...          0           0   \n",
       "620983                0.0             44      1.0  ...          0           0   \n",
       "\n",
       "       ind_prod18 ind_prod19 ind_prod20 ind_prod21 ind_prod22  ind_prod23  \\\n",
       "62              0          0          0          0        0.0         0.0   \n",
       "61530           0          0          0          0        0.0         0.0   \n",
       "91495           0          0          0          0        0.0         0.0   \n",
       "123869          0          0          0          0        0.0         0.0   \n",
       "125782          0          0          0          0        0.0         0.0   \n",
       "157209          0          0          0          0        0.0         0.0   \n",
       "216829          0          0          0          0        0.0         0.0   \n",
       "254727          0          0          0          0        0.0         0.0   \n",
       "300440          0          0          0          0        0.0         0.0   \n",
       "322426          0          0          0          0        0.0         0.0   \n",
       "402065          0          0          0          0        0.0         0.0   \n",
       "407176          0          0          0          0        0.0         0.0   \n",
       "492771          0          0          0          0        0.0         0.0   \n",
       "528203          0          0          0          0        0.0         0.0   \n",
       "587552          0          0          0          0        0.0         0.0   \n",
       "620983          0          0          0          0        0.0         0.0   \n",
       "\n",
       "        ind_prod24  ind_prod25  \n",
       "62               0           0  \n",
       "61530            0           0  \n",
       "91495            0           0  \n",
       "123869           0           0  \n",
       "125782           0           0  \n",
       "157209           0           0  \n",
       "216829           0           0  \n",
       "254727           0           0  \n",
       "300440           0           0  \n",
       "322426           0           0  \n",
       "402065           0           0  \n",
       "407176           0           0  \n",
       "492771           0           0  \n",
       "528203           0           0  \n",
       "587552           0           0  \n",
       "620983           0           0  \n",
       "\n",
       "[16 rows x 48 columns]"
      ]
     },
     "execution_count": 8,
     "metadata": {},
     "output_type": "execute_result"
    }
   ],
   "source": [
    "#dataset[cod_persona]=503082 y ordenarlo por fecha1:\n",
    "\n",
    "#Ejemplo de una persona\n",
    "dataset[dataset['cod_persona']==504546].sort_values(by='fecha1') # Dataset compuesto por la evolucion de contrataciones de productos de una persona a lo largo del tiempo"
   ]
  },
  {
   "cell_type": "code",
   "execution_count": 9,
   "metadata": {
    "ExecuteTime": {
     "end_time": "2024-06-09T01:16:28.385178200Z",
     "start_time": "2024-06-09T01:16:27.817467200Z"
    }
   },
   "outputs": [
    {
     "name": "stdout",
     "output_type": "stream",
     "text": [
      "223\n"
     ]
    }
   ],
   "source": [
    "# Agrupar por 'cod_persona' y contar el número de registros para cada persona\n",
    "conteo_registros = dataset.groupby('cod_persona').size().reset_index(name='num_registros')\n",
    "\n",
    "# Filtrar para encontrar las personas con solo un registro\n",
    "personas_con_un_registro = conteo_registros[conteo_registros['num_registros'] == 1]\n",
    "\n",
    "# Contar el número de personas con solo un registro\n",
    "num_personas_con_un_registro = personas_con_un_registro.shape[0]\n",
    "\n",
    "print(num_personas_con_un_registro)"
   ]
  },
  {
   "cell_type": "markdown",
   "metadata": {},
   "source": [
    "Se encuentran personas con un solo registro, lo que puede ser un problema predecir un solo registro sin un historico de contrataciones. No se eliminan los registros, ya que se considera que a pesar de tener un solo registro ese estado puede contener variables muy indicativas de compras de un producto nuevo la siguiente mensualidad."
   ]
  },
  {
   "cell_type": "code",
   "execution_count": 10,
   "metadata": {
    "ExecuteTime": {
     "end_time": "2024-06-09T01:16:28.411715900Z",
     "start_time": "2024-06-09T01:16:27.881305400Z"
    }
   },
   "outputs": [
    {
     "name": "stdout",
     "output_type": "stream",
     "text": [
      "0\n"
     ]
    }
   ],
   "source": [
    "# Verificar si hay valores nulos en 'cod_persona'\n",
    "print(dataset['cod_persona'].isnull().sum())"
   ]
  },
  {
   "cell_type": "markdown",
   "metadata": {},
   "source": [
    "### mes\n",
    "The\ttable\tis\tpartitioned\tfor\tthis\tcolumn"
   ]
  },
  {
   "cell_type": "code",
   "execution_count": 11,
   "metadata": {
    "ExecuteTime": {
     "end_time": "2024-06-09T01:16:28.492299400Z",
     "start_time": "2024-06-09T01:16:27.916384300Z"
    }
   },
   "outputs": [
    {
     "name": "stdout",
     "output_type": "stream",
     "text": [
      "0\n"
     ]
    }
   ],
   "source": [
    "# Paso la columna 'mes' a datetime\n",
    "dataset['mes'] = pd.to_datetime(dataset['mes'], format='%Y-%m-%d')\n",
    "#Recuento de nulos:\n",
    "print(dataset['mes'].isnull().sum())"
   ]
  },
  {
   "cell_type": "code",
   "execution_count": 12,
   "metadata": {
    "ExecuteTime": {
     "end_time": "2024-06-09T01:16:28.630497400Z",
     "start_time": "2024-06-09T01:16:27.987258100Z"
    }
   },
   "outputs": [],
   "source": [
    "#Extraemos las caracteristicas de mes, dia y año:\n",
    "dataset['mes_mes']=dataset['mes'].dt.month\n",
    "dataset['mes_año']=dataset['mes'].dt.year"
   ]
  },
  {
   "cell_type": "code",
   "execution_count": 13,
   "metadata": {
    "ExecuteTime": {
     "end_time": "2024-06-09T01:16:28.938508300Z",
     "start_time": "2024-06-09T01:16:28.101414700Z"
    }
   },
   "outputs": [
    {
     "name": "stdout",
     "output_type": "stream",
     "text": [
      "mes_mes  mes_año\n",
      "1        2015       30849\n",
      "         2016       45994\n",
      "2        2015       30988\n",
      "         2016       46287\n",
      "3        2015       31138\n",
      "         2016       46549\n",
      "4        2015       31250\n",
      "         2016       46776\n",
      "5        2015       31336\n",
      "6        2015       31429\n",
      "7        2015       41342\n",
      "8        2015       42016\n",
      "9        2015       43170\n",
      "10       2015       44574\n",
      "11       2015       45309\n",
      "12       2015       45675\n",
      "dtype: int64\n"
     ]
    }
   ],
   "source": [
    "#Se estudia el numero de registros por mes y año para ver el balanceo de clases:\n",
    "print(dataset.groupby(['mes_mes', 'mes_año']).size())"
   ]
  },
  {
   "cell_type": "markdown",
   "metadata": {},
   "source": [
    "Se observa que el dataset esta balanceado en cuanto a la cantidad de registros por mes y año.\n",
    "Se observa que el historico acaba en abril de 2016."
   ]
  },
  {
   "cell_type": "markdown",
   "metadata": {},
   "source": [
    "### pais\n",
    "Customer's\tCountry\tresidence"
   ]
  },
  {
   "cell_type": "code",
   "execution_count": 14,
   "metadata": {
    "ExecuteTime": {
     "end_time": "2024-06-09T01:16:29.188457300Z",
     "start_time": "2024-06-09T01:16:28.198536Z"
    }
   },
   "outputs": [
    {
     "name": "stdout",
     "output_type": "stream",
     "text": [
      "pais\n",
      "ES    631736\n",
      "DE       285\n",
      "GB       244\n",
      "FR       224\n",
      "US       203\n",
      "CH       192\n",
      "CO       160\n",
      "AR       144\n",
      "IT       138\n",
      "MX       122\n",
      "RO       104\n",
      "EC        90\n",
      "VE        80\n",
      "CL        74\n",
      "PY        74\n",
      "BE        64\n",
      "BR        52\n",
      "AT        48\n",
      "CA        48\n",
      "FI        32\n",
      "NL        32\n",
      "PL        32\n",
      "CN        32\n",
      "PE        32\n",
      "BG        32\n",
      "BO        26\n",
      "GT        16\n",
      "PK        16\n",
      "PT        16\n",
      "GN        16\n",
      "PR        16\n",
      "JP        16\n",
      "IL        16\n",
      "SA        16\n",
      "NG        16\n",
      "NZ        16\n",
      "IN        16\n",
      "AD        16\n",
      "UA        16\n",
      "SE        16\n",
      "GE        16\n",
      "CU        16\n",
      "PA        16\n",
      "SV        16\n",
      "AU        11\n",
      "MD        10\n",
      "RU        10\n",
      "HU         7\n",
      "Name: count, dtype: int64\n"
     ]
    }
   ],
   "source": [
    "print(dataset['pais'].value_counts())"
   ]
  },
  {
   "cell_type": "markdown",
   "metadata": {},
   "source": [
    "Se observa como la mayoría de los registros son de España, resultando el resto de paises en cifras no significativas. Se podría considerar la posibilidad de agrupar los paises con menos registros en un grupo llamado \"Otros\" para reducir la dimensionalidad de la variable y se mapea a 0-1. "
   ]
  },
  {
   "cell_type": "code",
   "execution_count": 15,
   "metadata": {
    "ExecuteTime": {
     "end_time": "2024-06-09T01:16:29.645022900Z",
     "start_time": "2024-06-09T01:16:28.217805100Z"
    }
   },
   "outputs": [
    {
     "data": {
      "text/plain": [
       "pais_binario\n",
       "1    631736\n",
       "0      2946\n",
       "Name: count, dtype: int64"
      ]
     },
     "execution_count": 15,
     "metadata": {},
     "output_type": "execute_result"
    }
   ],
   "source": [
    "# Crear un diccionario de mapeo para agrupar los países\n",
    "#Si pais es España el valor de la columna pais_es será 1, sino 0:\n",
    "dataset['pais_binario'] = dataset['pais'].apply(lambda x: 1 if x == 'ES' else 0)\n",
    "dataset.drop(columns=['pais'], inplace=True)\n",
    "dataset['pais_binario'].value_counts()"
   ]
  },
  {
   "cell_type": "code",
   "execution_count": 16,
   "metadata": {
    "ExecuteTime": {
     "end_time": "2024-06-09T01:16:29.657554500Z",
     "start_time": "2024-06-09T01:16:28.575374400Z"
    }
   },
   "outputs": [
    {
     "data": {
      "text/plain": [
       "0"
      ]
     },
     "execution_count": 16,
     "metadata": {},
     "output_type": "execute_result"
    }
   ],
   "source": [
    "dataset['pais_binario'].isnull().sum() #No hay valores nulos"
   ]
  },
  {
   "cell_type": "markdown",
   "metadata": {},
   "source": [
    "### sexo\n",
    "Customer's\tsex"
   ]
  },
  {
   "cell_type": "code",
   "execution_count": 17,
   "metadata": {
    "ExecuteTime": {
     "end_time": "2024-06-09T01:16:29.690646900Z",
     "start_time": "2024-06-09T01:16:28.608926Z"
    }
   },
   "outputs": [
    {
     "data": {
      "text/plain": [
       "65"
      ]
     },
     "execution_count": 17,
     "metadata": {},
     "output_type": "execute_result"
    }
   ],
   "source": [
    "dataset['sexo'].isnull().sum()"
   ]
  },
  {
   "cell_type": "code",
   "execution_count": 18,
   "metadata": {
    "ExecuteTime": {
     "end_time": "2024-06-09T01:16:29.738310700Z",
     "start_time": "2024-06-09T01:16:28.623498300Z"
    }
   },
   "outputs": [
    {
     "data": {
      "text/html": [
       "<div>\n",
       "<style scoped>\n",
       "    .dataframe tbody tr th:only-of-type {\n",
       "        vertical-align: middle;\n",
       "    }\n",
       "\n",
       "    .dataframe tbody tr th {\n",
       "        vertical-align: top;\n",
       "    }\n",
       "\n",
       "    .dataframe thead th {\n",
       "        text-align: right;\n",
       "    }\n",
       "</style>\n",
       "<table border=\"1\" class=\"dataframe\">\n",
       "  <thead>\n",
       "    <tr style=\"text-align: right;\">\n",
       "      <th></th>\n",
       "      <th>cod_persona</th>\n",
       "      <th>mes</th>\n",
       "      <th>sexo</th>\n",
       "      <th>edad</th>\n",
       "      <th>fecha1</th>\n",
       "      <th>xti_empleado</th>\n",
       "      <th>xti_nuevo_cliente</th>\n",
       "      <th>num_antiguedad</th>\n",
       "      <th>xti_rel</th>\n",
       "      <th>fec_ult_cli_1t</th>\n",
       "      <th>...</th>\n",
       "      <th>ind_prod19</th>\n",
       "      <th>ind_prod20</th>\n",
       "      <th>ind_prod21</th>\n",
       "      <th>ind_prod22</th>\n",
       "      <th>ind_prod23</th>\n",
       "      <th>ind_prod24</th>\n",
       "      <th>ind_prod25</th>\n",
       "      <th>mes_mes</th>\n",
       "      <th>mes_año</th>\n",
       "      <th>pais_binario</th>\n",
       "    </tr>\n",
       "  </thead>\n",
       "  <tbody>\n",
       "    <tr>\n",
       "      <th>51501</th>\n",
       "      <td>170635</td>\n",
       "      <td>2015-02-28</td>\n",
       "      <td>NaN</td>\n",
       "      <td>NA</td>\n",
       "      <td>NaN</td>\n",
       "      <td>NaN</td>\n",
       "      <td>NaN</td>\n",
       "      <td>NA</td>\n",
       "      <td>NaN</td>\n",
       "      <td>NaN</td>\n",
       "      <td>...</td>\n",
       "      <td>0</td>\n",
       "      <td>0</td>\n",
       "      <td>0</td>\n",
       "      <td>0.0</td>\n",
       "      <td>0.0</td>\n",
       "      <td>0</td>\n",
       "      <td>0</td>\n",
       "      <td>2</td>\n",
       "      <td>2015</td>\n",
       "      <td>0</td>\n",
       "    </tr>\n",
       "    <tr>\n",
       "      <th>82415</th>\n",
       "      <td>170635</td>\n",
       "      <td>2015-03-28</td>\n",
       "      <td>NaN</td>\n",
       "      <td>NA</td>\n",
       "      <td>NaN</td>\n",
       "      <td>NaN</td>\n",
       "      <td>NaN</td>\n",
       "      <td>NA</td>\n",
       "      <td>NaN</td>\n",
       "      <td>NaN</td>\n",
       "      <td>...</td>\n",
       "      <td>0</td>\n",
       "      <td>0</td>\n",
       "      <td>0</td>\n",
       "      <td>0.0</td>\n",
       "      <td>0.0</td>\n",
       "      <td>0</td>\n",
       "      <td>0</td>\n",
       "      <td>3</td>\n",
       "      <td>2015</td>\n",
       "      <td>0</td>\n",
       "    </tr>\n",
       "    <tr>\n",
       "      <th>113518</th>\n",
       "      <td>170635</td>\n",
       "      <td>2015-04-28</td>\n",
       "      <td>NaN</td>\n",
       "      <td>NA</td>\n",
       "      <td>NaN</td>\n",
       "      <td>NaN</td>\n",
       "      <td>NaN</td>\n",
       "      <td>NA</td>\n",
       "      <td>NaN</td>\n",
       "      <td>NaN</td>\n",
       "      <td>...</td>\n",
       "      <td>0</td>\n",
       "      <td>0</td>\n",
       "      <td>0</td>\n",
       "      <td>0.0</td>\n",
       "      <td>0.0</td>\n",
       "      <td>0</td>\n",
       "      <td>0</td>\n",
       "      <td>4</td>\n",
       "      <td>2015</td>\n",
       "      <td>0</td>\n",
       "    </tr>\n",
       "    <tr>\n",
       "      <th>134835</th>\n",
       "      <td>170635</td>\n",
       "      <td>2015-05-28</td>\n",
       "      <td>NaN</td>\n",
       "      <td>NA</td>\n",
       "      <td>NaN</td>\n",
       "      <td>NaN</td>\n",
       "      <td>NaN</td>\n",
       "      <td>NA</td>\n",
       "      <td>NaN</td>\n",
       "      <td>NaN</td>\n",
       "      <td>...</td>\n",
       "      <td>0</td>\n",
       "      <td>0</td>\n",
       "      <td>0</td>\n",
       "      <td>0.0</td>\n",
       "      <td>0.0</td>\n",
       "      <td>0</td>\n",
       "      <td>0</td>\n",
       "      <td>5</td>\n",
       "      <td>2015</td>\n",
       "      <td>0</td>\n",
       "    </tr>\n",
       "    <tr>\n",
       "      <th>165637</th>\n",
       "      <td>170635</td>\n",
       "      <td>2015-06-28</td>\n",
       "      <td>NaN</td>\n",
       "      <td>NA</td>\n",
       "      <td>NaN</td>\n",
       "      <td>NaN</td>\n",
       "      <td>NaN</td>\n",
       "      <td>NA</td>\n",
       "      <td>NaN</td>\n",
       "      <td>NaN</td>\n",
       "      <td>...</td>\n",
       "      <td>0</td>\n",
       "      <td>0</td>\n",
       "      <td>0</td>\n",
       "      <td>NaN</td>\n",
       "      <td>NaN</td>\n",
       "      <td>0</td>\n",
       "      <td>0</td>\n",
       "      <td>6</td>\n",
       "      <td>2015</td>\n",
       "      <td>0</td>\n",
       "    </tr>\n",
       "    <tr>\n",
       "      <th>463976</th>\n",
       "      <td>170635</td>\n",
       "      <td>2016-01-28</td>\n",
       "      <td>V</td>\n",
       "      <td>40</td>\n",
       "      <td>2015-02-17</td>\n",
       "      <td>N</td>\n",
       "      <td>1.0</td>\n",
       "      <td>0</td>\n",
       "      <td>1.0</td>\n",
       "      <td>NaN</td>\n",
       "      <td>...</td>\n",
       "      <td>0</td>\n",
       "      <td>0</td>\n",
       "      <td>0</td>\n",
       "      <td>0.0</td>\n",
       "      <td>0.0</td>\n",
       "      <td>0</td>\n",
       "      <td>0</td>\n",
       "      <td>1</td>\n",
       "      <td>2016</td>\n",
       "      <td>1</td>\n",
       "    </tr>\n",
       "    <tr>\n",
       "      <th>506018</th>\n",
       "      <td>170635</td>\n",
       "      <td>2016-02-28</td>\n",
       "      <td>V</td>\n",
       "      <td>40</td>\n",
       "      <td>2015-02-17</td>\n",
       "      <td>N</td>\n",
       "      <td>1.0</td>\n",
       "      <td>1</td>\n",
       "      <td>1.0</td>\n",
       "      <td>NaN</td>\n",
       "      <td>...</td>\n",
       "      <td>0</td>\n",
       "      <td>0</td>\n",
       "      <td>0</td>\n",
       "      <td>0.0</td>\n",
       "      <td>0.0</td>\n",
       "      <td>0</td>\n",
       "      <td>0</td>\n",
       "      <td>2</td>\n",
       "      <td>2016</td>\n",
       "      <td>1</td>\n",
       "    </tr>\n",
       "    <tr>\n",
       "      <th>550982</th>\n",
       "      <td>170635</td>\n",
       "      <td>2016-03-28</td>\n",
       "      <td>V</td>\n",
       "      <td>40</td>\n",
       "      <td>2015-02-17</td>\n",
       "      <td>N</td>\n",
       "      <td>1.0</td>\n",
       "      <td>2</td>\n",
       "      <td>1.0</td>\n",
       "      <td>NaN</td>\n",
       "      <td>...</td>\n",
       "      <td>0</td>\n",
       "      <td>0</td>\n",
       "      <td>0</td>\n",
       "      <td>0.0</td>\n",
       "      <td>0.0</td>\n",
       "      <td>0</td>\n",
       "      <td>0</td>\n",
       "      <td>3</td>\n",
       "      <td>2016</td>\n",
       "      <td>1</td>\n",
       "    </tr>\n",
       "    <tr>\n",
       "      <th>623367</th>\n",
       "      <td>170635</td>\n",
       "      <td>2016-04-28</td>\n",
       "      <td>V</td>\n",
       "      <td>40</td>\n",
       "      <td>2015-02-17</td>\n",
       "      <td>N</td>\n",
       "      <td>1.0</td>\n",
       "      <td>3</td>\n",
       "      <td>1.0</td>\n",
       "      <td>NaN</td>\n",
       "      <td>...</td>\n",
       "      <td>0</td>\n",
       "      <td>0</td>\n",
       "      <td>0</td>\n",
       "      <td>0.0</td>\n",
       "      <td>0.0</td>\n",
       "      <td>0</td>\n",
       "      <td>0</td>\n",
       "      <td>4</td>\n",
       "      <td>2016</td>\n",
       "      <td>1</td>\n",
       "    </tr>\n",
       "  </tbody>\n",
       "</table>\n",
       "<p>9 rows × 50 columns</p>\n",
       "</div>"
      ],
      "text/plain": [
       "        cod_persona        mes sexo edad      fecha1 xti_empleado  \\\n",
       "51501        170635 2015-02-28  NaN   NA         NaN          NaN   \n",
       "82415        170635 2015-03-28  NaN   NA         NaN          NaN   \n",
       "113518       170635 2015-04-28  NaN   NA         NaN          NaN   \n",
       "134835       170635 2015-05-28  NaN   NA         NaN          NaN   \n",
       "165637       170635 2015-06-28  NaN   NA         NaN          NaN   \n",
       "463976       170635 2016-01-28    V   40  2015-02-17            N   \n",
       "506018       170635 2016-02-28    V   40  2015-02-17            N   \n",
       "550982       170635 2016-03-28    V   40  2015-02-17            N   \n",
       "623367       170635 2016-04-28    V   40  2015-02-17            N   \n",
       "\n",
       "        xti_nuevo_cliente num_antiguedad  xti_rel fec_ult_cli_1t  ...  \\\n",
       "51501                 NaN             NA      NaN            NaN  ...   \n",
       "82415                 NaN             NA      NaN            NaN  ...   \n",
       "113518                NaN             NA      NaN            NaN  ...   \n",
       "134835                NaN             NA      NaN            NaN  ...   \n",
       "165637                NaN             NA      NaN            NaN  ...   \n",
       "463976                1.0              0      1.0            NaN  ...   \n",
       "506018                1.0              1      1.0            NaN  ...   \n",
       "550982                1.0              2      1.0            NaN  ...   \n",
       "623367                1.0              3      1.0            NaN  ...   \n",
       "\n",
       "        ind_prod19 ind_prod20 ind_prod21 ind_prod22 ind_prod23 ind_prod24  \\\n",
       "51501            0          0          0        0.0        0.0          0   \n",
       "82415            0          0          0        0.0        0.0          0   \n",
       "113518           0          0          0        0.0        0.0          0   \n",
       "134835           0          0          0        0.0        0.0          0   \n",
       "165637           0          0          0        NaN        NaN          0   \n",
       "463976           0          0          0        0.0        0.0          0   \n",
       "506018           0          0          0        0.0        0.0          0   \n",
       "550982           0          0          0        0.0        0.0          0   \n",
       "623367           0          0          0        0.0        0.0          0   \n",
       "\n",
       "        ind_prod25  mes_mes  mes_año  pais_binario  \n",
       "51501            0        2     2015             0  \n",
       "82415            0        3     2015             0  \n",
       "113518           0        4     2015             0  \n",
       "134835           0        5     2015             0  \n",
       "165637           0        6     2015             0  \n",
       "463976           0        1     2016             1  \n",
       "506018           0        2     2016             1  \n",
       "550982           0        3     2016             1  \n",
       "623367           0        4     2016             1  \n",
       "\n",
       "[9 rows x 50 columns]"
      ]
     },
     "execution_count": 18,
     "metadata": {},
     "output_type": "execute_result"
    }
   ],
   "source": [
    "dataset[dataset['cod_persona']==170635]"
   ]
  },
  {
   "cell_type": "markdown",
   "metadata": {},
   "source": [
    "Se observan que hay valores nulos en la columna 'sexo' que no en todos los registros de la misma persona son nulos. Suponiendo que el sexo de una persona no puede cambiar en el tiempo, se decide rellenar los valores nulos con el valor que tiene para otros registros."
   ]
  },
  {
   "cell_type": "code",
   "execution_count": 19,
   "metadata": {
    "ExecuteTime": {
     "end_time": "2024-06-09T01:16:39.197084400Z",
     "start_time": "2024-06-09T01:16:28.676492Z"
    }
   },
   "outputs": [
    {
     "name": "stdout",
     "output_type": "stream",
     "text": [
      "       cod_persona  total_registros  num_nulos\n",
      "41790      1337182                9          9\n"
     ]
    }
   ],
   "source": [
    "# Calcular el número de registros por 'cod_persona'\n",
    "num_registros_por_persona = dataset.groupby('cod_persona').size().reset_index(name='total_registros')\n",
    "\n",
    "# Calcular el número de valores nulos en la columna 'sexo' por cada 'cod_persona'\n",
    "num_nulos_por_persona = dataset.groupby('cod_persona')['sexo'].apply(lambda x: x.isnull().sum()).reset_index(name='num_nulos')\n",
    "\n",
    "# Unir la información de los nulos y el total de registros al dataset original\n",
    "info_completa = num_registros_por_persona.merge(num_nulos_por_persona, on='cod_persona')\n",
    "\n",
    "# Filtrar para encontrar las personas donde el número de nulos es igual al número de registros\n",
    "personas_con_todos_nulos = info_completa[info_completa['total_registros'] == info_completa['num_nulos']]\n",
    "\n",
    "print(personas_con_todos_nulos)"
   ]
  },
  {
   "cell_type": "markdown",
   "metadata": {},
   "source": [
    "La unica persona con todos los valores de sexo nulos es la persona 41790. Se decide rellenar los valores de esta persona como si fuera un hombre, son solo 9 registros por lo que no afecta a la distribución de la variable. "
   ]
  },
  {
   "cell_type": "code",
   "execution_count": 20,
   "metadata": {
    "ExecuteTime": {
     "end_time": "2024-06-09T01:16:39.368586300Z",
     "start_time": "2024-06-09T01:16:39.133052Z"
    }
   },
   "outputs": [],
   "source": [
    "dataset.loc[dataset['cod_persona'] == 1337182, 'sexo'] = dataset.loc[dataset['cod_persona'] == 1337182, 'sexo'].fillna('V')"
   ]
  },
  {
   "cell_type": "markdown",
   "metadata": {},
   "source": [
    "Rellenamos todos los valores nulos de cada persona con otro valor del campo sexo que ya exista para ese cod_persona"
   ]
  },
  {
   "cell_type": "code",
   "execution_count": 21,
   "metadata": {
    "ExecuteTime": {
     "end_time": "2024-06-09T01:16:51.220519200Z",
     "start_time": "2024-06-09T01:16:39.162629600Z"
    }
   },
   "outputs": [],
   "source": [
    "valores_no_nulos = dataset.dropna(subset=['sexo']).drop_duplicates(subset=['cod_persona'], keep='first')\n",
    "# Crear un diccionario con los valores no nulos\n",
    "valores_no_nulos_dict = valores_no_nulos.set_index('cod_persona')['sexo'].to_dict()\n",
    "\n",
    "#Rellenar los valores nulos en 'sexo' usando el valor no nulo correspondiente de cada 'cod_persona'\n",
    "dataset['sexo'] = dataset.apply(lambda row: valores_no_nulos_dict.get(row['cod_persona'], row['sexo']) if pd.isnull(row['sexo']) else row['sexo'], axis=1)"
   ]
  },
  {
   "cell_type": "code",
   "execution_count": 22,
   "metadata": {
    "ExecuteTime": {
     "end_time": "2024-06-09T01:16:51.349438300Z",
     "start_time": "2024-06-09T01:16:51.243311200Z"
    }
   },
   "outputs": [],
   "source": [
    "# Crear un diccionario de mapeo para asignar números a cada género\n",
    "mapping_sex = {'V': 1, 'H': 0}\n",
    "\n",
    "# Aplicar el mapeo a la columna 'customer_sex'\n",
    "dataset['sexo'] = dataset['sexo'].map(mapping_sex)"
   ]
  },
  {
   "cell_type": "code",
   "execution_count": 23,
   "metadata": {
    "ExecuteTime": {
     "end_time": "2024-06-09T01:16:51.372989600Z",
     "start_time": "2024-06-09T01:16:51.277613400Z"
    }
   },
   "outputs": [
    {
     "data": {
      "text/plain": [
       "sexo\n",
       "1    346889\n",
       "0    287793\n",
       "Name: count, dtype: int64"
      ]
     },
     "execution_count": 23,
     "metadata": {},
     "output_type": "execute_result"
    }
   ],
   "source": [
    "dataset['sexo'].value_counts()"
   ]
  },
  {
   "cell_type": "markdown",
   "metadata": {},
   "source": [
    "### edad\n",
    "Customer’s\tage"
   ]
  },
  {
   "cell_type": "code",
   "execution_count": 24,
   "metadata": {
    "ExecuteTime": {
     "end_time": "2024-06-09T01:16:51.594612700Z",
     "start_time": "2024-06-09T01:16:51.285129700Z"
    }
   },
   "outputs": [],
   "source": [
    "dataset['edad'] = pd.to_numeric(dataset['edad'], errors='coerce')"
   ]
  },
  {
   "cell_type": "code",
   "execution_count": 25,
   "metadata": {
    "ExecuteTime": {
     "end_time": "2024-06-09T01:16:51.692835300Z",
     "start_time": "2024-06-09T01:16:51.523060100Z"
    }
   },
   "outputs": [
    {
     "data": {
      "text/plain": [
       "56"
      ]
     },
     "execution_count": 25,
     "metadata": {},
     "output_type": "execute_result"
    }
   ],
   "source": [
    "dataset['edad'].isnull().sum()"
   ]
  },
  {
   "cell_type": "code",
   "execution_count": 26,
   "metadata": {
    "ExecuteTime": {
     "end_time": "2024-06-09T01:16:51.896007500Z",
     "start_time": "2024-06-09T01:16:51.567834700Z"
    }
   },
   "outputs": [
    {
     "data": {
      "image/png": "[encoded data removed]",
      "text/plain": [
       "<Figure size 720x432 with 1 Axes>"
      ]
     },
     "metadata": {
      "needs_background": "light"
     },
     "output_type": "display_data"
    }
   ],
   "source": [
    "# Plottear la distribución de edades\n",
    "plt.figure(figsize=(10, 6))\n",
    "plt.hist(dataset['edad'].dropna(), bins=30, edgecolor='k', alpha=0.7)\n",
    "plt.title('Distribución de Edades')\n",
    "plt.xticks(range(0, 120, 5))\n",
    "plt.xlabel('Edad')\n",
    "plt.ylabel('Frecuencia')\n",
    "plt.grid(True)\n",
    "plt.show()"
   ]
  },
  {
   "cell_type": "markdown",
   "metadata": {},
   "source": [
    "Se observa que la distribución es bastante uniforme sin un skewness claramente definido. Sin embargo, se destaca como entre los 20-25 años hay un pico de personas."
   ]
  },
  {
   "cell_type": "markdown",
   "metadata": {},
   "source": [
    "### fecha1\n",
    "The\tdate\tin\twhich\tthe\tcustomer\tbecame\tas\tthe\tfirst\tholder\tof\ta\tcontract\tin\tthe\tbank"
   ]
  },
  {
   "cell_type": "code",
   "execution_count": 27,
   "metadata": {
    "ExecuteTime": {
     "end_time": "2024-06-09T01:16:52.057677900Z",
     "start_time": "2024-06-09T01:16:51.917032800Z"
    }
   },
   "outputs": [
    {
     "data": {
      "text/plain": [
       "56"
      ]
     },
     "execution_count": 27,
     "metadata": {},
     "output_type": "execute_result"
    }
   ],
   "source": [
    "dataset['fecha1'].isnull().sum()"
   ]
  },
  {
   "cell_type": "markdown",
   "metadata": {},
   "source": [
    "Se observa que hay 56 valores nuloes en varias columnas. Se buscan patrones e intentamos adoptar el mismo enfoque con ellas:"
   ]
  },
  {
   "cell_type": "code",
   "execution_count": 28,
   "metadata": {
    "ExecuteTime": {
     "end_time": "2024-06-09T01:16:52.171487Z",
     "start_time": "2024-06-09T01:16:51.940071700Z"
    }
   },
   "outputs": [
    {
     "name": "stdout",
     "output_type": "stream",
     "text": [
      "cod_persona              False\n",
      "mes                      False\n",
      "sexo                     False\n",
      "edad                      True\n",
      "fecha1                    True\n",
      "xti_empleado              True\n",
      "xti_nuevo_cliente         True\n",
      "num_antiguedad           False\n",
      "xti_rel                   True\n",
      "fec_ult_cli_1t           False\n",
      "xti_rel_1mes             False\n",
      "tip_rel_1mes             False\n",
      "indresi                   True\n",
      "indext                    True\n",
      "des_canal                False\n",
      "xti_extra                 True\n",
      "tip_dom                   True\n",
      "cod_provincia            False\n",
      "xti_actividad_cliente     True\n",
      "imp_renta                False\n",
      "id_segmento              False\n",
      "mean_engagement          False\n",
      "ind_prod1                False\n",
      "ind_prod2                False\n",
      "ind_prod3                False\n",
      "ind_prod4                False\n",
      "ind_prod5                False\n",
      "ind_prod6                False\n",
      "ind_prod7                False\n",
      "ind_prod8                False\n",
      "ind_prod9                False\n",
      "ind_prod10               False\n",
      "ind_prod11               False\n",
      "ind_prod12               False\n",
      "ind_prod13               False\n",
      "ind_prod14               False\n",
      "ind_prod15               False\n",
      "ind_prod16               False\n",
      "ind_prod17               False\n",
      "ind_prod18               False\n",
      "ind_prod19               False\n",
      "ind_prod20               False\n",
      "ind_prod21               False\n",
      "ind_prod22               False\n",
      "ind_prod23               False\n",
      "ind_prod24               False\n",
      "ind_prod25               False\n",
      "mes_mes                  False\n",
      "mes_año                  False\n",
      "pais_binario             False\n",
      "dtype: bool\n"
     ]
    }
   ],
   "source": [
    "print(dataset.isnull().sum()==56)"
   ]
  },
  {
   "cell_type": "code",
   "execution_count": 29,
   "metadata": {
    "ExecuteTime": {
     "end_time": "2024-06-09T01:16:52.254836Z",
     "start_time": "2024-06-09T01:16:52.155995600Z"
    }
   },
   "outputs": [
    {
     "data": {
      "text/html": [
       "<div>\n",
       "<style scoped>\n",
       "    .dataframe tbody tr th:only-of-type {\n",
       "        vertical-align: middle;\n",
       "    }\n",
       "\n",
       "    .dataframe tbody tr th {\n",
       "        vertical-align: top;\n",
       "    }\n",
       "\n",
       "    .dataframe thead th {\n",
       "        text-align: right;\n",
       "    }\n",
       "</style>\n",
       "<table border=\"1\" class=\"dataframe\">\n",
       "  <thead>\n",
       "    <tr style=\"text-align: right;\">\n",
       "      <th></th>\n",
       "      <th>cod_persona</th>\n",
       "      <th>mes</th>\n",
       "      <th>sexo</th>\n",
       "      <th>edad</th>\n",
       "      <th>fecha1</th>\n",
       "      <th>xti_empleado</th>\n",
       "      <th>xti_nuevo_cliente</th>\n",
       "      <th>num_antiguedad</th>\n",
       "      <th>xti_rel</th>\n",
       "      <th>fec_ult_cli_1t</th>\n",
       "      <th>...</th>\n",
       "      <th>ind_prod19</th>\n",
       "      <th>ind_prod20</th>\n",
       "      <th>ind_prod21</th>\n",
       "      <th>ind_prod22</th>\n",
       "      <th>ind_prod23</th>\n",
       "      <th>ind_prod24</th>\n",
       "      <th>ind_prod25</th>\n",
       "      <th>mes_mes</th>\n",
       "      <th>mes_año</th>\n",
       "      <th>pais_binario</th>\n",
       "    </tr>\n",
       "  </thead>\n",
       "  <tbody>\n",
       "    <tr>\n",
       "      <th>1453</th>\n",
       "      <td>532938</td>\n",
       "      <td>2015-01-28</td>\n",
       "      <td>1</td>\n",
       "      <td>NaN</td>\n",
       "      <td>NaN</td>\n",
       "      <td>NaN</td>\n",
       "      <td>NaN</td>\n",
       "      <td>NA</td>\n",
       "      <td>NaN</td>\n",
       "      <td>NaN</td>\n",
       "      <td>...</td>\n",
       "      <td>0</td>\n",
       "      <td>0</td>\n",
       "      <td>0</td>\n",
       "      <td>NaN</td>\n",
       "      <td>NaN</td>\n",
       "      <td>0</td>\n",
       "      <td>0</td>\n",
       "      <td>1</td>\n",
       "      <td>2015</td>\n",
       "      <td>0</td>\n",
       "    </tr>\n",
       "    <tr>\n",
       "      <th>2570</th>\n",
       "      <td>421992</td>\n",
       "      <td>2015-01-28</td>\n",
       "      <td>0</td>\n",
       "      <td>NaN</td>\n",
       "      <td>NaN</td>\n",
       "      <td>NaN</td>\n",
       "      <td>NaN</td>\n",
       "      <td>NA</td>\n",
       "      <td>NaN</td>\n",
       "      <td>NaN</td>\n",
       "      <td>...</td>\n",
       "      <td>0</td>\n",
       "      <td>0</td>\n",
       "      <td>0</td>\n",
       "      <td>NaN</td>\n",
       "      <td>NaN</td>\n",
       "      <td>0</td>\n",
       "      <td>0</td>\n",
       "      <td>1</td>\n",
       "      <td>2015</td>\n",
       "      <td>0</td>\n",
       "    </tr>\n",
       "    <tr>\n",
       "      <th>5323</th>\n",
       "      <td>672042</td>\n",
       "      <td>2015-01-28</td>\n",
       "      <td>0</td>\n",
       "      <td>NaN</td>\n",
       "      <td>NaN</td>\n",
       "      <td>NaN</td>\n",
       "      <td>NaN</td>\n",
       "      <td>NA</td>\n",
       "      <td>NaN</td>\n",
       "      <td>NaN</td>\n",
       "      <td>...</td>\n",
       "      <td>0</td>\n",
       "      <td>0</td>\n",
       "      <td>0</td>\n",
       "      <td>0.0</td>\n",
       "      <td>0.0</td>\n",
       "      <td>0</td>\n",
       "      <td>0</td>\n",
       "      <td>1</td>\n",
       "      <td>2015</td>\n",
       "      <td>0</td>\n",
       "    </tr>\n",
       "    <tr>\n",
       "      <th>7976</th>\n",
       "      <td>256163</td>\n",
       "      <td>2015-01-28</td>\n",
       "      <td>0</td>\n",
       "      <td>NaN</td>\n",
       "      <td>NaN</td>\n",
       "      <td>NaN</td>\n",
       "      <td>NaN</td>\n",
       "      <td>NA</td>\n",
       "      <td>NaN</td>\n",
       "      <td>NaN</td>\n",
       "      <td>...</td>\n",
       "      <td>0</td>\n",
       "      <td>0</td>\n",
       "      <td>0</td>\n",
       "      <td>NaN</td>\n",
       "      <td>NaN</td>\n",
       "      <td>0</td>\n",
       "      <td>0</td>\n",
       "      <td>1</td>\n",
       "      <td>2015</td>\n",
       "      <td>0</td>\n",
       "    </tr>\n",
       "    <tr>\n",
       "      <th>8899</th>\n",
       "      <td>289373</td>\n",
       "      <td>2015-01-28</td>\n",
       "      <td>1</td>\n",
       "      <td>NaN</td>\n",
       "      <td>NaN</td>\n",
       "      <td>NaN</td>\n",
       "      <td>NaN</td>\n",
       "      <td>NA</td>\n",
       "      <td>NaN</td>\n",
       "      <td>NaN</td>\n",
       "      <td>...</td>\n",
       "      <td>0</td>\n",
       "      <td>0</td>\n",
       "      <td>0</td>\n",
       "      <td>NaN</td>\n",
       "      <td>NaN</td>\n",
       "      <td>0</td>\n",
       "      <td>0</td>\n",
       "      <td>1</td>\n",
       "      <td>2015</td>\n",
       "      <td>0</td>\n",
       "    </tr>\n",
       "    <tr>\n",
       "      <th>9160</th>\n",
       "      <td>300713</td>\n",
       "      <td>2015-01-28</td>\n",
       "      <td>1</td>\n",
       "      <td>NaN</td>\n",
       "      <td>NaN</td>\n",
       "      <td>NaN</td>\n",
       "      <td>NaN</td>\n",
       "      <td>NA</td>\n",
       "      <td>NaN</td>\n",
       "      <td>NaN</td>\n",
       "      <td>...</td>\n",
       "      <td>0</td>\n",
       "      <td>0</td>\n",
       "      <td>0</td>\n",
       "      <td>0.0</td>\n",
       "      <td>0.0</td>\n",
       "      <td>0</td>\n",
       "      <td>0</td>\n",
       "      <td>1</td>\n",
       "      <td>2015</td>\n",
       "      <td>0</td>\n",
       "    </tr>\n",
       "    <tr>\n",
       "      <th>10037</th>\n",
       "      <td>210920</td>\n",
       "      <td>2015-01-28</td>\n",
       "      <td>0</td>\n",
       "      <td>NaN</td>\n",
       "      <td>NaN</td>\n",
       "      <td>NaN</td>\n",
       "      <td>NaN</td>\n",
       "      <td>NA</td>\n",
       "      <td>NaN</td>\n",
       "      <td>NaN</td>\n",
       "      <td>...</td>\n",
       "      <td>0</td>\n",
       "      <td>0</td>\n",
       "      <td>0</td>\n",
       "      <td>0.0</td>\n",
       "      <td>0.0</td>\n",
       "      <td>0</td>\n",
       "      <td>0</td>\n",
       "      <td>1</td>\n",
       "      <td>2015</td>\n",
       "      <td>0</td>\n",
       "    </tr>\n",
       "    <tr>\n",
       "      <th>10178</th>\n",
       "      <td>205901</td>\n",
       "      <td>2015-01-28</td>\n",
       "      <td>0</td>\n",
       "      <td>NaN</td>\n",
       "      <td>NaN</td>\n",
       "      <td>NaN</td>\n",
       "      <td>NaN</td>\n",
       "      <td>NA</td>\n",
       "      <td>NaN</td>\n",
       "      <td>NaN</td>\n",
       "      <td>...</td>\n",
       "      <td>0</td>\n",
       "      <td>0</td>\n",
       "      <td>0</td>\n",
       "      <td>NaN</td>\n",
       "      <td>NaN</td>\n",
       "      <td>0</td>\n",
       "      <td>0</td>\n",
       "      <td>1</td>\n",
       "      <td>2015</td>\n",
       "      <td>0</td>\n",
       "    </tr>\n",
       "    <tr>\n",
       "      <th>10287</th>\n",
       "      <td>183684</td>\n",
       "      <td>2015-01-28</td>\n",
       "      <td>0</td>\n",
       "      <td>NaN</td>\n",
       "      <td>NaN</td>\n",
       "      <td>NaN</td>\n",
       "      <td>NaN</td>\n",
       "      <td>NA</td>\n",
       "      <td>NaN</td>\n",
       "      <td>NaN</td>\n",
       "      <td>...</td>\n",
       "      <td>0</td>\n",
       "      <td>0</td>\n",
       "      <td>0</td>\n",
       "      <td>NaN</td>\n",
       "      <td>NaN</td>\n",
       "      <td>0</td>\n",
       "      <td>0</td>\n",
       "      <td>1</td>\n",
       "      <td>2015</td>\n",
       "      <td>0</td>\n",
       "    </tr>\n",
       "    <tr>\n",
       "      <th>11391</th>\n",
       "      <td>216184</td>\n",
       "      <td>2015-01-28</td>\n",
       "      <td>0</td>\n",
       "      <td>NaN</td>\n",
       "      <td>NaN</td>\n",
       "      <td>NaN</td>\n",
       "      <td>NaN</td>\n",
       "      <td>NA</td>\n",
       "      <td>NaN</td>\n",
       "      <td>NaN</td>\n",
       "      <td>...</td>\n",
       "      <td>0</td>\n",
       "      <td>0</td>\n",
       "      <td>0</td>\n",
       "      <td>0.0</td>\n",
       "      <td>0.0</td>\n",
       "      <td>0</td>\n",
       "      <td>0</td>\n",
       "      <td>1</td>\n",
       "      <td>2015</td>\n",
       "      <td>0</td>\n",
       "    </tr>\n",
       "    <tr>\n",
       "      <th>12511</th>\n",
       "      <td>372326</td>\n",
       "      <td>2015-01-28</td>\n",
       "      <td>1</td>\n",
       "      <td>NaN</td>\n",
       "      <td>NaN</td>\n",
       "      <td>NaN</td>\n",
       "      <td>NaN</td>\n",
       "      <td>NA</td>\n",
       "      <td>NaN</td>\n",
       "      <td>NaN</td>\n",
       "      <td>...</td>\n",
       "      <td>0</td>\n",
       "      <td>0</td>\n",
       "      <td>0</td>\n",
       "      <td>0.0</td>\n",
       "      <td>0.0</td>\n",
       "      <td>0</td>\n",
       "      <td>0</td>\n",
       "      <td>1</td>\n",
       "      <td>2015</td>\n",
       "      <td>0</td>\n",
       "    </tr>\n",
       "    <tr>\n",
       "      <th>17757</th>\n",
       "      <td>1185286</td>\n",
       "      <td>2015-01-28</td>\n",
       "      <td>0</td>\n",
       "      <td>NaN</td>\n",
       "      <td>NaN</td>\n",
       "      <td>NaN</td>\n",
       "      <td>NaN</td>\n",
       "      <td>NA</td>\n",
       "      <td>NaN</td>\n",
       "      <td>NaN</td>\n",
       "      <td>...</td>\n",
       "      <td>0</td>\n",
       "      <td>0</td>\n",
       "      <td>0</td>\n",
       "      <td>0.0</td>\n",
       "      <td>0.0</td>\n",
       "      <td>0</td>\n",
       "      <td>0</td>\n",
       "      <td>1</td>\n",
       "      <td>2015</td>\n",
       "      <td>0</td>\n",
       "    </tr>\n",
       "    <tr>\n",
       "      <th>21209</th>\n",
       "      <td>1500541</td>\n",
       "      <td>2015-01-28</td>\n",
       "      <td>1</td>\n",
       "      <td>NaN</td>\n",
       "      <td>NaN</td>\n",
       "      <td>NaN</td>\n",
       "      <td>NaN</td>\n",
       "      <td>NA</td>\n",
       "      <td>NaN</td>\n",
       "      <td>NaN</td>\n",
       "      <td>...</td>\n",
       "      <td>0</td>\n",
       "      <td>0</td>\n",
       "      <td>0</td>\n",
       "      <td>0.0</td>\n",
       "      <td>0.0</td>\n",
       "      <td>1</td>\n",
       "      <td>0</td>\n",
       "      <td>1</td>\n",
       "      <td>2015</td>\n",
       "      <td>0</td>\n",
       "    </tr>\n",
       "    <tr>\n",
       "      <th>22899</th>\n",
       "      <td>1390588</td>\n",
       "      <td>2015-01-28</td>\n",
       "      <td>1</td>\n",
       "      <td>NaN</td>\n",
       "      <td>NaN</td>\n",
       "      <td>NaN</td>\n",
       "      <td>NaN</td>\n",
       "      <td>NA</td>\n",
       "      <td>NaN</td>\n",
       "      <td>NaN</td>\n",
       "      <td>...</td>\n",
       "      <td>0</td>\n",
       "      <td>0</td>\n",
       "      <td>0</td>\n",
       "      <td>0.0</td>\n",
       "      <td>0.0</td>\n",
       "      <td>0</td>\n",
       "      <td>0</td>\n",
       "      <td>1</td>\n",
       "      <td>2015</td>\n",
       "      <td>0</td>\n",
       "    </tr>\n",
       "    <tr>\n",
       "      <th>24455</th>\n",
       "      <td>931306</td>\n",
       "      <td>2015-01-28</td>\n",
       "      <td>1</td>\n",
       "      <td>NaN</td>\n",
       "      <td>NaN</td>\n",
       "      <td>NaN</td>\n",
       "      <td>NaN</td>\n",
       "      <td>NA</td>\n",
       "      <td>NaN</td>\n",
       "      <td>NaN</td>\n",
       "      <td>...</td>\n",
       "      <td>0</td>\n",
       "      <td>0</td>\n",
       "      <td>0</td>\n",
       "      <td>0.0</td>\n",
       "      <td>0.0</td>\n",
       "      <td>0</td>\n",
       "      <td>0</td>\n",
       "      <td>1</td>\n",
       "      <td>2015</td>\n",
       "      <td>0</td>\n",
       "    </tr>\n",
       "    <tr>\n",
       "      <th>28599</th>\n",
       "      <td>1097377</td>\n",
       "      <td>2015-01-28</td>\n",
       "      <td>1</td>\n",
       "      <td>NaN</td>\n",
       "      <td>NaN</td>\n",
       "      <td>NaN</td>\n",
       "      <td>NaN</td>\n",
       "      <td>NA</td>\n",
       "      <td>NaN</td>\n",
       "      <td>NaN</td>\n",
       "      <td>...</td>\n",
       "      <td>0</td>\n",
       "      <td>0</td>\n",
       "      <td>0</td>\n",
       "      <td>0.0</td>\n",
       "      <td>0.0</td>\n",
       "      <td>0</td>\n",
       "      <td>0</td>\n",
       "      <td>1</td>\n",
       "      <td>2015</td>\n",
       "      <td>0</td>\n",
       "    </tr>\n",
       "    <tr>\n",
       "      <th>30783</th>\n",
       "      <td>1012056</td>\n",
       "      <td>2015-01-28</td>\n",
       "      <td>1</td>\n",
       "      <td>NaN</td>\n",
       "      <td>NaN</td>\n",
       "      <td>NaN</td>\n",
       "      <td>NaN</td>\n",
       "      <td>NA</td>\n",
       "      <td>NaN</td>\n",
       "      <td>NaN</td>\n",
       "      <td>...</td>\n",
       "      <td>0</td>\n",
       "      <td>0</td>\n",
       "      <td>0</td>\n",
       "      <td>0.0</td>\n",
       "      <td>0.0</td>\n",
       "      <td>0</td>\n",
       "      <td>0</td>\n",
       "      <td>1</td>\n",
       "      <td>2015</td>\n",
       "      <td>0</td>\n",
       "    </tr>\n",
       "    <tr>\n",
       "      <th>31006</th>\n",
       "      <td>1012056</td>\n",
       "      <td>2015-02-28</td>\n",
       "      <td>1</td>\n",
       "      <td>NaN</td>\n",
       "      <td>NaN</td>\n",
       "      <td>NaN</td>\n",
       "      <td>NaN</td>\n",
       "      <td>NA</td>\n",
       "      <td>NaN</td>\n",
       "      <td>NaN</td>\n",
       "      <td>...</td>\n",
       "      <td>0</td>\n",
       "      <td>0</td>\n",
       "      <td>0</td>\n",
       "      <td>0.0</td>\n",
       "      <td>0.0</td>\n",
       "      <td>0</td>\n",
       "      <td>0</td>\n",
       "      <td>2</td>\n",
       "      <td>2015</td>\n",
       "      <td>0</td>\n",
       "    </tr>\n",
       "    <tr>\n",
       "      <th>32050</th>\n",
       "      <td>931306</td>\n",
       "      <td>2015-02-28</td>\n",
       "      <td>1</td>\n",
       "      <td>NaN</td>\n",
       "      <td>NaN</td>\n",
       "      <td>NaN</td>\n",
       "      <td>NaN</td>\n",
       "      <td>NA</td>\n",
       "      <td>NaN</td>\n",
       "      <td>NaN</td>\n",
       "      <td>...</td>\n",
       "      <td>1</td>\n",
       "      <td>0</td>\n",
       "      <td>0</td>\n",
       "      <td>0.0</td>\n",
       "      <td>0.0</td>\n",
       "      <td>0</td>\n",
       "      <td>1</td>\n",
       "      <td>2</td>\n",
       "      <td>2015</td>\n",
       "      <td>0</td>\n",
       "    </tr>\n",
       "    <tr>\n",
       "      <th>36003</th>\n",
       "      <td>672042</td>\n",
       "      <td>2015-02-28</td>\n",
       "      <td>0</td>\n",
       "      <td>NaN</td>\n",
       "      <td>NaN</td>\n",
       "      <td>NaN</td>\n",
       "      <td>NaN</td>\n",
       "      <td>NA</td>\n",
       "      <td>NaN</td>\n",
       "      <td>NaN</td>\n",
       "      <td>...</td>\n",
       "      <td>0</td>\n",
       "      <td>0</td>\n",
       "      <td>0</td>\n",
       "      <td>0.0</td>\n",
       "      <td>0.0</td>\n",
       "      <td>0</td>\n",
       "      <td>0</td>\n",
       "      <td>2</td>\n",
       "      <td>2015</td>\n",
       "      <td>0</td>\n",
       "    </tr>\n",
       "    <tr>\n",
       "      <th>38929</th>\n",
       "      <td>1390588</td>\n",
       "      <td>2015-02-28</td>\n",
       "      <td>1</td>\n",
       "      <td>NaN</td>\n",
       "      <td>NaN</td>\n",
       "      <td>NaN</td>\n",
       "      <td>NaN</td>\n",
       "      <td>NA</td>\n",
       "      <td>NaN</td>\n",
       "      <td>NaN</td>\n",
       "      <td>...</td>\n",
       "      <td>0</td>\n",
       "      <td>0</td>\n",
       "      <td>0</td>\n",
       "      <td>0.0</td>\n",
       "      <td>0.0</td>\n",
       "      <td>0</td>\n",
       "      <td>0</td>\n",
       "      <td>2</td>\n",
       "      <td>2015</td>\n",
       "      <td>0</td>\n",
       "    </tr>\n",
       "    <tr>\n",
       "      <th>40498</th>\n",
       "      <td>1500541</td>\n",
       "      <td>2015-02-28</td>\n",
       "      <td>1</td>\n",
       "      <td>NaN</td>\n",
       "      <td>NaN</td>\n",
       "      <td>NaN</td>\n",
       "      <td>NaN</td>\n",
       "      <td>NA</td>\n",
       "      <td>NaN</td>\n",
       "      <td>NaN</td>\n",
       "      <td>...</td>\n",
       "      <td>0</td>\n",
       "      <td>0</td>\n",
       "      <td>0</td>\n",
       "      <td>0.0</td>\n",
       "      <td>0.0</td>\n",
       "      <td>1</td>\n",
       "      <td>0</td>\n",
       "      <td>2</td>\n",
       "      <td>2015</td>\n",
       "      <td>0</td>\n",
       "    </tr>\n",
       "    <tr>\n",
       "      <th>42830</th>\n",
       "      <td>1185286</td>\n",
       "      <td>2015-02-28</td>\n",
       "      <td>0</td>\n",
       "      <td>NaN</td>\n",
       "      <td>NaN</td>\n",
       "      <td>NaN</td>\n",
       "      <td>NaN</td>\n",
       "      <td>NA</td>\n",
       "      <td>NaN</td>\n",
       "      <td>NaN</td>\n",
       "      <td>...</td>\n",
       "      <td>0</td>\n",
       "      <td>0</td>\n",
       "      <td>0</td>\n",
       "      <td>NaN</td>\n",
       "      <td>NaN</td>\n",
       "      <td>0</td>\n",
       "      <td>0</td>\n",
       "      <td>2</td>\n",
       "      <td>2015</td>\n",
       "      <td>0</td>\n",
       "    </tr>\n",
       "    <tr>\n",
       "      <th>47789</th>\n",
       "      <td>300713</td>\n",
       "      <td>2015-02-28</td>\n",
       "      <td>1</td>\n",
       "      <td>NaN</td>\n",
       "      <td>NaN</td>\n",
       "      <td>NaN</td>\n",
       "      <td>NaN</td>\n",
       "      <td>NA</td>\n",
       "      <td>NaN</td>\n",
       "      <td>NaN</td>\n",
       "      <td>...</td>\n",
       "      <td>0</td>\n",
       "      <td>0</td>\n",
       "      <td>0</td>\n",
       "      <td>0.0</td>\n",
       "      <td>0.0</td>\n",
       "      <td>0</td>\n",
       "      <td>0</td>\n",
       "      <td>2</td>\n",
       "      <td>2015</td>\n",
       "      <td>0</td>\n",
       "    </tr>\n",
       "    <tr>\n",
       "      <th>49501</th>\n",
       "      <td>372326</td>\n",
       "      <td>2015-02-28</td>\n",
       "      <td>1</td>\n",
       "      <td>NaN</td>\n",
       "      <td>NaN</td>\n",
       "      <td>NaN</td>\n",
       "      <td>NaN</td>\n",
       "      <td>NA</td>\n",
       "      <td>NaN</td>\n",
       "      <td>NaN</td>\n",
       "      <td>...</td>\n",
       "      <td>0</td>\n",
       "      <td>0</td>\n",
       "      <td>0</td>\n",
       "      <td>0.0</td>\n",
       "      <td>0.0</td>\n",
       "      <td>0</td>\n",
       "      <td>0</td>\n",
       "      <td>2</td>\n",
       "      <td>2015</td>\n",
       "      <td>0</td>\n",
       "    </tr>\n",
       "    <tr>\n",
       "      <th>50296</th>\n",
       "      <td>216184</td>\n",
       "      <td>2015-02-28</td>\n",
       "      <td>0</td>\n",
       "      <td>NaN</td>\n",
       "      <td>NaN</td>\n",
       "      <td>NaN</td>\n",
       "      <td>NaN</td>\n",
       "      <td>NA</td>\n",
       "      <td>NaN</td>\n",
       "      <td>NaN</td>\n",
       "      <td>...</td>\n",
       "      <td>0</td>\n",
       "      <td>0</td>\n",
       "      <td>0</td>\n",
       "      <td>NaN</td>\n",
       "      <td>NaN</td>\n",
       "      <td>0</td>\n",
       "      <td>0</td>\n",
       "      <td>2</td>\n",
       "      <td>2015</td>\n",
       "      <td>0</td>\n",
       "    </tr>\n",
       "    <tr>\n",
       "      <th>50459</th>\n",
       "      <td>210920</td>\n",
       "      <td>2015-02-28</td>\n",
       "      <td>0</td>\n",
       "      <td>NaN</td>\n",
       "      <td>NaN</td>\n",
       "      <td>NaN</td>\n",
       "      <td>NaN</td>\n",
       "      <td>NA</td>\n",
       "      <td>NaN</td>\n",
       "      <td>NaN</td>\n",
       "      <td>...</td>\n",
       "      <td>0</td>\n",
       "      <td>0</td>\n",
       "      <td>0</td>\n",
       "      <td>0.0</td>\n",
       "      <td>0.0</td>\n",
       "      <td>0</td>\n",
       "      <td>0</td>\n",
       "      <td>2</td>\n",
       "      <td>2015</td>\n",
       "      <td>0</td>\n",
       "    </tr>\n",
       "    <tr>\n",
       "      <th>51501</th>\n",
       "      <td>170635</td>\n",
       "      <td>2015-02-28</td>\n",
       "      <td>1</td>\n",
       "      <td>NaN</td>\n",
       "      <td>NaN</td>\n",
       "      <td>NaN</td>\n",
       "      <td>NaN</td>\n",
       "      <td>NA</td>\n",
       "      <td>NaN</td>\n",
       "      <td>NaN</td>\n",
       "      <td>...</td>\n",
       "      <td>0</td>\n",
       "      <td>0</td>\n",
       "      <td>0</td>\n",
       "      <td>0.0</td>\n",
       "      <td>0.0</td>\n",
       "      <td>0</td>\n",
       "      <td>0</td>\n",
       "      <td>2</td>\n",
       "      <td>2015</td>\n",
       "      <td>0</td>\n",
       "    </tr>\n",
       "    <tr>\n",
       "      <th>59305</th>\n",
       "      <td>421992</td>\n",
       "      <td>2015-02-28</td>\n",
       "      <td>0</td>\n",
       "      <td>NaN</td>\n",
       "      <td>NaN</td>\n",
       "      <td>NaN</td>\n",
       "      <td>NaN</td>\n",
       "      <td>NA</td>\n",
       "      <td>NaN</td>\n",
       "      <td>NaN</td>\n",
       "      <td>...</td>\n",
       "      <td>0</td>\n",
       "      <td>0</td>\n",
       "      <td>0</td>\n",
       "      <td>NaN</td>\n",
       "      <td>NaN</td>\n",
       "      <td>0</td>\n",
       "      <td>0</td>\n",
       "      <td>2</td>\n",
       "      <td>2015</td>\n",
       "      <td>0</td>\n",
       "    </tr>\n",
       "    <tr>\n",
       "      <th>60545</th>\n",
       "      <td>532938</td>\n",
       "      <td>2015-02-28</td>\n",
       "      <td>1</td>\n",
       "      <td>NaN</td>\n",
       "      <td>NaN</td>\n",
       "      <td>NaN</td>\n",
       "      <td>NaN</td>\n",
       "      <td>NA</td>\n",
       "      <td>NaN</td>\n",
       "      <td>NaN</td>\n",
       "      <td>...</td>\n",
       "      <td>0</td>\n",
       "      <td>0</td>\n",
       "      <td>0</td>\n",
       "      <td>NaN</td>\n",
       "      <td>NaN</td>\n",
       "      <td>0</td>\n",
       "      <td>0</td>\n",
       "      <td>2</td>\n",
       "      <td>2015</td>\n",
       "      <td>0</td>\n",
       "    </tr>\n",
       "    <tr>\n",
       "      <th>62584</th>\n",
       "      <td>1012056</td>\n",
       "      <td>2015-03-28</td>\n",
       "      <td>1</td>\n",
       "      <td>NaN</td>\n",
       "      <td>NaN</td>\n",
       "      <td>NaN</td>\n",
       "      <td>NaN</td>\n",
       "      <td>NA</td>\n",
       "      <td>NaN</td>\n",
       "      <td>NaN</td>\n",
       "      <td>...</td>\n",
       "      <td>0</td>\n",
       "      <td>0</td>\n",
       "      <td>0</td>\n",
       "      <td>0.0</td>\n",
       "      <td>0.0</td>\n",
       "      <td>0</td>\n",
       "      <td>0</td>\n",
       "      <td>3</td>\n",
       "      <td>2015</td>\n",
       "      <td>0</td>\n",
       "    </tr>\n",
       "    <tr>\n",
       "      <th>62870</th>\n",
       "      <td>931306</td>\n",
       "      <td>2015-03-28</td>\n",
       "      <td>1</td>\n",
       "      <td>NaN</td>\n",
       "      <td>NaN</td>\n",
       "      <td>NaN</td>\n",
       "      <td>NaN</td>\n",
       "      <td>NA</td>\n",
       "      <td>NaN</td>\n",
       "      <td>NaN</td>\n",
       "      <td>...</td>\n",
       "      <td>0</td>\n",
       "      <td>0</td>\n",
       "      <td>0</td>\n",
       "      <td>NaN</td>\n",
       "      <td>NaN</td>\n",
       "      <td>0</td>\n",
       "      <td>0</td>\n",
       "      <td>3</td>\n",
       "      <td>2015</td>\n",
       "      <td>0</td>\n",
       "    </tr>\n",
       "    <tr>\n",
       "      <th>67098</th>\n",
       "      <td>672042</td>\n",
       "      <td>2015-03-28</td>\n",
       "      <td>0</td>\n",
       "      <td>NaN</td>\n",
       "      <td>NaN</td>\n",
       "      <td>NaN</td>\n",
       "      <td>NaN</td>\n",
       "      <td>NA</td>\n",
       "      <td>NaN</td>\n",
       "      <td>NaN</td>\n",
       "      <td>...</td>\n",
       "      <td>0</td>\n",
       "      <td>0</td>\n",
       "      <td>0</td>\n",
       "      <td>0.0</td>\n",
       "      <td>0.0</td>\n",
       "      <td>0</td>\n",
       "      <td>0</td>\n",
       "      <td>3</td>\n",
       "      <td>2015</td>\n",
       "      <td>0</td>\n",
       "    </tr>\n",
       "    <tr>\n",
       "      <th>69663</th>\n",
       "      <td>1390588</td>\n",
       "      <td>2015-03-28</td>\n",
       "      <td>1</td>\n",
       "      <td>NaN</td>\n",
       "      <td>NaN</td>\n",
       "      <td>NaN</td>\n",
       "      <td>NaN</td>\n",
       "      <td>NA</td>\n",
       "      <td>NaN</td>\n",
       "      <td>NaN</td>\n",
       "      <td>...</td>\n",
       "      <td>0</td>\n",
       "      <td>0</td>\n",
       "      <td>0</td>\n",
       "      <td>0.0</td>\n",
       "      <td>0.0</td>\n",
       "      <td>0</td>\n",
       "      <td>0</td>\n",
       "      <td>3</td>\n",
       "      <td>2015</td>\n",
       "      <td>0</td>\n",
       "    </tr>\n",
       "    <tr>\n",
       "      <th>72277</th>\n",
       "      <td>1500541</td>\n",
       "      <td>2015-03-28</td>\n",
       "      <td>1</td>\n",
       "      <td>NaN</td>\n",
       "      <td>NaN</td>\n",
       "      <td>NaN</td>\n",
       "      <td>NaN</td>\n",
       "      <td>NA</td>\n",
       "      <td>NaN</td>\n",
       "      <td>NaN</td>\n",
       "      <td>...</td>\n",
       "      <td>0</td>\n",
       "      <td>0</td>\n",
       "      <td>0</td>\n",
       "      <td>NaN</td>\n",
       "      <td>NaN</td>\n",
       "      <td>0</td>\n",
       "      <td>0</td>\n",
       "      <td>3</td>\n",
       "      <td>2015</td>\n",
       "      <td>0</td>\n",
       "    </tr>\n",
       "    <tr>\n",
       "      <th>78488</th>\n",
       "      <td>300713</td>\n",
       "      <td>2015-03-28</td>\n",
       "      <td>1</td>\n",
       "      <td>NaN</td>\n",
       "      <td>NaN</td>\n",
       "      <td>NaN</td>\n",
       "      <td>NaN</td>\n",
       "      <td>NA</td>\n",
       "      <td>NaN</td>\n",
       "      <td>NaN</td>\n",
       "      <td>...</td>\n",
       "      <td>0</td>\n",
       "      <td>0</td>\n",
       "      <td>0</td>\n",
       "      <td>0.0</td>\n",
       "      <td>0.0</td>\n",
       "      <td>0</td>\n",
       "      <td>0</td>\n",
       "      <td>3</td>\n",
       "      <td>2015</td>\n",
       "      <td>0</td>\n",
       "    </tr>\n",
       "    <tr>\n",
       "      <th>81102</th>\n",
       "      <td>372326</td>\n",
       "      <td>2015-03-28</td>\n",
       "      <td>1</td>\n",
       "      <td>NaN</td>\n",
       "      <td>NaN</td>\n",
       "      <td>NaN</td>\n",
       "      <td>NaN</td>\n",
       "      <td>NA</td>\n",
       "      <td>NaN</td>\n",
       "      <td>NaN</td>\n",
       "      <td>...</td>\n",
       "      <td>0</td>\n",
       "      <td>0</td>\n",
       "      <td>0</td>\n",
       "      <td>NaN</td>\n",
       "      <td>NaN</td>\n",
       "      <td>0</td>\n",
       "      <td>0</td>\n",
       "      <td>3</td>\n",
       "      <td>2015</td>\n",
       "      <td>0</td>\n",
       "    </tr>\n",
       "    <tr>\n",
       "      <th>81383</th>\n",
       "      <td>210920</td>\n",
       "      <td>2015-03-28</td>\n",
       "      <td>0</td>\n",
       "      <td>NaN</td>\n",
       "      <td>NaN</td>\n",
       "      <td>NaN</td>\n",
       "      <td>NaN</td>\n",
       "      <td>NA</td>\n",
       "      <td>NaN</td>\n",
       "      <td>NaN</td>\n",
       "      <td>...</td>\n",
       "      <td>0</td>\n",
       "      <td>0</td>\n",
       "      <td>0</td>\n",
       "      <td>NaN</td>\n",
       "      <td>NaN</td>\n",
       "      <td>0</td>\n",
       "      <td>0</td>\n",
       "      <td>3</td>\n",
       "      <td>2015</td>\n",
       "      <td>0</td>\n",
       "    </tr>\n",
       "    <tr>\n",
       "      <th>82415</th>\n",
       "      <td>170635</td>\n",
       "      <td>2015-03-28</td>\n",
       "      <td>1</td>\n",
       "      <td>NaN</td>\n",
       "      <td>NaN</td>\n",
       "      <td>NaN</td>\n",
       "      <td>NaN</td>\n",
       "      <td>NA</td>\n",
       "      <td>NaN</td>\n",
       "      <td>NaN</td>\n",
       "      <td>...</td>\n",
       "      <td>0</td>\n",
       "      <td>0</td>\n",
       "      <td>0</td>\n",
       "      <td>0.0</td>\n",
       "      <td>0.0</td>\n",
       "      <td>0</td>\n",
       "      <td>0</td>\n",
       "      <td>3</td>\n",
       "      <td>2015</td>\n",
       "      <td>0</td>\n",
       "    </tr>\n",
       "    <tr>\n",
       "      <th>86523</th>\n",
       "      <td>532938</td>\n",
       "      <td>2015-03-28</td>\n",
       "      <td>1</td>\n",
       "      <td>NaN</td>\n",
       "      <td>NaN</td>\n",
       "      <td>NaN</td>\n",
       "      <td>NaN</td>\n",
       "      <td>NA</td>\n",
       "      <td>NaN</td>\n",
       "      <td>NaN</td>\n",
       "      <td>...</td>\n",
       "      <td>0</td>\n",
       "      <td>0</td>\n",
       "      <td>0</td>\n",
       "      <td>NaN</td>\n",
       "      <td>NaN</td>\n",
       "      <td>0</td>\n",
       "      <td>0</td>\n",
       "      <td>3</td>\n",
       "      <td>2015</td>\n",
       "      <td>0</td>\n",
       "    </tr>\n",
       "    <tr>\n",
       "      <th>90240</th>\n",
       "      <td>421992</td>\n",
       "      <td>2015-03-28</td>\n",
       "      <td>0</td>\n",
       "      <td>NaN</td>\n",
       "      <td>NaN</td>\n",
       "      <td>NaN</td>\n",
       "      <td>NaN</td>\n",
       "      <td>NA</td>\n",
       "      <td>NaN</td>\n",
       "      <td>NaN</td>\n",
       "      <td>...</td>\n",
       "      <td>0</td>\n",
       "      <td>0</td>\n",
       "      <td>0</td>\n",
       "      <td>NaN</td>\n",
       "      <td>NaN</td>\n",
       "      <td>0</td>\n",
       "      <td>0</td>\n",
       "      <td>3</td>\n",
       "      <td>2015</td>\n",
       "      <td>0</td>\n",
       "    </tr>\n",
       "    <tr>\n",
       "      <th>93132</th>\n",
       "      <td>1012056</td>\n",
       "      <td>2015-04-28</td>\n",
       "      <td>1</td>\n",
       "      <td>NaN</td>\n",
       "      <td>NaN</td>\n",
       "      <td>NaN</td>\n",
       "      <td>NaN</td>\n",
       "      <td>NA</td>\n",
       "      <td>NaN</td>\n",
       "      <td>NaN</td>\n",
       "      <td>...</td>\n",
       "      <td>0</td>\n",
       "      <td>0</td>\n",
       "      <td>0</td>\n",
       "      <td>NaN</td>\n",
       "      <td>NaN</td>\n",
       "      <td>0</td>\n",
       "      <td>0</td>\n",
       "      <td>4</td>\n",
       "      <td>2015</td>\n",
       "      <td>0</td>\n",
       "    </tr>\n",
       "    <tr>\n",
       "      <th>98136</th>\n",
       "      <td>672042</td>\n",
       "      <td>2015-04-28</td>\n",
       "      <td>0</td>\n",
       "      <td>NaN</td>\n",
       "      <td>NaN</td>\n",
       "      <td>NaN</td>\n",
       "      <td>NaN</td>\n",
       "      <td>NA</td>\n",
       "      <td>NaN</td>\n",
       "      <td>NaN</td>\n",
       "      <td>...</td>\n",
       "      <td>0</td>\n",
       "      <td>0</td>\n",
       "      <td>0</td>\n",
       "      <td>0.0</td>\n",
       "      <td>0.0</td>\n",
       "      <td>0</td>\n",
       "      <td>0</td>\n",
       "      <td>4</td>\n",
       "      <td>2015</td>\n",
       "      <td>0</td>\n",
       "    </tr>\n",
       "    <tr>\n",
       "      <th>101072</th>\n",
       "      <td>1390588</td>\n",
       "      <td>2015-04-28</td>\n",
       "      <td>1</td>\n",
       "      <td>NaN</td>\n",
       "      <td>NaN</td>\n",
       "      <td>NaN</td>\n",
       "      <td>NaN</td>\n",
       "      <td>NA</td>\n",
       "      <td>NaN</td>\n",
       "      <td>NaN</td>\n",
       "      <td>...</td>\n",
       "      <td>0</td>\n",
       "      <td>0</td>\n",
       "      <td>0</td>\n",
       "      <td>NaN</td>\n",
       "      <td>NaN</td>\n",
       "      <td>0</td>\n",
       "      <td>0</td>\n",
       "      <td>4</td>\n",
       "      <td>2015</td>\n",
       "      <td>0</td>\n",
       "    </tr>\n",
       "    <tr>\n",
       "      <th>109532</th>\n",
       "      <td>300713</td>\n",
       "      <td>2015-04-28</td>\n",
       "      <td>1</td>\n",
       "      <td>NaN</td>\n",
       "      <td>NaN</td>\n",
       "      <td>NaN</td>\n",
       "      <td>NaN</td>\n",
       "      <td>NA</td>\n",
       "      <td>NaN</td>\n",
       "      <td>NaN</td>\n",
       "      <td>...</td>\n",
       "      <td>0</td>\n",
       "      <td>0</td>\n",
       "      <td>0</td>\n",
       "      <td>NaN</td>\n",
       "      <td>NaN</td>\n",
       "      <td>0</td>\n",
       "      <td>0</td>\n",
       "      <td>4</td>\n",
       "      <td>2015</td>\n",
       "      <td>0</td>\n",
       "    </tr>\n",
       "    <tr>\n",
       "      <th>113518</th>\n",
       "      <td>170635</td>\n",
       "      <td>2015-04-28</td>\n",
       "      <td>1</td>\n",
       "      <td>NaN</td>\n",
       "      <td>NaN</td>\n",
       "      <td>NaN</td>\n",
       "      <td>NaN</td>\n",
       "      <td>NA</td>\n",
       "      <td>NaN</td>\n",
       "      <td>NaN</td>\n",
       "      <td>...</td>\n",
       "      <td>0</td>\n",
       "      <td>0</td>\n",
       "      <td>0</td>\n",
       "      <td>0.0</td>\n",
       "      <td>0.0</td>\n",
       "      <td>0</td>\n",
       "      <td>0</td>\n",
       "      <td>4</td>\n",
       "      <td>2015</td>\n",
       "      <td>0</td>\n",
       "    </tr>\n",
       "    <tr>\n",
       "      <th>117665</th>\n",
       "      <td>532938</td>\n",
       "      <td>2015-04-28</td>\n",
       "      <td>1</td>\n",
       "      <td>NaN</td>\n",
       "      <td>NaN</td>\n",
       "      <td>NaN</td>\n",
       "      <td>NaN</td>\n",
       "      <td>NA</td>\n",
       "      <td>NaN</td>\n",
       "      <td>NaN</td>\n",
       "      <td>...</td>\n",
       "      <td>0</td>\n",
       "      <td>0</td>\n",
       "      <td>0</td>\n",
       "      <td>NaN</td>\n",
       "      <td>NaN</td>\n",
       "      <td>0</td>\n",
       "      <td>0</td>\n",
       "      <td>4</td>\n",
       "      <td>2015</td>\n",
       "      <td>0</td>\n",
       "    </tr>\n",
       "    <tr>\n",
       "      <th>121368</th>\n",
       "      <td>421992</td>\n",
       "      <td>2015-04-28</td>\n",
       "      <td>0</td>\n",
       "      <td>NaN</td>\n",
       "      <td>NaN</td>\n",
       "      <td>NaN</td>\n",
       "      <td>NaN</td>\n",
       "      <td>NA</td>\n",
       "      <td>NaN</td>\n",
       "      <td>NaN</td>\n",
       "      <td>...</td>\n",
       "      <td>0</td>\n",
       "      <td>0</td>\n",
       "      <td>0</td>\n",
       "      <td>NaN</td>\n",
       "      <td>NaN</td>\n",
       "      <td>0</td>\n",
       "      <td>0</td>\n",
       "      <td>4</td>\n",
       "      <td>2015</td>\n",
       "      <td>0</td>\n",
       "    </tr>\n",
       "    <tr>\n",
       "      <th>126992</th>\n",
       "      <td>421992</td>\n",
       "      <td>2015-05-28</td>\n",
       "      <td>0</td>\n",
       "      <td>NaN</td>\n",
       "      <td>NaN</td>\n",
       "      <td>NaN</td>\n",
       "      <td>NaN</td>\n",
       "      <td>NA</td>\n",
       "      <td>NaN</td>\n",
       "      <td>NaN</td>\n",
       "      <td>...</td>\n",
       "      <td>0</td>\n",
       "      <td>0</td>\n",
       "      <td>0</td>\n",
       "      <td>NaN</td>\n",
       "      <td>NaN</td>\n",
       "      <td>0</td>\n",
       "      <td>0</td>\n",
       "      <td>5</td>\n",
       "      <td>2015</td>\n",
       "      <td>0</td>\n",
       "    </tr>\n",
       "    <tr>\n",
       "      <th>130875</th>\n",
       "      <td>532938</td>\n",
       "      <td>2015-05-28</td>\n",
       "      <td>1</td>\n",
       "      <td>NaN</td>\n",
       "      <td>NaN</td>\n",
       "      <td>NaN</td>\n",
       "      <td>NaN</td>\n",
       "      <td>NA</td>\n",
       "      <td>NaN</td>\n",
       "      <td>NaN</td>\n",
       "      <td>...</td>\n",
       "      <td>0</td>\n",
       "      <td>0</td>\n",
       "      <td>0</td>\n",
       "      <td>NaN</td>\n",
       "      <td>NaN</td>\n",
       "      <td>0</td>\n",
       "      <td>0</td>\n",
       "      <td>5</td>\n",
       "      <td>2015</td>\n",
       "      <td>0</td>\n",
       "    </tr>\n",
       "    <tr>\n",
       "      <th>134835</th>\n",
       "      <td>170635</td>\n",
       "      <td>2015-05-28</td>\n",
       "      <td>1</td>\n",
       "      <td>NaN</td>\n",
       "      <td>NaN</td>\n",
       "      <td>NaN</td>\n",
       "      <td>NaN</td>\n",
       "      <td>NA</td>\n",
       "      <td>NaN</td>\n",
       "      <td>NaN</td>\n",
       "      <td>...</td>\n",
       "      <td>0</td>\n",
       "      <td>0</td>\n",
       "      <td>0</td>\n",
       "      <td>0.0</td>\n",
       "      <td>0.0</td>\n",
       "      <td>0</td>\n",
       "      <td>0</td>\n",
       "      <td>5</td>\n",
       "      <td>2015</td>\n",
       "      <td>0</td>\n",
       "    </tr>\n",
       "    <tr>\n",
       "      <th>150407</th>\n",
       "      <td>672042</td>\n",
       "      <td>2015-05-28</td>\n",
       "      <td>0</td>\n",
       "      <td>NaN</td>\n",
       "      <td>NaN</td>\n",
       "      <td>NaN</td>\n",
       "      <td>NaN</td>\n",
       "      <td>NA</td>\n",
       "      <td>NaN</td>\n",
       "      <td>NaN</td>\n",
       "      <td>...</td>\n",
       "      <td>0</td>\n",
       "      <td>0</td>\n",
       "      <td>0</td>\n",
       "      <td>NaN</td>\n",
       "      <td>NaN</td>\n",
       "      <td>0</td>\n",
       "      <td>0</td>\n",
       "      <td>5</td>\n",
       "      <td>2015</td>\n",
       "      <td>0</td>\n",
       "    </tr>\n",
       "    <tr>\n",
       "      <th>155345</th>\n",
       "      <td>1012056</td>\n",
       "      <td>2015-05-28</td>\n",
       "      <td>1</td>\n",
       "      <td>NaN</td>\n",
       "      <td>NaN</td>\n",
       "      <td>NaN</td>\n",
       "      <td>NaN</td>\n",
       "      <td>NA</td>\n",
       "      <td>NaN</td>\n",
       "      <td>NaN</td>\n",
       "      <td>...</td>\n",
       "      <td>0</td>\n",
       "      <td>0</td>\n",
       "      <td>0</td>\n",
       "      <td>NaN</td>\n",
       "      <td>NaN</td>\n",
       "      <td>0</td>\n",
       "      <td>0</td>\n",
       "      <td>5</td>\n",
       "      <td>2015</td>\n",
       "      <td>0</td>\n",
       "    </tr>\n",
       "    <tr>\n",
       "      <th>158323</th>\n",
       "      <td>421992</td>\n",
       "      <td>2015-06-28</td>\n",
       "      <td>0</td>\n",
       "      <td>NaN</td>\n",
       "      <td>NaN</td>\n",
       "      <td>NaN</td>\n",
       "      <td>NaN</td>\n",
       "      <td>NA</td>\n",
       "      <td>NaN</td>\n",
       "      <td>NaN</td>\n",
       "      <td>...</td>\n",
       "      <td>0</td>\n",
       "      <td>0</td>\n",
       "      <td>0</td>\n",
       "      <td>NaN</td>\n",
       "      <td>NaN</td>\n",
       "      <td>0</td>\n",
       "      <td>0</td>\n",
       "      <td>6</td>\n",
       "      <td>2015</td>\n",
       "      <td>0</td>\n",
       "    </tr>\n",
       "    <tr>\n",
       "      <th>162097</th>\n",
       "      <td>532938</td>\n",
       "      <td>2015-06-28</td>\n",
       "      <td>1</td>\n",
       "      <td>NaN</td>\n",
       "      <td>NaN</td>\n",
       "      <td>NaN</td>\n",
       "      <td>NaN</td>\n",
       "      <td>NA</td>\n",
       "      <td>NaN</td>\n",
       "      <td>NaN</td>\n",
       "      <td>...</td>\n",
       "      <td>0</td>\n",
       "      <td>0</td>\n",
       "      <td>0</td>\n",
       "      <td>NaN</td>\n",
       "      <td>NaN</td>\n",
       "      <td>0</td>\n",
       "      <td>0</td>\n",
       "      <td>6</td>\n",
       "      <td>2015</td>\n",
       "      <td>0</td>\n",
       "    </tr>\n",
       "    <tr>\n",
       "      <th>165637</th>\n",
       "      <td>170635</td>\n",
       "      <td>2015-06-28</td>\n",
       "      <td>1</td>\n",
       "      <td>NaN</td>\n",
       "      <td>NaN</td>\n",
       "      <td>NaN</td>\n",
       "      <td>NaN</td>\n",
       "      <td>NA</td>\n",
       "      <td>NaN</td>\n",
       "      <td>NaN</td>\n",
       "      <td>...</td>\n",
       "      <td>0</td>\n",
       "      <td>0</td>\n",
       "      <td>0</td>\n",
       "      <td>NaN</td>\n",
       "      <td>NaN</td>\n",
       "      <td>0</td>\n",
       "      <td>0</td>\n",
       "      <td>6</td>\n",
       "      <td>2015</td>\n",
       "      <td>0</td>\n",
       "    </tr>\n",
       "  </tbody>\n",
       "</table>\n",
       "<p>56 rows × 50 columns</p>\n",
       "</div>"
      ],
      "text/plain": [
       "        cod_persona        mes  sexo  edad fecha1 xti_empleado  \\\n",
       "1453         532938 2015-01-28     1   NaN    NaN          NaN   \n",
       "2570         421992 2015-01-28     0   NaN    NaN          NaN   \n",
       "5323         672042 2015-01-28     0   NaN    NaN          NaN   \n",
       "7976         256163 2015-01-28     0   NaN    NaN          NaN   \n",
       "8899         289373 2015-01-28     1   NaN    NaN          NaN   \n",
       "9160         300713 2015-01-28     1   NaN    NaN          NaN   \n",
       "10037        210920 2015-01-28     0   NaN    NaN          NaN   \n",
       "10178        205901 2015-01-28     0   NaN    NaN          NaN   \n",
       "10287        183684 2015-01-28     0   NaN    NaN          NaN   \n",
       "11391        216184 2015-01-28     0   NaN    NaN          NaN   \n",
       "12511        372326 2015-01-28     1   NaN    NaN          NaN   \n",
       "17757       1185286 2015-01-28     0   NaN    NaN          NaN   \n",
       "21209       1500541 2015-01-28     1   NaN    NaN          NaN   \n",
       "22899       1390588 2015-01-28     1   NaN    NaN          NaN   \n",
       "24455        931306 2015-01-28     1   NaN    NaN          NaN   \n",
       "28599       1097377 2015-01-28     1   NaN    NaN          NaN   \n",
       "30783       1012056 2015-01-28     1   NaN    NaN          NaN   \n",
       "31006       1012056 2015-02-28     1   NaN    NaN          NaN   \n",
       "32050        931306 2015-02-28     1   NaN    NaN          NaN   \n",
       "36003        672042 2015-02-28     0   NaN    NaN          NaN   \n",
       "38929       1390588 2015-02-28     1   NaN    NaN          NaN   \n",
       "40498       1500541 2015-02-28     1   NaN    NaN          NaN   \n",
       "42830       1185286 2015-02-28     0   NaN    NaN          NaN   \n",
       "47789        300713 2015-02-28     1   NaN    NaN          NaN   \n",
       "49501        372326 2015-02-28     1   NaN    NaN          NaN   \n",
       "50296        216184 2015-02-28     0   NaN    NaN          NaN   \n",
       "50459        210920 2015-02-28     0   NaN    NaN          NaN   \n",
       "51501        170635 2015-02-28     1   NaN    NaN          NaN   \n",
       "59305        421992 2015-02-28     0   NaN    NaN          NaN   \n",
       "60545        532938 2015-02-28     1   NaN    NaN          NaN   \n",
       "62584       1012056 2015-03-28     1   NaN    NaN          NaN   \n",
       "62870        931306 2015-03-28     1   NaN    NaN          NaN   \n",
       "67098        672042 2015-03-28     0   NaN    NaN          NaN   \n",
       "69663       1390588 2015-03-28     1   NaN    NaN          NaN   \n",
       "72277       1500541 2015-03-28     1   NaN    NaN          NaN   \n",
       "78488        300713 2015-03-28     1   NaN    NaN          NaN   \n",
       "81102        372326 2015-03-28     1   NaN    NaN          NaN   \n",
       "81383        210920 2015-03-28     0   NaN    NaN          NaN   \n",
       "82415        170635 2015-03-28     1   NaN    NaN          NaN   \n",
       "86523        532938 2015-03-28     1   NaN    NaN          NaN   \n",
       "90240        421992 2015-03-28     0   NaN    NaN          NaN   \n",
       "93132       1012056 2015-04-28     1   NaN    NaN          NaN   \n",
       "98136        672042 2015-04-28     0   NaN    NaN          NaN   \n",
       "101072      1390588 2015-04-28     1   NaN    NaN          NaN   \n",
       "109532       300713 2015-04-28     1   NaN    NaN          NaN   \n",
       "113518       170635 2015-04-28     1   NaN    NaN          NaN   \n",
       "117665       532938 2015-04-28     1   NaN    NaN          NaN   \n",
       "121368       421992 2015-04-28     0   NaN    NaN          NaN   \n",
       "126992       421992 2015-05-28     0   NaN    NaN          NaN   \n",
       "130875       532938 2015-05-28     1   NaN    NaN          NaN   \n",
       "134835       170635 2015-05-28     1   NaN    NaN          NaN   \n",
       "150407       672042 2015-05-28     0   NaN    NaN          NaN   \n",
       "155345      1012056 2015-05-28     1   NaN    NaN          NaN   \n",
       "158323       421992 2015-06-28     0   NaN    NaN          NaN   \n",
       "162097       532938 2015-06-28     1   NaN    NaN          NaN   \n",
       "165637       170635 2015-06-28     1   NaN    NaN          NaN   \n",
       "\n",
       "        xti_nuevo_cliente num_antiguedad  xti_rel fec_ult_cli_1t  ...  \\\n",
       "1453                  NaN             NA      NaN            NaN  ...   \n",
       "2570                  NaN             NA      NaN            NaN  ...   \n",
       "5323                  NaN             NA      NaN            NaN  ...   \n",
       "7976                  NaN             NA      NaN            NaN  ...   \n",
       "8899                  NaN             NA      NaN            NaN  ...   \n",
       "9160                  NaN             NA      NaN            NaN  ...   \n",
       "10037                 NaN             NA      NaN            NaN  ...   \n",
       "10178                 NaN             NA      NaN            NaN  ...   \n",
       "10287                 NaN             NA      NaN            NaN  ...   \n",
       "11391                 NaN             NA      NaN            NaN  ...   \n",
       "12511                 NaN             NA      NaN            NaN  ...   \n",
       "17757                 NaN             NA      NaN            NaN  ...   \n",
       "21209                 NaN             NA      NaN            NaN  ...   \n",
       "22899                 NaN             NA      NaN            NaN  ...   \n",
       "24455                 NaN             NA      NaN            NaN  ...   \n",
       "28599                 NaN             NA      NaN            NaN  ...   \n",
       "30783                 NaN             NA      NaN            NaN  ...   \n",
       "31006                 NaN             NA      NaN            NaN  ...   \n",
       "32050                 NaN             NA      NaN            NaN  ...   \n",
       "36003                 NaN             NA      NaN            NaN  ...   \n",
       "38929                 NaN             NA      NaN            NaN  ...   \n",
       "40498                 NaN             NA      NaN            NaN  ...   \n",
       "42830                 NaN             NA      NaN            NaN  ...   \n",
       "47789                 NaN             NA      NaN            NaN  ...   \n",
       "49501                 NaN             NA      NaN            NaN  ...   \n",
       "50296                 NaN             NA      NaN            NaN  ...   \n",
       "50459                 NaN             NA      NaN            NaN  ...   \n",
       "51501                 NaN             NA      NaN            NaN  ...   \n",
       "59305                 NaN             NA      NaN            NaN  ...   \n",
       "60545                 NaN             NA      NaN            NaN  ...   \n",
       "62584                 NaN             NA      NaN            NaN  ...   \n",
       "62870                 NaN             NA      NaN            NaN  ...   \n",
       "67098                 NaN             NA      NaN            NaN  ...   \n",
       "69663                 NaN             NA      NaN            NaN  ...   \n",
       "72277                 NaN             NA      NaN            NaN  ...   \n",
       "78488                 NaN             NA      NaN            NaN  ...   \n",
       "81102                 NaN             NA      NaN            NaN  ...   \n",
       "81383                 NaN             NA      NaN            NaN  ...   \n",
       "82415                 NaN             NA      NaN            NaN  ...   \n",
       "86523                 NaN             NA      NaN            NaN  ...   \n",
       "90240                 NaN             NA      NaN            NaN  ...   \n",
       "93132                 NaN             NA      NaN            NaN  ...   \n",
       "98136                 NaN             NA      NaN            NaN  ...   \n",
       "101072                NaN             NA      NaN            NaN  ...   \n",
       "109532                NaN             NA      NaN            NaN  ...   \n",
       "113518                NaN             NA      NaN            NaN  ...   \n",
       "117665                NaN             NA      NaN            NaN  ...   \n",
       "121368                NaN             NA      NaN            NaN  ...   \n",
       "126992                NaN             NA      NaN            NaN  ...   \n",
       "130875                NaN             NA      NaN            NaN  ...   \n",
       "134835                NaN             NA      NaN            NaN  ...   \n",
       "150407                NaN             NA      NaN            NaN  ...   \n",
       "155345                NaN             NA      NaN            NaN  ...   \n",
       "158323                NaN             NA      NaN            NaN  ...   \n",
       "162097                NaN             NA      NaN            NaN  ...   \n",
       "165637                NaN             NA      NaN            NaN  ...   \n",
       "\n",
       "        ind_prod19 ind_prod20 ind_prod21 ind_prod22 ind_prod23 ind_prod24  \\\n",
       "1453             0          0          0        NaN        NaN          0   \n",
       "2570             0          0          0        NaN        NaN          0   \n",
       "5323             0          0          0        0.0        0.0          0   \n",
       "7976             0          0          0        NaN        NaN          0   \n",
       "8899             0          0          0        NaN        NaN          0   \n",
       "9160             0          0          0        0.0        0.0          0   \n",
       "10037            0          0          0        0.0        0.0          0   \n",
       "10178            0          0          0        NaN        NaN          0   \n",
       "10287            0          0          0        NaN        NaN          0   \n",
       "11391            0          0          0        0.0        0.0          0   \n",
       "12511            0          0          0        0.0        0.0          0   \n",
       "17757            0          0          0        0.0        0.0          0   \n",
       "21209            0          0          0        0.0        0.0          1   \n",
       "22899            0          0          0        0.0        0.0          0   \n",
       "24455            0          0          0        0.0        0.0          0   \n",
       "28599            0          0          0        0.0        0.0          0   \n",
       "30783            0          0          0        0.0        0.0          0   \n",
       "31006            0          0          0        0.0        0.0          0   \n",
       "32050            1          0          0        0.0        0.0          0   \n",
       "36003            0          0          0        0.0        0.0          0   \n",
       "38929            0          0          0        0.0        0.0          0   \n",
       "40498            0          0          0        0.0        0.0          1   \n",
       "42830            0          0          0        NaN        NaN          0   \n",
       "47789            0          0          0        0.0        0.0          0   \n",
       "49501            0          0          0        0.0        0.0          0   \n",
       "50296            0          0          0        NaN        NaN          0   \n",
       "50459            0          0          0        0.0        0.0          0   \n",
       "51501            0          0          0        0.0        0.0          0   \n",
       "59305            0          0          0        NaN        NaN          0   \n",
       "60545            0          0          0        NaN        NaN          0   \n",
       "62584            0          0          0        0.0        0.0          0   \n",
       "62870            0          0          0        NaN        NaN          0   \n",
       "67098            0          0          0        0.0        0.0          0   \n",
       "69663            0          0          0        0.0        0.0          0   \n",
       "72277            0          0          0        NaN        NaN          0   \n",
       "78488            0          0          0        0.0        0.0          0   \n",
       "81102            0          0          0        NaN        NaN          0   \n",
       "81383            0          0          0        NaN        NaN          0   \n",
       "82415            0          0          0        0.0        0.0          0   \n",
       "86523            0          0          0        NaN        NaN          0   \n",
       "90240            0          0          0        NaN        NaN          0   \n",
       "93132            0          0          0        NaN        NaN          0   \n",
       "98136            0          0          0        0.0        0.0          0   \n",
       "101072           0          0          0        NaN        NaN          0   \n",
       "109532           0          0          0        NaN        NaN          0   \n",
       "113518           0          0          0        0.0        0.0          0   \n",
       "117665           0          0          0        NaN        NaN          0   \n",
       "121368           0          0          0        NaN        NaN          0   \n",
       "126992           0          0          0        NaN        NaN          0   \n",
       "130875           0          0          0        NaN        NaN          0   \n",
       "134835           0          0          0        0.0        0.0          0   \n",
       "150407           0          0          0        NaN        NaN          0   \n",
       "155345           0          0          0        NaN        NaN          0   \n",
       "158323           0          0          0        NaN        NaN          0   \n",
       "162097           0          0          0        NaN        NaN          0   \n",
       "165637           0          0          0        NaN        NaN          0   \n",
       "\n",
       "        ind_prod25  mes_mes  mes_año  pais_binario  \n",
       "1453             0        1     2015             0  \n",
       "2570             0        1     2015             0  \n",
       "5323             0        1     2015             0  \n",
       "7976             0        1     2015             0  \n",
       "8899             0        1     2015             0  \n",
       "9160             0        1     2015             0  \n",
       "10037            0        1     2015             0  \n",
       "10178            0        1     2015             0  \n",
       "10287            0        1     2015             0  \n",
       "11391            0        1     2015             0  \n",
       "12511            0        1     2015             0  \n",
       "17757            0        1     2015             0  \n",
       "21209            0        1     2015             0  \n",
       "22899            0        1     2015             0  \n",
       "24455            0        1     2015             0  \n",
       "28599            0        1     2015             0  \n",
       "30783            0        1     2015             0  \n",
       "31006            0        2     2015             0  \n",
       "32050            1        2     2015             0  \n",
       "36003            0        2     2015             0  \n",
       "38929            0        2     2015             0  \n",
       "40498            0        2     2015             0  \n",
       "42830            0        2     2015             0  \n",
       "47789            0        2     2015             0  \n",
       "49501            0        2     2015             0  \n",
       "50296            0        2     2015             0  \n",
       "50459            0        2     2015             0  \n",
       "51501            0        2     2015             0  \n",
       "59305            0        2     2015             0  \n",
       "60545            0        2     2015             0  \n",
       "62584            0        3     2015             0  \n",
       "62870            0        3     2015             0  \n",
       "67098            0        3     2015             0  \n",
       "69663            0        3     2015             0  \n",
       "72277            0        3     2015             0  \n",
       "78488            0        3     2015             0  \n",
       "81102            0        3     2015             0  \n",
       "81383            0        3     2015             0  \n",
       "82415            0        3     2015             0  \n",
       "86523            0        3     2015             0  \n",
       "90240            0        3     2015             0  \n",
       "93132            0        4     2015             0  \n",
       "98136            0        4     2015             0  \n",
       "101072           0        4     2015             0  \n",
       "109532           0        4     2015             0  \n",
       "113518           0        4     2015             0  \n",
       "117665           0        4     2015             0  \n",
       "121368           0        4     2015             0  \n",
       "126992           0        5     2015             0  \n",
       "130875           0        5     2015             0  \n",
       "134835           0        5     2015             0  \n",
       "150407           0        5     2015             0  \n",
       "155345           0        5     2015             0  \n",
       "158323           0        6     2015             0  \n",
       "162097           0        6     2015             0  \n",
       "165637           0        6     2015             0  \n",
       "\n",
       "[56 rows x 50 columns]"
      ]
     },
     "execution_count": 29,
     "metadata": {},
     "output_type": "execute_result"
    }
   ],
   "source": [
    "dataset[dataset['fecha1'].isnull()]"
   ]
  },
  {
   "cell_type": "markdown",
   "metadata": {},
   "source": [
    "Todas las columnas son NaN, se dropean todos los registros"
   ]
  },
  {
   "cell_type": "code",
   "execution_count": 30,
   "metadata": {
    "ExecuteTime": {
     "end_time": "2024-06-09T01:16:52.498972500Z",
     "start_time": "2024-06-09T01:16:52.218253100Z"
    }
   },
   "outputs": [],
   "source": [
    "#Dropeamos los registros con valores nulos dentro del subset fecha1.\n",
    "dataset.dropna(subset=['fecha1'], inplace=True)"
   ]
  },
  {
   "cell_type": "code",
   "execution_count": 31,
   "metadata": {
    "ExecuteTime": {
     "end_time": "2024-06-09T01:16:52.667389700Z",
     "start_time": "2024-06-09T01:16:52.418966500Z"
    }
   },
   "outputs": [],
   "source": [
    "dataset['fecha1'] = pd.to_datetime(dataset['fecha1'], errors='coerce')\n",
    "dataset['mes'] = pd.to_datetime(dataset['mes'], errors='coerce')"
   ]
  },
  {
   "cell_type": "code",
   "execution_count": 32,
   "metadata": {
    "ExecuteTime": {
     "end_time": "2024-06-09T01:16:52.674904900Z",
     "start_time": "2024-06-09T01:16:52.570571700Z"
    }
   },
   "outputs": [],
   "source": [
    "# Función para calcular la diferencia en meses correctamente\n",
    "def calcular_meses(fecha_inicio, fecha_fin):\n",
    "    return (fecha_fin.year - fecha_inicio.year) * 12 + fecha_fin.month - fecha_inicio.month\n"
   ]
  },
  {
   "cell_type": "code",
   "execution_count": null,
   "metadata": {
    "ExecuteTime": {
     "end_time": "2024-06-09T01:17:09.077637200Z",
     "start_time": "2024-06-09T01:16:52.579103600Z"
    }
   },
   "outputs": [],
   "source": [
    "dataset['meses_desde_registro'] = dataset.apply(\n",
    "    lambda row: calcular_meses(row['fecha1'], row['mes']) if pd.notnull(row['fecha1']) and pd.notnull(row['mes']) else None,\n",
    "    axis=1\n",
    ")"
   ]
  },
  {
   "cell_type": "code",
   "execution_count": null,
   "metadata": {
    "ExecuteTime": {
     "end_time": "2024-06-09T01:17:09.233583300Z",
     "start_time": "2024-06-09T01:17:09.082328600Z"
    }
   },
   "outputs": [],
   "source": [
    "dataset['fecha1'] = dataset['meses_desde_registro'] #Renombramos la columna\n",
    "dataset.drop(columns=['meses_desde_registro'], inplace=True) #Eliminamos la columna auxiliar"
   ]
  },
  {
   "cell_type": "code",
   "execution_count": null,
   "metadata": {
    "ExecuteTime": {
     "end_time": "2024-06-09T01:17:09.280437700Z",
     "start_time": "2024-06-09T01:17:09.219074Z"
    }
   },
   "outputs": [],
   "source": [
    "dataset[dataset['cod_persona']==503082]"
   ]
  },
  {
   "cell_type": "markdown",
   "metadata": {},
   "source": [
    "### xti_empleado\n",
    "Employee\tindex:\tA\tactive,\tB\tex\temployed,\tF\tfilial,\tN\tnot\temployee"
   ]
  },
  {
   "cell_type": "code",
   "execution_count": null,
   "metadata": {
    "ExecuteTime": {
     "end_time": "2024-06-09T01:17:09.383499600Z",
     "start_time": "2024-06-09T01:17:09.266921400Z"
    }
   },
   "outputs": [],
   "source": [
    "dataset['xti_empleado'].isnull().sum()"
   ]
  },
  {
   "cell_type": "code",
   "execution_count": null,
   "metadata": {
    "ExecuteTime": {
     "end_time": "2024-06-09T01:17:09.408858500Z",
     "start_time": "2024-06-09T01:17:09.316459300Z"
    }
   },
   "outputs": [],
   "source": [
    "dataset['xti_empleado'].value_counts()"
   ]
  },
  {
   "cell_type": "code",
   "execution_count": null,
   "metadata": {
    "ExecuteTime": {
     "end_time": "2024-06-09T01:17:09.720421900Z",
     "start_time": "2024-06-09T01:17:09.326988Z"
    }
   },
   "outputs": [],
   "source": [
    "dataset_encoded = pd.get_dummies(dataset, columns=['xti_empleado'], prefix='empleado')"
   ]
  },
  {
   "cell_type": "code",
   "execution_count": null,
   "metadata": {
    "ExecuteTime": {
     "end_time": "2024-06-09T01:17:09.750962100Z",
     "start_time": "2024-06-09T01:17:09.698385Z"
    }
   },
   "outputs": [],
   "source": [
    "cols_to_convert = [col for col in dataset.columns if col.startswith('empleado_')]\n",
    "dataset[cols_to_convert] = dataset[cols_to_convert].astype('Int64')"
   ]
  },
  {
   "cell_type": "code",
   "execution_count": null,
   "metadata": {
    "ExecuteTime": {
     "end_time": "2024-06-09T01:17:09.972891200Z",
     "start_time": "2024-06-09T01:17:09.710909400Z"
    }
   },
   "outputs": [],
   "source": [
    "if 'xti_empleado' in dataset.columns:\n",
    "    dataset.drop(columns=['xti_empleado'], inplace=True)"
   ]
  },
  {
   "cell_type": "code",
   "execution_count": null,
   "metadata": {
    "ExecuteTime": {
     "end_time": "2024-06-09T01:17:10.104674400Z",
     "start_time": "2024-06-09T01:17:09.935107800Z"
    }
   },
   "outputs": [],
   "source": [
    "dataset.head()"
   ]
  },
  {
   "cell_type": "markdown",
   "metadata": {},
   "source": [
    "### xti_nuevo_cliente\n",
    "New\tcustomer\tIndex.\t1\tif\tthe\tcustomer\tregistered\tin\tthe\tlast\t6\tmonths"
   ]
  },
  {
   "cell_type": "code",
   "execution_count": null,
   "metadata": {
    "ExecuteTime": {
     "end_time": "2024-06-09T01:17:10.136334400Z",
     "start_time": "2024-06-09T01:17:10.013030Z"
    }
   },
   "outputs": [],
   "source": [
    "# Esta variable puede obtenerse como transformación a partir de la variable 'fecha1'. Sin embargo, considera su importancia por poner un threshold de 6 meses para considerar a un cliente como \"nuevo\". "
   ]
  },
  {
   "cell_type": "code",
   "execution_count": null,
   "metadata": {
    "ExecuteTime": {
     "end_time": "2024-06-09T01:17:10.252714900Z",
     "start_time": "2024-06-09T01:17:10.028100600Z"
    }
   },
   "outputs": [],
   "source": [
    "dataset['xti_nuevo_cliente'].value_counts()"
   ]
  },
  {
   "cell_type": "markdown",
   "metadata": {},
   "source": [
    "Evidentemente, la clase de clientes nuevos esta desbalanceada como es lógico. \n",
    "Podríamos utilizar técnicas como SMOTE para crear una muestra sintética de la clase minoritaria, sin emargo, con el dataset tan extenso del cual disponemos no se considera necesario. Por otro lado, se podrán ajustar los pesos con los algoritmos posteriormente. "
   ]
  },
  {
   "cell_type": "markdown",
   "metadata": {},
   "source": [
    "### num_antiguedad\n",
    "Customer\tseniority\t(in\tmonths)"
   ]
  },
  {
   "cell_type": "code",
   "execution_count": null,
   "metadata": {
    "ExecuteTime": {
     "end_time": "2024-06-09T01:17:10.783546800Z",
     "start_time": "2024-06-09T01:17:10.416101100Z"
    }
   },
   "outputs": [],
   "source": [
    "#Lo casteamos a numerico :\n",
    "dataset['num_antiguedad'] = pd.to_numeric(dataset['num_antiguedad'], errors='coerce')"
   ]
  },
  {
   "cell_type": "code",
   "execution_count": null,
   "metadata": {
    "ExecuteTime": {
     "end_time": "2024-06-09T01:17:10.808160400Z",
     "start_time": "2024-06-09T01:17:10.433643600Z"
    }
   },
   "outputs": [],
   "source": [
    "dataset['num_antiguedad'].isnull().sum()"
   ]
  },
  {
   "cell_type": "code",
   "execution_count": null,
   "metadata": {
    "ExecuteTime": {
     "end_time": "2024-06-09T01:17:10.875448700Z",
     "start_time": "2024-06-09T01:17:10.446681800Z"
    }
   },
   "outputs": [],
   "source": [
    "## Quiero que me digas el valor minimo de num_antiguedad:\n",
    "dataset[dataset['num_antiguedad']==2]"
   ]
  },
  {
   "cell_type": "code",
   "execution_count": null,
   "metadata": {
    "ExecuteTime": {
     "end_time": "2024-06-09T01:17:10.928170100Z",
     "start_time": "2024-06-09T01:17:10.495855100Z"
    }
   },
   "outputs": [],
   "source": [
    "dataset[dataset['cod_persona']==503031] ## Para todos los clientes el num_antiguedad se incrementa de forma sincronizada con la fecha1. No se elimina la columna porque en determinadas circunstancias cambia el patrón."
   ]
  },
  {
   "cell_type": "code",
   "execution_count": null,
   "metadata": {
    "ExecuteTime": {
     "end_time": "2024-06-09T01:17:11.430016400Z",
     "start_time": "2024-06-09T01:17:10.562575600Z"
    }
   },
   "outputs": [],
   "source": [
    "plt.figure(figsize=(10, 6))\n",
    "plt.hist(dataset['num_antiguedad'].dropna(), bins=30, edgecolor='k', alpha=0.7)\n",
    "plt.title('Distribución de num_antiguedad')\n",
    "plt.xlabel('Número de Antigüedad')\n",
    "plt.ylabel('Frecuencia')\n",
    "plt.grid(True)\n",
    "plt.show()"
   ]
  },
  {
   "cell_type": "markdown",
   "metadata": {},
   "source": [
    "Todos los datos quedan comprendidos en un intervalo de mses de antiguedad de 0 a 250. Se observa cierto sesgo en la distribucion hacia la izquierda, reflejando un patron de contratación muy alto hasta el mes 50. Posteriormente, se produce una reduccion significativa de los clientes abandonando el banco, y el número de fieles queda en una cola constante."
   ]
  },
  {
   "cell_type": "markdown",
   "metadata": {},
   "source": [
    "### xti_rel\n",
    "1(First/Primary),\t99\t(Primary\tcustomer\tduring\tthe\tmonth\tbut\tnot\tat\tthe\tend\tof\tthe\tmonth)"
   ]
  },
  {
   "cell_type": "markdown",
   "metadata": {},
   "source": []
  },
  {
   "cell_type": "code",
   "execution_count": null,
   "metadata": {
    "ExecuteTime": {
     "end_time": "2024-06-09T01:17:11.472823600Z",
     "start_time": "2024-06-09T01:17:11.080267600Z"
    }
   },
   "outputs": [],
   "source": [
    "dataset['xti_rel']=pd.to_numeric(dataset['xti_rel'], errors='coerce')"
   ]
  },
  {
   "cell_type": "code",
   "execution_count": null,
   "metadata": {
    "ExecuteTime": {
     "end_time": "2024-06-09T01:17:11.662045100Z",
     "start_time": "2024-06-09T01:17:11.099340200Z"
    }
   },
   "outputs": [],
   "source": [
    "dataset['xti_rel'].isnull().sum()"
   ]
  },
  {
   "cell_type": "code",
   "execution_count": null,
   "metadata": {
    "ExecuteTime": {
     "end_time": "2024-06-09T01:17:11.703121200Z",
     "start_time": "2024-06-09T01:17:11.138521400Z"
    }
   },
   "outputs": [],
   "source": [
    "xti_rel_counts = dataset['xti_rel'].value_counts()\n",
    "xti_rel_counts"
   ]
  },
  {
   "cell_type": "markdown",
   "metadata": {},
   "source": []
  },
  {
   "cell_type": "code",
   "execution_count": null,
   "metadata": {
    "ExecuteTime": {
     "end_time": "2024-06-09T01:17:12.017987900Z",
     "start_time": "2024-06-09T01:17:11.192347300Z"
    }
   },
   "outputs": [],
   "source": [
    " #mapea esto 99.0 a 0 1.0 a 1:\n",
    "dataset['xti_rel'] = dataset['xti_rel'].apply(lambda x: 1 if x == 1 else 0)"
   ]
  },
  {
   "cell_type": "code",
   "execution_count": null,
   "metadata": {
    "ExecuteTime": {
     "end_time": "2024-06-09T01:17:12.550328200Z",
     "start_time": "2024-06-09T01:17:11.575395100Z"
    }
   },
   "outputs": [],
   "source": [
    "# Graficar la distribución de 'xti_rel'\n",
    "plt.figure(figsize=(10, 6))\n",
    "xti_rel_counts.plot(kind='bar', edgecolor='k', alpha=0.7)\n",
    "plt.title('Distribución de xti_rel')\n",
    "plt.xlabel('Estado de Relación (xti_rel)')\n",
    "plt.ylabel('Frecuencia')\n",
    "plt.xticks(rotation=0)\n",
    "plt.grid(True)\n",
    "plt.show()"
   ]
  },
  {
   "cell_type": "code",
   "execution_count": null,
   "metadata": {
    "ExecuteTime": {
     "end_time": "2024-06-09T01:17:12.556838300Z",
     "start_time": "2024-06-09T01:17:11.790056100Z"
    }
   },
   "outputs": [],
   "source": []
  },
  {
   "cell_type": "markdown",
   "metadata": {
    "collapsed": false,
    "jupyter": {
     "outputs_hidden": false
    }
   },
   "source": [
    "#### Indresi\n",
    "\n",
    "Residence\tindex\t(S\t(Yes)\tor\tN\t(No)\tif\tthe\tresidence\tcountry\tis\tthe\tsame\tthan\tthe\tbank\tcountry)\n"
   ]
  },
  {
   "cell_type": "code",
   "execution_count": null,
   "metadata": {
    "ExecuteTime": {
     "end_time": "2024-06-09T01:17:12.585953600Z",
     "start_time": "2024-06-09T01:17:11.807749900Z"
    },
    "collapsed": false,
    "jupyter": {
     "outputs_hidden": false
    }
   },
   "outputs": [],
   "source": [
    "print(dataset['indresi'].dtype)"
   ]
  },
  {
   "cell_type": "code",
   "execution_count": null,
   "metadata": {
    "ExecuteTime": {
     "end_time": "2024-06-09T01:17:12.606004200Z",
     "start_time": "2024-06-09T01:17:11.822280600Z"
    },
    "collapsed": false,
    "jupyter": {
     "outputs_hidden": false
    }
   },
   "outputs": [],
   "source": [
    "dataset['indresi'].value_counts()\n",
    "dataset['indresi'] = dataset['indresi'].map({'S': 1, 'N': 0})"
   ]
  },
  {
   "cell_type": "code",
   "execution_count": null,
   "metadata": {
    "ExecuteTime": {
     "end_time": "2024-06-09T01:17:12.660209300Z",
     "start_time": "2024-06-09T01:17:11.962796600Z"
    },
    "collapsed": false,
    "jupyter": {
     "outputs_hidden": false
    }
   },
   "outputs": [],
   "source": [
    "dataset['indresi'].value_counts()\n"
   ]
  },
  {
   "cell_type": "code",
   "execution_count": null,
   "metadata": {
    "ExecuteTime": {
     "end_time": "2024-06-09T01:17:12.718133400Z",
     "start_time": "2024-06-09T01:17:11.997938800Z"
    },
    "collapsed": false,
    "jupyter": {
     "outputs_hidden": false
    }
   },
   "outputs": [],
   "source": [
    "#to Int64\n",
    "dataset['indresi'] = dataset['indresi'].astype('Int64')\n",
    "dataset['indresi'].value_counts()"
   ]
  },
  {
   "cell_type": "markdown",
   "metadata": {
    "collapsed": false,
    "jupyter": {
     "outputs_hidden": false
    }
   },
   "source": [
    "#### indext\n",
    "\n",
    "Foreigner\tindex\t(S\t(Yes)\tor\tN\t(No)\tif\tthe\tcustomer's\tbirth\tcountry\tis\tdifferent\tthan\tthe\tbank\tcountry)\n"
   ]
  },
  {
   "cell_type": "code",
   "execution_count": null,
   "metadata": {
    "ExecuteTime": {
     "end_time": "2024-06-09T01:17:12.791391500Z",
     "start_time": "2024-06-09T01:17:12.025504200Z"
    },
    "collapsed": false,
    "jupyter": {
     "outputs_hidden": false
    }
   },
   "outputs": [],
   "source": [
    "dataset['indext'].value_counts()"
   ]
  },
  {
   "cell_type": "code",
   "execution_count": null,
   "metadata": {
    "ExecuteTime": {
     "end_time": "2024-06-09T01:17:13.010568Z",
     "start_time": "2024-06-09T01:17:12.093244600Z"
    },
    "collapsed": false,
    "jupyter": {
     "outputs_hidden": false
    }
   },
   "outputs": [],
   "source": [
    "dataset['indext'].value_counts()\n",
    "dataset['indext'] = dataset['indext'].map({'S': 1, 'N': 0})"
   ]
  },
  {
   "cell_type": "code",
   "execution_count": null,
   "metadata": {
    "ExecuteTime": {
     "end_time": "2024-06-09T01:17:13.071584900Z",
     "start_time": "2024-06-09T01:17:12.183478400Z"
    },
    "collapsed": false,
    "jupyter": {
     "outputs_hidden": false
    }
   },
   "outputs": [],
   "source": [
    "#to Int64\n",
    "dataset['indresi'] = dataset['indresi'].astype('Int64')\n",
    "dataset['indresi'].value_counts()"
   ]
  },
  {
   "cell_type": "markdown",
   "metadata": {
    "collapsed": false,
    "jupyter": {
     "outputs_hidden": false
    }
   },
   "source": [
    "#### des_canal\n",
    "\n",
    "Channel\tused\tby\tthe\tcustomer\tto\tjoin    the\tbank"
   ]
  },
  {
   "cell_type": "code",
   "execution_count": null,
   "metadata": {
    "ExecuteTime": {
     "end_time": "2024-06-09T01:17:13.107278700Z",
     "start_time": "2024-06-09T01:17:12.343194500Z"
    },
    "collapsed": false,
    "jupyter": {
     "outputs_hidden": false
    }
   },
   "outputs": [],
   "source": [
    "print(dataset['des_canal'].dtype)"
   ]
  },
  {
   "cell_type": "code",
   "execution_count": null,
   "metadata": {
    "ExecuteTime": {
     "end_time": "2024-06-09T01:17:13.143640500Z",
     "start_time": "2024-06-09T01:17:12.344194900Z"
    },
    "collapsed": false,
    "jupyter": {
     "outputs_hidden": false
    }
   },
   "outputs": [],
   "source": [
    "# Convertir la columna 'edad' a tipo int\n",
    "dataset['edad'] = dataset['edad'].astype(int)"
   ]
  },
  {
   "cell_type": "code",
   "execution_count": null,
   "metadata": {
    "ExecuteTime": {
     "end_time": "2024-06-09T01:17:13.173440500Z",
     "start_time": "2024-06-09T01:17:12.344194900Z"
    },
    "collapsed": false,
    "jupyter": {
     "outputs_hidden": false
    }
   },
   "outputs": [],
   "source": [
    "\n",
    "# Crear categorías de edad\n",
    "thresholds = [0, 20, 35, 50, 65, 80, 95, 110]\n",
    "age_labels = ['0-19', '20-34', '35-49', '50-64', '65-79', '80-94', '95-109']\n",
    "dataset['edad_grupo'] = pd.cut(dataset['edad'], bins=thresholds, labels=age_labels, right=False)"
   ]
  },
  {
   "cell_type": "code",
   "execution_count": null,
   "metadata": {
    "ExecuteTime": {
     "end_time": "2024-06-09T01:17:13.185491600Z",
     "start_time": "2024-06-09T01:17:12.345707200Z"
    },
    "collapsed": false,
    "jupyter": {
     "outputs_hidden": false
    }
   },
   "outputs": [],
   "source": [
    "# Función para obtener la moda o NaN\n",
    "def obtener_moda_o_nan(serie):\n",
    "    modas = serie.mode()\n",
    "    return modas.iloc[0] if not modas.empty else np.nan\n",
    "\n",
    "# Calcular la moda de 'des_canal' para cada categoría de edad\n",
    "moda_por_edad = dataset.groupby('edad_grupo', observed=True)['des_canal'].apply(obtener_moda_o_nan).reset_index()\n",
    "moda_por_edad.columns = ['edad_grupo', 'moda_des_canal']"
   ]
  },
  {
   "cell_type": "code",
   "execution_count": null,
   "metadata": {
    "ExecuteTime": {
     "end_time": "2024-06-09T01:17:22.529041600Z",
     "start_time": "2024-06-09T01:17:12.539785100Z"
    },
    "collapsed": false,
    "jupyter": {
     "outputs_hidden": false
    }
   },
   "outputs": [],
   "source": [
    "\n",
    "# Unir las modas al DataFrame original\n",
    "dataset = dataset.merge(moda_por_edad, on='edad_grupo', how='left')\n",
    "\n",
    "# Imputar valores nulos en 'des_canal' con la moda correspondiente\n",
    "dataset['des_canal'] = dataset.apply(\n",
    "    lambda row: row['moda_des_canal'] if pd.isnull(row['des_canal']) else row['des_canal'],\n",
    "    axis=1\n",
    ")"
   ]
  },
  {
   "cell_type": "code",
   "execution_count": null,
   "metadata": {
    "ExecuteTime": {
     "end_time": "2024-06-09T01:17:22.651409100Z",
     "start_time": "2024-06-09T01:17:22.531116100Z"
    },
    "collapsed": false,
    "jupyter": {
     "outputs_hidden": false
    }
   },
   "outputs": [],
   "source": [
    "\n",
    "# Eliminar columna temporal\n",
    "dataset.drop(columns=['moda_des_canal', 'edad_grupo'], inplace=True)"
   ]
  },
  {
   "cell_type": "code",
   "execution_count": null,
   "metadata": {
    "ExecuteTime": {
     "end_time": "2024-06-09T01:17:22.720178200Z",
     "start_time": "2024-06-09T01:17:22.652410900Z"
    },
    "collapsed": false,
    "jupyter": {
     "outputs_hidden": false
    }
   },
   "outputs": [],
   "source": [
    "# count nulls\n",
    "dataset['des_canal'].isnull().sum()"
   ]
  },
  {
   "cell_type": "code",
   "execution_count": null,
   "metadata": {
    "ExecuteTime": {
     "end_time": "2024-06-09T01:17:22.826628400Z",
     "start_time": "2024-06-09T01:17:22.688033300Z"
    },
    "collapsed": false,
    "jupyter": {
     "outputs_hidden": false
    }
   },
   "outputs": [],
   "source": [
    "dataset.isnull().sum()"
   ]
  },
  {
   "cell_type": "code",
   "execution_count": null,
   "metadata": {
    "ExecuteTime": {
     "end_time": "2024-06-09T01:17:22.920164800Z",
     "start_time": "2024-06-09T01:17:22.857198Z"
    },
    "collapsed": false,
    "jupyter": {
     "outputs_hidden": false
    }
   },
   "outputs": [],
   "source": [
    "dataset['des_canal'].value_counts()"
   ]
  },
  {
   "cell_type": "code",
   "execution_count": null,
   "metadata": {
    "ExecuteTime": {
     "end_time": "2024-06-09T01:17:22.986611Z",
     "start_time": "2024-06-09T01:17:22.906148600Z"
    },
    "collapsed": false,
    "jupyter": {
     "outputs_hidden": false
    }
   },
   "outputs": [],
   "source": [
    "frequency = dataset['des_canal'].value_counts()"
   ]
  },
  {
   "cell_type": "code",
   "execution_count": null,
   "metadata": {
    "ExecuteTime": {
     "end_time": "2024-06-09T01:17:23.303935200Z",
     "start_time": "2024-06-09T01:17:22.931398900Z"
    },
    "collapsed": false,
    "jupyter": {
     "outputs_hidden": false
    }
   },
   "outputs": [],
   "source": [
    "# Calcular la distribución de frecuencias\n",
    "plt.figure(figsize=(10, 6))\n",
    "plt.hist(frequency, bins=50, log=True)\n",
    "plt.xlabel('Frecuencia')\n",
    "plt.ylabel('Número de Categorías')\n",
    "plt.title('Distribución de Frecuencias de las Categorías')\n",
    "plt.show()"
   ]
  },
  {
   "cell_type": "code",
   "execution_count": null,
   "metadata": {
    "ExecuteTime": {
     "end_time": "2024-06-09T01:17:23.429540Z",
     "start_time": "2024-06-09T01:17:23.310456300Z"
    },
    "collapsed": false,
    "jupyter": {
     "outputs_hidden": false
    }
   },
   "outputs": [],
   "source": [
    "# Definir un umbral basado en el percentil 90 (puedes ajustar este percentil)\n",
    "threshold = np.percentile(frequency, 90)\n",
    "print(f\"Umbral basado en el percentil 90: {threshold}\")"
   ]
  },
  {
   "cell_type": "code",
   "execution_count": null,
   "metadata": {
    "ExecuteTime": {
     "end_time": "2024-06-09T01:17:23.465155700Z",
     "start_time": "2024-06-09T01:17:23.351543700Z"
    },
    "collapsed": false,
    "jupyter": {
     "outputs_hidden": false
    }
   },
   "outputs": [],
   "source": [
    "dataset['des_canal_grouped'] = dataset['des_canal']\n",
    "dataset.loc[dataset['des_canal'].isin(frequency[frequency < threshold].index), 'des_canal_grouped'] = 'otros'"
   ]
  },
  {
   "cell_type": "code",
   "execution_count": null,
   "metadata": {
    "ExecuteTime": {
     "end_time": "2024-06-09T01:17:23.525187600Z",
     "start_time": "2024-06-09T01:17:23.368403600Z"
    },
    "collapsed": false,
    "jupyter": {
     "outputs_hidden": false
    }
   },
   "outputs": [],
   "source": [
    "print(dataset['des_canal_grouped'].value_counts())\n"
   ]
  },
  {
   "cell_type": "code",
   "execution_count": null,
   "metadata": {
    "ExecuteTime": {
     "end_time": "2024-06-09T01:17:23.917305200Z",
     "start_time": "2024-06-09T01:17:23.431525700Z"
    },
    "collapsed": false,
    "jupyter": {
     "outputs_hidden": false
    }
   },
   "outputs": [],
   "source": [
    "dataset = pd.get_dummies(dataset, columns=['des_canal_grouped'])\n",
    "dataset.drop(columns=['des_canal'], inplace=True)"
   ]
  },
  {
   "cell_type": "code",
   "execution_count": null,
   "metadata": {
    "ExecuteTime": {
     "end_time": "2024-06-09T01:17:24.059251800Z",
     "start_time": "2024-06-09T01:17:23.926313400Z"
    },
    "collapsed": false,
    "jupyter": {
     "outputs_hidden": false
    }
   },
   "outputs": [],
   "source": [
    "dataset.head()\n"
   ]
  },
  {
   "cell_type": "markdown",
   "metadata": {
    "collapsed": false,
    "jupyter": {
     "outputs_hidden": false
    }
   },
   "source": [
    "#### xti_extra\n",
    "\n",
    "Deceased\tindex.\tN/S\n"
   ]
  },
  {
   "cell_type": "code",
   "execution_count": null,
   "metadata": {
    "ExecuteTime": {
     "end_time": "2024-06-09T01:17:24.086300200Z",
     "start_time": "2024-06-09T01:17:24.009104900Z"
    },
    "collapsed": false,
    "jupyter": {
     "outputs_hidden": false
    }
   },
   "outputs": [],
   "source": [
    "dataset['xti_extra'].value_counts()"
   ]
  },
  {
   "cell_type": "code",
   "execution_count": null,
   "metadata": {
    "ExecuteTime": {
     "end_time": "2024-06-09T01:17:24.161965700Z",
     "start_time": "2024-06-09T01:17:24.025484700Z"
    },
    "collapsed": false,
    "jupyter": {
     "outputs_hidden": false
    }
   },
   "outputs": [],
   "source": [
    "dataset['xti_extra'] = dataset['xti_extra'].map({'S': 1, 'N': 0})\n",
    "dataset['xti_extra']  = dataset['xti_extra'].astype('Int64')"
   ]
  },
  {
   "cell_type": "code",
   "execution_count": null,
   "metadata": {
    "ExecuteTime": {
     "end_time": "2024-06-09T01:17:24.218937300Z",
     "start_time": "2024-06-09T01:17:24.051728600Z"
    },
    "collapsed": false,
    "jupyter": {
     "outputs_hidden": false
    }
   },
   "outputs": [],
   "source": [
    "dataset['xti_extra'].value_counts()"
   ]
  },
  {
   "cell_type": "code",
   "execution_count": null,
   "metadata": {
    "ExecuteTime": {
     "end_time": "2024-06-09T01:17:24.369379100Z",
     "start_time": "2024-06-09T01:17:24.084790700Z"
    },
    "collapsed": false,
    "jupyter": {
     "outputs_hidden": false
    }
   },
   "outputs": [],
   "source": [
    "# dime si hay algun cod_persona que tenga xti_extra = 1 y xti_extra = 0\n",
    "dataset.groupby('cod_persona')['xti_extra'].nunique().value_counts()"
   ]
  },
  {
   "cell_type": "code",
   "execution_count": null,
   "metadata": {
    "ExecuteTime": {
     "end_time": "2024-06-09T01:17:24.484477600Z",
     "start_time": "2024-06-09T01:17:24.207444600Z"
    },
    "collapsed": false,
    "jupyter": {
     "outputs_hidden": false
    }
   },
   "outputs": [],
   "source": [
    "# Si hay algun cod_persona que tenga xti_extra = 1 y xti_extra = 0 vamos a sacar los valores cod_persona\n",
    "cod_personas_con_xti_extra_ambos = dataset.groupby('cod_persona')['xti_extra'].nunique()\n",
    "cod_personas_con_xti_extra_ambos = cod_personas_con_xti_extra_ambos[cod_personas_con_xti_extra_ambos == 2].index"
   ]
  },
  {
   "cell_type": "code",
   "execution_count": null,
   "metadata": {
    "ExecuteTime": {
     "end_time": "2024-06-09T01:17:24.497498100Z",
     "start_time": "2024-06-09T01:17:24.314201900Z"
    },
    "collapsed": false,
    "jupyter": {
     "outputs_hidden": false
    }
   },
   "outputs": [],
   "source": [
    "cod_personas_con_xti_extra_ambos"
   ]
  },
  {
   "cell_type": "code",
   "execution_count": null,
   "metadata": {
    "ExecuteTime": {
     "end_time": "2024-06-09T01:17:24.654480400Z",
     "start_time": "2024-06-09T01:17:24.328236600Z"
    },
    "collapsed": false,
    "jupyter": {
     "outputs_hidden": false
    }
   },
   "outputs": [],
   "source": [
    "# Vamos a ver los registros de estos cod_persona\n",
    "dataset[dataset['cod_persona'].isin(cod_personas_con_xti_extra_ambos)]"
   ]
  },
  {
   "cell_type": "code",
   "execution_count": null,
   "metadata": {
    "ExecuteTime": {
     "end_time": "2024-06-09T01:17:24.914804Z",
     "start_time": "2024-06-09T01:17:24.378908500Z"
    },
    "collapsed": false,
    "jupyter": {
     "outputs_hidden": false
    }
   },
   "outputs": [],
   "source": [
    "# Vamos a ver si hay algun cod_persona que tenga xti_extra = 1 y xti_extra = 0 en el mismo mes\n",
    "dataset.groupby(['cod_persona', 'mes'])['xti_extra'].nunique().value_counts()"
   ]
  },
  {
   "cell_type": "markdown",
   "metadata": {
    "collapsed": false,
    "jupyter": {
     "outputs_hidden": false
    }
   },
   "source": [
    "Se observa que no hay personas que tienen valores diferentes de xti_extra para el mismo mes. Pero si hay personas que tienen valores diferentes de xti_extra para diferentes meses. Se decide mantener los valores de xti_extra tal y como están ya que no hay ninguna inconsistencia en los datos y además  con estos cambios entre \"la vida y la muerte\" se pueden obtener patrones de contratación de productos."
   ]
  },
  {
   "cell_type": "markdown",
   "metadata": {
    "collapsed": false,
    "jupyter": {
     "outputs_hidden": false
    }
   },
   "source": [
    "#### tip_dom\n",
    "\n",
    "Addres\ttype.\t1,\tprimary\taddress\n"
   ]
  },
  {
   "cell_type": "code",
   "execution_count": null,
   "metadata": {
    "ExecuteTime": {
     "end_time": "2024-06-09T01:17:24.993285Z",
     "start_time": "2024-06-09T01:17:24.654480400Z"
    },
    "collapsed": false,
    "jupyter": {
     "outputs_hidden": false
    }
   },
   "outputs": [],
   "source": [
    "dataset['tip_dom'].isnull().sum()"
   ]
  },
  {
   "cell_type": "code",
   "execution_count": null,
   "metadata": {
    "ExecuteTime": {
     "end_time": "2024-06-09T01:17:25.023900600Z",
     "start_time": "2024-06-09T01:17:24.671594300Z"
    },
    "collapsed": false,
    "jupyter": {
     "outputs_hidden": false
    }
   },
   "outputs": [],
   "source": [
    "dataset['tip_dom'].value_counts()"
   ]
  },
  {
   "cell_type": "markdown",
   "metadata": {
    "collapsed": false,
    "jupyter": {
     "outputs_hidden": false
    }
   },
   "source": [
    "Se observa que todos los registros son de tipo 1. Se decide eliminar la columna ya que no aporta información."
   ]
  },
  {
   "cell_type": "code",
   "execution_count": null,
   "metadata": {
    "ExecuteTime": {
     "end_time": "2024-06-09T01:17:25.078560400Z",
     "start_time": "2024-06-09T01:17:24.707312800Z"
    },
    "collapsed": false,
    "jupyter": {
     "outputs_hidden": false
    }
   },
   "outputs": [],
   "source": [
    "dataset.drop(columns=['tip_dom'], inplace=True)"
   ]
  },
  {
   "cell_type": "markdown",
   "metadata": {
    "collapsed": false,
    "jupyter": {
     "outputs_hidden": false
    }
   },
   "source": [
    "#### cod_provincia\n",
    "\n",
    "Province\tcode\t(customer's\taddress)\n"
   ]
  },
  {
   "cell_type": "code",
   "execution_count": null,
   "metadata": {
    "ExecuteTime": {
     "end_time": "2024-06-09T01:17:25.172853200Z",
     "start_time": "2024-06-09T01:17:24.891725400Z"
    },
    "collapsed": false,
    "jupyter": {
     "outputs_hidden": false
    }
   },
   "outputs": [],
   "source": [
    "dataset['cod_provincia'].isnull().sum()"
   ]
  },
  {
   "cell_type": "code",
   "execution_count": null,
   "metadata": {
    "ExecuteTime": {
     "end_time": "2024-06-09T01:17:25.454759900Z",
     "start_time": "2024-06-09T01:17:24.908801300Z"
    },
    "collapsed": false,
    "jupyter": {
     "outputs_hidden": false
    }
   },
   "outputs": [],
   "source": [
    "# Ver la distribución de la variable 'cod_provincia' por pais en los nulls\n",
    "dataset[dataset['cod_provincia'].isnull()]['pais_binario'].value_counts()"
   ]
  },
  {
   "cell_type": "markdown",
   "metadata": {
    "collapsed": false,
    "jupyter": {
     "outputs_hidden": false
    }
   },
   "source": [
    "Se observa que todos los valores nulos de 'cod_provincia' son de personas que no son de España. Se decide aplicar un 99 a los valores nulos para que no se pierda la información de la provincia."
   ]
  },
  {
   "cell_type": "code",
   "execution_count": null,
   "metadata": {
    "ExecuteTime": {
     "end_time": "2024-06-09T01:17:25.482838200Z",
     "start_time": "2024-06-09T01:17:24.939120800Z"
    },
    "collapsed": false,
    "jupyter": {
     "outputs_hidden": false
    }
   },
   "outputs": [],
   "source": [
    "dataset['cod_provincia'] = dataset['cod_provincia'].fillna(99)"
   ]
  },
  {
   "cell_type": "code",
   "execution_count": null,
   "metadata": {
    "ExecuteTime": {
     "end_time": "2024-06-09T01:17:25.568600500Z",
     "start_time": "2024-06-09T01:17:24.967703600Z"
    },
    "collapsed": false,
    "jupyter": {
     "outputs_hidden": false
    }
   },
   "outputs": [],
   "source": [
    "# Crear un diccionario de mapeo de códigos de provincia a nombres de provincia\n",
    "mapeo_provincias = {\n",
    "    1: 'Álava',\n",
    "    2: 'Albacete',\n",
    "    3: 'Alicante',\n",
    "    4: 'Almería',\n",
    "    5: 'Ávila',\n",
    "    6: 'Badajoz',\n",
    "    7: 'Islas Baleares',\n",
    "    8: 'Barcelona',\n",
    "    9: 'Burgos',\n",
    "    10: 'Cáceres',\n",
    "    11: 'Cádiz',\n",
    "    12: 'Castellón',\n",
    "    13: 'Ciudad Real',\n",
    "    14: 'Córdoba',\n",
    "    15: 'A Coruña',\n",
    "    16: 'Cuenca',\n",
    "    17: 'Girona',\n",
    "    18: 'Granada',\n",
    "    19: 'Guadalajara',\n",
    "    20: 'Gipuzkoa',\n",
    "    21: 'Huelva',\n",
    "    22: 'Huesca',\n",
    "    23: 'Jaén',\n",
    "    24: 'León',\n",
    "    25: 'Lleida',\n",
    "    26: 'La Rioja',\n",
    "    27: 'Lugo',\n",
    "    28: 'Madrid',\n",
    "    29: 'Málaga',\n",
    "    30: 'Murcia',\n",
    "    31: 'Navarra',\n",
    "    32: 'Ourense',\n",
    "    33: 'Asturias',\n",
    "    34: 'Palencia',\n",
    "    35: 'Las Palmas',\n",
    "    36: 'Pontevedra',\n",
    "    37: 'Salamanca',\n",
    "    38: 'Santa Cruz de Tenerife',\n",
    "    39: 'Cantabria',\n",
    "    40: 'Segovia',\n",
    "    41: 'Sevilla',\n",
    "    42: 'Soria',\n",
    "    43: 'Tarragona',\n",
    "    44: 'Teruel',\n",
    "    45: 'Toledo',\n",
    "    46: 'Valencia',\n",
    "    47: 'Valladolid',\n",
    "    48: 'Bizkaia',\n",
    "    49: 'Zamora',\n",
    "    50: 'Zaragoza',\n",
    "    51: 'Ceuta',\n",
    "    52: 'Melilla',\n",
    "    99: 'Desconocido'  # Incluyo un código para los casos desconocidos\n",
    "}\n",
    "\n",
    "# Mapear los códigos de provincia a nombres de provincia\n",
    "dataset['cod_provincia'] = dataset['cod_provincia'].map(mapeo_provincias)"
   ]
  },
  {
   "cell_type": "code",
   "execution_count": null,
   "metadata": {
    "ExecuteTime": {
     "end_time": "2024-06-09T01:17:25.646333Z",
     "start_time": "2024-06-09T01:17:25.060976Z"
    },
    "collapsed": false,
    "jupyter": {
     "outputs_hidden": false
    }
   },
   "outputs": [],
   "source": [
    "frequency_prov = dataset['cod_provincia'].value_counts()"
   ]
  },
  {
   "cell_type": "code",
   "execution_count": null,
   "metadata": {
    "ExecuteTime": {
     "end_time": "2024-06-09T01:17:25.707816900Z",
     "start_time": "2024-06-09T01:17:25.095082400Z"
    },
    "collapsed": false,
    "jupyter": {
     "outputs_hidden": false
    }
   },
   "outputs": [],
   "source": [
    "# Calcular la distribución de frecuencias\n",
    "dataset['cod_provincia'].value_counts()"
   ]
  },
  {
   "cell_type": "code",
   "execution_count": null,
   "metadata": {
    "ExecuteTime": {
     "end_time": "2024-06-09T01:17:26.081148200Z",
     "start_time": "2024-06-09T01:17:25.200460800Z"
    },
    "collapsed": false,
    "jupyter": {
     "outputs_hidden": false
    }
   },
   "outputs": [],
   "source": [
    "# Calcular la distribución de frecuencias\n",
    "plt.figure(figsize=(10, 6))\n",
    "plt.hist(frequency_prov, bins=50, log=True)\n",
    "plt.xlabel('Frecuencia')\n",
    "plt.ylabel('Número de Categorías')\n",
    "plt.title('Distribución de Frecuencias de las Categorías')\n",
    "plt.show()"
   ]
  },
  {
   "cell_type": "code",
   "execution_count": null,
   "metadata": {
    "ExecuteTime": {
     "end_time": "2024-06-09T01:17:26.113736300Z",
     "start_time": "2024-06-09T01:17:25.627316900Z"
    },
    "collapsed": false,
    "jupyter": {
     "outputs_hidden": false
    }
   },
   "outputs": [],
   "source": [
    "# Definir un umbral basado en el percentil 80 (puedes ajustar este percentil)\n",
    "threshold_prov= np.percentile(frequency_prov, 50)\n",
    "print(f\"Umbral basado en el percentil 90: {threshold_prov}\")"
   ]
  },
  {
   "cell_type": "markdown",
   "metadata": {
    "collapsed": false,
    "jupyter": {
     "outputs_hidden": false
    }
   },
   "source": []
  },
  {
   "cell_type": "markdown",
   "metadata": {
    "collapsed": false,
    "jupyter": {
     "outputs_hidden": false
    }
   },
   "source": [
    "Dado que no queremos perder demasiada granularidad y al mismo tiempo queremos agrupar las categorías con muy pocas observaciones, el percentil 50 (5159) parece un buen compromiso. Esto permitirá agrupar las categorías más pequeñas sin perder demasiada información detallada."
   ]
  },
  {
   "cell_type": "code",
   "execution_count": null,
   "metadata": {
    "ExecuteTime": {
     "end_time": "2024-06-09T01:17:26.161860700Z",
     "start_time": "2024-06-09T01:17:25.661489800Z"
    },
    "collapsed": false,
    "jupyter": {
     "outputs_hidden": false
    }
   },
   "outputs": [],
   "source": [
    "dataset['cod_provincia_grouped'] = dataset['cod_provincia']\n",
    "dataset.loc[dataset['cod_provincia'].isin(frequency_prov[frequency_prov < threshold_prov].index), 'cod_provincia_grouped'] = 'otras_provincias'\n",
    "dataset['cod_provincia_grouped'].value_counts()"
   ]
  },
  {
   "cell_type": "code",
   "execution_count": null,
   "metadata": {
    "ExecuteTime": {
     "end_time": "2024-06-09T01:17:26.649564900Z",
     "start_time": "2024-06-09T01:17:25.709826400Z"
    },
    "collapsed": false,
    "jupyter": {
     "outputs_hidden": false
    }
   },
   "outputs": [],
   "source": [
    "dataset = pd.get_dummies(dataset, columns=['cod_provincia_grouped'])\n",
    "dataset.drop(columns=['cod_provincia'], inplace=True)\n",
    "dataset.head()"
   ]
  },
  {
   "cell_type": "markdown",
   "metadata": {
    "collapsed": false,
    "jupyter": {
     "outputs_hidden": false
    }
   },
   "source": [
    "#### xti_actividad_cliente\n",
    "\n",
    "Activity\tindex\t(1,\tactive\tcustomer;\t0,\tinactive\tcustomer)\n"
   ]
  },
  {
   "cell_type": "code",
   "execution_count": null,
   "metadata": {
    "ExecuteTime": {
     "end_time": "2024-06-09T01:17:26.673343300Z",
     "start_time": "2024-06-09T01:17:26.504681Z"
    },
    "collapsed": false,
    "jupyter": {
     "outputs_hidden": false
    }
   },
   "outputs": [],
   "source": [
    "dataset['xti_actividad_cliente'].isnull().sum()"
   ]
  },
  {
   "cell_type": "code",
   "execution_count": null,
   "metadata": {
    "ExecuteTime": {
     "end_time": "2024-06-09T01:17:26.777087700Z",
     "start_time": "2024-06-09T01:17:26.516708500Z"
    },
    "collapsed": false,
    "jupyter": {
     "outputs_hidden": false
    }
   },
   "outputs": [],
   "source": [
    "dataset['xti_actividad_cliente'].value_counts()"
   ]
  },
  {
   "cell_type": "code",
   "execution_count": null,
   "metadata": {
    "ExecuteTime": {
     "end_time": "2024-06-09T01:17:26.812671800Z",
     "start_time": "2024-06-09T01:17:26.548721700Z"
    },
    "collapsed": false,
    "jupyter": {
     "outputs_hidden": false
    }
   },
   "outputs": [],
   "source": [
    "dataset['xti_actividad_cliente'] = dataset['xti_actividad_cliente'].astype(bool)"
   ]
  },
  {
   "cell_type": "code",
   "execution_count": null,
   "metadata": {
    "ExecuteTime": {
     "end_time": "2024-06-09T01:17:26.818892300Z",
     "start_time": "2024-06-09T01:17:26.571325Z"
    },
    "collapsed": false,
    "jupyter": {
     "outputs_hidden": false
    }
   },
   "outputs": [],
   "source": [
    "dataset['xti_actividad_cliente'].value_counts()"
   ]
  },
  {
   "cell_type": "markdown",
   "metadata": {
    "collapsed": false,
    "jupyter": {
     "outputs_hidden": false
    }
   },
   "source": [
    "#### id_segmento\n",
    "\n",
    "Segmentation:\t01\t- VIP,\t02\t- Individuals\t03\t- college\tgraduated\n"
   ]
  },
  {
   "cell_type": "code",
   "execution_count": null,
   "metadata": {
    "ExecuteTime": {
     "end_time": "2024-06-09T01:17:26.861571100Z",
     "start_time": "2024-06-09T01:17:26.596408100Z"
    },
    "collapsed": false,
    "jupyter": {
     "outputs_hidden": false
    }
   },
   "outputs": [],
   "source": [
    "dataset['id_segmento'].isnull().sum()"
   ]
  },
  {
   "cell_type": "code",
   "execution_count": null,
   "metadata": {
    "ExecuteTime": {
     "end_time": "2024-06-09T01:17:26.915763900Z",
     "start_time": "2024-06-09T01:17:26.636507400Z"
    },
    "collapsed": false,
    "jupyter": {
     "outputs_hidden": false
    }
   },
   "outputs": [],
   "source": []
  },
  {
   "cell_type": "code",
   "execution_count": null,
   "metadata": {
    "ExecuteTime": {
     "end_time": "2024-06-09T01:17:27.004668500Z",
     "start_time": "2024-06-09T01:17:26.655564700Z"
    },
    "collapsed": false,
    "jupyter": {
     "outputs_hidden": false
    }
   },
   "outputs": [],
   "source": [
    "dataset['id_segmento'].value_counts()"
   ]
  },
  {
   "cell_type": "code",
   "execution_count": null,
   "metadata": {
    "ExecuteTime": {
     "end_time": "2024-06-09T01:17:27.564991500Z",
     "start_time": "2024-06-09T01:17:26.717963900Z"
    },
    "collapsed": false,
    "jupyter": {
     "outputs_hidden": false
    }
   },
   "outputs": [],
   "source": [
    "dataset = pd.get_dummies(dataset, columns=['id_segmento'])"
   ]
  },
  {
   "cell_type": "code",
   "execution_count": null,
   "metadata": {
    "ExecuteTime": {
     "end_time": "2024-06-09T01:17:28.258967400Z",
     "start_time": "2024-06-09T01:17:27.060826400Z"
    }
   },
   "outputs": [],
   "source": [
    "'''\n",
    "# Verificar los cambios\n",
    "print(dataset.info())\n",
    "print(dataset.head())\n",
    "\n",
    "# Separar características y targets\n",
    "X = dataset.drop(columns=[f'ind_prod{i}' for i in range(1, 26)])\n",
    "y = dataset[[f'ind_prod{i}' for i in range(1, 26)]]\n",
    "\n",
    "# Dividir en conjuntos de entrenamiento y prueba\n",
    "X_train, X_test, y_train, y_test = train_test_split(X, y, test_size=0.2, random_state=42)\n",
    "'''"
   ]
  },
  {
   "cell_type": "code",
   "execution_count": null,
   "metadata": {
    "ExecuteTime": {
     "end_time": "2024-06-09T01:17:30.958396900Z",
     "start_time": "2024-06-09T01:17:28.237910900Z"
    }
   },
   "outputs": [],
   "source": [
    "'''\n",
    "# Entrenar el modelo\n",
    "modelo = RandomForestClassifier()\n",
    "modelo.fit(X_train, y_train)\n",
    "\n",
    "# Generar predicciones\n",
    "predicciones = modelo.predict(X_test)\n",
    "\n",
    "# Convertir predicciones y valores reales a listas de listas para MAP@7\n",
    "y_test_list = [list(np.where(row == 1)[0] + 1) for row in y_test.values]\n",
    "predicciones_list = [list(np.argsort(row)[-7:][::-1] + 1) for row in predicciones]\n",
    "\n",
    "# Calcular MAP@7\n",
    "score = mapk(y_test_list, predicciones_list, 7)\n",
    "print(f'MAP@7 Score: {score}')'''"
   ]
  }
 ],
 "metadata": {
  "kernelspec": {
   "display_name": "Python 3 (ipykernel)",
   "language": "python",
   "name": "python3"
  },
  "language_info": {
   "codemirror_mode": {
    "name": "ipython",
    "version": 3
   },
   "file_extension": ".py",
   "mimetype": "text/x-python",
   "name": "python",
   "nbconvert_exporter": "python",
   "pygments_lexer": "ipython3",
   "version": "3.10.14"
  }
 },
 "nbformat": 4,
 "nbformat_minor": 4
}
