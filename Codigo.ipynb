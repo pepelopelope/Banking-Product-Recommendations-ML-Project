{
 "cells": [
  {
   "cell_type": "markdown",
   "metadata": {},
   "source": "Cristobal Gomez y Pepe López "
  },
  {
   "cell_type": "markdown",
   "metadata": {},
   "source": "# Proyecto de predicción de contratación de productos para clientes de un banco"
  },
  {
   "cell_type": "markdown",
   "metadata": {},
   "source": [
    "## Importe de librerias"
   ]
  },
  {
   "cell_type": "code",
   "metadata": {
    "ExecuteTime": {
     "end_time": "2024-06-09T00:49:00.448334900Z",
     "start_time": "2024-06-09T00:48:59.220380400Z"
    }
   },
   "source": [
    "import pandas as pd\n",
    "from sklearn.model_selection import train_test_split\n",
    "from sklearn.ensemble import RandomForestClassifier\n",
    "from sklearn.metrics import average_precision_score\n",
    "import matplotlib.pyplot as plt\n",
    "import numpy as np\n",
    "from scoring import mapk, apk\n"
   ],
   "outputs": [],
   "execution_count": 1215
  },
  {
   "cell_type": "markdown",
   "metadata": {},
   "source": [
    "## 1. Importación y Exploración Inicial de los Datos\n"
   ]
  },
  {
   "cell_type": "markdown",
   "metadata": {},
   "source": [
    "### 1.1. Importación de los Datos"
   ]
  },
  {
   "cell_type": "code",
   "metadata": {
    "ExecuteTime": {
     "end_time": "2024-06-09T00:49:03.143241800Z",
     "start_time": "2024-06-09T00:49:00.451331700Z"
    }
   },
   "source": [
    "\n",
    "# Cargar datos\n",
    "dataset = pd.read_csv('dataset_para_modelar.csv')"
   ],
   "outputs": [
    {
     "name": "stderr",
     "output_type": "stream",
     "text": [
      "C:\\Users\\pepei\\AppData\\Local\\Temp\\ipykernel_14136\\2774896306.py:2: DtypeWarning: Columns (5,9,11) have mixed types. Specify dtype option on import or set low_memory=False.\n",
      "  dataset = pd.read_csv('dataset_para_modelar.csv')\n"
     ]
    }
   ],
   "execution_count": 1216
  },
  {
   "cell_type": "markdown",
   "metadata": {},
   "source": [
    "### 1.2. Exploración Inicial\n"
   ]
  },
  {
   "cell_type": "markdown",
   "metadata": {},
   "source": [
    "Mostrar información básica del dataset\n"
   ]
  },
  {
   "cell_type": "code",
   "metadata": {
    "ExecuteTime": {
     "end_time": "2024-06-09T00:49:03.512827100Z",
     "start_time": "2024-06-09T00:49:03.085118900Z"
    }
   },
   "source": [
    "dataset.info()\n"
   ],
   "outputs": [
    {
     "name": "stdout",
     "output_type": "stream",
     "text": [
      "<class 'pandas.core.frame.DataFrame'>\n",
      "RangeIndex: 634682 entries, 0 to 634681\n",
      "Data columns (total 49 columns):\n",
      " #   Column                 Non-Null Count   Dtype  \n",
      "---  ------                 --------------   -----  \n",
      " 0   Unnamed: 0             634682 non-null  int64  \n",
      " 1   cod_persona            634682 non-null  int64  \n",
      " 2   mes                    634682 non-null  object \n",
      " 3   pais                   634626 non-null  object \n",
      " 4   sexo                   634617 non-null  object \n",
      " 5   edad                   634682 non-null  object \n",
      " 6   fecha1                 634626 non-null  object \n",
      " 7   xti_empleado           634626 non-null  object \n",
      " 8   xti_nuevo_cliente      634626 non-null  float64\n",
      " 9   num_antiguedad         634682 non-null  object \n",
      " 10  xti_rel                634626 non-null  float64\n",
      " 11  fec_ult_cli_1t         36 non-null      object \n",
      " 12  xti_rel_1mes           629040 non-null  float64\n",
      " 13  tip_rel_1mes           629040 non-null  object \n",
      " 14  indresi                634626 non-null  object \n",
      " 15  indext                 634626 non-null  object \n",
      " 16  des_canal              627504 non-null  object \n",
      " 17  xti_extra              634626 non-null  object \n",
      " 18  tip_dom                634626 non-null  float64\n",
      " 19  cod_provincia          631736 non-null  float64\n",
      " 20  xti_actividad_cliente  634626 non-null  float64\n",
      " 21  imp_renta              510518 non-null  float64\n",
      " 22  id_segmento            627279 non-null  object \n",
      " 23  mean_engagement        629040 non-null  float64\n",
      " 24  ind_prod1              634682 non-null  int64  \n",
      " 25  ind_prod2              634682 non-null  int64  \n",
      " 26  ind_prod3              634682 non-null  int64  \n",
      " 27  ind_prod4              634682 non-null  int64  \n",
      " 28  ind_prod5              634682 non-null  int64  \n",
      " 29  ind_prod6              634682 non-null  int64  \n",
      " 30  ind_prod7              634682 non-null  int64  \n",
      " 31  ind_prod8              634682 non-null  int64  \n",
      " 32  ind_prod9              634682 non-null  int64  \n",
      " 33  ind_prod10             634682 non-null  int64  \n",
      " 34  ind_prod11             634682 non-null  int64  \n",
      " 35  ind_prod12             634682 non-null  int64  \n",
      " 36  ind_prod13             634682 non-null  int64  \n",
      " 37  ind_prod14             634682 non-null  int64  \n",
      " 38  ind_prod15             634682 non-null  int64  \n",
      " 39  ind_prod16             634682 non-null  int64  \n",
      " 40  ind_prod17             634682 non-null  int64  \n",
      " 41  ind_prod18             634682 non-null  int64  \n",
      " 42  ind_prod19             634682 non-null  int64  \n",
      " 43  ind_prod20             634682 non-null  int64  \n",
      " 44  ind_prod21             634682 non-null  int64  \n",
      " 45  ind_prod22             634651 non-null  float64\n",
      " 46  ind_prod23             634651 non-null  float64\n",
      " 47  ind_prod24             634682 non-null  int64  \n",
      " 48  ind_prod25             634682 non-null  int64  \n",
      "dtypes: float64(10), int64(25), object(14)\n",
      "memory usage: 237.3+ MB\n"
     ]
    }
   ],
   "execution_count": 1217
  },
  {
   "cell_type": "markdown",
   "metadata": {},
   "source": [
    "Descripcion de las principales metricas de cada variable"
   ]
  },
  {
   "cell_type": "code",
   "metadata": {
    "ExecuteTime": {
     "end_time": "2024-06-09T00:49:04.376913100Z",
     "start_time": "2024-06-09T00:49:03.425321200Z"
    }
   },
   "source": [
    "dataset.describe()\n"
   ],
   "outputs": [
    {
     "data": {
      "text/plain": "          Unnamed: 0   cod_persona  xti_nuevo_cliente        xti_rel  \\\ncount  634682.000000  6.346820e+05      634626.000000  634626.000000   \nmean   321920.356254  7.217769e+05           0.059846       1.005559   \nstd    185232.719038  4.290892e+05           0.237202       0.738085   \nmin         0.000000  5.514000e+03           0.000000       1.000000   \n25%    161691.250000  3.584120e+05           0.000000       1.000000   \n50%    322352.500000  6.230450e+05           0.000000       1.000000   \n75%    482540.750000  1.102693e+06           0.000000       1.000000   \nmax    641706.000000  1.537800e+06           1.000000      99.000000   \n\n        xti_rel_1mes   tip_dom  cod_provincia  xti_actividad_cliente  \\\ncount  629040.000000  634626.0  631736.000000          634626.000000   \nmean        1.000587       1.0      26.598741               0.459126   \nstd         0.036560       0.0      12.777667               0.498327   \nmin         0.000000       1.0       1.000000               0.000000   \n25%         1.000000       1.0      15.000000               0.000000   \n50%         1.000000       1.0      28.000000               0.000000   \n75%         1.000000       1.0      35.000000               1.000000   \nmax         4.000000       1.0      52.000000               1.000000   \n\n          imp_renta  mean_engagement  ...     ind_prod16     ind_prod17  \\\ncount  5.105180e+05    629040.000000  ...  634682.000000  634682.000000   \nmean   1.367071e+05         6.425623  ...       0.009263       0.002718   \nstd    3.339545e+05         1.345879  ...       0.095797       0.052063   \nmin    4.559550e+03         0.218520  ...       0.000000       0.000000   \n25%    6.821148e+04         5.117500  ...       0.000000       0.000000   \n50%    1.012905e+05         6.463518  ...       0.000000       0.000000   \n75%    1.566742e+05         7.359949  ...       0.000000       0.000000   \nmax    2.889440e+07        38.793123  ...       1.000000       1.000000   \n\n          ind_prod18     ind_prod19     ind_prod20     ind_prod21  \\\ncount  634682.000000  634682.000000  634682.000000  634682.000000   \nmean        0.053576       0.045505       0.026503       0.003756   \nstd         0.225180       0.208408       0.160626       0.061173   \nmin         0.000000       0.000000       0.000000       0.000000   \n25%         0.000000       0.000000       0.000000       0.000000   \n50%         0.000000       0.000000       0.000000       0.000000   \n75%         0.000000       0.000000       0.000000       0.000000   \nmax         1.000000       1.000000       1.000000       1.000000   \n\n          ind_prod22     ind_prod23     ind_prod24     ind_prod25  \ncount  634651.000000  634651.000000  634682.000000  634682.000000  \nmean        0.055561       0.060295       0.128827       0.065876  \nstd         0.229073       0.238032       0.335008       0.248065  \nmin         0.000000       0.000000       0.000000       0.000000  \n25%         0.000000       0.000000       0.000000       0.000000  \n50%         0.000000       0.000000       0.000000       0.000000  \n75%         0.000000       0.000000       0.000000       0.000000  \nmax         1.000000       1.000000       1.000000       1.000000  \n\n[8 rows x 35 columns]",
      "text/html": "<div>\n<style scoped>\n    .dataframe tbody tr th:only-of-type {\n        vertical-align: middle;\n    }\n\n    .dataframe tbody tr th {\n        vertical-align: top;\n    }\n\n    .dataframe thead th {\n        text-align: right;\n    }\n</style>\n<table border=\"1\" class=\"dataframe\">\n  <thead>\n    <tr style=\"text-align: right;\">\n      <th></th>\n      <th>Unnamed: 0</th>\n      <th>cod_persona</th>\n      <th>xti_nuevo_cliente</th>\n      <th>xti_rel</th>\n      <th>xti_rel_1mes</th>\n      <th>tip_dom</th>\n      <th>cod_provincia</th>\n      <th>xti_actividad_cliente</th>\n      <th>imp_renta</th>\n      <th>mean_engagement</th>\n      <th>...</th>\n      <th>ind_prod16</th>\n      <th>ind_prod17</th>\n      <th>ind_prod18</th>\n      <th>ind_prod19</th>\n      <th>ind_prod20</th>\n      <th>ind_prod21</th>\n      <th>ind_prod22</th>\n      <th>ind_prod23</th>\n      <th>ind_prod24</th>\n      <th>ind_prod25</th>\n    </tr>\n  </thead>\n  <tbody>\n    <tr>\n      <th>count</th>\n      <td>634682.000000</td>\n      <td>6.346820e+05</td>\n      <td>634626.000000</td>\n      <td>634626.000000</td>\n      <td>629040.000000</td>\n      <td>634626.0</td>\n      <td>631736.000000</td>\n      <td>634626.000000</td>\n      <td>5.105180e+05</td>\n      <td>629040.000000</td>\n      <td>...</td>\n      <td>634682.000000</td>\n      <td>634682.000000</td>\n      <td>634682.000000</td>\n      <td>634682.000000</td>\n      <td>634682.000000</td>\n      <td>634682.000000</td>\n      <td>634651.000000</td>\n      <td>634651.000000</td>\n      <td>634682.000000</td>\n      <td>634682.000000</td>\n    </tr>\n    <tr>\n      <th>mean</th>\n      <td>321920.356254</td>\n      <td>7.217769e+05</td>\n      <td>0.059846</td>\n      <td>1.005559</td>\n      <td>1.000587</td>\n      <td>1.0</td>\n      <td>26.598741</td>\n      <td>0.459126</td>\n      <td>1.367071e+05</td>\n      <td>6.425623</td>\n      <td>...</td>\n      <td>0.009263</td>\n      <td>0.002718</td>\n      <td>0.053576</td>\n      <td>0.045505</td>\n      <td>0.026503</td>\n      <td>0.003756</td>\n      <td>0.055561</td>\n      <td>0.060295</td>\n      <td>0.128827</td>\n      <td>0.065876</td>\n    </tr>\n    <tr>\n      <th>std</th>\n      <td>185232.719038</td>\n      <td>4.290892e+05</td>\n      <td>0.237202</td>\n      <td>0.738085</td>\n      <td>0.036560</td>\n      <td>0.0</td>\n      <td>12.777667</td>\n      <td>0.498327</td>\n      <td>3.339545e+05</td>\n      <td>1.345879</td>\n      <td>...</td>\n      <td>0.095797</td>\n      <td>0.052063</td>\n      <td>0.225180</td>\n      <td>0.208408</td>\n      <td>0.160626</td>\n      <td>0.061173</td>\n      <td>0.229073</td>\n      <td>0.238032</td>\n      <td>0.335008</td>\n      <td>0.248065</td>\n    </tr>\n    <tr>\n      <th>min</th>\n      <td>0.000000</td>\n      <td>5.514000e+03</td>\n      <td>0.000000</td>\n      <td>1.000000</td>\n      <td>0.000000</td>\n      <td>1.0</td>\n      <td>1.000000</td>\n      <td>0.000000</td>\n      <td>4.559550e+03</td>\n      <td>0.218520</td>\n      <td>...</td>\n      <td>0.000000</td>\n      <td>0.000000</td>\n      <td>0.000000</td>\n      <td>0.000000</td>\n      <td>0.000000</td>\n      <td>0.000000</td>\n      <td>0.000000</td>\n      <td>0.000000</td>\n      <td>0.000000</td>\n      <td>0.000000</td>\n    </tr>\n    <tr>\n      <th>25%</th>\n      <td>161691.250000</td>\n      <td>3.584120e+05</td>\n      <td>0.000000</td>\n      <td>1.000000</td>\n      <td>1.000000</td>\n      <td>1.0</td>\n      <td>15.000000</td>\n      <td>0.000000</td>\n      <td>6.821148e+04</td>\n      <td>5.117500</td>\n      <td>...</td>\n      <td>0.000000</td>\n      <td>0.000000</td>\n      <td>0.000000</td>\n      <td>0.000000</td>\n      <td>0.000000</td>\n      <td>0.000000</td>\n      <td>0.000000</td>\n      <td>0.000000</td>\n      <td>0.000000</td>\n      <td>0.000000</td>\n    </tr>\n    <tr>\n      <th>50%</th>\n      <td>322352.500000</td>\n      <td>6.230450e+05</td>\n      <td>0.000000</td>\n      <td>1.000000</td>\n      <td>1.000000</td>\n      <td>1.0</td>\n      <td>28.000000</td>\n      <td>0.000000</td>\n      <td>1.012905e+05</td>\n      <td>6.463518</td>\n      <td>...</td>\n      <td>0.000000</td>\n      <td>0.000000</td>\n      <td>0.000000</td>\n      <td>0.000000</td>\n      <td>0.000000</td>\n      <td>0.000000</td>\n      <td>0.000000</td>\n      <td>0.000000</td>\n      <td>0.000000</td>\n      <td>0.000000</td>\n    </tr>\n    <tr>\n      <th>75%</th>\n      <td>482540.750000</td>\n      <td>1.102693e+06</td>\n      <td>0.000000</td>\n      <td>1.000000</td>\n      <td>1.000000</td>\n      <td>1.0</td>\n      <td>35.000000</td>\n      <td>1.000000</td>\n      <td>1.566742e+05</td>\n      <td>7.359949</td>\n      <td>...</td>\n      <td>0.000000</td>\n      <td>0.000000</td>\n      <td>0.000000</td>\n      <td>0.000000</td>\n      <td>0.000000</td>\n      <td>0.000000</td>\n      <td>0.000000</td>\n      <td>0.000000</td>\n      <td>0.000000</td>\n      <td>0.000000</td>\n    </tr>\n    <tr>\n      <th>max</th>\n      <td>641706.000000</td>\n      <td>1.537800e+06</td>\n      <td>1.000000</td>\n      <td>99.000000</td>\n      <td>4.000000</td>\n      <td>1.0</td>\n      <td>52.000000</td>\n      <td>1.000000</td>\n      <td>2.889440e+07</td>\n      <td>38.793123</td>\n      <td>...</td>\n      <td>1.000000</td>\n      <td>1.000000</td>\n      <td>1.000000</td>\n      <td>1.000000</td>\n      <td>1.000000</td>\n      <td>1.000000</td>\n      <td>1.000000</td>\n      <td>1.000000</td>\n      <td>1.000000</td>\n      <td>1.000000</td>\n    </tr>\n  </tbody>\n</table>\n<p>8 rows × 35 columns</p>\n</div>"
     },
     "execution_count": 1218,
     "metadata": {},
     "output_type": "execute_result"
    }
   ],
   "execution_count": 1218
  },
  {
   "cell_type": "markdown",
   "metadata": {},
   "source": [
    "Primera visualizacion de las variables"
   ]
  },
  {
   "cell_type": "code",
   "metadata": {
    "ExecuteTime": {
     "end_time": "2024-06-09T00:49:04.432090200Z",
     "start_time": "2024-06-09T00:49:04.356216600Z"
    }
   },
   "source": "dataset.head(10)",
   "outputs": [
    {
     "data": {
      "text/plain": "   Unnamed: 0  cod_persona         mes pais sexo edad      fecha1  \\\n0           0       178103  2015-01-28   ES    H   35  2015-01-12   \n1           1       503082  2015-01-28   ES    V   27  2012-08-10   \n2           2       502996  2015-01-28   ES    V   37  2012-08-10   \n3           3       503053  2015-01-28   ES    H   23  2012-08-10   \n4           4       503031  2015-01-28   ES    H   44  2012-08-10   \n5           5       503112  2015-01-28   ES    H   23  2012-08-10   \n6           6       503163  2015-01-28   ES    V   22  2012-08-10   \n7           7       503154  2015-01-28   ES    H   23  2012-08-10   \n8           8       503142  2015-01-28   ES    H   23  2012-08-10   \n9           9       502804  2015-01-28   ES    H   24  2012-08-10   \n\n  xti_empleado  xti_nuevo_cliente num_antiguedad  ...  ind_prod16 ind_prod17  \\\n0            N                0.0              6  ...           0          0   \n1            N                0.0             35  ...           0          0   \n2            N                0.0             35  ...           0          0   \n3            N                0.0             35  ...           0          0   \n4            N                0.0             35  ...           0          0   \n5            N                0.0             35  ...           0          0   \n6            N                0.0             35  ...           0          0   \n7            N                0.0             35  ...           0          0   \n8            N                0.0             35  ...           0          0   \n9            N                0.0             35  ...           0          0   \n\n   ind_prod18 ind_prod19 ind_prod20 ind_prod21 ind_prod22 ind_prod23  \\\n0           0          0          0          0        0.0        0.0   \n1           0          0          0          0        0.0        0.0   \n2           0          0          0          0        0.0        0.0   \n3           0          0          0          0        0.0        0.0   \n4           0          0          0          0        0.0        0.0   \n5           0          0          0          0        0.0        0.0   \n6           0          0          0          0        0.0        0.0   \n7           0          0          0          0        0.0        0.0   \n8           0          0          0          0        0.0        0.0   \n9           0          0          0          0        0.0        0.0   \n\n   ind_prod24  ind_prod25  \n0           0           0  \n1           0           0  \n2           0           0  \n3           1           0  \n4           0           0  \n5           0           0  \n6           0           0  \n7           0           0  \n8           0           0  \n9           0           0  \n\n[10 rows x 49 columns]",
      "text/html": "<div>\n<style scoped>\n    .dataframe tbody tr th:only-of-type {\n        vertical-align: middle;\n    }\n\n    .dataframe tbody tr th {\n        vertical-align: top;\n    }\n\n    .dataframe thead th {\n        text-align: right;\n    }\n</style>\n<table border=\"1\" class=\"dataframe\">\n  <thead>\n    <tr style=\"text-align: right;\">\n      <th></th>\n      <th>Unnamed: 0</th>\n      <th>cod_persona</th>\n      <th>mes</th>\n      <th>pais</th>\n      <th>sexo</th>\n      <th>edad</th>\n      <th>fecha1</th>\n      <th>xti_empleado</th>\n      <th>xti_nuevo_cliente</th>\n      <th>num_antiguedad</th>\n      <th>...</th>\n      <th>ind_prod16</th>\n      <th>ind_prod17</th>\n      <th>ind_prod18</th>\n      <th>ind_prod19</th>\n      <th>ind_prod20</th>\n      <th>ind_prod21</th>\n      <th>ind_prod22</th>\n      <th>ind_prod23</th>\n      <th>ind_prod24</th>\n      <th>ind_prod25</th>\n    </tr>\n  </thead>\n  <tbody>\n    <tr>\n      <th>0</th>\n      <td>0</td>\n      <td>178103</td>\n      <td>2015-01-28</td>\n      <td>ES</td>\n      <td>H</td>\n      <td>35</td>\n      <td>2015-01-12</td>\n      <td>N</td>\n      <td>0.0</td>\n      <td>6</td>\n      <td>...</td>\n      <td>0</td>\n      <td>0</td>\n      <td>0</td>\n      <td>0</td>\n      <td>0</td>\n      <td>0</td>\n      <td>0.0</td>\n      <td>0.0</td>\n      <td>0</td>\n      <td>0</td>\n    </tr>\n    <tr>\n      <th>1</th>\n      <td>1</td>\n      <td>503082</td>\n      <td>2015-01-28</td>\n      <td>ES</td>\n      <td>V</td>\n      <td>27</td>\n      <td>2012-08-10</td>\n      <td>N</td>\n      <td>0.0</td>\n      <td>35</td>\n      <td>...</td>\n      <td>0</td>\n      <td>0</td>\n      <td>0</td>\n      <td>0</td>\n      <td>0</td>\n      <td>0</td>\n      <td>0.0</td>\n      <td>0.0</td>\n      <td>0</td>\n      <td>0</td>\n    </tr>\n    <tr>\n      <th>2</th>\n      <td>2</td>\n      <td>502996</td>\n      <td>2015-01-28</td>\n      <td>ES</td>\n      <td>V</td>\n      <td>37</td>\n      <td>2012-08-10</td>\n      <td>N</td>\n      <td>0.0</td>\n      <td>35</td>\n      <td>...</td>\n      <td>0</td>\n      <td>0</td>\n      <td>0</td>\n      <td>0</td>\n      <td>0</td>\n      <td>0</td>\n      <td>0.0</td>\n      <td>0.0</td>\n      <td>0</td>\n      <td>0</td>\n    </tr>\n    <tr>\n      <th>3</th>\n      <td>3</td>\n      <td>503053</td>\n      <td>2015-01-28</td>\n      <td>ES</td>\n      <td>H</td>\n      <td>23</td>\n      <td>2012-08-10</td>\n      <td>N</td>\n      <td>0.0</td>\n      <td>35</td>\n      <td>...</td>\n      <td>0</td>\n      <td>0</td>\n      <td>0</td>\n      <td>0</td>\n      <td>0</td>\n      <td>0</td>\n      <td>0.0</td>\n      <td>0.0</td>\n      <td>1</td>\n      <td>0</td>\n    </tr>\n    <tr>\n      <th>4</th>\n      <td>4</td>\n      <td>503031</td>\n      <td>2015-01-28</td>\n      <td>ES</td>\n      <td>H</td>\n      <td>44</td>\n      <td>2012-08-10</td>\n      <td>N</td>\n      <td>0.0</td>\n      <td>35</td>\n      <td>...</td>\n      <td>0</td>\n      <td>0</td>\n      <td>0</td>\n      <td>0</td>\n      <td>0</td>\n      <td>0</td>\n      <td>0.0</td>\n      <td>0.0</td>\n      <td>0</td>\n      <td>0</td>\n    </tr>\n    <tr>\n      <th>5</th>\n      <td>5</td>\n      <td>503112</td>\n      <td>2015-01-28</td>\n      <td>ES</td>\n      <td>H</td>\n      <td>23</td>\n      <td>2012-08-10</td>\n      <td>N</td>\n      <td>0.0</td>\n      <td>35</td>\n      <td>...</td>\n      <td>0</td>\n      <td>0</td>\n      <td>0</td>\n      <td>0</td>\n      <td>0</td>\n      <td>0</td>\n      <td>0.0</td>\n      <td>0.0</td>\n      <td>0</td>\n      <td>0</td>\n    </tr>\n    <tr>\n      <th>6</th>\n      <td>6</td>\n      <td>503163</td>\n      <td>2015-01-28</td>\n      <td>ES</td>\n      <td>V</td>\n      <td>22</td>\n      <td>2012-08-10</td>\n      <td>N</td>\n      <td>0.0</td>\n      <td>35</td>\n      <td>...</td>\n      <td>0</td>\n      <td>0</td>\n      <td>0</td>\n      <td>0</td>\n      <td>0</td>\n      <td>0</td>\n      <td>0.0</td>\n      <td>0.0</td>\n      <td>0</td>\n      <td>0</td>\n    </tr>\n    <tr>\n      <th>7</th>\n      <td>7</td>\n      <td>503154</td>\n      <td>2015-01-28</td>\n      <td>ES</td>\n      <td>H</td>\n      <td>23</td>\n      <td>2012-08-10</td>\n      <td>N</td>\n      <td>0.0</td>\n      <td>35</td>\n      <td>...</td>\n      <td>0</td>\n      <td>0</td>\n      <td>0</td>\n      <td>0</td>\n      <td>0</td>\n      <td>0</td>\n      <td>0.0</td>\n      <td>0.0</td>\n      <td>0</td>\n      <td>0</td>\n    </tr>\n    <tr>\n      <th>8</th>\n      <td>8</td>\n      <td>503142</td>\n      <td>2015-01-28</td>\n      <td>ES</td>\n      <td>H</td>\n      <td>23</td>\n      <td>2012-08-10</td>\n      <td>N</td>\n      <td>0.0</td>\n      <td>35</td>\n      <td>...</td>\n      <td>0</td>\n      <td>0</td>\n      <td>0</td>\n      <td>0</td>\n      <td>0</td>\n      <td>0</td>\n      <td>0.0</td>\n      <td>0.0</td>\n      <td>0</td>\n      <td>0</td>\n    </tr>\n    <tr>\n      <th>9</th>\n      <td>9</td>\n      <td>502804</td>\n      <td>2015-01-28</td>\n      <td>ES</td>\n      <td>H</td>\n      <td>24</td>\n      <td>2012-08-10</td>\n      <td>N</td>\n      <td>0.0</td>\n      <td>35</td>\n      <td>...</td>\n      <td>0</td>\n      <td>0</td>\n      <td>0</td>\n      <td>0</td>\n      <td>0</td>\n      <td>0</td>\n      <td>0.0</td>\n      <td>0.0</td>\n      <td>0</td>\n      <td>0</td>\n    </tr>\n  </tbody>\n</table>\n<p>10 rows × 49 columns</p>\n</div>"
     },
     "execution_count": 1219,
     "metadata": {},
     "output_type": "execute_result"
    }
   ],
   "execution_count": 1219
  },
  {
   "cell_type": "markdown",
   "metadata": {},
   "source": [
    "## 2. Limpieza de Datos\n"
   ]
  },
  {
   "metadata": {
    "ExecuteTime": {
     "end_time": "2024-06-09T00:49:04.531995600Z",
     "start_time": "2024-06-09T00:49:04.371730200Z"
    }
   },
   "cell_type": "code",
   "source": "dataset.columns",
   "outputs": [
    {
     "data": {
      "text/plain": "Index(['Unnamed: 0', 'cod_persona', 'mes', 'pais', 'sexo', 'edad', 'fecha1',\n       'xti_empleado', 'xti_nuevo_cliente', 'num_antiguedad', 'xti_rel',\n       'fec_ult_cli_1t', 'xti_rel_1mes', 'tip_rel_1mes', 'indresi', 'indext',\n       'des_canal', 'xti_extra', 'tip_dom', 'cod_provincia',\n       'xti_actividad_cliente', 'imp_renta', 'id_segmento', 'mean_engagement',\n       'ind_prod1', 'ind_prod2', 'ind_prod3', 'ind_prod4', 'ind_prod5',\n       'ind_prod6', 'ind_prod7', 'ind_prod8', 'ind_prod9', 'ind_prod10',\n       'ind_prod11', 'ind_prod12', 'ind_prod13', 'ind_prod14', 'ind_prod15',\n       'ind_prod16', 'ind_prod17', 'ind_prod18', 'ind_prod19', 'ind_prod20',\n       'ind_prod21', 'ind_prod22', 'ind_prod23', 'ind_prod24', 'ind_prod25'],\n      dtype='object')"
     },
     "execution_count": 1220,
     "metadata": {},
     "output_type": "execute_result"
    }
   ],
   "execution_count": 1220
  },
  {
   "metadata": {},
   "cell_type": "markdown",
   "source": ""
  },
  {
   "metadata": {},
   "cell_type": "markdown",
   "source": [
    "### Unnamed: 0\n",
    "Index"
   ]
  },
  {
   "metadata": {
    "ExecuteTime": {
     "end_time": "2024-06-09T00:49:04.732032400Z",
     "start_time": "2024-06-09T00:49:04.432090200Z"
    }
   },
   "cell_type": "code",
   "source": [
    "#Ver tipo \n",
    "print(dataset['Unnamed: 0'].dtypes)\n",
    "#Recuento de clases \n",
    "print(dataset['Unnamed: 0'].value_counts())\n",
    "#Recuento de nulos\n",
    "print(dataset['Unnamed: 0'].isnull().sum())\n",
    "#Ver distribucion\n",
    "# plt.hist(dataset['Unnamed: 0']) Es un indice que no tiene distribiucion \n",
    "#Imputar nulos"
   ],
   "outputs": [
    {
     "name": "stdout",
     "output_type": "stream",
     "text": [
      "int64\n",
      "Unnamed: 0\n",
      "0         1\n",
      "429174    1\n",
      "429167    1\n",
      "429168    1\n",
      "429169    1\n",
      "         ..\n",
      "215231    1\n",
      "215232    1\n",
      "215233    1\n",
      "215235    1\n",
      "641706    1\n",
      "Name: count, Length: 634682, dtype: int64\n",
      "0\n"
     ]
    }
   ],
   "execution_count": 1221
  },
  {
   "metadata": {},
   "cell_type": "markdown",
   "source": [
    "### Cod_persona\n",
    "Customer\tcode"
   ]
  },
  {
   "metadata": {
    "ExecuteTime": {
     "end_time": "2024-06-09T00:49:04.874616500Z",
     "start_time": "2024-06-09T00:49:04.475807800Z"
    }
   },
   "cell_type": "code",
   "source": [
    "#dataset[cod_persona]=503082 y ordenarlo por fecha1:\n",
    "\n",
    "#Ejemplo de una persona\n",
    "dataset[dataset['cod_persona']==504546].sort_values(by='fecha1') # Dataset compuesto por la evolucion de contrataciones de productos de una persona a lo largo del tiempo"
   ],
   "outputs": [
    {
     "data": {
      "text/plain": "        Unnamed: 0  cod_persona         mes pais sexo edad      fecha1  \\\n62              62       504546  2015-01-28   ES    H   23  2012-08-09   \n61530        62846       504546  2015-02-28   ES    H   23  2012-08-09   \n91495        93386       504546  2015-03-28   ES    H   23  2012-08-09   \n123869      126332       504546  2015-04-28   ES    H   23  2012-08-09   \n125782      128260       504546  2015-05-28   ES    H   23  2012-08-09   \n157209      160210       504546  2015-06-28   ES    H   23  2012-08-09   \n216829      220553       504546  2015-07-28   ES    H   23  2012-08-09   \n254727      259089       504546  2015-08-28   ES    H   24  2012-08-09   \n300440      305168       504546  2015-09-28   ES    H   24  2012-08-09   \n322426      327473       504546  2015-10-28   ES    H   24  2012-08-09   \n402065      408002       504546  2015-11-28   ES    H   24  2012-08-09   \n407176      413131       504546  2015-12-28   ES    H   24  2012-08-09   \n492771      499369       504546  2016-01-28   ES    H   24  2012-08-09   \n528203      534963       504546  2016-02-28   ES    H   24  2012-08-09   \n587552      594497       504546  2016-03-28   ES    H   24  2012-08-09   \n620983      627993       504546  2016-04-28   ES    H   24  2012-08-09   \n\n       xti_empleado  xti_nuevo_cliente num_antiguedad  ...  ind_prod16  \\\n62                N                0.0             35  ...           0   \n61530             N                0.0             35  ...           0   \n91495             N                0.0             35  ...           0   \n123869            N                0.0             35  ...           0   \n125782            N                0.0             35  ...           0   \n157209            N                0.0             35  ...           0   \n216829            N                0.0             35  ...           0   \n254727            N                0.0             36  ...           0   \n300440            N                0.0             37  ...           0   \n322426            N                0.0             38  ...           0   \n402065            N                0.0             39  ...           0   \n407176            N                0.0             40  ...           0   \n492771            N                0.0             41  ...           0   \n528203            N                0.0             42  ...           0   \n587552            N                0.0             43  ...           0   \n620983            N                0.0             44  ...           0   \n\n       ind_prod17  ind_prod18 ind_prod19 ind_prod20 ind_prod21 ind_prod22  \\\n62              0           0          0          0          0        0.0   \n61530           0           0          0          0          0        0.0   \n91495           0           0          0          0          0        0.0   \n123869          0           0          0          0          0        0.0   \n125782          0           0          0          0          0        0.0   \n157209          0           0          0          0          0        0.0   \n216829          0           0          0          0          0        0.0   \n254727          0           0          0          0          0        0.0   \n300440          0           0          0          0          0        0.0   \n322426          0           0          0          0          0        0.0   \n402065          0           0          0          0          0        0.0   \n407176          0           0          0          0          0        0.0   \n492771          0           0          0          0          0        0.0   \n528203          0           0          0          0          0        0.0   \n587552          0           0          0          0          0        0.0   \n620983          0           0          0          0          0        0.0   \n\n       ind_prod23  ind_prod24  ind_prod25  \n62            0.0           0           0  \n61530         0.0           0           0  \n91495         0.0           0           0  \n123869        0.0           0           0  \n125782        0.0           0           0  \n157209        0.0           0           0  \n216829        0.0           0           0  \n254727        0.0           0           0  \n300440        0.0           0           0  \n322426        0.0           0           0  \n402065        0.0           0           0  \n407176        0.0           0           0  \n492771        0.0           0           0  \n528203        0.0           0           0  \n587552        0.0           0           0  \n620983        0.0           0           0  \n\n[16 rows x 49 columns]",
      "text/html": "<div>\n<style scoped>\n    .dataframe tbody tr th:only-of-type {\n        vertical-align: middle;\n    }\n\n    .dataframe tbody tr th {\n        vertical-align: top;\n    }\n\n    .dataframe thead th {\n        text-align: right;\n    }\n</style>\n<table border=\"1\" class=\"dataframe\">\n  <thead>\n    <tr style=\"text-align: right;\">\n      <th></th>\n      <th>Unnamed: 0</th>\n      <th>cod_persona</th>\n      <th>mes</th>\n      <th>pais</th>\n      <th>sexo</th>\n      <th>edad</th>\n      <th>fecha1</th>\n      <th>xti_empleado</th>\n      <th>xti_nuevo_cliente</th>\n      <th>num_antiguedad</th>\n      <th>...</th>\n      <th>ind_prod16</th>\n      <th>ind_prod17</th>\n      <th>ind_prod18</th>\n      <th>ind_prod19</th>\n      <th>ind_prod20</th>\n      <th>ind_prod21</th>\n      <th>ind_prod22</th>\n      <th>ind_prod23</th>\n      <th>ind_prod24</th>\n      <th>ind_prod25</th>\n    </tr>\n  </thead>\n  <tbody>\n    <tr>\n      <th>62</th>\n      <td>62</td>\n      <td>504546</td>\n      <td>2015-01-28</td>\n      <td>ES</td>\n      <td>H</td>\n      <td>23</td>\n      <td>2012-08-09</td>\n      <td>N</td>\n      <td>0.0</td>\n      <td>35</td>\n      <td>...</td>\n      <td>0</td>\n      <td>0</td>\n      <td>0</td>\n      <td>0</td>\n      <td>0</td>\n      <td>0</td>\n      <td>0.0</td>\n      <td>0.0</td>\n      <td>0</td>\n      <td>0</td>\n    </tr>\n    <tr>\n      <th>61530</th>\n      <td>62846</td>\n      <td>504546</td>\n      <td>2015-02-28</td>\n      <td>ES</td>\n      <td>H</td>\n      <td>23</td>\n      <td>2012-08-09</td>\n      <td>N</td>\n      <td>0.0</td>\n      <td>35</td>\n      <td>...</td>\n      <td>0</td>\n      <td>0</td>\n      <td>0</td>\n      <td>0</td>\n      <td>0</td>\n      <td>0</td>\n      <td>0.0</td>\n      <td>0.0</td>\n      <td>0</td>\n      <td>0</td>\n    </tr>\n    <tr>\n      <th>91495</th>\n      <td>93386</td>\n      <td>504546</td>\n      <td>2015-03-28</td>\n      <td>ES</td>\n      <td>H</td>\n      <td>23</td>\n      <td>2012-08-09</td>\n      <td>N</td>\n      <td>0.0</td>\n      <td>35</td>\n      <td>...</td>\n      <td>0</td>\n      <td>0</td>\n      <td>0</td>\n      <td>0</td>\n      <td>0</td>\n      <td>0</td>\n      <td>0.0</td>\n      <td>0.0</td>\n      <td>0</td>\n      <td>0</td>\n    </tr>\n    <tr>\n      <th>123869</th>\n      <td>126332</td>\n      <td>504546</td>\n      <td>2015-04-28</td>\n      <td>ES</td>\n      <td>H</td>\n      <td>23</td>\n      <td>2012-08-09</td>\n      <td>N</td>\n      <td>0.0</td>\n      <td>35</td>\n      <td>...</td>\n      <td>0</td>\n      <td>0</td>\n      <td>0</td>\n      <td>0</td>\n      <td>0</td>\n      <td>0</td>\n      <td>0.0</td>\n      <td>0.0</td>\n      <td>0</td>\n      <td>0</td>\n    </tr>\n    <tr>\n      <th>125782</th>\n      <td>128260</td>\n      <td>504546</td>\n      <td>2015-05-28</td>\n      <td>ES</td>\n      <td>H</td>\n      <td>23</td>\n      <td>2012-08-09</td>\n      <td>N</td>\n      <td>0.0</td>\n      <td>35</td>\n      <td>...</td>\n      <td>0</td>\n      <td>0</td>\n      <td>0</td>\n      <td>0</td>\n      <td>0</td>\n      <td>0</td>\n      <td>0.0</td>\n      <td>0.0</td>\n      <td>0</td>\n      <td>0</td>\n    </tr>\n    <tr>\n      <th>157209</th>\n      <td>160210</td>\n      <td>504546</td>\n      <td>2015-06-28</td>\n      <td>ES</td>\n      <td>H</td>\n      <td>23</td>\n      <td>2012-08-09</td>\n      <td>N</td>\n      <td>0.0</td>\n      <td>35</td>\n      <td>...</td>\n      <td>0</td>\n      <td>0</td>\n      <td>0</td>\n      <td>0</td>\n      <td>0</td>\n      <td>0</td>\n      <td>0.0</td>\n      <td>0.0</td>\n      <td>0</td>\n      <td>0</td>\n    </tr>\n    <tr>\n      <th>216829</th>\n      <td>220553</td>\n      <td>504546</td>\n      <td>2015-07-28</td>\n      <td>ES</td>\n      <td>H</td>\n      <td>23</td>\n      <td>2012-08-09</td>\n      <td>N</td>\n      <td>0.0</td>\n      <td>35</td>\n      <td>...</td>\n      <td>0</td>\n      <td>0</td>\n      <td>0</td>\n      <td>0</td>\n      <td>0</td>\n      <td>0</td>\n      <td>0.0</td>\n      <td>0.0</td>\n      <td>0</td>\n      <td>0</td>\n    </tr>\n    <tr>\n      <th>254727</th>\n      <td>259089</td>\n      <td>504546</td>\n      <td>2015-08-28</td>\n      <td>ES</td>\n      <td>H</td>\n      <td>24</td>\n      <td>2012-08-09</td>\n      <td>N</td>\n      <td>0.0</td>\n      <td>36</td>\n      <td>...</td>\n      <td>0</td>\n      <td>0</td>\n      <td>0</td>\n      <td>0</td>\n      <td>0</td>\n      <td>0</td>\n      <td>0.0</td>\n      <td>0.0</td>\n      <td>0</td>\n      <td>0</td>\n    </tr>\n    <tr>\n      <th>300440</th>\n      <td>305168</td>\n      <td>504546</td>\n      <td>2015-09-28</td>\n      <td>ES</td>\n      <td>H</td>\n      <td>24</td>\n      <td>2012-08-09</td>\n      <td>N</td>\n      <td>0.0</td>\n      <td>37</td>\n      <td>...</td>\n      <td>0</td>\n      <td>0</td>\n      <td>0</td>\n      <td>0</td>\n      <td>0</td>\n      <td>0</td>\n      <td>0.0</td>\n      <td>0.0</td>\n      <td>0</td>\n      <td>0</td>\n    </tr>\n    <tr>\n      <th>322426</th>\n      <td>327473</td>\n      <td>504546</td>\n      <td>2015-10-28</td>\n      <td>ES</td>\n      <td>H</td>\n      <td>24</td>\n      <td>2012-08-09</td>\n      <td>N</td>\n      <td>0.0</td>\n      <td>38</td>\n      <td>...</td>\n      <td>0</td>\n      <td>0</td>\n      <td>0</td>\n      <td>0</td>\n      <td>0</td>\n      <td>0</td>\n      <td>0.0</td>\n      <td>0.0</td>\n      <td>0</td>\n      <td>0</td>\n    </tr>\n    <tr>\n      <th>402065</th>\n      <td>408002</td>\n      <td>504546</td>\n      <td>2015-11-28</td>\n      <td>ES</td>\n      <td>H</td>\n      <td>24</td>\n      <td>2012-08-09</td>\n      <td>N</td>\n      <td>0.0</td>\n      <td>39</td>\n      <td>...</td>\n      <td>0</td>\n      <td>0</td>\n      <td>0</td>\n      <td>0</td>\n      <td>0</td>\n      <td>0</td>\n      <td>0.0</td>\n      <td>0.0</td>\n      <td>0</td>\n      <td>0</td>\n    </tr>\n    <tr>\n      <th>407176</th>\n      <td>413131</td>\n      <td>504546</td>\n      <td>2015-12-28</td>\n      <td>ES</td>\n      <td>H</td>\n      <td>24</td>\n      <td>2012-08-09</td>\n      <td>N</td>\n      <td>0.0</td>\n      <td>40</td>\n      <td>...</td>\n      <td>0</td>\n      <td>0</td>\n      <td>0</td>\n      <td>0</td>\n      <td>0</td>\n      <td>0</td>\n      <td>0.0</td>\n      <td>0.0</td>\n      <td>0</td>\n      <td>0</td>\n    </tr>\n    <tr>\n      <th>492771</th>\n      <td>499369</td>\n      <td>504546</td>\n      <td>2016-01-28</td>\n      <td>ES</td>\n      <td>H</td>\n      <td>24</td>\n      <td>2012-08-09</td>\n      <td>N</td>\n      <td>0.0</td>\n      <td>41</td>\n      <td>...</td>\n      <td>0</td>\n      <td>0</td>\n      <td>0</td>\n      <td>0</td>\n      <td>0</td>\n      <td>0</td>\n      <td>0.0</td>\n      <td>0.0</td>\n      <td>0</td>\n      <td>0</td>\n    </tr>\n    <tr>\n      <th>528203</th>\n      <td>534963</td>\n      <td>504546</td>\n      <td>2016-02-28</td>\n      <td>ES</td>\n      <td>H</td>\n      <td>24</td>\n      <td>2012-08-09</td>\n      <td>N</td>\n      <td>0.0</td>\n      <td>42</td>\n      <td>...</td>\n      <td>0</td>\n      <td>0</td>\n      <td>0</td>\n      <td>0</td>\n      <td>0</td>\n      <td>0</td>\n      <td>0.0</td>\n      <td>0.0</td>\n      <td>0</td>\n      <td>0</td>\n    </tr>\n    <tr>\n      <th>587552</th>\n      <td>594497</td>\n      <td>504546</td>\n      <td>2016-03-28</td>\n      <td>ES</td>\n      <td>H</td>\n      <td>24</td>\n      <td>2012-08-09</td>\n      <td>N</td>\n      <td>0.0</td>\n      <td>43</td>\n      <td>...</td>\n      <td>0</td>\n      <td>0</td>\n      <td>0</td>\n      <td>0</td>\n      <td>0</td>\n      <td>0</td>\n      <td>0.0</td>\n      <td>0.0</td>\n      <td>0</td>\n      <td>0</td>\n    </tr>\n    <tr>\n      <th>620983</th>\n      <td>627993</td>\n      <td>504546</td>\n      <td>2016-04-28</td>\n      <td>ES</td>\n      <td>H</td>\n      <td>24</td>\n      <td>2012-08-09</td>\n      <td>N</td>\n      <td>0.0</td>\n      <td>44</td>\n      <td>...</td>\n      <td>0</td>\n      <td>0</td>\n      <td>0</td>\n      <td>0</td>\n      <td>0</td>\n      <td>0</td>\n      <td>0.0</td>\n      <td>0.0</td>\n      <td>0</td>\n      <td>0</td>\n    </tr>\n  </tbody>\n</table>\n<p>16 rows × 49 columns</p>\n</div>"
     },
     "execution_count": 1222,
     "metadata": {},
     "output_type": "execute_result"
    }
   ],
   "execution_count": 1222
  },
  {
   "metadata": {
    "ExecuteTime": {
     "end_time": "2024-06-09T00:49:04.931190800Z",
     "start_time": "2024-06-09T00:49:04.507948900Z"
    }
   },
   "cell_type": "code",
   "source": [
    "# Agrupar por 'cod_persona' y contar el número de registros para cada persona\n",
    "conteo_registros = dataset.groupby('cod_persona').size().reset_index(name='num_registros')\n",
    "\n",
    "# Filtrar para encontrar las personas con solo un registro\n",
    "personas_con_un_registro = conteo_registros[conteo_registros['num_registros'] == 1]\n",
    "\n",
    "# Contar el número de personas con solo un registro\n",
    "num_personas_con_un_registro = personas_con_un_registro.shape[0]\n",
    "\n",
    "print(num_personas_con_un_registro)"
   ],
   "outputs": [
    {
     "name": "stdout",
     "output_type": "stream",
     "text": [
      "223\n"
     ]
    }
   ],
   "execution_count": 1223
  },
  {
   "metadata": {},
   "cell_type": "markdown",
   "source": "Se encuentran personas con un solo registro, lo que puede ser un problema predecir un solo registro sin un historico de contrataciones. No se eliminan los registros, ya que se considera que a pesar de tener un solo registro ese estado puede contener variables muy indicativas de compras de un producto nuevo la siguiente mensualidad."
  },
  {
   "metadata": {
    "ExecuteTime": {
     "end_time": "2024-06-09T00:49:04.936326200Z",
     "start_time": "2024-06-09T00:49:04.571851300Z"
    }
   },
   "cell_type": "code",
   "source": [
    "# Verificar si hay valores nulos en 'cod_persona'\n",
    "print(dataset['cod_persona'].isnull().sum())"
   ],
   "outputs": [
    {
     "name": "stdout",
     "output_type": "stream",
     "text": [
      "0\n"
     ]
    }
   ],
   "execution_count": 1224
  },
  {
   "metadata": {},
   "cell_type": "markdown",
   "source": [
    "### mes\n",
    "The\ttable\tis\tpartitioned\tfor\tthis\tcolumn"
   ]
  },
  {
   "metadata": {
    "ExecuteTime": {
     "end_time": "2024-06-09T00:49:05.003095700Z",
     "start_time": "2024-06-09T00:49:04.602765700Z"
    }
   },
   "cell_type": "code",
   "source": [
    "# Paso la columna 'mes' a datetime\n",
    "dataset['mes'] = pd.to_datetime(dataset['mes'], format='%Y-%m-%d')\n",
    "#Recuento de nulos:\n",
    "print(dataset['mes'].isnull().sum())"
   ],
   "outputs": [
    {
     "name": "stdout",
     "output_type": "stream",
     "text": [
      "0\n"
     ]
    }
   ],
   "execution_count": 1225
  },
  {
   "metadata": {
    "ExecuteTime": {
     "end_time": "2024-06-09T00:49:05.146956300Z",
     "start_time": "2024-06-09T00:49:04.663105700Z"
    }
   },
   "cell_type": "code",
   "source": [
    "#Extraemos las caracteristicas de mes, dia y año:\n",
    "dataset['mes_mes']=dataset['mes'].dt.month\n",
    "dataset['mes_año']=dataset['mes'].dt.year"
   ],
   "outputs": [],
   "execution_count": 1226
  },
  {
   "metadata": {
    "ExecuteTime": {
     "end_time": "2024-06-09T00:49:05.510460800Z",
     "start_time": "2024-06-09T00:49:04.754766200Z"
    }
   },
   "cell_type": "code",
   "source": [
    "#Se estudia el numero de registros por mes y año para ver el balanceo de clases:\n",
    "print(dataset.groupby(['mes_mes', 'mes_año']).size())"
   ],
   "outputs": [
    {
     "name": "stdout",
     "output_type": "stream",
     "text": [
      "mes_mes  mes_año\n",
      "1        2015       30849\n",
      "         2016       45994\n",
      "2        2015       30988\n",
      "         2016       46287\n",
      "3        2015       31138\n",
      "         2016       46549\n",
      "4        2015       31250\n",
      "         2016       46776\n",
      "5        2015       31336\n",
      "6        2015       31429\n",
      "7        2015       41342\n",
      "8        2015       42016\n",
      "9        2015       43170\n",
      "10       2015       44574\n",
      "11       2015       45309\n",
      "12       2015       45675\n",
      "dtype: int64\n"
     ]
    }
   ],
   "execution_count": 1227
  },
  {
   "metadata": {},
   "cell_type": "markdown",
   "source": [
    "Se observa que el dataset esta balanceado en cuanto a la cantidad de registros por mes y año.\n",
    "Se observa que el historico acaba en abril de 2016."
   ]
  },
  {
   "metadata": {},
   "cell_type": "markdown",
   "source": [
    "### pais\n",
    "Customer's\tCountry\tresidence"
   ]
  },
  {
   "metadata": {
    "ExecuteTime": {
     "end_time": "2024-06-09T00:49:05.549092100Z",
     "start_time": "2024-06-09T00:49:04.799831100Z"
    }
   },
   "cell_type": "code",
   "source": "print(dataset['pais'].value_counts())\n",
   "outputs": [
    {
     "name": "stdout",
     "output_type": "stream",
     "text": [
      "pais\n",
      "ES    631736\n",
      "DE       285\n",
      "GB       244\n",
      "FR       224\n",
      "US       203\n",
      "CH       192\n",
      "CO       160\n",
      "AR       144\n",
      "IT       138\n",
      "MX       122\n",
      "RO       104\n",
      "EC        90\n",
      "VE        80\n",
      "CL        74\n",
      "PY        74\n",
      "BE        64\n",
      "BR        52\n",
      "AT        48\n",
      "CA        48\n",
      "FI        32\n",
      "NL        32\n",
      "PL        32\n",
      "CN        32\n",
      "PE        32\n",
      "BG        32\n",
      "BO        26\n",
      "GT        16\n",
      "PK        16\n",
      "PT        16\n",
      "GN        16\n",
      "PR        16\n",
      "JP        16\n",
      "IL        16\n",
      "SA        16\n",
      "NG        16\n",
      "NZ        16\n",
      "IN        16\n",
      "AD        16\n",
      "UA        16\n",
      "SE        16\n",
      "GE        16\n",
      "CU        16\n",
      "PA        16\n",
      "SV        16\n",
      "AU        11\n",
      "MD        10\n",
      "RU        10\n",
      "HU         7\n",
      "Name: count, dtype: int64\n"
     ]
    }
   ],
   "execution_count": 1228
  },
  {
   "metadata": {},
   "cell_type": "markdown",
   "source": "Se observa como la mayoría de los registros son de España, resultando el resto de paises en cifras no significativas. Se podría considerar la posibilidad de agrupar los paises con menos registros en un grupo llamado \"Otros\" para reducir la dimensionalidad de la variable y se mapea a 0-1. "
  },
  {
   "metadata": {
    "ExecuteTime": {
     "end_time": "2024-06-09T00:49:05.732173400Z",
     "start_time": "2024-06-09T00:49:04.849508400Z"
    }
   },
   "cell_type": "code",
   "source": [
    "# Crear un diccionario de mapeo para agrupar los países\n",
    "#Si pais es España el valor de la columna pais_es será 1, sino 0:\n",
    "dataset['pais_binario'] = dataset['pais'].apply(lambda x: 1 if x == 'ES' else 0)\n",
    "dataset.drop(columns=['pais'], inplace=True)\n",
    "dataset['pais_binario'].value_counts()"
   ],
   "outputs": [
    {
     "data": {
      "text/plain": "pais_binario\n1    631736\n0      2946\nName: count, dtype: int64"
     },
     "execution_count": 1229,
     "metadata": {},
     "output_type": "execute_result"
    }
   ],
   "execution_count": 1229
  },
  {
   "metadata": {
    "ExecuteTime": {
     "end_time": "2024-06-09T00:49:05.804446100Z",
     "start_time": "2024-06-09T00:49:05.158986300Z"
    }
   },
   "cell_type": "code",
   "source": "dataset['pais_binario'].isnull().sum() #No hay valores nulos",
   "outputs": [
    {
     "data": {
      "text/plain": "0"
     },
     "execution_count": 1230,
     "metadata": {},
     "output_type": "execute_result"
    }
   ],
   "execution_count": 1230
  },
  {
   "metadata": {},
   "cell_type": "markdown",
   "source": [
    "### sexo\n",
    "Customer's\tsex"
   ]
  },
  {
   "metadata": {
    "ExecuteTime": {
     "end_time": "2024-06-09T00:49:05.827335500Z",
     "start_time": "2024-06-09T00:49:05.172088700Z"
    }
   },
   "cell_type": "code",
   "source": "dataset['sexo'].isnull().sum()",
   "outputs": [
    {
     "data": {
      "text/plain": "65"
     },
     "execution_count": 1231,
     "metadata": {},
     "output_type": "execute_result"
    }
   ],
   "execution_count": 1231
  },
  {
   "metadata": {
    "ExecuteTime": {
     "end_time": "2024-06-09T00:49:06.012027400Z",
     "start_time": "2024-06-09T00:49:05.206310700Z"
    }
   },
   "cell_type": "code",
   "source": "dataset[dataset['cod_persona']==170635]",
   "outputs": [
    {
     "data": {
      "text/plain": "        Unnamed: 0  cod_persona        mes sexo edad      fecha1 xti_empleado  \\\n51501        52614       170635 2015-02-28  NaN   NA         NaN          NaN   \n82415        84130       170635 2015-03-28  NaN   NA         NaN          NaN   \n113518      115788       170635 2015-04-28  NaN   NA         NaN          NaN   \n134835      137477       170635 2015-05-28  NaN   NA         NaN          NaN   \n165637      168754       170635 2015-06-28  NaN   NA         NaN          NaN   \n463976      470442       170635 2016-01-28    V   40  2015-02-17            N   \n506018      512718       170635 2016-02-28    V   40  2015-02-17            N   \n550982      557823       170635 2016-03-28    V   40  2015-02-17            N   \n623367      630379       170635 2016-04-28    V   40  2015-02-17            N   \n\n        xti_nuevo_cliente num_antiguedad  xti_rel  ... ind_prod19  ind_prod20  \\\n51501                 NaN             NA      NaN  ...          0           0   \n82415                 NaN             NA      NaN  ...          0           0   \n113518                NaN             NA      NaN  ...          0           0   \n134835                NaN             NA      NaN  ...          0           0   \n165637                NaN             NA      NaN  ...          0           0   \n463976                1.0              0      1.0  ...          0           0   \n506018                1.0              1      1.0  ...          0           0   \n550982                1.0              2      1.0  ...          0           0   \n623367                1.0              3      1.0  ...          0           0   \n\n       ind_prod21 ind_prod22 ind_prod23 ind_prod24 ind_prod25  mes_mes  \\\n51501           0        0.0        0.0          0          0        2   \n82415           0        0.0        0.0          0          0        3   \n113518          0        0.0        0.0          0          0        4   \n134835          0        0.0        0.0          0          0        5   \n165637          0        NaN        NaN          0          0        6   \n463976          0        0.0        0.0          0          0        1   \n506018          0        0.0        0.0          0          0        2   \n550982          0        0.0        0.0          0          0        3   \n623367          0        0.0        0.0          0          0        4   \n\n        mes_año  pais_binario  \n51501      2015             0  \n82415      2015             0  \n113518     2015             0  \n134835     2015             0  \n165637     2015             0  \n463976     2016             1  \n506018     2016             1  \n550982     2016             1  \n623367     2016             1  \n\n[9 rows x 51 columns]",
      "text/html": "<div>\n<style scoped>\n    .dataframe tbody tr th:only-of-type {\n        vertical-align: middle;\n    }\n\n    .dataframe tbody tr th {\n        vertical-align: top;\n    }\n\n    .dataframe thead th {\n        text-align: right;\n    }\n</style>\n<table border=\"1\" class=\"dataframe\">\n  <thead>\n    <tr style=\"text-align: right;\">\n      <th></th>\n      <th>Unnamed: 0</th>\n      <th>cod_persona</th>\n      <th>mes</th>\n      <th>sexo</th>\n      <th>edad</th>\n      <th>fecha1</th>\n      <th>xti_empleado</th>\n      <th>xti_nuevo_cliente</th>\n      <th>num_antiguedad</th>\n      <th>xti_rel</th>\n      <th>...</th>\n      <th>ind_prod19</th>\n      <th>ind_prod20</th>\n      <th>ind_prod21</th>\n      <th>ind_prod22</th>\n      <th>ind_prod23</th>\n      <th>ind_prod24</th>\n      <th>ind_prod25</th>\n      <th>mes_mes</th>\n      <th>mes_año</th>\n      <th>pais_binario</th>\n    </tr>\n  </thead>\n  <tbody>\n    <tr>\n      <th>51501</th>\n      <td>52614</td>\n      <td>170635</td>\n      <td>2015-02-28</td>\n      <td>NaN</td>\n      <td>NA</td>\n      <td>NaN</td>\n      <td>NaN</td>\n      <td>NaN</td>\n      <td>NA</td>\n      <td>NaN</td>\n      <td>...</td>\n      <td>0</td>\n      <td>0</td>\n      <td>0</td>\n      <td>0.0</td>\n      <td>0.0</td>\n      <td>0</td>\n      <td>0</td>\n      <td>2</td>\n      <td>2015</td>\n      <td>0</td>\n    </tr>\n    <tr>\n      <th>82415</th>\n      <td>84130</td>\n      <td>170635</td>\n      <td>2015-03-28</td>\n      <td>NaN</td>\n      <td>NA</td>\n      <td>NaN</td>\n      <td>NaN</td>\n      <td>NaN</td>\n      <td>NA</td>\n      <td>NaN</td>\n      <td>...</td>\n      <td>0</td>\n      <td>0</td>\n      <td>0</td>\n      <td>0.0</td>\n      <td>0.0</td>\n      <td>0</td>\n      <td>0</td>\n      <td>3</td>\n      <td>2015</td>\n      <td>0</td>\n    </tr>\n    <tr>\n      <th>113518</th>\n      <td>115788</td>\n      <td>170635</td>\n      <td>2015-04-28</td>\n      <td>NaN</td>\n      <td>NA</td>\n      <td>NaN</td>\n      <td>NaN</td>\n      <td>NaN</td>\n      <td>NA</td>\n      <td>NaN</td>\n      <td>...</td>\n      <td>0</td>\n      <td>0</td>\n      <td>0</td>\n      <td>0.0</td>\n      <td>0.0</td>\n      <td>0</td>\n      <td>0</td>\n      <td>4</td>\n      <td>2015</td>\n      <td>0</td>\n    </tr>\n    <tr>\n      <th>134835</th>\n      <td>137477</td>\n      <td>170635</td>\n      <td>2015-05-28</td>\n      <td>NaN</td>\n      <td>NA</td>\n      <td>NaN</td>\n      <td>NaN</td>\n      <td>NaN</td>\n      <td>NA</td>\n      <td>NaN</td>\n      <td>...</td>\n      <td>0</td>\n      <td>0</td>\n      <td>0</td>\n      <td>0.0</td>\n      <td>0.0</td>\n      <td>0</td>\n      <td>0</td>\n      <td>5</td>\n      <td>2015</td>\n      <td>0</td>\n    </tr>\n    <tr>\n      <th>165637</th>\n      <td>168754</td>\n      <td>170635</td>\n      <td>2015-06-28</td>\n      <td>NaN</td>\n      <td>NA</td>\n      <td>NaN</td>\n      <td>NaN</td>\n      <td>NaN</td>\n      <td>NA</td>\n      <td>NaN</td>\n      <td>...</td>\n      <td>0</td>\n      <td>0</td>\n      <td>0</td>\n      <td>NaN</td>\n      <td>NaN</td>\n      <td>0</td>\n      <td>0</td>\n      <td>6</td>\n      <td>2015</td>\n      <td>0</td>\n    </tr>\n    <tr>\n      <th>463976</th>\n      <td>470442</td>\n      <td>170635</td>\n      <td>2016-01-28</td>\n      <td>V</td>\n      <td>40</td>\n      <td>2015-02-17</td>\n      <td>N</td>\n      <td>1.0</td>\n      <td>0</td>\n      <td>1.0</td>\n      <td>...</td>\n      <td>0</td>\n      <td>0</td>\n      <td>0</td>\n      <td>0.0</td>\n      <td>0.0</td>\n      <td>0</td>\n      <td>0</td>\n      <td>1</td>\n      <td>2016</td>\n      <td>1</td>\n    </tr>\n    <tr>\n      <th>506018</th>\n      <td>512718</td>\n      <td>170635</td>\n      <td>2016-02-28</td>\n      <td>V</td>\n      <td>40</td>\n      <td>2015-02-17</td>\n      <td>N</td>\n      <td>1.0</td>\n      <td>1</td>\n      <td>1.0</td>\n      <td>...</td>\n      <td>0</td>\n      <td>0</td>\n      <td>0</td>\n      <td>0.0</td>\n      <td>0.0</td>\n      <td>0</td>\n      <td>0</td>\n      <td>2</td>\n      <td>2016</td>\n      <td>1</td>\n    </tr>\n    <tr>\n      <th>550982</th>\n      <td>557823</td>\n      <td>170635</td>\n      <td>2016-03-28</td>\n      <td>V</td>\n      <td>40</td>\n      <td>2015-02-17</td>\n      <td>N</td>\n      <td>1.0</td>\n      <td>2</td>\n      <td>1.0</td>\n      <td>...</td>\n      <td>0</td>\n      <td>0</td>\n      <td>0</td>\n      <td>0.0</td>\n      <td>0.0</td>\n      <td>0</td>\n      <td>0</td>\n      <td>3</td>\n      <td>2016</td>\n      <td>1</td>\n    </tr>\n    <tr>\n      <th>623367</th>\n      <td>630379</td>\n      <td>170635</td>\n      <td>2016-04-28</td>\n      <td>V</td>\n      <td>40</td>\n      <td>2015-02-17</td>\n      <td>N</td>\n      <td>1.0</td>\n      <td>3</td>\n      <td>1.0</td>\n      <td>...</td>\n      <td>0</td>\n      <td>0</td>\n      <td>0</td>\n      <td>0.0</td>\n      <td>0.0</td>\n      <td>0</td>\n      <td>0</td>\n      <td>4</td>\n      <td>2016</td>\n      <td>1</td>\n    </tr>\n  </tbody>\n</table>\n<p>9 rows × 51 columns</p>\n</div>"
     },
     "execution_count": 1232,
     "metadata": {},
     "output_type": "execute_result"
    }
   ],
   "execution_count": 1232
  },
  {
   "metadata": {},
   "cell_type": "markdown",
   "source": "Se observan que hay valores nulos en la columna 'sexo' que no en todos los registros de la misma persona son nulos. Suponiendo que el sexo de una persona no puede cambiar en el tiempo, se decide rellenar los valores nulos con el valor que tiene para otros registros."
  },
  {
   "metadata": {
    "ExecuteTime": {
     "end_time": "2024-06-09T00:49:12.439326700Z",
     "start_time": "2024-06-09T00:49:05.240918700Z"
    }
   },
   "cell_type": "code",
   "source": [
    "# Calcular el número de registros por 'cod_persona'\n",
    "num_registros_por_persona = dataset.groupby('cod_persona').size().reset_index(name='total_registros')\n",
    "\n",
    "# Calcular el número de valores nulos en la columna 'sexo' por cada 'cod_persona'\n",
    "num_nulos_por_persona = dataset.groupby('cod_persona')['sexo'].apply(lambda x: x.isnull().sum()).reset_index(name='num_nulos')\n",
    "\n",
    "# Unir la información de los nulos y el total de registros al dataset original\n",
    "info_completa = num_registros_por_persona.merge(num_nulos_por_persona, on='cod_persona')\n",
    "\n",
    "# Filtrar para encontrar las personas donde el número de nulos es igual al número de registros\n",
    "personas_con_todos_nulos = info_completa[info_completa['total_registros'] == info_completa['num_nulos']]\n",
    "\n",
    "print(personas_con_todos_nulos)"
   ],
   "outputs": [
    {
     "name": "stdout",
     "output_type": "stream",
     "text": [
      "       cod_persona  total_registros  num_nulos\n",
      "41790      1337182                9          9\n"
     ]
    }
   ],
   "execution_count": 1233
  },
  {
   "metadata": {},
   "cell_type": "markdown",
   "source": "La unica persona con todos los valores de sexo nulos es la persona 41790. Se decide rellenar los valores de esta persona como si fuera un hombre, son solo 9 registros por lo que no afecta a la distribución de la variable. "
  },
  {
   "metadata": {
    "ExecuteTime": {
     "end_time": "2024-06-09T00:49:12.488766700Z",
     "start_time": "2024-06-09T00:49:12.442978400Z"
    }
   },
   "cell_type": "code",
   "source": "dataset.loc[dataset['cod_persona'] == 1337182, 'sexo'] = dataset.loc[dataset['cod_persona'] == 1337182, 'sexo'].fillna('V')",
   "outputs": [],
   "execution_count": 1234
  },
  {
   "metadata": {},
   "cell_type": "markdown",
   "source": "Rellenamos todos los valores nulos de cada persona con otro valor del campo sexo que ya exista para ese cod_persona"
  },
  {
   "metadata": {
    "ExecuteTime": {
     "end_time": "2024-06-09T00:49:21.607115600Z",
     "start_time": "2024-06-09T00:49:12.459345700Z"
    }
   },
   "cell_type": "code",
   "source": [
    "valores_no_nulos = dataset.dropna(subset=['sexo']).drop_duplicates(subset=['cod_persona'], keep='first')\n",
    "# Crear un diccionario con los valores no nulos\n",
    "valores_no_nulos_dict = valores_no_nulos.set_index('cod_persona')['sexo'].to_dict()\n",
    "\n",
    "#Rellenar los valores nulos en 'sexo' usando el valor no nulo correspondiente de cada 'cod_persona'\n",
    "dataset['sexo'] = dataset.apply(lambda row: valores_no_nulos_dict.get(row['cod_persona'], row['sexo']) if pd.isnull(row['sexo']) else row['sexo'], axis=1)\n"
   ],
   "outputs": [],
   "execution_count": 1235
  },
  {
   "metadata": {
    "ExecuteTime": {
     "end_time": "2024-06-09T00:49:21.656007500Z",
     "start_time": "2024-06-09T00:49:21.623588900Z"
    }
   },
   "cell_type": "code",
   "source": [
    "# Crear un diccionario de mapeo para asignar números a cada género\n",
    "mapping_sex = {'V': 1, 'H': 0}\n",
    "\n",
    "# Aplicar el mapeo a la columna 'customer_sex'\n",
    "dataset['sexo'] = dataset['sexo'].map(mapping_sex)"
   ],
   "outputs": [],
   "execution_count": 1236
  },
  {
   "metadata": {
    "ExecuteTime": {
     "end_time": "2024-06-09T00:49:21.660515900Z",
     "start_time": "2024-06-09T00:49:21.644635800Z"
    }
   },
   "cell_type": "code",
   "source": "dataset['sexo'].value_counts()\n",
   "outputs": [
    {
     "data": {
      "text/plain": "sexo\n1    346889\n0    287793\nName: count, dtype: int64"
     },
     "execution_count": 1237,
     "metadata": {},
     "output_type": "execute_result"
    }
   ],
   "execution_count": 1237
  },
  {
   "metadata": {},
   "cell_type": "markdown",
   "source": [
    "### edad\n",
    "Customer’s\tage"
   ]
  },
  {
   "metadata": {
    "ExecuteTime": {
     "end_time": "2024-06-09T00:49:21.738944700Z",
     "start_time": "2024-06-09T00:49:21.671044900Z"
    }
   },
   "cell_type": "code",
   "source": "dataset['edad'].isnull().sum()",
   "outputs": [
    {
     "data": {
      "text/plain": "0"
     },
     "execution_count": 1238,
     "metadata": {},
     "output_type": "execute_result"
    }
   ],
   "execution_count": 1238
  },
  {
   "cell_type": "code",
   "execution_count": 1239,
   "outputs": [
    {
     "data": {
      "text/plain": "<Figure size 720x432 with 1 Axes>",
      "image/png": "[encoded data removed]"
     },
     "metadata": {
      "needs_background": "light"
     },
     "output_type": "display_data"
    }
   ],
   "source": [
    "dataset['edad'] = pd.to_numeric(dataset['edad'], errors='coerce')\n",
    "\n",
    "# Plottear la distribución de edades\n",
    "plt.figure(figsize=(10, 6))\n",
    "plt.hist(dataset['edad'].dropna(), bins=30, edgecolor='k', alpha=0.7)\n",
    "plt.title('Distribución de Edades')\n",
    "plt.xticks(range(0, 120, 5))\n",
    "plt.xlabel('Edad')\n",
    "plt.ylabel('Frecuencia')\n",
    "plt.grid(True)\n",
    "plt.show()"
   ],
   "metadata": {
    "collapsed": false,
    "ExecuteTime": {
     "end_time": "2024-06-09T00:49:22.120526100Z",
     "start_time": "2024-06-09T00:49:21.686065100Z"
    }
   }
  },
  {
   "cell_type": "markdown",
   "source": [
    "Se observa que la distribución es bastante uniforme sin un skewness claramente definido. Sin embargo, se destaca como entre los 20-25 años hay un pico de personas."
   ],
   "metadata": {
    "collapsed": false
   }
  },
  {
   "cell_type": "markdown",
   "source": [
    "### fecha1\n",
    "The\tdate\tin\twhich\tthe\tcustomer\tbecame\tas\tthe\tfirst\tholder\tof\ta\tcontract\tin\tthe\tbank"
   ],
   "metadata": {
    "collapsed": false
   }
  },
  {
   "cell_type": "code",
   "execution_count": 1240,
   "outputs": [
    {
     "data": {
      "text/plain": "56"
     },
     "execution_count": 1240,
     "metadata": {},
     "output_type": "execute_result"
    }
   ],
   "source": [
    "dataset['fecha1'].isnull().sum()"
   ],
   "metadata": {
    "collapsed": false,
    "ExecuteTime": {
     "end_time": "2024-06-09T00:49:22.199788600Z",
     "start_time": "2024-06-09T00:49:22.142591900Z"
    }
   }
  },
  {
   "cell_type": "markdown",
   "source": [
    "Se observa que hay 56 valores nuloes en varias columnas. Se buscan patrones e intentamos adoptar el mismo enfoque con ellas:"
   ],
   "metadata": {
    "collapsed": false
   }
  },
  {
   "cell_type": "code",
   "execution_count": 1241,
   "outputs": [
    {
     "name": "stdout",
     "output_type": "stream",
     "text": [
      "Unnamed: 0               False\n",
      "cod_persona              False\n",
      "mes                      False\n",
      "sexo                     False\n",
      "edad                      True\n",
      "fecha1                    True\n",
      "xti_empleado              True\n",
      "xti_nuevo_cliente         True\n",
      "num_antiguedad           False\n",
      "xti_rel                   True\n",
      "fec_ult_cli_1t           False\n",
      "xti_rel_1mes             False\n",
      "tip_rel_1mes             False\n",
      "indresi                   True\n",
      "indext                    True\n",
      "des_canal                False\n",
      "xti_extra                 True\n",
      "tip_dom                   True\n",
      "cod_provincia            False\n",
      "xti_actividad_cliente     True\n",
      "imp_renta                False\n",
      "id_segmento              False\n",
      "mean_engagement          False\n",
      "ind_prod1                False\n",
      "ind_prod2                False\n",
      "ind_prod3                False\n",
      "ind_prod4                False\n",
      "ind_prod5                False\n",
      "ind_prod6                False\n",
      "ind_prod7                False\n",
      "ind_prod8                False\n",
      "ind_prod9                False\n",
      "ind_prod10               False\n",
      "ind_prod11               False\n",
      "ind_prod12               False\n",
      "ind_prod13               False\n",
      "ind_prod14               False\n",
      "ind_prod15               False\n",
      "ind_prod16               False\n",
      "ind_prod17               False\n",
      "ind_prod18               False\n",
      "ind_prod19               False\n",
      "ind_prod20               False\n",
      "ind_prod21               False\n",
      "ind_prod22               False\n",
      "ind_prod23               False\n",
      "ind_prod24               False\n",
      "ind_prod25               False\n",
      "mes_mes                  False\n",
      "mes_año                  False\n",
      "pais_binario             False\n",
      "dtype: bool\n"
     ]
    }
   ],
   "source": [
    "print(dataset.isnull().sum()==56)"
   ],
   "metadata": {
    "collapsed": false,
    "ExecuteTime": {
     "end_time": "2024-06-09T00:49:22.358319Z",
     "start_time": "2024-06-09T00:49:22.153808500Z"
    }
   }
  },
  {
   "cell_type": "code",
   "execution_count": 1242,
   "outputs": [
    {
     "data": {
      "text/plain": "        Unnamed: 0  cod_persona        mes  sexo  edad fecha1 xti_empleado  \\\n1453          1471       532938 2015-01-28     1   NaN    NaN          NaN   \n2570          2604       421992 2015-01-28     0   NaN    NaN          NaN   \n5323          5421       672042 2015-01-28     0   NaN    NaN          NaN   \n7976          8123       256163 2015-01-28     0   NaN    NaN          NaN   \n8899          9085       289373 2015-01-28     1   NaN    NaN          NaN   \n9160          9358       300713 2015-01-28     1   NaN    NaN          NaN   \n10037        10262       210920 2015-01-28     0   NaN    NaN          NaN   \n10178        10408       205901 2015-01-28     0   NaN    NaN          NaN   \n10287        10523       183684 2015-01-28     0   NaN    NaN          NaN   \n11391        11674       216184 2015-01-28     0   NaN    NaN          NaN   \n12511        12810       372326 2015-01-28     1   NaN    NaN          NaN   \n17757        18157      1185286 2015-01-28     0   NaN    NaN          NaN   \n21209        21669      1500541 2015-01-28     1   NaN    NaN          NaN   \n22899        23400      1390588 2015-01-28     1   NaN    NaN          NaN   \n24455        24998       931306 2015-01-28     1   NaN    NaN          NaN   \n28599        29242      1097377 2015-01-28     1   NaN    NaN          NaN   \n30783        31466      1012056 2015-01-28     1   NaN    NaN          NaN   \n31006        31700      1012056 2015-02-28     1   NaN    NaN          NaN   \n32050        32761       931306 2015-02-28     1   NaN    NaN          NaN   \n36003        36795       672042 2015-02-28     0   NaN    NaN          NaN   \n38929        39803      1390588 2015-02-28     1   NaN    NaN          NaN   \n40498        41413      1500541 2015-02-28     1   NaN    NaN          NaN   \n42830        43775      1185286 2015-02-28     0   NaN    NaN          NaN   \n47789        48816       300713 2015-02-28     1   NaN    NaN          NaN   \n49501        50561       372326 2015-02-28     1   NaN    NaN          NaN   \n50296        51363       216184 2015-02-28     0   NaN    NaN          NaN   \n50459        51529       210920 2015-02-28     0   NaN    NaN          NaN   \n51501        52614       170635 2015-02-28     1   NaN    NaN          NaN   \n59305        60587       421992 2015-02-28     0   NaN    NaN          NaN   \n60545        61849       532938 2015-02-28     1   NaN    NaN          NaN   \n62584        63912      1012056 2015-03-28     1   NaN    NaN          NaN   \n62870        64206       931306 2015-03-28     1   NaN    NaN          NaN   \n67098        68514       672042 2015-03-28     0   NaN    NaN          NaN   \n69663        71145      1390588 2015-03-28     1   NaN    NaN          NaN   \n72277        73811      1500541 2015-03-28     1   NaN    NaN          NaN   \n78488        80117       300713 2015-03-28     1   NaN    NaN          NaN   \n81102        82775       372326 2015-03-28     1   NaN    NaN          NaN   \n81383        83060       210920 2015-03-28     0   NaN    NaN          NaN   \n82415        84130       170635 2015-03-28     1   NaN    NaN          NaN   \n86523        88326       532938 2015-03-28     1   NaN    NaN          NaN   \n90240        92113       421992 2015-03-28     0   NaN    NaN          NaN   \n93132        95043      1012056 2015-04-28     1   NaN    NaN          NaN   \n98136       100135       672042 2015-04-28     0   NaN    NaN          NaN   \n101072      103144      1390588 2015-04-28     1   NaN    NaN          NaN   \n109532      111734       300713 2015-04-28     1   NaN    NaN          NaN   \n113518      115788       170635 2015-04-28     1   NaN    NaN          NaN   \n117665      120037       532938 2015-04-28     1   NaN    NaN          NaN   \n121368      123802       421992 2015-04-28     0   NaN    NaN          NaN   \n126992      129486       421992 2015-05-28     0   NaN    NaN          NaN   \n130875      133431       532938 2015-05-28     1   NaN    NaN          NaN   \n134835      137477       170635 2015-05-28     1   NaN    NaN          NaN   \n150407      153317       672042 2015-05-28     0   NaN    NaN          NaN   \n155345      158336      1012056 2015-05-28     1   NaN    NaN          NaN   \n158323      161336       421992 2015-06-28     0   NaN    NaN          NaN   \n162097      165162       532938 2015-06-28     1   NaN    NaN          NaN   \n165637      168754       170635 2015-06-28     1   NaN    NaN          NaN   \n\n        xti_nuevo_cliente num_antiguedad  xti_rel  ... ind_prod19  ind_prod20  \\\n1453                  NaN             NA      NaN  ...          0           0   \n2570                  NaN             NA      NaN  ...          0           0   \n5323                  NaN             NA      NaN  ...          0           0   \n7976                  NaN             NA      NaN  ...          0           0   \n8899                  NaN             NA      NaN  ...          0           0   \n9160                  NaN             NA      NaN  ...          0           0   \n10037                 NaN             NA      NaN  ...          0           0   \n10178                 NaN             NA      NaN  ...          0           0   \n10287                 NaN             NA      NaN  ...          0           0   \n11391                 NaN             NA      NaN  ...          0           0   \n12511                 NaN             NA      NaN  ...          0           0   \n17757                 NaN             NA      NaN  ...          0           0   \n21209                 NaN             NA      NaN  ...          0           0   \n22899                 NaN             NA      NaN  ...          0           0   \n24455                 NaN             NA      NaN  ...          0           0   \n28599                 NaN             NA      NaN  ...          0           0   \n30783                 NaN             NA      NaN  ...          0           0   \n31006                 NaN             NA      NaN  ...          0           0   \n32050                 NaN             NA      NaN  ...          1           0   \n36003                 NaN             NA      NaN  ...          0           0   \n38929                 NaN             NA      NaN  ...          0           0   \n40498                 NaN             NA      NaN  ...          0           0   \n42830                 NaN             NA      NaN  ...          0           0   \n47789                 NaN             NA      NaN  ...          0           0   \n49501                 NaN             NA      NaN  ...          0           0   \n50296                 NaN             NA      NaN  ...          0           0   \n50459                 NaN             NA      NaN  ...          0           0   \n51501                 NaN             NA      NaN  ...          0           0   \n59305                 NaN             NA      NaN  ...          0           0   \n60545                 NaN             NA      NaN  ...          0           0   \n62584                 NaN             NA      NaN  ...          0           0   \n62870                 NaN             NA      NaN  ...          0           0   \n67098                 NaN             NA      NaN  ...          0           0   \n69663                 NaN             NA      NaN  ...          0           0   \n72277                 NaN             NA      NaN  ...          0           0   \n78488                 NaN             NA      NaN  ...          0           0   \n81102                 NaN             NA      NaN  ...          0           0   \n81383                 NaN             NA      NaN  ...          0           0   \n82415                 NaN             NA      NaN  ...          0           0   \n86523                 NaN             NA      NaN  ...          0           0   \n90240                 NaN             NA      NaN  ...          0           0   \n93132                 NaN             NA      NaN  ...          0           0   \n98136                 NaN             NA      NaN  ...          0           0   \n101072                NaN             NA      NaN  ...          0           0   \n109532                NaN             NA      NaN  ...          0           0   \n113518                NaN             NA      NaN  ...          0           0   \n117665                NaN             NA      NaN  ...          0           0   \n121368                NaN             NA      NaN  ...          0           0   \n126992                NaN             NA      NaN  ...          0           0   \n130875                NaN             NA      NaN  ...          0           0   \n134835                NaN             NA      NaN  ...          0           0   \n150407                NaN             NA      NaN  ...          0           0   \n155345                NaN             NA      NaN  ...          0           0   \n158323                NaN             NA      NaN  ...          0           0   \n162097                NaN             NA      NaN  ...          0           0   \n165637                NaN             NA      NaN  ...          0           0   \n\n       ind_prod21 ind_prod22 ind_prod23 ind_prod24 ind_prod25  mes_mes  \\\n1453            0        NaN        NaN          0          0        1   \n2570            0        NaN        NaN          0          0        1   \n5323            0        0.0        0.0          0          0        1   \n7976            0        NaN        NaN          0          0        1   \n8899            0        NaN        NaN          0          0        1   \n9160            0        0.0        0.0          0          0        1   \n10037           0        0.0        0.0          0          0        1   \n10178           0        NaN        NaN          0          0        1   \n10287           0        NaN        NaN          0          0        1   \n11391           0        0.0        0.0          0          0        1   \n12511           0        0.0        0.0          0          0        1   \n17757           0        0.0        0.0          0          0        1   \n21209           0        0.0        0.0          1          0        1   \n22899           0        0.0        0.0          0          0        1   \n24455           0        0.0        0.0          0          0        1   \n28599           0        0.0        0.0          0          0        1   \n30783           0        0.0        0.0          0          0        1   \n31006           0        0.0        0.0          0          0        2   \n32050           0        0.0        0.0          0          1        2   \n36003           0        0.0        0.0          0          0        2   \n38929           0        0.0        0.0          0          0        2   \n40498           0        0.0        0.0          1          0        2   \n42830           0        NaN        NaN          0          0        2   \n47789           0        0.0        0.0          0          0        2   \n49501           0        0.0        0.0          0          0        2   \n50296           0        NaN        NaN          0          0        2   \n50459           0        0.0        0.0          0          0        2   \n51501           0        0.0        0.0          0          0        2   \n59305           0        NaN        NaN          0          0        2   \n60545           0        NaN        NaN          0          0        2   \n62584           0        0.0        0.0          0          0        3   \n62870           0        NaN        NaN          0          0        3   \n67098           0        0.0        0.0          0          0        3   \n69663           0        0.0        0.0          0          0        3   \n72277           0        NaN        NaN          0          0        3   \n78488           0        0.0        0.0          0          0        3   \n81102           0        NaN        NaN          0          0        3   \n81383           0        NaN        NaN          0          0        3   \n82415           0        0.0        0.0          0          0        3   \n86523           0        NaN        NaN          0          0        3   \n90240           0        NaN        NaN          0          0        3   \n93132           0        NaN        NaN          0          0        4   \n98136           0        0.0        0.0          0          0        4   \n101072          0        NaN        NaN          0          0        4   \n109532          0        NaN        NaN          0          0        4   \n113518          0        0.0        0.0          0          0        4   \n117665          0        NaN        NaN          0          0        4   \n121368          0        NaN        NaN          0          0        4   \n126992          0        NaN        NaN          0          0        5   \n130875          0        NaN        NaN          0          0        5   \n134835          0        0.0        0.0          0          0        5   \n150407          0        NaN        NaN          0          0        5   \n155345          0        NaN        NaN          0          0        5   \n158323          0        NaN        NaN          0          0        6   \n162097          0        NaN        NaN          0          0        6   \n165637          0        NaN        NaN          0          0        6   \n\n        mes_año  pais_binario  \n1453       2015             0  \n2570       2015             0  \n5323       2015             0  \n7976       2015             0  \n8899       2015             0  \n9160       2015             0  \n10037      2015             0  \n10178      2015             0  \n10287      2015             0  \n11391      2015             0  \n12511      2015             0  \n17757      2015             0  \n21209      2015             0  \n22899      2015             0  \n24455      2015             0  \n28599      2015             0  \n30783      2015             0  \n31006      2015             0  \n32050      2015             0  \n36003      2015             0  \n38929      2015             0  \n40498      2015             0  \n42830      2015             0  \n47789      2015             0  \n49501      2015             0  \n50296      2015             0  \n50459      2015             0  \n51501      2015             0  \n59305      2015             0  \n60545      2015             0  \n62584      2015             0  \n62870      2015             0  \n67098      2015             0  \n69663      2015             0  \n72277      2015             0  \n78488      2015             0  \n81102      2015             0  \n81383      2015             0  \n82415      2015             0  \n86523      2015             0  \n90240      2015             0  \n93132      2015             0  \n98136      2015             0  \n101072     2015             0  \n109532     2015             0  \n113518     2015             0  \n117665     2015             0  \n121368     2015             0  \n126992     2015             0  \n130875     2015             0  \n134835     2015             0  \n150407     2015             0  \n155345     2015             0  \n158323     2015             0  \n162097     2015             0  \n165637     2015             0  \n\n[56 rows x 51 columns]",
      "text/html": "<div>\n<style scoped>\n    .dataframe tbody tr th:only-of-type {\n        vertical-align: middle;\n    }\n\n    .dataframe tbody tr th {\n        vertical-align: top;\n    }\n\n    .dataframe thead th {\n        text-align: right;\n    }\n</style>\n<table border=\"1\" class=\"dataframe\">\n  <thead>\n    <tr style=\"text-align: right;\">\n      <th></th>\n      <th>Unnamed: 0</th>\n      <th>cod_persona</th>\n      <th>mes</th>\n      <th>sexo</th>\n      <th>edad</th>\n      <th>fecha1</th>\n      <th>xti_empleado</th>\n      <th>xti_nuevo_cliente</th>\n      <th>num_antiguedad</th>\n      <th>xti_rel</th>\n      <th>...</th>\n      <th>ind_prod19</th>\n      <th>ind_prod20</th>\n      <th>ind_prod21</th>\n      <th>ind_prod22</th>\n      <th>ind_prod23</th>\n      <th>ind_prod24</th>\n      <th>ind_prod25</th>\n      <th>mes_mes</th>\n      <th>mes_año</th>\n      <th>pais_binario</th>\n    </tr>\n  </thead>\n  <tbody>\n    <tr>\n      <th>1453</th>\n      <td>1471</td>\n      <td>532938</td>\n      <td>2015-01-28</td>\n      <td>1</td>\n      <td>NaN</td>\n      <td>NaN</td>\n      <td>NaN</td>\n      <td>NaN</td>\n      <td>NA</td>\n      <td>NaN</td>\n      <td>...</td>\n      <td>0</td>\n      <td>0</td>\n      <td>0</td>\n      <td>NaN</td>\n      <td>NaN</td>\n      <td>0</td>\n      <td>0</td>\n      <td>1</td>\n      <td>2015</td>\n      <td>0</td>\n    </tr>\n    <tr>\n      <th>2570</th>\n      <td>2604</td>\n      <td>421992</td>\n      <td>2015-01-28</td>\n      <td>0</td>\n      <td>NaN</td>\n      <td>NaN</td>\n      <td>NaN</td>\n      <td>NaN</td>\n      <td>NA</td>\n      <td>NaN</td>\n      <td>...</td>\n      <td>0</td>\n      <td>0</td>\n      <td>0</td>\n      <td>NaN</td>\n      <td>NaN</td>\n      <td>0</td>\n      <td>0</td>\n      <td>1</td>\n      <td>2015</td>\n      <td>0</td>\n    </tr>\n    <tr>\n      <th>5323</th>\n      <td>5421</td>\n      <td>672042</td>\n      <td>2015-01-28</td>\n      <td>0</td>\n      <td>NaN</td>\n      <td>NaN</td>\n      <td>NaN</td>\n      <td>NaN</td>\n      <td>NA</td>\n      <td>NaN</td>\n      <td>...</td>\n      <td>0</td>\n      <td>0</td>\n      <td>0</td>\n      <td>0.0</td>\n      <td>0.0</td>\n      <td>0</td>\n      <td>0</td>\n      <td>1</td>\n      <td>2015</td>\n      <td>0</td>\n    </tr>\n    <tr>\n      <th>7976</th>\n      <td>8123</td>\n      <td>256163</td>\n      <td>2015-01-28</td>\n      <td>0</td>\n      <td>NaN</td>\n      <td>NaN</td>\n      <td>NaN</td>\n      <td>NaN</td>\n      <td>NA</td>\n      <td>NaN</td>\n      <td>...</td>\n      <td>0</td>\n      <td>0</td>\n      <td>0</td>\n      <td>NaN</td>\n      <td>NaN</td>\n      <td>0</td>\n      <td>0</td>\n      <td>1</td>\n      <td>2015</td>\n      <td>0</td>\n    </tr>\n    <tr>\n      <th>8899</th>\n      <td>9085</td>\n      <td>289373</td>\n      <td>2015-01-28</td>\n      <td>1</td>\n      <td>NaN</td>\n      <td>NaN</td>\n      <td>NaN</td>\n      <td>NaN</td>\n      <td>NA</td>\n      <td>NaN</td>\n      <td>...</td>\n      <td>0</td>\n      <td>0</td>\n      <td>0</td>\n      <td>NaN</td>\n      <td>NaN</td>\n      <td>0</td>\n      <td>0</td>\n      <td>1</td>\n      <td>2015</td>\n      <td>0</td>\n    </tr>\n    <tr>\n      <th>9160</th>\n      <td>9358</td>\n      <td>300713</td>\n      <td>2015-01-28</td>\n      <td>1</td>\n      <td>NaN</td>\n      <td>NaN</td>\n      <td>NaN</td>\n      <td>NaN</td>\n      <td>NA</td>\n      <td>NaN</td>\n      <td>...</td>\n      <td>0</td>\n      <td>0</td>\n      <td>0</td>\n      <td>0.0</td>\n      <td>0.0</td>\n      <td>0</td>\n      <td>0</td>\n      <td>1</td>\n      <td>2015</td>\n      <td>0</td>\n    </tr>\n    <tr>\n      <th>10037</th>\n      <td>10262</td>\n      <td>210920</td>\n      <td>2015-01-28</td>\n      <td>0</td>\n      <td>NaN</td>\n      <td>NaN</td>\n      <td>NaN</td>\n      <td>NaN</td>\n      <td>NA</td>\n      <td>NaN</td>\n      <td>...</td>\n      <td>0</td>\n      <td>0</td>\n      <td>0</td>\n      <td>0.0</td>\n      <td>0.0</td>\n      <td>0</td>\n      <td>0</td>\n      <td>1</td>\n      <td>2015</td>\n      <td>0</td>\n    </tr>\n    <tr>\n      <th>10178</th>\n      <td>10408</td>\n      <td>205901</td>\n      <td>2015-01-28</td>\n      <td>0</td>\n      <td>NaN</td>\n      <td>NaN</td>\n      <td>NaN</td>\n      <td>NaN</td>\n      <td>NA</td>\n      <td>NaN</td>\n      <td>...</td>\n      <td>0</td>\n      <td>0</td>\n      <td>0</td>\n      <td>NaN</td>\n      <td>NaN</td>\n      <td>0</td>\n      <td>0</td>\n      <td>1</td>\n      <td>2015</td>\n      <td>0</td>\n    </tr>\n    <tr>\n      <th>10287</th>\n      <td>10523</td>\n      <td>183684</td>\n      <td>2015-01-28</td>\n      <td>0</td>\n      <td>NaN</td>\n      <td>NaN</td>\n      <td>NaN</td>\n      <td>NaN</td>\n      <td>NA</td>\n      <td>NaN</td>\n      <td>...</td>\n      <td>0</td>\n      <td>0</td>\n      <td>0</td>\n      <td>NaN</td>\n      <td>NaN</td>\n      <td>0</td>\n      <td>0</td>\n      <td>1</td>\n      <td>2015</td>\n      <td>0</td>\n    </tr>\n    <tr>\n      <th>11391</th>\n      <td>11674</td>\n      <td>216184</td>\n      <td>2015-01-28</td>\n      <td>0</td>\n      <td>NaN</td>\n      <td>NaN</td>\n      <td>NaN</td>\n      <td>NaN</td>\n      <td>NA</td>\n      <td>NaN</td>\n      <td>...</td>\n      <td>0</td>\n      <td>0</td>\n      <td>0</td>\n      <td>0.0</td>\n      <td>0.0</td>\n      <td>0</td>\n      <td>0</td>\n      <td>1</td>\n      <td>2015</td>\n      <td>0</td>\n    </tr>\n    <tr>\n      <th>12511</th>\n      <td>12810</td>\n      <td>372326</td>\n      <td>2015-01-28</td>\n      <td>1</td>\n      <td>NaN</td>\n      <td>NaN</td>\n      <td>NaN</td>\n      <td>NaN</td>\n      <td>NA</td>\n      <td>NaN</td>\n      <td>...</td>\n      <td>0</td>\n      <td>0</td>\n      <td>0</td>\n      <td>0.0</td>\n      <td>0.0</td>\n      <td>0</td>\n      <td>0</td>\n      <td>1</td>\n      <td>2015</td>\n      <td>0</td>\n    </tr>\n    <tr>\n      <th>17757</th>\n      <td>18157</td>\n      <td>1185286</td>\n      <td>2015-01-28</td>\n      <td>0</td>\n      <td>NaN</td>\n      <td>NaN</td>\n      <td>NaN</td>\n      <td>NaN</td>\n      <td>NA</td>\n      <td>NaN</td>\n      <td>...</td>\n      <td>0</td>\n      <td>0</td>\n      <td>0</td>\n      <td>0.0</td>\n      <td>0.0</td>\n      <td>0</td>\n      <td>0</td>\n      <td>1</td>\n      <td>2015</td>\n      <td>0</td>\n    </tr>\n    <tr>\n      <th>21209</th>\n      <td>21669</td>\n      <td>1500541</td>\n      <td>2015-01-28</td>\n      <td>1</td>\n      <td>NaN</td>\n      <td>NaN</td>\n      <td>NaN</td>\n      <td>NaN</td>\n      <td>NA</td>\n      <td>NaN</td>\n      <td>...</td>\n      <td>0</td>\n      <td>0</td>\n      <td>0</td>\n      <td>0.0</td>\n      <td>0.0</td>\n      <td>1</td>\n      <td>0</td>\n      <td>1</td>\n      <td>2015</td>\n      <td>0</td>\n    </tr>\n    <tr>\n      <th>22899</th>\n      <td>23400</td>\n      <td>1390588</td>\n      <td>2015-01-28</td>\n      <td>1</td>\n      <td>NaN</td>\n      <td>NaN</td>\n      <td>NaN</td>\n      <td>NaN</td>\n      <td>NA</td>\n      <td>NaN</td>\n      <td>...</td>\n      <td>0</td>\n      <td>0</td>\n      <td>0</td>\n      <td>0.0</td>\n      <td>0.0</td>\n      <td>0</td>\n      <td>0</td>\n      <td>1</td>\n      <td>2015</td>\n      <td>0</td>\n    </tr>\n    <tr>\n      <th>24455</th>\n      <td>24998</td>\n      <td>931306</td>\n      <td>2015-01-28</td>\n      <td>1</td>\n      <td>NaN</td>\n      <td>NaN</td>\n      <td>NaN</td>\n      <td>NaN</td>\n      <td>NA</td>\n      <td>NaN</td>\n      <td>...</td>\n      <td>0</td>\n      <td>0</td>\n      <td>0</td>\n      <td>0.0</td>\n      <td>0.0</td>\n      <td>0</td>\n      <td>0</td>\n      <td>1</td>\n      <td>2015</td>\n      <td>0</td>\n    </tr>\n    <tr>\n      <th>28599</th>\n      <td>29242</td>\n      <td>1097377</td>\n      <td>2015-01-28</td>\n      <td>1</td>\n      <td>NaN</td>\n      <td>NaN</td>\n      <td>NaN</td>\n      <td>NaN</td>\n      <td>NA</td>\n      <td>NaN</td>\n      <td>...</td>\n      <td>0</td>\n      <td>0</td>\n      <td>0</td>\n      <td>0.0</td>\n      <td>0.0</td>\n      <td>0</td>\n      <td>0</td>\n      <td>1</td>\n      <td>2015</td>\n      <td>0</td>\n    </tr>\n    <tr>\n      <th>30783</th>\n      <td>31466</td>\n      <td>1012056</td>\n      <td>2015-01-28</td>\n      <td>1</td>\n      <td>NaN</td>\n      <td>NaN</td>\n      <td>NaN</td>\n      <td>NaN</td>\n      <td>NA</td>\n      <td>NaN</td>\n      <td>...</td>\n      <td>0</td>\n      <td>0</td>\n      <td>0</td>\n      <td>0.0</td>\n      <td>0.0</td>\n      <td>0</td>\n      <td>0</td>\n      <td>1</td>\n      <td>2015</td>\n      <td>0</td>\n    </tr>\n    <tr>\n      <th>31006</th>\n      <td>31700</td>\n      <td>1012056</td>\n      <td>2015-02-28</td>\n      <td>1</td>\n      <td>NaN</td>\n      <td>NaN</td>\n      <td>NaN</td>\n      <td>NaN</td>\n      <td>NA</td>\n      <td>NaN</td>\n      <td>...</td>\n      <td>0</td>\n      <td>0</td>\n      <td>0</td>\n      <td>0.0</td>\n      <td>0.0</td>\n      <td>0</td>\n      <td>0</td>\n      <td>2</td>\n      <td>2015</td>\n      <td>0</td>\n    </tr>\n    <tr>\n      <th>32050</th>\n      <td>32761</td>\n      <td>931306</td>\n      <td>2015-02-28</td>\n      <td>1</td>\n      <td>NaN</td>\n      <td>NaN</td>\n      <td>NaN</td>\n      <td>NaN</td>\n      <td>NA</td>\n      <td>NaN</td>\n      <td>...</td>\n      <td>1</td>\n      <td>0</td>\n      <td>0</td>\n      <td>0.0</td>\n      <td>0.0</td>\n      <td>0</td>\n      <td>1</td>\n      <td>2</td>\n      <td>2015</td>\n      <td>0</td>\n    </tr>\n    <tr>\n      <th>36003</th>\n      <td>36795</td>\n      <td>672042</td>\n      <td>2015-02-28</td>\n      <td>0</td>\n      <td>NaN</td>\n      <td>NaN</td>\n      <td>NaN</td>\n      <td>NaN</td>\n      <td>NA</td>\n      <td>NaN</td>\n      <td>...</td>\n      <td>0</td>\n      <td>0</td>\n      <td>0</td>\n      <td>0.0</td>\n      <td>0.0</td>\n      <td>0</td>\n      <td>0</td>\n      <td>2</td>\n      <td>2015</td>\n      <td>0</td>\n    </tr>\n    <tr>\n      <th>38929</th>\n      <td>39803</td>\n      <td>1390588</td>\n      <td>2015-02-28</td>\n      <td>1</td>\n      <td>NaN</td>\n      <td>NaN</td>\n      <td>NaN</td>\n      <td>NaN</td>\n      <td>NA</td>\n      <td>NaN</td>\n      <td>...</td>\n      <td>0</td>\n      <td>0</td>\n      <td>0</td>\n      <td>0.0</td>\n      <td>0.0</td>\n      <td>0</td>\n      <td>0</td>\n      <td>2</td>\n      <td>2015</td>\n      <td>0</td>\n    </tr>\n    <tr>\n      <th>40498</th>\n      <td>41413</td>\n      <td>1500541</td>\n      <td>2015-02-28</td>\n      <td>1</td>\n      <td>NaN</td>\n      <td>NaN</td>\n      <td>NaN</td>\n      <td>NaN</td>\n      <td>NA</td>\n      <td>NaN</td>\n      <td>...</td>\n      <td>0</td>\n      <td>0</td>\n      <td>0</td>\n      <td>0.0</td>\n      <td>0.0</td>\n      <td>1</td>\n      <td>0</td>\n      <td>2</td>\n      <td>2015</td>\n      <td>0</td>\n    </tr>\n    <tr>\n      <th>42830</th>\n      <td>43775</td>\n      <td>1185286</td>\n      <td>2015-02-28</td>\n      <td>0</td>\n      <td>NaN</td>\n      <td>NaN</td>\n      <td>NaN</td>\n      <td>NaN</td>\n      <td>NA</td>\n      <td>NaN</td>\n      <td>...</td>\n      <td>0</td>\n      <td>0</td>\n      <td>0</td>\n      <td>NaN</td>\n      <td>NaN</td>\n      <td>0</td>\n      <td>0</td>\n      <td>2</td>\n      <td>2015</td>\n      <td>0</td>\n    </tr>\n    <tr>\n      <th>47789</th>\n      <td>48816</td>\n      <td>300713</td>\n      <td>2015-02-28</td>\n      <td>1</td>\n      <td>NaN</td>\n      <td>NaN</td>\n      <td>NaN</td>\n      <td>NaN</td>\n      <td>NA</td>\n      <td>NaN</td>\n      <td>...</td>\n      <td>0</td>\n      <td>0</td>\n      <td>0</td>\n      <td>0.0</td>\n      <td>0.0</td>\n      <td>0</td>\n      <td>0</td>\n      <td>2</td>\n      <td>2015</td>\n      <td>0</td>\n    </tr>\n    <tr>\n      <th>49501</th>\n      <td>50561</td>\n      <td>372326</td>\n      <td>2015-02-28</td>\n      <td>1</td>\n      <td>NaN</td>\n      <td>NaN</td>\n      <td>NaN</td>\n      <td>NaN</td>\n      <td>NA</td>\n      <td>NaN</td>\n      <td>...</td>\n      <td>0</td>\n      <td>0</td>\n      <td>0</td>\n      <td>0.0</td>\n      <td>0.0</td>\n      <td>0</td>\n      <td>0</td>\n      <td>2</td>\n      <td>2015</td>\n      <td>0</td>\n    </tr>\n    <tr>\n      <th>50296</th>\n      <td>51363</td>\n      <td>216184</td>\n      <td>2015-02-28</td>\n      <td>0</td>\n      <td>NaN</td>\n      <td>NaN</td>\n      <td>NaN</td>\n      <td>NaN</td>\n      <td>NA</td>\n      <td>NaN</td>\n      <td>...</td>\n      <td>0</td>\n      <td>0</td>\n      <td>0</td>\n      <td>NaN</td>\n      <td>NaN</td>\n      <td>0</td>\n      <td>0</td>\n      <td>2</td>\n      <td>2015</td>\n      <td>0</td>\n    </tr>\n    <tr>\n      <th>50459</th>\n      <td>51529</td>\n      <td>210920</td>\n      <td>2015-02-28</td>\n      <td>0</td>\n      <td>NaN</td>\n      <td>NaN</td>\n      <td>NaN</td>\n      <td>NaN</td>\n      <td>NA</td>\n      <td>NaN</td>\n      <td>...</td>\n      <td>0</td>\n      <td>0</td>\n      <td>0</td>\n      <td>0.0</td>\n      <td>0.0</td>\n      <td>0</td>\n      <td>0</td>\n      <td>2</td>\n      <td>2015</td>\n      <td>0</td>\n    </tr>\n    <tr>\n      <th>51501</th>\n      <td>52614</td>\n      <td>170635</td>\n      <td>2015-02-28</td>\n      <td>1</td>\n      <td>NaN</td>\n      <td>NaN</td>\n      <td>NaN</td>\n      <td>NaN</td>\n      <td>NA</td>\n      <td>NaN</td>\n      <td>...</td>\n      <td>0</td>\n      <td>0</td>\n      <td>0</td>\n      <td>0.0</td>\n      <td>0.0</td>\n      <td>0</td>\n      <td>0</td>\n      <td>2</td>\n      <td>2015</td>\n      <td>0</td>\n    </tr>\n    <tr>\n      <th>59305</th>\n      <td>60587</td>\n      <td>421992</td>\n      <td>2015-02-28</td>\n      <td>0</td>\n      <td>NaN</td>\n      <td>NaN</td>\n      <td>NaN</td>\n      <td>NaN</td>\n      <td>NA</td>\n      <td>NaN</td>\n      <td>...</td>\n      <td>0</td>\n      <td>0</td>\n      <td>0</td>\n      <td>NaN</td>\n      <td>NaN</td>\n      <td>0</td>\n      <td>0</td>\n      <td>2</td>\n      <td>2015</td>\n      <td>0</td>\n    </tr>\n    <tr>\n      <th>60545</th>\n      <td>61849</td>\n      <td>532938</td>\n      <td>2015-02-28</td>\n      <td>1</td>\n      <td>NaN</td>\n      <td>NaN</td>\n      <td>NaN</td>\n      <td>NaN</td>\n      <td>NA</td>\n      <td>NaN</td>\n      <td>...</td>\n      <td>0</td>\n      <td>0</td>\n      <td>0</td>\n      <td>NaN</td>\n      <td>NaN</td>\n      <td>0</td>\n      <td>0</td>\n      <td>2</td>\n      <td>2015</td>\n      <td>0</td>\n    </tr>\n    <tr>\n      <th>62584</th>\n      <td>63912</td>\n      <td>1012056</td>\n      <td>2015-03-28</td>\n      <td>1</td>\n      <td>NaN</td>\n      <td>NaN</td>\n      <td>NaN</td>\n      <td>NaN</td>\n      <td>NA</td>\n      <td>NaN</td>\n      <td>...</td>\n      <td>0</td>\n      <td>0</td>\n      <td>0</td>\n      <td>0.0</td>\n      <td>0.0</td>\n      <td>0</td>\n      <td>0</td>\n      <td>3</td>\n      <td>2015</td>\n      <td>0</td>\n    </tr>\n    <tr>\n      <th>62870</th>\n      <td>64206</td>\n      <td>931306</td>\n      <td>2015-03-28</td>\n      <td>1</td>\n      <td>NaN</td>\n      <td>NaN</td>\n      <td>NaN</td>\n      <td>NaN</td>\n      <td>NA</td>\n      <td>NaN</td>\n      <td>...</td>\n      <td>0</td>\n      <td>0</td>\n      <td>0</td>\n      <td>NaN</td>\n      <td>NaN</td>\n      <td>0</td>\n      <td>0</td>\n      <td>3</td>\n      <td>2015</td>\n      <td>0</td>\n    </tr>\n    <tr>\n      <th>67098</th>\n      <td>68514</td>\n      <td>672042</td>\n      <td>2015-03-28</td>\n      <td>0</td>\n      <td>NaN</td>\n      <td>NaN</td>\n      <td>NaN</td>\n      <td>NaN</td>\n      <td>NA</td>\n      <td>NaN</td>\n      <td>...</td>\n      <td>0</td>\n      <td>0</td>\n      <td>0</td>\n      <td>0.0</td>\n      <td>0.0</td>\n      <td>0</td>\n      <td>0</td>\n      <td>3</td>\n      <td>2015</td>\n      <td>0</td>\n    </tr>\n    <tr>\n      <th>69663</th>\n      <td>71145</td>\n      <td>1390588</td>\n      <td>2015-03-28</td>\n      <td>1</td>\n      <td>NaN</td>\n      <td>NaN</td>\n      <td>NaN</td>\n      <td>NaN</td>\n      <td>NA</td>\n      <td>NaN</td>\n      <td>...</td>\n      <td>0</td>\n      <td>0</td>\n      <td>0</td>\n      <td>0.0</td>\n      <td>0.0</td>\n      <td>0</td>\n      <td>0</td>\n      <td>3</td>\n      <td>2015</td>\n      <td>0</td>\n    </tr>\n    <tr>\n      <th>72277</th>\n      <td>73811</td>\n      <td>1500541</td>\n      <td>2015-03-28</td>\n      <td>1</td>\n      <td>NaN</td>\n      <td>NaN</td>\n      <td>NaN</td>\n      <td>NaN</td>\n      <td>NA</td>\n      <td>NaN</td>\n      <td>...</td>\n      <td>0</td>\n      <td>0</td>\n      <td>0</td>\n      <td>NaN</td>\n      <td>NaN</td>\n      <td>0</td>\n      <td>0</td>\n      <td>3</td>\n      <td>2015</td>\n      <td>0</td>\n    </tr>\n    <tr>\n      <th>78488</th>\n      <td>80117</td>\n      <td>300713</td>\n      <td>2015-03-28</td>\n      <td>1</td>\n      <td>NaN</td>\n      <td>NaN</td>\n      <td>NaN</td>\n      <td>NaN</td>\n      <td>NA</td>\n      <td>NaN</td>\n      <td>...</td>\n      <td>0</td>\n      <td>0</td>\n      <td>0</td>\n      <td>0.0</td>\n      <td>0.0</td>\n      <td>0</td>\n      <td>0</td>\n      <td>3</td>\n      <td>2015</td>\n      <td>0</td>\n    </tr>\n    <tr>\n      <th>81102</th>\n      <td>82775</td>\n      <td>372326</td>\n      <td>2015-03-28</td>\n      <td>1</td>\n      <td>NaN</td>\n      <td>NaN</td>\n      <td>NaN</td>\n      <td>NaN</td>\n      <td>NA</td>\n      <td>NaN</td>\n      <td>...</td>\n      <td>0</td>\n      <td>0</td>\n      <td>0</td>\n      <td>NaN</td>\n      <td>NaN</td>\n      <td>0</td>\n      <td>0</td>\n      <td>3</td>\n      <td>2015</td>\n      <td>0</td>\n    </tr>\n    <tr>\n      <th>81383</th>\n      <td>83060</td>\n      <td>210920</td>\n      <td>2015-03-28</td>\n      <td>0</td>\n      <td>NaN</td>\n      <td>NaN</td>\n      <td>NaN</td>\n      <td>NaN</td>\n      <td>NA</td>\n      <td>NaN</td>\n      <td>...</td>\n      <td>0</td>\n      <td>0</td>\n      <td>0</td>\n      <td>NaN</td>\n      <td>NaN</td>\n      <td>0</td>\n      <td>0</td>\n      <td>3</td>\n      <td>2015</td>\n      <td>0</td>\n    </tr>\n    <tr>\n      <th>82415</th>\n      <td>84130</td>\n      <td>170635</td>\n      <td>2015-03-28</td>\n      <td>1</td>\n      <td>NaN</td>\n      <td>NaN</td>\n      <td>NaN</td>\n      <td>NaN</td>\n      <td>NA</td>\n      <td>NaN</td>\n      <td>...</td>\n      <td>0</td>\n      <td>0</td>\n      <td>0</td>\n      <td>0.0</td>\n      <td>0.0</td>\n      <td>0</td>\n      <td>0</td>\n      <td>3</td>\n      <td>2015</td>\n      <td>0</td>\n    </tr>\n    <tr>\n      <th>86523</th>\n      <td>88326</td>\n      <td>532938</td>\n      <td>2015-03-28</td>\n      <td>1</td>\n      <td>NaN</td>\n      <td>NaN</td>\n      <td>NaN</td>\n      <td>NaN</td>\n      <td>NA</td>\n      <td>NaN</td>\n      <td>...</td>\n      <td>0</td>\n      <td>0</td>\n      <td>0</td>\n      <td>NaN</td>\n      <td>NaN</td>\n      <td>0</td>\n      <td>0</td>\n      <td>3</td>\n      <td>2015</td>\n      <td>0</td>\n    </tr>\n    <tr>\n      <th>90240</th>\n      <td>92113</td>\n      <td>421992</td>\n      <td>2015-03-28</td>\n      <td>0</td>\n      <td>NaN</td>\n      <td>NaN</td>\n      <td>NaN</td>\n      <td>NaN</td>\n      <td>NA</td>\n      <td>NaN</td>\n      <td>...</td>\n      <td>0</td>\n      <td>0</td>\n      <td>0</td>\n      <td>NaN</td>\n      <td>NaN</td>\n      <td>0</td>\n      <td>0</td>\n      <td>3</td>\n      <td>2015</td>\n      <td>0</td>\n    </tr>\n    <tr>\n      <th>93132</th>\n      <td>95043</td>\n      <td>1012056</td>\n      <td>2015-04-28</td>\n      <td>1</td>\n      <td>NaN</td>\n      <td>NaN</td>\n      <td>NaN</td>\n      <td>NaN</td>\n      <td>NA</td>\n      <td>NaN</td>\n      <td>...</td>\n      <td>0</td>\n      <td>0</td>\n      <td>0</td>\n      <td>NaN</td>\n      <td>NaN</td>\n      <td>0</td>\n      <td>0</td>\n      <td>4</td>\n      <td>2015</td>\n      <td>0</td>\n    </tr>\n    <tr>\n      <th>98136</th>\n      <td>100135</td>\n      <td>672042</td>\n      <td>2015-04-28</td>\n      <td>0</td>\n      <td>NaN</td>\n      <td>NaN</td>\n      <td>NaN</td>\n      <td>NaN</td>\n      <td>NA</td>\n      <td>NaN</td>\n      <td>...</td>\n      <td>0</td>\n      <td>0</td>\n      <td>0</td>\n      <td>0.0</td>\n      <td>0.0</td>\n      <td>0</td>\n      <td>0</td>\n      <td>4</td>\n      <td>2015</td>\n      <td>0</td>\n    </tr>\n    <tr>\n      <th>101072</th>\n      <td>103144</td>\n      <td>1390588</td>\n      <td>2015-04-28</td>\n      <td>1</td>\n      <td>NaN</td>\n      <td>NaN</td>\n      <td>NaN</td>\n      <td>NaN</td>\n      <td>NA</td>\n      <td>NaN</td>\n      <td>...</td>\n      <td>0</td>\n      <td>0</td>\n      <td>0</td>\n      <td>NaN</td>\n      <td>NaN</td>\n      <td>0</td>\n      <td>0</td>\n      <td>4</td>\n      <td>2015</td>\n      <td>0</td>\n    </tr>\n    <tr>\n      <th>109532</th>\n      <td>111734</td>\n      <td>300713</td>\n      <td>2015-04-28</td>\n      <td>1</td>\n      <td>NaN</td>\n      <td>NaN</td>\n      <td>NaN</td>\n      <td>NaN</td>\n      <td>NA</td>\n      <td>NaN</td>\n      <td>...</td>\n      <td>0</td>\n      <td>0</td>\n      <td>0</td>\n      <td>NaN</td>\n      <td>NaN</td>\n      <td>0</td>\n      <td>0</td>\n      <td>4</td>\n      <td>2015</td>\n      <td>0</td>\n    </tr>\n    <tr>\n      <th>113518</th>\n      <td>115788</td>\n      <td>170635</td>\n      <td>2015-04-28</td>\n      <td>1</td>\n      <td>NaN</td>\n      <td>NaN</td>\n      <td>NaN</td>\n      <td>NaN</td>\n      <td>NA</td>\n      <td>NaN</td>\n      <td>...</td>\n      <td>0</td>\n      <td>0</td>\n      <td>0</td>\n      <td>0.0</td>\n      <td>0.0</td>\n      <td>0</td>\n      <td>0</td>\n      <td>4</td>\n      <td>2015</td>\n      <td>0</td>\n    </tr>\n    <tr>\n      <th>117665</th>\n      <td>120037</td>\n      <td>532938</td>\n      <td>2015-04-28</td>\n      <td>1</td>\n      <td>NaN</td>\n      <td>NaN</td>\n      <td>NaN</td>\n      <td>NaN</td>\n      <td>NA</td>\n      <td>NaN</td>\n      <td>...</td>\n      <td>0</td>\n      <td>0</td>\n      <td>0</td>\n      <td>NaN</td>\n      <td>NaN</td>\n      <td>0</td>\n      <td>0</td>\n      <td>4</td>\n      <td>2015</td>\n      <td>0</td>\n    </tr>\n    <tr>\n      <th>121368</th>\n      <td>123802</td>\n      <td>421992</td>\n      <td>2015-04-28</td>\n      <td>0</td>\n      <td>NaN</td>\n      <td>NaN</td>\n      <td>NaN</td>\n      <td>NaN</td>\n      <td>NA</td>\n      <td>NaN</td>\n      <td>...</td>\n      <td>0</td>\n      <td>0</td>\n      <td>0</td>\n      <td>NaN</td>\n      <td>NaN</td>\n      <td>0</td>\n      <td>0</td>\n      <td>4</td>\n      <td>2015</td>\n      <td>0</td>\n    </tr>\n    <tr>\n      <th>126992</th>\n      <td>129486</td>\n      <td>421992</td>\n      <td>2015-05-28</td>\n      <td>0</td>\n      <td>NaN</td>\n      <td>NaN</td>\n      <td>NaN</td>\n      <td>NaN</td>\n      <td>NA</td>\n      <td>NaN</td>\n      <td>...</td>\n      <td>0</td>\n      <td>0</td>\n      <td>0</td>\n      <td>NaN</td>\n      <td>NaN</td>\n      <td>0</td>\n      <td>0</td>\n      <td>5</td>\n      <td>2015</td>\n      <td>0</td>\n    </tr>\n    <tr>\n      <th>130875</th>\n      <td>133431</td>\n      <td>532938</td>\n      <td>2015-05-28</td>\n      <td>1</td>\n      <td>NaN</td>\n      <td>NaN</td>\n      <td>NaN</td>\n      <td>NaN</td>\n      <td>NA</td>\n      <td>NaN</td>\n      <td>...</td>\n      <td>0</td>\n      <td>0</td>\n      <td>0</td>\n      <td>NaN</td>\n      <td>NaN</td>\n      <td>0</td>\n      <td>0</td>\n      <td>5</td>\n      <td>2015</td>\n      <td>0</td>\n    </tr>\n    <tr>\n      <th>134835</th>\n      <td>137477</td>\n      <td>170635</td>\n      <td>2015-05-28</td>\n      <td>1</td>\n      <td>NaN</td>\n      <td>NaN</td>\n      <td>NaN</td>\n      <td>NaN</td>\n      <td>NA</td>\n      <td>NaN</td>\n      <td>...</td>\n      <td>0</td>\n      <td>0</td>\n      <td>0</td>\n      <td>0.0</td>\n      <td>0.0</td>\n      <td>0</td>\n      <td>0</td>\n      <td>5</td>\n      <td>2015</td>\n      <td>0</td>\n    </tr>\n    <tr>\n      <th>150407</th>\n      <td>153317</td>\n      <td>672042</td>\n      <td>2015-05-28</td>\n      <td>0</td>\n      <td>NaN</td>\n      <td>NaN</td>\n      <td>NaN</td>\n      <td>NaN</td>\n      <td>NA</td>\n      <td>NaN</td>\n      <td>...</td>\n      <td>0</td>\n      <td>0</td>\n      <td>0</td>\n      <td>NaN</td>\n      <td>NaN</td>\n      <td>0</td>\n      <td>0</td>\n      <td>5</td>\n      <td>2015</td>\n      <td>0</td>\n    </tr>\n    <tr>\n      <th>155345</th>\n      <td>158336</td>\n      <td>1012056</td>\n      <td>2015-05-28</td>\n      <td>1</td>\n      <td>NaN</td>\n      <td>NaN</td>\n      <td>NaN</td>\n      <td>NaN</td>\n      <td>NA</td>\n      <td>NaN</td>\n      <td>...</td>\n      <td>0</td>\n      <td>0</td>\n      <td>0</td>\n      <td>NaN</td>\n      <td>NaN</td>\n      <td>0</td>\n      <td>0</td>\n      <td>5</td>\n      <td>2015</td>\n      <td>0</td>\n    </tr>\n    <tr>\n      <th>158323</th>\n      <td>161336</td>\n      <td>421992</td>\n      <td>2015-06-28</td>\n      <td>0</td>\n      <td>NaN</td>\n      <td>NaN</td>\n      <td>NaN</td>\n      <td>NaN</td>\n      <td>NA</td>\n      <td>NaN</td>\n      <td>...</td>\n      <td>0</td>\n      <td>0</td>\n      <td>0</td>\n      <td>NaN</td>\n      <td>NaN</td>\n      <td>0</td>\n      <td>0</td>\n      <td>6</td>\n      <td>2015</td>\n      <td>0</td>\n    </tr>\n    <tr>\n      <th>162097</th>\n      <td>165162</td>\n      <td>532938</td>\n      <td>2015-06-28</td>\n      <td>1</td>\n      <td>NaN</td>\n      <td>NaN</td>\n      <td>NaN</td>\n      <td>NaN</td>\n      <td>NA</td>\n      <td>NaN</td>\n      <td>...</td>\n      <td>0</td>\n      <td>0</td>\n      <td>0</td>\n      <td>NaN</td>\n      <td>NaN</td>\n      <td>0</td>\n      <td>0</td>\n      <td>6</td>\n      <td>2015</td>\n      <td>0</td>\n    </tr>\n    <tr>\n      <th>165637</th>\n      <td>168754</td>\n      <td>170635</td>\n      <td>2015-06-28</td>\n      <td>1</td>\n      <td>NaN</td>\n      <td>NaN</td>\n      <td>NaN</td>\n      <td>NaN</td>\n      <td>NA</td>\n      <td>NaN</td>\n      <td>...</td>\n      <td>0</td>\n      <td>0</td>\n      <td>0</td>\n      <td>NaN</td>\n      <td>NaN</td>\n      <td>0</td>\n      <td>0</td>\n      <td>6</td>\n      <td>2015</td>\n      <td>0</td>\n    </tr>\n  </tbody>\n</table>\n<p>56 rows × 51 columns</p>\n</div>"
     },
     "execution_count": 1242,
     "metadata": {},
     "output_type": "execute_result"
    }
   ],
   "source": [
    "dataset[dataset['fecha1'].isnull()]"
   ],
   "metadata": {
    "collapsed": false,
    "ExecuteTime": {
     "end_time": "2024-06-09T00:49:22.422034700Z",
     "start_time": "2024-06-09T00:49:22.370435800Z"
    }
   }
  },
  {
   "cell_type": "markdown",
   "source": [
    "Todas las columnas son NaN, se dropean todos los registros"
   ],
   "metadata": {
    "collapsed": false
   }
  },
  {
   "cell_type": "code",
   "execution_count": 1243,
   "outputs": [
    {
     "data": {
      "text/plain": "Unnamed: 0                    0\ncod_persona                   0\nmes                           0\nsexo                          0\nedad                         56\nfecha1                       56\nxti_empleado                 56\nxti_nuevo_cliente            56\nnum_antiguedad                0\nxti_rel                      56\nfec_ult_cli_1t           634646\nxti_rel_1mes               5642\ntip_rel_1mes               5642\nindresi                      56\nindext                       56\ndes_canal                  7178\nxti_extra                    56\ntip_dom                      56\ncod_provincia              2946\nxti_actividad_cliente        56\nimp_renta                124164\nid_segmento                7403\nmean_engagement            5642\nind_prod1                     0\nind_prod2                     0\nind_prod3                     0\nind_prod4                     0\nind_prod5                     0\nind_prod6                     0\nind_prod7                     0\nind_prod8                     0\nind_prod9                     0\nind_prod10                    0\nind_prod11                    0\nind_prod12                    0\nind_prod13                    0\nind_prod14                    0\nind_prod15                    0\nind_prod16                    0\nind_prod17                    0\nind_prod18                    0\nind_prod19                    0\nind_prod20                    0\nind_prod21                    0\nind_prod22                   31\nind_prod23                   31\nind_prod24                    0\nind_prod25                    0\nmes_mes                       0\nmes_año                       0\npais_binario                  0\ndtype: int64"
     },
     "execution_count": 1243,
     "metadata": {},
     "output_type": "execute_result"
    }
   ],
   "source": [
    "dataset.isnull().sum()"
   ],
   "metadata": {
    "collapsed": false,
    "ExecuteTime": {
     "end_time": "2024-06-09T00:49:22.666087Z",
     "start_time": "2024-06-09T00:49:22.422034700Z"
    }
   }
  },
  {
   "cell_type": "code",
   "execution_count": 1244,
   "outputs": [],
   "source": [
    "#Dropeamos los registros con valores nulos\n",
    "dataset.dropna(subset=['fecha1'], inplace=True)"
   ],
   "metadata": {
    "collapsed": false,
    "ExecuteTime": {
     "end_time": "2024-06-09T00:49:23.298734800Z",
     "start_time": "2024-06-09T00:49:22.658997800Z"
    }
   }
  },
  {
   "cell_type": "code",
   "execution_count": 1245,
   "outputs": [
    {
     "data": {
      "text/plain": "Index(['Unnamed: 0', 'cod_persona', 'mes', 'sexo', 'edad', 'fecha1',\n       'xti_empleado', 'xti_nuevo_cliente', 'num_antiguedad', 'xti_rel',\n       'fec_ult_cli_1t', 'xti_rel_1mes', 'tip_rel_1mes', 'indresi', 'indext',\n       'des_canal', 'xti_extra', 'tip_dom', 'cod_provincia',\n       'xti_actividad_cliente', 'imp_renta', 'id_segmento', 'mean_engagement',\n       'ind_prod1', 'ind_prod2', 'ind_prod3', 'ind_prod4', 'ind_prod5',\n       'ind_prod6', 'ind_prod7', 'ind_prod8', 'ind_prod9', 'ind_prod10',\n       'ind_prod11', 'ind_prod12', 'ind_prod13', 'ind_prod14', 'ind_prod15',\n       'ind_prod16', 'ind_prod17', 'ind_prod18', 'ind_prod19', 'ind_prod20',\n       'ind_prod21', 'ind_prod22', 'ind_prod23', 'ind_prod24', 'ind_prod25',\n       'mes_mes', 'mes_año', 'pais_binario'],\n      dtype='object')"
     },
     "execution_count": 1245,
     "metadata": {},
     "output_type": "execute_result"
    }
   ],
   "source": [
    "dataset.columns\n"
   ],
   "metadata": {
    "collapsed": false,
    "ExecuteTime": {
     "end_time": "2024-06-09T00:49:23.324332900Z",
     "start_time": "2024-06-09T00:49:23.297732400Z"
    }
   }
  },
  {
   "cell_type": "markdown",
   "source": [
    "#### Indresi\n",
    "\n",
    "Residence\tindex\t(S\t(Yes)\tor\tN\t(No)\tif\tthe\tresidence\tcountry\tis\tthe\tsame\tthan\tthe\tbank\tcountry)\n"
   ],
   "metadata": {
    "collapsed": false
   }
  },
  {
   "cell_type": "code",
   "execution_count": 1246,
   "outputs": [
    {
     "name": "stdout",
     "output_type": "stream",
     "text": [
      "object\n"
     ]
    }
   ],
   "source": [
    "print(dataset['indresi'].dtype)"
   ],
   "metadata": {
    "collapsed": false,
    "ExecuteTime": {
     "end_time": "2024-06-09T00:49:23.423656600Z",
     "start_time": "2024-06-09T00:49:23.308287400Z"
    }
   }
  },
  {
   "cell_type": "code",
   "execution_count": 1247,
   "outputs": [],
   "source": [
    "dataset['indresi'].value_counts()\n",
    "dataset['indresi'] = dataset['indresi'].map({'S': 1, 'N': 0})"
   ],
   "metadata": {
    "collapsed": false,
    "ExecuteTime": {
     "end_time": "2024-06-09T00:49:23.511677800Z",
     "start_time": "2024-06-09T00:49:23.327360200Z"
    }
   }
  },
  {
   "cell_type": "code",
   "execution_count": 1248,
   "outputs": [
    {
     "data": {
      "text/plain": "indresi\n1    631736\n0      2890\nName: count, dtype: int64"
     },
     "execution_count": 1248,
     "metadata": {},
     "output_type": "execute_result"
    }
   ],
   "source": [
    "dataset['indresi'].value_counts()\n"
   ],
   "metadata": {
    "collapsed": false,
    "ExecuteTime": {
     "end_time": "2024-06-09T00:49:23.649985700Z",
     "start_time": "2024-06-09T00:49:23.413125500Z"
    }
   }
  },
  {
   "cell_type": "code",
   "execution_count": 1249,
   "outputs": [
    {
     "data": {
      "text/plain": "indresi\n1    631736\n0      2890\nName: count, dtype: Int64"
     },
     "execution_count": 1249,
     "metadata": {},
     "output_type": "execute_result"
    }
   ],
   "source": [
    "#to Int64\n",
    "dataset['indresi'] = dataset['indresi'].astype('Int64')\n",
    "dataset['indresi'].value_counts()"
   ],
   "metadata": {
    "collapsed": false,
    "ExecuteTime": {
     "end_time": "2024-06-09T00:49:23.694163500Z",
     "start_time": "2024-06-09T00:49:23.446270600Z"
    }
   }
  },
  {
   "cell_type": "markdown",
   "source": [
    "#### indext\n",
    "\n",
    "Foreigner\tindex\t(S\t(Yes)\tor\tN\t(No)\tif\tthe\tcustomer's\tbirth\tcountry\tis\tdifferent\tthan\tthe\tbank\tcountry)\n"
   ],
   "metadata": {
    "collapsed": false
   }
  },
  {
   "cell_type": "code",
   "execution_count": 1250,
   "outputs": [
    {
     "data": {
      "text/plain": "indext\nN    604219\nS     30407\nName: count, dtype: int64"
     },
     "execution_count": 1250,
     "metadata": {},
     "output_type": "execute_result"
    }
   ],
   "source": [
    "dataset['indext'].value_counts()"
   ],
   "metadata": {
    "collapsed": false,
    "ExecuteTime": {
     "end_time": "2024-06-09T00:49:23.791511200Z",
     "start_time": "2024-06-09T00:49:23.506675100Z"
    }
   }
  },
  {
   "cell_type": "code",
   "execution_count": 1251,
   "outputs": [],
   "source": [
    "dataset['indext'].value_counts()\n",
    "dataset['indext'] = dataset['indext'].map({'S': 1, 'N': 0})"
   ],
   "metadata": {
    "collapsed": false,
    "ExecuteTime": {
     "end_time": "2024-06-09T00:49:23.822678800Z",
     "start_time": "2024-06-09T00:49:23.536780500Z"
    }
   }
  },
  {
   "cell_type": "code",
   "execution_count": 1252,
   "outputs": [
    {
     "data": {
      "text/plain": "indresi\n1    631736\n0      2890\nName: count, dtype: Int64"
     },
     "execution_count": 1252,
     "metadata": {},
     "output_type": "execute_result"
    }
   ],
   "source": [
    "#to Int64\n",
    "dataset['indresi'] = dataset['indresi'].astype('Int64')\n",
    "dataset['indresi'].value_counts()"
   ],
   "metadata": {
    "collapsed": false,
    "ExecuteTime": {
     "end_time": "2024-06-09T00:49:23.961273600Z",
     "start_time": "2024-06-09T00:49:23.613826100Z"
    }
   }
  },
  {
   "cell_type": "markdown",
   "source": [
    "#### des_canal\n",
    "\n",
    "Channel\tused\tby\tthe\tcustomer\tto\tjoin    the\tbank"
   ],
   "metadata": {
    "collapsed": false
   }
  },
  {
   "cell_type": "code",
   "execution_count": 1253,
   "outputs": [
    {
     "name": "stdout",
     "output_type": "stream",
     "text": [
      "object\n"
     ]
    }
   ],
   "source": [
    "print(dataset['des_canal'].dtype)"
   ],
   "metadata": {
    "collapsed": false,
    "ExecuteTime": {
     "end_time": "2024-06-09T00:49:24.002109Z",
     "start_time": "2024-06-09T00:49:23.646966200Z"
    }
   }
  },
  {
   "cell_type": "code",
   "execution_count": 1254,
   "outputs": [],
   "source": [
    "# Convertir la columna 'edad' a tipo int\n",
    "dataset['edad'] = dataset['edad'].astype(int)"
   ],
   "metadata": {
    "collapsed": false,
    "ExecuteTime": {
     "end_time": "2024-06-09T00:49:24.005162400Z",
     "start_time": "2024-06-09T00:49:23.665554800Z"
    }
   }
  },
  {
   "cell_type": "code",
   "execution_count": 1255,
   "outputs": [],
   "source": [
    "\n",
    "# Crear categorías de edad\n",
    "thresholds = [0, 20, 35, 50, 65, 80, 95, 110]\n",
    "age_labels = ['0-19', '20-34', '35-49', '50-64', '65-79', '80-94', '95-109']\n",
    "dataset['edad_grupo'] = pd.cut(dataset['edad'], bins=thresholds, labels=age_labels, right=False)"
   ],
   "metadata": {
    "collapsed": false,
    "ExecuteTime": {
     "end_time": "2024-06-09T00:49:24.027827800Z",
     "start_time": "2024-06-09T00:49:23.698192600Z"
    }
   }
  },
  {
   "cell_type": "code",
   "execution_count": 1256,
   "outputs": [],
   "source": [
    "# Función para obtener la moda o NaN\n",
    "def obtener_moda_o_nan(serie):\n",
    "    modas = serie.mode()\n",
    "    return modas.iloc[0] if not modas.empty else np.nan\n",
    "\n",
    "# Calcular la moda de 'des_canal' para cada categoría de edad\n",
    "moda_por_edad = dataset.groupby('edad_grupo', observed=True)['des_canal'].apply(obtener_moda_o_nan).reset_index()\n",
    "moda_por_edad.columns = ['edad_grupo', 'moda_des_canal']"
   ],
   "metadata": {
    "collapsed": false,
    "ExecuteTime": {
     "end_time": "2024-06-09T00:49:24.117681700Z",
     "start_time": "2024-06-09T00:49:23.742299Z"
    }
   }
  },
  {
   "cell_type": "code",
   "execution_count": 1257,
   "outputs": [],
   "source": [
    "\n",
    "# Unir las modas al DataFrame original\n",
    "dataset = dataset.merge(moda_por_edad, on='edad_grupo', how='left')\n",
    "\n",
    "# Imputar valores nulos en 'des_canal' con la moda correspondiente\n",
    "dataset['des_canal'] = dataset.apply(\n",
    "    lambda row: row['moda_des_canal'] if pd.isnull(row['des_canal']) else row['des_canal'],\n",
    "    axis=1\n",
    ")"
   ],
   "metadata": {
    "collapsed": false,
    "ExecuteTime": {
     "end_time": "2024-06-09T00:49:32.552779100Z",
     "start_time": "2024-06-09T00:49:23.906532600Z"
    }
   }
  },
  {
   "cell_type": "code",
   "execution_count": 1258,
   "outputs": [],
   "source": [
    "\n",
    "# Eliminar columna temporal\n",
    "dataset.drop(columns=['moda_des_canal', 'edad_grupo'], inplace=True)"
   ],
   "metadata": {
    "collapsed": false,
    "ExecuteTime": {
     "end_time": "2024-06-09T00:49:32.678076100Z",
     "start_time": "2024-06-09T00:49:32.556294200Z"
    }
   }
  },
  {
   "cell_type": "code",
   "execution_count": 1259,
   "outputs": [
    {
     "data": {
      "text/plain": "0"
     },
     "execution_count": 1259,
     "metadata": {},
     "output_type": "execute_result"
    }
   ],
   "source": [
    "# count nulls\n",
    "dataset['des_canal'].isnull().sum()"
   ],
   "metadata": {
    "collapsed": false,
    "ExecuteTime": {
     "end_time": "2024-06-09T00:49:32.738556900Z",
     "start_time": "2024-06-09T00:49:32.679076900Z"
    }
   }
  },
  {
   "cell_type": "code",
   "execution_count": 1260,
   "outputs": [
    {
     "data": {
      "text/plain": "Unnamed: 0                    0\ncod_persona                   0\nmes                           0\nsexo                          0\nedad                          0\nfecha1                        0\nxti_empleado                  0\nxti_nuevo_cliente             0\nnum_antiguedad                0\nxti_rel                       0\nfec_ult_cli_1t           634590\nxti_rel_1mes               5586\ntip_rel_1mes               5586\nindresi                       0\nindext                        0\ndes_canal                     0\nxti_extra                     0\ntip_dom                       0\ncod_provincia              2890\nxti_actividad_cliente         0\nimp_renta                124108\nid_segmento                7347\nmean_engagement            5586\nind_prod1                     0\nind_prod2                     0\nind_prod3                     0\nind_prod4                     0\nind_prod5                     0\nind_prod6                     0\nind_prod7                     0\nind_prod8                     0\nind_prod9                     0\nind_prod10                    0\nind_prod11                    0\nind_prod12                    0\nind_prod13                    0\nind_prod14                    0\nind_prod15                    0\nind_prod16                    0\nind_prod17                    0\nind_prod18                    0\nind_prod19                    0\nind_prod20                    0\nind_prod21                    0\nind_prod22                    3\nind_prod23                    3\nind_prod24                    0\nind_prod25                    0\nmes_mes                       0\nmes_año                       0\npais_binario                  0\ndtype: int64"
     },
     "execution_count": 1260,
     "metadata": {},
     "output_type": "execute_result"
    }
   ],
   "source": [
    "dataset.isnull().sum()"
   ],
   "metadata": {
    "collapsed": false,
    "ExecuteTime": {
     "end_time": "2024-06-09T00:49:32.881289Z",
     "start_time": "2024-06-09T00:49:32.713447800Z"
    }
   }
  },
  {
   "cell_type": "code",
   "execution_count": 1261,
   "outputs": [
    {
     "data": {
      "text/plain": "des_canal\nKHE    195663\nKAT    153151\nKFC    148235\nKHQ     25773\nKFA     18941\n        ...  \nKCQ        10\nKFM        10\nKCP        10\nKDV        10\nK00        10\nName: count, Length: 126, dtype: int64"
     },
     "execution_count": 1261,
     "metadata": {},
     "output_type": "execute_result"
    }
   ],
   "source": [
    "dataset['des_canal'].value_counts()"
   ],
   "metadata": {
    "collapsed": false,
    "ExecuteTime": {
     "end_time": "2024-06-09T00:49:32.941858600Z",
     "start_time": "2024-06-09T00:49:32.913560Z"
    }
   }
  },
  {
   "cell_type": "code",
   "execution_count": 1262,
   "outputs": [],
   "source": [
    "frequency = dataset['des_canal'].value_counts()"
   ],
   "metadata": {
    "collapsed": false,
    "ExecuteTime": {
     "end_time": "2024-06-09T00:49:33.025897400Z",
     "start_time": "2024-06-09T00:49:32.929363800Z"
    }
   }
  },
  {
   "cell_type": "code",
   "execution_count": 1263,
   "outputs": [
    {
     "data": {
      "text/plain": "<Figure size 720x432 with 1 Axes>",
      "image/png": "[encoded data removed]"
     },
     "metadata": {
      "needs_background": "light"
     },
     "output_type": "display_data"
    }
   ],
   "source": [
    "# Calcular la distribución de frecuencias\n",
    "plt.figure(figsize=(10, 6))\n",
    "plt.hist(frequency, bins=50, log=True)\n",
    "plt.xlabel('Frecuencia')\n",
    "plt.ylabel('Número de Categorías')\n",
    "plt.title('Distribución de Frecuencias de las Categorías')\n",
    "plt.show()"
   ],
   "metadata": {
    "collapsed": false,
    "ExecuteTime": {
     "end_time": "2024-06-09T00:49:33.362680500Z",
     "start_time": "2024-06-09T00:49:32.977309600Z"
    }
   }
  },
  {
   "cell_type": "code",
   "execution_count": 1264,
   "outputs": [
    {
     "name": "stdout",
     "output_type": "stream",
     "text": [
      "Umbral basado en el percentil 90: 2980.0\n"
     ]
    }
   ],
   "source": [
    "# Definir un umbral basado en el percentil 90 (puedes ajustar este percentil)\n",
    "threshold = np.percentile(frequency, 90)\n",
    "print(f\"Umbral basado en el percentil 90: {threshold}\")"
   ],
   "metadata": {
    "collapsed": false,
    "ExecuteTime": {
     "end_time": "2024-06-09T00:49:33.454025700Z",
     "start_time": "2024-06-09T00:49:33.364680400Z"
    }
   }
  },
  {
   "cell_type": "code",
   "execution_count": 1265,
   "outputs": [],
   "source": [
    "dataset['des_canal_grouped'] = dataset['des_canal']\n",
    "dataset.loc[dataset['des_canal'].isin(frequency[frequency < threshold].index), 'des_canal_grouped'] = 'otros'"
   ],
   "metadata": {
    "collapsed": false,
    "ExecuteTime": {
     "end_time": "2024-06-09T00:49:33.458314200Z",
     "start_time": "2024-06-09T00:49:33.380868800Z"
    }
   }
  },
  {
   "cell_type": "code",
   "execution_count": 1266,
   "outputs": [
    {
     "name": "stdout",
     "output_type": "stream",
     "text": [
      "des_canal_grouped\n",
      "KHE      195663\n",
      "KAT      153151\n",
      "KFC      148235\n",
      "otros     50222\n",
      "KHQ       25773\n",
      "KFA       18941\n",
      "KHK       11218\n",
      "KHM        7310\n",
      "KHD        5456\n",
      "KHN        4699\n",
      "KAS        4072\n",
      "KAG        3574\n",
      "RED        3328\n",
      "KAB        2984\n",
      "Name: count, dtype: int64\n"
     ]
    }
   ],
   "source": [
    "print(dataset['des_canal_grouped'].value_counts())\n"
   ],
   "metadata": {
    "collapsed": false,
    "ExecuteTime": {
     "end_time": "2024-06-09T00:49:33.497879300Z",
     "start_time": "2024-06-09T00:49:33.442512200Z"
    }
   }
  },
  {
   "cell_type": "code",
   "execution_count": 1267,
   "outputs": [],
   "source": [
    "dataset = pd.get_dummies(dataset, columns=['des_canal_grouped'])\n",
    "dataset.drop(columns=['des_canal'], inplace=True)"
   ],
   "metadata": {
    "collapsed": false,
    "ExecuteTime": {
     "end_time": "2024-06-09T00:49:33.910241800Z",
     "start_time": "2024-06-09T00:49:33.457312300Z"
    }
   }
  },
  {
   "cell_type": "code",
   "execution_count": 1268,
   "outputs": [
    {
     "data": {
      "text/plain": "   Unnamed: 0  cod_persona        mes  sexo  edad      fecha1 xti_empleado  \\\n0           0       178103 2015-01-28     0    35  2015-01-12            N   \n1           1       503082 2015-01-28     1    27  2012-08-10            N   \n2           2       502996 2015-01-28     1    37  2012-08-10            N   \n3           3       503053 2015-01-28     0    23  2012-08-10            N   \n4           4       503031 2015-01-28     0    44  2012-08-10            N   \n\n   xti_nuevo_cliente num_antiguedad  xti_rel  ... des_canal_grouped_KFA  \\\n0                0.0              6      1.0  ...                 False   \n1                0.0             35      1.0  ...                 False   \n2                0.0             35      1.0  ...                 False   \n3                0.0             35      1.0  ...                 False   \n4                0.0             35      1.0  ...                 False   \n\n   des_canal_grouped_KFC des_canal_grouped_KHD  des_canal_grouped_KHE  \\\n0                  False                 False                  False   \n1                  False                 False                   True   \n2                   True                 False                  False   \n3                  False                 False                   True   \n4                  False                 False                  False   \n\n   des_canal_grouped_KHK des_canal_grouped_KHM  des_canal_grouped_KHN  \\\n0                  False                 False                  False   \n1                  False                 False                  False   \n2                  False                 False                  False   \n3                  False                 False                  False   \n4                  False                 False                  False   \n\n   des_canal_grouped_KHQ  des_canal_grouped_RED  des_canal_grouped_otros  \n0                  False                  False                     True  \n1                  False                  False                    False  \n2                  False                  False                    False  \n3                  False                  False                    False  \n4                  False                  False                    False  \n\n[5 rows x 64 columns]",
      "text/html": "<div>\n<style scoped>\n    .dataframe tbody tr th:only-of-type {\n        vertical-align: middle;\n    }\n\n    .dataframe tbody tr th {\n        vertical-align: top;\n    }\n\n    .dataframe thead th {\n        text-align: right;\n    }\n</style>\n<table border=\"1\" class=\"dataframe\">\n  <thead>\n    <tr style=\"text-align: right;\">\n      <th></th>\n      <th>Unnamed: 0</th>\n      <th>cod_persona</th>\n      <th>mes</th>\n      <th>sexo</th>\n      <th>edad</th>\n      <th>fecha1</th>\n      <th>xti_empleado</th>\n      <th>xti_nuevo_cliente</th>\n      <th>num_antiguedad</th>\n      <th>xti_rel</th>\n      <th>...</th>\n      <th>des_canal_grouped_KFA</th>\n      <th>des_canal_grouped_KFC</th>\n      <th>des_canal_grouped_KHD</th>\n      <th>des_canal_grouped_KHE</th>\n      <th>des_canal_grouped_KHK</th>\n      <th>des_canal_grouped_KHM</th>\n      <th>des_canal_grouped_KHN</th>\n      <th>des_canal_grouped_KHQ</th>\n      <th>des_canal_grouped_RED</th>\n      <th>des_canal_grouped_otros</th>\n    </tr>\n  </thead>\n  <tbody>\n    <tr>\n      <th>0</th>\n      <td>0</td>\n      <td>178103</td>\n      <td>2015-01-28</td>\n      <td>0</td>\n      <td>35</td>\n      <td>2015-01-12</td>\n      <td>N</td>\n      <td>0.0</td>\n      <td>6</td>\n      <td>1.0</td>\n      <td>...</td>\n      <td>False</td>\n      <td>False</td>\n      <td>False</td>\n      <td>False</td>\n      <td>False</td>\n      <td>False</td>\n      <td>False</td>\n      <td>False</td>\n      <td>False</td>\n      <td>True</td>\n    </tr>\n    <tr>\n      <th>1</th>\n      <td>1</td>\n      <td>503082</td>\n      <td>2015-01-28</td>\n      <td>1</td>\n      <td>27</td>\n      <td>2012-08-10</td>\n      <td>N</td>\n      <td>0.0</td>\n      <td>35</td>\n      <td>1.0</td>\n      <td>...</td>\n      <td>False</td>\n      <td>False</td>\n      <td>False</td>\n      <td>True</td>\n      <td>False</td>\n      <td>False</td>\n      <td>False</td>\n      <td>False</td>\n      <td>False</td>\n      <td>False</td>\n    </tr>\n    <tr>\n      <th>2</th>\n      <td>2</td>\n      <td>502996</td>\n      <td>2015-01-28</td>\n      <td>1</td>\n      <td>37</td>\n      <td>2012-08-10</td>\n      <td>N</td>\n      <td>0.0</td>\n      <td>35</td>\n      <td>1.0</td>\n      <td>...</td>\n      <td>False</td>\n      <td>True</td>\n      <td>False</td>\n      <td>False</td>\n      <td>False</td>\n      <td>False</td>\n      <td>False</td>\n      <td>False</td>\n      <td>False</td>\n      <td>False</td>\n    </tr>\n    <tr>\n      <th>3</th>\n      <td>3</td>\n      <td>503053</td>\n      <td>2015-01-28</td>\n      <td>0</td>\n      <td>23</td>\n      <td>2012-08-10</td>\n      <td>N</td>\n      <td>0.0</td>\n      <td>35</td>\n      <td>1.0</td>\n      <td>...</td>\n      <td>False</td>\n      <td>False</td>\n      <td>False</td>\n      <td>True</td>\n      <td>False</td>\n      <td>False</td>\n      <td>False</td>\n      <td>False</td>\n      <td>False</td>\n      <td>False</td>\n    </tr>\n    <tr>\n      <th>4</th>\n      <td>4</td>\n      <td>503031</td>\n      <td>2015-01-28</td>\n      <td>0</td>\n      <td>44</td>\n      <td>2012-08-10</td>\n      <td>N</td>\n      <td>0.0</td>\n      <td>35</td>\n      <td>1.0</td>\n      <td>...</td>\n      <td>False</td>\n      <td>False</td>\n      <td>False</td>\n      <td>False</td>\n      <td>False</td>\n      <td>False</td>\n      <td>False</td>\n      <td>False</td>\n      <td>False</td>\n      <td>False</td>\n    </tr>\n  </tbody>\n</table>\n<p>5 rows × 64 columns</p>\n</div>"
     },
     "execution_count": 1268,
     "metadata": {},
     "output_type": "execute_result"
    }
   ],
   "source": [
    "dataset.head()\n"
   ],
   "metadata": {
    "collapsed": false,
    "ExecuteTime": {
     "end_time": "2024-06-09T00:49:33.969727200Z",
     "start_time": "2024-06-09T00:49:33.911660500Z"
    }
   }
  },
  {
   "cell_type": "markdown",
   "source": [
    "#### xti_extra\n",
    "\n",
    "Deceased\tindex.\tN/S\n"
   ],
   "metadata": {
    "collapsed": false
   }
  },
  {
   "cell_type": "code",
   "execution_count": 1269,
   "outputs": [
    {
     "data": {
      "text/plain": "xti_extra\nN    633108\nS      1518\nName: count, dtype: int64"
     },
     "execution_count": 1269,
     "metadata": {},
     "output_type": "execute_result"
    }
   ],
   "source": [
    "dataset['xti_extra'].value_counts()"
   ],
   "metadata": {
    "collapsed": false,
    "ExecuteTime": {
     "end_time": "2024-06-09T00:49:34.076949500Z",
     "start_time": "2024-06-09T00:49:33.964123800Z"
    }
   }
  },
  {
   "cell_type": "code",
   "execution_count": 1270,
   "outputs": [],
   "source": [
    "dataset['xti_extra'] = dataset['xti_extra'].map({'S': 1, 'N': 0})\n",
    "dataset['xti_extra']  = dataset['xti_extra'].astype('Int64')"
   ],
   "metadata": {
    "collapsed": false,
    "ExecuteTime": {
     "end_time": "2024-06-09T00:49:34.201541400Z",
     "start_time": "2024-06-09T00:49:33.990238300Z"
    }
   }
  },
  {
   "cell_type": "code",
   "execution_count": 1271,
   "outputs": [
    {
     "data": {
      "text/plain": "xti_extra\n0    633108\n1      1518\nName: count, dtype: Int64"
     },
     "execution_count": 1271,
     "metadata": {},
     "output_type": "execute_result"
    }
   ],
   "source": [
    "dataset['xti_extra'].value_counts()"
   ],
   "metadata": {
    "collapsed": false,
    "ExecuteTime": {
     "end_time": "2024-06-09T00:49:34.222390900Z",
     "start_time": "2024-06-09T00:49:34.018535200Z"
    }
   }
  },
  {
   "cell_type": "code",
   "execution_count": 1272,
   "outputs": [
    {
     "data": {
      "text/plain": "xti_extra\n1    46763\n2       16\nName: count, dtype: int64"
     },
     "execution_count": 1272,
     "metadata": {},
     "output_type": "execute_result"
    }
   ],
   "source": [
    "# dime si hay algun cod_persona que tenga xti_extra = 1 y xti_extra = 0\n",
    "dataset.groupby('cod_persona')['xti_extra'].nunique().value_counts()"
   ],
   "metadata": {
    "collapsed": false,
    "ExecuteTime": {
     "end_time": "2024-06-09T00:49:34.263709200Z",
     "start_time": "2024-06-09T00:49:34.033066100Z"
    }
   }
  },
  {
   "cell_type": "code",
   "execution_count": 1273,
   "outputs": [],
   "source": [
    "# Si hay algun cod_persona que tenga xti_extra = 1 y xti_extra = 0 vamos a sacar los valores cod_persona\n",
    "cod_personas_con_xti_extra_ambos = dataset.groupby('cod_persona')['xti_extra'].nunique()\n",
    "cod_personas_con_xti_extra_ambos = cod_personas_con_xti_extra_ambos[cod_personas_con_xti_extra_ambos == 2].index"
   ],
   "metadata": {
    "collapsed": false,
    "ExecuteTime": {
     "end_time": "2024-06-09T00:49:34.442330Z",
     "start_time": "2024-06-09T00:49:34.125594900Z"
    }
   }
  },
  {
   "cell_type": "code",
   "execution_count": 1274,
   "outputs": [
    {
     "data": {
      "text/plain": "Index([ 315613,  478242,  667532,  750560, 1158120, 1241973, 1292676, 1366657,\n       1438552, 1448906, 1453113, 1457279, 1506511, 1511385, 1513673, 1527641],\n      dtype='int64', name='cod_persona')"
     },
     "execution_count": 1274,
     "metadata": {},
     "output_type": "execute_result"
    }
   ],
   "source": [
    "cod_personas_con_xti_extra_ambos"
   ],
   "metadata": {
    "collapsed": false,
    "ExecuteTime": {
     "end_time": "2024-06-09T00:49:34.462403900Z",
     "start_time": "2024-06-09T00:49:34.235973100Z"
    }
   }
  },
  {
   "cell_type": "code",
   "execution_count": 1275,
   "outputs": [
    {
     "data": {
      "text/plain": "        Unnamed: 0  cod_persona        mes  sexo  edad      fecha1  \\\n3303          3355       478242 2015-01-28     0   100  2012-10-04   \n5252          5348       667532 2015-01-28     1    87  2010-07-19   \n14488        14855       315613 2015-01-28     1    52  2014-01-14   \n16128        16514      1241973 2015-01-28     1    56  2001-12-28   \n17125        17523      1292676 2015-01-28     1    82  2001-07-13   \n...            ...          ...        ...   ...   ...         ...   \n606470      613520      1158120 2016-04-28     1    79  2002-12-12   \n609345      616402      1527641 2016-04-28     1    73  1996-11-13   \n610652      617710      1241973 2016-04-28     1    57  2001-12-28   \n613932      620990       478242 2016-04-28     0   101  2012-10-04   \n629287      636361       315613 2016-04-28     1    53  2014-01-14   \n\n       xti_empleado  xti_nuevo_cliente num_antiguedad  xti_rel  ...  \\\n3303              N                0.0             33      1.0  ...   \n5252              N                0.0             60      1.0  ...   \n14488             N                0.0             18      1.0  ...   \n16128             N                0.0            163      1.0  ...   \n17125             N                0.0            168      1.0  ...   \n...             ...                ...            ...      ...  ...   \n606470            N                0.0            160      1.0  ...   \n609345            N                0.0            219      1.0  ...   \n610652            N                0.0            172      1.0  ...   \n613932            N                0.0             42      1.0  ...   \n629287            N                0.0             27      1.0  ...   \n\n       des_canal_grouped_KFA  des_canal_grouped_KFC des_canal_grouped_KHD  \\\n3303                   False                  False                 False   \n5252                   False                  False                 False   \n14488                  False                   True                 False   \n16128                  False                  False                 False   \n17125                  False                  False                 False   \n...                      ...                    ...                   ...   \n606470                 False                   True                 False   \n609345                 False                  False                 False   \n610652                 False                  False                 False   \n613932                 False                  False                 False   \n629287                 False                   True                 False   \n\n        des_canal_grouped_KHE  des_canal_grouped_KHK  des_canal_grouped_KHM  \\\n3303                    False                  False                  False   \n5252                    False                  False                  False   \n14488                   False                  False                  False   \n16128                   False                  False                  False   \n17125                   False                  False                  False   \n...                       ...                    ...                    ...   \n606470                  False                  False                  False   \n609345                  False                  False                  False   \n610652                  False                  False                  False   \n613932                  False                  False                  False   \n629287                  False                  False                  False   \n\n        des_canal_grouped_KHN  des_canal_grouped_KHQ  des_canal_grouped_RED  \\\n3303                    False                  False                  False   \n5252                    False                  False                  False   \n14488                   False                  False                  False   \n16128                   False                  False                  False   \n17125                   False                  False                  False   \n...                       ...                    ...                    ...   \n606470                  False                  False                  False   \n609345                  False                  False                  False   \n610652                  False                  False                  False   \n613932                  False                  False                  False   \n629287                  False                  False                  False   \n\n        des_canal_grouped_otros  \n3303                      False  \n5252                       True  \n14488                     False  \n16128                     False  \n17125                     False  \n...                         ...  \n606470                    False  \n609345                     True  \n610652                    False  \n613932                    False  \n629287                    False  \n\n[251 rows x 64 columns]",
      "text/html": "<div>\n<style scoped>\n    .dataframe tbody tr th:only-of-type {\n        vertical-align: middle;\n    }\n\n    .dataframe tbody tr th {\n        vertical-align: top;\n    }\n\n    .dataframe thead th {\n        text-align: right;\n    }\n</style>\n<table border=\"1\" class=\"dataframe\">\n  <thead>\n    <tr style=\"text-align: right;\">\n      <th></th>\n      <th>Unnamed: 0</th>\n      <th>cod_persona</th>\n      <th>mes</th>\n      <th>sexo</th>\n      <th>edad</th>\n      <th>fecha1</th>\n      <th>xti_empleado</th>\n      <th>xti_nuevo_cliente</th>\n      <th>num_antiguedad</th>\n      <th>xti_rel</th>\n      <th>...</th>\n      <th>des_canal_grouped_KFA</th>\n      <th>des_canal_grouped_KFC</th>\n      <th>des_canal_grouped_KHD</th>\n      <th>des_canal_grouped_KHE</th>\n      <th>des_canal_grouped_KHK</th>\n      <th>des_canal_grouped_KHM</th>\n      <th>des_canal_grouped_KHN</th>\n      <th>des_canal_grouped_KHQ</th>\n      <th>des_canal_grouped_RED</th>\n      <th>des_canal_grouped_otros</th>\n    </tr>\n  </thead>\n  <tbody>\n    <tr>\n      <th>3303</th>\n      <td>3355</td>\n      <td>478242</td>\n      <td>2015-01-28</td>\n      <td>0</td>\n      <td>100</td>\n      <td>2012-10-04</td>\n      <td>N</td>\n      <td>0.0</td>\n      <td>33</td>\n      <td>1.0</td>\n      <td>...</td>\n      <td>False</td>\n      <td>False</td>\n      <td>False</td>\n      <td>False</td>\n      <td>False</td>\n      <td>False</td>\n      <td>False</td>\n      <td>False</td>\n      <td>False</td>\n      <td>False</td>\n    </tr>\n    <tr>\n      <th>5252</th>\n      <td>5348</td>\n      <td>667532</td>\n      <td>2015-01-28</td>\n      <td>1</td>\n      <td>87</td>\n      <td>2010-07-19</td>\n      <td>N</td>\n      <td>0.0</td>\n      <td>60</td>\n      <td>1.0</td>\n      <td>...</td>\n      <td>False</td>\n      <td>False</td>\n      <td>False</td>\n      <td>False</td>\n      <td>False</td>\n      <td>False</td>\n      <td>False</td>\n      <td>False</td>\n      <td>False</td>\n      <td>True</td>\n    </tr>\n    <tr>\n      <th>14488</th>\n      <td>14855</td>\n      <td>315613</td>\n      <td>2015-01-28</td>\n      <td>1</td>\n      <td>52</td>\n      <td>2014-01-14</td>\n      <td>N</td>\n      <td>0.0</td>\n      <td>18</td>\n      <td>1.0</td>\n      <td>...</td>\n      <td>False</td>\n      <td>True</td>\n      <td>False</td>\n      <td>False</td>\n      <td>False</td>\n      <td>False</td>\n      <td>False</td>\n      <td>False</td>\n      <td>False</td>\n      <td>False</td>\n    </tr>\n    <tr>\n      <th>16128</th>\n      <td>16514</td>\n      <td>1241973</td>\n      <td>2015-01-28</td>\n      <td>1</td>\n      <td>56</td>\n      <td>2001-12-28</td>\n      <td>N</td>\n      <td>0.0</td>\n      <td>163</td>\n      <td>1.0</td>\n      <td>...</td>\n      <td>False</td>\n      <td>False</td>\n      <td>False</td>\n      <td>False</td>\n      <td>False</td>\n      <td>False</td>\n      <td>False</td>\n      <td>False</td>\n      <td>False</td>\n      <td>False</td>\n    </tr>\n    <tr>\n      <th>17125</th>\n      <td>17523</td>\n      <td>1292676</td>\n      <td>2015-01-28</td>\n      <td>1</td>\n      <td>82</td>\n      <td>2001-07-13</td>\n      <td>N</td>\n      <td>0.0</td>\n      <td>168</td>\n      <td>1.0</td>\n      <td>...</td>\n      <td>False</td>\n      <td>False</td>\n      <td>False</td>\n      <td>False</td>\n      <td>False</td>\n      <td>False</td>\n      <td>False</td>\n      <td>False</td>\n      <td>False</td>\n      <td>False</td>\n    </tr>\n    <tr>\n      <th>...</th>\n      <td>...</td>\n      <td>...</td>\n      <td>...</td>\n      <td>...</td>\n      <td>...</td>\n      <td>...</td>\n      <td>...</td>\n      <td>...</td>\n      <td>...</td>\n      <td>...</td>\n      <td>...</td>\n      <td>...</td>\n      <td>...</td>\n      <td>...</td>\n      <td>...</td>\n      <td>...</td>\n      <td>...</td>\n      <td>...</td>\n      <td>...</td>\n      <td>...</td>\n      <td>...</td>\n    </tr>\n    <tr>\n      <th>606470</th>\n      <td>613520</td>\n      <td>1158120</td>\n      <td>2016-04-28</td>\n      <td>1</td>\n      <td>79</td>\n      <td>2002-12-12</td>\n      <td>N</td>\n      <td>0.0</td>\n      <td>160</td>\n      <td>1.0</td>\n      <td>...</td>\n      <td>False</td>\n      <td>True</td>\n      <td>False</td>\n      <td>False</td>\n      <td>False</td>\n      <td>False</td>\n      <td>False</td>\n      <td>False</td>\n      <td>False</td>\n      <td>False</td>\n    </tr>\n    <tr>\n      <th>609345</th>\n      <td>616402</td>\n      <td>1527641</td>\n      <td>2016-04-28</td>\n      <td>1</td>\n      <td>73</td>\n      <td>1996-11-13</td>\n      <td>N</td>\n      <td>0.0</td>\n      <td>219</td>\n      <td>1.0</td>\n      <td>...</td>\n      <td>False</td>\n      <td>False</td>\n      <td>False</td>\n      <td>False</td>\n      <td>False</td>\n      <td>False</td>\n      <td>False</td>\n      <td>False</td>\n      <td>False</td>\n      <td>True</td>\n    </tr>\n    <tr>\n      <th>610652</th>\n      <td>617710</td>\n      <td>1241973</td>\n      <td>2016-04-28</td>\n      <td>1</td>\n      <td>57</td>\n      <td>2001-12-28</td>\n      <td>N</td>\n      <td>0.0</td>\n      <td>172</td>\n      <td>1.0</td>\n      <td>...</td>\n      <td>False</td>\n      <td>False</td>\n      <td>False</td>\n      <td>False</td>\n      <td>False</td>\n      <td>False</td>\n      <td>False</td>\n      <td>False</td>\n      <td>False</td>\n      <td>False</td>\n    </tr>\n    <tr>\n      <th>613932</th>\n      <td>620990</td>\n      <td>478242</td>\n      <td>2016-04-28</td>\n      <td>0</td>\n      <td>101</td>\n      <td>2012-10-04</td>\n      <td>N</td>\n      <td>0.0</td>\n      <td>42</td>\n      <td>1.0</td>\n      <td>...</td>\n      <td>False</td>\n      <td>False</td>\n      <td>False</td>\n      <td>False</td>\n      <td>False</td>\n      <td>False</td>\n      <td>False</td>\n      <td>False</td>\n      <td>False</td>\n      <td>False</td>\n    </tr>\n    <tr>\n      <th>629287</th>\n      <td>636361</td>\n      <td>315613</td>\n      <td>2016-04-28</td>\n      <td>1</td>\n      <td>53</td>\n      <td>2014-01-14</td>\n      <td>N</td>\n      <td>0.0</td>\n      <td>27</td>\n      <td>1.0</td>\n      <td>...</td>\n      <td>False</td>\n      <td>True</td>\n      <td>False</td>\n      <td>False</td>\n      <td>False</td>\n      <td>False</td>\n      <td>False</td>\n      <td>False</td>\n      <td>False</td>\n      <td>False</td>\n    </tr>\n  </tbody>\n</table>\n<p>251 rows × 64 columns</p>\n</div>"
     },
     "execution_count": 1275,
     "metadata": {},
     "output_type": "execute_result"
    }
   ],
   "source": [
    "# Vamos a ver los registros de estos cod_persona\n",
    "dataset[dataset['cod_persona'].isin(cod_personas_con_xti_extra_ambos)]"
   ],
   "metadata": {
    "collapsed": false,
    "ExecuteTime": {
     "end_time": "2024-06-09T00:49:34.500035200Z",
     "start_time": "2024-06-09T00:49:34.253176800Z"
    }
   }
  },
  {
   "cell_type": "code",
   "execution_count": 1276,
   "outputs": [
    {
     "data": {
      "text/plain": "xti_extra\n1    634626\nName: count, dtype: int64"
     },
     "execution_count": 1276,
     "metadata": {},
     "output_type": "execute_result"
    }
   ],
   "source": [
    "# Vamos a ver si hay algun cod_persona que tenga xti_extra = 1 y xti_extra = 0 en el mismo mes\n",
    "dataset.groupby(['cod_persona', 'mes'])['xti_extra'].nunique().value_counts()"
   ],
   "metadata": {
    "collapsed": false,
    "ExecuteTime": {
     "end_time": "2024-06-09T00:49:34.702080800Z",
     "start_time": "2024-06-09T00:49:34.332938600Z"
    }
   }
  },
  {
   "cell_type": "markdown",
   "source": [
    "Se observa que no hay personas que tienen valores diferentes de xti_extra para el mismo mes. Pero si hay personas que tienen valores diferentes de xti_extra para diferentes meses. Se decide mantener los valores de xti_extra tal y como están ya que no hay ninguna inconsistencia en los datos y además  con estos cambios entre \"la vida y la muerte\" se pueden obtener patrones de contratación de productos."
   ],
   "metadata": {
    "collapsed": false
   }
  },
  {
   "cell_type": "markdown",
   "source": [
    "#### tip_dom\n",
    "\n",
    "Addres\ttype.\t1,\tprimary\taddress\n"
   ],
   "metadata": {
    "collapsed": false
   }
  },
  {
   "cell_type": "code",
   "execution_count": 1277,
   "outputs": [
    {
     "data": {
      "text/plain": "0"
     },
     "execution_count": 1277,
     "metadata": {},
     "output_type": "execute_result"
    }
   ],
   "source": [
    "dataset['tip_dom'].isnull().sum()"
   ],
   "metadata": {
    "collapsed": false,
    "ExecuteTime": {
     "end_time": "2024-06-09T00:49:34.796634200Z",
     "start_time": "2024-06-09T00:49:34.656795500Z"
    }
   }
  },
  {
   "cell_type": "code",
   "execution_count": 1278,
   "outputs": [
    {
     "data": {
      "text/plain": "tip_dom\n1.0    634626\nName: count, dtype: int64"
     },
     "execution_count": 1278,
     "metadata": {},
     "output_type": "execute_result"
    }
   ],
   "source": [
    "dataset['tip_dom'].value_counts()"
   ],
   "metadata": {
    "collapsed": false,
    "ExecuteTime": {
     "end_time": "2024-06-09T00:49:35.005278400Z",
     "start_time": "2024-06-09T00:49:34.685526600Z"
    }
   }
  },
  {
   "cell_type": "markdown",
   "source": [
    "Se observa que todos los registros son de tipo 1. Se decide eliminar la columna ya que no aporta información."
   ],
   "metadata": {
    "collapsed": false
   }
  },
  {
   "cell_type": "code",
   "execution_count": 1279,
   "outputs": [],
   "source": [
    "dataset.drop(columns=['tip_dom'], inplace=True)"
   ],
   "metadata": {
    "collapsed": false,
    "ExecuteTime": {
     "end_time": "2024-06-09T00:49:35.078051800Z",
     "start_time": "2024-06-09T00:49:34.704081800Z"
    }
   }
  },
  {
   "cell_type": "markdown",
   "source": [
    "#### cod_provincia\n",
    "\n",
    "Province\tcode\t(customer's\taddress)\n"
   ],
   "metadata": {
    "collapsed": false
   }
  },
  {
   "cell_type": "code",
   "execution_count": 1280,
   "outputs": [
    {
     "data": {
      "text/plain": "2890"
     },
     "execution_count": 1280,
     "metadata": {},
     "output_type": "execute_result"
    }
   ],
   "source": [
    "dataset['cod_provincia'].isnull().sum()"
   ],
   "metadata": {
    "collapsed": false,
    "ExecuteTime": {
     "end_time": "2024-06-09T00:49:35.099103200Z",
     "start_time": "2024-06-09T00:49:34.829200500Z"
    }
   }
  },
  {
   "cell_type": "code",
   "execution_count": 1281,
   "outputs": [
    {
     "data": {
      "text/plain": "pais_binario\n0    2890\nName: count, dtype: int64"
     },
     "execution_count": 1281,
     "metadata": {},
     "output_type": "execute_result"
    }
   ],
   "source": [
    "# Ver la distribución de la variable 'cod_provincia' por pais en los nulls\n",
    "dataset[dataset['cod_provincia'].isnull()]['pais_binario'].value_counts()"
   ],
   "metadata": {
    "collapsed": false,
    "ExecuteTime": {
     "end_time": "2024-06-09T00:49:35.223936700Z",
     "start_time": "2024-06-09T00:49:34.841717600Z"
    }
   }
  },
  {
   "cell_type": "markdown",
   "source": [
    "Se observa que todos los valores nulos de 'cod_provincia' son de personas que no son de España. Se decide aplicar un 99 a los valores nulos para que no se pierda la información de la provincia."
   ],
   "metadata": {
    "collapsed": false
   }
  },
  {
   "cell_type": "code",
   "execution_count": 1282,
   "outputs": [],
   "source": [
    "dataset['cod_provincia'] = dataset['cod_provincia'].fillna(99)"
   ],
   "metadata": {
    "collapsed": false,
    "ExecuteTime": {
     "end_time": "2024-06-09T00:49:35.262046300Z",
     "start_time": "2024-06-09T00:49:34.857764600Z"
    }
   }
  },
  {
   "cell_type": "code",
   "execution_count": 1283,
   "outputs": [],
   "source": [
    "# Crear un diccionario de mapeo de códigos de provincia a nombres de provincia\n",
    "mapeo_provincias = {\n",
    "    1: 'Álava',\n",
    "    2: 'Albacete',\n",
    "    3: 'Alicante',\n",
    "    4: 'Almería',\n",
    "    5: 'Ávila',\n",
    "    6: 'Badajoz',\n",
    "    7: 'Islas Baleares',\n",
    "    8: 'Barcelona',\n",
    "    9: 'Burgos',\n",
    "    10: 'Cáceres',\n",
    "    11: 'Cádiz',\n",
    "    12: 'Castellón',\n",
    "    13: 'Ciudad Real',\n",
    "    14: 'Córdoba',\n",
    "    15: 'A Coruña',\n",
    "    16: 'Cuenca',\n",
    "    17: 'Girona',\n",
    "    18: 'Granada',\n",
    "    19: 'Guadalajara',\n",
    "    20: 'Gipuzkoa',\n",
    "    21: 'Huelva',\n",
    "    22: 'Huesca',\n",
    "    23: 'Jaén',\n",
    "    24: 'León',\n",
    "    25: 'Lleida',\n",
    "    26: 'La Rioja',\n",
    "    27: 'Lugo',\n",
    "    28: 'Madrid',\n",
    "    29: 'Málaga',\n",
    "    30: 'Murcia',\n",
    "    31: 'Navarra',\n",
    "    32: 'Ourense',\n",
    "    33: 'Asturias',\n",
    "    34: 'Palencia',\n",
    "    35: 'Las Palmas',\n",
    "    36: 'Pontevedra',\n",
    "    37: 'Salamanca',\n",
    "    38: 'Santa Cruz de Tenerife',\n",
    "    39: 'Cantabria',\n",
    "    40: 'Segovia',\n",
    "    41: 'Sevilla',\n",
    "    42: 'Soria',\n",
    "    43: 'Tarragona',\n",
    "    44: 'Teruel',\n",
    "    45: 'Toledo',\n",
    "    46: 'Valencia',\n",
    "    47: 'Valladolid',\n",
    "    48: 'Bizkaia',\n",
    "    49: 'Zamora',\n",
    "    50: 'Zaragoza',\n",
    "    51: 'Ceuta',\n",
    "    52: 'Melilla',\n",
    "    99: 'Desconocido'  # Incluyo un código para los casos desconocidos\n",
    "}\n",
    "\n",
    "# Mapear los códigos de provincia a nombres de provincia\n",
    "dataset['cod_provincia'] = dataset['cod_provincia'].map(mapeo_provincias)"
   ],
   "metadata": {
    "collapsed": false,
    "ExecuteTime": {
     "end_time": "2024-06-09T00:49:35.291129100Z",
     "start_time": "2024-06-09T00:49:34.876317600Z"
    }
   }
  },
  {
   "cell_type": "code",
   "execution_count": 1284,
   "outputs": [],
   "source": [
    "frequency_prov = dataset['cod_provincia'].value_counts()"
   ],
   "metadata": {
    "collapsed": false,
    "ExecuteTime": {
     "end_time": "2024-06-09T00:49:35.338703Z",
     "start_time": "2024-06-09T00:49:34.918846800Z"
    }
   }
  },
  {
   "cell_type": "code",
   "execution_count": 1285,
   "outputs": [
    {
     "data": {
      "text/plain": "cod_provincia\nMadrid                    206951\nBarcelona                  60268\nValencia                   32160\nSevilla                    28197\nA Coruña                   19160\nMurcia                     18386\nMálaga                     16899\nZaragoza                   16403\nAlicante                   14211\nCádiz                      12844\nPontevedra                 12819\nAsturias                   12471\nValladolid                 10936\nLas Palmas                 10688\nBadajoz                     9079\nGranada                     8724\nToledo                      8677\nBizkaia                     8529\nSalamanca                   7520\nCantabria                   7390\nCórdoba                     6895\nHuelva                      6217\nCáceres                     6099\nIslas Baleares              5670\nCiudad Real                 5424\nAlbacete                    5182\nCastellón                   5159\nTarragona                   4681\nLeón                        4323\nBurgos                      4116\nNavarra                     4109\nGirona                      4052\nLugo                        3951\nLa Rioja                    3811\nLleida                      3726\nOurense                     3457\nSanta Cruz de Tenerife      3263\nGipuzkoa                    3169\nGuadalajara                 3014\nDesconocido                 2890\nCuenca                      2803\nAlmería                     2760\nJaén                        2739\nZamora                      2300\nPalencia                    2292\nSegovia                     2050\nÁvila                       2035\nÁlava                       1844\nHuesca                      1811\nTeruel                       997\nSoria                        755\nMelilla                      401\nCeuta                        319\nName: count, dtype: int64"
     },
     "execution_count": 1285,
     "metadata": {},
     "output_type": "execute_result"
    }
   ],
   "source": [
    "# Calcular la distribución de frecuencias\n",
    "dataset['cod_provincia'].value_counts()"
   ],
   "metadata": {
    "collapsed": false,
    "ExecuteTime": {
     "end_time": "2024-06-09T00:49:35.414962800Z",
     "start_time": "2024-06-09T00:49:35.055466500Z"
    }
   }
  },
  {
   "cell_type": "code",
   "execution_count": 1286,
   "outputs": [
    {
     "data": {
      "text/plain": "<Figure size 720x432 with 1 Axes>",
      "image/png": "[encoded data removed]"
     },
     "metadata": {
      "needs_background": "light"
     },
     "output_type": "display_data"
    }
   ],
   "source": [
    "# Calcular la distribución de frecuencias\n",
    "plt.figure(figsize=(10, 6))\n",
    "plt.hist(frequency_prov, bins=50, log=True)\n",
    "plt.xlabel('Frecuencia')\n",
    "plt.ylabel('Número de Categorías')\n",
    "plt.title('Distribución de Frecuencias de las Categorías')\n",
    "plt.show()"
   ],
   "metadata": {
    "collapsed": false,
    "ExecuteTime": {
     "end_time": "2024-06-09T00:49:35.725926900Z",
     "start_time": "2024-06-09T00:49:35.139220500Z"
    }
   }
  },
  {
   "cell_type": "code",
   "execution_count": 1287,
   "outputs": [
    {
     "name": "stdout",
     "output_type": "stream",
     "text": [
      "Umbral basado en el percentil 90: 5159.0\n"
     ]
    }
   ],
   "source": [
    "# Definir un umbral basado en el percentil 80 (puedes ajustar este percentil)\n",
    "threshold_prov= np.percentile(frequency_prov, 50)\n",
    "print(f\"Umbral basado en el percentil 90: {threshold_prov}\")"
   ],
   "metadata": {
    "collapsed": false,
    "ExecuteTime": {
     "end_time": "2024-06-09T00:49:35.852260200Z",
     "start_time": "2024-06-09T00:49:35.713267700Z"
    }
   }
  },
  {
   "cell_type": "markdown",
   "source": [],
   "metadata": {
    "collapsed": false
   }
  },
  {
   "cell_type": "markdown",
   "source": [
    "Dado que no queremos perder demasiada granularidad y al mismo tiempo queremos agrupar las categorías con muy pocas observaciones, el percentil 50 (5159) parece un buen compromiso. Esto permitirá agrupar las categorías más pequeñas sin perder demasiada información detallada."
   ],
   "metadata": {
    "collapsed": false
   }
  },
  {
   "cell_type": "code",
   "execution_count": 1288,
   "outputs": [
    {
     "data": {
      "text/plain": "cod_provincia_grouped\nMadrid              206951\notras_provincias     71668\nBarcelona            60268\nValencia             32160\nSevilla              28197\nA Coruña             19160\nMurcia               18386\nMálaga               16899\nZaragoza             16403\nAlicante             14211\nCádiz                12844\nPontevedra           12819\nAsturias             12471\nValladolid           10936\nLas Palmas           10688\nBadajoz               9079\nGranada               8724\nToledo                8677\nBizkaia               8529\nSalamanca             7520\nCantabria             7390\nCórdoba               6895\nHuelva                6217\nCáceres               6099\nIslas Baleares        5670\nCiudad Real           5424\nAlbacete              5182\nCastellón             5159\nName: count, dtype: int64"
     },
     "execution_count": 1288,
     "metadata": {},
     "output_type": "execute_result"
    }
   ],
   "source": [
    "dataset['cod_provincia_grouped'] = dataset['cod_provincia']\n",
    "dataset.loc[dataset['cod_provincia'].isin(frequency_prov[frequency_prov < threshold_prov].index), 'cod_provincia_grouped'] = 'otras_provincias'\n",
    "dataset['cod_provincia_grouped'].value_counts()"
   ],
   "metadata": {
    "collapsed": false,
    "ExecuteTime": {
     "end_time": "2024-06-09T00:49:35.908940400Z",
     "start_time": "2024-06-09T00:49:35.728932400Z"
    }
   }
  },
  {
   "cell_type": "code",
   "execution_count": 1289,
   "outputs": [
    {
     "data": {
      "text/plain": "   Unnamed: 0  cod_persona        mes  sexo  edad      fecha1 xti_empleado  \\\n0           0       178103 2015-01-28     0    35  2015-01-12            N   \n1           1       503082 2015-01-28     1    27  2012-08-10            N   \n2           2       502996 2015-01-28     1    37  2012-08-10            N   \n3           3       503053 2015-01-28     0    23  2012-08-10            N   \n4           4       503031 2015-01-28     0    44  2012-08-10            N   \n\n   xti_nuevo_cliente num_antiguedad  xti_rel  ...  \\\n0                0.0              6      1.0  ...   \n1                0.0             35      1.0  ...   \n2                0.0             35      1.0  ...   \n3                0.0             35      1.0  ...   \n4                0.0             35      1.0  ...   \n\n  cod_provincia_grouped_Murcia  cod_provincia_grouped_Málaga  \\\n0                        False                          True   \n1                        False                         False   \n2                        False                         False   \n3                        False                         False   \n4                        False                         False   \n\n  cod_provincia_grouped_Pontevedra  cod_provincia_grouped_Salamanca  \\\n0                            False                            False   \n1                            False                            False   \n2                            False                            False   \n3                            False                            False   \n4                            False                            False   \n\n   cod_provincia_grouped_Sevilla  cod_provincia_grouped_Toledo  \\\n0                          False                         False   \n1                          False                         False   \n2                          False                         False   \n3                          False                         False   \n4                          False                         False   \n\n   cod_provincia_grouped_Valencia  cod_provincia_grouped_Valladolid  \\\n0                           False                             False   \n1                           False                             False   \n2                           False                             False   \n3                           False                             False   \n4                           False                             False   \n\n  cod_provincia_grouped_Zaragoza  cod_provincia_grouped_otras_provincias  \n0                          False                                   False  \n1                          False                                    True  \n2                          False                                   False  \n3                          False                                   False  \n4                          False                                   False  \n\n[5 rows x 90 columns]",
      "text/html": "<div>\n<style scoped>\n    .dataframe tbody tr th:only-of-type {\n        vertical-align: middle;\n    }\n\n    .dataframe tbody tr th {\n        vertical-align: top;\n    }\n\n    .dataframe thead th {\n        text-align: right;\n    }\n</style>\n<table border=\"1\" class=\"dataframe\">\n  <thead>\n    <tr style=\"text-align: right;\">\n      <th></th>\n      <th>Unnamed: 0</th>\n      <th>cod_persona</th>\n      <th>mes</th>\n      <th>sexo</th>\n      <th>edad</th>\n      <th>fecha1</th>\n      <th>xti_empleado</th>\n      <th>xti_nuevo_cliente</th>\n      <th>num_antiguedad</th>\n      <th>xti_rel</th>\n      <th>...</th>\n      <th>cod_provincia_grouped_Murcia</th>\n      <th>cod_provincia_grouped_Málaga</th>\n      <th>cod_provincia_grouped_Pontevedra</th>\n      <th>cod_provincia_grouped_Salamanca</th>\n      <th>cod_provincia_grouped_Sevilla</th>\n      <th>cod_provincia_grouped_Toledo</th>\n      <th>cod_provincia_grouped_Valencia</th>\n      <th>cod_provincia_grouped_Valladolid</th>\n      <th>cod_provincia_grouped_Zaragoza</th>\n      <th>cod_provincia_grouped_otras_provincias</th>\n    </tr>\n  </thead>\n  <tbody>\n    <tr>\n      <th>0</th>\n      <td>0</td>\n      <td>178103</td>\n      <td>2015-01-28</td>\n      <td>0</td>\n      <td>35</td>\n      <td>2015-01-12</td>\n      <td>N</td>\n      <td>0.0</td>\n      <td>6</td>\n      <td>1.0</td>\n      <td>...</td>\n      <td>False</td>\n      <td>True</td>\n      <td>False</td>\n      <td>False</td>\n      <td>False</td>\n      <td>False</td>\n      <td>False</td>\n      <td>False</td>\n      <td>False</td>\n      <td>False</td>\n    </tr>\n    <tr>\n      <th>1</th>\n      <td>1</td>\n      <td>503082</td>\n      <td>2015-01-28</td>\n      <td>1</td>\n      <td>27</td>\n      <td>2012-08-10</td>\n      <td>N</td>\n      <td>0.0</td>\n      <td>35</td>\n      <td>1.0</td>\n      <td>...</td>\n      <td>False</td>\n      <td>False</td>\n      <td>False</td>\n      <td>False</td>\n      <td>False</td>\n      <td>False</td>\n      <td>False</td>\n      <td>False</td>\n      <td>False</td>\n      <td>True</td>\n    </tr>\n    <tr>\n      <th>2</th>\n      <td>2</td>\n      <td>502996</td>\n      <td>2015-01-28</td>\n      <td>1</td>\n      <td>37</td>\n      <td>2012-08-10</td>\n      <td>N</td>\n      <td>0.0</td>\n      <td>35</td>\n      <td>1.0</td>\n      <td>...</td>\n      <td>False</td>\n      <td>False</td>\n      <td>False</td>\n      <td>False</td>\n      <td>False</td>\n      <td>False</td>\n      <td>False</td>\n      <td>False</td>\n      <td>False</td>\n      <td>False</td>\n    </tr>\n    <tr>\n      <th>3</th>\n      <td>3</td>\n      <td>503053</td>\n      <td>2015-01-28</td>\n      <td>0</td>\n      <td>23</td>\n      <td>2012-08-10</td>\n      <td>N</td>\n      <td>0.0</td>\n      <td>35</td>\n      <td>1.0</td>\n      <td>...</td>\n      <td>False</td>\n      <td>False</td>\n      <td>False</td>\n      <td>False</td>\n      <td>False</td>\n      <td>False</td>\n      <td>False</td>\n      <td>False</td>\n      <td>False</td>\n      <td>False</td>\n    </tr>\n    <tr>\n      <th>4</th>\n      <td>4</td>\n      <td>503031</td>\n      <td>2015-01-28</td>\n      <td>0</td>\n      <td>44</td>\n      <td>2012-08-10</td>\n      <td>N</td>\n      <td>0.0</td>\n      <td>35</td>\n      <td>1.0</td>\n      <td>...</td>\n      <td>False</td>\n      <td>False</td>\n      <td>False</td>\n      <td>False</td>\n      <td>False</td>\n      <td>False</td>\n      <td>False</td>\n      <td>False</td>\n      <td>False</td>\n      <td>False</td>\n    </tr>\n  </tbody>\n</table>\n<p>5 rows × 90 columns</p>\n</div>"
     },
     "execution_count": 1289,
     "metadata": {},
     "output_type": "execute_result"
    }
   ],
   "source": [
    "dataset = pd.get_dummies(dataset, columns=['cod_provincia_grouped'])\n",
    "dataset.drop(columns=['cod_provincia'], inplace=True)\n",
    "dataset.head()"
   ],
   "metadata": {
    "collapsed": false,
    "ExecuteTime": {
     "end_time": "2024-06-09T00:49:37.155944Z",
     "start_time": "2024-06-09T00:49:35.813166600Z"
    }
   }
  },
  {
   "cell_type": "markdown",
   "source": [
    "#### xti_actividad_cliente\n",
    "\n",
    "Activity\tindex\t(1,\tactive\tcustomer;\t0,\tinactive\tcustomer)\n"
   ],
   "metadata": {
    "collapsed": false
   }
  },
  {
   "cell_type": "code",
   "execution_count": 1293,
   "outputs": [
    {
     "data": {
      "text/plain": "0"
     },
     "execution_count": 1293,
     "metadata": {},
     "output_type": "execute_result"
    }
   ],
   "source": [
    "dataset['xti_actividad_cliente'].isnull().sum()"
   ],
   "metadata": {
    "collapsed": false,
    "ExecuteTime": {
     "end_time": "2024-06-09T00:52:09.227183Z",
     "start_time": "2024-06-09T00:52:09.168738800Z"
    }
   }
  },
  {
   "cell_type": "code",
   "execution_count": 1290,
   "outputs": [
    {
     "data": {
      "text/plain": "xti_actividad_cliente\n0.0    343253\n1.0    291373\nName: count, dtype: int64"
     },
     "execution_count": 1290,
     "metadata": {},
     "output_type": "execute_result"
    }
   ],
   "source": [
    "dataset['xti_actividad_cliente'].value_counts()"
   ],
   "metadata": {
    "collapsed": false,
    "ExecuteTime": {
     "end_time": "2024-06-09T00:51:01.530793400Z",
     "start_time": "2024-06-09T00:51:01.427176300Z"
    }
   }
  },
  {
   "cell_type": "code",
   "execution_count": null,
   "outputs": [],
   "source": [
    "dataset['xti_actividad_cliente'] = dataset['xti_actividad_cliente'].astype(bool)"
   ],
   "metadata": {
    "collapsed": false
   }
  },
  {
   "cell_type": "code",
   "execution_count": 1292,
   "outputs": [
    {
     "data": {
      "text/plain": "xti_actividad_cliente\nFalse    343253\nTrue     291373\nName: count, dtype: int64"
     },
     "execution_count": 1292,
     "metadata": {},
     "output_type": "execute_result"
    }
   ],
   "source": [
    "dataset['xti_actividad_cliente'].value_counts()"
   ],
   "metadata": {
    "collapsed": false,
    "ExecuteTime": {
     "end_time": "2024-06-09T00:51:49.932472600Z",
     "start_time": "2024-06-09T00:51:49.805099700Z"
    }
   }
  },
  {
   "cell_type": "markdown",
   "source": [
    "#### id_segmento\n",
    "\n",
    "Segmentation:\t01\t- VIP,\t02\t- Individuals\t03\t- college\tgraduated\n"
   ],
   "metadata": {
    "collapsed": false
   }
  },
  {
   "cell_type": "code",
   "execution_count": 1294,
   "outputs": [
    {
     "data": {
      "text/plain": "7347"
     },
     "execution_count": 1294,
     "metadata": {},
     "output_type": "execute_result"
    }
   ],
   "source": [
    "dataset['id_segmento'].isnull().sum()"
   ],
   "metadata": {
    "collapsed": false,
    "ExecuteTime": {
     "end_time": "2024-06-09T00:54:38.592352900Z",
     "start_time": "2024-06-09T00:54:38.481457300Z"
    }
   }
  },
  {
   "cell_type": "code",
   "execution_count": null,
   "outputs": [],
   "source": [],
   "metadata": {
    "collapsed": false
   }
  },
  {
   "cell_type": "code",
   "execution_count": 1295,
   "outputs": [
    {
     "data": {
      "text/plain": "id_segmento\n02 - PARTICULARES     369955\n03 - UNIVERSITARIO    230740\n01 - TOP               26584\nName: count, dtype: int64"
     },
     "execution_count": 1295,
     "metadata": {},
     "output_type": "execute_result"
    }
   ],
   "source": [
    "dataset['id_segmento'].value_counts()"
   ],
   "metadata": {
    "collapsed": false,
    "ExecuteTime": {
     "end_time": "2024-06-09T00:54:44.323006400Z",
     "start_time": "2024-06-09T00:54:44.217739100Z"
    }
   }
  },
  {
   "cell_type": "code",
   "execution_count": null,
   "outputs": [],
   "source": [
    "dataset = pd.get_dummies(dataset, columns=['id_segmento'])"
   ],
   "metadata": {
    "collapsed": false
   }
  }
 ],
 "metadata": {
  "kernelspec": {
   "display_name": "Python 3 (ipykernel)",
   "language": "python",
   "name": "python3"
  },
  "language_info": {
   "codemirror_mode": {
    "name": "ipython",
    "version": 3
   },
   "file_extension": ".py",
   "mimetype": "text/x-python",
   "name": "python",
   "nbconvert_exporter": "python",
   "pygments_lexer": "ipython3",
   "version": "3.11.5"
  }
 },
 "nbformat": 4,
 "nbformat_minor": 4
}
