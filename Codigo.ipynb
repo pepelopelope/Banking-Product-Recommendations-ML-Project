{
 "cells": [
  {
   "cell_type": "markdown",
   "metadata": {},
   "source": "Cristobal Gomez y Pepe López "
  },
  {
   "cell_type": "markdown",
   "metadata": {},
   "source": "# Proyecto de predicción de contratación de productos para clientes de un banco"
  },
  {
   "cell_type": "markdown",
   "metadata": {},
   "source": [
    "## Importe de librerias"
   ]
  },
  {
   "cell_type": "code",
   "metadata": {
    "ExecuteTime": {
     "end_time": "2024-06-08T20:32:43.818880Z",
     "start_time": "2024-06-08T20:32:40.012004500Z"
    }
   },
   "source": [
    "import pandas as pd\n",
    "from sklearn.model_selection import train_test_split\n",
    "from sklearn.ensemble import RandomForestClassifier\n",
    "from sklearn.metrics import average_precision_score\n",
    "import matplotlib.pyplot as plt\n",
    "import numpy as np\n",
    "from scoring import mapk, apk\n"
   ],
   "outputs": [
    {
     "ename": "ModuleNotFoundError",
     "evalue": "No module named 'h2o'",
     "output_type": "error",
     "traceback": [
      "\u001B[1;31m---------------------------------------------------------------------------\u001B[0m",
      "\u001B[1;31mModuleNotFoundError\u001B[0m                       Traceback (most recent call last)",
      "Input \u001B[1;32mIn [1]\u001B[0m, in \u001B[0;36m<module>\u001B[1;34m\u001B[0m\n\u001B[0;32m      4\u001B[0m \u001B[38;5;28;01mfrom\u001B[39;00m \u001B[38;5;21;01msklearn\u001B[39;00m\u001B[38;5;21;01m.\u001B[39;00m\u001B[38;5;21;01mmetrics\u001B[39;00m \u001B[38;5;28;01mimport\u001B[39;00m average_precision_score\n\u001B[0;32m      5\u001B[0m \u001B[38;5;28;01mimport\u001B[39;00m \u001B[38;5;21;01mmatplotlib\u001B[39;00m\u001B[38;5;21;01m.\u001B[39;00m\u001B[38;5;21;01mpyplot\u001B[39;00m \u001B[38;5;28;01mas\u001B[39;00m \u001B[38;5;21;01mplt\u001B[39;00m\n\u001B[1;32m----> 6\u001B[0m \u001B[38;5;28;01mimport\u001B[39;00m \u001B[38;5;21;01mh2o\u001B[39;00m\n\u001B[0;32m      7\u001B[0m \u001B[38;5;28;01mfrom\u001B[39;00m \u001B[38;5;21;01mh2o\u001B[39;00m\u001B[38;5;21;01m.\u001B[39;00m\u001B[38;5;21;01mautoml\u001B[39;00m \u001B[38;5;28;01mimport\u001B[39;00m H2OAutoML\n\u001B[0;32m      8\u001B[0m \u001B[38;5;28;01mimport\u001B[39;00m \u001B[38;5;21;01mnumpy\u001B[39;00m \u001B[38;5;28;01mas\u001B[39;00m \u001B[38;5;21;01mnp\u001B[39;00m\n",
      "\u001B[1;31mModuleNotFoundError\u001B[0m: No module named 'h2o'"
     ]
    }
   ],
   "execution_count": 1
  },
  {
   "cell_type": "markdown",
   "metadata": {},
   "source": [
    "## 1. Importación y Exploración Inicial de los Datos\n"
   ]
  },
  {
   "cell_type": "markdown",
   "metadata": {},
   "source": [
    "### 1.1. Importación de los Datos"
   ]
  },
  {
   "cell_type": "code",
   "metadata": {
    "ExecuteTime": {
     "end_time": "2024-06-08T20:32:43.819886100Z",
     "start_time": "2024-06-08T20:32:43.819886100Z"
    }
   },
   "source": [
    "\n",
    "# Cargar datos\n",
    "dataset = pd.read_csv('dataset_para_modelar.csv')"
   ],
   "outputs": [],
   "execution_count": null
  },
  {
   "cell_type": "markdown",
   "metadata": {},
   "source": [
    "### 1.2. Exploración Inicial\n"
   ]
  },
  {
   "cell_type": "markdown",
   "metadata": {},
   "source": [
    "Mostrar información básica del dataset\n"
   ]
  },
  {
   "cell_type": "code",
   "metadata": {
    "ExecuteTime": {
     "end_time": "2024-06-08T20:32:44.126708900Z",
     "start_time": "2024-06-08T20:32:43.823910300Z"
    }
   },
   "source": [
    "dataset.info()\n"
   ],
   "outputs": [],
   "execution_count": null
  },
  {
   "cell_type": "markdown",
   "metadata": {},
   "source": [
    "Descripcion de las principales metricas de cada variable"
   ]
  },
  {
   "cell_type": "code",
   "metadata": {
    "ExecuteTime": {
     "start_time": "2024-06-08T20:32:43.829088800Z"
    }
   },
   "source": [
    "dataset.describe()\n"
   ],
   "outputs": [],
   "execution_count": null
  },
  {
   "cell_type": "markdown",
   "metadata": {},
   "source": [
    "Primera visualizacion de las variables"
   ]
  },
  {
   "cell_type": "code",
   "metadata": {
    "ExecuteTime": {
     "start_time": "2024-06-08T20:32:43.833090200Z"
    }
   },
   "source": "dataset.head(10)",
   "outputs": [],
   "execution_count": null
  },
  {
   "cell_type": "markdown",
   "metadata": {},
   "source": [
    "## 2. Limpieza de Datos\n"
   ]
  },
  {
   "metadata": {
    "ExecuteTime": {
     "start_time": "2024-06-08T20:32:43.836086200Z"
    }
   },
   "cell_type": "code",
   "source": "dataset.columns",
   "outputs": [],
   "execution_count": null
  },
  {
   "metadata": {},
   "cell_type": "markdown",
   "source": ""
  },
  {
   "metadata": {},
   "cell_type": "markdown",
   "source": "### Unnamed: 0"
  },
  {
   "metadata": {
    "ExecuteTime": {
     "start_time": "2024-06-08T20:32:43.840622400Z"
    }
   },
   "cell_type": "code",
   "source": [
    "#Ver tipo \n",
    "print(dataset['Unnamed: 0'].dtypes)\n",
    "#Recuento de clases \n",
    "print(dataset['Unnamed: 0'].value_counts())\n",
    "#Recuento de nulos\n",
    "print(dataset['Unnamed: 0'].isnull().sum())\n",
    "#Ver distribucion\n",
    "# plt.hist(dataset['Unnamed: 0']) Es un indice que no tiene distribiucion \n",
    "#Imputar nulos"
   ],
   "outputs": [],
   "execution_count": null
  },
  {
   "metadata": {},
   "cell_type": "markdown",
   "source": "### Cod_persona\n"
  },
  {
   "metadata": {
    "ExecuteTime": {
     "start_time": "2024-06-08T20:32:43.845597800Z"
    }
   },
   "cell_type": "code",
   "source": [
    "#dataset[cod_persona]=503082 y ordenarlo por fecha1:\n",
    "\n",
    "#Ejemplo de una persona\n",
    "dataset[dataset['cod_persona']==504546].sort_values(by='fecha1') # Dataset compuesto por la evolucion de contrataciones de productos de una persona a lo largo del tiempo"
   ],
   "outputs": [],
   "execution_count": null
  },
  {
   "metadata": {
    "ExecuteTime": {
     "start_time": "2024-06-08T20:32:43.848101300Z"
    }
   },
   "cell_type": "code",
   "source": [
    "# Agrupar por 'cod_persona' y contar el número de registros para cada persona\n",
    "conteo_registros = dataset.groupby('cod_persona').size().reset_index(name='num_registros')\n",
    "\n",
    "# Filtrar para encontrar las personas con solo un registro\n",
    "personas_con_un_registro = conteo_registros[conteo_registros['num_registros'] == 1]\n",
    "\n",
    "# Contar el número de personas con solo un registro\n",
    "num_personas_con_un_registro = personas_con_un_registro.shape[0]\n",
    "\n",
    "print(num_personas_con_un_registro)"
   ],
   "outputs": [],
   "execution_count": null
  },
  {
   "metadata": {},
   "cell_type": "markdown",
   "source": "Se encuentran personas con un solo registro, lo que puede ser un problema predecir un solo registro sin un historico de contrataciones. No se eliminan los registros, ya que se considera que a pesar de tener un solo registro ese estado puede contener variables muy indicativas de compras de un producto nuevo la siguiente mensualidad."
  },
  {
   "metadata": {
    "ExecuteTime": {
     "start_time": "2024-06-08T20:32:43.853114900Z"
    }
   },
   "cell_type": "code",
   "source": [
    "# Verificar si hay valores nulos en 'cod_persona'\n",
    "print(dataset['cod_persona'].isnull().sum())"
   ],
   "outputs": [],
   "execution_count": null
  },
  {
   "metadata": {},
   "cell_type": "markdown",
   "source": "### mes"
  },
  {
   "metadata": {
    "ExecuteTime": {
     "start_time": "2024-06-08T20:32:43.859201500Z"
    }
   },
   "cell_type": "code",
   "source": [
    "# Paso la columna 'mes' a datetime\n",
    "dataset['mes'] = pd.to_datetime(dataset['mes'], format='%Y-%m-%d')\n",
    "#Recuento de nulos:\n",
    "print(dataset['mes'].isnull().sum())"
   ],
   "outputs": [],
   "execution_count": null
  },
  {
   "metadata": {
    "ExecuteTime": {
     "start_time": "2024-06-08T20:32:43.864207700Z"
    }
   },
   "cell_type": "code",
   "source": [
    "#Extraemos las caracteristicas de mes, dia y año:\n",
    "dataset['mes_mes']=dataset['mes'].dt.month\n",
    "dataset['mes_año']=dataset['mes'].dt.year"
   ],
   "outputs": [],
   "execution_count": null
  },
  {
   "metadata": {
    "ExecuteTime": {
     "start_time": "2024-06-08T20:32:43.868209300Z"
    }
   },
   "cell_type": "code",
   "source": [
    "#Se estudia el numero de registros por mes y año para ver el balanceo de clases:\n",
    "print(dataset.groupby(['mes_mes', 'mes_año']).size())"
   ],
   "outputs": [],
   "execution_count": null
  },
  {
   "metadata": {},
   "cell_type": "markdown",
   "source": [
    "Se observa que el dataset esta balanceado en cuanto a la cantidad de registros por mes y año.\n",
    "Se observa que el historico acaba en abril de 2016."
   ]
  },
  {
   "metadata": {},
   "cell_type": "markdown",
   "source": "### pais"
  },
  {
   "metadata": {
    "ExecuteTime": {
     "start_time": "2024-06-08T20:32:43.872259300Z"
    }
   },
   "cell_type": "code",
   "source": "print(dataset['pais'].value_counts())\n",
   "outputs": [],
   "execution_count": null
  },
  {
   "metadata": {},
   "cell_type": "markdown",
   "source": "Se observa como la mayoría de los registros son de España, resultando el resto de paises en cifras no significativas. Se podría considerar la posibilidad de agrupar los paises con menos registros en un grupo llamado \"Otros\" para reducir la dimensionalidad de la variable y se mapea a 0-1. "
  },
  {
   "metadata": {
    "ExecuteTime": {
     "start_time": "2024-06-08T20:32:43.875266200Z"
    }
   },
   "cell_type": "code",
   "source": [
    "# Crear un diccionario de mapeo para agrupar los países\n",
    "#Si pais es España el valor de la columna pais_es será 1, sino 0:\n",
    "dataset['pais_binario'] = dataset['pais'].apply(lambda x: 1 if x == 'ES' else 0)\n",
    "dataset.drop(columns=['pais'], inplace=True)\n",
    "dataset['pais_binario'].value_counts()"
   ],
   "outputs": [],
   "execution_count": null
  },
  {
   "metadata": {
    "ExecuteTime": {
     "start_time": "2024-06-08T20:32:43.879768800Z"
    }
   },
   "cell_type": "code",
   "source": "dataset['pais_binario'].isnull().sum() #No hay valores nulos",
   "outputs": [],
   "execution_count": null
  },
  {
   "metadata": {},
   "cell_type": "markdown",
   "source": "### sexo"
  },
  {
   "metadata": {
    "ExecuteTime": {
     "start_time": "2024-06-08T20:32:43.882776600Z"
    }
   },
   "cell_type": "code",
   "source": "dataset['sexo'].isnull().sum()",
   "outputs": [],
   "execution_count": null
  },
  {
   "metadata": {
    "ExecuteTime": {
     "start_time": "2024-06-08T20:32:43.886773400Z"
    }
   },
   "cell_type": "code",
   "source": "dataset[dataset['cod_persona']==170635]",
   "outputs": [],
   "execution_count": null
  },
  {
   "metadata": {},
   "cell_type": "markdown",
   "source": "Se observan que hay valores nulos en la columna 'sexo' que no en todos los registros de la misma persona son nulos. Suponiendo que el sexo de una persona no puede cambiar en el tiempo, se decide rellenar los valores nulos con el valor que tiene para otros registros."
  },
  {
   "metadata": {
    "ExecuteTime": {
     "start_time": "2024-06-08T20:32:43.893323100Z"
    }
   },
   "cell_type": "code",
   "source": [
    "# Calcular el número de registros por 'cod_persona'\n",
    "num_registros_por_persona = dataset.groupby('cod_persona').size().reset_index(name='total_registros')\n",
    "\n",
    "# Calcular el número de valores nulos en la columna 'sexo' por cada 'cod_persona'\n",
    "num_nulos_por_persona = dataset.groupby('cod_persona')['sexo'].apply(lambda x: x.isnull().sum()).reset_index(name='num_nulos')\n",
    "\n",
    "# Unir la información de los nulos y el total de registros al dataset original\n",
    "info_completa = num_registros_por_persona.merge(num_nulos_por_persona, on='cod_persona')\n",
    "\n",
    "# Filtrar para encontrar las personas donde el número de nulos es igual al número de registros\n",
    "personas_con_todos_nulos = info_completa[info_completa['total_registros'] == info_completa['num_nulos']]\n",
    "\n",
    "# Mostrar el resultado\n",
    "print(personas_con_todos_nulos)"
   ],
   "outputs": [],
   "execution_count": null
  },
  {
   "metadata": {
    "ExecuteTime": {
     "start_time": "2024-06-08T20:32:43.898319300Z"
    }
   },
   "cell_type": "code",
   "source": "dataset['sexo'].value_counts()\n",
   "outputs": [],
   "execution_count": null
  },
  {
   "metadata": {
    "ExecuteTime": {
     "start_time": "2024-06-08T20:32:43.903461700Z"
    }
   },
   "cell_type": "code",
   "source": [
    "# Crear un diccionario de mapeo para asignar números a cada género\n",
    "mapping_sex = {'V': 1, 'H': 0}\n",
    "\n",
    "# Aplicar el mapeo a la columna 'customer_sex'\n",
    "dataset['sexo'] = dataset['sexo'].map(mapping_sex)"
   ],
   "outputs": [],
   "execution_count": null
  },
  {
   "metadata": {
    "ExecuteTime": {
     "start_time": "2024-06-08T20:32:43.909389Z"
    }
   },
   "cell_type": "code",
   "source": "dataset['sexo'].value_counts()\n",
   "outputs": [],
   "execution_count": null
  },
  {
   "metadata": {},
   "cell_type": "markdown",
   "source": "#### Ind_proc23 y Ind_prod22"
  },
  {
   "cell_type": "code",
   "metadata": {
    "ExecuteTime": {
     "start_time": "2024-06-08T20:32:43.915387200Z"
    }
   },
   "source": "dataset[['ind_prod23', 'ind_prod22']].astype('Int64')\n",
   "outputs": [],
   "execution_count": null
  },
  {
   "metadata": {},
   "cell_type": "markdown",
   "source": "#### xti_extra"
  },
  {
   "cell_type": "code",
   "metadata": {
    "ExecuteTime": {
     "start_time": "2024-06-08T20:32:43.919905200Z"
    }
   },
   "source": [
    "print(dataset['xti_extra'].value_counts()) #Casi todas las personas se consideran que estan vivas por lo que no aporta informacion y decide borrarse a las muertas\n",
    "print(dataset['xti_extra'].isnull().sum()) #56 valores nulos."
   ],
   "outputs": [],
   "execution_count": null
  },
  {
   "cell_type": "code",
   "metadata": {
    "ExecuteTime": {
     "start_time": "2024-06-08T20:32:43.925942900Z"
    }
   },
   "source": [
    "print(dataset['tip_dom'].value_counts()) #Todas las personas tienen un domicilio particular por lo que no aporta informacion"
   ],
   "outputs": [],
   "execution_count": null
  },
  {
   "cell_type": "code",
   "metadata": {
    "ExecuteTime": {
     "start_time": "2024-06-08T20:32:43.929975900Z"
    }
   },
   "source": [
    "print(dataset['Unnamed: 0'].value_counts()) # No aporta información por lo que son las filas que se han añadido al cargar el dataset"
   ],
   "outputs": [],
   "execution_count": null
  },
  {
   "cell_type": "code",
   "metadata": {
    "ExecuteTime": {
     "start_time": "2024-06-08T20:32:43.933014400Z"
    }
   },
   "source": [
    "\n",
    "# Eliminar columnas innecesarias\n",
    "columns_to_drop = ['Unnamed: 0', 'xti_extra', 'tip_dom']\n",
    "\n",
    "# Unnamed la elimino porque es un índice que se ha guardado en el csv\n",
    "# xti_extra la elimino porque es una variable que no aporta información ya que la mayoría de los registros son personas vivas\n",
    "# tip_dom la elimino porque es una variable que no aporta información ya que no aporta informacion, todas son 1\n",
    "\n",
    "dataset.drop(columns=columns_to_drop, inplace=True)\n"
   ],
   "outputs": [],
   "execution_count": null
  },
  {
   "cell_type": "code",
   "metadata": {
    "ExecuteTime": {
     "start_time": "2024-06-08T20:32:43.936981500Z"
    }
   },
   "source": [
    "dataset['pais'].value_counts()\n"
   ],
   "outputs": [],
   "execution_count": null
  },
  {
   "cell_type": "markdown",
   "metadata": {},
   "source": [
    "Se observa como la mayoría de los registros son de España, resultando el resto de paises en cifras no significativas. Se podría considerar la posibilidad de agrupar los paises con menos registros en un grupo llamado \"Otros\" para reducir la dimensionalidad de la variable y se mapea a 0-1. "
   ]
  },
  {
   "cell_type": "code",
   "metadata": {
    "ExecuteTime": {
     "start_time": "2024-06-08T20:32:43.939502800Z"
    }
   },
   "source": [
    "# Crear un diccionario de mapeo para asignar números a cada género\n",
    "mapping_sex = {'V': 1, 'H': 0}\n",
    "\n",
    "# Aplicar el mapeo a la columna 'customer_sex'\n",
    "dataset['sexo'] = dataset['sexo'].map(mapping_sex)"
   ],
   "outputs": [],
   "execution_count": null
  },
  {
   "cell_type": "code",
   "metadata": {
    "ExecuteTime": {
     "start_time": "2024-06-08T20:32:43.943538700Z"
    }
   },
   "source": [
    "dataset['sexo'].value_counts()\n"
   ],
   "outputs": [],
   "execution_count": null
  },
  {
   "cell_type": "code",
   "metadata": {
    "ExecuteTime": {
     "start_time": "2024-06-08T20:32:43.946507700Z"
    }
   },
   "source": [
    "dataset['imp_renta'].max()"
   ],
   "outputs": [],
   "execution_count": null
  },
  {
   "cell_type": "code",
   "metadata": {
    "ExecuteTime": {
     "start_time": "2024-06-08T20:32:43.949022500Z"
    }
   },
   "source": [
    "dataset['imp_renta'].hist()\n",
    "plt.title('Distribución de imp_renta')\n",
    "plt.xlabel('Ingresos Brutos (imp_renta)')\n",
    "plt.ylabel('Frecuencia')\n",
    "plt.show()"
   ],
   "outputs": [],
   "execution_count": null
  },
  {
   "cell_type": "code",
   "metadata": {
    "ExecuteTime": {
     "start_time": "2024-06-08T20:32:43.953033100Z"
    }
   },
   "source": [
    "# Filtrar los valores extremos\n",
    "q_low = dataset['imp_renta'].quantile(0.01)\n",
    "q_high = dataset['imp_renta'].quantile(0.99)\n",
    "filtered_data = dataset[(dataset['imp_renta'] >= q_low) & (dataset['imp_renta'] <= q_high)]\n",
    "\n",
    "# Crear el histograma con los datos filtrados\n",
    "plt.figure(figsize=(10, 6))\n",
    "plt.hist(filtered_data['imp_renta'], color='blue', edgecolor='black')\n",
    "plt.title('Distribución de imp_renta (valores filtrados)')\n",
    "plt.xlabel('Ingresos Brutos (imp_renta)')\n",
    "plt.ylabel('Frecuencia')\n",
    "plt.show()"
   ],
   "outputs": [],
   "execution_count": null
  },
  {
   "cell_type": "markdown",
   "metadata": {},
   "source": [
    "Es una distribución completamente sesgada (right-skewed) donde los valores se concentran en la parte baja de la distribución.\n",
    "Podríamos considerar la posibilidad de aplicar una transformación logarítmica para reducir el sesgo y mejorar la distribución de los datos."
   ]
  },
  {
   "cell_type": "code",
   "metadata": {
    "ExecuteTime": {
     "start_time": "2024-06-08T20:32:43.956044300Z"
    }
   },
   "source": [
    "#Recuento de nulos por columna:\n",
    "dataset.isnull().sum().sort_values(ascending=False)"
   ],
   "outputs": [],
   "execution_count": null
  },
  {
   "cell_type": "code",
   "metadata": {
    "ExecuteTime": {
     "start_time": "2024-06-08T20:32:43.959540200Z"
    }
   },
   "source": [
    "##Notificamos que fec_ult_cli_1t tiene casi el 100% de los valores nulos, por lo que se elimina\n",
    "dataset.drop(columns=['fec_ult_cli_1t'], inplace=True)"
   ],
   "outputs": [],
   "execution_count": null
  },
  {
   "cell_type": "markdown",
   "metadata": {},
   "source": [
    "### xti_rel"
   ]
  },
  {
   "cell_type": "code",
   "metadata": {
    "ExecuteTime": {
     "start_time": "2024-06-08T20:32:43.961548300Z"
    }
   },
   "source": [
    "dataset['xti_rel'] = pd.to_numeric(dataset['xti_rel'], errors='coerce')\n",
    "dataset['xti_rel'].value_counts()\n"
   ],
   "outputs": [],
   "execution_count": null
  },
  {
   "cell_type": "code",
   "metadata": {
    "ExecuteTime": {
     "start_time": "2024-06-08T20:32:43.963545600Z"
    }
   },
   "source": [
    "dataset['xti_rel'].fillna(1, inplace=True)"
   ],
   "outputs": [],
   "execution_count": null
  },
  {
   "cell_type": "code",
   "metadata": {
    "ExecuteTime": {
     "start_time": "2024-06-08T20:32:43.965546100Z"
    }
   },
   "source": [
    "dataset['xti_rel'] = dataset['xti_rel'].apply(lambda x: 1 if x == 1 else 0)\n",
    "dataset['xti_rel'].value_counts()"
   ],
   "outputs": [],
   "execution_count": null
  },
  {
   "cell_type": "markdown",
   "metadata": {},
   "source": [
    "### xti_rel_1mes"
   ]
  },
  {
   "cell_type": "code",
   "metadata": {
    "ExecuteTime": {
     "start_time": "2024-06-08T20:32:43.968049400Z"
    }
   },
   "source": [
    "dataset['xti_rel_1mes'] = pd.to_numeric(dataset['xti_rel_1mes'], errors='coerce')\n"
   ],
   "outputs": [],
   "execution_count": null
  },
  {
   "cell_type": "code",
   "metadata": {
    "ExecuteTime": {
     "start_time": "2024-06-08T20:32:43.970055600Z"
    }
   },
   "source": [
    "dataset['xti_rel_1mes'].value_counts()"
   ],
   "outputs": [],
   "execution_count": null
  },
  {
   "cell_type": "code",
   "metadata": {
    "ExecuteTime": {
     "start_time": "2024-06-08T20:32:43.973058300Z"
    }
   },
   "source": [
    "dataset['xti_rel_1mes'] = dataset['xti_rel_1mes'].apply(lambda x: 1 if x == 1 else 0)\n",
    "dataset['xti_rel_1mes'].value_counts()"
   ],
   "outputs": [],
   "execution_count": null
  },
  {
   "cell_type": "markdown",
   "metadata": {},
   "source": [
    "Casi todos los valores son 1. "
   ]
  },
  {
   "cell_type": "markdown",
   "metadata": {},
   "source": [
    "## mean_engagement, tip_rel_1mes, "
   ]
  },
  {
   "cell_type": "code",
   "metadata": {
    "ExecuteTime": {
     "start_time": "2024-06-08T20:32:43.975059300Z"
    }
   },
   "source": [
    "dataset['mean_engagement'].value_counts()\n"
   ],
   "outputs": [],
   "execution_count": null
  },
  {
   "cell_type": "code",
   "metadata": {
    "ExecuteTime": {
     "start_time": "2024-06-08T20:32:43.978059800Z"
    }
   },
   "source": [
    "dataset['tip_rel_1mes'].value_counts()"
   ],
   "outputs": [],
   "execution_count": null
  },
  {
   "cell_type": "markdown",
   "metadata": {},
   "source": [
    "\n",
    "### xti_empleado\n",
    "lo consideramos como una variable binaria porque casi todos los valores se concentran en N"
   ]
  },
  {
   "cell_type": "code",
   "metadata": {
    "ExecuteTime": {
     "start_time": "2024-06-08T20:32:43.980576500Z"
    }
   },
   "source": [
    "dataset['xti_empleado'].value_counts()\n"
   ],
   "outputs": [],
   "execution_count": null
  },
  {
   "cell_type": "code",
   "metadata": {
    "ExecuteTime": {
     "start_time": "2024-06-08T20:32:43.983581Z"
    }
   },
   "source": [
    "dataset['xti_empleado'] = dataset['xti_empleado'].apply(lambda x: 1 if x == 'N' else 0)\n",
    "dataset['xti_empleado'].value_counts()"
   ],
   "outputs": [],
   "execution_count": null
  },
  {
   "cell_type": "markdown",
   "metadata": {},
   "source": [
    "### num_antiguedad\n",
    "Comprobamos la variable num_antiguedad: "
   ]
  },
  {
   "cell_type": "code",
   "metadata": {
    "ExecuteTime": {
     "start_time": "2024-06-08T20:32:43.986582100Z"
    }
   },
   "source": [
    "dataset['num_antiguedad'] = pd.to_numeric(dataset['num_antiguedad'], errors='coerce')\n"
   ],
   "outputs": [],
   "execution_count": null
  },
  {
   "cell_type": "code",
   "metadata": {
    "ExecuteTime": {
     "start_time": "2024-06-08T20:32:43.989096800Z"
    }
   },
   "source": [
    "plt.figure(figsize=(10, 6))  # Create a figure with desired size\n",
    "plt.hist(dataset['num_antiguedad'], bins=10, color='blue', edgecolor='black')  \n",
    "\n",
    "plt.title('Distribución de antiguedad (valores filtrados)')  \n",
    "plt.xlabel('Meses de antiguedad')  \n",
    "plt.ylabel('Frecuencia')  \n",
    "\n",
    "plt.show()  "
   ],
   "outputs": [],
   "execution_count": null
  },
  {
   "cell_type": "markdown",
   "metadata": {},
   "source": []
  },
  {
   "cell_type": "code",
   "metadata": {
    "ExecuteTime": {
     "start_time": "2024-06-08T20:32:43.992126900Z"
    }
   },
   "source": [
    "pd.set_option('display.max_columns', None)\n",
    "print(dataset.head(5))"
   ],
   "outputs": [],
   "execution_count": null
  },
  {
   "cell_type": "code",
   "metadata": {
    "ExecuteTime": {
     "start_time": "2024-06-08T20:32:43.995103700Z"
    }
   },
   "source": [],
   "outputs": [],
   "execution_count": null
  },
  {
   "cell_type": "markdown",
   "metadata": {},
   "source": [
    "Calcular los valores de la moda y la mediana\n"
   ]
  },
  {
   "cell_type": "markdown",
   "metadata": {},
   "source": [
    "ESTO ES MIERDA! NO FUNCIONA"
   ]
  },
  {
   "cell_type": "code",
   "metadata": {
    "ExecuteTime": {
     "start_time": "2024-06-08T20:32:43.998626700Z"
    }
   },
   "source": [
    "most_frequent_xti_rel_1mes = dataset['xti_rel_1mes'].mode()[0]\n",
    "most_frequent_tip_rel_1mes = dataset['tip_rel_1mes'].mode()[0]\n",
    "median_engagement_score = dataset['mean_engagement'].median()"
   ],
   "outputs": [],
   "execution_count": null
  },
  {
   "cell_type": "markdown",
   "metadata": {},
   "source": [
    "Rellenar valores nulos con los valores calculados\n"
   ]
  },
  {
   "cell_type": "code",
   "metadata": {
    "ExecuteTime": {
     "start_time": "2024-06-08T20:32:44.002640800Z"
    }
   },
   "source": [
    "dataset['xti_rel_1mes'].fillna(most_frequent_xti_rel_1mes, inplace=True)\n",
    "dataset['tip_rel_1mes'].fillna(most_frequent_tip_rel_1mes, inplace=True)\n",
    "dataset['mean_engagement'].fillna(median_engagement_score, inplace=True)"
   ],
   "outputs": [],
   "execution_count": null
  },
  {
   "cell_type": "markdown",
   "metadata": {},
   "source": [
    "Reemplazar valores nulos en cod_provincia por 0\n"
   ]
  },
  {
   "cell_type": "code",
   "metadata": {
    "ExecuteTime": {
     "start_time": "2024-06-08T20:32:44.006151Z"
    }
   },
   "source": [
    "dataset['cod_provincia'].fillna(0, inplace=True)\n"
   ],
   "outputs": [],
   "execution_count": null
  },
  {
   "cell_type": "markdown",
   "metadata": {},
   "source": [
    "Convertir las provincias categóricas a números\n"
   ]
  },
  {
   "cell_type": "code",
   "metadata": {
    "ExecuteTime": {
     "start_time": "2024-06-08T20:32:44.008685200Z"
    }
   },
   "source": [
    "dataset['cod_provincia'] = dataset['cod_provincia'].astype('category').cat.codes"
   ],
   "outputs": [],
   "execution_count": null
  },
  {
   "cell_type": "code",
   "metadata": {
    "ExecuteTime": {
     "start_time": "2024-06-08T20:32:44.010690500Z"
    }
   },
   "source": [
    "# Limpiar datos\n",
    "dataset['edad'].fillna(dataset['edad'].mean(), inplace=True)\n",
    "#Rellenamos con la media porque se considera mas representativa \n",
    "# dataset['imp_renta'].fillna(dataset['imp_renta'].median(), inplace=True) \n",
    "#Rellenamos con mediana porque existen outliers muy elevados que sesgarian el valor si rellenamos con la media los valores faltantes \n",
    "\n",
    "\"\"\"\n",
    "Se añade el codigo para una visualizacion de la distribución logaritmica por si quisiera visualizarse\n",
    "\"\"\"\n",
    "# transformed_data = np.log1p(dataset['imp_renta'])  # log1p aplica log(1 + x) para manejar valores de 0\n",
    "# plt.hist(transformed_data)\n",
    "# plt.title('Distribución transformada de imp_renta (log)')\n",
    "# plt.xlabel('Log(imp_renta)')\n",
    "# plt.ylabel('Frecuencia')\n",
    "# plt.show()"
   ],
   "outputs": [],
   "execution_count": null
  },
  {
   "cell_type": "code",
   "metadata": {
    "ExecuteTime": {
     "start_time": "2024-06-08T20:32:44.013699300Z"
    }
   },
   "source": [
    "# Feature Engineering\n",
    "dataset['nueva_caracteristica'] = dataset['edad'] * dataset['imp_renta']\n",
    "\n",
    "# Verificar cambios\n",
    "print(dataset.head())"
   ],
   "outputs": [],
   "execution_count": null
  },
  {
   "cell_type": "code",
   "metadata": {
    "ExecuteTime": {
     "start_time": "2024-06-08T20:32:44.016718400Z"
    }
   },
   "source": [
    "# Convertir columnas con valores mixtos a numéricos\n",
    "dataset['num_antiguedad'] = pd.to_numeric(dataset['num_antiguedad'], errors='coerce')\n",
    "dataset['num_antiguedad'].fillna(dataset['num_antiguedad'].mean(), inplace=True)\n",
    "dataset['xti_rel_1mes'] = pd.to_numeric(dataset['xti_rel_1mes'], errors='coerce')\n",
    "dataset['xti_rel_1mes'].fillna(dataset['xti_rel_1mes'].mean(), inplace=True)\n",
    "\n",
    "# Convertir columnas categóricas en variables dummy\n",
    "categorical_columns = ['pais', 'sexo', 'xti_empleado', 'xti_rel', 'indresi', 'indext', 'des_canal', 'xti_extra', 'tip_rel_1mes']\n",
    "dataset = pd.get_dummies(dataset, columns=categorical_columns)\n",
    "\n",
    "\n",
    "\n",
    "dataset.columns"
   ],
   "outputs": [],
   "execution_count": null
  },
  {
   "cell_type": "code",
   "metadata": {
    "ExecuteTime": {
     "start_time": "2024-06-08T20:32:44.019231700Z"
    }
   },
   "source": [
    "\n",
    "# Verificar los cambios\n",
    "print(dataset.info())\n",
    "print(dataset.head())\n",
    "\n",
    "# Separar características y targets\n",
    "X = dataset.drop(columns=[f'ind_prod{i}' for i in range(1, 26)])\n",
    "y = dataset[[f'ind_prod{i}' for i in range(1, 26)]]\n",
    "\n",
    "# Dividir en conjuntos de entrenamiento y prueba\n",
    "X_train, X_test, y_train, y_test = train_test_split(X, y, test_size=0.2, random_state=42)\n"
   ],
   "outputs": [],
   "execution_count": null
  },
  {
   "cell_type": "code",
   "metadata": {
    "ExecuteTime": {
     "start_time": "2024-06-08T20:32:44.022248500Z"
    }
   },
   "source": [
    "\n",
    "# Entrenar el modelo\n",
    "modelo = RandomForestClassifier()\n",
    "modelo.fit(X_train, y_train)\n",
    "\n",
    "# Generar predicciones\n",
    "predicciones = modelo.predict(X_test)\n",
    "\n",
    "# Convertir predicciones y valores reales a listas de listas para MAP@7\n",
    "y_test_list = [list(np.where(row == 1)[0] + 1) for row in y_test.values]\n",
    "predicciones_list = [list(np.argsort(row)[-7:][::-1] + 1) for row in predicciones]\n",
    "\n",
    "# Calcular MAP@7\n",
    "score = mapk(y_test_list, predicciones_list, 7)\n",
    "print(f'MAP@7 Score: {score}')"
   ],
   "outputs": [],
   "execution_count": null
  }
 ],
 "metadata": {
  "kernelspec": {
   "display_name": "Python 3 (ipykernel)",
   "language": "python",
   "name": "python3"
  },
  "language_info": {
   "codemirror_mode": {
    "name": "ipython",
    "version": 3
   },
   "file_extension": ".py",
   "mimetype": "text/x-python",
   "name": "python",
   "nbconvert_exporter": "python",
   "pygments_lexer": "ipython3",
   "version": "3.11.5"
  }
 },
 "nbformat": 4,
 "nbformat_minor": 4
}
