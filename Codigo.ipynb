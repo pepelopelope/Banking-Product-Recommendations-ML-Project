{
 "cells": [
  {
   "cell_type": "markdown",
   "metadata": {},
   "source": [
    "Cristobal Gomez y Pepe López "
   ]
  },
  {
   "cell_type": "markdown",
   "metadata": {},
   "source": [
    "# Proyecto de predicción de contratación de productos para clientes de un banco"
   ]
  },
  {
   "cell_type": "markdown",
   "metadata": {},
   "source": [
    "## Importe de librerias"
   ]
  },
  {
   "cell_type": "code",
   "execution_count": 245,
   "metadata": {
    "ExecuteTime": {
     "end_time": "2024-06-09T14:14:18.463587800Z",
     "start_time": "2024-06-09T14:14:15.925067200Z"
    }
   },
   "outputs": [],
   "source": [
    "import pandas as pd\n",
    "from sklearn.model_selection import train_test_split\n",
    "from sklearn.ensemble import RandomForestClassifier\n",
    "from sklearn.metrics import average_precision_score\n",
    "import matplotlib.pyplot as plt\n",
    "import numpy as np\n",
    "from sklearn.experimental import enable_iterative_imputer  # noqa\n",
    "from sklearn.impute import IterativeImputer\n",
    "from xgboost import XGBRegressor\n",
    "from scoring import mapk, apk\n"
   ]
  },
  {
   "cell_type": "markdown",
   "metadata": {},
   "source": [
    "## 1. Importación y Exploración Inicial de los Datos\n"
   ]
  },
  {
   "cell_type": "markdown",
   "metadata": {},
   "source": [
    "### 1.1. Importación de los Datos"
   ]
  },
  {
   "cell_type": "code",
   "execution_count": 246,
   "metadata": {
    "ExecuteTime": {
     "end_time": "2024-06-09T14:14:20.847217200Z",
     "start_time": "2024-06-09T14:14:18.461537700Z"
    }
   },
   "outputs": [
    {
     "name": "stderr",
     "output_type": "stream",
     "text": [
      "C:\\Users\\pepei\\AppData\\Local\\Temp\\ipykernel_14192\\3588369538.py:2: DtypeWarning: Columns (5,9,11) have mixed types. Specify dtype option on import or set low_memory=False.\n",
      "  dataset = pd.read_csv('dataset_para_modelar.csv')\n"
     ]
    }
   ],
   "source": [
    "# Cargar datos\n",
    "dataset = pd.read_csv('dataset_para_modelar.csv')"
   ]
  },
  {
   "cell_type": "markdown",
   "metadata": {},
   "source": [
    "### 1.2. Exploración Inicial\n"
   ]
  },
  {
   "cell_type": "markdown",
   "metadata": {},
   "source": [
    "Mostrar información básica del dataset\n"
   ]
  },
  {
   "cell_type": "code",
   "execution_count": 247,
   "metadata": {
    "ExecuteTime": {
     "end_time": "2024-06-09T14:14:21.078548400Z",
     "start_time": "2024-06-09T14:14:20.775225600Z"
    }
   },
   "outputs": [
    {
     "name": "stdout",
     "output_type": "stream",
     "text": [
      "<class 'pandas.core.frame.DataFrame'>\n",
      "RangeIndex: 634682 entries, 0 to 634681\n",
      "Data columns (total 49 columns):\n",
      " #   Column                 Non-Null Count   Dtype  \n",
      "---  ------                 --------------   -----  \n",
      " 0   Unnamed: 0             634682 non-null  int64  \n",
      " 1   cod_persona            634682 non-null  int64  \n",
      " 2   mes                    634682 non-null  object \n",
      " 3   pais                   634626 non-null  object \n",
      " 4   sexo                   634617 non-null  object \n",
      " 5   edad                   634682 non-null  object \n",
      " 6   fecha1                 634626 non-null  object \n",
      " 7   xti_empleado           634626 non-null  object \n",
      " 8   xti_nuevo_cliente      634626 non-null  float64\n",
      " 9   num_antiguedad         634682 non-null  object \n",
      " 10  xti_rel                634626 non-null  float64\n",
      " 11  fec_ult_cli_1t         36 non-null      object \n",
      " 12  xti_rel_1mes           629040 non-null  float64\n",
      " 13  tip_rel_1mes           629040 non-null  object \n",
      " 14  indresi                634626 non-null  object \n",
      " 15  indext                 634626 non-null  object \n",
      " 16  des_canal              627504 non-null  object \n",
      " 17  xti_extra              634626 non-null  object \n",
      " 18  tip_dom                634626 non-null  float64\n",
      " 19  cod_provincia          631736 non-null  float64\n",
      " 20  xti_actividad_cliente  634626 non-null  float64\n",
      " 21  imp_renta              510518 non-null  float64\n",
      " 22  id_segmento            627279 non-null  object \n",
      " 23  mean_engagement        629040 non-null  float64\n",
      " 24  ind_prod1              634682 non-null  int64  \n",
      " 25  ind_prod2              634682 non-null  int64  \n",
      " 26  ind_prod3              634682 non-null  int64  \n",
      " 27  ind_prod4              634682 non-null  int64  \n",
      " 28  ind_prod5              634682 non-null  int64  \n",
      " 29  ind_prod6              634682 non-null  int64  \n",
      " 30  ind_prod7              634682 non-null  int64  \n",
      " 31  ind_prod8              634682 non-null  int64  \n",
      " 32  ind_prod9              634682 non-null  int64  \n",
      " 33  ind_prod10             634682 non-null  int64  \n",
      " 34  ind_prod11             634682 non-null  int64  \n",
      " 35  ind_prod12             634682 non-null  int64  \n",
      " 36  ind_prod13             634682 non-null  int64  \n",
      " 37  ind_prod14             634682 non-null  int64  \n",
      " 38  ind_prod15             634682 non-null  int64  \n",
      " 39  ind_prod16             634682 non-null  int64  \n",
      " 40  ind_prod17             634682 non-null  int64  \n",
      " 41  ind_prod18             634682 non-null  int64  \n",
      " 42  ind_prod19             634682 non-null  int64  \n",
      " 43  ind_prod20             634682 non-null  int64  \n",
      " 44  ind_prod21             634682 non-null  int64  \n",
      " 45  ind_prod22             634651 non-null  float64\n",
      " 46  ind_prod23             634651 non-null  float64\n",
      " 47  ind_prod24             634682 non-null  int64  \n",
      " 48  ind_prod25             634682 non-null  int64  \n",
      "dtypes: float64(10), int64(25), object(14)\n",
      "memory usage: 237.3+ MB\n"
     ]
    }
   ],
   "source": [
    "dataset.info()"
   ]
  },
  {
   "cell_type": "markdown",
   "metadata": {},
   "source": [
    "Descripcion de las principales metricas de cada variable"
   ]
  },
  {
   "cell_type": "code",
   "execution_count": 248,
   "metadata": {
    "ExecuteTime": {
     "end_time": "2024-06-09T14:14:21.905602400Z",
     "start_time": "2024-06-09T14:14:21.069032900Z"
    }
   },
   "outputs": [
    {
     "data": {
      "text/plain": "          Unnamed: 0   cod_persona  xti_nuevo_cliente        xti_rel  \\\ncount  634682.000000  6.346820e+05      634626.000000  634626.000000   \nmean   321920.356254  7.217769e+05           0.059846       1.005559   \nstd    185232.719038  4.290892e+05           0.237202       0.738085   \nmin         0.000000  5.514000e+03           0.000000       1.000000   \n25%    161691.250000  3.584120e+05           0.000000       1.000000   \n50%    322352.500000  6.230450e+05           0.000000       1.000000   \n75%    482540.750000  1.102693e+06           0.000000       1.000000   \nmax    641706.000000  1.537800e+06           1.000000      99.000000   \n\n        xti_rel_1mes   tip_dom  cod_provincia  xti_actividad_cliente  \\\ncount  629040.000000  634626.0  631736.000000          634626.000000   \nmean        1.000587       1.0      26.598741               0.459126   \nstd         0.036560       0.0      12.777667               0.498327   \nmin         0.000000       1.0       1.000000               0.000000   \n25%         1.000000       1.0      15.000000               0.000000   \n50%         1.000000       1.0      28.000000               0.000000   \n75%         1.000000       1.0      35.000000               1.000000   \nmax         4.000000       1.0      52.000000               1.000000   \n\n          imp_renta  mean_engagement  ...     ind_prod16     ind_prod17  \\\ncount  5.105180e+05    629040.000000  ...  634682.000000  634682.000000   \nmean   1.367071e+05         6.425623  ...       0.009263       0.002718   \nstd    3.339545e+05         1.345879  ...       0.095797       0.052063   \nmin    4.559550e+03         0.218520  ...       0.000000       0.000000   \n25%    6.821148e+04         5.117500  ...       0.000000       0.000000   \n50%    1.012905e+05         6.463518  ...       0.000000       0.000000   \n75%    1.566742e+05         7.359949  ...       0.000000       0.000000   \nmax    2.889440e+07        38.793123  ...       1.000000       1.000000   \n\n          ind_prod18     ind_prod19     ind_prod20     ind_prod21  \\\ncount  634682.000000  634682.000000  634682.000000  634682.000000   \nmean        0.053576       0.045505       0.026503       0.003756   \nstd         0.225180       0.208408       0.160626       0.061173   \nmin         0.000000       0.000000       0.000000       0.000000   \n25%         0.000000       0.000000       0.000000       0.000000   \n50%         0.000000       0.000000       0.000000       0.000000   \n75%         0.000000       0.000000       0.000000       0.000000   \nmax         1.000000       1.000000       1.000000       1.000000   \n\n          ind_prod22     ind_prod23     ind_prod24     ind_prod25  \ncount  634651.000000  634651.000000  634682.000000  634682.000000  \nmean        0.055561       0.060295       0.128827       0.065876  \nstd         0.229073       0.238032       0.335008       0.248065  \nmin         0.000000       0.000000       0.000000       0.000000  \n25%         0.000000       0.000000       0.000000       0.000000  \n50%         0.000000       0.000000       0.000000       0.000000  \n75%         0.000000       0.000000       0.000000       0.000000  \nmax         1.000000       1.000000       1.000000       1.000000  \n\n[8 rows x 35 columns]",
      "text/html": "<div>\n<style scoped>\n    .dataframe tbody tr th:only-of-type {\n        vertical-align: middle;\n    }\n\n    .dataframe tbody tr th {\n        vertical-align: top;\n    }\n\n    .dataframe thead th {\n        text-align: right;\n    }\n</style>\n<table border=\"1\" class=\"dataframe\">\n  <thead>\n    <tr style=\"text-align: right;\">\n      <th></th>\n      <th>Unnamed: 0</th>\n      <th>cod_persona</th>\n      <th>xti_nuevo_cliente</th>\n      <th>xti_rel</th>\n      <th>xti_rel_1mes</th>\n      <th>tip_dom</th>\n      <th>cod_provincia</th>\n      <th>xti_actividad_cliente</th>\n      <th>imp_renta</th>\n      <th>mean_engagement</th>\n      <th>...</th>\n      <th>ind_prod16</th>\n      <th>ind_prod17</th>\n      <th>ind_prod18</th>\n      <th>ind_prod19</th>\n      <th>ind_prod20</th>\n      <th>ind_prod21</th>\n      <th>ind_prod22</th>\n      <th>ind_prod23</th>\n      <th>ind_prod24</th>\n      <th>ind_prod25</th>\n    </tr>\n  </thead>\n  <tbody>\n    <tr>\n      <th>count</th>\n      <td>634682.000000</td>\n      <td>6.346820e+05</td>\n      <td>634626.000000</td>\n      <td>634626.000000</td>\n      <td>629040.000000</td>\n      <td>634626.0</td>\n      <td>631736.000000</td>\n      <td>634626.000000</td>\n      <td>5.105180e+05</td>\n      <td>629040.000000</td>\n      <td>...</td>\n      <td>634682.000000</td>\n      <td>634682.000000</td>\n      <td>634682.000000</td>\n      <td>634682.000000</td>\n      <td>634682.000000</td>\n      <td>634682.000000</td>\n      <td>634651.000000</td>\n      <td>634651.000000</td>\n      <td>634682.000000</td>\n      <td>634682.000000</td>\n    </tr>\n    <tr>\n      <th>mean</th>\n      <td>321920.356254</td>\n      <td>7.217769e+05</td>\n      <td>0.059846</td>\n      <td>1.005559</td>\n      <td>1.000587</td>\n      <td>1.0</td>\n      <td>26.598741</td>\n      <td>0.459126</td>\n      <td>1.367071e+05</td>\n      <td>6.425623</td>\n      <td>...</td>\n      <td>0.009263</td>\n      <td>0.002718</td>\n      <td>0.053576</td>\n      <td>0.045505</td>\n      <td>0.026503</td>\n      <td>0.003756</td>\n      <td>0.055561</td>\n      <td>0.060295</td>\n      <td>0.128827</td>\n      <td>0.065876</td>\n    </tr>\n    <tr>\n      <th>std</th>\n      <td>185232.719038</td>\n      <td>4.290892e+05</td>\n      <td>0.237202</td>\n      <td>0.738085</td>\n      <td>0.036560</td>\n      <td>0.0</td>\n      <td>12.777667</td>\n      <td>0.498327</td>\n      <td>3.339545e+05</td>\n      <td>1.345879</td>\n      <td>...</td>\n      <td>0.095797</td>\n      <td>0.052063</td>\n      <td>0.225180</td>\n      <td>0.208408</td>\n      <td>0.160626</td>\n      <td>0.061173</td>\n      <td>0.229073</td>\n      <td>0.238032</td>\n      <td>0.335008</td>\n      <td>0.248065</td>\n    </tr>\n    <tr>\n      <th>min</th>\n      <td>0.000000</td>\n      <td>5.514000e+03</td>\n      <td>0.000000</td>\n      <td>1.000000</td>\n      <td>0.000000</td>\n      <td>1.0</td>\n      <td>1.000000</td>\n      <td>0.000000</td>\n      <td>4.559550e+03</td>\n      <td>0.218520</td>\n      <td>...</td>\n      <td>0.000000</td>\n      <td>0.000000</td>\n      <td>0.000000</td>\n      <td>0.000000</td>\n      <td>0.000000</td>\n      <td>0.000000</td>\n      <td>0.000000</td>\n      <td>0.000000</td>\n      <td>0.000000</td>\n      <td>0.000000</td>\n    </tr>\n    <tr>\n      <th>25%</th>\n      <td>161691.250000</td>\n      <td>3.584120e+05</td>\n      <td>0.000000</td>\n      <td>1.000000</td>\n      <td>1.000000</td>\n      <td>1.0</td>\n      <td>15.000000</td>\n      <td>0.000000</td>\n      <td>6.821148e+04</td>\n      <td>5.117500</td>\n      <td>...</td>\n      <td>0.000000</td>\n      <td>0.000000</td>\n      <td>0.000000</td>\n      <td>0.000000</td>\n      <td>0.000000</td>\n      <td>0.000000</td>\n      <td>0.000000</td>\n      <td>0.000000</td>\n      <td>0.000000</td>\n      <td>0.000000</td>\n    </tr>\n    <tr>\n      <th>50%</th>\n      <td>322352.500000</td>\n      <td>6.230450e+05</td>\n      <td>0.000000</td>\n      <td>1.000000</td>\n      <td>1.000000</td>\n      <td>1.0</td>\n      <td>28.000000</td>\n      <td>0.000000</td>\n      <td>1.012905e+05</td>\n      <td>6.463518</td>\n      <td>...</td>\n      <td>0.000000</td>\n      <td>0.000000</td>\n      <td>0.000000</td>\n      <td>0.000000</td>\n      <td>0.000000</td>\n      <td>0.000000</td>\n      <td>0.000000</td>\n      <td>0.000000</td>\n      <td>0.000000</td>\n      <td>0.000000</td>\n    </tr>\n    <tr>\n      <th>75%</th>\n      <td>482540.750000</td>\n      <td>1.102693e+06</td>\n      <td>0.000000</td>\n      <td>1.000000</td>\n      <td>1.000000</td>\n      <td>1.0</td>\n      <td>35.000000</td>\n      <td>1.000000</td>\n      <td>1.566742e+05</td>\n      <td>7.359949</td>\n      <td>...</td>\n      <td>0.000000</td>\n      <td>0.000000</td>\n      <td>0.000000</td>\n      <td>0.000000</td>\n      <td>0.000000</td>\n      <td>0.000000</td>\n      <td>0.000000</td>\n      <td>0.000000</td>\n      <td>0.000000</td>\n      <td>0.000000</td>\n    </tr>\n    <tr>\n      <th>max</th>\n      <td>641706.000000</td>\n      <td>1.537800e+06</td>\n      <td>1.000000</td>\n      <td>99.000000</td>\n      <td>4.000000</td>\n      <td>1.0</td>\n      <td>52.000000</td>\n      <td>1.000000</td>\n      <td>2.889440e+07</td>\n      <td>38.793123</td>\n      <td>...</td>\n      <td>1.000000</td>\n      <td>1.000000</td>\n      <td>1.000000</td>\n      <td>1.000000</td>\n      <td>1.000000</td>\n      <td>1.000000</td>\n      <td>1.000000</td>\n      <td>1.000000</td>\n      <td>1.000000</td>\n      <td>1.000000</td>\n    </tr>\n  </tbody>\n</table>\n<p>8 rows × 35 columns</p>\n</div>"
     },
     "execution_count": 248,
     "metadata": {},
     "output_type": "execute_result"
    }
   ],
   "source": [
    "dataset.describe()"
   ]
  },
  {
   "cell_type": "markdown",
   "metadata": {},
   "source": [
    "Primera visualizacion de las variables"
   ]
  },
  {
   "cell_type": "code",
   "execution_count": 249,
   "metadata": {
    "ExecuteTime": {
     "end_time": "2024-06-09T14:14:22.029346200Z",
     "start_time": "2024-06-09T14:14:21.820817400Z"
    }
   },
   "outputs": [
    {
     "data": {
      "text/plain": "   Unnamed: 0  cod_persona         mes pais sexo edad      fecha1  \\\n0           0       178103  2015-01-28   ES    H   35  2015-01-12   \n1           1       503082  2015-01-28   ES    V   27  2012-08-10   \n2           2       502996  2015-01-28   ES    V   37  2012-08-10   \n3           3       503053  2015-01-28   ES    H   23  2012-08-10   \n4           4       503031  2015-01-28   ES    H   44  2012-08-10   \n5           5       503112  2015-01-28   ES    H   23  2012-08-10   \n6           6       503163  2015-01-28   ES    V   22  2012-08-10   \n7           7       503154  2015-01-28   ES    H   23  2012-08-10   \n8           8       503142  2015-01-28   ES    H   23  2012-08-10   \n9           9       502804  2015-01-28   ES    H   24  2012-08-10   \n\n  xti_empleado  xti_nuevo_cliente num_antiguedad  ...  ind_prod16 ind_prod17  \\\n0            N                0.0              6  ...           0          0   \n1            N                0.0             35  ...           0          0   \n2            N                0.0             35  ...           0          0   \n3            N                0.0             35  ...           0          0   \n4            N                0.0             35  ...           0          0   \n5            N                0.0             35  ...           0          0   \n6            N                0.0             35  ...           0          0   \n7            N                0.0             35  ...           0          0   \n8            N                0.0             35  ...           0          0   \n9            N                0.0             35  ...           0          0   \n\n   ind_prod18 ind_prod19 ind_prod20 ind_prod21 ind_prod22 ind_prod23  \\\n0           0          0          0          0        0.0        0.0   \n1           0          0          0          0        0.0        0.0   \n2           0          0          0          0        0.0        0.0   \n3           0          0          0          0        0.0        0.0   \n4           0          0          0          0        0.0        0.0   \n5           0          0          0          0        0.0        0.0   \n6           0          0          0          0        0.0        0.0   \n7           0          0          0          0        0.0        0.0   \n8           0          0          0          0        0.0        0.0   \n9           0          0          0          0        0.0        0.0   \n\n   ind_prod24  ind_prod25  \n0           0           0  \n1           0           0  \n2           0           0  \n3           1           0  \n4           0           0  \n5           0           0  \n6           0           0  \n7           0           0  \n8           0           0  \n9           0           0  \n\n[10 rows x 49 columns]",
      "text/html": "<div>\n<style scoped>\n    .dataframe tbody tr th:only-of-type {\n        vertical-align: middle;\n    }\n\n    .dataframe tbody tr th {\n        vertical-align: top;\n    }\n\n    .dataframe thead th {\n        text-align: right;\n    }\n</style>\n<table border=\"1\" class=\"dataframe\">\n  <thead>\n    <tr style=\"text-align: right;\">\n      <th></th>\n      <th>Unnamed: 0</th>\n      <th>cod_persona</th>\n      <th>mes</th>\n      <th>pais</th>\n      <th>sexo</th>\n      <th>edad</th>\n      <th>fecha1</th>\n      <th>xti_empleado</th>\n      <th>xti_nuevo_cliente</th>\n      <th>num_antiguedad</th>\n      <th>...</th>\n      <th>ind_prod16</th>\n      <th>ind_prod17</th>\n      <th>ind_prod18</th>\n      <th>ind_prod19</th>\n      <th>ind_prod20</th>\n      <th>ind_prod21</th>\n      <th>ind_prod22</th>\n      <th>ind_prod23</th>\n      <th>ind_prod24</th>\n      <th>ind_prod25</th>\n    </tr>\n  </thead>\n  <tbody>\n    <tr>\n      <th>0</th>\n      <td>0</td>\n      <td>178103</td>\n      <td>2015-01-28</td>\n      <td>ES</td>\n      <td>H</td>\n      <td>35</td>\n      <td>2015-01-12</td>\n      <td>N</td>\n      <td>0.0</td>\n      <td>6</td>\n      <td>...</td>\n      <td>0</td>\n      <td>0</td>\n      <td>0</td>\n      <td>0</td>\n      <td>0</td>\n      <td>0</td>\n      <td>0.0</td>\n      <td>0.0</td>\n      <td>0</td>\n      <td>0</td>\n    </tr>\n    <tr>\n      <th>1</th>\n      <td>1</td>\n      <td>503082</td>\n      <td>2015-01-28</td>\n      <td>ES</td>\n      <td>V</td>\n      <td>27</td>\n      <td>2012-08-10</td>\n      <td>N</td>\n      <td>0.0</td>\n      <td>35</td>\n      <td>...</td>\n      <td>0</td>\n      <td>0</td>\n      <td>0</td>\n      <td>0</td>\n      <td>0</td>\n      <td>0</td>\n      <td>0.0</td>\n      <td>0.0</td>\n      <td>0</td>\n      <td>0</td>\n    </tr>\n    <tr>\n      <th>2</th>\n      <td>2</td>\n      <td>502996</td>\n      <td>2015-01-28</td>\n      <td>ES</td>\n      <td>V</td>\n      <td>37</td>\n      <td>2012-08-10</td>\n      <td>N</td>\n      <td>0.0</td>\n      <td>35</td>\n      <td>...</td>\n      <td>0</td>\n      <td>0</td>\n      <td>0</td>\n      <td>0</td>\n      <td>0</td>\n      <td>0</td>\n      <td>0.0</td>\n      <td>0.0</td>\n      <td>0</td>\n      <td>0</td>\n    </tr>\n    <tr>\n      <th>3</th>\n      <td>3</td>\n      <td>503053</td>\n      <td>2015-01-28</td>\n      <td>ES</td>\n      <td>H</td>\n      <td>23</td>\n      <td>2012-08-10</td>\n      <td>N</td>\n      <td>0.0</td>\n      <td>35</td>\n      <td>...</td>\n      <td>0</td>\n      <td>0</td>\n      <td>0</td>\n      <td>0</td>\n      <td>0</td>\n      <td>0</td>\n      <td>0.0</td>\n      <td>0.0</td>\n      <td>1</td>\n      <td>0</td>\n    </tr>\n    <tr>\n      <th>4</th>\n      <td>4</td>\n      <td>503031</td>\n      <td>2015-01-28</td>\n      <td>ES</td>\n      <td>H</td>\n      <td>44</td>\n      <td>2012-08-10</td>\n      <td>N</td>\n      <td>0.0</td>\n      <td>35</td>\n      <td>...</td>\n      <td>0</td>\n      <td>0</td>\n      <td>0</td>\n      <td>0</td>\n      <td>0</td>\n      <td>0</td>\n      <td>0.0</td>\n      <td>0.0</td>\n      <td>0</td>\n      <td>0</td>\n    </tr>\n    <tr>\n      <th>5</th>\n      <td>5</td>\n      <td>503112</td>\n      <td>2015-01-28</td>\n      <td>ES</td>\n      <td>H</td>\n      <td>23</td>\n      <td>2012-08-10</td>\n      <td>N</td>\n      <td>0.0</td>\n      <td>35</td>\n      <td>...</td>\n      <td>0</td>\n      <td>0</td>\n      <td>0</td>\n      <td>0</td>\n      <td>0</td>\n      <td>0</td>\n      <td>0.0</td>\n      <td>0.0</td>\n      <td>0</td>\n      <td>0</td>\n    </tr>\n    <tr>\n      <th>6</th>\n      <td>6</td>\n      <td>503163</td>\n      <td>2015-01-28</td>\n      <td>ES</td>\n      <td>V</td>\n      <td>22</td>\n      <td>2012-08-10</td>\n      <td>N</td>\n      <td>0.0</td>\n      <td>35</td>\n      <td>...</td>\n      <td>0</td>\n      <td>0</td>\n      <td>0</td>\n      <td>0</td>\n      <td>0</td>\n      <td>0</td>\n      <td>0.0</td>\n      <td>0.0</td>\n      <td>0</td>\n      <td>0</td>\n    </tr>\n    <tr>\n      <th>7</th>\n      <td>7</td>\n      <td>503154</td>\n      <td>2015-01-28</td>\n      <td>ES</td>\n      <td>H</td>\n      <td>23</td>\n      <td>2012-08-10</td>\n      <td>N</td>\n      <td>0.0</td>\n      <td>35</td>\n      <td>...</td>\n      <td>0</td>\n      <td>0</td>\n      <td>0</td>\n      <td>0</td>\n      <td>0</td>\n      <td>0</td>\n      <td>0.0</td>\n      <td>0.0</td>\n      <td>0</td>\n      <td>0</td>\n    </tr>\n    <tr>\n      <th>8</th>\n      <td>8</td>\n      <td>503142</td>\n      <td>2015-01-28</td>\n      <td>ES</td>\n      <td>H</td>\n      <td>23</td>\n      <td>2012-08-10</td>\n      <td>N</td>\n      <td>0.0</td>\n      <td>35</td>\n      <td>...</td>\n      <td>0</td>\n      <td>0</td>\n      <td>0</td>\n      <td>0</td>\n      <td>0</td>\n      <td>0</td>\n      <td>0.0</td>\n      <td>0.0</td>\n      <td>0</td>\n      <td>0</td>\n    </tr>\n    <tr>\n      <th>9</th>\n      <td>9</td>\n      <td>502804</td>\n      <td>2015-01-28</td>\n      <td>ES</td>\n      <td>H</td>\n      <td>24</td>\n      <td>2012-08-10</td>\n      <td>N</td>\n      <td>0.0</td>\n      <td>35</td>\n      <td>...</td>\n      <td>0</td>\n      <td>0</td>\n      <td>0</td>\n      <td>0</td>\n      <td>0</td>\n      <td>0</td>\n      <td>0.0</td>\n      <td>0.0</td>\n      <td>0</td>\n      <td>0</td>\n    </tr>\n  </tbody>\n</table>\n<p>10 rows × 49 columns</p>\n</div>"
     },
     "execution_count": 249,
     "metadata": {},
     "output_type": "execute_result"
    }
   ],
   "source": [
    "dataset.head(10)"
   ]
  },
  {
   "cell_type": "markdown",
   "metadata": {},
   "source": [
    "## 2. Limpieza de Datos\n"
   ]
  },
  {
   "cell_type": "code",
   "execution_count": 250,
   "metadata": {
    "ExecuteTime": {
     "end_time": "2024-06-09T14:14:22.066401100Z",
     "start_time": "2024-06-09T14:14:21.852362500Z"
    }
   },
   "outputs": [
    {
     "data": {
      "text/plain": "Index(['Unnamed: 0', 'cod_persona', 'mes', 'pais', 'sexo', 'edad', 'fecha1',\n       'xti_empleado', 'xti_nuevo_cliente', 'num_antiguedad', 'xti_rel',\n       'fec_ult_cli_1t', 'xti_rel_1mes', 'tip_rel_1mes', 'indresi', 'indext',\n       'des_canal', 'xti_extra', 'tip_dom', 'cod_provincia',\n       'xti_actividad_cliente', 'imp_renta', 'id_segmento', 'mean_engagement',\n       'ind_prod1', 'ind_prod2', 'ind_prod3', 'ind_prod4', 'ind_prod5',\n       'ind_prod6', 'ind_prod7', 'ind_prod8', 'ind_prod9', 'ind_prod10',\n       'ind_prod11', 'ind_prod12', 'ind_prod13', 'ind_prod14', 'ind_prod15',\n       'ind_prod16', 'ind_prod17', 'ind_prod18', 'ind_prod19', 'ind_prod20',\n       'ind_prod21', 'ind_prod22', 'ind_prod23', 'ind_prod24', 'ind_prod25'],\n      dtype='object')"
     },
     "execution_count": 250,
     "metadata": {},
     "output_type": "execute_result"
    }
   ],
   "source": [
    "dataset.columns"
   ]
  },
  {
   "cell_type": "markdown",
   "metadata": {},
   "source": []
  },
  {
   "cell_type": "markdown",
   "metadata": {},
   "source": [
    "### Unnamed: 0\n",
    "Index"
   ]
  },
  {
   "cell_type": "code",
   "execution_count": 251,
   "metadata": {
    "ExecuteTime": {
     "end_time": "2024-06-09T14:14:22.253033200Z",
     "start_time": "2024-06-09T14:14:21.867389800Z"
    }
   },
   "outputs": [],
   "source": [
    "#Dropeamos el indice:\n",
    "dataset.drop(columns=['Unnamed: 0'], inplace=True)"
   ]
  },
  {
   "cell_type": "markdown",
   "metadata": {},
   "source": [
    "### Cod_persona\n",
    "Customer\tcode"
   ]
  },
  {
   "cell_type": "code",
   "execution_count": 252,
   "metadata": {
    "ExecuteTime": {
     "end_time": "2024-06-09T14:14:22.446102300Z",
     "start_time": "2024-06-09T14:14:21.976212200Z"
    }
   },
   "outputs": [
    {
     "data": {
      "text/plain": "        cod_persona         mes pais sexo edad      fecha1 xti_empleado  \\\n62           504546  2015-01-28   ES    H   23  2012-08-09            N   \n61530        504546  2015-02-28   ES    H   23  2012-08-09            N   \n91495        504546  2015-03-28   ES    H   23  2012-08-09            N   \n123869       504546  2015-04-28   ES    H   23  2012-08-09            N   \n125782       504546  2015-05-28   ES    H   23  2012-08-09            N   \n157209       504546  2015-06-28   ES    H   23  2012-08-09            N   \n216829       504546  2015-07-28   ES    H   23  2012-08-09            N   \n254727       504546  2015-08-28   ES    H   24  2012-08-09            N   \n300440       504546  2015-09-28   ES    H   24  2012-08-09            N   \n322426       504546  2015-10-28   ES    H   24  2012-08-09            N   \n402065       504546  2015-11-28   ES    H   24  2012-08-09            N   \n407176       504546  2015-12-28   ES    H   24  2012-08-09            N   \n492771       504546  2016-01-28   ES    H   24  2012-08-09            N   \n528203       504546  2016-02-28   ES    H   24  2012-08-09            N   \n587552       504546  2016-03-28   ES    H   24  2012-08-09            N   \n620983       504546  2016-04-28   ES    H   24  2012-08-09            N   \n\n        xti_nuevo_cliente num_antiguedad  xti_rel  ... ind_prod16  ind_prod17  \\\n62                    0.0             35      1.0  ...          0           0   \n61530                 0.0             35      1.0  ...          0           0   \n91495                 0.0             35      1.0  ...          0           0   \n123869                0.0             35      1.0  ...          0           0   \n125782                0.0             35      1.0  ...          0           0   \n157209                0.0             35      1.0  ...          0           0   \n216829                0.0             35      1.0  ...          0           0   \n254727                0.0             36      1.0  ...          0           0   \n300440                0.0             37      1.0  ...          0           0   \n322426                0.0             38      1.0  ...          0           0   \n402065                0.0             39      1.0  ...          0           0   \n407176                0.0             40      1.0  ...          0           0   \n492771                0.0             41      1.0  ...          0           0   \n528203                0.0             42      1.0  ...          0           0   \n587552                0.0             43      1.0  ...          0           0   \n620983                0.0             44      1.0  ...          0           0   \n\n       ind_prod18 ind_prod19 ind_prod20 ind_prod21 ind_prod22  ind_prod23  \\\n62              0          0          0          0        0.0         0.0   \n61530           0          0          0          0        0.0         0.0   \n91495           0          0          0          0        0.0         0.0   \n123869          0          0          0          0        0.0         0.0   \n125782          0          0          0          0        0.0         0.0   \n157209          0          0          0          0        0.0         0.0   \n216829          0          0          0          0        0.0         0.0   \n254727          0          0          0          0        0.0         0.0   \n300440          0          0          0          0        0.0         0.0   \n322426          0          0          0          0        0.0         0.0   \n402065          0          0          0          0        0.0         0.0   \n407176          0          0          0          0        0.0         0.0   \n492771          0          0          0          0        0.0         0.0   \n528203          0          0          0          0        0.0         0.0   \n587552          0          0          0          0        0.0         0.0   \n620983          0          0          0          0        0.0         0.0   \n\n        ind_prod24  ind_prod25  \n62               0           0  \n61530            0           0  \n91495            0           0  \n123869           0           0  \n125782           0           0  \n157209           0           0  \n216829           0           0  \n254727           0           0  \n300440           0           0  \n322426           0           0  \n402065           0           0  \n407176           0           0  \n492771           0           0  \n528203           0           0  \n587552           0           0  \n620983           0           0  \n\n[16 rows x 48 columns]",
      "text/html": "<div>\n<style scoped>\n    .dataframe tbody tr th:only-of-type {\n        vertical-align: middle;\n    }\n\n    .dataframe tbody tr th {\n        vertical-align: top;\n    }\n\n    .dataframe thead th {\n        text-align: right;\n    }\n</style>\n<table border=\"1\" class=\"dataframe\">\n  <thead>\n    <tr style=\"text-align: right;\">\n      <th></th>\n      <th>cod_persona</th>\n      <th>mes</th>\n      <th>pais</th>\n      <th>sexo</th>\n      <th>edad</th>\n      <th>fecha1</th>\n      <th>xti_empleado</th>\n      <th>xti_nuevo_cliente</th>\n      <th>num_antiguedad</th>\n      <th>xti_rel</th>\n      <th>...</th>\n      <th>ind_prod16</th>\n      <th>ind_prod17</th>\n      <th>ind_prod18</th>\n      <th>ind_prod19</th>\n      <th>ind_prod20</th>\n      <th>ind_prod21</th>\n      <th>ind_prod22</th>\n      <th>ind_prod23</th>\n      <th>ind_prod24</th>\n      <th>ind_prod25</th>\n    </tr>\n  </thead>\n  <tbody>\n    <tr>\n      <th>62</th>\n      <td>504546</td>\n      <td>2015-01-28</td>\n      <td>ES</td>\n      <td>H</td>\n      <td>23</td>\n      <td>2012-08-09</td>\n      <td>N</td>\n      <td>0.0</td>\n      <td>35</td>\n      <td>1.0</td>\n      <td>...</td>\n      <td>0</td>\n      <td>0</td>\n      <td>0</td>\n      <td>0</td>\n      <td>0</td>\n      <td>0</td>\n      <td>0.0</td>\n      <td>0.0</td>\n      <td>0</td>\n      <td>0</td>\n    </tr>\n    <tr>\n      <th>61530</th>\n      <td>504546</td>\n      <td>2015-02-28</td>\n      <td>ES</td>\n      <td>H</td>\n      <td>23</td>\n      <td>2012-08-09</td>\n      <td>N</td>\n      <td>0.0</td>\n      <td>35</td>\n      <td>1.0</td>\n      <td>...</td>\n      <td>0</td>\n      <td>0</td>\n      <td>0</td>\n      <td>0</td>\n      <td>0</td>\n      <td>0</td>\n      <td>0.0</td>\n      <td>0.0</td>\n      <td>0</td>\n      <td>0</td>\n    </tr>\n    <tr>\n      <th>91495</th>\n      <td>504546</td>\n      <td>2015-03-28</td>\n      <td>ES</td>\n      <td>H</td>\n      <td>23</td>\n      <td>2012-08-09</td>\n      <td>N</td>\n      <td>0.0</td>\n      <td>35</td>\n      <td>1.0</td>\n      <td>...</td>\n      <td>0</td>\n      <td>0</td>\n      <td>0</td>\n      <td>0</td>\n      <td>0</td>\n      <td>0</td>\n      <td>0.0</td>\n      <td>0.0</td>\n      <td>0</td>\n      <td>0</td>\n    </tr>\n    <tr>\n      <th>123869</th>\n      <td>504546</td>\n      <td>2015-04-28</td>\n      <td>ES</td>\n      <td>H</td>\n      <td>23</td>\n      <td>2012-08-09</td>\n      <td>N</td>\n      <td>0.0</td>\n      <td>35</td>\n      <td>1.0</td>\n      <td>...</td>\n      <td>0</td>\n      <td>0</td>\n      <td>0</td>\n      <td>0</td>\n      <td>0</td>\n      <td>0</td>\n      <td>0.0</td>\n      <td>0.0</td>\n      <td>0</td>\n      <td>0</td>\n    </tr>\n    <tr>\n      <th>125782</th>\n      <td>504546</td>\n      <td>2015-05-28</td>\n      <td>ES</td>\n      <td>H</td>\n      <td>23</td>\n      <td>2012-08-09</td>\n      <td>N</td>\n      <td>0.0</td>\n      <td>35</td>\n      <td>1.0</td>\n      <td>...</td>\n      <td>0</td>\n      <td>0</td>\n      <td>0</td>\n      <td>0</td>\n      <td>0</td>\n      <td>0</td>\n      <td>0.0</td>\n      <td>0.0</td>\n      <td>0</td>\n      <td>0</td>\n    </tr>\n    <tr>\n      <th>157209</th>\n      <td>504546</td>\n      <td>2015-06-28</td>\n      <td>ES</td>\n      <td>H</td>\n      <td>23</td>\n      <td>2012-08-09</td>\n      <td>N</td>\n      <td>0.0</td>\n      <td>35</td>\n      <td>1.0</td>\n      <td>...</td>\n      <td>0</td>\n      <td>0</td>\n      <td>0</td>\n      <td>0</td>\n      <td>0</td>\n      <td>0</td>\n      <td>0.0</td>\n      <td>0.0</td>\n      <td>0</td>\n      <td>0</td>\n    </tr>\n    <tr>\n      <th>216829</th>\n      <td>504546</td>\n      <td>2015-07-28</td>\n      <td>ES</td>\n      <td>H</td>\n      <td>23</td>\n      <td>2012-08-09</td>\n      <td>N</td>\n      <td>0.0</td>\n      <td>35</td>\n      <td>1.0</td>\n      <td>...</td>\n      <td>0</td>\n      <td>0</td>\n      <td>0</td>\n      <td>0</td>\n      <td>0</td>\n      <td>0</td>\n      <td>0.0</td>\n      <td>0.0</td>\n      <td>0</td>\n      <td>0</td>\n    </tr>\n    <tr>\n      <th>254727</th>\n      <td>504546</td>\n      <td>2015-08-28</td>\n      <td>ES</td>\n      <td>H</td>\n      <td>24</td>\n      <td>2012-08-09</td>\n      <td>N</td>\n      <td>0.0</td>\n      <td>36</td>\n      <td>1.0</td>\n      <td>...</td>\n      <td>0</td>\n      <td>0</td>\n      <td>0</td>\n      <td>0</td>\n      <td>0</td>\n      <td>0</td>\n      <td>0.0</td>\n      <td>0.0</td>\n      <td>0</td>\n      <td>0</td>\n    </tr>\n    <tr>\n      <th>300440</th>\n      <td>504546</td>\n      <td>2015-09-28</td>\n      <td>ES</td>\n      <td>H</td>\n      <td>24</td>\n      <td>2012-08-09</td>\n      <td>N</td>\n      <td>0.0</td>\n      <td>37</td>\n      <td>1.0</td>\n      <td>...</td>\n      <td>0</td>\n      <td>0</td>\n      <td>0</td>\n      <td>0</td>\n      <td>0</td>\n      <td>0</td>\n      <td>0.0</td>\n      <td>0.0</td>\n      <td>0</td>\n      <td>0</td>\n    </tr>\n    <tr>\n      <th>322426</th>\n      <td>504546</td>\n      <td>2015-10-28</td>\n      <td>ES</td>\n      <td>H</td>\n      <td>24</td>\n      <td>2012-08-09</td>\n      <td>N</td>\n      <td>0.0</td>\n      <td>38</td>\n      <td>1.0</td>\n      <td>...</td>\n      <td>0</td>\n      <td>0</td>\n      <td>0</td>\n      <td>0</td>\n      <td>0</td>\n      <td>0</td>\n      <td>0.0</td>\n      <td>0.0</td>\n      <td>0</td>\n      <td>0</td>\n    </tr>\n    <tr>\n      <th>402065</th>\n      <td>504546</td>\n      <td>2015-11-28</td>\n      <td>ES</td>\n      <td>H</td>\n      <td>24</td>\n      <td>2012-08-09</td>\n      <td>N</td>\n      <td>0.0</td>\n      <td>39</td>\n      <td>1.0</td>\n      <td>...</td>\n      <td>0</td>\n      <td>0</td>\n      <td>0</td>\n      <td>0</td>\n      <td>0</td>\n      <td>0</td>\n      <td>0.0</td>\n      <td>0.0</td>\n      <td>0</td>\n      <td>0</td>\n    </tr>\n    <tr>\n      <th>407176</th>\n      <td>504546</td>\n      <td>2015-12-28</td>\n      <td>ES</td>\n      <td>H</td>\n      <td>24</td>\n      <td>2012-08-09</td>\n      <td>N</td>\n      <td>0.0</td>\n      <td>40</td>\n      <td>1.0</td>\n      <td>...</td>\n      <td>0</td>\n      <td>0</td>\n      <td>0</td>\n      <td>0</td>\n      <td>0</td>\n      <td>0</td>\n      <td>0.0</td>\n      <td>0.0</td>\n      <td>0</td>\n      <td>0</td>\n    </tr>\n    <tr>\n      <th>492771</th>\n      <td>504546</td>\n      <td>2016-01-28</td>\n      <td>ES</td>\n      <td>H</td>\n      <td>24</td>\n      <td>2012-08-09</td>\n      <td>N</td>\n      <td>0.0</td>\n      <td>41</td>\n      <td>1.0</td>\n      <td>...</td>\n      <td>0</td>\n      <td>0</td>\n      <td>0</td>\n      <td>0</td>\n      <td>0</td>\n      <td>0</td>\n      <td>0.0</td>\n      <td>0.0</td>\n      <td>0</td>\n      <td>0</td>\n    </tr>\n    <tr>\n      <th>528203</th>\n      <td>504546</td>\n      <td>2016-02-28</td>\n      <td>ES</td>\n      <td>H</td>\n      <td>24</td>\n      <td>2012-08-09</td>\n      <td>N</td>\n      <td>0.0</td>\n      <td>42</td>\n      <td>1.0</td>\n      <td>...</td>\n      <td>0</td>\n      <td>0</td>\n      <td>0</td>\n      <td>0</td>\n      <td>0</td>\n      <td>0</td>\n      <td>0.0</td>\n      <td>0.0</td>\n      <td>0</td>\n      <td>0</td>\n    </tr>\n    <tr>\n      <th>587552</th>\n      <td>504546</td>\n      <td>2016-03-28</td>\n      <td>ES</td>\n      <td>H</td>\n      <td>24</td>\n      <td>2012-08-09</td>\n      <td>N</td>\n      <td>0.0</td>\n      <td>43</td>\n      <td>1.0</td>\n      <td>...</td>\n      <td>0</td>\n      <td>0</td>\n      <td>0</td>\n      <td>0</td>\n      <td>0</td>\n      <td>0</td>\n      <td>0.0</td>\n      <td>0.0</td>\n      <td>0</td>\n      <td>0</td>\n    </tr>\n    <tr>\n      <th>620983</th>\n      <td>504546</td>\n      <td>2016-04-28</td>\n      <td>ES</td>\n      <td>H</td>\n      <td>24</td>\n      <td>2012-08-09</td>\n      <td>N</td>\n      <td>0.0</td>\n      <td>44</td>\n      <td>1.0</td>\n      <td>...</td>\n      <td>0</td>\n      <td>0</td>\n      <td>0</td>\n      <td>0</td>\n      <td>0</td>\n      <td>0</td>\n      <td>0.0</td>\n      <td>0.0</td>\n      <td>0</td>\n      <td>0</td>\n    </tr>\n  </tbody>\n</table>\n<p>16 rows × 48 columns</p>\n</div>"
     },
     "execution_count": 252,
     "metadata": {},
     "output_type": "execute_result"
    }
   ],
   "source": [
    "#dataset[cod_persona]=503082 y ordenarlo por fecha1:\n",
    "\n",
    "#Ejemplo de una persona\n",
    "dataset[dataset['cod_persona']==504546].sort_values(by='fecha1') # Dataset compuesto por la evolucion de contrataciones de productos de una persona a lo largo del tiempo"
   ]
  },
  {
   "cell_type": "code",
   "execution_count": 253,
   "metadata": {
    "ExecuteTime": {
     "end_time": "2024-06-09T14:14:22.508699600Z",
     "start_time": "2024-06-09T14:14:22.008320800Z"
    }
   },
   "outputs": [
    {
     "name": "stdout",
     "output_type": "stream",
     "text": [
      "223\n"
     ]
    }
   ],
   "source": [
    "# Agrupar por 'cod_persona' y contar el número de registros para cada persona\n",
    "conteo_registros = dataset.groupby('cod_persona').size().reset_index(name='num_registros')\n",
    "\n",
    "# Filtrar para encontrar las personas con solo un registro\n",
    "personas_con_un_registro = conteo_registros[conteo_registros['num_registros'] == 1]\n",
    "\n",
    "# Contar el número de personas con solo un registro\n",
    "num_personas_con_un_registro = personas_con_un_registro.shape[0]\n",
    "\n",
    "print(num_personas_con_un_registro)"
   ]
  },
  {
   "cell_type": "markdown",
   "metadata": {},
   "source": [
    "Se encuentran personas con un solo registro, lo que puede ser un problema predecir un solo registro sin un historico de contrataciones. No se eliminan los registros, ya que se considera que a pesar de tener un solo registro ese estado puede contener variables muy indicativas de compras de un producto nuevo la siguiente mensualidad."
   ]
  },
  {
   "cell_type": "code",
   "execution_count": 254,
   "metadata": {
    "ExecuteTime": {
     "end_time": "2024-06-09T14:14:22.563282800Z",
     "start_time": "2024-06-09T14:14:22.053371600Z"
    }
   },
   "outputs": [
    {
     "name": "stdout",
     "output_type": "stream",
     "text": [
      "0\n"
     ]
    }
   ],
   "source": [
    "# Verificar si hay valores nulos en 'cod_persona'\n",
    "print(dataset['cod_persona'].isnull().sum())"
   ]
  },
  {
   "cell_type": "markdown",
   "metadata": {},
   "source": [
    "### mes\n",
    "The\ttable\tis\tpartitioned\tfor\tthis\tcolumn"
   ]
  },
  {
   "cell_type": "code",
   "execution_count": 255,
   "metadata": {
    "ExecuteTime": {
     "end_time": "2024-06-09T14:14:22.615403100Z",
     "start_time": "2024-06-09T14:14:22.085424400Z"
    }
   },
   "outputs": [
    {
     "name": "stdout",
     "output_type": "stream",
     "text": [
      "0\n"
     ]
    }
   ],
   "source": [
    "# Paso la columna 'mes' a datetime\n",
    "dataset['mes'] = pd.to_datetime(dataset['mes'], format='%Y-%m-%d')\n",
    "#Recuento de nulos:\n",
    "print(dataset['mes'].isnull().sum())"
   ]
  },
  {
   "cell_type": "code",
   "execution_count": 256,
   "metadata": {
    "ExecuteTime": {
     "end_time": "2024-06-09T14:14:22.700474Z",
     "start_time": "2024-06-09T14:14:22.150587300Z"
    }
   },
   "outputs": [],
   "source": [
    "#Extraemos las caracteristicas de mes, dia y año:\n",
    "dataset['mes_mes']=dataset['mes'].dt.month\n",
    "dataset['mes_año']=dataset['mes'].dt.year"
   ]
  },
  {
   "cell_type": "code",
   "execution_count": 257,
   "metadata": {
    "ExecuteTime": {
     "end_time": "2024-06-09T14:14:22.782297700Z",
     "start_time": "2024-06-09T14:14:22.244515700Z"
    }
   },
   "outputs": [
    {
     "name": "stdout",
     "output_type": "stream",
     "text": [
      "mes_mes  mes_año\n",
      "1        2015       30849\n",
      "         2016       45994\n",
      "2        2015       30988\n",
      "         2016       46287\n",
      "3        2015       31138\n",
      "         2016       46549\n",
      "4        2015       31250\n",
      "         2016       46776\n",
      "5        2015       31336\n",
      "6        2015       31429\n",
      "7        2015       41342\n",
      "8        2015       42016\n",
      "9        2015       43170\n",
      "10       2015       44574\n",
      "11       2015       45309\n",
      "12       2015       45675\n",
      "dtype: int64\n"
     ]
    }
   ],
   "source": [
    "#Se estudia el numero de registros por mes y año para ver el balanceo de clases:\n",
    "print(dataset.groupby(['mes_mes', 'mes_año']).size())"
   ]
  },
  {
   "cell_type": "markdown",
   "metadata": {},
   "source": [
    "Se observa que el dataset esta balanceado en cuanto a la cantidad de registros por mes y año.\n",
    "Se observa que el historico acaba en abril de 2016."
   ]
  },
  {
   "cell_type": "markdown",
   "metadata": {},
   "source": [
    "### pais\n",
    "Customer's\tCountry\tresidence"
   ]
  },
  {
   "cell_type": "code",
   "execution_count": 258,
   "metadata": {
    "ExecuteTime": {
     "end_time": "2024-06-09T14:14:22.842231Z",
     "start_time": "2024-06-09T14:14:22.322881Z"
    }
   },
   "outputs": [
    {
     "name": "stdout",
     "output_type": "stream",
     "text": [
      "pais\n",
      "ES    631736\n",
      "DE       285\n",
      "GB       244\n",
      "FR       224\n",
      "US       203\n",
      "CH       192\n",
      "CO       160\n",
      "AR       144\n",
      "IT       138\n",
      "MX       122\n",
      "RO       104\n",
      "EC        90\n",
      "VE        80\n",
      "CL        74\n",
      "PY        74\n",
      "BE        64\n",
      "BR        52\n",
      "AT        48\n",
      "CA        48\n",
      "FI        32\n",
      "NL        32\n",
      "PL        32\n",
      "CN        32\n",
      "PE        32\n",
      "BG        32\n",
      "BO        26\n",
      "GT        16\n",
      "PK        16\n",
      "PT        16\n",
      "GN        16\n",
      "PR        16\n",
      "JP        16\n",
      "IL        16\n",
      "SA        16\n",
      "NG        16\n",
      "NZ        16\n",
      "IN        16\n",
      "AD        16\n",
      "UA        16\n",
      "SE        16\n",
      "GE        16\n",
      "CU        16\n",
      "PA        16\n",
      "SV        16\n",
      "AU        11\n",
      "MD        10\n",
      "RU        10\n",
      "HU         7\n",
      "Name: count, dtype: int64\n"
     ]
    }
   ],
   "source": [
    "print(dataset['pais'].value_counts())"
   ]
  },
  {
   "cell_type": "markdown",
   "metadata": {},
   "source": [
    "Se observa como la mayoría de los registros son de España, resultando el resto de paises en cifras no significativas. Se podría considerar la posibilidad de agrupar los paises con menos registros en un grupo llamado \"Otros\" para reducir la dimensionalidad de la variable y se mapea a 0-1. "
   ]
  },
  {
   "cell_type": "code",
   "execution_count": 259,
   "metadata": {
    "ExecuteTime": {
     "end_time": "2024-06-09T14:14:23.403626800Z",
     "start_time": "2024-06-09T14:14:22.366456900Z"
    }
   },
   "outputs": [
    {
     "data": {
      "text/plain": "pais_binario\n1    631736\n0      2946\nName: count, dtype: int64"
     },
     "execution_count": 259,
     "metadata": {},
     "output_type": "execute_result"
    }
   ],
   "source": [
    "# Crear un diccionario de mapeo para agrupar los países\n",
    "#Si pais es España el valor de la columna pais_es será 1, sino 0:\n",
    "dataset['pais_binario'] = dataset['pais'].apply(lambda x: 1 if x == 'ES' else 0)\n",
    "dataset.drop(columns=['pais'], inplace=True)\n",
    "dataset['pais_binario'].value_counts()"
   ]
  },
  {
   "cell_type": "code",
   "execution_count": 260,
   "metadata": {
    "ExecuteTime": {
     "end_time": "2024-06-09T14:14:23.422651800Z",
     "start_time": "2024-06-09T14:14:22.668928700Z"
    }
   },
   "outputs": [
    {
     "data": {
      "text/plain": "0"
     },
     "execution_count": 260,
     "metadata": {},
     "output_type": "execute_result"
    }
   ],
   "source": [
    "dataset['pais_binario'].isnull().sum() #No hay valores nulos"
   ]
  },
  {
   "cell_type": "markdown",
   "metadata": {},
   "source": [
    "### sexo\n",
    "Customer's\tsex"
   ]
  },
  {
   "cell_type": "code",
   "execution_count": 261,
   "metadata": {
    "ExecuteTime": {
     "end_time": "2024-06-09T14:14:23.451185300Z",
     "start_time": "2024-06-09T14:14:22.701994100Z"
    }
   },
   "outputs": [
    {
     "data": {
      "text/plain": "65"
     },
     "execution_count": 261,
     "metadata": {},
     "output_type": "execute_result"
    }
   ],
   "source": [
    "dataset['sexo'].isnull().sum()"
   ]
  },
  {
   "cell_type": "code",
   "execution_count": 262,
   "metadata": {
    "ExecuteTime": {
     "end_time": "2024-06-09T14:14:23.460728300Z",
     "start_time": "2024-06-09T14:14:22.719679400Z"
    }
   },
   "outputs": [
    {
     "data": {
      "text/plain": "        cod_persona        mes sexo edad      fecha1 xti_empleado  \\\n51501        170635 2015-02-28  NaN   NA         NaN          NaN   \n82415        170635 2015-03-28  NaN   NA         NaN          NaN   \n113518       170635 2015-04-28  NaN   NA         NaN          NaN   \n134835       170635 2015-05-28  NaN   NA         NaN          NaN   \n165637       170635 2015-06-28  NaN   NA         NaN          NaN   \n463976       170635 2016-01-28    V   40  2015-02-17            N   \n506018       170635 2016-02-28    V   40  2015-02-17            N   \n550982       170635 2016-03-28    V   40  2015-02-17            N   \n623367       170635 2016-04-28    V   40  2015-02-17            N   \n\n        xti_nuevo_cliente num_antiguedad  xti_rel fec_ult_cli_1t  ...  \\\n51501                 NaN             NA      NaN            NaN  ...   \n82415                 NaN             NA      NaN            NaN  ...   \n113518                NaN             NA      NaN            NaN  ...   \n134835                NaN             NA      NaN            NaN  ...   \n165637                NaN             NA      NaN            NaN  ...   \n463976                1.0              0      1.0            NaN  ...   \n506018                1.0              1      1.0            NaN  ...   \n550982                1.0              2      1.0            NaN  ...   \n623367                1.0              3      1.0            NaN  ...   \n\n        ind_prod19 ind_prod20 ind_prod21 ind_prod22 ind_prod23 ind_prod24  \\\n51501            0          0          0        0.0        0.0          0   \n82415            0          0          0        0.0        0.0          0   \n113518           0          0          0        0.0        0.0          0   \n134835           0          0          0        0.0        0.0          0   \n165637           0          0          0        NaN        NaN          0   \n463976           0          0          0        0.0        0.0          0   \n506018           0          0          0        0.0        0.0          0   \n550982           0          0          0        0.0        0.0          0   \n623367           0          0          0        0.0        0.0          0   \n\n        ind_prod25  mes_mes  mes_año  pais_binario  \n51501            0        2     2015             0  \n82415            0        3     2015             0  \n113518           0        4     2015             0  \n134835           0        5     2015             0  \n165637           0        6     2015             0  \n463976           0        1     2016             1  \n506018           0        2     2016             1  \n550982           0        3     2016             1  \n623367           0        4     2016             1  \n\n[9 rows x 50 columns]",
      "text/html": "<div>\n<style scoped>\n    .dataframe tbody tr th:only-of-type {\n        vertical-align: middle;\n    }\n\n    .dataframe tbody tr th {\n        vertical-align: top;\n    }\n\n    .dataframe thead th {\n        text-align: right;\n    }\n</style>\n<table border=\"1\" class=\"dataframe\">\n  <thead>\n    <tr style=\"text-align: right;\">\n      <th></th>\n      <th>cod_persona</th>\n      <th>mes</th>\n      <th>sexo</th>\n      <th>edad</th>\n      <th>fecha1</th>\n      <th>xti_empleado</th>\n      <th>xti_nuevo_cliente</th>\n      <th>num_antiguedad</th>\n      <th>xti_rel</th>\n      <th>fec_ult_cli_1t</th>\n      <th>...</th>\n      <th>ind_prod19</th>\n      <th>ind_prod20</th>\n      <th>ind_prod21</th>\n      <th>ind_prod22</th>\n      <th>ind_prod23</th>\n      <th>ind_prod24</th>\n      <th>ind_prod25</th>\n      <th>mes_mes</th>\n      <th>mes_año</th>\n      <th>pais_binario</th>\n    </tr>\n  </thead>\n  <tbody>\n    <tr>\n      <th>51501</th>\n      <td>170635</td>\n      <td>2015-02-28</td>\n      <td>NaN</td>\n      <td>NA</td>\n      <td>NaN</td>\n      <td>NaN</td>\n      <td>NaN</td>\n      <td>NA</td>\n      <td>NaN</td>\n      <td>NaN</td>\n      <td>...</td>\n      <td>0</td>\n      <td>0</td>\n      <td>0</td>\n      <td>0.0</td>\n      <td>0.0</td>\n      <td>0</td>\n      <td>0</td>\n      <td>2</td>\n      <td>2015</td>\n      <td>0</td>\n    </tr>\n    <tr>\n      <th>82415</th>\n      <td>170635</td>\n      <td>2015-03-28</td>\n      <td>NaN</td>\n      <td>NA</td>\n      <td>NaN</td>\n      <td>NaN</td>\n      <td>NaN</td>\n      <td>NA</td>\n      <td>NaN</td>\n      <td>NaN</td>\n      <td>...</td>\n      <td>0</td>\n      <td>0</td>\n      <td>0</td>\n      <td>0.0</td>\n      <td>0.0</td>\n      <td>0</td>\n      <td>0</td>\n      <td>3</td>\n      <td>2015</td>\n      <td>0</td>\n    </tr>\n    <tr>\n      <th>113518</th>\n      <td>170635</td>\n      <td>2015-04-28</td>\n      <td>NaN</td>\n      <td>NA</td>\n      <td>NaN</td>\n      <td>NaN</td>\n      <td>NaN</td>\n      <td>NA</td>\n      <td>NaN</td>\n      <td>NaN</td>\n      <td>...</td>\n      <td>0</td>\n      <td>0</td>\n      <td>0</td>\n      <td>0.0</td>\n      <td>0.0</td>\n      <td>0</td>\n      <td>0</td>\n      <td>4</td>\n      <td>2015</td>\n      <td>0</td>\n    </tr>\n    <tr>\n      <th>134835</th>\n      <td>170635</td>\n      <td>2015-05-28</td>\n      <td>NaN</td>\n      <td>NA</td>\n      <td>NaN</td>\n      <td>NaN</td>\n      <td>NaN</td>\n      <td>NA</td>\n      <td>NaN</td>\n      <td>NaN</td>\n      <td>...</td>\n      <td>0</td>\n      <td>0</td>\n      <td>0</td>\n      <td>0.0</td>\n      <td>0.0</td>\n      <td>0</td>\n      <td>0</td>\n      <td>5</td>\n      <td>2015</td>\n      <td>0</td>\n    </tr>\n    <tr>\n      <th>165637</th>\n      <td>170635</td>\n      <td>2015-06-28</td>\n      <td>NaN</td>\n      <td>NA</td>\n      <td>NaN</td>\n      <td>NaN</td>\n      <td>NaN</td>\n      <td>NA</td>\n      <td>NaN</td>\n      <td>NaN</td>\n      <td>...</td>\n      <td>0</td>\n      <td>0</td>\n      <td>0</td>\n      <td>NaN</td>\n      <td>NaN</td>\n      <td>0</td>\n      <td>0</td>\n      <td>6</td>\n      <td>2015</td>\n      <td>0</td>\n    </tr>\n    <tr>\n      <th>463976</th>\n      <td>170635</td>\n      <td>2016-01-28</td>\n      <td>V</td>\n      <td>40</td>\n      <td>2015-02-17</td>\n      <td>N</td>\n      <td>1.0</td>\n      <td>0</td>\n      <td>1.0</td>\n      <td>NaN</td>\n      <td>...</td>\n      <td>0</td>\n      <td>0</td>\n      <td>0</td>\n      <td>0.0</td>\n      <td>0.0</td>\n      <td>0</td>\n      <td>0</td>\n      <td>1</td>\n      <td>2016</td>\n      <td>1</td>\n    </tr>\n    <tr>\n      <th>506018</th>\n      <td>170635</td>\n      <td>2016-02-28</td>\n      <td>V</td>\n      <td>40</td>\n      <td>2015-02-17</td>\n      <td>N</td>\n      <td>1.0</td>\n      <td>1</td>\n      <td>1.0</td>\n      <td>NaN</td>\n      <td>...</td>\n      <td>0</td>\n      <td>0</td>\n      <td>0</td>\n      <td>0.0</td>\n      <td>0.0</td>\n      <td>0</td>\n      <td>0</td>\n      <td>2</td>\n      <td>2016</td>\n      <td>1</td>\n    </tr>\n    <tr>\n      <th>550982</th>\n      <td>170635</td>\n      <td>2016-03-28</td>\n      <td>V</td>\n      <td>40</td>\n      <td>2015-02-17</td>\n      <td>N</td>\n      <td>1.0</td>\n      <td>2</td>\n      <td>1.0</td>\n      <td>NaN</td>\n      <td>...</td>\n      <td>0</td>\n      <td>0</td>\n      <td>0</td>\n      <td>0.0</td>\n      <td>0.0</td>\n      <td>0</td>\n      <td>0</td>\n      <td>3</td>\n      <td>2016</td>\n      <td>1</td>\n    </tr>\n    <tr>\n      <th>623367</th>\n      <td>170635</td>\n      <td>2016-04-28</td>\n      <td>V</td>\n      <td>40</td>\n      <td>2015-02-17</td>\n      <td>N</td>\n      <td>1.0</td>\n      <td>3</td>\n      <td>1.0</td>\n      <td>NaN</td>\n      <td>...</td>\n      <td>0</td>\n      <td>0</td>\n      <td>0</td>\n      <td>0.0</td>\n      <td>0.0</td>\n      <td>0</td>\n      <td>0</td>\n      <td>4</td>\n      <td>2016</td>\n      <td>1</td>\n    </tr>\n  </tbody>\n</table>\n<p>9 rows × 50 columns</p>\n</div>"
     },
     "execution_count": 262,
     "metadata": {},
     "output_type": "execute_result"
    }
   ],
   "source": [
    "dataset[dataset['cod_persona']==170635]"
   ]
  },
  {
   "cell_type": "markdown",
   "metadata": {},
   "source": [
    "Se observan que hay valores nulos en la columna 'sexo' que no en todos los registros de la misma persona son nulos. Suponiendo que el sexo de una persona no puede cambiar en el tiempo, se decide rellenar los valores nulos con el valor que tiene para otros registros."
   ]
  },
  {
   "cell_type": "code",
   "execution_count": 263,
   "metadata": {
    "ExecuteTime": {
     "end_time": "2024-06-09T14:14:27.898551600Z",
     "start_time": "2024-06-09T14:14:22.747739800Z"
    }
   },
   "outputs": [
    {
     "name": "stdout",
     "output_type": "stream",
     "text": [
      "       cod_persona  total_registros  num_nulos\n",
      "41790      1337182                9          9\n"
     ]
    }
   ],
   "source": [
    "# Calcular el número de registros por 'cod_persona'\n",
    "num_registros_por_persona = dataset.groupby('cod_persona').size().reset_index(name='total_registros')\n",
    "\n",
    "# Calcular el número de valores nulos en la columna 'sexo' por cada 'cod_persona'\n",
    "num_nulos_por_persona = dataset.groupby('cod_persona')['sexo'].apply(lambda x: x.isnull().sum()).reset_index(name='num_nulos')\n",
    "\n",
    "# Unir la información de los nulos y el total de registros al dataset original\n",
    "info_completa = num_registros_por_persona.merge(num_nulos_por_persona, on='cod_persona')\n",
    "\n",
    "# Filtrar para encontrar las personas donde el número de nulos es igual al número de registros\n",
    "personas_con_todos_nulos = info_completa[info_completa['total_registros'] == info_completa['num_nulos']]\n",
    "\n",
    "print(personas_con_todos_nulos)"
   ]
  },
  {
   "cell_type": "markdown",
   "metadata": {},
   "source": [
    "La unica persona con todos los valores de sexo nulos es la persona 41790. Se decide rellenar los valores de esta persona como si fuera un hombre, son solo 9 registros por lo que no afecta a la distribución de la variable. "
   ]
  },
  {
   "cell_type": "code",
   "execution_count": 264,
   "metadata": {
    "ExecuteTime": {
     "end_time": "2024-06-09T14:14:27.914620900Z",
     "start_time": "2024-06-09T14:14:27.872998600Z"
    }
   },
   "outputs": [],
   "source": [
    "dataset.loc[dataset['cod_persona'] == 1337182, 'sexo'] = dataset.loc[dataset['cod_persona'] == 1337182, 'sexo'].fillna('V')"
   ]
  },
  {
   "cell_type": "markdown",
   "metadata": {},
   "source": [
    "Rellenamos todos los valores nulos de cada persona con otro valor del campo sexo que ya exista para ese cod_persona"
   ]
  },
  {
   "cell_type": "code",
   "execution_count": 265,
   "metadata": {
    "ExecuteTime": {
     "end_time": "2024-06-09T14:14:36.165671900Z",
     "start_time": "2024-06-09T14:14:27.891036300Z"
    }
   },
   "outputs": [],
   "source": [
    "valores_no_nulos = dataset.dropna(subset=['sexo']).drop_duplicates(subset=['cod_persona'], keep='first')\n",
    "# Crear un diccionario con los valores no nulos\n",
    "valores_no_nulos_dict = valores_no_nulos.set_index('cod_persona')['sexo'].to_dict()\n",
    "\n",
    "#Rellenar los valores nulos en 'sexo' usando el valor no nulo correspondiente de cada 'cod_persona'\n",
    "dataset['sexo'] = dataset.apply(lambda row: valores_no_nulos_dict.get(row['cod_persona'], row['sexo']) if pd.isnull(row['sexo']) else row['sexo'], axis=1)"
   ]
  },
  {
   "cell_type": "code",
   "execution_count": 266,
   "metadata": {
    "ExecuteTime": {
     "end_time": "2024-06-09T14:14:36.231993900Z",
     "start_time": "2024-06-09T14:14:36.167171200Z"
    }
   },
   "outputs": [],
   "source": [
    "# Crear un diccionario de mapeo para asignar números a cada género\n",
    "mapping_sex = {'V': 1, 'H': 0}\n",
    "\n",
    "# Aplicar el mapeo a la columna 'customer_sex'\n",
    "dataset['sexo'] = dataset['sexo'].map(mapping_sex)"
   ]
  },
  {
   "cell_type": "code",
   "execution_count": 267,
   "metadata": {
    "ExecuteTime": {
     "end_time": "2024-06-09T14:14:36.254536200Z",
     "start_time": "2024-06-09T14:14:36.212880400Z"
    }
   },
   "outputs": [
    {
     "data": {
      "text/plain": "sexo\n1    346889\n0    287793\nName: count, dtype: int64"
     },
     "execution_count": 267,
     "metadata": {},
     "output_type": "execute_result"
    }
   ],
   "source": [
    "dataset['sexo'].value_counts()"
   ]
  },
  {
   "cell_type": "markdown",
   "metadata": {},
   "source": [
    "### edad\n",
    "Customer’s\tage"
   ]
  },
  {
   "cell_type": "code",
   "execution_count": 268,
   "metadata": {
    "ExecuteTime": {
     "end_time": "2024-06-09T14:14:36.434528Z",
     "start_time": "2024-06-09T14:14:36.414500300Z"
    }
   },
   "outputs": [],
   "source": [
    "dataset['edad'] = pd.to_numeric(dataset['edad'], errors='coerce')"
   ]
  },
  {
   "cell_type": "code",
   "execution_count": 269,
   "metadata": {
    "ExecuteTime": {
     "end_time": "2024-06-09T14:14:36.474164900Z",
     "start_time": "2024-06-09T14:14:36.431527700Z"
    }
   },
   "outputs": [
    {
     "data": {
      "text/plain": "56"
     },
     "execution_count": 269,
     "metadata": {},
     "output_type": "execute_result"
    }
   ],
   "source": [
    "dataset['edad'].isnull().sum()"
   ]
  },
  {
   "cell_type": "code",
   "execution_count": 270,
   "metadata": {
    "ExecuteTime": {
     "end_time": "2024-06-09T14:14:36.685469800Z",
     "start_time": "2024-06-09T14:14:36.452145900Z"
    }
   },
   "outputs": [
    {
     "data": {
      "text/plain": "<Figure size 720x432 with 1 Axes>",
      "image/png": "[encoded data removed]"
     },
     "metadata": {
      "needs_background": "light"
     },
     "output_type": "display_data"
    }
   ],
   "source": [
    "# Plottear la distribución de edades\n",
    "plt.figure(figsize=(10, 6))\n",
    "plt.hist(dataset['edad'].dropna(), bins=30, edgecolor='k', alpha=0.7)\n",
    "plt.title('Distribución de Edades')\n",
    "plt.xticks(range(0, 120, 5))\n",
    "plt.xlabel('Edad')\n",
    "plt.ylabel('Frecuencia')\n",
    "plt.grid(True)\n",
    "plt.show()"
   ]
  },
  {
   "cell_type": "markdown",
   "metadata": {},
   "source": [
    "Se observa que la distribución es bastante uniforme sin un skewness claramente definido. Sin embargo, se destaca como entre los 20-25 años hay un pico de personas."
   ]
  },
  {
   "cell_type": "markdown",
   "metadata": {},
   "source": [
    "### fecha1\n",
    "The\tdate\tin\twhich\tthe\tcustomer\tbecame\tas\tthe\tfirst\tholder\tof\ta\tcontract\tin\tthe\tbank"
   ]
  },
  {
   "cell_type": "code",
   "execution_count": 271,
   "metadata": {
    "ExecuteTime": {
     "end_time": "2024-06-09T14:14:36.802897200Z",
     "start_time": "2024-06-09T14:14:36.684416600Z"
    }
   },
   "outputs": [
    {
     "data": {
      "text/plain": "56"
     },
     "execution_count": 271,
     "metadata": {},
     "output_type": "execute_result"
    }
   ],
   "source": [
    "dataset['fecha1'].isnull().sum()"
   ]
  },
  {
   "cell_type": "markdown",
   "metadata": {},
   "source": [
    "Se observa que hay 56 valores nuloes en varias columnas. Se buscan patrones e intentamos adoptar el mismo enfoque con ellas:"
   ]
  },
  {
   "cell_type": "code",
   "execution_count": 272,
   "metadata": {
    "ExecuteTime": {
     "end_time": "2024-06-09T14:14:36.918776900Z",
     "start_time": "2024-06-09T14:14:36.717850800Z"
    }
   },
   "outputs": [
    {
     "name": "stdout",
     "output_type": "stream",
     "text": [
      "cod_persona              False\n",
      "mes                      False\n",
      "sexo                     False\n",
      "edad                      True\n",
      "fecha1                    True\n",
      "xti_empleado              True\n",
      "xti_nuevo_cliente         True\n",
      "num_antiguedad           False\n",
      "xti_rel                   True\n",
      "fec_ult_cli_1t           False\n",
      "xti_rel_1mes             False\n",
      "tip_rel_1mes             False\n",
      "indresi                   True\n",
      "indext                    True\n",
      "des_canal                False\n",
      "xti_extra                 True\n",
      "tip_dom                   True\n",
      "cod_provincia            False\n",
      "xti_actividad_cliente     True\n",
      "imp_renta                False\n",
      "id_segmento              False\n",
      "mean_engagement          False\n",
      "ind_prod1                False\n",
      "ind_prod2                False\n",
      "ind_prod3                False\n",
      "ind_prod4                False\n",
      "ind_prod5                False\n",
      "ind_prod6                False\n",
      "ind_prod7                False\n",
      "ind_prod8                False\n",
      "ind_prod9                False\n",
      "ind_prod10               False\n",
      "ind_prod11               False\n",
      "ind_prod12               False\n",
      "ind_prod13               False\n",
      "ind_prod14               False\n",
      "ind_prod15               False\n",
      "ind_prod16               False\n",
      "ind_prod17               False\n",
      "ind_prod18               False\n",
      "ind_prod19               False\n",
      "ind_prod20               False\n",
      "ind_prod21               False\n",
      "ind_prod22               False\n",
      "ind_prod23               False\n",
      "ind_prod24               False\n",
      "ind_prod25               False\n",
      "mes_mes                  False\n",
      "mes_año                  False\n",
      "pais_binario             False\n",
      "dtype: bool\n"
     ]
    }
   ],
   "source": [
    "print(dataset.isnull().sum()==56)"
   ]
  },
  {
   "cell_type": "code",
   "execution_count": 273,
   "metadata": {
    "ExecuteTime": {
     "end_time": "2024-06-09T14:14:37.044337900Z",
     "start_time": "2024-06-09T14:14:36.940810300Z"
    }
   },
   "outputs": [
    {
     "data": {
      "text/plain": "        cod_persona        mes  sexo  edad fecha1 xti_empleado  \\\n1453         532938 2015-01-28     1   NaN    NaN          NaN   \n2570         421992 2015-01-28     0   NaN    NaN          NaN   \n5323         672042 2015-01-28     0   NaN    NaN          NaN   \n7976         256163 2015-01-28     0   NaN    NaN          NaN   \n8899         289373 2015-01-28     1   NaN    NaN          NaN   \n9160         300713 2015-01-28     1   NaN    NaN          NaN   \n10037        210920 2015-01-28     0   NaN    NaN          NaN   \n10178        205901 2015-01-28     0   NaN    NaN          NaN   \n10287        183684 2015-01-28     0   NaN    NaN          NaN   \n11391        216184 2015-01-28     0   NaN    NaN          NaN   \n12511        372326 2015-01-28     1   NaN    NaN          NaN   \n17757       1185286 2015-01-28     0   NaN    NaN          NaN   \n21209       1500541 2015-01-28     1   NaN    NaN          NaN   \n22899       1390588 2015-01-28     1   NaN    NaN          NaN   \n24455        931306 2015-01-28     1   NaN    NaN          NaN   \n28599       1097377 2015-01-28     1   NaN    NaN          NaN   \n30783       1012056 2015-01-28     1   NaN    NaN          NaN   \n31006       1012056 2015-02-28     1   NaN    NaN          NaN   \n32050        931306 2015-02-28     1   NaN    NaN          NaN   \n36003        672042 2015-02-28     0   NaN    NaN          NaN   \n38929       1390588 2015-02-28     1   NaN    NaN          NaN   \n40498       1500541 2015-02-28     1   NaN    NaN          NaN   \n42830       1185286 2015-02-28     0   NaN    NaN          NaN   \n47789        300713 2015-02-28     1   NaN    NaN          NaN   \n49501        372326 2015-02-28     1   NaN    NaN          NaN   \n50296        216184 2015-02-28     0   NaN    NaN          NaN   \n50459        210920 2015-02-28     0   NaN    NaN          NaN   \n51501        170635 2015-02-28     1   NaN    NaN          NaN   \n59305        421992 2015-02-28     0   NaN    NaN          NaN   \n60545        532938 2015-02-28     1   NaN    NaN          NaN   \n62584       1012056 2015-03-28     1   NaN    NaN          NaN   \n62870        931306 2015-03-28     1   NaN    NaN          NaN   \n67098        672042 2015-03-28     0   NaN    NaN          NaN   \n69663       1390588 2015-03-28     1   NaN    NaN          NaN   \n72277       1500541 2015-03-28     1   NaN    NaN          NaN   \n78488        300713 2015-03-28     1   NaN    NaN          NaN   \n81102        372326 2015-03-28     1   NaN    NaN          NaN   \n81383        210920 2015-03-28     0   NaN    NaN          NaN   \n82415        170635 2015-03-28     1   NaN    NaN          NaN   \n86523        532938 2015-03-28     1   NaN    NaN          NaN   \n90240        421992 2015-03-28     0   NaN    NaN          NaN   \n93132       1012056 2015-04-28     1   NaN    NaN          NaN   \n98136        672042 2015-04-28     0   NaN    NaN          NaN   \n101072      1390588 2015-04-28     1   NaN    NaN          NaN   \n109532       300713 2015-04-28     1   NaN    NaN          NaN   \n113518       170635 2015-04-28     1   NaN    NaN          NaN   \n117665       532938 2015-04-28     1   NaN    NaN          NaN   \n121368       421992 2015-04-28     0   NaN    NaN          NaN   \n126992       421992 2015-05-28     0   NaN    NaN          NaN   \n130875       532938 2015-05-28     1   NaN    NaN          NaN   \n134835       170635 2015-05-28     1   NaN    NaN          NaN   \n150407       672042 2015-05-28     0   NaN    NaN          NaN   \n155345      1012056 2015-05-28     1   NaN    NaN          NaN   \n158323       421992 2015-06-28     0   NaN    NaN          NaN   \n162097       532938 2015-06-28     1   NaN    NaN          NaN   \n165637       170635 2015-06-28     1   NaN    NaN          NaN   \n\n        xti_nuevo_cliente num_antiguedad  xti_rel fec_ult_cli_1t  ...  \\\n1453                  NaN             NA      NaN            NaN  ...   \n2570                  NaN             NA      NaN            NaN  ...   \n5323                  NaN             NA      NaN            NaN  ...   \n7976                  NaN             NA      NaN            NaN  ...   \n8899                  NaN             NA      NaN            NaN  ...   \n9160                  NaN             NA      NaN            NaN  ...   \n10037                 NaN             NA      NaN            NaN  ...   \n10178                 NaN             NA      NaN            NaN  ...   \n10287                 NaN             NA      NaN            NaN  ...   \n11391                 NaN             NA      NaN            NaN  ...   \n12511                 NaN             NA      NaN            NaN  ...   \n17757                 NaN             NA      NaN            NaN  ...   \n21209                 NaN             NA      NaN            NaN  ...   \n22899                 NaN             NA      NaN            NaN  ...   \n24455                 NaN             NA      NaN            NaN  ...   \n28599                 NaN             NA      NaN            NaN  ...   \n30783                 NaN             NA      NaN            NaN  ...   \n31006                 NaN             NA      NaN            NaN  ...   \n32050                 NaN             NA      NaN            NaN  ...   \n36003                 NaN             NA      NaN            NaN  ...   \n38929                 NaN             NA      NaN            NaN  ...   \n40498                 NaN             NA      NaN            NaN  ...   \n42830                 NaN             NA      NaN            NaN  ...   \n47789                 NaN             NA      NaN            NaN  ...   \n49501                 NaN             NA      NaN            NaN  ...   \n50296                 NaN             NA      NaN            NaN  ...   \n50459                 NaN             NA      NaN            NaN  ...   \n51501                 NaN             NA      NaN            NaN  ...   \n59305                 NaN             NA      NaN            NaN  ...   \n60545                 NaN             NA      NaN            NaN  ...   \n62584                 NaN             NA      NaN            NaN  ...   \n62870                 NaN             NA      NaN            NaN  ...   \n67098                 NaN             NA      NaN            NaN  ...   \n69663                 NaN             NA      NaN            NaN  ...   \n72277                 NaN             NA      NaN            NaN  ...   \n78488                 NaN             NA      NaN            NaN  ...   \n81102                 NaN             NA      NaN            NaN  ...   \n81383                 NaN             NA      NaN            NaN  ...   \n82415                 NaN             NA      NaN            NaN  ...   \n86523                 NaN             NA      NaN            NaN  ...   \n90240                 NaN             NA      NaN            NaN  ...   \n93132                 NaN             NA      NaN            NaN  ...   \n98136                 NaN             NA      NaN            NaN  ...   \n101072                NaN             NA      NaN            NaN  ...   \n109532                NaN             NA      NaN            NaN  ...   \n113518                NaN             NA      NaN            NaN  ...   \n117665                NaN             NA      NaN            NaN  ...   \n121368                NaN             NA      NaN            NaN  ...   \n126992                NaN             NA      NaN            NaN  ...   \n130875                NaN             NA      NaN            NaN  ...   \n134835                NaN             NA      NaN            NaN  ...   \n150407                NaN             NA      NaN            NaN  ...   \n155345                NaN             NA      NaN            NaN  ...   \n158323                NaN             NA      NaN            NaN  ...   \n162097                NaN             NA      NaN            NaN  ...   \n165637                NaN             NA      NaN            NaN  ...   \n\n        ind_prod19 ind_prod20 ind_prod21 ind_prod22 ind_prod23 ind_prod24  \\\n1453             0          0          0        NaN        NaN          0   \n2570             0          0          0        NaN        NaN          0   \n5323             0          0          0        0.0        0.0          0   \n7976             0          0          0        NaN        NaN          0   \n8899             0          0          0        NaN        NaN          0   \n9160             0          0          0        0.0        0.0          0   \n10037            0          0          0        0.0        0.0          0   \n10178            0          0          0        NaN        NaN          0   \n10287            0          0          0        NaN        NaN          0   \n11391            0          0          0        0.0        0.0          0   \n12511            0          0          0        0.0        0.0          0   \n17757            0          0          0        0.0        0.0          0   \n21209            0          0          0        0.0        0.0          1   \n22899            0          0          0        0.0        0.0          0   \n24455            0          0          0        0.0        0.0          0   \n28599            0          0          0        0.0        0.0          0   \n30783            0          0          0        0.0        0.0          0   \n31006            0          0          0        0.0        0.0          0   \n32050            1          0          0        0.0        0.0          0   \n36003            0          0          0        0.0        0.0          0   \n38929            0          0          0        0.0        0.0          0   \n40498            0          0          0        0.0        0.0          1   \n42830            0          0          0        NaN        NaN          0   \n47789            0          0          0        0.0        0.0          0   \n49501            0          0          0        0.0        0.0          0   \n50296            0          0          0        NaN        NaN          0   \n50459            0          0          0        0.0        0.0          0   \n51501            0          0          0        0.0        0.0          0   \n59305            0          0          0        NaN        NaN          0   \n60545            0          0          0        NaN        NaN          0   \n62584            0          0          0        0.0        0.0          0   \n62870            0          0          0        NaN        NaN          0   \n67098            0          0          0        0.0        0.0          0   \n69663            0          0          0        0.0        0.0          0   \n72277            0          0          0        NaN        NaN          0   \n78488            0          0          0        0.0        0.0          0   \n81102            0          0          0        NaN        NaN          0   \n81383            0          0          0        NaN        NaN          0   \n82415            0          0          0        0.0        0.0          0   \n86523            0          0          0        NaN        NaN          0   \n90240            0          0          0        NaN        NaN          0   \n93132            0          0          0        NaN        NaN          0   \n98136            0          0          0        0.0        0.0          0   \n101072           0          0          0        NaN        NaN          0   \n109532           0          0          0        NaN        NaN          0   \n113518           0          0          0        0.0        0.0          0   \n117665           0          0          0        NaN        NaN          0   \n121368           0          0          0        NaN        NaN          0   \n126992           0          0          0        NaN        NaN          0   \n130875           0          0          0        NaN        NaN          0   \n134835           0          0          0        0.0        0.0          0   \n150407           0          0          0        NaN        NaN          0   \n155345           0          0          0        NaN        NaN          0   \n158323           0          0          0        NaN        NaN          0   \n162097           0          0          0        NaN        NaN          0   \n165637           0          0          0        NaN        NaN          0   \n\n        ind_prod25  mes_mes  mes_año  pais_binario  \n1453             0        1     2015             0  \n2570             0        1     2015             0  \n5323             0        1     2015             0  \n7976             0        1     2015             0  \n8899             0        1     2015             0  \n9160             0        1     2015             0  \n10037            0        1     2015             0  \n10178            0        1     2015             0  \n10287            0        1     2015             0  \n11391            0        1     2015             0  \n12511            0        1     2015             0  \n17757            0        1     2015             0  \n21209            0        1     2015             0  \n22899            0        1     2015             0  \n24455            0        1     2015             0  \n28599            0        1     2015             0  \n30783            0        1     2015             0  \n31006            0        2     2015             0  \n32050            1        2     2015             0  \n36003            0        2     2015             0  \n38929            0        2     2015             0  \n40498            0        2     2015             0  \n42830            0        2     2015             0  \n47789            0        2     2015             0  \n49501            0        2     2015             0  \n50296            0        2     2015             0  \n50459            0        2     2015             0  \n51501            0        2     2015             0  \n59305            0        2     2015             0  \n60545            0        2     2015             0  \n62584            0        3     2015             0  \n62870            0        3     2015             0  \n67098            0        3     2015             0  \n69663            0        3     2015             0  \n72277            0        3     2015             0  \n78488            0        3     2015             0  \n81102            0        3     2015             0  \n81383            0        3     2015             0  \n82415            0        3     2015             0  \n86523            0        3     2015             0  \n90240            0        3     2015             0  \n93132            0        4     2015             0  \n98136            0        4     2015             0  \n101072           0        4     2015             0  \n109532           0        4     2015             0  \n113518           0        4     2015             0  \n117665           0        4     2015             0  \n121368           0        4     2015             0  \n126992           0        5     2015             0  \n130875           0        5     2015             0  \n134835           0        5     2015             0  \n150407           0        5     2015             0  \n155345           0        5     2015             0  \n158323           0        6     2015             0  \n162097           0        6     2015             0  \n165637           0        6     2015             0  \n\n[56 rows x 50 columns]",
      "text/html": "<div>\n<style scoped>\n    .dataframe tbody tr th:only-of-type {\n        vertical-align: middle;\n    }\n\n    .dataframe tbody tr th {\n        vertical-align: top;\n    }\n\n    .dataframe thead th {\n        text-align: right;\n    }\n</style>\n<table border=\"1\" class=\"dataframe\">\n  <thead>\n    <tr style=\"text-align: right;\">\n      <th></th>\n      <th>cod_persona</th>\n      <th>mes</th>\n      <th>sexo</th>\n      <th>edad</th>\n      <th>fecha1</th>\n      <th>xti_empleado</th>\n      <th>xti_nuevo_cliente</th>\n      <th>num_antiguedad</th>\n      <th>xti_rel</th>\n      <th>fec_ult_cli_1t</th>\n      <th>...</th>\n      <th>ind_prod19</th>\n      <th>ind_prod20</th>\n      <th>ind_prod21</th>\n      <th>ind_prod22</th>\n      <th>ind_prod23</th>\n      <th>ind_prod24</th>\n      <th>ind_prod25</th>\n      <th>mes_mes</th>\n      <th>mes_año</th>\n      <th>pais_binario</th>\n    </tr>\n  </thead>\n  <tbody>\n    <tr>\n      <th>1453</th>\n      <td>532938</td>\n      <td>2015-01-28</td>\n      <td>1</td>\n      <td>NaN</td>\n      <td>NaN</td>\n      <td>NaN</td>\n      <td>NaN</td>\n      <td>NA</td>\n      <td>NaN</td>\n      <td>NaN</td>\n      <td>...</td>\n      <td>0</td>\n      <td>0</td>\n      <td>0</td>\n      <td>NaN</td>\n      <td>NaN</td>\n      <td>0</td>\n      <td>0</td>\n      <td>1</td>\n      <td>2015</td>\n      <td>0</td>\n    </tr>\n    <tr>\n      <th>2570</th>\n      <td>421992</td>\n      <td>2015-01-28</td>\n      <td>0</td>\n      <td>NaN</td>\n      <td>NaN</td>\n      <td>NaN</td>\n      <td>NaN</td>\n      <td>NA</td>\n      <td>NaN</td>\n      <td>NaN</td>\n      <td>...</td>\n      <td>0</td>\n      <td>0</td>\n      <td>0</td>\n      <td>NaN</td>\n      <td>NaN</td>\n      <td>0</td>\n      <td>0</td>\n      <td>1</td>\n      <td>2015</td>\n      <td>0</td>\n    </tr>\n    <tr>\n      <th>5323</th>\n      <td>672042</td>\n      <td>2015-01-28</td>\n      <td>0</td>\n      <td>NaN</td>\n      <td>NaN</td>\n      <td>NaN</td>\n      <td>NaN</td>\n      <td>NA</td>\n      <td>NaN</td>\n      <td>NaN</td>\n      <td>...</td>\n      <td>0</td>\n      <td>0</td>\n      <td>0</td>\n      <td>0.0</td>\n      <td>0.0</td>\n      <td>0</td>\n      <td>0</td>\n      <td>1</td>\n      <td>2015</td>\n      <td>0</td>\n    </tr>\n    <tr>\n      <th>7976</th>\n      <td>256163</td>\n      <td>2015-01-28</td>\n      <td>0</td>\n      <td>NaN</td>\n      <td>NaN</td>\n      <td>NaN</td>\n      <td>NaN</td>\n      <td>NA</td>\n      <td>NaN</td>\n      <td>NaN</td>\n      <td>...</td>\n      <td>0</td>\n      <td>0</td>\n      <td>0</td>\n      <td>NaN</td>\n      <td>NaN</td>\n      <td>0</td>\n      <td>0</td>\n      <td>1</td>\n      <td>2015</td>\n      <td>0</td>\n    </tr>\n    <tr>\n      <th>8899</th>\n      <td>289373</td>\n      <td>2015-01-28</td>\n      <td>1</td>\n      <td>NaN</td>\n      <td>NaN</td>\n      <td>NaN</td>\n      <td>NaN</td>\n      <td>NA</td>\n      <td>NaN</td>\n      <td>NaN</td>\n      <td>...</td>\n      <td>0</td>\n      <td>0</td>\n      <td>0</td>\n      <td>NaN</td>\n      <td>NaN</td>\n      <td>0</td>\n      <td>0</td>\n      <td>1</td>\n      <td>2015</td>\n      <td>0</td>\n    </tr>\n    <tr>\n      <th>9160</th>\n      <td>300713</td>\n      <td>2015-01-28</td>\n      <td>1</td>\n      <td>NaN</td>\n      <td>NaN</td>\n      <td>NaN</td>\n      <td>NaN</td>\n      <td>NA</td>\n      <td>NaN</td>\n      <td>NaN</td>\n      <td>...</td>\n      <td>0</td>\n      <td>0</td>\n      <td>0</td>\n      <td>0.0</td>\n      <td>0.0</td>\n      <td>0</td>\n      <td>0</td>\n      <td>1</td>\n      <td>2015</td>\n      <td>0</td>\n    </tr>\n    <tr>\n      <th>10037</th>\n      <td>210920</td>\n      <td>2015-01-28</td>\n      <td>0</td>\n      <td>NaN</td>\n      <td>NaN</td>\n      <td>NaN</td>\n      <td>NaN</td>\n      <td>NA</td>\n      <td>NaN</td>\n      <td>NaN</td>\n      <td>...</td>\n      <td>0</td>\n      <td>0</td>\n      <td>0</td>\n      <td>0.0</td>\n      <td>0.0</td>\n      <td>0</td>\n      <td>0</td>\n      <td>1</td>\n      <td>2015</td>\n      <td>0</td>\n    </tr>\n    <tr>\n      <th>10178</th>\n      <td>205901</td>\n      <td>2015-01-28</td>\n      <td>0</td>\n      <td>NaN</td>\n      <td>NaN</td>\n      <td>NaN</td>\n      <td>NaN</td>\n      <td>NA</td>\n      <td>NaN</td>\n      <td>NaN</td>\n      <td>...</td>\n      <td>0</td>\n      <td>0</td>\n      <td>0</td>\n      <td>NaN</td>\n      <td>NaN</td>\n      <td>0</td>\n      <td>0</td>\n      <td>1</td>\n      <td>2015</td>\n      <td>0</td>\n    </tr>\n    <tr>\n      <th>10287</th>\n      <td>183684</td>\n      <td>2015-01-28</td>\n      <td>0</td>\n      <td>NaN</td>\n      <td>NaN</td>\n      <td>NaN</td>\n      <td>NaN</td>\n      <td>NA</td>\n      <td>NaN</td>\n      <td>NaN</td>\n      <td>...</td>\n      <td>0</td>\n      <td>0</td>\n      <td>0</td>\n      <td>NaN</td>\n      <td>NaN</td>\n      <td>0</td>\n      <td>0</td>\n      <td>1</td>\n      <td>2015</td>\n      <td>0</td>\n    </tr>\n    <tr>\n      <th>11391</th>\n      <td>216184</td>\n      <td>2015-01-28</td>\n      <td>0</td>\n      <td>NaN</td>\n      <td>NaN</td>\n      <td>NaN</td>\n      <td>NaN</td>\n      <td>NA</td>\n      <td>NaN</td>\n      <td>NaN</td>\n      <td>...</td>\n      <td>0</td>\n      <td>0</td>\n      <td>0</td>\n      <td>0.0</td>\n      <td>0.0</td>\n      <td>0</td>\n      <td>0</td>\n      <td>1</td>\n      <td>2015</td>\n      <td>0</td>\n    </tr>\n    <tr>\n      <th>12511</th>\n      <td>372326</td>\n      <td>2015-01-28</td>\n      <td>1</td>\n      <td>NaN</td>\n      <td>NaN</td>\n      <td>NaN</td>\n      <td>NaN</td>\n      <td>NA</td>\n      <td>NaN</td>\n      <td>NaN</td>\n      <td>...</td>\n      <td>0</td>\n      <td>0</td>\n      <td>0</td>\n      <td>0.0</td>\n      <td>0.0</td>\n      <td>0</td>\n      <td>0</td>\n      <td>1</td>\n      <td>2015</td>\n      <td>0</td>\n    </tr>\n    <tr>\n      <th>17757</th>\n      <td>1185286</td>\n      <td>2015-01-28</td>\n      <td>0</td>\n      <td>NaN</td>\n      <td>NaN</td>\n      <td>NaN</td>\n      <td>NaN</td>\n      <td>NA</td>\n      <td>NaN</td>\n      <td>NaN</td>\n      <td>...</td>\n      <td>0</td>\n      <td>0</td>\n      <td>0</td>\n      <td>0.0</td>\n      <td>0.0</td>\n      <td>0</td>\n      <td>0</td>\n      <td>1</td>\n      <td>2015</td>\n      <td>0</td>\n    </tr>\n    <tr>\n      <th>21209</th>\n      <td>1500541</td>\n      <td>2015-01-28</td>\n      <td>1</td>\n      <td>NaN</td>\n      <td>NaN</td>\n      <td>NaN</td>\n      <td>NaN</td>\n      <td>NA</td>\n      <td>NaN</td>\n      <td>NaN</td>\n      <td>...</td>\n      <td>0</td>\n      <td>0</td>\n      <td>0</td>\n      <td>0.0</td>\n      <td>0.0</td>\n      <td>1</td>\n      <td>0</td>\n      <td>1</td>\n      <td>2015</td>\n      <td>0</td>\n    </tr>\n    <tr>\n      <th>22899</th>\n      <td>1390588</td>\n      <td>2015-01-28</td>\n      <td>1</td>\n      <td>NaN</td>\n      <td>NaN</td>\n      <td>NaN</td>\n      <td>NaN</td>\n      <td>NA</td>\n      <td>NaN</td>\n      <td>NaN</td>\n      <td>...</td>\n      <td>0</td>\n      <td>0</td>\n      <td>0</td>\n      <td>0.0</td>\n      <td>0.0</td>\n      <td>0</td>\n      <td>0</td>\n      <td>1</td>\n      <td>2015</td>\n      <td>0</td>\n    </tr>\n    <tr>\n      <th>24455</th>\n      <td>931306</td>\n      <td>2015-01-28</td>\n      <td>1</td>\n      <td>NaN</td>\n      <td>NaN</td>\n      <td>NaN</td>\n      <td>NaN</td>\n      <td>NA</td>\n      <td>NaN</td>\n      <td>NaN</td>\n      <td>...</td>\n      <td>0</td>\n      <td>0</td>\n      <td>0</td>\n      <td>0.0</td>\n      <td>0.0</td>\n      <td>0</td>\n      <td>0</td>\n      <td>1</td>\n      <td>2015</td>\n      <td>0</td>\n    </tr>\n    <tr>\n      <th>28599</th>\n      <td>1097377</td>\n      <td>2015-01-28</td>\n      <td>1</td>\n      <td>NaN</td>\n      <td>NaN</td>\n      <td>NaN</td>\n      <td>NaN</td>\n      <td>NA</td>\n      <td>NaN</td>\n      <td>NaN</td>\n      <td>...</td>\n      <td>0</td>\n      <td>0</td>\n      <td>0</td>\n      <td>0.0</td>\n      <td>0.0</td>\n      <td>0</td>\n      <td>0</td>\n      <td>1</td>\n      <td>2015</td>\n      <td>0</td>\n    </tr>\n    <tr>\n      <th>30783</th>\n      <td>1012056</td>\n      <td>2015-01-28</td>\n      <td>1</td>\n      <td>NaN</td>\n      <td>NaN</td>\n      <td>NaN</td>\n      <td>NaN</td>\n      <td>NA</td>\n      <td>NaN</td>\n      <td>NaN</td>\n      <td>...</td>\n      <td>0</td>\n      <td>0</td>\n      <td>0</td>\n      <td>0.0</td>\n      <td>0.0</td>\n      <td>0</td>\n      <td>0</td>\n      <td>1</td>\n      <td>2015</td>\n      <td>0</td>\n    </tr>\n    <tr>\n      <th>31006</th>\n      <td>1012056</td>\n      <td>2015-02-28</td>\n      <td>1</td>\n      <td>NaN</td>\n      <td>NaN</td>\n      <td>NaN</td>\n      <td>NaN</td>\n      <td>NA</td>\n      <td>NaN</td>\n      <td>NaN</td>\n      <td>...</td>\n      <td>0</td>\n      <td>0</td>\n      <td>0</td>\n      <td>0.0</td>\n      <td>0.0</td>\n      <td>0</td>\n      <td>0</td>\n      <td>2</td>\n      <td>2015</td>\n      <td>0</td>\n    </tr>\n    <tr>\n      <th>32050</th>\n      <td>931306</td>\n      <td>2015-02-28</td>\n      <td>1</td>\n      <td>NaN</td>\n      <td>NaN</td>\n      <td>NaN</td>\n      <td>NaN</td>\n      <td>NA</td>\n      <td>NaN</td>\n      <td>NaN</td>\n      <td>...</td>\n      <td>1</td>\n      <td>0</td>\n      <td>0</td>\n      <td>0.0</td>\n      <td>0.0</td>\n      <td>0</td>\n      <td>1</td>\n      <td>2</td>\n      <td>2015</td>\n      <td>0</td>\n    </tr>\n    <tr>\n      <th>36003</th>\n      <td>672042</td>\n      <td>2015-02-28</td>\n      <td>0</td>\n      <td>NaN</td>\n      <td>NaN</td>\n      <td>NaN</td>\n      <td>NaN</td>\n      <td>NA</td>\n      <td>NaN</td>\n      <td>NaN</td>\n      <td>...</td>\n      <td>0</td>\n      <td>0</td>\n      <td>0</td>\n      <td>0.0</td>\n      <td>0.0</td>\n      <td>0</td>\n      <td>0</td>\n      <td>2</td>\n      <td>2015</td>\n      <td>0</td>\n    </tr>\n    <tr>\n      <th>38929</th>\n      <td>1390588</td>\n      <td>2015-02-28</td>\n      <td>1</td>\n      <td>NaN</td>\n      <td>NaN</td>\n      <td>NaN</td>\n      <td>NaN</td>\n      <td>NA</td>\n      <td>NaN</td>\n      <td>NaN</td>\n      <td>...</td>\n      <td>0</td>\n      <td>0</td>\n      <td>0</td>\n      <td>0.0</td>\n      <td>0.0</td>\n      <td>0</td>\n      <td>0</td>\n      <td>2</td>\n      <td>2015</td>\n      <td>0</td>\n    </tr>\n    <tr>\n      <th>40498</th>\n      <td>1500541</td>\n      <td>2015-02-28</td>\n      <td>1</td>\n      <td>NaN</td>\n      <td>NaN</td>\n      <td>NaN</td>\n      <td>NaN</td>\n      <td>NA</td>\n      <td>NaN</td>\n      <td>NaN</td>\n      <td>...</td>\n      <td>0</td>\n      <td>0</td>\n      <td>0</td>\n      <td>0.0</td>\n      <td>0.0</td>\n      <td>1</td>\n      <td>0</td>\n      <td>2</td>\n      <td>2015</td>\n      <td>0</td>\n    </tr>\n    <tr>\n      <th>42830</th>\n      <td>1185286</td>\n      <td>2015-02-28</td>\n      <td>0</td>\n      <td>NaN</td>\n      <td>NaN</td>\n      <td>NaN</td>\n      <td>NaN</td>\n      <td>NA</td>\n      <td>NaN</td>\n      <td>NaN</td>\n      <td>...</td>\n      <td>0</td>\n      <td>0</td>\n      <td>0</td>\n      <td>NaN</td>\n      <td>NaN</td>\n      <td>0</td>\n      <td>0</td>\n      <td>2</td>\n      <td>2015</td>\n      <td>0</td>\n    </tr>\n    <tr>\n      <th>47789</th>\n      <td>300713</td>\n      <td>2015-02-28</td>\n      <td>1</td>\n      <td>NaN</td>\n      <td>NaN</td>\n      <td>NaN</td>\n      <td>NaN</td>\n      <td>NA</td>\n      <td>NaN</td>\n      <td>NaN</td>\n      <td>...</td>\n      <td>0</td>\n      <td>0</td>\n      <td>0</td>\n      <td>0.0</td>\n      <td>0.0</td>\n      <td>0</td>\n      <td>0</td>\n      <td>2</td>\n      <td>2015</td>\n      <td>0</td>\n    </tr>\n    <tr>\n      <th>49501</th>\n      <td>372326</td>\n      <td>2015-02-28</td>\n      <td>1</td>\n      <td>NaN</td>\n      <td>NaN</td>\n      <td>NaN</td>\n      <td>NaN</td>\n      <td>NA</td>\n      <td>NaN</td>\n      <td>NaN</td>\n      <td>...</td>\n      <td>0</td>\n      <td>0</td>\n      <td>0</td>\n      <td>0.0</td>\n      <td>0.0</td>\n      <td>0</td>\n      <td>0</td>\n      <td>2</td>\n      <td>2015</td>\n      <td>0</td>\n    </tr>\n    <tr>\n      <th>50296</th>\n      <td>216184</td>\n      <td>2015-02-28</td>\n      <td>0</td>\n      <td>NaN</td>\n      <td>NaN</td>\n      <td>NaN</td>\n      <td>NaN</td>\n      <td>NA</td>\n      <td>NaN</td>\n      <td>NaN</td>\n      <td>...</td>\n      <td>0</td>\n      <td>0</td>\n      <td>0</td>\n      <td>NaN</td>\n      <td>NaN</td>\n      <td>0</td>\n      <td>0</td>\n      <td>2</td>\n      <td>2015</td>\n      <td>0</td>\n    </tr>\n    <tr>\n      <th>50459</th>\n      <td>210920</td>\n      <td>2015-02-28</td>\n      <td>0</td>\n      <td>NaN</td>\n      <td>NaN</td>\n      <td>NaN</td>\n      <td>NaN</td>\n      <td>NA</td>\n      <td>NaN</td>\n      <td>NaN</td>\n      <td>...</td>\n      <td>0</td>\n      <td>0</td>\n      <td>0</td>\n      <td>0.0</td>\n      <td>0.0</td>\n      <td>0</td>\n      <td>0</td>\n      <td>2</td>\n      <td>2015</td>\n      <td>0</td>\n    </tr>\n    <tr>\n      <th>51501</th>\n      <td>170635</td>\n      <td>2015-02-28</td>\n      <td>1</td>\n      <td>NaN</td>\n      <td>NaN</td>\n      <td>NaN</td>\n      <td>NaN</td>\n      <td>NA</td>\n      <td>NaN</td>\n      <td>NaN</td>\n      <td>...</td>\n      <td>0</td>\n      <td>0</td>\n      <td>0</td>\n      <td>0.0</td>\n      <td>0.0</td>\n      <td>0</td>\n      <td>0</td>\n      <td>2</td>\n      <td>2015</td>\n      <td>0</td>\n    </tr>\n    <tr>\n      <th>59305</th>\n      <td>421992</td>\n      <td>2015-02-28</td>\n      <td>0</td>\n      <td>NaN</td>\n      <td>NaN</td>\n      <td>NaN</td>\n      <td>NaN</td>\n      <td>NA</td>\n      <td>NaN</td>\n      <td>NaN</td>\n      <td>...</td>\n      <td>0</td>\n      <td>0</td>\n      <td>0</td>\n      <td>NaN</td>\n      <td>NaN</td>\n      <td>0</td>\n      <td>0</td>\n      <td>2</td>\n      <td>2015</td>\n      <td>0</td>\n    </tr>\n    <tr>\n      <th>60545</th>\n      <td>532938</td>\n      <td>2015-02-28</td>\n      <td>1</td>\n      <td>NaN</td>\n      <td>NaN</td>\n      <td>NaN</td>\n      <td>NaN</td>\n      <td>NA</td>\n      <td>NaN</td>\n      <td>NaN</td>\n      <td>...</td>\n      <td>0</td>\n      <td>0</td>\n      <td>0</td>\n      <td>NaN</td>\n      <td>NaN</td>\n      <td>0</td>\n      <td>0</td>\n      <td>2</td>\n      <td>2015</td>\n      <td>0</td>\n    </tr>\n    <tr>\n      <th>62584</th>\n      <td>1012056</td>\n      <td>2015-03-28</td>\n      <td>1</td>\n      <td>NaN</td>\n      <td>NaN</td>\n      <td>NaN</td>\n      <td>NaN</td>\n      <td>NA</td>\n      <td>NaN</td>\n      <td>NaN</td>\n      <td>...</td>\n      <td>0</td>\n      <td>0</td>\n      <td>0</td>\n      <td>0.0</td>\n      <td>0.0</td>\n      <td>0</td>\n      <td>0</td>\n      <td>3</td>\n      <td>2015</td>\n      <td>0</td>\n    </tr>\n    <tr>\n      <th>62870</th>\n      <td>931306</td>\n      <td>2015-03-28</td>\n      <td>1</td>\n      <td>NaN</td>\n      <td>NaN</td>\n      <td>NaN</td>\n      <td>NaN</td>\n      <td>NA</td>\n      <td>NaN</td>\n      <td>NaN</td>\n      <td>...</td>\n      <td>0</td>\n      <td>0</td>\n      <td>0</td>\n      <td>NaN</td>\n      <td>NaN</td>\n      <td>0</td>\n      <td>0</td>\n      <td>3</td>\n      <td>2015</td>\n      <td>0</td>\n    </tr>\n    <tr>\n      <th>67098</th>\n      <td>672042</td>\n      <td>2015-03-28</td>\n      <td>0</td>\n      <td>NaN</td>\n      <td>NaN</td>\n      <td>NaN</td>\n      <td>NaN</td>\n      <td>NA</td>\n      <td>NaN</td>\n      <td>NaN</td>\n      <td>...</td>\n      <td>0</td>\n      <td>0</td>\n      <td>0</td>\n      <td>0.0</td>\n      <td>0.0</td>\n      <td>0</td>\n      <td>0</td>\n      <td>3</td>\n      <td>2015</td>\n      <td>0</td>\n    </tr>\n    <tr>\n      <th>69663</th>\n      <td>1390588</td>\n      <td>2015-03-28</td>\n      <td>1</td>\n      <td>NaN</td>\n      <td>NaN</td>\n      <td>NaN</td>\n      <td>NaN</td>\n      <td>NA</td>\n      <td>NaN</td>\n      <td>NaN</td>\n      <td>...</td>\n      <td>0</td>\n      <td>0</td>\n      <td>0</td>\n      <td>0.0</td>\n      <td>0.0</td>\n      <td>0</td>\n      <td>0</td>\n      <td>3</td>\n      <td>2015</td>\n      <td>0</td>\n    </tr>\n    <tr>\n      <th>72277</th>\n      <td>1500541</td>\n      <td>2015-03-28</td>\n      <td>1</td>\n      <td>NaN</td>\n      <td>NaN</td>\n      <td>NaN</td>\n      <td>NaN</td>\n      <td>NA</td>\n      <td>NaN</td>\n      <td>NaN</td>\n      <td>...</td>\n      <td>0</td>\n      <td>0</td>\n      <td>0</td>\n      <td>NaN</td>\n      <td>NaN</td>\n      <td>0</td>\n      <td>0</td>\n      <td>3</td>\n      <td>2015</td>\n      <td>0</td>\n    </tr>\n    <tr>\n      <th>78488</th>\n      <td>300713</td>\n      <td>2015-03-28</td>\n      <td>1</td>\n      <td>NaN</td>\n      <td>NaN</td>\n      <td>NaN</td>\n      <td>NaN</td>\n      <td>NA</td>\n      <td>NaN</td>\n      <td>NaN</td>\n      <td>...</td>\n      <td>0</td>\n      <td>0</td>\n      <td>0</td>\n      <td>0.0</td>\n      <td>0.0</td>\n      <td>0</td>\n      <td>0</td>\n      <td>3</td>\n      <td>2015</td>\n      <td>0</td>\n    </tr>\n    <tr>\n      <th>81102</th>\n      <td>372326</td>\n      <td>2015-03-28</td>\n      <td>1</td>\n      <td>NaN</td>\n      <td>NaN</td>\n      <td>NaN</td>\n      <td>NaN</td>\n      <td>NA</td>\n      <td>NaN</td>\n      <td>NaN</td>\n      <td>...</td>\n      <td>0</td>\n      <td>0</td>\n      <td>0</td>\n      <td>NaN</td>\n      <td>NaN</td>\n      <td>0</td>\n      <td>0</td>\n      <td>3</td>\n      <td>2015</td>\n      <td>0</td>\n    </tr>\n    <tr>\n      <th>81383</th>\n      <td>210920</td>\n      <td>2015-03-28</td>\n      <td>0</td>\n      <td>NaN</td>\n      <td>NaN</td>\n      <td>NaN</td>\n      <td>NaN</td>\n      <td>NA</td>\n      <td>NaN</td>\n      <td>NaN</td>\n      <td>...</td>\n      <td>0</td>\n      <td>0</td>\n      <td>0</td>\n      <td>NaN</td>\n      <td>NaN</td>\n      <td>0</td>\n      <td>0</td>\n      <td>3</td>\n      <td>2015</td>\n      <td>0</td>\n    </tr>\n    <tr>\n      <th>82415</th>\n      <td>170635</td>\n      <td>2015-03-28</td>\n      <td>1</td>\n      <td>NaN</td>\n      <td>NaN</td>\n      <td>NaN</td>\n      <td>NaN</td>\n      <td>NA</td>\n      <td>NaN</td>\n      <td>NaN</td>\n      <td>...</td>\n      <td>0</td>\n      <td>0</td>\n      <td>0</td>\n      <td>0.0</td>\n      <td>0.0</td>\n      <td>0</td>\n      <td>0</td>\n      <td>3</td>\n      <td>2015</td>\n      <td>0</td>\n    </tr>\n    <tr>\n      <th>86523</th>\n      <td>532938</td>\n      <td>2015-03-28</td>\n      <td>1</td>\n      <td>NaN</td>\n      <td>NaN</td>\n      <td>NaN</td>\n      <td>NaN</td>\n      <td>NA</td>\n      <td>NaN</td>\n      <td>NaN</td>\n      <td>...</td>\n      <td>0</td>\n      <td>0</td>\n      <td>0</td>\n      <td>NaN</td>\n      <td>NaN</td>\n      <td>0</td>\n      <td>0</td>\n      <td>3</td>\n      <td>2015</td>\n      <td>0</td>\n    </tr>\n    <tr>\n      <th>90240</th>\n      <td>421992</td>\n      <td>2015-03-28</td>\n      <td>0</td>\n      <td>NaN</td>\n      <td>NaN</td>\n      <td>NaN</td>\n      <td>NaN</td>\n      <td>NA</td>\n      <td>NaN</td>\n      <td>NaN</td>\n      <td>...</td>\n      <td>0</td>\n      <td>0</td>\n      <td>0</td>\n      <td>NaN</td>\n      <td>NaN</td>\n      <td>0</td>\n      <td>0</td>\n      <td>3</td>\n      <td>2015</td>\n      <td>0</td>\n    </tr>\n    <tr>\n      <th>93132</th>\n      <td>1012056</td>\n      <td>2015-04-28</td>\n      <td>1</td>\n      <td>NaN</td>\n      <td>NaN</td>\n      <td>NaN</td>\n      <td>NaN</td>\n      <td>NA</td>\n      <td>NaN</td>\n      <td>NaN</td>\n      <td>...</td>\n      <td>0</td>\n      <td>0</td>\n      <td>0</td>\n      <td>NaN</td>\n      <td>NaN</td>\n      <td>0</td>\n      <td>0</td>\n      <td>4</td>\n      <td>2015</td>\n      <td>0</td>\n    </tr>\n    <tr>\n      <th>98136</th>\n      <td>672042</td>\n      <td>2015-04-28</td>\n      <td>0</td>\n      <td>NaN</td>\n      <td>NaN</td>\n      <td>NaN</td>\n      <td>NaN</td>\n      <td>NA</td>\n      <td>NaN</td>\n      <td>NaN</td>\n      <td>...</td>\n      <td>0</td>\n      <td>0</td>\n      <td>0</td>\n      <td>0.0</td>\n      <td>0.0</td>\n      <td>0</td>\n      <td>0</td>\n      <td>4</td>\n      <td>2015</td>\n      <td>0</td>\n    </tr>\n    <tr>\n      <th>101072</th>\n      <td>1390588</td>\n      <td>2015-04-28</td>\n      <td>1</td>\n      <td>NaN</td>\n      <td>NaN</td>\n      <td>NaN</td>\n      <td>NaN</td>\n      <td>NA</td>\n      <td>NaN</td>\n      <td>NaN</td>\n      <td>...</td>\n      <td>0</td>\n      <td>0</td>\n      <td>0</td>\n      <td>NaN</td>\n      <td>NaN</td>\n      <td>0</td>\n      <td>0</td>\n      <td>4</td>\n      <td>2015</td>\n      <td>0</td>\n    </tr>\n    <tr>\n      <th>109532</th>\n      <td>300713</td>\n      <td>2015-04-28</td>\n      <td>1</td>\n      <td>NaN</td>\n      <td>NaN</td>\n      <td>NaN</td>\n      <td>NaN</td>\n      <td>NA</td>\n      <td>NaN</td>\n      <td>NaN</td>\n      <td>...</td>\n      <td>0</td>\n      <td>0</td>\n      <td>0</td>\n      <td>NaN</td>\n      <td>NaN</td>\n      <td>0</td>\n      <td>0</td>\n      <td>4</td>\n      <td>2015</td>\n      <td>0</td>\n    </tr>\n    <tr>\n      <th>113518</th>\n      <td>170635</td>\n      <td>2015-04-28</td>\n      <td>1</td>\n      <td>NaN</td>\n      <td>NaN</td>\n      <td>NaN</td>\n      <td>NaN</td>\n      <td>NA</td>\n      <td>NaN</td>\n      <td>NaN</td>\n      <td>...</td>\n      <td>0</td>\n      <td>0</td>\n      <td>0</td>\n      <td>0.0</td>\n      <td>0.0</td>\n      <td>0</td>\n      <td>0</td>\n      <td>4</td>\n      <td>2015</td>\n      <td>0</td>\n    </tr>\n    <tr>\n      <th>117665</th>\n      <td>532938</td>\n      <td>2015-04-28</td>\n      <td>1</td>\n      <td>NaN</td>\n      <td>NaN</td>\n      <td>NaN</td>\n      <td>NaN</td>\n      <td>NA</td>\n      <td>NaN</td>\n      <td>NaN</td>\n      <td>...</td>\n      <td>0</td>\n      <td>0</td>\n      <td>0</td>\n      <td>NaN</td>\n      <td>NaN</td>\n      <td>0</td>\n      <td>0</td>\n      <td>4</td>\n      <td>2015</td>\n      <td>0</td>\n    </tr>\n    <tr>\n      <th>121368</th>\n      <td>421992</td>\n      <td>2015-04-28</td>\n      <td>0</td>\n      <td>NaN</td>\n      <td>NaN</td>\n      <td>NaN</td>\n      <td>NaN</td>\n      <td>NA</td>\n      <td>NaN</td>\n      <td>NaN</td>\n      <td>...</td>\n      <td>0</td>\n      <td>0</td>\n      <td>0</td>\n      <td>NaN</td>\n      <td>NaN</td>\n      <td>0</td>\n      <td>0</td>\n      <td>4</td>\n      <td>2015</td>\n      <td>0</td>\n    </tr>\n    <tr>\n      <th>126992</th>\n      <td>421992</td>\n      <td>2015-05-28</td>\n      <td>0</td>\n      <td>NaN</td>\n      <td>NaN</td>\n      <td>NaN</td>\n      <td>NaN</td>\n      <td>NA</td>\n      <td>NaN</td>\n      <td>NaN</td>\n      <td>...</td>\n      <td>0</td>\n      <td>0</td>\n      <td>0</td>\n      <td>NaN</td>\n      <td>NaN</td>\n      <td>0</td>\n      <td>0</td>\n      <td>5</td>\n      <td>2015</td>\n      <td>0</td>\n    </tr>\n    <tr>\n      <th>130875</th>\n      <td>532938</td>\n      <td>2015-05-28</td>\n      <td>1</td>\n      <td>NaN</td>\n      <td>NaN</td>\n      <td>NaN</td>\n      <td>NaN</td>\n      <td>NA</td>\n      <td>NaN</td>\n      <td>NaN</td>\n      <td>...</td>\n      <td>0</td>\n      <td>0</td>\n      <td>0</td>\n      <td>NaN</td>\n      <td>NaN</td>\n      <td>0</td>\n      <td>0</td>\n      <td>5</td>\n      <td>2015</td>\n      <td>0</td>\n    </tr>\n    <tr>\n      <th>134835</th>\n      <td>170635</td>\n      <td>2015-05-28</td>\n      <td>1</td>\n      <td>NaN</td>\n      <td>NaN</td>\n      <td>NaN</td>\n      <td>NaN</td>\n      <td>NA</td>\n      <td>NaN</td>\n      <td>NaN</td>\n      <td>...</td>\n      <td>0</td>\n      <td>0</td>\n      <td>0</td>\n      <td>0.0</td>\n      <td>0.0</td>\n      <td>0</td>\n      <td>0</td>\n      <td>5</td>\n      <td>2015</td>\n      <td>0</td>\n    </tr>\n    <tr>\n      <th>150407</th>\n      <td>672042</td>\n      <td>2015-05-28</td>\n      <td>0</td>\n      <td>NaN</td>\n      <td>NaN</td>\n      <td>NaN</td>\n      <td>NaN</td>\n      <td>NA</td>\n      <td>NaN</td>\n      <td>NaN</td>\n      <td>...</td>\n      <td>0</td>\n      <td>0</td>\n      <td>0</td>\n      <td>NaN</td>\n      <td>NaN</td>\n      <td>0</td>\n      <td>0</td>\n      <td>5</td>\n      <td>2015</td>\n      <td>0</td>\n    </tr>\n    <tr>\n      <th>155345</th>\n      <td>1012056</td>\n      <td>2015-05-28</td>\n      <td>1</td>\n      <td>NaN</td>\n      <td>NaN</td>\n      <td>NaN</td>\n      <td>NaN</td>\n      <td>NA</td>\n      <td>NaN</td>\n      <td>NaN</td>\n      <td>...</td>\n      <td>0</td>\n      <td>0</td>\n      <td>0</td>\n      <td>NaN</td>\n      <td>NaN</td>\n      <td>0</td>\n      <td>0</td>\n      <td>5</td>\n      <td>2015</td>\n      <td>0</td>\n    </tr>\n    <tr>\n      <th>158323</th>\n      <td>421992</td>\n      <td>2015-06-28</td>\n      <td>0</td>\n      <td>NaN</td>\n      <td>NaN</td>\n      <td>NaN</td>\n      <td>NaN</td>\n      <td>NA</td>\n      <td>NaN</td>\n      <td>NaN</td>\n      <td>...</td>\n      <td>0</td>\n      <td>0</td>\n      <td>0</td>\n      <td>NaN</td>\n      <td>NaN</td>\n      <td>0</td>\n      <td>0</td>\n      <td>6</td>\n      <td>2015</td>\n      <td>0</td>\n    </tr>\n    <tr>\n      <th>162097</th>\n      <td>532938</td>\n      <td>2015-06-28</td>\n      <td>1</td>\n      <td>NaN</td>\n      <td>NaN</td>\n      <td>NaN</td>\n      <td>NaN</td>\n      <td>NA</td>\n      <td>NaN</td>\n      <td>NaN</td>\n      <td>...</td>\n      <td>0</td>\n      <td>0</td>\n      <td>0</td>\n      <td>NaN</td>\n      <td>NaN</td>\n      <td>0</td>\n      <td>0</td>\n      <td>6</td>\n      <td>2015</td>\n      <td>0</td>\n    </tr>\n    <tr>\n      <th>165637</th>\n      <td>170635</td>\n      <td>2015-06-28</td>\n      <td>1</td>\n      <td>NaN</td>\n      <td>NaN</td>\n      <td>NaN</td>\n      <td>NaN</td>\n      <td>NA</td>\n      <td>NaN</td>\n      <td>NaN</td>\n      <td>...</td>\n      <td>0</td>\n      <td>0</td>\n      <td>0</td>\n      <td>NaN</td>\n      <td>NaN</td>\n      <td>0</td>\n      <td>0</td>\n      <td>6</td>\n      <td>2015</td>\n      <td>0</td>\n    </tr>\n  </tbody>\n</table>\n<p>56 rows × 50 columns</p>\n</div>"
     },
     "execution_count": 273,
     "metadata": {},
     "output_type": "execute_result"
    }
   ],
   "source": [
    "dataset[dataset['fecha1'].isnull()]"
   ]
  },
  {
   "cell_type": "markdown",
   "metadata": {},
   "source": [
    "Todas las columnas son NaN, se dropean todos los registros"
   ]
  },
  {
   "cell_type": "code",
   "execution_count": 274,
   "metadata": {
    "ExecuteTime": {
     "end_time": "2024-06-09T14:14:37.194410Z",
     "start_time": "2024-06-09T14:14:36.980581600Z"
    }
   },
   "outputs": [],
   "source": [
    "#Dropeamos los registros con valores nulos dentro del subset fecha1.\n",
    "dataset.dropna(subset=['fecha1'], inplace=True)"
   ]
  },
  {
   "cell_type": "code",
   "execution_count": 275,
   "metadata": {
    "ExecuteTime": {
     "end_time": "2024-06-09T14:14:37.452892600Z",
     "start_time": "2024-06-09T14:14:37.152242200Z"
    }
   },
   "outputs": [],
   "source": [
    "dataset['fecha1'] = pd.to_datetime(dataset['fecha1'], errors='coerce')\n",
    "dataset['mes'] = pd.to_datetime(dataset['mes'], errors='coerce')"
   ]
  },
  {
   "cell_type": "code",
   "execution_count": 276,
   "metadata": {
    "ExecuteTime": {
     "end_time": "2024-06-09T14:14:37.477440100Z",
     "start_time": "2024-06-09T14:14:37.450893100Z"
    }
   },
   "outputs": [],
   "source": [
    "# Función para calcular la diferencia en meses correctamente\n",
    "def calcular_meses(fecha_inicio, fecha_fin):\n",
    "    return (fecha_fin.year - fecha_inicio.year) * 12 + fecha_fin.month - fecha_inicio.month\n"
   ]
  },
  {
   "cell_type": "code",
   "execution_count": 277,
   "metadata": {
    "ExecuteTime": {
     "end_time": "2024-06-09T14:14:51.466290200Z",
     "start_time": "2024-06-09T14:14:37.466929900Z"
    }
   },
   "outputs": [],
   "source": [
    "dataset['meses_desde_registro'] = dataset.apply(\n",
    "    lambda row: calcular_meses(row['fecha1'], row['mes']) if pd.notnull(row['fecha1']) and pd.notnull(row['mes']) else None,\n",
    "    axis=1\n",
    ")"
   ]
  },
  {
   "cell_type": "code",
   "execution_count": 278,
   "metadata": {
    "ExecuteTime": {
     "end_time": "2024-06-09T14:14:51.591590700Z",
     "start_time": "2024-06-09T14:14:51.470294100Z"
    }
   },
   "outputs": [],
   "source": [
    "dataset['fecha1'] = dataset['meses_desde_registro'] #Renombramos la columna\n",
    "dataset.drop(columns=['meses_desde_registro'], inplace=True) #Eliminamos la columna auxiliar"
   ]
  },
  {
   "cell_type": "code",
   "execution_count": 279,
   "metadata": {
    "ExecuteTime": {
     "end_time": "2024-06-09T14:14:51.682928300Z",
     "start_time": "2024-06-09T14:14:51.594101900Z"
    }
   },
   "outputs": [
    {
     "data": {
      "text/plain": "        cod_persona        mes  sexo  edad  fecha1 xti_empleado  \\\n1            503082 2015-01-28     1  27.0      29            N   \n61354        503082 2015-02-28     1  27.0      30            N   \n91319        503082 2015-03-28     1  27.0      31            N   \n123962       503082 2015-04-28     1  27.0      32            N   \n124573       503082 2015-05-28     1  27.0      33            N   \n157144       503082 2015-06-28     1  27.0      34            N   \n216776       503082 2015-07-28     1  27.0      35            N   \n254793       503082 2015-08-28     1  27.0      36            N   \n300518       503082 2015-09-28     1  27.0      37            N   \n322461       503082 2015-10-28     1  27.0      38            N   \n402013       503082 2015-11-28     1  27.0      39            N   \n407125       503082 2015-12-28     1  27.0      40            N   \n492605       503082 2016-01-28     1  27.0      41            N   \n528255       503082 2016-02-28     1  27.0      42            N   \n587851       503082 2016-03-28     1  27.0      43            N   \n620984       503082 2016-04-28     1  27.0      44            N   \n\n        xti_nuevo_cliente num_antiguedad  xti_rel fec_ult_cli_1t  ...  \\\n1                     0.0             35      1.0            NaN  ...   \n61354                 0.0             35      1.0            NaN  ...   \n91319                 0.0             35      1.0            NaN  ...   \n123962                0.0             35      1.0            NaN  ...   \n124573                0.0             35      1.0            NaN  ...   \n157144                0.0             35      1.0            NaN  ...   \n216776                0.0             35      1.0            NaN  ...   \n254793                0.0             36      1.0            NaN  ...   \n300518                0.0             37      1.0            NaN  ...   \n322461                0.0             38      1.0            NaN  ...   \n402013                0.0             39      1.0            NaN  ...   \n407125                0.0             40      1.0            NaN  ...   \n492605                0.0             41      1.0            NaN  ...   \n528255                0.0             42      1.0            NaN  ...   \n587851                0.0             43      1.0            NaN  ...   \n620984                0.0             44      1.0            NaN  ...   \n\n        ind_prod19 ind_prod20 ind_prod21 ind_prod22 ind_prod23 ind_prod24  \\\n1                0          0          0        0.0        0.0          0   \n61354            0          0          0        0.0        0.0          0   \n91319            0          0          0        0.0        0.0          0   \n123962           0          0          0        0.0        0.0          0   \n124573           0          0          0        0.0        0.0          0   \n157144           0          0          0        0.0        0.0          0   \n216776           0          0          0        0.0        0.0          0   \n254793           0          0          0        0.0        0.0          0   \n300518           0          0          0        0.0        0.0          0   \n322461           0          0          0        0.0        0.0          0   \n402013           0          0          0        0.0        0.0          0   \n407125           0          0          0        0.0        0.0          0   \n492605           0          0          0        0.0        0.0          0   \n528255           0          0          0        0.0        0.0          0   \n587851           0          0          0        0.0        0.0          0   \n620984           0          0          0        0.0        0.0          0   \n\n        ind_prod25  mes_mes  mes_año  pais_binario  \n1                0        1     2015             1  \n61354            0        2     2015             1  \n91319            0        3     2015             1  \n123962           0        4     2015             1  \n124573           0        5     2015             1  \n157144           0        6     2015             1  \n216776           0        7     2015             1  \n254793           0        8     2015             1  \n300518           0        9     2015             1  \n322461           0       10     2015             1  \n402013           0       11     2015             1  \n407125           0       12     2015             1  \n492605           0        1     2016             1  \n528255           0        2     2016             1  \n587851           0        3     2016             1  \n620984           0        4     2016             1  \n\n[16 rows x 50 columns]",
      "text/html": "<div>\n<style scoped>\n    .dataframe tbody tr th:only-of-type {\n        vertical-align: middle;\n    }\n\n    .dataframe tbody tr th {\n        vertical-align: top;\n    }\n\n    .dataframe thead th {\n        text-align: right;\n    }\n</style>\n<table border=\"1\" class=\"dataframe\">\n  <thead>\n    <tr style=\"text-align: right;\">\n      <th></th>\n      <th>cod_persona</th>\n      <th>mes</th>\n      <th>sexo</th>\n      <th>edad</th>\n      <th>fecha1</th>\n      <th>xti_empleado</th>\n      <th>xti_nuevo_cliente</th>\n      <th>num_antiguedad</th>\n      <th>xti_rel</th>\n      <th>fec_ult_cli_1t</th>\n      <th>...</th>\n      <th>ind_prod19</th>\n      <th>ind_prod20</th>\n      <th>ind_prod21</th>\n      <th>ind_prod22</th>\n      <th>ind_prod23</th>\n      <th>ind_prod24</th>\n      <th>ind_prod25</th>\n      <th>mes_mes</th>\n      <th>mes_año</th>\n      <th>pais_binario</th>\n    </tr>\n  </thead>\n  <tbody>\n    <tr>\n      <th>1</th>\n      <td>503082</td>\n      <td>2015-01-28</td>\n      <td>1</td>\n      <td>27.0</td>\n      <td>29</td>\n      <td>N</td>\n      <td>0.0</td>\n      <td>35</td>\n      <td>1.0</td>\n      <td>NaN</td>\n      <td>...</td>\n      <td>0</td>\n      <td>0</td>\n      <td>0</td>\n      <td>0.0</td>\n      <td>0.0</td>\n      <td>0</td>\n      <td>0</td>\n      <td>1</td>\n      <td>2015</td>\n      <td>1</td>\n    </tr>\n    <tr>\n      <th>61354</th>\n      <td>503082</td>\n      <td>2015-02-28</td>\n      <td>1</td>\n      <td>27.0</td>\n      <td>30</td>\n      <td>N</td>\n      <td>0.0</td>\n      <td>35</td>\n      <td>1.0</td>\n      <td>NaN</td>\n      <td>...</td>\n      <td>0</td>\n      <td>0</td>\n      <td>0</td>\n      <td>0.0</td>\n      <td>0.0</td>\n      <td>0</td>\n      <td>0</td>\n      <td>2</td>\n      <td>2015</td>\n      <td>1</td>\n    </tr>\n    <tr>\n      <th>91319</th>\n      <td>503082</td>\n      <td>2015-03-28</td>\n      <td>1</td>\n      <td>27.0</td>\n      <td>31</td>\n      <td>N</td>\n      <td>0.0</td>\n      <td>35</td>\n      <td>1.0</td>\n      <td>NaN</td>\n      <td>...</td>\n      <td>0</td>\n      <td>0</td>\n      <td>0</td>\n      <td>0.0</td>\n      <td>0.0</td>\n      <td>0</td>\n      <td>0</td>\n      <td>3</td>\n      <td>2015</td>\n      <td>1</td>\n    </tr>\n    <tr>\n      <th>123962</th>\n      <td>503082</td>\n      <td>2015-04-28</td>\n      <td>1</td>\n      <td>27.0</td>\n      <td>32</td>\n      <td>N</td>\n      <td>0.0</td>\n      <td>35</td>\n      <td>1.0</td>\n      <td>NaN</td>\n      <td>...</td>\n      <td>0</td>\n      <td>0</td>\n      <td>0</td>\n      <td>0.0</td>\n      <td>0.0</td>\n      <td>0</td>\n      <td>0</td>\n      <td>4</td>\n      <td>2015</td>\n      <td>1</td>\n    </tr>\n    <tr>\n      <th>124573</th>\n      <td>503082</td>\n      <td>2015-05-28</td>\n      <td>1</td>\n      <td>27.0</td>\n      <td>33</td>\n      <td>N</td>\n      <td>0.0</td>\n      <td>35</td>\n      <td>1.0</td>\n      <td>NaN</td>\n      <td>...</td>\n      <td>0</td>\n      <td>0</td>\n      <td>0</td>\n      <td>0.0</td>\n      <td>0.0</td>\n      <td>0</td>\n      <td>0</td>\n      <td>5</td>\n      <td>2015</td>\n      <td>1</td>\n    </tr>\n    <tr>\n      <th>157144</th>\n      <td>503082</td>\n      <td>2015-06-28</td>\n      <td>1</td>\n      <td>27.0</td>\n      <td>34</td>\n      <td>N</td>\n      <td>0.0</td>\n      <td>35</td>\n      <td>1.0</td>\n      <td>NaN</td>\n      <td>...</td>\n      <td>0</td>\n      <td>0</td>\n      <td>0</td>\n      <td>0.0</td>\n      <td>0.0</td>\n      <td>0</td>\n      <td>0</td>\n      <td>6</td>\n      <td>2015</td>\n      <td>1</td>\n    </tr>\n    <tr>\n      <th>216776</th>\n      <td>503082</td>\n      <td>2015-07-28</td>\n      <td>1</td>\n      <td>27.0</td>\n      <td>35</td>\n      <td>N</td>\n      <td>0.0</td>\n      <td>35</td>\n      <td>1.0</td>\n      <td>NaN</td>\n      <td>...</td>\n      <td>0</td>\n      <td>0</td>\n      <td>0</td>\n      <td>0.0</td>\n      <td>0.0</td>\n      <td>0</td>\n      <td>0</td>\n      <td>7</td>\n      <td>2015</td>\n      <td>1</td>\n    </tr>\n    <tr>\n      <th>254793</th>\n      <td>503082</td>\n      <td>2015-08-28</td>\n      <td>1</td>\n      <td>27.0</td>\n      <td>36</td>\n      <td>N</td>\n      <td>0.0</td>\n      <td>36</td>\n      <td>1.0</td>\n      <td>NaN</td>\n      <td>...</td>\n      <td>0</td>\n      <td>0</td>\n      <td>0</td>\n      <td>0.0</td>\n      <td>0.0</td>\n      <td>0</td>\n      <td>0</td>\n      <td>8</td>\n      <td>2015</td>\n      <td>1</td>\n    </tr>\n    <tr>\n      <th>300518</th>\n      <td>503082</td>\n      <td>2015-09-28</td>\n      <td>1</td>\n      <td>27.0</td>\n      <td>37</td>\n      <td>N</td>\n      <td>0.0</td>\n      <td>37</td>\n      <td>1.0</td>\n      <td>NaN</td>\n      <td>...</td>\n      <td>0</td>\n      <td>0</td>\n      <td>0</td>\n      <td>0.0</td>\n      <td>0.0</td>\n      <td>0</td>\n      <td>0</td>\n      <td>9</td>\n      <td>2015</td>\n      <td>1</td>\n    </tr>\n    <tr>\n      <th>322461</th>\n      <td>503082</td>\n      <td>2015-10-28</td>\n      <td>1</td>\n      <td>27.0</td>\n      <td>38</td>\n      <td>N</td>\n      <td>0.0</td>\n      <td>38</td>\n      <td>1.0</td>\n      <td>NaN</td>\n      <td>...</td>\n      <td>0</td>\n      <td>0</td>\n      <td>0</td>\n      <td>0.0</td>\n      <td>0.0</td>\n      <td>0</td>\n      <td>0</td>\n      <td>10</td>\n      <td>2015</td>\n      <td>1</td>\n    </tr>\n    <tr>\n      <th>402013</th>\n      <td>503082</td>\n      <td>2015-11-28</td>\n      <td>1</td>\n      <td>27.0</td>\n      <td>39</td>\n      <td>N</td>\n      <td>0.0</td>\n      <td>39</td>\n      <td>1.0</td>\n      <td>NaN</td>\n      <td>...</td>\n      <td>0</td>\n      <td>0</td>\n      <td>0</td>\n      <td>0.0</td>\n      <td>0.0</td>\n      <td>0</td>\n      <td>0</td>\n      <td>11</td>\n      <td>2015</td>\n      <td>1</td>\n    </tr>\n    <tr>\n      <th>407125</th>\n      <td>503082</td>\n      <td>2015-12-28</td>\n      <td>1</td>\n      <td>27.0</td>\n      <td>40</td>\n      <td>N</td>\n      <td>0.0</td>\n      <td>40</td>\n      <td>1.0</td>\n      <td>NaN</td>\n      <td>...</td>\n      <td>0</td>\n      <td>0</td>\n      <td>0</td>\n      <td>0.0</td>\n      <td>0.0</td>\n      <td>0</td>\n      <td>0</td>\n      <td>12</td>\n      <td>2015</td>\n      <td>1</td>\n    </tr>\n    <tr>\n      <th>492605</th>\n      <td>503082</td>\n      <td>2016-01-28</td>\n      <td>1</td>\n      <td>27.0</td>\n      <td>41</td>\n      <td>N</td>\n      <td>0.0</td>\n      <td>41</td>\n      <td>1.0</td>\n      <td>NaN</td>\n      <td>...</td>\n      <td>0</td>\n      <td>0</td>\n      <td>0</td>\n      <td>0.0</td>\n      <td>0.0</td>\n      <td>0</td>\n      <td>0</td>\n      <td>1</td>\n      <td>2016</td>\n      <td>1</td>\n    </tr>\n    <tr>\n      <th>528255</th>\n      <td>503082</td>\n      <td>2016-02-28</td>\n      <td>1</td>\n      <td>27.0</td>\n      <td>42</td>\n      <td>N</td>\n      <td>0.0</td>\n      <td>42</td>\n      <td>1.0</td>\n      <td>NaN</td>\n      <td>...</td>\n      <td>0</td>\n      <td>0</td>\n      <td>0</td>\n      <td>0.0</td>\n      <td>0.0</td>\n      <td>0</td>\n      <td>0</td>\n      <td>2</td>\n      <td>2016</td>\n      <td>1</td>\n    </tr>\n    <tr>\n      <th>587851</th>\n      <td>503082</td>\n      <td>2016-03-28</td>\n      <td>1</td>\n      <td>27.0</td>\n      <td>43</td>\n      <td>N</td>\n      <td>0.0</td>\n      <td>43</td>\n      <td>1.0</td>\n      <td>NaN</td>\n      <td>...</td>\n      <td>0</td>\n      <td>0</td>\n      <td>0</td>\n      <td>0.0</td>\n      <td>0.0</td>\n      <td>0</td>\n      <td>0</td>\n      <td>3</td>\n      <td>2016</td>\n      <td>1</td>\n    </tr>\n    <tr>\n      <th>620984</th>\n      <td>503082</td>\n      <td>2016-04-28</td>\n      <td>1</td>\n      <td>27.0</td>\n      <td>44</td>\n      <td>N</td>\n      <td>0.0</td>\n      <td>44</td>\n      <td>1.0</td>\n      <td>NaN</td>\n      <td>...</td>\n      <td>0</td>\n      <td>0</td>\n      <td>0</td>\n      <td>0.0</td>\n      <td>0.0</td>\n      <td>0</td>\n      <td>0</td>\n      <td>4</td>\n      <td>2016</td>\n      <td>1</td>\n    </tr>\n  </tbody>\n</table>\n<p>16 rows × 50 columns</p>\n</div>"
     },
     "execution_count": 279,
     "metadata": {},
     "output_type": "execute_result"
    }
   ],
   "source": [
    "dataset[dataset['cod_persona']==503082]"
   ]
  },
  {
   "cell_type": "markdown",
   "metadata": {},
   "source": [
    "### xti_empleado\n",
    "Employee\tindex:\tA\tactive,\tB\tex\temployed,\tF\tfilial,\tN\tnot\temployee"
   ]
  },
  {
   "cell_type": "code",
   "execution_count": 280,
   "metadata": {
    "ExecuteTime": {
     "end_time": "2024-06-09T14:14:51.742929400Z",
     "start_time": "2024-06-09T14:14:51.624219100Z"
    }
   },
   "outputs": [
    {
     "data": {
      "text/plain": "0"
     },
     "execution_count": 280,
     "metadata": {},
     "output_type": "execute_result"
    }
   ],
   "source": [
    "dataset['xti_empleado'].isnull().sum()"
   ]
  },
  {
   "cell_type": "code",
   "execution_count": 281,
   "metadata": {
    "ExecuteTime": {
     "end_time": "2024-06-09T14:14:51.817666700Z",
     "start_time": "2024-06-09T14:14:51.678927700Z"
    }
   },
   "outputs": [
    {
     "data": {
      "text/plain": "xti_empleado\nN    634158\nA       202\nB       170\nF        96\nName: count, dtype: int64"
     },
     "execution_count": 281,
     "metadata": {},
     "output_type": "execute_result"
    }
   ],
   "source": [
    "dataset['xti_empleado'].value_counts()"
   ]
  },
  {
   "cell_type": "code",
   "execution_count": 282,
   "metadata": {
    "ExecuteTime": {
     "end_time": "2024-06-09T14:14:52.118975700Z",
     "start_time": "2024-06-09T14:14:51.694950Z"
    }
   },
   "outputs": [],
   "source": [
    "dataset_encoded = pd.get_dummies(dataset, columns=['xti_empleado'], prefix='empleado')"
   ]
  },
  {
   "cell_type": "code",
   "execution_count": 283,
   "metadata": {
    "ExecuteTime": {
     "end_time": "2024-06-09T14:14:52.145760400Z",
     "start_time": "2024-06-09T14:14:52.049618700Z"
    }
   },
   "outputs": [],
   "source": [
    "cols_to_convert = [col for col in dataset.columns if col.startswith('empleado_')]\n",
    "dataset[cols_to_convert] = dataset[cols_to_convert].astype('Int64')"
   ]
  },
  {
   "cell_type": "code",
   "execution_count": 284,
   "metadata": {
    "ExecuteTime": {
     "end_time": "2024-06-09T14:14:52.250471600Z",
     "start_time": "2024-06-09T14:14:52.065223400Z"
    }
   },
   "outputs": [],
   "source": [
    "if 'xti_empleado' in dataset.columns:\n",
    "    dataset.drop(columns=['xti_empleado'], inplace=True)"
   ]
  },
  {
   "cell_type": "code",
   "execution_count": 285,
   "metadata": {
    "ExecuteTime": {
     "end_time": "2024-06-09T14:14:52.359136400Z",
     "start_time": "2024-06-09T14:14:52.205237300Z"
    }
   },
   "outputs": [
    {
     "data": {
      "text/plain": "   cod_persona        mes  sexo  edad  fecha1  xti_nuevo_cliente  \\\n0       178103 2015-01-28     0  35.0       0                0.0   \n1       503082 2015-01-28     1  27.0      29                0.0   \n2       502996 2015-01-28     1  37.0      29                0.0   \n3       503053 2015-01-28     0  23.0      29                0.0   \n4       503031 2015-01-28     0  44.0      29                0.0   \n\n  num_antiguedad  xti_rel fec_ult_cli_1t  xti_rel_1mes  ... ind_prod19  \\\n0              6      1.0            NaN           1.0  ...          0   \n1             35      1.0            NaN           1.0  ...          0   \n2             35      1.0            NaN           1.0  ...          0   \n3             35      1.0            NaN           1.0  ...          0   \n4             35      1.0            NaN           1.0  ...          0   \n\n  ind_prod20 ind_prod21 ind_prod22 ind_prod23  ind_prod24  ind_prod25  \\\n0          0          0        0.0        0.0           0           0   \n1          0          0        0.0        0.0           0           0   \n2          0          0        0.0        0.0           0           0   \n3          0          0        0.0        0.0           1           0   \n4          0          0        0.0        0.0           0           0   \n\n   mes_mes  mes_año pais_binario  \n0        1     2015            1  \n1        1     2015            1  \n2        1     2015            1  \n3        1     2015            1  \n4        1     2015            1  \n\n[5 rows x 49 columns]",
      "text/html": "<div>\n<style scoped>\n    .dataframe tbody tr th:only-of-type {\n        vertical-align: middle;\n    }\n\n    .dataframe tbody tr th {\n        vertical-align: top;\n    }\n\n    .dataframe thead th {\n        text-align: right;\n    }\n</style>\n<table border=\"1\" class=\"dataframe\">\n  <thead>\n    <tr style=\"text-align: right;\">\n      <th></th>\n      <th>cod_persona</th>\n      <th>mes</th>\n      <th>sexo</th>\n      <th>edad</th>\n      <th>fecha1</th>\n      <th>xti_nuevo_cliente</th>\n      <th>num_antiguedad</th>\n      <th>xti_rel</th>\n      <th>fec_ult_cli_1t</th>\n      <th>xti_rel_1mes</th>\n      <th>...</th>\n      <th>ind_prod19</th>\n      <th>ind_prod20</th>\n      <th>ind_prod21</th>\n      <th>ind_prod22</th>\n      <th>ind_prod23</th>\n      <th>ind_prod24</th>\n      <th>ind_prod25</th>\n      <th>mes_mes</th>\n      <th>mes_año</th>\n      <th>pais_binario</th>\n    </tr>\n  </thead>\n  <tbody>\n    <tr>\n      <th>0</th>\n      <td>178103</td>\n      <td>2015-01-28</td>\n      <td>0</td>\n      <td>35.0</td>\n      <td>0</td>\n      <td>0.0</td>\n      <td>6</td>\n      <td>1.0</td>\n      <td>NaN</td>\n      <td>1.0</td>\n      <td>...</td>\n      <td>0</td>\n      <td>0</td>\n      <td>0</td>\n      <td>0.0</td>\n      <td>0.0</td>\n      <td>0</td>\n      <td>0</td>\n      <td>1</td>\n      <td>2015</td>\n      <td>1</td>\n    </tr>\n    <tr>\n      <th>1</th>\n      <td>503082</td>\n      <td>2015-01-28</td>\n      <td>1</td>\n      <td>27.0</td>\n      <td>29</td>\n      <td>0.0</td>\n      <td>35</td>\n      <td>1.0</td>\n      <td>NaN</td>\n      <td>1.0</td>\n      <td>...</td>\n      <td>0</td>\n      <td>0</td>\n      <td>0</td>\n      <td>0.0</td>\n      <td>0.0</td>\n      <td>0</td>\n      <td>0</td>\n      <td>1</td>\n      <td>2015</td>\n      <td>1</td>\n    </tr>\n    <tr>\n      <th>2</th>\n      <td>502996</td>\n      <td>2015-01-28</td>\n      <td>1</td>\n      <td>37.0</td>\n      <td>29</td>\n      <td>0.0</td>\n      <td>35</td>\n      <td>1.0</td>\n      <td>NaN</td>\n      <td>1.0</td>\n      <td>...</td>\n      <td>0</td>\n      <td>0</td>\n      <td>0</td>\n      <td>0.0</td>\n      <td>0.0</td>\n      <td>0</td>\n      <td>0</td>\n      <td>1</td>\n      <td>2015</td>\n      <td>1</td>\n    </tr>\n    <tr>\n      <th>3</th>\n      <td>503053</td>\n      <td>2015-01-28</td>\n      <td>0</td>\n      <td>23.0</td>\n      <td>29</td>\n      <td>0.0</td>\n      <td>35</td>\n      <td>1.0</td>\n      <td>NaN</td>\n      <td>1.0</td>\n      <td>...</td>\n      <td>0</td>\n      <td>0</td>\n      <td>0</td>\n      <td>0.0</td>\n      <td>0.0</td>\n      <td>1</td>\n      <td>0</td>\n      <td>1</td>\n      <td>2015</td>\n      <td>1</td>\n    </tr>\n    <tr>\n      <th>4</th>\n      <td>503031</td>\n      <td>2015-01-28</td>\n      <td>0</td>\n      <td>44.0</td>\n      <td>29</td>\n      <td>0.0</td>\n      <td>35</td>\n      <td>1.0</td>\n      <td>NaN</td>\n      <td>1.0</td>\n      <td>...</td>\n      <td>0</td>\n      <td>0</td>\n      <td>0</td>\n      <td>0.0</td>\n      <td>0.0</td>\n      <td>0</td>\n      <td>0</td>\n      <td>1</td>\n      <td>2015</td>\n      <td>1</td>\n    </tr>\n  </tbody>\n</table>\n<p>5 rows × 49 columns</p>\n</div>"
     },
     "execution_count": 285,
     "metadata": {},
     "output_type": "execute_result"
    }
   ],
   "source": [
    "dataset.head()"
   ]
  },
  {
   "cell_type": "markdown",
   "metadata": {},
   "source": [
    "### xti_nuevo_cliente\n",
    "New\tcustomer\tIndex.\t1\tif\tthe\tcustomer\tregistered\tin\tthe\tlast\t6\tmonths"
   ]
  },
  {
   "cell_type": "code",
   "execution_count": 286,
   "metadata": {
    "ExecuteTime": {
     "end_time": "2024-06-09T14:14:52.422292400Z",
     "start_time": "2024-06-09T14:14:52.240389600Z"
    }
   },
   "outputs": [],
   "source": [
    "# Esta variable puede obtenerse como transformación a partir de la variable 'fecha1'. Sin embargo, considera su importancia por poner un threshold de 6 meses para considerar a un cliente como \"nuevo\". "
   ]
  },
  {
   "cell_type": "code",
   "execution_count": 287,
   "metadata": {
    "ExecuteTime": {
     "end_time": "2024-06-09T14:14:52.448457400Z",
     "start_time": "2024-06-09T14:14:52.260567700Z"
    }
   },
   "outputs": [
    {
     "data": {
      "text/plain": "xti_nuevo_cliente\n0.0    596646\n1.0     37980\nName: count, dtype: int64"
     },
     "execution_count": 287,
     "metadata": {},
     "output_type": "execute_result"
    }
   ],
   "source": [
    "dataset['xti_nuevo_cliente'].value_counts()"
   ]
  },
  {
   "cell_type": "markdown",
   "metadata": {},
   "source": [
    "Evidentemente, la clase de clientes nuevos esta desbalanceada como es lógico. \n",
    "Podríamos utilizar técnicas como SMOTE para crear una muestra sintética de la clase minoritaria, sin emargo, con el dataset tan extenso del cual disponemos no se considera necesario. Por otro lado, se podrán ajustar los pesos con los algoritmos posteriormente. "
   ]
  },
  {
   "cell_type": "markdown",
   "metadata": {},
   "source": [
    "### num_antiguedad\n",
    "Customer\tseniority\t(in\tmonths)"
   ]
  },
  {
   "cell_type": "code",
   "execution_count": 288,
   "metadata": {
    "ExecuteTime": {
     "end_time": "2024-06-09T14:14:52.761742600Z",
     "start_time": "2024-06-09T14:14:52.269105800Z"
    }
   },
   "outputs": [],
   "source": [
    "#Lo casteamos a numerico :\n",
    "dataset['num_antiguedad'] = pd.to_numeric(dataset['num_antiguedad'], errors='coerce')"
   ]
  },
  {
   "cell_type": "code",
   "execution_count": 289,
   "metadata": {
    "ExecuteTime": {
     "end_time": "2024-06-09T14:14:52.778339100Z",
     "start_time": "2024-06-09T14:14:52.519438500Z"
    }
   },
   "outputs": [
    {
     "data": {
      "text/plain": "0"
     },
     "execution_count": 289,
     "metadata": {},
     "output_type": "execute_result"
    }
   ],
   "source": [
    "dataset['num_antiguedad'].isnull().sum()"
   ]
  },
  {
   "cell_type": "code",
   "execution_count": 290,
   "metadata": {
    "ExecuteTime": {
     "end_time": "2024-06-09T14:14:52.815495Z",
     "start_time": "2024-06-09T14:14:52.534466700Z"
    }
   },
   "outputs": [
    {
     "data": {
      "text/plain": "        cod_persona        mes  sexo  edad  fecha1  xti_nuevo_cliente  \\\n126323       429432 2015-05-28     1  53.0      26                1.0   \n134720       156440 2015-05-28     0  66.0       0                1.0   \n134721       156591 2015-05-28     1  39.0       0                1.0   \n134722       156521 2015-05-28     1  30.0       0                1.0   \n134723       156499 2015-05-28     1  41.0       0                1.0   \n...             ...        ...   ...   ...     ...                ...   \n628562       115195 2016-04-28     1  70.0       2                1.0   \n630005       300713 2016-04-28     1  35.0      24                1.0   \n631449       337826 2016-04-28     1  45.0      29                1.0   \n631723       334766 2016-04-28     0  45.0       2                1.0   \n634381       258189 2016-04-28     1  38.0       2                1.0   \n\n        num_antiguedad  xti_rel fec_ult_cli_1t  xti_rel_1mes  ... ind_prod19  \\\n126323               2      1.0            NaN           1.0  ...          0   \n134720               2      1.0            NaN           1.0  ...          0   \n134721               2      1.0            NaN           1.0  ...          0   \n134722               2      1.0            NaN           1.0  ...          0   \n134723               2      1.0            NaN           1.0  ...          0   \n...                ...      ...            ...           ...  ...        ...   \n628562               2      1.0            NaN           1.0  ...          0   \n630005               2      1.0            NaN           1.0  ...          0   \n631449               2      1.0            NaN           1.0  ...          0   \n631723               2      1.0            NaN           1.0  ...          0   \n634381               2      1.0            NaN           1.0  ...          0   \n\n       ind_prod20 ind_prod21 ind_prod22 ind_prod23  ind_prod24  ind_prod25  \\\n126323          0          0        0.0        0.0           0           0   \n134720          0          0        0.0        0.0           0           0   \n134721          0          0        0.0        0.0           0           0   \n134722          0          0        0.0        0.0           0           0   \n134723          0          0        0.0        0.0           0           0   \n...           ...        ...        ...        ...         ...         ...   \n628562          0          0        0.0        0.0           0           0   \n630005          0          0        0.0        0.0           0           0   \n631449          0          0        0.0        0.0           0           0   \n631723          0          0        0.0        0.0           0           0   \n634381          0          0        0.0        0.0           0           0   \n\n        mes_mes  mes_año pais_binario  \n126323        5     2015            1  \n134720        5     2015            1  \n134721        5     2015            1  \n134722        5     2015            1  \n134723        5     2015            1  \n...         ...      ...          ...  \n628562        4     2016            1  \n630005        4     2016            1  \n631449        4     2016            1  \n631723        4     2016            1  \n634381        4     2016            1  \n\n[6076 rows x 49 columns]",
      "text/html": "<div>\n<style scoped>\n    .dataframe tbody tr th:only-of-type {\n        vertical-align: middle;\n    }\n\n    .dataframe tbody tr th {\n        vertical-align: top;\n    }\n\n    .dataframe thead th {\n        text-align: right;\n    }\n</style>\n<table border=\"1\" class=\"dataframe\">\n  <thead>\n    <tr style=\"text-align: right;\">\n      <th></th>\n      <th>cod_persona</th>\n      <th>mes</th>\n      <th>sexo</th>\n      <th>edad</th>\n      <th>fecha1</th>\n      <th>xti_nuevo_cliente</th>\n      <th>num_antiguedad</th>\n      <th>xti_rel</th>\n      <th>fec_ult_cli_1t</th>\n      <th>xti_rel_1mes</th>\n      <th>...</th>\n      <th>ind_prod19</th>\n      <th>ind_prod20</th>\n      <th>ind_prod21</th>\n      <th>ind_prod22</th>\n      <th>ind_prod23</th>\n      <th>ind_prod24</th>\n      <th>ind_prod25</th>\n      <th>mes_mes</th>\n      <th>mes_año</th>\n      <th>pais_binario</th>\n    </tr>\n  </thead>\n  <tbody>\n    <tr>\n      <th>126323</th>\n      <td>429432</td>\n      <td>2015-05-28</td>\n      <td>1</td>\n      <td>53.0</td>\n      <td>26</td>\n      <td>1.0</td>\n      <td>2</td>\n      <td>1.0</td>\n      <td>NaN</td>\n      <td>1.0</td>\n      <td>...</td>\n      <td>0</td>\n      <td>0</td>\n      <td>0</td>\n      <td>0.0</td>\n      <td>0.0</td>\n      <td>0</td>\n      <td>0</td>\n      <td>5</td>\n      <td>2015</td>\n      <td>1</td>\n    </tr>\n    <tr>\n      <th>134720</th>\n      <td>156440</td>\n      <td>2015-05-28</td>\n      <td>0</td>\n      <td>66.0</td>\n      <td>0</td>\n      <td>1.0</td>\n      <td>2</td>\n      <td>1.0</td>\n      <td>NaN</td>\n      <td>1.0</td>\n      <td>...</td>\n      <td>0</td>\n      <td>0</td>\n      <td>0</td>\n      <td>0.0</td>\n      <td>0.0</td>\n      <td>0</td>\n      <td>0</td>\n      <td>5</td>\n      <td>2015</td>\n      <td>1</td>\n    </tr>\n    <tr>\n      <th>134721</th>\n      <td>156591</td>\n      <td>2015-05-28</td>\n      <td>1</td>\n      <td>39.0</td>\n      <td>0</td>\n      <td>1.0</td>\n      <td>2</td>\n      <td>1.0</td>\n      <td>NaN</td>\n      <td>1.0</td>\n      <td>...</td>\n      <td>0</td>\n      <td>0</td>\n      <td>0</td>\n      <td>0.0</td>\n      <td>0.0</td>\n      <td>0</td>\n      <td>0</td>\n      <td>5</td>\n      <td>2015</td>\n      <td>1</td>\n    </tr>\n    <tr>\n      <th>134722</th>\n      <td>156521</td>\n      <td>2015-05-28</td>\n      <td>1</td>\n      <td>30.0</td>\n      <td>0</td>\n      <td>1.0</td>\n      <td>2</td>\n      <td>1.0</td>\n      <td>NaN</td>\n      <td>1.0</td>\n      <td>...</td>\n      <td>0</td>\n      <td>0</td>\n      <td>0</td>\n      <td>0.0</td>\n      <td>0.0</td>\n      <td>0</td>\n      <td>0</td>\n      <td>5</td>\n      <td>2015</td>\n      <td>1</td>\n    </tr>\n    <tr>\n      <th>134723</th>\n      <td>156499</td>\n      <td>2015-05-28</td>\n      <td>1</td>\n      <td>41.0</td>\n      <td>0</td>\n      <td>1.0</td>\n      <td>2</td>\n      <td>1.0</td>\n      <td>NaN</td>\n      <td>1.0</td>\n      <td>...</td>\n      <td>0</td>\n      <td>0</td>\n      <td>0</td>\n      <td>0.0</td>\n      <td>0.0</td>\n      <td>0</td>\n      <td>0</td>\n      <td>5</td>\n      <td>2015</td>\n      <td>1</td>\n    </tr>\n    <tr>\n      <th>...</th>\n      <td>...</td>\n      <td>...</td>\n      <td>...</td>\n      <td>...</td>\n      <td>...</td>\n      <td>...</td>\n      <td>...</td>\n      <td>...</td>\n      <td>...</td>\n      <td>...</td>\n      <td>...</td>\n      <td>...</td>\n      <td>...</td>\n      <td>...</td>\n      <td>...</td>\n      <td>...</td>\n      <td>...</td>\n      <td>...</td>\n      <td>...</td>\n      <td>...</td>\n      <td>...</td>\n    </tr>\n    <tr>\n      <th>628562</th>\n      <td>115195</td>\n      <td>2016-04-28</td>\n      <td>1</td>\n      <td>70.0</td>\n      <td>2</td>\n      <td>1.0</td>\n      <td>2</td>\n      <td>1.0</td>\n      <td>NaN</td>\n      <td>1.0</td>\n      <td>...</td>\n      <td>0</td>\n      <td>0</td>\n      <td>0</td>\n      <td>0.0</td>\n      <td>0.0</td>\n      <td>0</td>\n      <td>0</td>\n      <td>4</td>\n      <td>2016</td>\n      <td>1</td>\n    </tr>\n    <tr>\n      <th>630005</th>\n      <td>300713</td>\n      <td>2016-04-28</td>\n      <td>1</td>\n      <td>35.0</td>\n      <td>24</td>\n      <td>1.0</td>\n      <td>2</td>\n      <td>1.0</td>\n      <td>NaN</td>\n      <td>1.0</td>\n      <td>...</td>\n      <td>0</td>\n      <td>0</td>\n      <td>0</td>\n      <td>0.0</td>\n      <td>0.0</td>\n      <td>0</td>\n      <td>0</td>\n      <td>4</td>\n      <td>2016</td>\n      <td>1</td>\n    </tr>\n    <tr>\n      <th>631449</th>\n      <td>337826</td>\n      <td>2016-04-28</td>\n      <td>1</td>\n      <td>45.0</td>\n      <td>29</td>\n      <td>1.0</td>\n      <td>2</td>\n      <td>1.0</td>\n      <td>NaN</td>\n      <td>1.0</td>\n      <td>...</td>\n      <td>0</td>\n      <td>0</td>\n      <td>0</td>\n      <td>0.0</td>\n      <td>0.0</td>\n      <td>0</td>\n      <td>0</td>\n      <td>4</td>\n      <td>2016</td>\n      <td>1</td>\n    </tr>\n    <tr>\n      <th>631723</th>\n      <td>334766</td>\n      <td>2016-04-28</td>\n      <td>0</td>\n      <td>45.0</td>\n      <td>2</td>\n      <td>1.0</td>\n      <td>2</td>\n      <td>1.0</td>\n      <td>NaN</td>\n      <td>1.0</td>\n      <td>...</td>\n      <td>0</td>\n      <td>0</td>\n      <td>0</td>\n      <td>0.0</td>\n      <td>0.0</td>\n      <td>0</td>\n      <td>0</td>\n      <td>4</td>\n      <td>2016</td>\n      <td>1</td>\n    </tr>\n    <tr>\n      <th>634381</th>\n      <td>258189</td>\n      <td>2016-04-28</td>\n      <td>1</td>\n      <td>38.0</td>\n      <td>2</td>\n      <td>1.0</td>\n      <td>2</td>\n      <td>1.0</td>\n      <td>NaN</td>\n      <td>1.0</td>\n      <td>...</td>\n      <td>0</td>\n      <td>0</td>\n      <td>0</td>\n      <td>0.0</td>\n      <td>0.0</td>\n      <td>0</td>\n      <td>0</td>\n      <td>4</td>\n      <td>2016</td>\n      <td>1</td>\n    </tr>\n  </tbody>\n</table>\n<p>6076 rows × 49 columns</p>\n</div>"
     },
     "execution_count": 290,
     "metadata": {},
     "output_type": "execute_result"
    }
   ],
   "source": [
    "## Quiero que me digas el valor minimo de num_antiguedad:\n",
    "dataset[dataset['num_antiguedad']==2]"
   ]
  },
  {
   "cell_type": "code",
   "execution_count": 291,
   "metadata": {
    "ExecuteTime": {
     "end_time": "2024-06-09T14:14:52.835745200Z",
     "start_time": "2024-06-09T14:14:52.564588300Z"
    }
   },
   "outputs": [
    {
     "data": {
      "text/plain": "        cod_persona        mes  sexo  edad  fecha1  xti_nuevo_cliente  \\\n4            503031 2015-01-28     0  44.0      29                0.0   \n61345        503031 2015-02-28     0  44.0      30                0.0   \n91328        503031 2015-03-28     0  44.0      31                0.0   \n123960       503031 2015-04-28     0  44.0      32                0.0   \n124570       503031 2015-05-28     0  44.0      33                0.0   \n157143       503031 2015-06-28     0  44.0      34                0.0   \n216787       503031 2015-07-28     0  44.0      35                0.0   \n254792       503031 2015-08-28     0  44.0      36                0.0   \n300526       503031 2015-09-28     0  44.0      37                0.0   \n322460       503031 2015-10-28     0  45.0      38                0.0   \n402036       503031 2015-11-28     0  45.0      39                0.0   \n407101       503031 2015-12-28     0  45.0      40                0.0   \n492621       503031 2016-01-28     0  45.0      41                0.0   \n528253       503031 2016-02-28     0  45.0      42                0.0   \n587842       503031 2016-03-28     0  45.0      43                0.0   \n620988       503031 2016-04-28     0  45.0      44                0.0   \n\n        num_antiguedad  xti_rel fec_ult_cli_1t  xti_rel_1mes  ... ind_prod19  \\\n4                   35      1.0            NaN           1.0  ...          0   \n61345               35      1.0            NaN           1.0  ...          0   \n91328               35      1.0            NaN           1.0  ...          0   \n123960              35      1.0            NaN           1.0  ...          0   \n124570              35      1.0            NaN           1.0  ...          0   \n157143              35      1.0            NaN           1.0  ...          0   \n216787              35      1.0            NaN           1.0  ...          0   \n254792              36      1.0            NaN           1.0  ...          0   \n300526              37      1.0            NaN           1.0  ...          0   \n322460              38      1.0            NaN           1.0  ...          0   \n402036              39      1.0            NaN           1.0  ...          0   \n407101              40      1.0            NaN           1.0  ...          0   \n492621              41      1.0            NaN           1.0  ...          0   \n528253              42      1.0            NaN           1.0  ...          0   \n587842              43      1.0            NaN           1.0  ...          0   \n620988              44      1.0            NaN           1.0  ...          0   \n\n       ind_prod20 ind_prod21 ind_prod22 ind_prod23  ind_prod24  ind_prod25  \\\n4               0          0        0.0        0.0           0           0   \n61345           0          0        0.0        0.0           0           0   \n91328           0          0        0.0        0.0           0           0   \n123960          0          0        0.0        0.0           0           0   \n124570          0          0        0.0        0.0           0           0   \n157143          0          0        0.0        0.0           0           0   \n216787          0          0        0.0        0.0           0           0   \n254792          0          0        0.0        0.0           0           0   \n300526          0          0        0.0        0.0           0           0   \n322460          0          0        0.0        0.0           0           0   \n402036          0          0        0.0        0.0           0           0   \n407101          0          0        0.0        0.0           0           0   \n492621          0          0        0.0        0.0           0           0   \n528253          0          0        0.0        0.0           0           0   \n587842          0          0        0.0        0.0           0           0   \n620988          0          0        0.0        0.0           0           0   \n\n        mes_mes  mes_año pais_binario  \n4             1     2015            1  \n61345         2     2015            1  \n91328         3     2015            1  \n123960        4     2015            1  \n124570        5     2015            1  \n157143        6     2015            1  \n216787        7     2015            1  \n254792        8     2015            1  \n300526        9     2015            1  \n322460       10     2015            1  \n402036       11     2015            1  \n407101       12     2015            1  \n492621        1     2016            1  \n528253        2     2016            1  \n587842        3     2016            1  \n620988        4     2016            1  \n\n[16 rows x 49 columns]",
      "text/html": "<div>\n<style scoped>\n    .dataframe tbody tr th:only-of-type {\n        vertical-align: middle;\n    }\n\n    .dataframe tbody tr th {\n        vertical-align: top;\n    }\n\n    .dataframe thead th {\n        text-align: right;\n    }\n</style>\n<table border=\"1\" class=\"dataframe\">\n  <thead>\n    <tr style=\"text-align: right;\">\n      <th></th>\n      <th>cod_persona</th>\n      <th>mes</th>\n      <th>sexo</th>\n      <th>edad</th>\n      <th>fecha1</th>\n      <th>xti_nuevo_cliente</th>\n      <th>num_antiguedad</th>\n      <th>xti_rel</th>\n      <th>fec_ult_cli_1t</th>\n      <th>xti_rel_1mes</th>\n      <th>...</th>\n      <th>ind_prod19</th>\n      <th>ind_prod20</th>\n      <th>ind_prod21</th>\n      <th>ind_prod22</th>\n      <th>ind_prod23</th>\n      <th>ind_prod24</th>\n      <th>ind_prod25</th>\n      <th>mes_mes</th>\n      <th>mes_año</th>\n      <th>pais_binario</th>\n    </tr>\n  </thead>\n  <tbody>\n    <tr>\n      <th>4</th>\n      <td>503031</td>\n      <td>2015-01-28</td>\n      <td>0</td>\n      <td>44.0</td>\n      <td>29</td>\n      <td>0.0</td>\n      <td>35</td>\n      <td>1.0</td>\n      <td>NaN</td>\n      <td>1.0</td>\n      <td>...</td>\n      <td>0</td>\n      <td>0</td>\n      <td>0</td>\n      <td>0.0</td>\n      <td>0.0</td>\n      <td>0</td>\n      <td>0</td>\n      <td>1</td>\n      <td>2015</td>\n      <td>1</td>\n    </tr>\n    <tr>\n      <th>61345</th>\n      <td>503031</td>\n      <td>2015-02-28</td>\n      <td>0</td>\n      <td>44.0</td>\n      <td>30</td>\n      <td>0.0</td>\n      <td>35</td>\n      <td>1.0</td>\n      <td>NaN</td>\n      <td>1.0</td>\n      <td>...</td>\n      <td>0</td>\n      <td>0</td>\n      <td>0</td>\n      <td>0.0</td>\n      <td>0.0</td>\n      <td>0</td>\n      <td>0</td>\n      <td>2</td>\n      <td>2015</td>\n      <td>1</td>\n    </tr>\n    <tr>\n      <th>91328</th>\n      <td>503031</td>\n      <td>2015-03-28</td>\n      <td>0</td>\n      <td>44.0</td>\n      <td>31</td>\n      <td>0.0</td>\n      <td>35</td>\n      <td>1.0</td>\n      <td>NaN</td>\n      <td>1.0</td>\n      <td>...</td>\n      <td>0</td>\n      <td>0</td>\n      <td>0</td>\n      <td>0.0</td>\n      <td>0.0</td>\n      <td>0</td>\n      <td>0</td>\n      <td>3</td>\n      <td>2015</td>\n      <td>1</td>\n    </tr>\n    <tr>\n      <th>123960</th>\n      <td>503031</td>\n      <td>2015-04-28</td>\n      <td>0</td>\n      <td>44.0</td>\n      <td>32</td>\n      <td>0.0</td>\n      <td>35</td>\n      <td>1.0</td>\n      <td>NaN</td>\n      <td>1.0</td>\n      <td>...</td>\n      <td>0</td>\n      <td>0</td>\n      <td>0</td>\n      <td>0.0</td>\n      <td>0.0</td>\n      <td>0</td>\n      <td>0</td>\n      <td>4</td>\n      <td>2015</td>\n      <td>1</td>\n    </tr>\n    <tr>\n      <th>124570</th>\n      <td>503031</td>\n      <td>2015-05-28</td>\n      <td>0</td>\n      <td>44.0</td>\n      <td>33</td>\n      <td>0.0</td>\n      <td>35</td>\n      <td>1.0</td>\n      <td>NaN</td>\n      <td>1.0</td>\n      <td>...</td>\n      <td>0</td>\n      <td>0</td>\n      <td>0</td>\n      <td>0.0</td>\n      <td>0.0</td>\n      <td>0</td>\n      <td>0</td>\n      <td>5</td>\n      <td>2015</td>\n      <td>1</td>\n    </tr>\n    <tr>\n      <th>157143</th>\n      <td>503031</td>\n      <td>2015-06-28</td>\n      <td>0</td>\n      <td>44.0</td>\n      <td>34</td>\n      <td>0.0</td>\n      <td>35</td>\n      <td>1.0</td>\n      <td>NaN</td>\n      <td>1.0</td>\n      <td>...</td>\n      <td>0</td>\n      <td>0</td>\n      <td>0</td>\n      <td>0.0</td>\n      <td>0.0</td>\n      <td>0</td>\n      <td>0</td>\n      <td>6</td>\n      <td>2015</td>\n      <td>1</td>\n    </tr>\n    <tr>\n      <th>216787</th>\n      <td>503031</td>\n      <td>2015-07-28</td>\n      <td>0</td>\n      <td>44.0</td>\n      <td>35</td>\n      <td>0.0</td>\n      <td>35</td>\n      <td>1.0</td>\n      <td>NaN</td>\n      <td>1.0</td>\n      <td>...</td>\n      <td>0</td>\n      <td>0</td>\n      <td>0</td>\n      <td>0.0</td>\n      <td>0.0</td>\n      <td>0</td>\n      <td>0</td>\n      <td>7</td>\n      <td>2015</td>\n      <td>1</td>\n    </tr>\n    <tr>\n      <th>254792</th>\n      <td>503031</td>\n      <td>2015-08-28</td>\n      <td>0</td>\n      <td>44.0</td>\n      <td>36</td>\n      <td>0.0</td>\n      <td>36</td>\n      <td>1.0</td>\n      <td>NaN</td>\n      <td>1.0</td>\n      <td>...</td>\n      <td>0</td>\n      <td>0</td>\n      <td>0</td>\n      <td>0.0</td>\n      <td>0.0</td>\n      <td>0</td>\n      <td>0</td>\n      <td>8</td>\n      <td>2015</td>\n      <td>1</td>\n    </tr>\n    <tr>\n      <th>300526</th>\n      <td>503031</td>\n      <td>2015-09-28</td>\n      <td>0</td>\n      <td>44.0</td>\n      <td>37</td>\n      <td>0.0</td>\n      <td>37</td>\n      <td>1.0</td>\n      <td>NaN</td>\n      <td>1.0</td>\n      <td>...</td>\n      <td>0</td>\n      <td>0</td>\n      <td>0</td>\n      <td>0.0</td>\n      <td>0.0</td>\n      <td>0</td>\n      <td>0</td>\n      <td>9</td>\n      <td>2015</td>\n      <td>1</td>\n    </tr>\n    <tr>\n      <th>322460</th>\n      <td>503031</td>\n      <td>2015-10-28</td>\n      <td>0</td>\n      <td>45.0</td>\n      <td>38</td>\n      <td>0.0</td>\n      <td>38</td>\n      <td>1.0</td>\n      <td>NaN</td>\n      <td>1.0</td>\n      <td>...</td>\n      <td>0</td>\n      <td>0</td>\n      <td>0</td>\n      <td>0.0</td>\n      <td>0.0</td>\n      <td>0</td>\n      <td>0</td>\n      <td>10</td>\n      <td>2015</td>\n      <td>1</td>\n    </tr>\n    <tr>\n      <th>402036</th>\n      <td>503031</td>\n      <td>2015-11-28</td>\n      <td>0</td>\n      <td>45.0</td>\n      <td>39</td>\n      <td>0.0</td>\n      <td>39</td>\n      <td>1.0</td>\n      <td>NaN</td>\n      <td>1.0</td>\n      <td>...</td>\n      <td>0</td>\n      <td>0</td>\n      <td>0</td>\n      <td>0.0</td>\n      <td>0.0</td>\n      <td>0</td>\n      <td>0</td>\n      <td>11</td>\n      <td>2015</td>\n      <td>1</td>\n    </tr>\n    <tr>\n      <th>407101</th>\n      <td>503031</td>\n      <td>2015-12-28</td>\n      <td>0</td>\n      <td>45.0</td>\n      <td>40</td>\n      <td>0.0</td>\n      <td>40</td>\n      <td>1.0</td>\n      <td>NaN</td>\n      <td>1.0</td>\n      <td>...</td>\n      <td>0</td>\n      <td>0</td>\n      <td>0</td>\n      <td>0.0</td>\n      <td>0.0</td>\n      <td>0</td>\n      <td>0</td>\n      <td>12</td>\n      <td>2015</td>\n      <td>1</td>\n    </tr>\n    <tr>\n      <th>492621</th>\n      <td>503031</td>\n      <td>2016-01-28</td>\n      <td>0</td>\n      <td>45.0</td>\n      <td>41</td>\n      <td>0.0</td>\n      <td>41</td>\n      <td>1.0</td>\n      <td>NaN</td>\n      <td>1.0</td>\n      <td>...</td>\n      <td>0</td>\n      <td>0</td>\n      <td>0</td>\n      <td>0.0</td>\n      <td>0.0</td>\n      <td>0</td>\n      <td>0</td>\n      <td>1</td>\n      <td>2016</td>\n      <td>1</td>\n    </tr>\n    <tr>\n      <th>528253</th>\n      <td>503031</td>\n      <td>2016-02-28</td>\n      <td>0</td>\n      <td>45.0</td>\n      <td>42</td>\n      <td>0.0</td>\n      <td>42</td>\n      <td>1.0</td>\n      <td>NaN</td>\n      <td>1.0</td>\n      <td>...</td>\n      <td>0</td>\n      <td>0</td>\n      <td>0</td>\n      <td>0.0</td>\n      <td>0.0</td>\n      <td>0</td>\n      <td>0</td>\n      <td>2</td>\n      <td>2016</td>\n      <td>1</td>\n    </tr>\n    <tr>\n      <th>587842</th>\n      <td>503031</td>\n      <td>2016-03-28</td>\n      <td>0</td>\n      <td>45.0</td>\n      <td>43</td>\n      <td>0.0</td>\n      <td>43</td>\n      <td>1.0</td>\n      <td>NaN</td>\n      <td>1.0</td>\n      <td>...</td>\n      <td>0</td>\n      <td>0</td>\n      <td>0</td>\n      <td>0.0</td>\n      <td>0.0</td>\n      <td>0</td>\n      <td>0</td>\n      <td>3</td>\n      <td>2016</td>\n      <td>1</td>\n    </tr>\n    <tr>\n      <th>620988</th>\n      <td>503031</td>\n      <td>2016-04-28</td>\n      <td>0</td>\n      <td>45.0</td>\n      <td>44</td>\n      <td>0.0</td>\n      <td>44</td>\n      <td>1.0</td>\n      <td>NaN</td>\n      <td>1.0</td>\n      <td>...</td>\n      <td>0</td>\n      <td>0</td>\n      <td>0</td>\n      <td>0.0</td>\n      <td>0.0</td>\n      <td>0</td>\n      <td>0</td>\n      <td>4</td>\n      <td>2016</td>\n      <td>1</td>\n    </tr>\n  </tbody>\n</table>\n<p>16 rows × 49 columns</p>\n</div>"
     },
     "execution_count": 291,
     "metadata": {},
     "output_type": "execute_result"
    }
   ],
   "source": [
    "dataset[dataset['cod_persona']==503031] ## Para todos los clientes el num_antiguedad se incrementa de forma sincronizada con la fecha1. No se elimina la columna porque en determinadas circunstancias cambia el patrón."
   ]
  },
  {
   "cell_type": "code",
   "execution_count": 292,
   "metadata": {
    "ExecuteTime": {
     "end_time": "2024-06-09T14:14:53.015030Z",
     "start_time": "2024-06-09T14:14:52.611641200Z"
    }
   },
   "outputs": [
    {
     "data": {
      "text/plain": "<Figure size 720x432 with 1 Axes>",
      "image/png": "[encoded data removed]"
     },
     "metadata": {
      "needs_background": "light"
     },
     "output_type": "display_data"
    }
   ],
   "source": [
    "plt.figure(figsize=(10, 6))\n",
    "plt.hist(dataset['num_antiguedad'].dropna(), bins=30, edgecolor='k', alpha=0.7)\n",
    "plt.title('Distribución de num_antiguedad')\n",
    "plt.xlabel('Número de Antigüedad')\n",
    "plt.ylabel('Frecuencia')\n",
    "plt.grid(True)\n",
    "plt.show()"
   ]
  },
  {
   "cell_type": "markdown",
   "metadata": {},
   "source": [
    "Todos los datos quedan comprendidos en un intervalo de mses de antiguedad de 0 a 250. Se observa cierto sesgo en la distribucion hacia la izquierda, reflejando un patron de contratación muy alto hasta el mes 50. Posteriormente, se produce una reduccion significativa de los clientes abandonando el banco, y el número de fieles queda en una cola constante."
   ]
  },
  {
   "cell_type": "markdown",
   "metadata": {},
   "source": [
    "### xti_rel\n",
    "1(First/Primary),\t99\t(Primary\tcustomer\tduring\tthe\tmonth\tbut\tnot\tat\tthe\tend\tof\tthe\tmonth)"
   ]
  },
  {
   "cell_type": "markdown",
   "metadata": {},
   "source": []
  },
  {
   "cell_type": "code",
   "execution_count": 293,
   "metadata": {
    "ExecuteTime": {
     "end_time": "2024-06-09T14:14:53.030074600Z",
     "start_time": "2024-06-09T14:14:52.799280700Z"
    }
   },
   "outputs": [],
   "source": [
    "dataset['xti_rel']=pd.to_numeric(dataset['xti_rel'], errors='coerce')"
   ]
  },
  {
   "cell_type": "code",
   "execution_count": 294,
   "metadata": {
    "ExecuteTime": {
     "end_time": "2024-06-09T14:14:53.093172400Z",
     "start_time": "2024-06-09T14:14:52.814399600Z"
    }
   },
   "outputs": [
    {
     "data": {
      "text/plain": "0"
     },
     "execution_count": 294,
     "metadata": {},
     "output_type": "execute_result"
    }
   ],
   "source": [
    "dataset['xti_rel'].isnull().sum()"
   ]
  },
  {
   "cell_type": "code",
   "execution_count": 295,
   "metadata": {
    "ExecuteTime": {
     "end_time": "2024-06-09T14:14:53.125405600Z",
     "start_time": "2024-06-09T14:14:52.838744800Z"
    }
   },
   "outputs": [
    {
     "data": {
      "text/plain": "xti_rel\n1.0     634590\n99.0        36\nName: count, dtype: int64"
     },
     "execution_count": 295,
     "metadata": {},
     "output_type": "execute_result"
    }
   ],
   "source": [
    "xti_rel_counts = dataset['xti_rel'].value_counts()\n",
    "xti_rel_counts"
   ]
  },
  {
   "cell_type": "markdown",
   "metadata": {},
   "source": []
  },
  {
   "cell_type": "code",
   "execution_count": 296,
   "metadata": {
    "ExecuteTime": {
     "end_time": "2024-06-09T14:14:53.477705300Z",
     "start_time": "2024-06-09T14:14:52.845264800Z"
    }
   },
   "outputs": [],
   "source": [
    " #mapea esto 99.0 a 0 1.0 a 1:\n",
    "dataset['xti_rel'] = dataset['xti_rel'].apply(lambda x: 1 if x == 1 else 0)"
   ]
  },
  {
   "cell_type": "code",
   "execution_count": 297,
   "metadata": {
    "ExecuteTime": {
     "end_time": "2024-06-09T14:14:53.670328600Z",
     "start_time": "2024-06-09T14:14:53.081662Z"
    }
   },
   "outputs": [
    {
     "data": {
      "text/plain": "<Figure size 720x432 with 1 Axes>",
      "image/png": "[encoded data removed]"
     },
     "metadata": {
      "needs_background": "light"
     },
     "output_type": "display_data"
    }
   ],
   "source": [
    "# Graficar la distribución de 'xti_rel'\n",
    "plt.figure(figsize=(10, 6))\n",
    "xti_rel_counts.plot(kind='bar', edgecolor='k', alpha=0.7)\n",
    "plt.title('Distribución de xti_rel')\n",
    "plt.xlabel('Estado de Relación (xti_rel)')\n",
    "plt.ylabel('Frecuencia')\n",
    "plt.xticks(rotation=0)\n",
    "plt.grid(True)\n",
    "plt.show()"
   ]
  },
  {
   "cell_type": "markdown",
   "metadata": {
    "collapsed": false
   },
   "source": [
    "#### Indresi\n",
    "\n",
    "Residence\tindex\t(S\t(Yes)\tor\tN\t(No)\tif\tthe\tresidence\tcountry\tis\tthe\tsame\tthan\tthe\tbank\tcountry)\n"
   ]
  },
  {
   "cell_type": "code",
   "execution_count": 298,
   "metadata": {
    "collapsed": false,
    "ExecuteTime": {
     "end_time": "2024-06-09T14:14:53.711966Z",
     "start_time": "2024-06-09T14:14:53.223142200Z"
    }
   },
   "outputs": [
    {
     "name": "stdout",
     "output_type": "stream",
     "text": [
      "object\n"
     ]
    }
   ],
   "source": [
    "print(dataset['indresi'].dtype)"
   ]
  },
  {
   "cell_type": "code",
   "execution_count": 299,
   "metadata": {
    "collapsed": false,
    "ExecuteTime": {
     "end_time": "2024-06-09T14:14:53.747122100Z",
     "start_time": "2024-06-09T14:14:53.257415300Z"
    }
   },
   "outputs": [],
   "source": [
    "dataset['indresi'].value_counts()\n",
    "dataset['indresi'] = dataset['indresi'].map({'S': 1, 'N': 0})"
   ]
  },
  {
   "cell_type": "code",
   "execution_count": 300,
   "metadata": {
    "collapsed": false,
    "ExecuteTime": {
     "end_time": "2024-06-09T14:14:53.782673600Z",
     "start_time": "2024-06-09T14:14:53.282447600Z"
    }
   },
   "outputs": [
    {
     "data": {
      "text/plain": "indresi\n1    631736\n0      2890\nName: count, dtype: int64"
     },
     "execution_count": 300,
     "metadata": {},
     "output_type": "execute_result"
    }
   ],
   "source": [
    "dataset['indresi'].value_counts()\n"
   ]
  },
  {
   "cell_type": "code",
   "execution_count": 301,
   "metadata": {
    "collapsed": false,
    "ExecuteTime": {
     "end_time": "2024-06-09T14:14:53.790195400Z",
     "start_time": "2024-06-09T14:14:53.299473200Z"
    }
   },
   "outputs": [
    {
     "data": {
      "text/plain": "indresi\n1    631736\n0      2890\nName: count, dtype: Int64"
     },
     "execution_count": 301,
     "metadata": {},
     "output_type": "execute_result"
    }
   ],
   "source": [
    "#to Int64\n",
    "dataset['indresi'] = dataset['indresi'].astype('Int64')\n",
    "dataset['indresi'].value_counts()"
   ]
  },
  {
   "cell_type": "markdown",
   "metadata": {
    "collapsed": false
   },
   "source": [
    "#### indext\n",
    "\n",
    "Foreigner\tindex\t(S\t(Yes)\tor\tN\t(No)\tif\tthe\tcustomer's\tbirth\tcountry\tis\tdifferent\tthan\tthe\tbank\tcountry)\n"
   ]
  },
  {
   "cell_type": "code",
   "execution_count": 302,
   "metadata": {
    "collapsed": false,
    "ExecuteTime": {
     "end_time": "2024-06-09T14:14:53.811235700Z",
     "start_time": "2024-06-09T14:14:53.337139800Z"
    }
   },
   "outputs": [
    {
     "data": {
      "text/plain": "indext\nN    604219\nS     30407\nName: count, dtype: int64"
     },
     "execution_count": 302,
     "metadata": {},
     "output_type": "execute_result"
    }
   ],
   "source": [
    "dataset['indext'].value_counts()"
   ]
  },
  {
   "cell_type": "code",
   "execution_count": 303,
   "metadata": {
    "collapsed": false,
    "ExecuteTime": {
     "end_time": "2024-06-09T14:14:54.042110400Z",
     "start_time": "2024-06-09T14:14:53.392469700Z"
    }
   },
   "outputs": [],
   "source": [
    "dataset['indext'].value_counts()\n",
    "dataset['indext'] = dataset['indext'].map({'S': 1, 'N': 0})"
   ]
  },
  {
   "cell_type": "code",
   "execution_count": 304,
   "metadata": {
    "collapsed": false,
    "ExecuteTime": {
     "end_time": "2024-06-09T14:14:54.067654700Z",
     "start_time": "2024-06-09T14:14:53.408496Z"
    }
   },
   "outputs": [
    {
     "data": {
      "text/plain": "indresi\n1    631736\n0      2890\nName: count, dtype: Int64"
     },
     "execution_count": 304,
     "metadata": {},
     "output_type": "execute_result"
    }
   ],
   "source": [
    "#to Int64\n",
    "dataset['indresi'] = dataset['indresi'].astype('Int64')\n",
    "dataset['indresi'].value_counts()"
   ]
  },
  {
   "cell_type": "markdown",
   "metadata": {
    "collapsed": false
   },
   "source": [
    "#### des_canal\n",
    "\n",
    "Channel\tused\tby\tthe\tcustomer\tto\tjoin    the\tbank"
   ]
  },
  {
   "cell_type": "code",
   "execution_count": 305,
   "metadata": {
    "collapsed": false,
    "ExecuteTime": {
     "end_time": "2024-06-09T14:14:54.131502800Z",
     "start_time": "2024-06-09T14:14:53.423033300Z"
    }
   },
   "outputs": [
    {
     "name": "stdout",
     "output_type": "stream",
     "text": [
      "object\n"
     ]
    }
   ],
   "source": [
    "print(dataset['des_canal'].dtype)"
   ]
  },
  {
   "cell_type": "code",
   "execution_count": 306,
   "metadata": {
    "collapsed": false,
    "ExecuteTime": {
     "end_time": "2024-06-09T14:14:54.178964900Z",
     "start_time": "2024-06-09T14:14:53.438054700Z"
    }
   },
   "outputs": [],
   "source": [
    "\n",
    "# Crear categorías de edad\n",
    "thresholds = [0, 20, 35, 50, 65, 80, 95, 110]\n",
    "age_labels = ['0-19', '20-34', '35-49', '50-64', '65-79', '80-94', '95-109']\n",
    "dataset['edad_grupo'] = pd.cut(dataset['edad'], bins=thresholds, labels=age_labels, right=False)"
   ]
  },
  {
   "cell_type": "code",
   "execution_count": 307,
   "metadata": {
    "collapsed": false,
    "ExecuteTime": {
     "end_time": "2024-06-09T14:14:54.225537300Z",
     "start_time": "2024-06-09T14:14:53.472187300Z"
    }
   },
   "outputs": [],
   "source": [
    "# Función para obtener la moda o NaN\n",
    "def obtener_moda_o_nan(serie):\n",
    "    modas = serie.mode()\n",
    "    return modas.iloc[0] if not modas.empty else np.nan\n",
    "\n",
    "# Calcular la moda de 'des_canal' para cada categoría de edad\n",
    "moda_por_edad = dataset.groupby('edad_grupo', observed=True)['des_canal'].apply(obtener_moda_o_nan).reset_index()\n",
    "moda_por_edad.columns = ['edad_grupo', 'moda_des_canal']"
   ]
  },
  {
   "cell_type": "code",
   "execution_count": 308,
   "metadata": {
    "collapsed": false,
    "ExecuteTime": {
     "end_time": "2024-06-09T14:15:02.241409100Z",
     "start_time": "2024-06-09T14:14:53.566449Z"
    }
   },
   "outputs": [],
   "source": [
    "\n",
    "# Unir las modas al DataFrame original\n",
    "dataset = dataset.merge(moda_por_edad, on='edad_grupo', how='left')\n",
    "\n",
    "# Imputar valores nulos en 'des_canal' con la moda correspondiente\n",
    "dataset['des_canal'] = dataset.apply(\n",
    "    lambda row: row['moda_des_canal'] if pd.isnull(row['des_canal']) else row['des_canal'],\n",
    "    axis=1\n",
    ")"
   ]
  },
  {
   "cell_type": "code",
   "execution_count": 309,
   "metadata": {
    "collapsed": false,
    "ExecuteTime": {
     "end_time": "2024-06-09T14:15:02.382076Z",
     "start_time": "2024-06-09T14:15:02.245189200Z"
    }
   },
   "outputs": [],
   "source": [
    "\n",
    "# Eliminar columna temporal\n",
    "dataset.drop(columns=['moda_des_canal', 'edad_grupo'], inplace=True)"
   ]
  },
  {
   "cell_type": "code",
   "execution_count": 310,
   "metadata": {
    "collapsed": false,
    "ExecuteTime": {
     "end_time": "2024-06-09T14:15:02.504978900Z",
     "start_time": "2024-06-09T14:15:02.354546600Z"
    }
   },
   "outputs": [
    {
     "data": {
      "text/plain": "0"
     },
     "execution_count": 310,
     "metadata": {},
     "output_type": "execute_result"
    }
   ],
   "source": [
    "# count nulls\n",
    "dataset['des_canal'].isnull().sum()"
   ]
  },
  {
   "cell_type": "code",
   "execution_count": 311,
   "metadata": {
    "collapsed": false,
    "ExecuteTime": {
     "end_time": "2024-06-09T14:15:02.584917500Z",
     "start_time": "2024-06-09T14:15:02.387224900Z"
    }
   },
   "outputs": [
    {
     "data": {
      "text/plain": "cod_persona                   0\nmes                           0\nsexo                          0\nedad                          0\nfecha1                        0\nxti_nuevo_cliente             0\nnum_antiguedad                0\nxti_rel                       0\nfec_ult_cli_1t           634590\nxti_rel_1mes               5586\ntip_rel_1mes               5586\nindresi                       0\nindext                        0\ndes_canal                     0\nxti_extra                     0\ntip_dom                       0\ncod_provincia              2890\nxti_actividad_cliente         0\nimp_renta                124108\nid_segmento                7347\nmean_engagement            5586\nind_prod1                     0\nind_prod2                     0\nind_prod3                     0\nind_prod4                     0\nind_prod5                     0\nind_prod6                     0\nind_prod7                     0\nind_prod8                     0\nind_prod9                     0\nind_prod10                    0\nind_prod11                    0\nind_prod12                    0\nind_prod13                    0\nind_prod14                    0\nind_prod15                    0\nind_prod16                    0\nind_prod17                    0\nind_prod18                    0\nind_prod19                    0\nind_prod20                    0\nind_prod21                    0\nind_prod22                    3\nind_prod23                    3\nind_prod24                    0\nind_prod25                    0\nmes_mes                       0\nmes_año                       0\npais_binario                  0\ndtype: int64"
     },
     "execution_count": 311,
     "metadata": {},
     "output_type": "execute_result"
    }
   ],
   "source": [
    "dataset.isnull().sum()"
   ]
  },
  {
   "cell_type": "code",
   "execution_count": 312,
   "metadata": {
    "collapsed": false,
    "ExecuteTime": {
     "end_time": "2024-06-09T14:15:02.661832700Z",
     "start_time": "2024-06-09T14:15:02.544128800Z"
    }
   },
   "outputs": [
    {
     "data": {
      "text/plain": "des_canal\nKHE    195663\nKAT    153151\nKFC    148235\nKHQ     25773\nKFA     18941\n        ...  \nKCQ        10\nKFM        10\nKCP        10\nKDV        10\nK00        10\nName: count, Length: 126, dtype: int64"
     },
     "execution_count": 312,
     "metadata": {},
     "output_type": "execute_result"
    }
   ],
   "source": [
    "dataset['des_canal'].value_counts()"
   ]
  },
  {
   "cell_type": "code",
   "execution_count": 313,
   "metadata": {
    "collapsed": false,
    "ExecuteTime": {
     "end_time": "2024-06-09T14:15:02.721911900Z",
     "start_time": "2024-06-09T14:15:02.587929400Z"
    }
   },
   "outputs": [],
   "source": [
    "frequency = dataset['des_canal'].value_counts()"
   ]
  },
  {
   "cell_type": "code",
   "execution_count": 314,
   "metadata": {
    "collapsed": false,
    "ExecuteTime": {
     "end_time": "2024-06-09T14:15:02.954806500Z",
     "start_time": "2024-06-09T14:15:02.604951700Z"
    }
   },
   "outputs": [
    {
     "data": {
      "text/plain": "<Figure size 720x432 with 1 Axes>",
      "image/png": "[encoded data removed]"
     },
     "metadata": {
      "needs_background": "light"
     },
     "output_type": "display_data"
    }
   ],
   "source": [
    "# Calcular la distribución de frecuencias\n",
    "plt.figure(figsize=(10, 6))\n",
    "plt.hist(frequency, bins=50, log=True)\n",
    "plt.xlabel('Frecuencia')\n",
    "plt.ylabel('Número de Categorías')\n",
    "plt.title('Distribución de Frecuencias de las Categorías')\n",
    "plt.show()"
   ]
  },
  {
   "cell_type": "code",
   "execution_count": 315,
   "metadata": {
    "collapsed": false,
    "ExecuteTime": {
     "end_time": "2024-06-09T14:15:02.996117100Z",
     "start_time": "2024-06-09T14:15:02.951263900Z"
    }
   },
   "outputs": [
    {
     "name": "stdout",
     "output_type": "stream",
     "text": [
      "Umbral basado en el percentil 90: 2980.0\n"
     ]
    }
   ],
   "source": [
    "# Definir un umbral basado en el percentil 90 (puedes ajustar este percentil)\n",
    "threshold = np.percentile(frequency, 90)\n",
    "print(f\"Umbral basado en el percentil 90: {threshold}\")"
   ]
  },
  {
   "cell_type": "code",
   "execution_count": 316,
   "metadata": {
    "collapsed": false,
    "ExecuteTime": {
     "end_time": "2024-06-09T14:15:03.131054100Z",
     "start_time": "2024-06-09T14:15:02.967585800Z"
    }
   },
   "outputs": [],
   "source": [
    "dataset['des_canal_grouped'] = dataset['des_canal']\n",
    "dataset.loc[dataset['des_canal'].isin(frequency[frequency < threshold].index), 'des_canal_grouped'] = 'otros'"
   ]
  },
  {
   "cell_type": "code",
   "execution_count": 317,
   "metadata": {
    "collapsed": false,
    "ExecuteTime": {
     "end_time": "2024-06-09T14:15:03.166144400Z",
     "start_time": "2024-06-09T14:15:03.031169300Z"
    }
   },
   "outputs": [
    {
     "name": "stdout",
     "output_type": "stream",
     "text": [
      "des_canal_grouped\n",
      "KHE      195663\n",
      "KAT      153151\n",
      "KFC      148235\n",
      "otros     50222\n",
      "KHQ       25773\n",
      "KFA       18941\n",
      "KHK       11218\n",
      "KHM        7310\n",
      "KHD        5456\n",
      "KHN        4699\n",
      "KAS        4072\n",
      "KAG        3574\n",
      "RED        3328\n",
      "KAB        2984\n",
      "Name: count, dtype: int64\n"
     ]
    }
   ],
   "source": [
    "print(dataset['des_canal_grouped'].value_counts())\n"
   ]
  },
  {
   "cell_type": "code",
   "execution_count": 318,
   "metadata": {
    "collapsed": false,
    "ExecuteTime": {
     "end_time": "2024-06-09T14:15:03.423489Z",
     "start_time": "2024-06-09T14:15:03.047207300Z"
    }
   },
   "outputs": [],
   "source": [
    "dataset = pd.get_dummies(dataset, columns=['des_canal_grouped'])\n",
    "dataset.drop(columns=['des_canal'], inplace=True)"
   ]
  },
  {
   "cell_type": "code",
   "execution_count": 319,
   "metadata": {
    "collapsed": false,
    "ExecuteTime": {
     "end_time": "2024-06-09T14:15:03.484367900Z",
     "start_time": "2024-06-09T14:15:03.420494Z"
    }
   },
   "outputs": [
    {
     "data": {
      "text/plain": "   cod_persona        mes  sexo  edad  fecha1  xti_nuevo_cliente  \\\n0       178103 2015-01-28     0  35.0       0                0.0   \n1       503082 2015-01-28     1  27.0      29                0.0   \n2       502996 2015-01-28     1  37.0      29                0.0   \n3       503053 2015-01-28     0  23.0      29                0.0   \n4       503031 2015-01-28     0  44.0      29                0.0   \n\n   num_antiguedad  xti_rel fec_ult_cli_1t  xti_rel_1mes  ...  \\\n0               6        1            NaN           1.0  ...   \n1              35        1            NaN           1.0  ...   \n2              35        1            NaN           1.0  ...   \n3              35        1            NaN           1.0  ...   \n4              35        1            NaN           1.0  ...   \n\n  des_canal_grouped_KFA  des_canal_grouped_KFC  des_canal_grouped_KHD  \\\n0                 False                  False                  False   \n1                 False                  False                  False   \n2                 False                   True                  False   \n3                 False                  False                  False   \n4                 False                  False                  False   \n\n  des_canal_grouped_KHE  des_canal_grouped_KHK  des_canal_grouped_KHM  \\\n0                 False                  False                  False   \n1                  True                  False                  False   \n2                 False                  False                  False   \n3                  True                  False                  False   \n4                 False                  False                  False   \n\n   des_canal_grouped_KHN  des_canal_grouped_KHQ des_canal_grouped_RED  \\\n0                  False                  False                 False   \n1                  False                  False                 False   \n2                  False                  False                 False   \n3                  False                  False                 False   \n4                  False                  False                 False   \n\n   des_canal_grouped_otros  \n0                     True  \n1                    False  \n2                    False  \n3                    False  \n4                    False  \n\n[5 rows x 62 columns]",
      "text/html": "<div>\n<style scoped>\n    .dataframe tbody tr th:only-of-type {\n        vertical-align: middle;\n    }\n\n    .dataframe tbody tr th {\n        vertical-align: top;\n    }\n\n    .dataframe thead th {\n        text-align: right;\n    }\n</style>\n<table border=\"1\" class=\"dataframe\">\n  <thead>\n    <tr style=\"text-align: right;\">\n      <th></th>\n      <th>cod_persona</th>\n      <th>mes</th>\n      <th>sexo</th>\n      <th>edad</th>\n      <th>fecha1</th>\n      <th>xti_nuevo_cliente</th>\n      <th>num_antiguedad</th>\n      <th>xti_rel</th>\n      <th>fec_ult_cli_1t</th>\n      <th>xti_rel_1mes</th>\n      <th>...</th>\n      <th>des_canal_grouped_KFA</th>\n      <th>des_canal_grouped_KFC</th>\n      <th>des_canal_grouped_KHD</th>\n      <th>des_canal_grouped_KHE</th>\n      <th>des_canal_grouped_KHK</th>\n      <th>des_canal_grouped_KHM</th>\n      <th>des_canal_grouped_KHN</th>\n      <th>des_canal_grouped_KHQ</th>\n      <th>des_canal_grouped_RED</th>\n      <th>des_canal_grouped_otros</th>\n    </tr>\n  </thead>\n  <tbody>\n    <tr>\n      <th>0</th>\n      <td>178103</td>\n      <td>2015-01-28</td>\n      <td>0</td>\n      <td>35.0</td>\n      <td>0</td>\n      <td>0.0</td>\n      <td>6</td>\n      <td>1</td>\n      <td>NaN</td>\n      <td>1.0</td>\n      <td>...</td>\n      <td>False</td>\n      <td>False</td>\n      <td>False</td>\n      <td>False</td>\n      <td>False</td>\n      <td>False</td>\n      <td>False</td>\n      <td>False</td>\n      <td>False</td>\n      <td>True</td>\n    </tr>\n    <tr>\n      <th>1</th>\n      <td>503082</td>\n      <td>2015-01-28</td>\n      <td>1</td>\n      <td>27.0</td>\n      <td>29</td>\n      <td>0.0</td>\n      <td>35</td>\n      <td>1</td>\n      <td>NaN</td>\n      <td>1.0</td>\n      <td>...</td>\n      <td>False</td>\n      <td>False</td>\n      <td>False</td>\n      <td>True</td>\n      <td>False</td>\n      <td>False</td>\n      <td>False</td>\n      <td>False</td>\n      <td>False</td>\n      <td>False</td>\n    </tr>\n    <tr>\n      <th>2</th>\n      <td>502996</td>\n      <td>2015-01-28</td>\n      <td>1</td>\n      <td>37.0</td>\n      <td>29</td>\n      <td>0.0</td>\n      <td>35</td>\n      <td>1</td>\n      <td>NaN</td>\n      <td>1.0</td>\n      <td>...</td>\n      <td>False</td>\n      <td>True</td>\n      <td>False</td>\n      <td>False</td>\n      <td>False</td>\n      <td>False</td>\n      <td>False</td>\n      <td>False</td>\n      <td>False</td>\n      <td>False</td>\n    </tr>\n    <tr>\n      <th>3</th>\n      <td>503053</td>\n      <td>2015-01-28</td>\n      <td>0</td>\n      <td>23.0</td>\n      <td>29</td>\n      <td>0.0</td>\n      <td>35</td>\n      <td>1</td>\n      <td>NaN</td>\n      <td>1.0</td>\n      <td>...</td>\n      <td>False</td>\n      <td>False</td>\n      <td>False</td>\n      <td>True</td>\n      <td>False</td>\n      <td>False</td>\n      <td>False</td>\n      <td>False</td>\n      <td>False</td>\n      <td>False</td>\n    </tr>\n    <tr>\n      <th>4</th>\n      <td>503031</td>\n      <td>2015-01-28</td>\n      <td>0</td>\n      <td>44.0</td>\n      <td>29</td>\n      <td>0.0</td>\n      <td>35</td>\n      <td>1</td>\n      <td>NaN</td>\n      <td>1.0</td>\n      <td>...</td>\n      <td>False</td>\n      <td>False</td>\n      <td>False</td>\n      <td>False</td>\n      <td>False</td>\n      <td>False</td>\n      <td>False</td>\n      <td>False</td>\n      <td>False</td>\n      <td>False</td>\n    </tr>\n  </tbody>\n</table>\n<p>5 rows × 62 columns</p>\n</div>"
     },
     "execution_count": 319,
     "metadata": {},
     "output_type": "execute_result"
    }
   ],
   "source": [
    "dataset.head()\n"
   ]
  },
  {
   "cell_type": "markdown",
   "metadata": {
    "collapsed": false
   },
   "source": [
    "#### xti_extra\n",
    "\n",
    "Deceased\tindex.\tN/S\n"
   ]
  },
  {
   "cell_type": "code",
   "execution_count": 320,
   "metadata": {
    "collapsed": false,
    "ExecuteTime": {
     "end_time": "2024-06-09T14:15:03.591734Z",
     "start_time": "2024-06-09T14:15:03.438162800Z"
    }
   },
   "outputs": [
    {
     "data": {
      "text/plain": "xti_extra\nN    633108\nS      1518\nName: count, dtype: int64"
     },
     "execution_count": 320,
     "metadata": {},
     "output_type": "execute_result"
    }
   ],
   "source": [
    "dataset['xti_extra'].value_counts()"
   ]
  },
  {
   "cell_type": "code",
   "execution_count": 321,
   "metadata": {
    "collapsed": false,
    "ExecuteTime": {
     "end_time": "2024-06-09T14:15:03.664272500Z",
     "start_time": "2024-06-09T14:15:03.471289900Z"
    }
   },
   "outputs": [],
   "source": [
    "dataset['xti_extra'] = dataset['xti_extra'].map({'S': 1, 'N': 0})\n",
    "dataset['xti_extra']  = dataset['xti_extra'].astype('Int64')"
   ]
  },
  {
   "cell_type": "code",
   "execution_count": 322,
   "metadata": {
    "collapsed": false,
    "ExecuteTime": {
     "end_time": "2024-06-09T14:15:03.679340Z",
     "start_time": "2024-06-09T14:15:03.537475Z"
    }
   },
   "outputs": [
    {
     "data": {
      "text/plain": "xti_extra\n0    633108\n1      1518\nName: count, dtype: Int64"
     },
     "execution_count": 322,
     "metadata": {},
     "output_type": "execute_result"
    }
   ],
   "source": [
    "dataset['xti_extra'].value_counts()"
   ]
  },
  {
   "cell_type": "code",
   "execution_count": 323,
   "metadata": {
    "collapsed": false,
    "ExecuteTime": {
     "end_time": "2024-06-09T14:15:03.851709500Z",
     "start_time": "2024-06-09T14:15:03.545986400Z"
    }
   },
   "outputs": [
    {
     "data": {
      "text/plain": "xti_extra\n1    46763\n2       16\nName: count, dtype: int64"
     },
     "execution_count": 323,
     "metadata": {},
     "output_type": "execute_result"
    }
   ],
   "source": [
    "# dime si hay algun cod_persona que tenga xti_extra = 1 y xti_extra = 0\n",
    "dataset.groupby('cod_persona')['xti_extra'].nunique().value_counts()"
   ]
  },
  {
   "cell_type": "code",
   "execution_count": 324,
   "metadata": {
    "collapsed": false,
    "ExecuteTime": {
     "end_time": "2024-06-09T14:15:04.004309500Z",
     "start_time": "2024-06-09T14:15:03.626354500Z"
    }
   },
   "outputs": [],
   "source": [
    "# Si hay algun cod_persona que tenga xti_extra = 1 y xti_extra = 0 vamos a sacar los valores cod_persona\n",
    "cod_personas_con_xti_extra_ambos = dataset.groupby('cod_persona')['xti_extra'].nunique()\n",
    "cod_personas_con_xti_extra_ambos = cod_personas_con_xti_extra_ambos[cod_personas_con_xti_extra_ambos == 2].index"
   ]
  },
  {
   "cell_type": "code",
   "execution_count": 325,
   "metadata": {
    "collapsed": false,
    "ExecuteTime": {
     "end_time": "2024-06-09T14:15:04.027877Z",
     "start_time": "2024-06-09T14:15:03.705872200Z"
    }
   },
   "outputs": [
    {
     "data": {
      "text/plain": "Index([ 315613,  478242,  667532,  750560, 1158120, 1241973, 1292676, 1366657,\n       1438552, 1448906, 1453113, 1457279, 1506511, 1511385, 1513673, 1527641],\n      dtype='int64', name='cod_persona')"
     },
     "execution_count": 325,
     "metadata": {},
     "output_type": "execute_result"
    }
   ],
   "source": [
    "cod_personas_con_xti_extra_ambos"
   ]
  },
  {
   "cell_type": "code",
   "execution_count": 326,
   "metadata": {
    "collapsed": false,
    "ExecuteTime": {
     "end_time": "2024-06-09T14:15:04.125272600Z",
     "start_time": "2024-06-09T14:15:03.720389100Z"
    }
   },
   "outputs": [
    {
     "data": {
      "text/plain": "        cod_persona        mes  sexo   edad  fecha1  xti_nuevo_cliente  \\\n3303         478242 2015-01-28     0  100.0      27                0.0   \n5252         667532 2015-01-28     1   87.0      54                0.0   \n14488        315613 2015-01-28     1   52.0      12                0.0   \n16128       1241973 2015-01-28     1   56.0     157                0.0   \n17125       1292676 2015-01-28     1   82.0     162                0.0   \n...             ...        ...   ...    ...     ...                ...   \n606470      1158120 2016-04-28     1   79.0     160                0.0   \n609345      1527641 2016-04-28     1   73.0     233                0.0   \n610652      1241973 2016-04-28     1   57.0     172                0.0   \n613932       478242 2016-04-28     0  101.0      42                0.0   \n629287       315613 2016-04-28     1   53.0      27                0.0   \n\n        num_antiguedad  xti_rel fec_ult_cli_1t  xti_rel_1mes  ...  \\\n3303                33        1            NaN           1.0  ...   \n5252                60        1            NaN           1.0  ...   \n14488               18        1            NaN           1.0  ...   \n16128              163        1            NaN           1.0  ...   \n17125              168        1            NaN           1.0  ...   \n...                ...      ...            ...           ...  ...   \n606470             160        1            NaN           1.0  ...   \n609345             219        1            NaN           1.0  ...   \n610652             172        1            NaN           1.0  ...   \n613932              42        1            NaN           1.0  ...   \n629287              27        1            NaN           1.0  ...   \n\n       des_canal_grouped_KFA  des_canal_grouped_KFC  des_canal_grouped_KHD  \\\n3303                   False                  False                  False   \n5252                   False                  False                  False   \n14488                  False                   True                  False   \n16128                  False                  False                  False   \n17125                  False                  False                  False   \n...                      ...                    ...                    ...   \n606470                 False                   True                  False   \n609345                 False                  False                  False   \n610652                 False                  False                  False   \n613932                 False                  False                  False   \n629287                 False                   True                  False   \n\n        des_canal_grouped_KHE  des_canal_grouped_KHK  des_canal_grouped_KHM  \\\n3303                    False                  False                  False   \n5252                    False                  False                  False   \n14488                   False                  False                  False   \n16128                   False                  False                  False   \n17125                   False                  False                  False   \n...                       ...                    ...                    ...   \n606470                  False                  False                  False   \n609345                  False                  False                  False   \n610652                  False                  False                  False   \n613932                  False                  False                  False   \n629287                  False                  False                  False   \n\n        des_canal_grouped_KHN  des_canal_grouped_KHQ des_canal_grouped_RED  \\\n3303                    False                  False                 False   \n5252                    False                  False                 False   \n14488                   False                  False                 False   \n16128                   False                  False                 False   \n17125                   False                  False                 False   \n...                       ...                    ...                   ...   \n606470                  False                  False                 False   \n609345                  False                  False                 False   \n610652                  False                  False                 False   \n613932                  False                  False                 False   \n629287                  False                  False                 False   \n\n        des_canal_grouped_otros  \n3303                      False  \n5252                       True  \n14488                     False  \n16128                     False  \n17125                     False  \n...                         ...  \n606470                    False  \n609345                     True  \n610652                    False  \n613932                    False  \n629287                    False  \n\n[251 rows x 62 columns]",
      "text/html": "<div>\n<style scoped>\n    .dataframe tbody tr th:only-of-type {\n        vertical-align: middle;\n    }\n\n    .dataframe tbody tr th {\n        vertical-align: top;\n    }\n\n    .dataframe thead th {\n        text-align: right;\n    }\n</style>\n<table border=\"1\" class=\"dataframe\">\n  <thead>\n    <tr style=\"text-align: right;\">\n      <th></th>\n      <th>cod_persona</th>\n      <th>mes</th>\n      <th>sexo</th>\n      <th>edad</th>\n      <th>fecha1</th>\n      <th>xti_nuevo_cliente</th>\n      <th>num_antiguedad</th>\n      <th>xti_rel</th>\n      <th>fec_ult_cli_1t</th>\n      <th>xti_rel_1mes</th>\n      <th>...</th>\n      <th>des_canal_grouped_KFA</th>\n      <th>des_canal_grouped_KFC</th>\n      <th>des_canal_grouped_KHD</th>\n      <th>des_canal_grouped_KHE</th>\n      <th>des_canal_grouped_KHK</th>\n      <th>des_canal_grouped_KHM</th>\n      <th>des_canal_grouped_KHN</th>\n      <th>des_canal_grouped_KHQ</th>\n      <th>des_canal_grouped_RED</th>\n      <th>des_canal_grouped_otros</th>\n    </tr>\n  </thead>\n  <tbody>\n    <tr>\n      <th>3303</th>\n      <td>478242</td>\n      <td>2015-01-28</td>\n      <td>0</td>\n      <td>100.0</td>\n      <td>27</td>\n      <td>0.0</td>\n      <td>33</td>\n      <td>1</td>\n      <td>NaN</td>\n      <td>1.0</td>\n      <td>...</td>\n      <td>False</td>\n      <td>False</td>\n      <td>False</td>\n      <td>False</td>\n      <td>False</td>\n      <td>False</td>\n      <td>False</td>\n      <td>False</td>\n      <td>False</td>\n      <td>False</td>\n    </tr>\n    <tr>\n      <th>5252</th>\n      <td>667532</td>\n      <td>2015-01-28</td>\n      <td>1</td>\n      <td>87.0</td>\n      <td>54</td>\n      <td>0.0</td>\n      <td>60</td>\n      <td>1</td>\n      <td>NaN</td>\n      <td>1.0</td>\n      <td>...</td>\n      <td>False</td>\n      <td>False</td>\n      <td>False</td>\n      <td>False</td>\n      <td>False</td>\n      <td>False</td>\n      <td>False</td>\n      <td>False</td>\n      <td>False</td>\n      <td>True</td>\n    </tr>\n    <tr>\n      <th>14488</th>\n      <td>315613</td>\n      <td>2015-01-28</td>\n      <td>1</td>\n      <td>52.0</td>\n      <td>12</td>\n      <td>0.0</td>\n      <td>18</td>\n      <td>1</td>\n      <td>NaN</td>\n      <td>1.0</td>\n      <td>...</td>\n      <td>False</td>\n      <td>True</td>\n      <td>False</td>\n      <td>False</td>\n      <td>False</td>\n      <td>False</td>\n      <td>False</td>\n      <td>False</td>\n      <td>False</td>\n      <td>False</td>\n    </tr>\n    <tr>\n      <th>16128</th>\n      <td>1241973</td>\n      <td>2015-01-28</td>\n      <td>1</td>\n      <td>56.0</td>\n      <td>157</td>\n      <td>0.0</td>\n      <td>163</td>\n      <td>1</td>\n      <td>NaN</td>\n      <td>1.0</td>\n      <td>...</td>\n      <td>False</td>\n      <td>False</td>\n      <td>False</td>\n      <td>False</td>\n      <td>False</td>\n      <td>False</td>\n      <td>False</td>\n      <td>False</td>\n      <td>False</td>\n      <td>False</td>\n    </tr>\n    <tr>\n      <th>17125</th>\n      <td>1292676</td>\n      <td>2015-01-28</td>\n      <td>1</td>\n      <td>82.0</td>\n      <td>162</td>\n      <td>0.0</td>\n      <td>168</td>\n      <td>1</td>\n      <td>NaN</td>\n      <td>1.0</td>\n      <td>...</td>\n      <td>False</td>\n      <td>False</td>\n      <td>False</td>\n      <td>False</td>\n      <td>False</td>\n      <td>False</td>\n      <td>False</td>\n      <td>False</td>\n      <td>False</td>\n      <td>False</td>\n    </tr>\n    <tr>\n      <th>...</th>\n      <td>...</td>\n      <td>...</td>\n      <td>...</td>\n      <td>...</td>\n      <td>...</td>\n      <td>...</td>\n      <td>...</td>\n      <td>...</td>\n      <td>...</td>\n      <td>...</td>\n      <td>...</td>\n      <td>...</td>\n      <td>...</td>\n      <td>...</td>\n      <td>...</td>\n      <td>...</td>\n      <td>...</td>\n      <td>...</td>\n      <td>...</td>\n      <td>...</td>\n      <td>...</td>\n    </tr>\n    <tr>\n      <th>606470</th>\n      <td>1158120</td>\n      <td>2016-04-28</td>\n      <td>1</td>\n      <td>79.0</td>\n      <td>160</td>\n      <td>0.0</td>\n      <td>160</td>\n      <td>1</td>\n      <td>NaN</td>\n      <td>1.0</td>\n      <td>...</td>\n      <td>False</td>\n      <td>True</td>\n      <td>False</td>\n      <td>False</td>\n      <td>False</td>\n      <td>False</td>\n      <td>False</td>\n      <td>False</td>\n      <td>False</td>\n      <td>False</td>\n    </tr>\n    <tr>\n      <th>609345</th>\n      <td>1527641</td>\n      <td>2016-04-28</td>\n      <td>1</td>\n      <td>73.0</td>\n      <td>233</td>\n      <td>0.0</td>\n      <td>219</td>\n      <td>1</td>\n      <td>NaN</td>\n      <td>1.0</td>\n      <td>...</td>\n      <td>False</td>\n      <td>False</td>\n      <td>False</td>\n      <td>False</td>\n      <td>False</td>\n      <td>False</td>\n      <td>False</td>\n      <td>False</td>\n      <td>False</td>\n      <td>True</td>\n    </tr>\n    <tr>\n      <th>610652</th>\n      <td>1241973</td>\n      <td>2016-04-28</td>\n      <td>1</td>\n      <td>57.0</td>\n      <td>172</td>\n      <td>0.0</td>\n      <td>172</td>\n      <td>1</td>\n      <td>NaN</td>\n      <td>1.0</td>\n      <td>...</td>\n      <td>False</td>\n      <td>False</td>\n      <td>False</td>\n      <td>False</td>\n      <td>False</td>\n      <td>False</td>\n      <td>False</td>\n      <td>False</td>\n      <td>False</td>\n      <td>False</td>\n    </tr>\n    <tr>\n      <th>613932</th>\n      <td>478242</td>\n      <td>2016-04-28</td>\n      <td>0</td>\n      <td>101.0</td>\n      <td>42</td>\n      <td>0.0</td>\n      <td>42</td>\n      <td>1</td>\n      <td>NaN</td>\n      <td>1.0</td>\n      <td>...</td>\n      <td>False</td>\n      <td>False</td>\n      <td>False</td>\n      <td>False</td>\n      <td>False</td>\n      <td>False</td>\n      <td>False</td>\n      <td>False</td>\n      <td>False</td>\n      <td>False</td>\n    </tr>\n    <tr>\n      <th>629287</th>\n      <td>315613</td>\n      <td>2016-04-28</td>\n      <td>1</td>\n      <td>53.0</td>\n      <td>27</td>\n      <td>0.0</td>\n      <td>27</td>\n      <td>1</td>\n      <td>NaN</td>\n      <td>1.0</td>\n      <td>...</td>\n      <td>False</td>\n      <td>True</td>\n      <td>False</td>\n      <td>False</td>\n      <td>False</td>\n      <td>False</td>\n      <td>False</td>\n      <td>False</td>\n      <td>False</td>\n      <td>False</td>\n    </tr>\n  </tbody>\n</table>\n<p>251 rows × 62 columns</p>\n</div>"
     },
     "execution_count": 326,
     "metadata": {},
     "output_type": "execute_result"
    }
   ],
   "source": [
    "# Vamos a ver los registros de estos cod_persona\n",
    "dataset[dataset['cod_persona'].isin(cod_personas_con_xti_extra_ambos)]"
   ]
  },
  {
   "cell_type": "code",
   "execution_count": 327,
   "metadata": {
    "collapsed": false,
    "ExecuteTime": {
     "end_time": "2024-06-09T14:15:04.211502Z",
     "start_time": "2024-06-09T14:15:03.777585700Z"
    }
   },
   "outputs": [
    {
     "data": {
      "text/plain": "xti_extra\n1    634626\nName: count, dtype: int64"
     },
     "execution_count": 327,
     "metadata": {},
     "output_type": "execute_result"
    }
   ],
   "source": [
    "# Vamos a ver si hay algun cod_persona que tenga xti_extra = 1 y xti_extra = 0 en el mismo mes\n",
    "dataset.groupby(['cod_persona', 'mes'])['xti_extra'].nunique().value_counts()"
   ]
  },
  {
   "cell_type": "markdown",
   "metadata": {
    "collapsed": false
   },
   "source": [
    "Se observa que no hay personas que tienen valores diferentes de xti_extra para el mismo mes. Pero si hay personas que tienen valores diferentes de xti_extra para diferentes meses. Se decide mantener los valores de xti_extra tal y como están ya que no hay ninguna inconsistencia en los datos y además  con estos cambios entre \"la vida y la muerte\" se pueden obtener patrones de contratación de productos."
   ]
  },
  {
   "cell_type": "markdown",
   "metadata": {
    "collapsed": false
   },
   "source": [
    "#### tip_dom\n",
    "\n",
    "Addres\ttype.\t1,\tprimary\taddress\n"
   ]
  },
  {
   "cell_type": "code",
   "execution_count": 328,
   "metadata": {
    "collapsed": false,
    "ExecuteTime": {
     "end_time": "2024-06-09T14:15:04.236566800Z",
     "start_time": "2024-06-09T14:15:03.987292700Z"
    }
   },
   "outputs": [
    {
     "data": {
      "text/plain": "0"
     },
     "execution_count": 328,
     "metadata": {},
     "output_type": "execute_result"
    }
   ],
   "source": [
    "dataset['tip_dom'].isnull().sum()"
   ]
  },
  {
   "cell_type": "code",
   "execution_count": 329,
   "metadata": {
    "collapsed": false,
    "ExecuteTime": {
     "end_time": "2024-06-09T14:15:04.291177800Z",
     "start_time": "2024-06-09T14:15:04.002801600Z"
    }
   },
   "outputs": [
    {
     "data": {
      "text/plain": "tip_dom\n1.0    634626\nName: count, dtype: int64"
     },
     "execution_count": 329,
     "metadata": {},
     "output_type": "execute_result"
    }
   ],
   "source": [
    "dataset['tip_dom'].value_counts()"
   ]
  },
  {
   "cell_type": "markdown",
   "metadata": {
    "collapsed": false
   },
   "source": [
    "Se observa que todos los registros son de tipo 1. Se decide eliminar la columna ya que no aporta información."
   ]
  },
  {
   "cell_type": "code",
   "execution_count": 330,
   "metadata": {
    "collapsed": false,
    "ExecuteTime": {
     "end_time": "2024-06-09T14:15:04.349772300Z",
     "start_time": "2024-06-09T14:15:04.021337900Z"
    }
   },
   "outputs": [],
   "source": [
    "dataset.drop(columns=['tip_dom'], inplace=True)"
   ]
  },
  {
   "cell_type": "markdown",
   "metadata": {
    "collapsed": false
   },
   "source": [
    "#### cod_provincia\n",
    "\n",
    "Province\tcode\t(customer's\taddress)\n"
   ]
  },
  {
   "cell_type": "code",
   "execution_count": 331,
   "metadata": {
    "collapsed": false,
    "ExecuteTime": {
     "end_time": "2024-06-09T14:15:04.357279900Z",
     "start_time": "2024-06-09T14:15:04.097728200Z"
    }
   },
   "outputs": [
    {
     "data": {
      "text/plain": "2890"
     },
     "execution_count": 331,
     "metadata": {},
     "output_type": "execute_result"
    }
   ],
   "source": [
    "dataset['cod_provincia'].isnull().sum()"
   ]
  },
  {
   "cell_type": "code",
   "execution_count": 332,
   "metadata": {
    "collapsed": false,
    "ExecuteTime": {
     "end_time": "2024-06-09T14:15:04.562808700Z",
     "start_time": "2024-06-09T14:15:04.112237500Z"
    }
   },
   "outputs": [
    {
     "data": {
      "text/plain": "pais_binario\n0    2890\nName: count, dtype: int64"
     },
     "execution_count": 332,
     "metadata": {},
     "output_type": "execute_result"
    }
   ],
   "source": [
    "# Ver la distribución de la variable 'cod_provincia' por pais en los nulls\n",
    "dataset[dataset['cod_provincia'].isnull()]['pais_binario'].value_counts()"
   ]
  },
  {
   "cell_type": "markdown",
   "metadata": {
    "collapsed": false
   },
   "source": [
    "Se observa que todos los valores nulos de 'cod_provincia' son de personas que no son de España. Se decide aplicar un 99 a los valores nulos para que no se pierda la información de la provincia."
   ]
  },
  {
   "cell_type": "code",
   "execution_count": 333,
   "metadata": {
    "collapsed": false,
    "ExecuteTime": {
     "end_time": "2024-06-09T14:15:04.600860900Z",
     "start_time": "2024-06-09T14:15:04.128276100Z"
    }
   },
   "outputs": [],
   "source": [
    "dataset['cod_provincia'] = dataset['cod_provincia'].fillna(99)"
   ]
  },
  {
   "cell_type": "code",
   "execution_count": 334,
   "metadata": {
    "collapsed": false,
    "ExecuteTime": {
     "end_time": "2024-06-09T14:15:04.625426600Z",
     "start_time": "2024-06-09T14:15:04.149357700Z"
    }
   },
   "outputs": [],
   "source": [
    "# Crear un diccionario de mapeo de códigos de provincia a nombres de provincia\n",
    "mapeo_provincias = {\n",
    "    1: 'Álava',\n",
    "    2: 'Albacete',\n",
    "    3: 'Alicante',\n",
    "    4: 'Almería',\n",
    "    5: 'Ávila',\n",
    "    6: 'Badajoz',\n",
    "    7: 'Islas Baleares',\n",
    "    8: 'Barcelona',\n",
    "    9: 'Burgos',\n",
    "    10: 'Cáceres',\n",
    "    11: 'Cádiz',\n",
    "    12: 'Castellón',\n",
    "    13: 'Ciudad Real',\n",
    "    14: 'Córdoba',\n",
    "    15: 'A Coruña',\n",
    "    16: 'Cuenca',\n",
    "    17: 'Girona',\n",
    "    18: 'Granada',\n",
    "    19: 'Guadalajara',\n",
    "    20: 'Gipuzkoa',\n",
    "    21: 'Huelva',\n",
    "    22: 'Huesca',\n",
    "    23: 'Jaén',\n",
    "    24: 'León',\n",
    "    25: 'Lleida',\n",
    "    26: 'La Rioja',\n",
    "    27: 'Lugo',\n",
    "    28: 'Madrid',\n",
    "    29: 'Málaga',\n",
    "    30: 'Murcia',\n",
    "    31: 'Navarra',\n",
    "    32: 'Ourense',\n",
    "    33: 'Asturias',\n",
    "    34: 'Palencia',\n",
    "    35: 'Las Palmas',\n",
    "    36: 'Pontevedra',\n",
    "    37: 'Salamanca',\n",
    "    38: 'Santa Cruz de Tenerife',\n",
    "    39: 'Cantabria',\n",
    "    40: 'Segovia',\n",
    "    41: 'Sevilla',\n",
    "    42: 'Soria',\n",
    "    43: 'Tarragona',\n",
    "    44: 'Teruel',\n",
    "    45: 'Toledo',\n",
    "    46: 'Valencia',\n",
    "    47: 'Valladolid',\n",
    "    48: 'Bizkaia',\n",
    "    49: 'Zamora',\n",
    "    50: 'Zaragoza',\n",
    "    51: 'Ceuta',\n",
    "    52: 'Melilla',\n",
    "    99: 'Desconocido'  # Incluyo un código para los casos desconocidos\n",
    "}\n",
    "\n",
    "# Mapear los códigos de provincia a nombres de provincia\n",
    "dataset['cod_provincia'] = dataset['cod_provincia'].map(mapeo_provincias)"
   ]
  },
  {
   "cell_type": "code",
   "execution_count": 335,
   "metadata": {
    "collapsed": false,
    "ExecuteTime": {
     "end_time": "2024-06-09T14:15:04.646998Z",
     "start_time": "2024-06-09T14:15:04.194968400Z"
    }
   },
   "outputs": [],
   "source": [
    "frequency_prov = dataset['cod_provincia'].value_counts()"
   ]
  },
  {
   "cell_type": "code",
   "execution_count": 336,
   "metadata": {
    "collapsed": false,
    "ExecuteTime": {
     "end_time": "2024-06-09T14:15:04.709079200Z",
     "start_time": "2024-06-09T14:15:04.205490400Z"
    }
   },
   "outputs": [
    {
     "data": {
      "text/plain": "cod_provincia\nMadrid                    206951\nBarcelona                  60268\nValencia                   32160\nSevilla                    28197\nA Coruña                   19160\nMurcia                     18386\nMálaga                     16899\nZaragoza                   16403\nAlicante                   14211\nCádiz                      12844\nPontevedra                 12819\nAsturias                   12471\nValladolid                 10936\nLas Palmas                 10688\nBadajoz                     9079\nGranada                     8724\nToledo                      8677\nBizkaia                     8529\nSalamanca                   7520\nCantabria                   7390\nCórdoba                     6895\nHuelva                      6217\nCáceres                     6099\nIslas Baleares              5670\nCiudad Real                 5424\nAlbacete                    5182\nCastellón                   5159\nTarragona                   4681\nLeón                        4323\nBurgos                      4116\nNavarra                     4109\nGirona                      4052\nLugo                        3951\nLa Rioja                    3811\nLleida                      3726\nOurense                     3457\nSanta Cruz de Tenerife      3263\nGipuzkoa                    3169\nGuadalajara                 3014\nDesconocido                 2890\nCuenca                      2803\nAlmería                     2760\nJaén                        2739\nZamora                      2300\nPalencia                    2292\nSegovia                     2050\nÁvila                       2035\nÁlava                       1844\nHuesca                      1811\nTeruel                       997\nSoria                        755\nMelilla                      401\nCeuta                        319\nName: count, dtype: int64"
     },
     "execution_count": 336,
     "metadata": {},
     "output_type": "execute_result"
    }
   ],
   "source": [
    "# Calcular la distribución de frecuencias\n",
    "dataset['cod_provincia'].value_counts()"
   ]
  },
  {
   "cell_type": "code",
   "execution_count": 337,
   "metadata": {
    "collapsed": false,
    "ExecuteTime": {
     "end_time": "2024-06-09T14:15:04.979629600Z",
     "start_time": "2024-06-09T14:15:04.241603100Z"
    }
   },
   "outputs": [
    {
     "data": {
      "text/plain": "<Figure size 720x432 with 1 Axes>",
      "image/png": "[encoded data removed]"
     },
     "metadata": {
      "needs_background": "light"
     },
     "output_type": "display_data"
    }
   ],
   "source": [
    "# Calcular la distribución de frecuencias\n",
    "plt.figure(figsize=(10, 6))\n",
    "plt.hist(frequency_prov, bins=50, log=True)\n",
    "plt.xlabel('Frecuencia')\n",
    "plt.ylabel('Número de Categorías')\n",
    "plt.title('Distribución de Frecuencias de las Categorías')\n",
    "plt.show()"
   ]
  },
  {
   "cell_type": "code",
   "execution_count": 338,
   "metadata": {
    "collapsed": false,
    "ExecuteTime": {
     "end_time": "2024-06-09T14:15:05.081304800Z",
     "start_time": "2024-06-09T14:15:04.553293500Z"
    }
   },
   "outputs": [
    {
     "name": "stdout",
     "output_type": "stream",
     "text": [
      "Umbral basado en el percentil 90: 5159.0\n"
     ]
    }
   ],
   "source": [
    "# Definir un umbral basado en el percentil 80 (puedes ajustar este percentil)\n",
    "threshold_prov= np.percentile(frequency_prov, 50)\n",
    "print(f\"Umbral basado en el percentil 90: {threshold_prov}\")"
   ]
  },
  {
   "cell_type": "markdown",
   "metadata": {
    "collapsed": false
   },
   "source": []
  },
  {
   "cell_type": "markdown",
   "metadata": {
    "collapsed": false
   },
   "source": [
    "Dado que no queremos perder demasiada granularidad y al mismo tiempo queremos agrupar las categorías con muy pocas observaciones, el percentil 50 (5159) parece un buen compromiso. Esto permitirá agrupar las categorías más pequeñas sin perder demasiada información detallada."
   ]
  },
  {
   "cell_type": "code",
   "execution_count": 339,
   "metadata": {
    "collapsed": false,
    "ExecuteTime": {
     "end_time": "2024-06-09T14:15:05.401801600Z",
     "start_time": "2024-06-09T14:15:04.568328100Z"
    }
   },
   "outputs": [
    {
     "data": {
      "text/plain": "cod_provincia_grouped\nMadrid              206951\notras_provincias     71668\nBarcelona            60268\nValencia             32160\nSevilla              28197\nA Coruña             19160\nMurcia               18386\nMálaga               16899\nZaragoza             16403\nAlicante             14211\nCádiz                12844\nPontevedra           12819\nAsturias             12471\nValladolid           10936\nLas Palmas           10688\nBadajoz               9079\nGranada               8724\nToledo                8677\nBizkaia               8529\nSalamanca             7520\nCantabria             7390\nCórdoba               6895\nHuelva                6217\nCáceres               6099\nIslas Baleares        5670\nCiudad Real           5424\nAlbacete              5182\nCastellón             5159\nName: count, dtype: int64"
     },
     "execution_count": 339,
     "metadata": {},
     "output_type": "execute_result"
    }
   ],
   "source": [
    "dataset['cod_provincia_grouped'] = dataset['cod_provincia']\n",
    "dataset.loc[dataset['cod_provincia'].isin(frequency_prov[frequency_prov < threshold_prov].index), 'cod_provincia_grouped'] = 'otras_provincias'\n",
    "dataset['cod_provincia_grouped'].value_counts()"
   ]
  },
  {
   "cell_type": "code",
   "execution_count": 340,
   "metadata": {
    "collapsed": false,
    "ExecuteTime": {
     "end_time": "2024-06-09T14:15:05.617716Z",
     "start_time": "2024-06-09T14:15:04.631436300Z"
    }
   },
   "outputs": [
    {
     "data": {
      "text/plain": "   cod_persona        mes  sexo  edad  fecha1  xti_nuevo_cliente  \\\n0       178103 2015-01-28     0  35.0       0                0.0   \n1       503082 2015-01-28     1  27.0      29                0.0   \n2       502996 2015-01-28     1  37.0      29                0.0   \n3       503053 2015-01-28     0  23.0      29                0.0   \n4       503031 2015-01-28     0  44.0      29                0.0   \n\n   num_antiguedad  xti_rel fec_ult_cli_1t  xti_rel_1mes  ...  \\\n0               6        1            NaN           1.0  ...   \n1              35        1            NaN           1.0  ...   \n2              35        1            NaN           1.0  ...   \n3              35        1            NaN           1.0  ...   \n4              35        1            NaN           1.0  ...   \n\n  cod_provincia_grouped_Murcia  cod_provincia_grouped_Málaga  \\\n0                        False                          True   \n1                        False                         False   \n2                        False                         False   \n3                        False                         False   \n4                        False                         False   \n\n   cod_provincia_grouped_Pontevedra  cod_provincia_grouped_Salamanca  \\\n0                             False                            False   \n1                             False                            False   \n2                             False                            False   \n3                             False                            False   \n4                             False                            False   \n\n   cod_provincia_grouped_Sevilla  cod_provincia_grouped_Toledo  \\\n0                          False                         False   \n1                          False                         False   \n2                          False                         False   \n3                          False                         False   \n4                          False                         False   \n\n  cod_provincia_grouped_Valencia  cod_provincia_grouped_Valladolid  \\\n0                          False                             False   \n1                          False                             False   \n2                          False                             False   \n3                          False                             False   \n4                          False                             False   \n\n   cod_provincia_grouped_Zaragoza  cod_provincia_grouped_otras_provincias  \n0                           False                                   False  \n1                           False                                    True  \n2                           False                                   False  \n3                           False                                   False  \n4                           False                                   False  \n\n[5 rows x 88 columns]",
      "text/html": "<div>\n<style scoped>\n    .dataframe tbody tr th:only-of-type {\n        vertical-align: middle;\n    }\n\n    .dataframe tbody tr th {\n        vertical-align: top;\n    }\n\n    .dataframe thead th {\n        text-align: right;\n    }\n</style>\n<table border=\"1\" class=\"dataframe\">\n  <thead>\n    <tr style=\"text-align: right;\">\n      <th></th>\n      <th>cod_persona</th>\n      <th>mes</th>\n      <th>sexo</th>\n      <th>edad</th>\n      <th>fecha1</th>\n      <th>xti_nuevo_cliente</th>\n      <th>num_antiguedad</th>\n      <th>xti_rel</th>\n      <th>fec_ult_cli_1t</th>\n      <th>xti_rel_1mes</th>\n      <th>...</th>\n      <th>cod_provincia_grouped_Murcia</th>\n      <th>cod_provincia_grouped_Málaga</th>\n      <th>cod_provincia_grouped_Pontevedra</th>\n      <th>cod_provincia_grouped_Salamanca</th>\n      <th>cod_provincia_grouped_Sevilla</th>\n      <th>cod_provincia_grouped_Toledo</th>\n      <th>cod_provincia_grouped_Valencia</th>\n      <th>cod_provincia_grouped_Valladolid</th>\n      <th>cod_provincia_grouped_Zaragoza</th>\n      <th>cod_provincia_grouped_otras_provincias</th>\n    </tr>\n  </thead>\n  <tbody>\n    <tr>\n      <th>0</th>\n      <td>178103</td>\n      <td>2015-01-28</td>\n      <td>0</td>\n      <td>35.0</td>\n      <td>0</td>\n      <td>0.0</td>\n      <td>6</td>\n      <td>1</td>\n      <td>NaN</td>\n      <td>1.0</td>\n      <td>...</td>\n      <td>False</td>\n      <td>True</td>\n      <td>False</td>\n      <td>False</td>\n      <td>False</td>\n      <td>False</td>\n      <td>False</td>\n      <td>False</td>\n      <td>False</td>\n      <td>False</td>\n    </tr>\n    <tr>\n      <th>1</th>\n      <td>503082</td>\n      <td>2015-01-28</td>\n      <td>1</td>\n      <td>27.0</td>\n      <td>29</td>\n      <td>0.0</td>\n      <td>35</td>\n      <td>1</td>\n      <td>NaN</td>\n      <td>1.0</td>\n      <td>...</td>\n      <td>False</td>\n      <td>False</td>\n      <td>False</td>\n      <td>False</td>\n      <td>False</td>\n      <td>False</td>\n      <td>False</td>\n      <td>False</td>\n      <td>False</td>\n      <td>True</td>\n    </tr>\n    <tr>\n      <th>2</th>\n      <td>502996</td>\n      <td>2015-01-28</td>\n      <td>1</td>\n      <td>37.0</td>\n      <td>29</td>\n      <td>0.0</td>\n      <td>35</td>\n      <td>1</td>\n      <td>NaN</td>\n      <td>1.0</td>\n      <td>...</td>\n      <td>False</td>\n      <td>False</td>\n      <td>False</td>\n      <td>False</td>\n      <td>False</td>\n      <td>False</td>\n      <td>False</td>\n      <td>False</td>\n      <td>False</td>\n      <td>False</td>\n    </tr>\n    <tr>\n      <th>3</th>\n      <td>503053</td>\n      <td>2015-01-28</td>\n      <td>0</td>\n      <td>23.0</td>\n      <td>29</td>\n      <td>0.0</td>\n      <td>35</td>\n      <td>1</td>\n      <td>NaN</td>\n      <td>1.0</td>\n      <td>...</td>\n      <td>False</td>\n      <td>False</td>\n      <td>False</td>\n      <td>False</td>\n      <td>False</td>\n      <td>False</td>\n      <td>False</td>\n      <td>False</td>\n      <td>False</td>\n      <td>False</td>\n    </tr>\n    <tr>\n      <th>4</th>\n      <td>503031</td>\n      <td>2015-01-28</td>\n      <td>0</td>\n      <td>44.0</td>\n      <td>29</td>\n      <td>0.0</td>\n      <td>35</td>\n      <td>1</td>\n      <td>NaN</td>\n      <td>1.0</td>\n      <td>...</td>\n      <td>False</td>\n      <td>False</td>\n      <td>False</td>\n      <td>False</td>\n      <td>False</td>\n      <td>False</td>\n      <td>False</td>\n      <td>False</td>\n      <td>False</td>\n      <td>False</td>\n    </tr>\n  </tbody>\n</table>\n<p>5 rows × 88 columns</p>\n</div>"
     },
     "execution_count": 340,
     "metadata": {},
     "output_type": "execute_result"
    }
   ],
   "source": [
    "dataset = pd.get_dummies(dataset, columns=['cod_provincia_grouped'])\n",
    "dataset.drop(columns=['cod_provincia'], inplace=True)\n",
    "dataset.head()"
   ]
  },
  {
   "cell_type": "markdown",
   "metadata": {
    "collapsed": false
   },
   "source": [
    "#### xti_actividad_cliente\n",
    "\n",
    "Activity\tindex\t(1,\tactive\tcustomer;\t0,\tinactive\tcustomer)\n"
   ]
  },
  {
   "cell_type": "code",
   "execution_count": 341,
   "metadata": {
    "collapsed": false,
    "ExecuteTime": {
     "end_time": "2024-06-09T14:15:05.646264800Z",
     "start_time": "2024-06-09T14:15:05.150918700Z"
    }
   },
   "outputs": [
    {
     "data": {
      "text/plain": "0"
     },
     "execution_count": 341,
     "metadata": {},
     "output_type": "execute_result"
    }
   ],
   "source": [
    "dataset['xti_actividad_cliente'].isnull().sum()"
   ]
  },
  {
   "cell_type": "code",
   "execution_count": 342,
   "metadata": {
    "collapsed": false,
    "ExecuteTime": {
     "end_time": "2024-06-09T14:15:05.834185100Z",
     "start_time": "2024-06-09T14:15:05.179058500Z"
    }
   },
   "outputs": [
    {
     "data": {
      "text/plain": "xti_actividad_cliente\n0.0    343253\n1.0    291373\nName: count, dtype: int64"
     },
     "execution_count": 342,
     "metadata": {},
     "output_type": "execute_result"
    }
   ],
   "source": [
    "dataset['xti_actividad_cliente'].value_counts()"
   ]
  },
  {
   "cell_type": "code",
   "execution_count": 343,
   "metadata": {
    "collapsed": false,
    "ExecuteTime": {
     "end_time": "2024-06-09T14:15:05.862654900Z",
     "start_time": "2024-06-09T14:15:05.195916Z"
    }
   },
   "outputs": [],
   "source": [
    "dataset['xti_actividad_cliente'] = dataset['xti_actividad_cliente'].astype(bool)"
   ]
  },
  {
   "cell_type": "code",
   "execution_count": 344,
   "metadata": {
    "collapsed": false,
    "ExecuteTime": {
     "end_time": "2024-06-09T14:15:05.892505600Z",
     "start_time": "2024-06-09T14:15:05.220945900Z"
    }
   },
   "outputs": [
    {
     "data": {
      "text/plain": "xti_actividad_cliente\nFalse    343253\nTrue     291373\nName: count, dtype: int64"
     },
     "execution_count": 344,
     "metadata": {},
     "output_type": "execute_result"
    }
   ],
   "source": [
    "dataset['xti_actividad_cliente'].value_counts()"
   ]
  },
  {
   "cell_type": "markdown",
   "source": [
    "#### mean_engagement\n"
   ],
   "metadata": {
    "collapsed": false
   }
  },
  {
   "cell_type": "code",
   "execution_count": 345,
   "outputs": [
    {
     "data": {
      "text/plain": "5586"
     },
     "execution_count": 345,
     "metadata": {},
     "output_type": "execute_result"
    }
   ],
   "source": [
    "dataset['mean_engagement'].isnull().sum()"
   ],
   "metadata": {
    "collapsed": false,
    "ExecuteTime": {
     "end_time": "2024-06-09T14:15:05.900613800Z",
     "start_time": "2024-06-09T14:15:05.230469700Z"
    }
   }
  },
  {
   "cell_type": "code",
   "execution_count": 346,
   "outputs": [],
   "source": [
    "# Calcular la mediana para mean_engagement\n",
    "median_engagement = dataset['mean_engagement'].median()"
   ],
   "metadata": {
    "collapsed": false,
    "ExecuteTime": {
     "end_time": "2024-06-09T14:15:05.922641500Z",
     "start_time": "2024-06-09T14:15:05.245029200Z"
    }
   }
  },
  {
   "cell_type": "code",
   "execution_count": 347,
   "outputs": [],
   "source": [
    "dataset.fillna({'mean_engagement': median_engagement}, inplace=True)"
   ],
   "metadata": {
    "collapsed": false,
    "ExecuteTime": {
     "end_time": "2024-06-09T14:15:05.943377100Z",
     "start_time": "2024-06-09T14:15:05.275583200Z"
    }
   }
  },
  {
   "cell_type": "code",
   "execution_count": 348,
   "outputs": [
    {
     "data": {
      "text/plain": "mean_engagement\n5.014352     36820\n4.908936     34341\n5.117500     33567\n4.801096     30474\n5.218520     21611\n             ...  \n24.774578        1\n38.793123        1\n15.966536        1\n17.711376        1\n12.867631        1\nName: count, Length: 203, dtype: int64"
     },
     "execution_count": 348,
     "metadata": {},
     "output_type": "execute_result"
    }
   ],
   "source": [
    "dataset['mean_engagement'].value_counts()"
   ],
   "metadata": {
    "collapsed": false,
    "ExecuteTime": {
     "end_time": "2024-06-09T14:15:05.950425700Z",
     "start_time": "2024-06-09T14:15:05.302622900Z"
    }
   }
  },
  {
   "cell_type": "code",
   "execution_count": 349,
   "outputs": [
    {
     "data": {
      "text/plain": "<Figure size 720x432 with 1 Axes>",
      "image/png": "[encoded data removed]"
     },
     "metadata": {
      "needs_background": "light"
     },
     "output_type": "display_data"
    }
   ],
   "source": [
    "# Plottear la distribución de mean_engagement\n",
    "plt.figure(figsize=(10, 6))\n",
    "plt.hist(dataset['mean_engagement'], bins=30, edgecolor='k', alpha=0.7)\n",
    "plt.title('Distribución de mean_engagement')\n",
    "plt.xlabel('Engagement Medio')\n",
    "plt.ylabel('Frecuencia')\n",
    "plt.grid(True)\n",
    "plt.show()"
   ],
   "metadata": {
    "collapsed": false,
    "ExecuteTime": {
     "end_time": "2024-06-09T14:15:06.040718Z",
     "start_time": "2024-06-09T14:15:05.324157600Z"
    }
   }
  },
  {
   "cell_type": "code",
   "execution_count": 350,
   "outputs": [
    {
     "data": {
      "text/plain": "<Figure size 720x432 with 1 Axes>",
      "image/png": "[encoded data removed]"
     },
     "metadata": {
      "needs_background": "light"
     },
     "output_type": "display_data"
    }
   ],
   "source": [
    "# Check for outliers\n",
    "plt.figure(figsize=(10, 6))\n",
    "plt.boxplot(dataset['mean_engagement'])\n",
    "plt.title('Boxplot de mean_engagement')\n",
    "plt.ylabel('Engagement Medio')\n",
    "plt.grid(True)\n",
    "plt.show()"
   ],
   "metadata": {
    "collapsed": false,
    "ExecuteTime": {
     "end_time": "2024-06-09T14:15:06.122638800Z",
     "start_time": "2024-06-09T14:15:05.559624300Z"
    }
   }
  },
  {
   "cell_type": "code",
   "execution_count": 351,
   "outputs": [
    {
     "name": "stdout",
     "output_type": "stream",
     "text": [
      "Número de outliers: 341\n"
     ]
    }
   ],
   "source": [
    "# Calcular cuantos outliers hay\n",
    "Q1 = dataset['mean_engagement'].quantile(0.25)\n",
    "Q3 = dataset['mean_engagement'].quantile(0.75)\n",
    "IQR = Q3 - Q1\n",
    "outliers = dataset[(dataset['mean_engagement'] < (Q1 - 1.5 * IQR)) | (dataset['mean_engagement'] > (Q3 + 1.5 * IQR))]\n",
    "print(f\"Número de outliers: {outliers.shape[0]}\")"
   ],
   "metadata": {
    "collapsed": false,
    "ExecuteTime": {
     "end_time": "2024-06-09T14:15:06.360039600Z",
     "start_time": "2024-06-09T14:15:05.735936400Z"
    }
   }
  },
  {
   "cell_type": "code",
   "execution_count": 352,
   "outputs": [],
   "source": [
    "# aplicar winsorize\n",
    "from scipy.stats.mstats import winsorize\n",
    "dataset['mean_engagement'] = winsorize(dataset['mean_engagement'], limits=[0.05, 0.05])"
   ],
   "metadata": {
    "collapsed": false,
    "ExecuteTime": {
     "end_time": "2024-06-09T14:15:06.415638900Z",
     "start_time": "2024-06-09T14:15:05.766484100Z"
    }
   }
  },
  {
   "cell_type": "code",
   "execution_count": 353,
   "outputs": [
    {
     "data": {
      "text/plain": "<Figure size 720x432 with 1 Axes>",
      "image/png": "[encoded data removed]"
     },
     "metadata": {
      "needs_background": "light"
     },
     "output_type": "display_data"
    }
   ],
   "source": [
    "plt.figure(figsize=(10, 6))\n",
    "plt.boxplot(dataset['mean_engagement'])\n",
    "plt.title('Boxplot de mean_engagement')\n",
    "plt.ylabel('Engagement Medio')\n",
    "plt.grid(True)\n",
    "plt.show()"
   ],
   "metadata": {
    "collapsed": false,
    "ExecuteTime": {
     "end_time": "2024-06-09T14:15:06.578226100Z",
     "start_time": "2024-06-09T14:15:05.829185700Z"
    }
   }
  },
  {
   "cell_type": "markdown",
   "source": [
    "#### tip_rel_1mes\n",
    "\n",
    "\n",
    "Customer\t relation\t type\tat\t the\t beginning\t of\t the\tmonth,\tA\t (active),\t I\t (inactive),\tP\t (former\t customer),R\t\n",
    "(Potential)\n"
   ],
   "metadata": {
    "collapsed": false
   }
  },
  {
   "cell_type": "code",
   "execution_count": 373,
   "outputs": [
    {
     "name": "stdout",
     "output_type": "stream",
     "text": [
      "Valores nulos en 'tip_rel_1mes': 5586\n"
     ]
    }
   ],
   "source": [
    "nulos_id_segmento = dataset['tip_rel_1mes'].isnull().sum()\n",
    "print(f\"Valores nulos en 'tip_rel_1mes': {nulos_id_segmento}\")"
   ],
   "metadata": {
    "collapsed": false
   }
  },
  {
   "cell_type": "code",
   "execution_count": 374,
   "outputs": [],
   "source": [
    "ind_prod_columns = [col for col in dataset.columns if col.startswith('ind_prod')]\n",
    "non_ind_prod_columns = [col for col in dataset.columns if not col.startswith('ind_prod')]\n",
    "\n",
    "# Separar las columnas ind_prod del resto del dataset\n",
    "dataset_non_ind_prod = dataset[non_ind_prod_columns]\n",
    "dataset_non_ind_prod = dataset_non_ind_prod.drop(columns=['cod_persona', 'mes'])\n",
    "dataset_ind_prod = dataset[ind_prod_columns]"
   ],
   "metadata": {
    "collapsed": false,
    "ExecuteTime": {
     "end_time": "2024-06-09T14:28:11.524721400Z",
     "start_time": "2024-06-09T14:28:11.347723Z"
    }
   }
  },
  {
   "cell_type": "code",
   "execution_count": 375,
   "outputs": [
    {
     "data": {
      "text/plain": "Index(['sexo', 'edad', 'fecha1', 'xti_nuevo_cliente', 'num_antiguedad',\n       'xti_rel', 'xti_rel_1mes', 'tip_rel_1mes', 'indresi', 'indext',\n       'xti_extra', 'xti_actividad_cliente', 'imp_renta', 'mean_engagement',\n       'mes_mes', 'mes_año', 'pais_binario', 'des_canal_grouped_KAB',\n       'des_canal_grouped_KAG', 'des_canal_grouped_KAS',\n       'des_canal_grouped_KAT', 'des_canal_grouped_KFA',\n       'des_canal_grouped_KFC', 'des_canal_grouped_KHD',\n       'des_canal_grouped_KHE', 'des_canal_grouped_KHK',\n       'des_canal_grouped_KHM', 'des_canal_grouped_KHN',\n       'des_canal_grouped_KHQ', 'des_canal_grouped_RED',\n       'des_canal_grouped_otros', 'cod_provincia_grouped_A Coruña',\n       'cod_provincia_grouped_Albacete', 'cod_provincia_grouped_Alicante',\n       'cod_provincia_grouped_Asturias', 'cod_provincia_grouped_Badajoz',\n       'cod_provincia_grouped_Barcelona', 'cod_provincia_grouped_Bizkaia',\n       'cod_provincia_grouped_Cantabria', 'cod_provincia_grouped_Castellón',\n       'cod_provincia_grouped_Ciudad Real', 'cod_provincia_grouped_Cáceres',\n       'cod_provincia_grouped_Cádiz', 'cod_provincia_grouped_Córdoba',\n       'cod_provincia_grouped_Granada', 'cod_provincia_grouped_Huelva',\n       'cod_provincia_grouped_Islas Baleares',\n       'cod_provincia_grouped_Las Palmas', 'cod_provincia_grouped_Madrid',\n       'cod_provincia_grouped_Murcia', 'cod_provincia_grouped_Málaga',\n       'cod_provincia_grouped_Pontevedra', 'cod_provincia_grouped_Salamanca',\n       'cod_provincia_grouped_Sevilla', 'cod_provincia_grouped_Toledo',\n       'cod_provincia_grouped_Valencia', 'cod_provincia_grouped_Valladolid',\n       'cod_provincia_grouped_Zaragoza',\n       'cod_provincia_grouped_otras_provincias', 'id_segmento_01 - TOP',\n       'id_segmento_02 - PARTICULARES', 'id_segmento_03 - UNIVERSITARIO'],\n      dtype='object')"
     },
     "execution_count": 375,
     "metadata": {},
     "output_type": "execute_result"
    }
   ],
   "source": [
    "dataset_non_ind_prod.columns"
   ],
   "metadata": {
    "collapsed": false,
    "ExecuteTime": {
     "end_time": "2024-06-09T14:28:14.035867500Z",
     "start_time": "2024-06-09T14:28:13.963421300Z"
    }
   }
  },
  {
   "cell_type": "code",
   "execution_count": 376,
   "outputs": [],
   "source": [
    "complete_data = dataset_non_ind_prod[dataset_non_ind_prod['tip_rel_1mes'].notnull()]\n",
    "missing_data = dataset_non_ind_prod[dataset_non_ind_prod['tip_rel_1mes'].isnull()]"
   ],
   "metadata": {
    "collapsed": false,
    "ExecuteTime": {
     "end_time": "2024-06-09T14:28:17.389530400Z",
     "start_time": "2024-06-09T14:28:17.264578800Z"
    }
   }
  },
  {
   "cell_type": "code",
   "execution_count": 377,
   "outputs": [],
   "source": [
    "X = complete_data.drop('tip_rel_1mes', axis=1)\n",
    "y = complete_data['tip_rel_1mes']"
   ],
   "metadata": {
    "collapsed": false,
    "ExecuteTime": {
     "end_time": "2024-06-09T14:28:19.364776100Z",
     "start_time": "2024-06-09T14:28:19.282595200Z"
    }
   }
  },
  {
   "cell_type": "code",
   "execution_count": 378,
   "outputs": [
    {
     "data": {
      "text/plain": "RandomForestClassifier()",
      "text/html": "<style>#sk-container-id-2 {\n  /* Definition of color scheme common for light and dark mode */\n  --sklearn-color-text: black;\n  --sklearn-color-line: gray;\n  /* Definition of color scheme for unfitted estimators */\n  --sklearn-color-unfitted-level-0: #fff5e6;\n  --sklearn-color-unfitted-level-1: #f6e4d2;\n  --sklearn-color-unfitted-level-2: #ffe0b3;\n  --sklearn-color-unfitted-level-3: chocolate;\n  /* Definition of color scheme for fitted estimators */\n  --sklearn-color-fitted-level-0: #f0f8ff;\n  --sklearn-color-fitted-level-1: #d4ebff;\n  --sklearn-color-fitted-level-2: #b3dbfd;\n  --sklearn-color-fitted-level-3: cornflowerblue;\n\n  /* Specific color for light theme */\n  --sklearn-color-text-on-default-background: var(--sg-text-color, var(--theme-code-foreground, var(--jp-content-font-color1, black)));\n  --sklearn-color-background: var(--sg-background-color, var(--theme-background, var(--jp-layout-color0, white)));\n  --sklearn-color-border-box: var(--sg-text-color, var(--theme-code-foreground, var(--jp-content-font-color1, black)));\n  --sklearn-color-icon: #696969;\n\n  @media (prefers-color-scheme: dark) {\n    /* Redefinition of color scheme for dark theme */\n    --sklearn-color-text-on-default-background: var(--sg-text-color, var(--theme-code-foreground, var(--jp-content-font-color1, white)));\n    --sklearn-color-background: var(--sg-background-color, var(--theme-background, var(--jp-layout-color0, #111)));\n    --sklearn-color-border-box: var(--sg-text-color, var(--theme-code-foreground, var(--jp-content-font-color1, white)));\n    --sklearn-color-icon: #878787;\n  }\n}\n\n#sk-container-id-2 {\n  color: var(--sklearn-color-text);\n}\n\n#sk-container-id-2 pre {\n  padding: 0;\n}\n\n#sk-container-id-2 input.sk-hidden--visually {\n  border: 0;\n  clip: rect(1px 1px 1px 1px);\n  clip: rect(1px, 1px, 1px, 1px);\n  height: 1px;\n  margin: -1px;\n  overflow: hidden;\n  padding: 0;\n  position: absolute;\n  width: 1px;\n}\n\n#sk-container-id-2 div.sk-dashed-wrapped {\n  border: 1px dashed var(--sklearn-color-line);\n  margin: 0 0.4em 0.5em 0.4em;\n  box-sizing: border-box;\n  padding-bottom: 0.4em;\n  background-color: var(--sklearn-color-background);\n}\n\n#sk-container-id-2 div.sk-container {\n  /* jupyter's `normalize.less` sets `[hidden] { display: none; }`\n     but bootstrap.min.css set `[hidden] { display: none !important; }`\n     so we also need the `!important` here to be able to override the\n     default hidden behavior on the sphinx rendered scikit-learn.org.\n     See: https://github.com/scikit-learn/scikit-learn/issues/21755 */\n  display: inline-block !important;\n  position: relative;\n}\n\n#sk-container-id-2 div.sk-text-repr-fallback {\n  display: none;\n}\n\ndiv.sk-parallel-item,\ndiv.sk-serial,\ndiv.sk-item {\n  /* draw centered vertical line to link estimators */\n  background-image: linear-gradient(var(--sklearn-color-text-on-default-background), var(--sklearn-color-text-on-default-background));\n  background-size: 2px 100%;\n  background-repeat: no-repeat;\n  background-position: center center;\n}\n\n/* Parallel-specific style estimator block */\n\n#sk-container-id-2 div.sk-parallel-item::after {\n  content: \"\";\n  width: 100%;\n  border-bottom: 2px solid var(--sklearn-color-text-on-default-background);\n  flex-grow: 1;\n}\n\n#sk-container-id-2 div.sk-parallel {\n  display: flex;\n  align-items: stretch;\n  justify-content: center;\n  background-color: var(--sklearn-color-background);\n  position: relative;\n}\n\n#sk-container-id-2 div.sk-parallel-item {\n  display: flex;\n  flex-direction: column;\n}\n\n#sk-container-id-2 div.sk-parallel-item:first-child::after {\n  align-self: flex-end;\n  width: 50%;\n}\n\n#sk-container-id-2 div.sk-parallel-item:last-child::after {\n  align-self: flex-start;\n  width: 50%;\n}\n\n#sk-container-id-2 div.sk-parallel-item:only-child::after {\n  width: 0;\n}\n\n/* Serial-specific style estimator block */\n\n#sk-container-id-2 div.sk-serial {\n  display: flex;\n  flex-direction: column;\n  align-items: center;\n  background-color: var(--sklearn-color-background);\n  padding-right: 1em;\n  padding-left: 1em;\n}\n\n\n/* Toggleable style: style used for estimator/Pipeline/ColumnTransformer box that is\nclickable and can be expanded/collapsed.\n- Pipeline and ColumnTransformer use this feature and define the default style\n- Estimators will overwrite some part of the style using the `sk-estimator` class\n*/\n\n/* Pipeline and ColumnTransformer style (default) */\n\n#sk-container-id-2 div.sk-toggleable {\n  /* Default theme specific background. It is overwritten whether we have a\n  specific estimator or a Pipeline/ColumnTransformer */\n  background-color: var(--sklearn-color-background);\n}\n\n/* Toggleable label */\n#sk-container-id-2 label.sk-toggleable__label {\n  cursor: pointer;\n  display: block;\n  width: 100%;\n  margin-bottom: 0;\n  padding: 0.5em;\n  box-sizing: border-box;\n  text-align: center;\n}\n\n#sk-container-id-2 label.sk-toggleable__label-arrow:before {\n  /* Arrow on the left of the label */\n  content: \"▸\";\n  float: left;\n  margin-right: 0.25em;\n  color: var(--sklearn-color-icon);\n}\n\n#sk-container-id-2 label.sk-toggleable__label-arrow:hover:before {\n  color: var(--sklearn-color-text);\n}\n\n/* Toggleable content - dropdown */\n\n#sk-container-id-2 div.sk-toggleable__content {\n  max-height: 0;\n  max-width: 0;\n  overflow: hidden;\n  text-align: left;\n  /* unfitted */\n  background-color: var(--sklearn-color-unfitted-level-0);\n}\n\n#sk-container-id-2 div.sk-toggleable__content.fitted {\n  /* fitted */\n  background-color: var(--sklearn-color-fitted-level-0);\n}\n\n#sk-container-id-2 div.sk-toggleable__content pre {\n  margin: 0.2em;\n  border-radius: 0.25em;\n  color: var(--sklearn-color-text);\n  /* unfitted */\n  background-color: var(--sklearn-color-unfitted-level-0);\n}\n\n#sk-container-id-2 div.sk-toggleable__content.fitted pre {\n  /* unfitted */\n  background-color: var(--sklearn-color-fitted-level-0);\n}\n\n#sk-container-id-2 input.sk-toggleable__control:checked~div.sk-toggleable__content {\n  /* Expand drop-down */\n  max-height: 200px;\n  max-width: 100%;\n  overflow: auto;\n}\n\n#sk-container-id-2 input.sk-toggleable__control:checked~label.sk-toggleable__label-arrow:before {\n  content: \"▾\";\n}\n\n/* Pipeline/ColumnTransformer-specific style */\n\n#sk-container-id-2 div.sk-label input.sk-toggleable__control:checked~label.sk-toggleable__label {\n  color: var(--sklearn-color-text);\n  background-color: var(--sklearn-color-unfitted-level-2);\n}\n\n#sk-container-id-2 div.sk-label.fitted input.sk-toggleable__control:checked~label.sk-toggleable__label {\n  background-color: var(--sklearn-color-fitted-level-2);\n}\n\n/* Estimator-specific style */\n\n/* Colorize estimator box */\n#sk-container-id-2 div.sk-estimator input.sk-toggleable__control:checked~label.sk-toggleable__label {\n  /* unfitted */\n  background-color: var(--sklearn-color-unfitted-level-2);\n}\n\n#sk-container-id-2 div.sk-estimator.fitted input.sk-toggleable__control:checked~label.sk-toggleable__label {\n  /* fitted */\n  background-color: var(--sklearn-color-fitted-level-2);\n}\n\n#sk-container-id-2 div.sk-label label.sk-toggleable__label,\n#sk-container-id-2 div.sk-label label {\n  /* The background is the default theme color */\n  color: var(--sklearn-color-text-on-default-background);\n}\n\n/* On hover, darken the color of the background */\n#sk-container-id-2 div.sk-label:hover label.sk-toggleable__label {\n  color: var(--sklearn-color-text);\n  background-color: var(--sklearn-color-unfitted-level-2);\n}\n\n/* Label box, darken color on hover, fitted */\n#sk-container-id-2 div.sk-label.fitted:hover label.sk-toggleable__label.fitted {\n  color: var(--sklearn-color-text);\n  background-color: var(--sklearn-color-fitted-level-2);\n}\n\n/* Estimator label */\n\n#sk-container-id-2 div.sk-label label {\n  font-family: monospace;\n  font-weight: bold;\n  display: inline-block;\n  line-height: 1.2em;\n}\n\n#sk-container-id-2 div.sk-label-container {\n  text-align: center;\n}\n\n/* Estimator-specific */\n#sk-container-id-2 div.sk-estimator {\n  font-family: monospace;\n  border: 1px dotted var(--sklearn-color-border-box);\n  border-radius: 0.25em;\n  box-sizing: border-box;\n  margin-bottom: 0.5em;\n  /* unfitted */\n  background-color: var(--sklearn-color-unfitted-level-0);\n}\n\n#sk-container-id-2 div.sk-estimator.fitted {\n  /* fitted */\n  background-color: var(--sklearn-color-fitted-level-0);\n}\n\n/* on hover */\n#sk-container-id-2 div.sk-estimator:hover {\n  /* unfitted */\n  background-color: var(--sklearn-color-unfitted-level-2);\n}\n\n#sk-container-id-2 div.sk-estimator.fitted:hover {\n  /* fitted */\n  background-color: var(--sklearn-color-fitted-level-2);\n}\n\n/* Specification for estimator info (e.g. \"i\" and \"?\") */\n\n/* Common style for \"i\" and \"?\" */\n\n.sk-estimator-doc-link,\na:link.sk-estimator-doc-link,\na:visited.sk-estimator-doc-link {\n  float: right;\n  font-size: smaller;\n  line-height: 1em;\n  font-family: monospace;\n  background-color: var(--sklearn-color-background);\n  border-radius: 1em;\n  height: 1em;\n  width: 1em;\n  text-decoration: none !important;\n  margin-left: 1ex;\n  /* unfitted */\n  border: var(--sklearn-color-unfitted-level-1) 1pt solid;\n  color: var(--sklearn-color-unfitted-level-1);\n}\n\n.sk-estimator-doc-link.fitted,\na:link.sk-estimator-doc-link.fitted,\na:visited.sk-estimator-doc-link.fitted {\n  /* fitted */\n  border: var(--sklearn-color-fitted-level-1) 1pt solid;\n  color: var(--sklearn-color-fitted-level-1);\n}\n\n/* On hover */\ndiv.sk-estimator:hover .sk-estimator-doc-link:hover,\n.sk-estimator-doc-link:hover,\ndiv.sk-label-container:hover .sk-estimator-doc-link:hover,\n.sk-estimator-doc-link:hover {\n  /* unfitted */\n  background-color: var(--sklearn-color-unfitted-level-3);\n  color: var(--sklearn-color-background);\n  text-decoration: none;\n}\n\ndiv.sk-estimator.fitted:hover .sk-estimator-doc-link.fitted:hover,\n.sk-estimator-doc-link.fitted:hover,\ndiv.sk-label-container:hover .sk-estimator-doc-link.fitted:hover,\n.sk-estimator-doc-link.fitted:hover {\n  /* fitted */\n  background-color: var(--sklearn-color-fitted-level-3);\n  color: var(--sklearn-color-background);\n  text-decoration: none;\n}\n\n/* Span, style for the box shown on hovering the info icon */\n.sk-estimator-doc-link span {\n  display: none;\n  z-index: 9999;\n  position: relative;\n  font-weight: normal;\n  right: .2ex;\n  padding: .5ex;\n  margin: .5ex;\n  width: min-content;\n  min-width: 20ex;\n  max-width: 50ex;\n  color: var(--sklearn-color-text);\n  box-shadow: 2pt 2pt 4pt #999;\n  /* unfitted */\n  background: var(--sklearn-color-unfitted-level-0);\n  border: .5pt solid var(--sklearn-color-unfitted-level-3);\n}\n\n.sk-estimator-doc-link.fitted span {\n  /* fitted */\n  background: var(--sklearn-color-fitted-level-0);\n  border: var(--sklearn-color-fitted-level-3);\n}\n\n.sk-estimator-doc-link:hover span {\n  display: block;\n}\n\n/* \"?\"-specific style due to the `<a>` HTML tag */\n\n#sk-container-id-2 a.estimator_doc_link {\n  float: right;\n  font-size: 1rem;\n  line-height: 1em;\n  font-family: monospace;\n  background-color: var(--sklearn-color-background);\n  border-radius: 1rem;\n  height: 1rem;\n  width: 1rem;\n  text-decoration: none;\n  /* unfitted */\n  color: var(--sklearn-color-unfitted-level-1);\n  border: var(--sklearn-color-unfitted-level-1) 1pt solid;\n}\n\n#sk-container-id-2 a.estimator_doc_link.fitted {\n  /* fitted */\n  border: var(--sklearn-color-fitted-level-1) 1pt solid;\n  color: var(--sklearn-color-fitted-level-1);\n}\n\n/* On hover */\n#sk-container-id-2 a.estimator_doc_link:hover {\n  /* unfitted */\n  background-color: var(--sklearn-color-unfitted-level-3);\n  color: var(--sklearn-color-background);\n  text-decoration: none;\n}\n\n#sk-container-id-2 a.estimator_doc_link.fitted:hover {\n  /* fitted */\n  background-color: var(--sklearn-color-fitted-level-3);\n}\n</style><div id=\"sk-container-id-2\" class=\"sk-top-container\"><div class=\"sk-text-repr-fallback\"><pre>RandomForestClassifier()</pre><b>In a Jupyter environment, please rerun this cell to show the HTML representation or trust the notebook. <br />On GitHub, the HTML representation is unable to render, please try loading this page with nbviewer.org.</b></div><div class=\"sk-container\" hidden><div class=\"sk-item\"><div class=\"sk-estimator fitted sk-toggleable\"><input class=\"sk-toggleable__control sk-hidden--visually\" id=\"sk-estimator-id-2\" type=\"checkbox\" checked><label for=\"sk-estimator-id-2\" class=\"sk-toggleable__label fitted sk-toggleable__label-arrow fitted\">&nbsp;&nbsp;RandomForestClassifier<a class=\"sk-estimator-doc-link fitted\" rel=\"noreferrer\" target=\"_blank\" href=\"https://scikit-learn.org/1.5/modules/generated/sklearn.ensemble.RandomForestClassifier.html\">?<span>Documentation for RandomForestClassifier</span></a><span class=\"sk-estimator-doc-link fitted\">i<span>Fitted</span></span></label><div class=\"sk-toggleable__content fitted\"><pre>RandomForestClassifier()</pre></div> </div></div></div></div>"
     },
     "execution_count": 378,
     "metadata": {},
     "output_type": "execute_result"
    }
   ],
   "source": [
    "model = RandomForestClassifier()\n",
    "model.fit(X, y)"
   ],
   "metadata": {
    "collapsed": false,
    "ExecuteTime": {
     "end_time": "2024-06-09T14:30:07.306059Z",
     "start_time": "2024-06-09T14:28:21.698329900Z"
    }
   }
  },
  {
   "cell_type": "code",
   "execution_count": 379,
   "outputs": [],
   "source": [
    "missing_X = missing_data.drop('tip_rel_1mes', axis=1)\n",
    "predicted_values = model.predict(missing_X)"
   ],
   "metadata": {
    "collapsed": false,
    "ExecuteTime": {
     "end_time": "2024-06-09T14:30:07.417956700Z",
     "start_time": "2024-06-09T14:30:05.048716300Z"
    }
   }
  },
  {
   "cell_type": "code",
   "execution_count": 380,
   "outputs": [
    {
     "name": "stdout",
     "output_type": "stream",
     "text": [
      "Precisión del modelo: 0.9977378227139768\n"
     ]
    }
   ],
   "source": [
    "# Evaluar la precisión del modelo\n",
    "accuracy = model.score(X, y)\n",
    "print(f'Precisión del modelo: {accuracy}')"
   ],
   "metadata": {
    "collapsed": false,
    "ExecuteTime": {
     "end_time": "2024-06-09T14:30:20.175439400Z",
     "start_time": "2024-06-09T14:30:05.110885100Z"
    }
   }
  },
  {
   "cell_type": "code",
   "execution_count": 381,
   "outputs": [],
   "source": [
    "dataset.loc[dataset['tip_rel_1mes'].isnull(), 'tip_rel_1mes'] = predicted_values"
   ],
   "metadata": {
    "collapsed": false,
    "ExecuteTime": {
     "end_time": "2024-06-09T14:30:20.309778Z",
     "start_time": "2024-06-09T14:30:20.177438600Z"
    }
   }
  },
  {
   "cell_type": "code",
   "execution_count": 382,
   "outputs": [
    {
     "data": {
      "text/plain": "0"
     },
     "execution_count": 382,
     "metadata": {},
     "output_type": "execute_result"
    }
   ],
   "source": [
    "dataset['tip_rel_1mes'].isnull().sum()"
   ],
   "metadata": {
    "collapsed": false,
    "ExecuteTime": {
     "end_time": "2024-06-09T14:30:20.352359700Z",
     "start_time": "2024-06-09T14:30:20.204709100Z"
    }
   }
  },
  {
   "cell_type": "code",
   "execution_count": 383,
   "outputs": [
    {
     "data": {
      "text/plain": "tip_rel_1mes\nI    340711\nA    293705\nP       171\nR        39\nName: count, dtype: int64"
     },
     "execution_count": 383,
     "metadata": {},
     "output_type": "execute_result"
    }
   ],
   "source": [
    "dataset['tip_rel_1mes'].value_counts()"
   ],
   "metadata": {
    "collapsed": false,
    "ExecuteTime": {
     "end_time": "2024-06-09T14:30:20.383850200Z",
     "start_time": "2024-06-09T14:30:20.268717100Z"
    }
   }
  },
  {
   "cell_type": "code",
   "execution_count": 384,
   "outputs": [],
   "source": [
    "dataset = pd.get_dummies(dataset, columns=['tip_rel_1mes'])"
   ],
   "metadata": {
    "collapsed": false,
    "ExecuteTime": {
     "end_time": "2024-06-09T14:30:20.651694300Z",
     "start_time": "2024-06-09T14:30:20.291654200Z"
    }
   }
  },
  {
   "cell_type": "markdown",
   "source": [
    "#### id_segmento\n",
    "\n",
    "Segmentation:\t01\t- VIP,\t02\t- Individuals\t03\t- college\tgraduated\n"
   ],
   "metadata": {
    "collapsed": false
   }
  },
  {
   "cell_type": "code",
   "execution_count": 361,
   "outputs": [
    {
     "name": "stdout",
     "output_type": "stream",
     "text": [
      "Valores nulos en 'id_segmento': 7347\n"
     ]
    }
   ],
   "source": [
    "nulos_id_segmento = dataset['id_segmento'].isnull().sum()\n",
    "print(f\"Valores nulos en 'id_segmento': {nulos_id_segmento}\")"
   ],
   "metadata": {
    "collapsed": false,
    "ExecuteTime": {
     "end_time": "2024-06-09T14:19:24.828786900Z",
     "start_time": "2024-06-09T14:19:24.633079900Z"
    }
   }
  },
  {
   "cell_type": "code",
   "execution_count": 355,
   "outputs": [],
   "source": [
    "ind_prod_columns = [col for col in dataset.columns if col.startswith('ind_prod')]\n",
    "non_ind_prod_columns = [col for col in dataset.columns if not col.startswith('ind_prod')]\n",
    "\n",
    "# Separar las columnas ind_prod del resto del dataset\n",
    "dataset_non_ind_prod = dataset[non_ind_prod_columns]\n",
    "dataset_non_ind_prod = dataset_non_ind_prod.drop(columns=['cod_persona', 'mes'])\n",
    "dataset_ind_prod = dataset[ind_prod_columns]"
   ],
   "metadata": {
    "collapsed": false,
    "ExecuteTime": {
     "end_time": "2024-06-09T14:15:06.751749300Z",
     "start_time": "2024-06-09T14:15:06.016594800Z"
    }
   }
  },
  {
   "cell_type": "code",
   "execution_count": 359,
   "outputs": [
    {
     "data": {
      "text/plain": "Index(['sexo', 'edad', 'fecha1', 'xti_nuevo_cliente', 'num_antiguedad',\n       'xti_rel', 'xti_rel_1mes', 'indresi', 'indext', 'xti_extra',\n       'xti_actividad_cliente', 'imp_renta', 'id_segmento', 'mean_engagement',\n       'mes_mes', 'mes_año', 'pais_binario', 'des_canal_grouped_KAB',\n       'des_canal_grouped_KAG', 'des_canal_grouped_KAS',\n       'des_canal_grouped_KAT', 'des_canal_grouped_KFA',\n       'des_canal_grouped_KFC', 'des_canal_grouped_KHD',\n       'des_canal_grouped_KHE', 'des_canal_grouped_KHK',\n       'des_canal_grouped_KHM', 'des_canal_grouped_KHN',\n       'des_canal_grouped_KHQ', 'des_canal_grouped_RED',\n       'des_canal_grouped_otros', 'cod_provincia_grouped_A Coruña',\n       'cod_provincia_grouped_Albacete', 'cod_provincia_grouped_Alicante',\n       'cod_provincia_grouped_Asturias', 'cod_provincia_grouped_Badajoz',\n       'cod_provincia_grouped_Barcelona', 'cod_provincia_grouped_Bizkaia',\n       'cod_provincia_grouped_Cantabria', 'cod_provincia_grouped_Castellón',\n       'cod_provincia_grouped_Ciudad Real', 'cod_provincia_grouped_Cáceres',\n       'cod_provincia_grouped_Cádiz', 'cod_provincia_grouped_Córdoba',\n       'cod_provincia_grouped_Granada', 'cod_provincia_grouped_Huelva',\n       'cod_provincia_grouped_Islas Baleares',\n       'cod_provincia_grouped_Las Palmas', 'cod_provincia_grouped_Madrid',\n       'cod_provincia_grouped_Murcia', 'cod_provincia_grouped_Málaga',\n       'cod_provincia_grouped_Pontevedra', 'cod_provincia_grouped_Salamanca',\n       'cod_provincia_grouped_Sevilla', 'cod_provincia_grouped_Toledo',\n       'cod_provincia_grouped_Valencia', 'cod_provincia_grouped_Valladolid',\n       'cod_provincia_grouped_Zaragoza',\n       'cod_provincia_grouped_otras_provincias'],\n      dtype='object')"
     },
     "execution_count": 359,
     "metadata": {},
     "output_type": "execute_result"
    }
   ],
   "source": [
    "dataset_non_ind_prod.columns"
   ],
   "metadata": {
    "collapsed": false,
    "ExecuteTime": {
     "end_time": "2024-06-09T14:17:54.234115200Z",
     "start_time": "2024-06-09T14:17:54.091879900Z"
    }
   }
  },
  {
   "cell_type": "code",
   "execution_count": 363,
   "outputs": [],
   "source": [
    "complete_data = dataset_non_ind_prod[dataset_non_ind_prod['id_segmento'].notnull()]\n",
    "missing_data = dataset_non_ind_prod[dataset_non_ind_prod['id_segmento'].isnull()]"
   ],
   "metadata": {
    "collapsed": false,
    "ExecuteTime": {
     "end_time": "2024-06-09T14:20:10.257361Z",
     "start_time": "2024-06-09T14:20:10.102030800Z"
    }
   }
  },
  {
   "cell_type": "code",
   "execution_count": 364,
   "outputs": [],
   "source": [
    "X = complete_data.drop('id_segmento', axis=1)\n",
    "y = complete_data['id_segmento']"
   ],
   "metadata": {
    "collapsed": false,
    "ExecuteTime": {
     "end_time": "2024-06-09T14:20:15.207163Z",
     "start_time": "2024-06-09T14:20:15.091524600Z"
    }
   }
  },
  {
   "cell_type": "code",
   "execution_count": 365,
   "outputs": [
    {
     "data": {
      "text/plain": "RandomForestClassifier()",
      "text/html": "<style>#sk-container-id-1 {\n  /* Definition of color scheme common for light and dark mode */\n  --sklearn-color-text: black;\n  --sklearn-color-line: gray;\n  /* Definition of color scheme for unfitted estimators */\n  --sklearn-color-unfitted-level-0: #fff5e6;\n  --sklearn-color-unfitted-level-1: #f6e4d2;\n  --sklearn-color-unfitted-level-2: #ffe0b3;\n  --sklearn-color-unfitted-level-3: chocolate;\n  /* Definition of color scheme for fitted estimators */\n  --sklearn-color-fitted-level-0: #f0f8ff;\n  --sklearn-color-fitted-level-1: #d4ebff;\n  --sklearn-color-fitted-level-2: #b3dbfd;\n  --sklearn-color-fitted-level-3: cornflowerblue;\n\n  /* Specific color for light theme */\n  --sklearn-color-text-on-default-background: var(--sg-text-color, var(--theme-code-foreground, var(--jp-content-font-color1, black)));\n  --sklearn-color-background: var(--sg-background-color, var(--theme-background, var(--jp-layout-color0, white)));\n  --sklearn-color-border-box: var(--sg-text-color, var(--theme-code-foreground, var(--jp-content-font-color1, black)));\n  --sklearn-color-icon: #696969;\n\n  @media (prefers-color-scheme: dark) {\n    /* Redefinition of color scheme for dark theme */\n    --sklearn-color-text-on-default-background: var(--sg-text-color, var(--theme-code-foreground, var(--jp-content-font-color1, white)));\n    --sklearn-color-background: var(--sg-background-color, var(--theme-background, var(--jp-layout-color0, #111)));\n    --sklearn-color-border-box: var(--sg-text-color, var(--theme-code-foreground, var(--jp-content-font-color1, white)));\n    --sklearn-color-icon: #878787;\n  }\n}\n\n#sk-container-id-1 {\n  color: var(--sklearn-color-text);\n}\n\n#sk-container-id-1 pre {\n  padding: 0;\n}\n\n#sk-container-id-1 input.sk-hidden--visually {\n  border: 0;\n  clip: rect(1px 1px 1px 1px);\n  clip: rect(1px, 1px, 1px, 1px);\n  height: 1px;\n  margin: -1px;\n  overflow: hidden;\n  padding: 0;\n  position: absolute;\n  width: 1px;\n}\n\n#sk-container-id-1 div.sk-dashed-wrapped {\n  border: 1px dashed var(--sklearn-color-line);\n  margin: 0 0.4em 0.5em 0.4em;\n  box-sizing: border-box;\n  padding-bottom: 0.4em;\n  background-color: var(--sklearn-color-background);\n}\n\n#sk-container-id-1 div.sk-container {\n  /* jupyter's `normalize.less` sets `[hidden] { display: none; }`\n     but bootstrap.min.css set `[hidden] { display: none !important; }`\n     so we also need the `!important` here to be able to override the\n     default hidden behavior on the sphinx rendered scikit-learn.org.\n     See: https://github.com/scikit-learn/scikit-learn/issues/21755 */\n  display: inline-block !important;\n  position: relative;\n}\n\n#sk-container-id-1 div.sk-text-repr-fallback {\n  display: none;\n}\n\ndiv.sk-parallel-item,\ndiv.sk-serial,\ndiv.sk-item {\n  /* draw centered vertical line to link estimators */\n  background-image: linear-gradient(var(--sklearn-color-text-on-default-background), var(--sklearn-color-text-on-default-background));\n  background-size: 2px 100%;\n  background-repeat: no-repeat;\n  background-position: center center;\n}\n\n/* Parallel-specific style estimator block */\n\n#sk-container-id-1 div.sk-parallel-item::after {\n  content: \"\";\n  width: 100%;\n  border-bottom: 2px solid var(--sklearn-color-text-on-default-background);\n  flex-grow: 1;\n}\n\n#sk-container-id-1 div.sk-parallel {\n  display: flex;\n  align-items: stretch;\n  justify-content: center;\n  background-color: var(--sklearn-color-background);\n  position: relative;\n}\n\n#sk-container-id-1 div.sk-parallel-item {\n  display: flex;\n  flex-direction: column;\n}\n\n#sk-container-id-1 div.sk-parallel-item:first-child::after {\n  align-self: flex-end;\n  width: 50%;\n}\n\n#sk-container-id-1 div.sk-parallel-item:last-child::after {\n  align-self: flex-start;\n  width: 50%;\n}\n\n#sk-container-id-1 div.sk-parallel-item:only-child::after {\n  width: 0;\n}\n\n/* Serial-specific style estimator block */\n\n#sk-container-id-1 div.sk-serial {\n  display: flex;\n  flex-direction: column;\n  align-items: center;\n  background-color: var(--sklearn-color-background);\n  padding-right: 1em;\n  padding-left: 1em;\n}\n\n\n/* Toggleable style: style used for estimator/Pipeline/ColumnTransformer box that is\nclickable and can be expanded/collapsed.\n- Pipeline and ColumnTransformer use this feature and define the default style\n- Estimators will overwrite some part of the style using the `sk-estimator` class\n*/\n\n/* Pipeline and ColumnTransformer style (default) */\n\n#sk-container-id-1 div.sk-toggleable {\n  /* Default theme specific background. It is overwritten whether we have a\n  specific estimator or a Pipeline/ColumnTransformer */\n  background-color: var(--sklearn-color-background);\n}\n\n/* Toggleable label */\n#sk-container-id-1 label.sk-toggleable__label {\n  cursor: pointer;\n  display: block;\n  width: 100%;\n  margin-bottom: 0;\n  padding: 0.5em;\n  box-sizing: border-box;\n  text-align: center;\n}\n\n#sk-container-id-1 label.sk-toggleable__label-arrow:before {\n  /* Arrow on the left of the label */\n  content: \"▸\";\n  float: left;\n  margin-right: 0.25em;\n  color: var(--sklearn-color-icon);\n}\n\n#sk-container-id-1 label.sk-toggleable__label-arrow:hover:before {\n  color: var(--sklearn-color-text);\n}\n\n/* Toggleable content - dropdown */\n\n#sk-container-id-1 div.sk-toggleable__content {\n  max-height: 0;\n  max-width: 0;\n  overflow: hidden;\n  text-align: left;\n  /* unfitted */\n  background-color: var(--sklearn-color-unfitted-level-0);\n}\n\n#sk-container-id-1 div.sk-toggleable__content.fitted {\n  /* fitted */\n  background-color: var(--sklearn-color-fitted-level-0);\n}\n\n#sk-container-id-1 div.sk-toggleable__content pre {\n  margin: 0.2em;\n  border-radius: 0.25em;\n  color: var(--sklearn-color-text);\n  /* unfitted */\n  background-color: var(--sklearn-color-unfitted-level-0);\n}\n\n#sk-container-id-1 div.sk-toggleable__content.fitted pre {\n  /* unfitted */\n  background-color: var(--sklearn-color-fitted-level-0);\n}\n\n#sk-container-id-1 input.sk-toggleable__control:checked~div.sk-toggleable__content {\n  /* Expand drop-down */\n  max-height: 200px;\n  max-width: 100%;\n  overflow: auto;\n}\n\n#sk-container-id-1 input.sk-toggleable__control:checked~label.sk-toggleable__label-arrow:before {\n  content: \"▾\";\n}\n\n/* Pipeline/ColumnTransformer-specific style */\n\n#sk-container-id-1 div.sk-label input.sk-toggleable__control:checked~label.sk-toggleable__label {\n  color: var(--sklearn-color-text);\n  background-color: var(--sklearn-color-unfitted-level-2);\n}\n\n#sk-container-id-1 div.sk-label.fitted input.sk-toggleable__control:checked~label.sk-toggleable__label {\n  background-color: var(--sklearn-color-fitted-level-2);\n}\n\n/* Estimator-specific style */\n\n/* Colorize estimator box */\n#sk-container-id-1 div.sk-estimator input.sk-toggleable__control:checked~label.sk-toggleable__label {\n  /* unfitted */\n  background-color: var(--sklearn-color-unfitted-level-2);\n}\n\n#sk-container-id-1 div.sk-estimator.fitted input.sk-toggleable__control:checked~label.sk-toggleable__label {\n  /* fitted */\n  background-color: var(--sklearn-color-fitted-level-2);\n}\n\n#sk-container-id-1 div.sk-label label.sk-toggleable__label,\n#sk-container-id-1 div.sk-label label {\n  /* The background is the default theme color */\n  color: var(--sklearn-color-text-on-default-background);\n}\n\n/* On hover, darken the color of the background */\n#sk-container-id-1 div.sk-label:hover label.sk-toggleable__label {\n  color: var(--sklearn-color-text);\n  background-color: var(--sklearn-color-unfitted-level-2);\n}\n\n/* Label box, darken color on hover, fitted */\n#sk-container-id-1 div.sk-label.fitted:hover label.sk-toggleable__label.fitted {\n  color: var(--sklearn-color-text);\n  background-color: var(--sklearn-color-fitted-level-2);\n}\n\n/* Estimator label */\n\n#sk-container-id-1 div.sk-label label {\n  font-family: monospace;\n  font-weight: bold;\n  display: inline-block;\n  line-height: 1.2em;\n}\n\n#sk-container-id-1 div.sk-label-container {\n  text-align: center;\n}\n\n/* Estimator-specific */\n#sk-container-id-1 div.sk-estimator {\n  font-family: monospace;\n  border: 1px dotted var(--sklearn-color-border-box);\n  border-radius: 0.25em;\n  box-sizing: border-box;\n  margin-bottom: 0.5em;\n  /* unfitted */\n  background-color: var(--sklearn-color-unfitted-level-0);\n}\n\n#sk-container-id-1 div.sk-estimator.fitted {\n  /* fitted */\n  background-color: var(--sklearn-color-fitted-level-0);\n}\n\n/* on hover */\n#sk-container-id-1 div.sk-estimator:hover {\n  /* unfitted */\n  background-color: var(--sklearn-color-unfitted-level-2);\n}\n\n#sk-container-id-1 div.sk-estimator.fitted:hover {\n  /* fitted */\n  background-color: var(--sklearn-color-fitted-level-2);\n}\n\n/* Specification for estimator info (e.g. \"i\" and \"?\") */\n\n/* Common style for \"i\" and \"?\" */\n\n.sk-estimator-doc-link,\na:link.sk-estimator-doc-link,\na:visited.sk-estimator-doc-link {\n  float: right;\n  font-size: smaller;\n  line-height: 1em;\n  font-family: monospace;\n  background-color: var(--sklearn-color-background);\n  border-radius: 1em;\n  height: 1em;\n  width: 1em;\n  text-decoration: none !important;\n  margin-left: 1ex;\n  /* unfitted */\n  border: var(--sklearn-color-unfitted-level-1) 1pt solid;\n  color: var(--sklearn-color-unfitted-level-1);\n}\n\n.sk-estimator-doc-link.fitted,\na:link.sk-estimator-doc-link.fitted,\na:visited.sk-estimator-doc-link.fitted {\n  /* fitted */\n  border: var(--sklearn-color-fitted-level-1) 1pt solid;\n  color: var(--sklearn-color-fitted-level-1);\n}\n\n/* On hover */\ndiv.sk-estimator:hover .sk-estimator-doc-link:hover,\n.sk-estimator-doc-link:hover,\ndiv.sk-label-container:hover .sk-estimator-doc-link:hover,\n.sk-estimator-doc-link:hover {\n  /* unfitted */\n  background-color: var(--sklearn-color-unfitted-level-3);\n  color: var(--sklearn-color-background);\n  text-decoration: none;\n}\n\ndiv.sk-estimator.fitted:hover .sk-estimator-doc-link.fitted:hover,\n.sk-estimator-doc-link.fitted:hover,\ndiv.sk-label-container:hover .sk-estimator-doc-link.fitted:hover,\n.sk-estimator-doc-link.fitted:hover {\n  /* fitted */\n  background-color: var(--sklearn-color-fitted-level-3);\n  color: var(--sklearn-color-background);\n  text-decoration: none;\n}\n\n/* Span, style for the box shown on hovering the info icon */\n.sk-estimator-doc-link span {\n  display: none;\n  z-index: 9999;\n  position: relative;\n  font-weight: normal;\n  right: .2ex;\n  padding: .5ex;\n  margin: .5ex;\n  width: min-content;\n  min-width: 20ex;\n  max-width: 50ex;\n  color: var(--sklearn-color-text);\n  box-shadow: 2pt 2pt 4pt #999;\n  /* unfitted */\n  background: var(--sklearn-color-unfitted-level-0);\n  border: .5pt solid var(--sklearn-color-unfitted-level-3);\n}\n\n.sk-estimator-doc-link.fitted span {\n  /* fitted */\n  background: var(--sklearn-color-fitted-level-0);\n  border: var(--sklearn-color-fitted-level-3);\n}\n\n.sk-estimator-doc-link:hover span {\n  display: block;\n}\n\n/* \"?\"-specific style due to the `<a>` HTML tag */\n\n#sk-container-id-1 a.estimator_doc_link {\n  float: right;\n  font-size: 1rem;\n  line-height: 1em;\n  font-family: monospace;\n  background-color: var(--sklearn-color-background);\n  border-radius: 1rem;\n  height: 1rem;\n  width: 1rem;\n  text-decoration: none;\n  /* unfitted */\n  color: var(--sklearn-color-unfitted-level-1);\n  border: var(--sklearn-color-unfitted-level-1) 1pt solid;\n}\n\n#sk-container-id-1 a.estimator_doc_link.fitted {\n  /* fitted */\n  border: var(--sklearn-color-fitted-level-1) 1pt solid;\n  color: var(--sklearn-color-fitted-level-1);\n}\n\n/* On hover */\n#sk-container-id-1 a.estimator_doc_link:hover {\n  /* unfitted */\n  background-color: var(--sklearn-color-unfitted-level-3);\n  color: var(--sklearn-color-background);\n  text-decoration: none;\n}\n\n#sk-container-id-1 a.estimator_doc_link.fitted:hover {\n  /* fitted */\n  background-color: var(--sklearn-color-fitted-level-3);\n}\n</style><div id=\"sk-container-id-1\" class=\"sk-top-container\"><div class=\"sk-text-repr-fallback\"><pre>RandomForestClassifier()</pre><b>In a Jupyter environment, please rerun this cell to show the HTML representation or trust the notebook. <br />On GitHub, the HTML representation is unable to render, please try loading this page with nbviewer.org.</b></div><div class=\"sk-container\" hidden><div class=\"sk-item\"><div class=\"sk-estimator fitted sk-toggleable\"><input class=\"sk-toggleable__control sk-hidden--visually\" id=\"sk-estimator-id-1\" type=\"checkbox\" checked><label for=\"sk-estimator-id-1\" class=\"sk-toggleable__label fitted sk-toggleable__label-arrow fitted\">&nbsp;&nbsp;RandomForestClassifier<a class=\"sk-estimator-doc-link fitted\" rel=\"noreferrer\" target=\"_blank\" href=\"https://scikit-learn.org/1.5/modules/generated/sklearn.ensemble.RandomForestClassifier.html\">?<span>Documentation for RandomForestClassifier</span></a><span class=\"sk-estimator-doc-link fitted\">i<span>Fitted</span></span></label><div class=\"sk-toggleable__content fitted\"><pre>RandomForestClassifier()</pre></div> </div></div></div></div>"
     },
     "execution_count": 365,
     "metadata": {},
     "output_type": "execute_result"
    }
   ],
   "source": [
    "model = RandomForestClassifier()\n",
    "model.fit(X, y)"
   ],
   "metadata": {
    "collapsed": false,
    "ExecuteTime": {
     "end_time": "2024-06-09T14:21:25.939661100Z",
     "start_time": "2024-06-09T14:20:17.375049Z"
    }
   }
  },
  {
   "cell_type": "code",
   "execution_count": 366,
   "outputs": [],
   "source": [
    "missing_X = missing_data.drop('id_segmento', axis=1)\n",
    "predicted_values = model.predict(missing_X)"
   ],
   "metadata": {
    "collapsed": false,
    "ExecuteTime": {
     "end_time": "2024-06-09T14:21:34.097591700Z",
     "start_time": "2024-06-09T14:21:34.009654900Z"
    }
   }
  },
  {
   "cell_type": "code",
   "execution_count": 367,
   "outputs": [
    {
     "name": "stdout",
     "output_type": "stream",
     "text": [
      "Precisión del modelo: 0.9998118859391116\n"
     ]
    }
   ],
   "source": [
    "# Evaluar la precisión del modelo\n",
    "accuracy = model.score(X, y)\n",
    "print(f'Precisión del modelo: {accuracy}')"
   ],
   "metadata": {
    "collapsed": false,
    "ExecuteTime": {
     "end_time": "2024-06-09T14:21:46.984334300Z",
     "start_time": "2024-06-09T14:21:36.723827600Z"
    }
   }
  },
  {
   "cell_type": "code",
   "execution_count": 369,
   "outputs": [],
   "source": [
    "dataset.loc[dataset['id_segmento'].isnull(), 'id_segmento'] = predicted_values"
   ],
   "metadata": {
    "collapsed": false,
    "ExecuteTime": {
     "end_time": "2024-06-09T14:22:05.412842500Z",
     "start_time": "2024-06-09T14:22:05.306072300Z"
    }
   }
  },
  {
   "cell_type": "code",
   "execution_count": 371,
   "outputs": [
    {
     "data": {
      "text/plain": "0"
     },
     "execution_count": 371,
     "metadata": {},
     "output_type": "execute_result"
    }
   ],
   "source": [
    "dataset['id_segmento'].isnull().sum()"
   ],
   "metadata": {
    "collapsed": false,
    "ExecuteTime": {
     "end_time": "2024-06-09T14:22:24.105602500Z",
     "start_time": "2024-06-09T14:22:24.008502800Z"
    }
   }
  },
  {
   "cell_type": "code",
   "execution_count": 370,
   "outputs": [
    {
     "data": {
      "text/plain": "id_segmento\n02 - PARTICULARES     373314\n03 - UNIVERSITARIO    234723\n01 - TOP               26589\nName: count, dtype: int64"
     },
     "execution_count": 370,
     "metadata": {},
     "output_type": "execute_result"
    }
   ],
   "source": [
    "dataset['id_segmento'].value_counts()"
   ],
   "metadata": {
    "collapsed": false,
    "ExecuteTime": {
     "end_time": "2024-06-09T14:22:09.807860600Z",
     "start_time": "2024-06-09T14:22:09.748520200Z"
    }
   }
  },
  {
   "cell_type": "code",
   "execution_count": 372,
   "outputs": [],
   "source": [
    "dataset = pd.get_dummies(dataset, columns=['id_segmento'])"
   ],
   "metadata": {
    "collapsed": false,
    "ExecuteTime": {
     "end_time": "2024-06-09T14:22:26.734182500Z",
     "start_time": "2024-06-09T14:22:26.452598900Z"
    }
   }
  },
  {
   "cell_type": "markdown",
   "source": [
    "#### imp_renta\n",
    "\n",
    "Gross\tincome\tof\tthe\thousehold\n"
   ],
   "metadata": {
    "collapsed": false
   }
  },
  {
   "cell_type": "code",
   "execution_count": 385,
   "outputs": [
    {
     "data": {
      "text/plain": "124108"
     },
     "execution_count": 385,
     "metadata": {},
     "output_type": "execute_result"
    }
   ],
   "source": [
    "dataset['imp_renta'].isnull().sum()"
   ],
   "metadata": {
    "collapsed": false,
    "ExecuteTime": {
     "end_time": "2024-06-09T14:30:47.606635400Z",
     "start_time": "2024-06-09T14:30:47.509286500Z"
    }
   }
  },
  {
   "cell_type": "code",
   "execution_count": 388,
   "outputs": [
    {
     "name": "stdout",
     "output_type": "stream",
     "text": [
      "Columnas con valores faltantes: ['imp_renta']\n"
     ]
    }
   ],
   "source": [
    "# Identificar las columnas con valores faltantes\n",
    "columns_with_missing_values = ['imp_renta']\n",
    "print(\"Columnas con valores faltantes:\", ['imp_renta'])"
   ],
   "metadata": {
    "collapsed": false,
    "ExecuteTime": {
     "end_time": "2024-06-09T14:33:06.391994300Z",
     "start_time": "2024-06-09T14:33:06.274290300Z"
    }
   }
  },
  {
   "cell_type": "code",
   "execution_count": 387,
   "outputs": [],
   "source": [
    "# Crear un imputador IterativeImputer con XGBRegressor como estimador\n",
    "imputer = IterativeImputer(estimator=XGBRegressor(n_estimators=100, random_state=42), max_iter=10, random_state=42)"
   ],
   "metadata": {
    "collapsed": false,
    "ExecuteTime": {
     "end_time": "2024-06-09T14:30:54.622489800Z",
     "start_time": "2024-06-09T14:30:54.360937600Z"
    }
   }
  },
  {
   "cell_type": "code",
   "execution_count": 389,
   "outputs": [],
   "source": [
    "# Identificar las columnas ind_prod\n",
    "ind_prod_columns = [col for col in dataset.columns if col.startswith('ind_prod')]\n",
    "non_ind_prod_columns = [col for col in dataset.columns if not col.startswith('ind_prod')]\n",
    "\n",
    "# Separar las columnas ind_prod del resto del dataset\n",
    "dataset_non_ind_prod = dataset[non_ind_prod_columns]\n",
    "dataset_non_ind_prod = dataset_non_ind_prod.drop(columns=['cod_persona', 'mes'])\n",
    "dataset_ind_prod = dataset[ind_prod_columns]"
   ],
   "metadata": {
    "collapsed": false,
    "ExecuteTime": {
     "end_time": "2024-06-09T14:37:37.172561600Z",
     "start_time": "2024-06-09T14:37:36.962175700Z"
    }
   }
  },
  {
   "cell_type": "code",
   "execution_count": 390,
   "outputs": [
    {
     "data": {
      "text/plain": "   sexo  edad  fecha1  xti_nuevo_cliente  num_antiguedad  xti_rel  \\\n0     0  35.0       0                0.0               6        1   \n1     1  27.0      29                0.0              35        1   \n2     1  37.0      29                0.0              35        1   \n3     0  23.0      29                0.0              35        1   \n4     0  44.0      29                0.0              35        1   \n\n   xti_rel_1mes  indresi  indext  xti_extra  ...  \\\n0           1.0        1       0          0  ...   \n1           1.0        1       0          0  ...   \n2           1.0        1       0          0  ...   \n3           1.0        1       0          0  ...   \n4           1.0        1       0          0  ...   \n\n   cod_provincia_grouped_Valladolid  cod_provincia_grouped_Zaragoza  \\\n0                             False                           False   \n1                             False                           False   \n2                             False                           False   \n3                             False                           False   \n4                             False                           False   \n\n   cod_provincia_grouped_otras_provincias  id_segmento_01 - TOP  \\\n0                                   False                 False   \n1                                    True                 False   \n2                                   False                 False   \n3                                   False                 False   \n4                                   False                 False   \n\n   id_segmento_02 - PARTICULARES  id_segmento_03 - UNIVERSITARIO  \\\n0                           True                           False   \n1                          False                            True   \n2                           True                           False   \n3                          False                            True   \n4                           True                           False   \n\n   tip_rel_1mes_A  tip_rel_1mes_I  tip_rel_1mes_P  tip_rel_1mes_R  \n0            True           False           False           False  \n1           False            True           False           False  \n2            True           False           False           False  \n3            True           False           False           False  \n4           False            True           False           False  \n\n[5 rows x 65 columns]",
      "text/html": "<div>\n<style scoped>\n    .dataframe tbody tr th:only-of-type {\n        vertical-align: middle;\n    }\n\n    .dataframe tbody tr th {\n        vertical-align: top;\n    }\n\n    .dataframe thead th {\n        text-align: right;\n    }\n</style>\n<table border=\"1\" class=\"dataframe\">\n  <thead>\n    <tr style=\"text-align: right;\">\n      <th></th>\n      <th>sexo</th>\n      <th>edad</th>\n      <th>fecha1</th>\n      <th>xti_nuevo_cliente</th>\n      <th>num_antiguedad</th>\n      <th>xti_rel</th>\n      <th>xti_rel_1mes</th>\n      <th>indresi</th>\n      <th>indext</th>\n      <th>xti_extra</th>\n      <th>...</th>\n      <th>cod_provincia_grouped_Valladolid</th>\n      <th>cod_provincia_grouped_Zaragoza</th>\n      <th>cod_provincia_grouped_otras_provincias</th>\n      <th>id_segmento_01 - TOP</th>\n      <th>id_segmento_02 - PARTICULARES</th>\n      <th>id_segmento_03 - UNIVERSITARIO</th>\n      <th>tip_rel_1mes_A</th>\n      <th>tip_rel_1mes_I</th>\n      <th>tip_rel_1mes_P</th>\n      <th>tip_rel_1mes_R</th>\n    </tr>\n  </thead>\n  <tbody>\n    <tr>\n      <th>0</th>\n      <td>0</td>\n      <td>35.0</td>\n      <td>0</td>\n      <td>0.0</td>\n      <td>6</td>\n      <td>1</td>\n      <td>1.0</td>\n      <td>1</td>\n      <td>0</td>\n      <td>0</td>\n      <td>...</td>\n      <td>False</td>\n      <td>False</td>\n      <td>False</td>\n      <td>False</td>\n      <td>True</td>\n      <td>False</td>\n      <td>True</td>\n      <td>False</td>\n      <td>False</td>\n      <td>False</td>\n    </tr>\n    <tr>\n      <th>1</th>\n      <td>1</td>\n      <td>27.0</td>\n      <td>29</td>\n      <td>0.0</td>\n      <td>35</td>\n      <td>1</td>\n      <td>1.0</td>\n      <td>1</td>\n      <td>0</td>\n      <td>0</td>\n      <td>...</td>\n      <td>False</td>\n      <td>False</td>\n      <td>True</td>\n      <td>False</td>\n      <td>False</td>\n      <td>True</td>\n      <td>False</td>\n      <td>True</td>\n      <td>False</td>\n      <td>False</td>\n    </tr>\n    <tr>\n      <th>2</th>\n      <td>1</td>\n      <td>37.0</td>\n      <td>29</td>\n      <td>0.0</td>\n      <td>35</td>\n      <td>1</td>\n      <td>1.0</td>\n      <td>1</td>\n      <td>0</td>\n      <td>0</td>\n      <td>...</td>\n      <td>False</td>\n      <td>False</td>\n      <td>False</td>\n      <td>False</td>\n      <td>True</td>\n      <td>False</td>\n      <td>True</td>\n      <td>False</td>\n      <td>False</td>\n      <td>False</td>\n    </tr>\n    <tr>\n      <th>3</th>\n      <td>0</td>\n      <td>23.0</td>\n      <td>29</td>\n      <td>0.0</td>\n      <td>35</td>\n      <td>1</td>\n      <td>1.0</td>\n      <td>1</td>\n      <td>0</td>\n      <td>0</td>\n      <td>...</td>\n      <td>False</td>\n      <td>False</td>\n      <td>False</td>\n      <td>False</td>\n      <td>False</td>\n      <td>True</td>\n      <td>True</td>\n      <td>False</td>\n      <td>False</td>\n      <td>False</td>\n    </tr>\n    <tr>\n      <th>4</th>\n      <td>0</td>\n      <td>44.0</td>\n      <td>29</td>\n      <td>0.0</td>\n      <td>35</td>\n      <td>1</td>\n      <td>1.0</td>\n      <td>1</td>\n      <td>0</td>\n      <td>0</td>\n      <td>...</td>\n      <td>False</td>\n      <td>False</td>\n      <td>False</td>\n      <td>False</td>\n      <td>True</td>\n      <td>False</td>\n      <td>False</td>\n      <td>True</td>\n      <td>False</td>\n      <td>False</td>\n    </tr>\n  </tbody>\n</table>\n<p>5 rows × 65 columns</p>\n</div>"
     },
     "execution_count": 390,
     "metadata": {},
     "output_type": "execute_result"
    }
   ],
   "source": [
    "dataset_non_ind_prod.head()"
   ],
   "metadata": {
    "collapsed": false,
    "ExecuteTime": {
     "end_time": "2024-06-09T14:37:40.535491700Z",
     "start_time": "2024-06-09T14:37:40.457498900Z"
    }
   }
  },
  {
   "cell_type": "code",
   "execution_count": null,
   "outputs": [],
   "source": [
    "# Imputar los valores faltantes\n",
    "dataset_non_ind_prod = pd.DataFrame(imputer.fit_transform(dataset_non_ind_prod), columns=dataset_non_ind_prod.columns)"
   ],
   "metadata": {
    "collapsed": false,
    "is_executing": true,
    "ExecuteTime": {
     "start_time": "2024-06-09T14:37:50.490944700Z"
    }
   }
  },
  {
   "cell_type": "code",
   "execution_count": null,
   "outputs": [],
   "source": [
    "dataset['id_segmento'].isnull().sum()"
   ],
   "metadata": {
    "collapsed": false,
    "is_executing": true
   }
  },
  {
   "cell_type": "markdown",
   "metadata": {
    "collapsed": false
   },
   "source": [
    "#### id_segmento\n",
    "\n",
    "Segmentation:\t01\t- VIP,\t02\t- Individuals\t03\t- college\tgraduated\n"
   ]
  },
  {
   "cell_type": "code",
   "execution_count": null,
   "metadata": {
    "collapsed": false,
    "ExecuteTime": {
     "start_time": "2024-06-09T14:15:06.234789900Z"
    }
   },
   "outputs": [],
   "source": [
    "dataset['id_segmento'].isnull().sum()"
   ]
  },
  {
   "cell_type": "code",
   "execution_count": null,
   "metadata": {
    "collapsed": false,
    "ExecuteTime": {
     "start_time": "2024-06-09T14:15:06.236799400Z"
    }
   },
   "outputs": [],
   "source": [
    "dataset['id_segmento'].value_counts()"
   ]
  },
  {
   "cell_type": "code",
   "execution_count": null,
   "metadata": {
    "collapsed": false,
    "ExecuteTime": {
     "start_time": "2024-06-09T14:15:06.238798100Z"
    }
   },
   "outputs": [],
   "source": [
    "dataset = pd.get_dummies(dataset, columns=['id_segmento'])"
   ]
  },
  {
   "cell_type": "code",
   "execution_count": null,
   "metadata": {
    "ExecuteTime": {
     "start_time": "2024-06-09T14:15:06.239827700Z"
    }
   },
   "outputs": [],
   "source": [
    "'''\n",
    "# Verificar los cambios\n",
    "print(dataset.info())\n",
    "print(dataset.head())\n",
    "\n",
    "# Separar características y targets\n",
    "X = dataset.drop(columns=[f'ind_prod{i}' for i in range(1, 26)])\n",
    "y = dataset[[f'ind_prod{i}' for i in range(1, 26)]]\n",
    "\n",
    "# Dividir en conjuntos de entrenamiento y prueba\n",
    "X_train, X_test, y_train, y_test = train_test_split(X, y, test_size=0.2, random_state=42)\n",
    "'''"
   ]
  },
  {
   "cell_type": "code",
   "execution_count": null,
   "metadata": {
    "ExecuteTime": {
     "start_time": "2024-06-09T14:15:06.241799500Z"
    }
   },
   "outputs": [],
   "source": [
    "'''\n",
    "# Entrenar el modelo\n",
    "modelo = RandomForestClassifier()\n",
    "modelo.fit(X_train, y_train)\n",
    "\n",
    "# Generar predicciones\n",
    "predicciones = modelo.predict(X_test)\n",
    "\n",
    "# Convertir predicciones y valores reales a listas de listas para MAP@7\n",
    "y_test_list = [list(np.where(row == 1)[0] + 1) for row in y_test.values]\n",
    "predicciones_list = [list(np.argsort(row)[-7:][::-1] + 1) for row in predicciones]\n",
    "\n",
    "# Calcular MAP@7\n",
    "score = mapk(y_test_list, predicciones_list, 7)\n",
    "print(f'MAP@7 Score: {score}')'''"
   ]
  }
 ],
 "metadata": {
  "kernelspec": {
   "display_name": "Python 3 (ipykernel)",
   "language": "python",
   "name": "python3"
  },
  "language_info": {
   "codemirror_mode": {
    "name": "ipython",
    "version": 3
   },
   "file_extension": ".py",
   "mimetype": "text/x-python",
   "name": "python",
   "nbconvert_exporter": "python",
   "pygments_lexer": "ipython3",
   "version": "3.10.14"
  }
 },
 "nbformat": 4,
 "nbformat_minor": 4
}
