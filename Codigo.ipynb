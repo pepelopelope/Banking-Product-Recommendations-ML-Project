{
 "cells": [
  {
   "cell_type": "markdown",
   "metadata": {},
   "source": "Cristobal Gomez y Pepe López "
  },
  {
   "cell_type": "markdown",
   "metadata": {},
   "source": "# Proyecto de predicción de contratación de productos para clientes de un banco"
  },
  {
   "cell_type": "markdown",
   "metadata": {},
   "source": [
    "## Importe de librerias"
   ]
  },
  {
   "cell_type": "code",
   "metadata": {
    "ExecuteTime": {
     "end_time": "2024-06-08T20:33:55.050412900Z",
     "start_time": "2024-06-08T20:33:54.552616600Z"
    }
   },
   "source": [
    "import pandas as pd\n",
    "from sklearn.model_selection import train_test_split\n",
    "from sklearn.ensemble import RandomForestClassifier\n",
    "from sklearn.metrics import average_precision_score\n",
    "import matplotlib.pyplot as plt\n",
    "import numpy as np\n",
    "from scoring import mapk, apk\n"
   ],
   "outputs": [
    {
     "name": "stdout",
     "output_type": "stream",
     "text": [
      "1.0\n",
      "0.5\n",
      "1.0\n",
      "0.5\n",
      "0.2\n",
      "Pred Concretas: MAP@7 Score: 0.0\n",
      "Mean 0.0 of [0.0, 0.0, 0.0]\n",
      "Mean 0.0 of [0.0, 0.0, 0.0]\n",
      "Mean 0.0 of [0.0, 0.0, 0.0]\n",
      "Mean 0.0 of [0.0, 0.0, 0.0]\n",
      "Mean 0.0 of [0.0, 0.0, 0.0]\n",
      "Mean 0.0 of [0.0, 0.0, 0.0]\n",
      "Mean 0.0 of [0.0, 0.0, 0.0]\n",
      "Mean 0.0 of [0.0, 0.0, 0.0]\n",
      "Mean 0.0 of [0.0, 0.0, 0.0]\n",
      "Mean 0.0 of [0.0, 0.0, 0.0]\n",
      "Pred todas las categorías: MAP@7 Score: 0.45138888888888884\n",
      "Mean 0.6666666666666666 of [1.0, 0.0, 1.0]\n",
      "Mean 0.6666666666666666 of [1.0, 0.0, 1.0]\n",
      "Mean 0.4444444444444444 of [0.6666666666666666, 0.0, 0.6666666666666666]\n",
      "Mean 0.45138888888888884 of [0.6875, 0.0, 0.6666666666666666]\n",
      "Mean 0.45138888888888884 of [0.6875, 0.0, 0.6666666666666666]\n",
      "Mean 0.45138888888888884 of [0.6875, 0.0, 0.6666666666666666]\n",
      "Mean 0.45138888888888884 of [0.6875, 0.0, 0.6666666666666666]\n",
      "Mean 0.45138888888888884 of [0.6875, 0.0, 0.6666666666666666]\n",
      "Mean 0.45138888888888884 of [0.6875, 0.0, 0.6666666666666666]\n",
      "Mean 0.45138888888888884 of [0.6875, 0.0, 0.6666666666666666]\n",
      "Pred perfecta: MAP@7 Score: 1.0\n",
      "Mean 1.0 of [1.0, 1.0, 1.0]\n",
      "Mean 1.0 of [1.0, 1.0, 1.0]\n",
      "Mean 1.0 of [1.0, 1.0, 1.0]\n",
      "Mean 1.0 of [1.0, 1.0, 1.0]\n",
      "Mean 1.0 of [1.0, 1.0, 1.0]\n",
      "Mean 1.0 of [1.0, 1.0, 1.0]\n",
      "Mean 1.0 of [1.0, 1.0, 1.0]\n",
      "Mean 1.0 of [1.0, 1.0, 1.0]\n",
      "Mean 1.0 of [1.0, 1.0, 1.0]\n",
      "Mean 1.0 of [1.0, 1.0, 1.0]\n"
     ]
    }
   ],
   "execution_count": 2
  },
  {
   "cell_type": "markdown",
   "metadata": {},
   "source": [
    "## 1. Importación y Exploración Inicial de los Datos\n"
   ]
  },
  {
   "cell_type": "markdown",
   "metadata": {},
   "source": [
    "### 1.1. Importación de los Datos"
   ]
  },
  {
   "cell_type": "code",
   "metadata": {
    "ExecuteTime": {
     "end_time": "2024-06-08T20:33:58.162564Z",
     "start_time": "2024-06-08T20:33:55.015428600Z"
    }
   },
   "source": [
    "\n",
    "# Cargar datos\n",
    "dataset = pd.read_csv('dataset_para_modelar.csv')"
   ],
   "outputs": [
    {
     "name": "stderr",
     "output_type": "stream",
     "text": [
      "C:\\Users\\pepei\\AppData\\Local\\Temp\\ipykernel_21800\\2774896306.py:2: DtypeWarning: Columns (5,9,11) have mixed types. Specify dtype option on import or set low_memory=False.\n",
      "  dataset = pd.read_csv('dataset_para_modelar.csv')\n"
     ]
    }
   ],
   "execution_count": 3
  },
  {
   "cell_type": "markdown",
   "metadata": {},
   "source": [
    "### 1.2. Exploración Inicial\n"
   ]
  },
  {
   "cell_type": "markdown",
   "metadata": {},
   "source": [
    "Mostrar información básica del dataset\n"
   ]
  },
  {
   "cell_type": "code",
   "metadata": {
    "ExecuteTime": {
     "end_time": "2024-06-08T20:33:58.480429300Z",
     "start_time": "2024-06-08T20:33:58.157542600Z"
    }
   },
   "source": [
    "dataset.info()\n"
   ],
   "outputs": [
    {
     "name": "stdout",
     "output_type": "stream",
     "text": [
      "<class 'pandas.core.frame.DataFrame'>\n",
      "RangeIndex: 634682 entries, 0 to 634681\n",
      "Data columns (total 49 columns):\n",
      " #   Column                 Non-Null Count   Dtype  \n",
      "---  ------                 --------------   -----  \n",
      " 0   Unnamed: 0             634682 non-null  int64  \n",
      " 1   cod_persona            634682 non-null  int64  \n",
      " 2   mes                    634682 non-null  object \n",
      " 3   pais                   634626 non-null  object \n",
      " 4   sexo                   634617 non-null  object \n",
      " 5   edad                   634682 non-null  object \n",
      " 6   fecha1                 634626 non-null  object \n",
      " 7   xti_empleado           634626 non-null  object \n",
      " 8   xti_nuevo_cliente      634626 non-null  float64\n",
      " 9   num_antiguedad         634682 non-null  object \n",
      " 10  xti_rel                634626 non-null  float64\n",
      " 11  fec_ult_cli_1t         36 non-null      object \n",
      " 12  xti_rel_1mes           629040 non-null  float64\n",
      " 13  tip_rel_1mes           629040 non-null  object \n",
      " 14  indresi                634626 non-null  object \n",
      " 15  indext                 634626 non-null  object \n",
      " 16  des_canal              627504 non-null  object \n",
      " 17  xti_extra              634626 non-null  object \n",
      " 18  tip_dom                634626 non-null  float64\n",
      " 19  cod_provincia          631736 non-null  float64\n",
      " 20  xti_actividad_cliente  634626 non-null  float64\n",
      " 21  imp_renta              510518 non-null  float64\n",
      " 22  id_segmento            627279 non-null  object \n",
      " 23  mean_engagement        629040 non-null  float64\n",
      " 24  ind_prod1              634682 non-null  int64  \n",
      " 25  ind_prod2              634682 non-null  int64  \n",
      " 26  ind_prod3              634682 non-null  int64  \n",
      " 27  ind_prod4              634682 non-null  int64  \n",
      " 28  ind_prod5              634682 non-null  int64  \n",
      " 29  ind_prod6              634682 non-null  int64  \n",
      " 30  ind_prod7              634682 non-null  int64  \n",
      " 31  ind_prod8              634682 non-null  int64  \n",
      " 32  ind_prod9              634682 non-null  int64  \n",
      " 33  ind_prod10             634682 non-null  int64  \n",
      " 34  ind_prod11             634682 non-null  int64  \n",
      " 35  ind_prod12             634682 non-null  int64  \n",
      " 36  ind_prod13             634682 non-null  int64  \n",
      " 37  ind_prod14             634682 non-null  int64  \n",
      " 38  ind_prod15             634682 non-null  int64  \n",
      " 39  ind_prod16             634682 non-null  int64  \n",
      " 40  ind_prod17             634682 non-null  int64  \n",
      " 41  ind_prod18             634682 non-null  int64  \n",
      " 42  ind_prod19             634682 non-null  int64  \n",
      " 43  ind_prod20             634682 non-null  int64  \n",
      " 44  ind_prod21             634682 non-null  int64  \n",
      " 45  ind_prod22             634651 non-null  float64\n",
      " 46  ind_prod23             634651 non-null  float64\n",
      " 47  ind_prod24             634682 non-null  int64  \n",
      " 48  ind_prod25             634682 non-null  int64  \n",
      "dtypes: float64(10), int64(25), object(14)\n",
      "memory usage: 237.3+ MB\n"
     ]
    }
   ],
   "execution_count": 4
  },
  {
   "cell_type": "markdown",
   "metadata": {},
   "source": [
    "Descripcion de las principales metricas de cada variable"
   ]
  },
  {
   "cell_type": "code",
   "metadata": {
    "ExecuteTime": {
     "end_time": "2024-06-08T20:33:59.577353800Z",
     "start_time": "2024-06-08T20:33:58.480429300Z"
    }
   },
   "source": [
    "dataset.describe()\n"
   ],
   "outputs": [
    {
     "data": {
      "text/plain": "          Unnamed: 0   cod_persona  xti_nuevo_cliente        xti_rel  \\\ncount  634682.000000  6.346820e+05      634626.000000  634626.000000   \nmean   321920.356254  7.217769e+05           0.059846       1.005559   \nstd    185232.719038  4.290892e+05           0.237202       0.738085   \nmin         0.000000  5.514000e+03           0.000000       1.000000   \n25%    161691.250000  3.584120e+05           0.000000       1.000000   \n50%    322352.500000  6.230450e+05           0.000000       1.000000   \n75%    482540.750000  1.102693e+06           0.000000       1.000000   \nmax    641706.000000  1.537800e+06           1.000000      99.000000   \n\n        xti_rel_1mes   tip_dom  cod_provincia  xti_actividad_cliente  \\\ncount  629040.000000  634626.0  631736.000000          634626.000000   \nmean        1.000587       1.0      26.598741               0.459126   \nstd         0.036560       0.0      12.777667               0.498327   \nmin         0.000000       1.0       1.000000               0.000000   \n25%         1.000000       1.0      15.000000               0.000000   \n50%         1.000000       1.0      28.000000               0.000000   \n75%         1.000000       1.0      35.000000               1.000000   \nmax         4.000000       1.0      52.000000               1.000000   \n\n          imp_renta  mean_engagement  ...     ind_prod16     ind_prod17  \\\ncount  5.105180e+05    629040.000000  ...  634682.000000  634682.000000   \nmean   1.367071e+05         6.425623  ...       0.009263       0.002718   \nstd    3.339545e+05         1.345879  ...       0.095797       0.052063   \nmin    4.559550e+03         0.218520  ...       0.000000       0.000000   \n25%    6.821148e+04         5.117500  ...       0.000000       0.000000   \n50%    1.012905e+05         6.463518  ...       0.000000       0.000000   \n75%    1.566742e+05         7.359949  ...       0.000000       0.000000   \nmax    2.889440e+07        38.793123  ...       1.000000       1.000000   \n\n          ind_prod18     ind_prod19     ind_prod20     ind_prod21  \\\ncount  634682.000000  634682.000000  634682.000000  634682.000000   \nmean        0.053576       0.045505       0.026503       0.003756   \nstd         0.225180       0.208408       0.160626       0.061173   \nmin         0.000000       0.000000       0.000000       0.000000   \n25%         0.000000       0.000000       0.000000       0.000000   \n50%         0.000000       0.000000       0.000000       0.000000   \n75%         0.000000       0.000000       0.000000       0.000000   \nmax         1.000000       1.000000       1.000000       1.000000   \n\n          ind_prod22     ind_prod23     ind_prod24     ind_prod25  \ncount  634651.000000  634651.000000  634682.000000  634682.000000  \nmean        0.055561       0.060295       0.128827       0.065876  \nstd         0.229073       0.238032       0.335008       0.248065  \nmin         0.000000       0.000000       0.000000       0.000000  \n25%         0.000000       0.000000       0.000000       0.000000  \n50%         0.000000       0.000000       0.000000       0.000000  \n75%         0.000000       0.000000       0.000000       0.000000  \nmax         1.000000       1.000000       1.000000       1.000000  \n\n[8 rows x 35 columns]",
      "text/html": "<div>\n<style scoped>\n    .dataframe tbody tr th:only-of-type {\n        vertical-align: middle;\n    }\n\n    .dataframe tbody tr th {\n        vertical-align: top;\n    }\n\n    .dataframe thead th {\n        text-align: right;\n    }\n</style>\n<table border=\"1\" class=\"dataframe\">\n  <thead>\n    <tr style=\"text-align: right;\">\n      <th></th>\n      <th>Unnamed: 0</th>\n      <th>cod_persona</th>\n      <th>xti_nuevo_cliente</th>\n      <th>xti_rel</th>\n      <th>xti_rel_1mes</th>\n      <th>tip_dom</th>\n      <th>cod_provincia</th>\n      <th>xti_actividad_cliente</th>\n      <th>imp_renta</th>\n      <th>mean_engagement</th>\n      <th>...</th>\n      <th>ind_prod16</th>\n      <th>ind_prod17</th>\n      <th>ind_prod18</th>\n      <th>ind_prod19</th>\n      <th>ind_prod20</th>\n      <th>ind_prod21</th>\n      <th>ind_prod22</th>\n      <th>ind_prod23</th>\n      <th>ind_prod24</th>\n      <th>ind_prod25</th>\n    </tr>\n  </thead>\n  <tbody>\n    <tr>\n      <th>count</th>\n      <td>634682.000000</td>\n      <td>6.346820e+05</td>\n      <td>634626.000000</td>\n      <td>634626.000000</td>\n      <td>629040.000000</td>\n      <td>634626.0</td>\n      <td>631736.000000</td>\n      <td>634626.000000</td>\n      <td>5.105180e+05</td>\n      <td>629040.000000</td>\n      <td>...</td>\n      <td>634682.000000</td>\n      <td>634682.000000</td>\n      <td>634682.000000</td>\n      <td>634682.000000</td>\n      <td>634682.000000</td>\n      <td>634682.000000</td>\n      <td>634651.000000</td>\n      <td>634651.000000</td>\n      <td>634682.000000</td>\n      <td>634682.000000</td>\n    </tr>\n    <tr>\n      <th>mean</th>\n      <td>321920.356254</td>\n      <td>7.217769e+05</td>\n      <td>0.059846</td>\n      <td>1.005559</td>\n      <td>1.000587</td>\n      <td>1.0</td>\n      <td>26.598741</td>\n      <td>0.459126</td>\n      <td>1.367071e+05</td>\n      <td>6.425623</td>\n      <td>...</td>\n      <td>0.009263</td>\n      <td>0.002718</td>\n      <td>0.053576</td>\n      <td>0.045505</td>\n      <td>0.026503</td>\n      <td>0.003756</td>\n      <td>0.055561</td>\n      <td>0.060295</td>\n      <td>0.128827</td>\n      <td>0.065876</td>\n    </tr>\n    <tr>\n      <th>std</th>\n      <td>185232.719038</td>\n      <td>4.290892e+05</td>\n      <td>0.237202</td>\n      <td>0.738085</td>\n      <td>0.036560</td>\n      <td>0.0</td>\n      <td>12.777667</td>\n      <td>0.498327</td>\n      <td>3.339545e+05</td>\n      <td>1.345879</td>\n      <td>...</td>\n      <td>0.095797</td>\n      <td>0.052063</td>\n      <td>0.225180</td>\n      <td>0.208408</td>\n      <td>0.160626</td>\n      <td>0.061173</td>\n      <td>0.229073</td>\n      <td>0.238032</td>\n      <td>0.335008</td>\n      <td>0.248065</td>\n    </tr>\n    <tr>\n      <th>min</th>\n      <td>0.000000</td>\n      <td>5.514000e+03</td>\n      <td>0.000000</td>\n      <td>1.000000</td>\n      <td>0.000000</td>\n      <td>1.0</td>\n      <td>1.000000</td>\n      <td>0.000000</td>\n      <td>4.559550e+03</td>\n      <td>0.218520</td>\n      <td>...</td>\n      <td>0.000000</td>\n      <td>0.000000</td>\n      <td>0.000000</td>\n      <td>0.000000</td>\n      <td>0.000000</td>\n      <td>0.000000</td>\n      <td>0.000000</td>\n      <td>0.000000</td>\n      <td>0.000000</td>\n      <td>0.000000</td>\n    </tr>\n    <tr>\n      <th>25%</th>\n      <td>161691.250000</td>\n      <td>3.584120e+05</td>\n      <td>0.000000</td>\n      <td>1.000000</td>\n      <td>1.000000</td>\n      <td>1.0</td>\n      <td>15.000000</td>\n      <td>0.000000</td>\n      <td>6.821148e+04</td>\n      <td>5.117500</td>\n      <td>...</td>\n      <td>0.000000</td>\n      <td>0.000000</td>\n      <td>0.000000</td>\n      <td>0.000000</td>\n      <td>0.000000</td>\n      <td>0.000000</td>\n      <td>0.000000</td>\n      <td>0.000000</td>\n      <td>0.000000</td>\n      <td>0.000000</td>\n    </tr>\n    <tr>\n      <th>50%</th>\n      <td>322352.500000</td>\n      <td>6.230450e+05</td>\n      <td>0.000000</td>\n      <td>1.000000</td>\n      <td>1.000000</td>\n      <td>1.0</td>\n      <td>28.000000</td>\n      <td>0.000000</td>\n      <td>1.012905e+05</td>\n      <td>6.463518</td>\n      <td>...</td>\n      <td>0.000000</td>\n      <td>0.000000</td>\n      <td>0.000000</td>\n      <td>0.000000</td>\n      <td>0.000000</td>\n      <td>0.000000</td>\n      <td>0.000000</td>\n      <td>0.000000</td>\n      <td>0.000000</td>\n      <td>0.000000</td>\n    </tr>\n    <tr>\n      <th>75%</th>\n      <td>482540.750000</td>\n      <td>1.102693e+06</td>\n      <td>0.000000</td>\n      <td>1.000000</td>\n      <td>1.000000</td>\n      <td>1.0</td>\n      <td>35.000000</td>\n      <td>1.000000</td>\n      <td>1.566742e+05</td>\n      <td>7.359949</td>\n      <td>...</td>\n      <td>0.000000</td>\n      <td>0.000000</td>\n      <td>0.000000</td>\n      <td>0.000000</td>\n      <td>0.000000</td>\n      <td>0.000000</td>\n      <td>0.000000</td>\n      <td>0.000000</td>\n      <td>0.000000</td>\n      <td>0.000000</td>\n    </tr>\n    <tr>\n      <th>max</th>\n      <td>641706.000000</td>\n      <td>1.537800e+06</td>\n      <td>1.000000</td>\n      <td>99.000000</td>\n      <td>4.000000</td>\n      <td>1.0</td>\n      <td>52.000000</td>\n      <td>1.000000</td>\n      <td>2.889440e+07</td>\n      <td>38.793123</td>\n      <td>...</td>\n      <td>1.000000</td>\n      <td>1.000000</td>\n      <td>1.000000</td>\n      <td>1.000000</td>\n      <td>1.000000</td>\n      <td>1.000000</td>\n      <td>1.000000</td>\n      <td>1.000000</td>\n      <td>1.000000</td>\n      <td>1.000000</td>\n    </tr>\n  </tbody>\n</table>\n<p>8 rows × 35 columns</p>\n</div>"
     },
     "execution_count": 5,
     "metadata": {},
     "output_type": "execute_result"
    }
   ],
   "execution_count": 5
  },
  {
   "cell_type": "markdown",
   "metadata": {},
   "source": [
    "Primera visualizacion de las variables"
   ]
  },
  {
   "cell_type": "code",
   "metadata": {
    "ExecuteTime": {
     "end_time": "2024-06-08T20:33:59.663454600Z",
     "start_time": "2024-06-08T20:33:59.604246500Z"
    }
   },
   "source": "dataset.head(10)",
   "outputs": [
    {
     "data": {
      "text/plain": "   Unnamed: 0  cod_persona         mes pais sexo edad      fecha1  \\\n0           0       178103  2015-01-28   ES    H   35  2015-01-12   \n1           1       503082  2015-01-28   ES    V   27  2012-08-10   \n2           2       502996  2015-01-28   ES    V   37  2012-08-10   \n3           3       503053  2015-01-28   ES    H   23  2012-08-10   \n4           4       503031  2015-01-28   ES    H   44  2012-08-10   \n5           5       503112  2015-01-28   ES    H   23  2012-08-10   \n6           6       503163  2015-01-28   ES    V   22  2012-08-10   \n7           7       503154  2015-01-28   ES    H   23  2012-08-10   \n8           8       503142  2015-01-28   ES    H   23  2012-08-10   \n9           9       502804  2015-01-28   ES    H   24  2012-08-10   \n\n  xti_empleado  xti_nuevo_cliente num_antiguedad  ...  ind_prod16 ind_prod17  \\\n0            N                0.0              6  ...           0          0   \n1            N                0.0             35  ...           0          0   \n2            N                0.0             35  ...           0          0   \n3            N                0.0             35  ...           0          0   \n4            N                0.0             35  ...           0          0   \n5            N                0.0             35  ...           0          0   \n6            N                0.0             35  ...           0          0   \n7            N                0.0             35  ...           0          0   \n8            N                0.0             35  ...           0          0   \n9            N                0.0             35  ...           0          0   \n\n   ind_prod18 ind_prod19 ind_prod20 ind_prod21 ind_prod22 ind_prod23  \\\n0           0          0          0          0        0.0        0.0   \n1           0          0          0          0        0.0        0.0   \n2           0          0          0          0        0.0        0.0   \n3           0          0          0          0        0.0        0.0   \n4           0          0          0          0        0.0        0.0   \n5           0          0          0          0        0.0        0.0   \n6           0          0          0          0        0.0        0.0   \n7           0          0          0          0        0.0        0.0   \n8           0          0          0          0        0.0        0.0   \n9           0          0          0          0        0.0        0.0   \n\n   ind_prod24  ind_prod25  \n0           0           0  \n1           0           0  \n2           0           0  \n3           1           0  \n4           0           0  \n5           0           0  \n6           0           0  \n7           0           0  \n8           0           0  \n9           0           0  \n\n[10 rows x 49 columns]",
      "text/html": "<div>\n<style scoped>\n    .dataframe tbody tr th:only-of-type {\n        vertical-align: middle;\n    }\n\n    .dataframe tbody tr th {\n        vertical-align: top;\n    }\n\n    .dataframe thead th {\n        text-align: right;\n    }\n</style>\n<table border=\"1\" class=\"dataframe\">\n  <thead>\n    <tr style=\"text-align: right;\">\n      <th></th>\n      <th>Unnamed: 0</th>\n      <th>cod_persona</th>\n      <th>mes</th>\n      <th>pais</th>\n      <th>sexo</th>\n      <th>edad</th>\n      <th>fecha1</th>\n      <th>xti_empleado</th>\n      <th>xti_nuevo_cliente</th>\n      <th>num_antiguedad</th>\n      <th>...</th>\n      <th>ind_prod16</th>\n      <th>ind_prod17</th>\n      <th>ind_prod18</th>\n      <th>ind_prod19</th>\n      <th>ind_prod20</th>\n      <th>ind_prod21</th>\n      <th>ind_prod22</th>\n      <th>ind_prod23</th>\n      <th>ind_prod24</th>\n      <th>ind_prod25</th>\n    </tr>\n  </thead>\n  <tbody>\n    <tr>\n      <th>0</th>\n      <td>0</td>\n      <td>178103</td>\n      <td>2015-01-28</td>\n      <td>ES</td>\n      <td>H</td>\n      <td>35</td>\n      <td>2015-01-12</td>\n      <td>N</td>\n      <td>0.0</td>\n      <td>6</td>\n      <td>...</td>\n      <td>0</td>\n      <td>0</td>\n      <td>0</td>\n      <td>0</td>\n      <td>0</td>\n      <td>0</td>\n      <td>0.0</td>\n      <td>0.0</td>\n      <td>0</td>\n      <td>0</td>\n    </tr>\n    <tr>\n      <th>1</th>\n      <td>1</td>\n      <td>503082</td>\n      <td>2015-01-28</td>\n      <td>ES</td>\n      <td>V</td>\n      <td>27</td>\n      <td>2012-08-10</td>\n      <td>N</td>\n      <td>0.0</td>\n      <td>35</td>\n      <td>...</td>\n      <td>0</td>\n      <td>0</td>\n      <td>0</td>\n      <td>0</td>\n      <td>0</td>\n      <td>0</td>\n      <td>0.0</td>\n      <td>0.0</td>\n      <td>0</td>\n      <td>0</td>\n    </tr>\n    <tr>\n      <th>2</th>\n      <td>2</td>\n      <td>502996</td>\n      <td>2015-01-28</td>\n      <td>ES</td>\n      <td>V</td>\n      <td>37</td>\n      <td>2012-08-10</td>\n      <td>N</td>\n      <td>0.0</td>\n      <td>35</td>\n      <td>...</td>\n      <td>0</td>\n      <td>0</td>\n      <td>0</td>\n      <td>0</td>\n      <td>0</td>\n      <td>0</td>\n      <td>0.0</td>\n      <td>0.0</td>\n      <td>0</td>\n      <td>0</td>\n    </tr>\n    <tr>\n      <th>3</th>\n      <td>3</td>\n      <td>503053</td>\n      <td>2015-01-28</td>\n      <td>ES</td>\n      <td>H</td>\n      <td>23</td>\n      <td>2012-08-10</td>\n      <td>N</td>\n      <td>0.0</td>\n      <td>35</td>\n      <td>...</td>\n      <td>0</td>\n      <td>0</td>\n      <td>0</td>\n      <td>0</td>\n      <td>0</td>\n      <td>0</td>\n      <td>0.0</td>\n      <td>0.0</td>\n      <td>1</td>\n      <td>0</td>\n    </tr>\n    <tr>\n      <th>4</th>\n      <td>4</td>\n      <td>503031</td>\n      <td>2015-01-28</td>\n      <td>ES</td>\n      <td>H</td>\n      <td>44</td>\n      <td>2012-08-10</td>\n      <td>N</td>\n      <td>0.0</td>\n      <td>35</td>\n      <td>...</td>\n      <td>0</td>\n      <td>0</td>\n      <td>0</td>\n      <td>0</td>\n      <td>0</td>\n      <td>0</td>\n      <td>0.0</td>\n      <td>0.0</td>\n      <td>0</td>\n      <td>0</td>\n    </tr>\n    <tr>\n      <th>5</th>\n      <td>5</td>\n      <td>503112</td>\n      <td>2015-01-28</td>\n      <td>ES</td>\n      <td>H</td>\n      <td>23</td>\n      <td>2012-08-10</td>\n      <td>N</td>\n      <td>0.0</td>\n      <td>35</td>\n      <td>...</td>\n      <td>0</td>\n      <td>0</td>\n      <td>0</td>\n      <td>0</td>\n      <td>0</td>\n      <td>0</td>\n      <td>0.0</td>\n      <td>0.0</td>\n      <td>0</td>\n      <td>0</td>\n    </tr>\n    <tr>\n      <th>6</th>\n      <td>6</td>\n      <td>503163</td>\n      <td>2015-01-28</td>\n      <td>ES</td>\n      <td>V</td>\n      <td>22</td>\n      <td>2012-08-10</td>\n      <td>N</td>\n      <td>0.0</td>\n      <td>35</td>\n      <td>...</td>\n      <td>0</td>\n      <td>0</td>\n      <td>0</td>\n      <td>0</td>\n      <td>0</td>\n      <td>0</td>\n      <td>0.0</td>\n      <td>0.0</td>\n      <td>0</td>\n      <td>0</td>\n    </tr>\n    <tr>\n      <th>7</th>\n      <td>7</td>\n      <td>503154</td>\n      <td>2015-01-28</td>\n      <td>ES</td>\n      <td>H</td>\n      <td>23</td>\n      <td>2012-08-10</td>\n      <td>N</td>\n      <td>0.0</td>\n      <td>35</td>\n      <td>...</td>\n      <td>0</td>\n      <td>0</td>\n      <td>0</td>\n      <td>0</td>\n      <td>0</td>\n      <td>0</td>\n      <td>0.0</td>\n      <td>0.0</td>\n      <td>0</td>\n      <td>0</td>\n    </tr>\n    <tr>\n      <th>8</th>\n      <td>8</td>\n      <td>503142</td>\n      <td>2015-01-28</td>\n      <td>ES</td>\n      <td>H</td>\n      <td>23</td>\n      <td>2012-08-10</td>\n      <td>N</td>\n      <td>0.0</td>\n      <td>35</td>\n      <td>...</td>\n      <td>0</td>\n      <td>0</td>\n      <td>0</td>\n      <td>0</td>\n      <td>0</td>\n      <td>0</td>\n      <td>0.0</td>\n      <td>0.0</td>\n      <td>0</td>\n      <td>0</td>\n    </tr>\n    <tr>\n      <th>9</th>\n      <td>9</td>\n      <td>502804</td>\n      <td>2015-01-28</td>\n      <td>ES</td>\n      <td>H</td>\n      <td>24</td>\n      <td>2012-08-10</td>\n      <td>N</td>\n      <td>0.0</td>\n      <td>35</td>\n      <td>...</td>\n      <td>0</td>\n      <td>0</td>\n      <td>0</td>\n      <td>0</td>\n      <td>0</td>\n      <td>0</td>\n      <td>0.0</td>\n      <td>0.0</td>\n      <td>0</td>\n      <td>0</td>\n    </tr>\n  </tbody>\n</table>\n<p>10 rows × 49 columns</p>\n</div>"
     },
     "execution_count": 6,
     "metadata": {},
     "output_type": "execute_result"
    }
   ],
   "execution_count": 6
  },
  {
   "cell_type": "markdown",
   "metadata": {},
   "source": [
    "## 2. Limpieza de Datos\n"
   ]
  },
  {
   "metadata": {
    "ExecuteTime": {
     "end_time": "2024-06-08T20:33:59.783273800Z",
     "start_time": "2024-06-08T20:33:59.625819700Z"
    }
   },
   "cell_type": "code",
   "source": "dataset.columns",
   "outputs": [
    {
     "data": {
      "text/plain": "Index(['Unnamed: 0', 'cod_persona', 'mes', 'pais', 'sexo', 'edad', 'fecha1',\n       'xti_empleado', 'xti_nuevo_cliente', 'num_antiguedad', 'xti_rel',\n       'fec_ult_cli_1t', 'xti_rel_1mes', 'tip_rel_1mes', 'indresi', 'indext',\n       'des_canal', 'xti_extra', 'tip_dom', 'cod_provincia',\n       'xti_actividad_cliente', 'imp_renta', 'id_segmento', 'mean_engagement',\n       'ind_prod1', 'ind_prod2', 'ind_prod3', 'ind_prod4', 'ind_prod5',\n       'ind_prod6', 'ind_prod7', 'ind_prod8', 'ind_prod9', 'ind_prod10',\n       'ind_prod11', 'ind_prod12', 'ind_prod13', 'ind_prod14', 'ind_prod15',\n       'ind_prod16', 'ind_prod17', 'ind_prod18', 'ind_prod19', 'ind_prod20',\n       'ind_prod21', 'ind_prod22', 'ind_prod23', 'ind_prod24', 'ind_prod25'],\n      dtype='object')"
     },
     "execution_count": 7,
     "metadata": {},
     "output_type": "execute_result"
    }
   ],
   "execution_count": 7
  },
  {
   "metadata": {},
   "cell_type": "markdown",
   "source": ""
  },
  {
   "metadata": {},
   "cell_type": "markdown",
   "source": "### Unnamed: 0"
  },
  {
   "metadata": {
    "ExecuteTime": {
     "end_time": "2024-06-08T20:33:59.921296600Z",
     "start_time": "2024-06-08T20:33:59.683499500Z"
    }
   },
   "cell_type": "code",
   "source": [
    "#Ver tipo \n",
    "print(dataset['Unnamed: 0'].dtypes)\n",
    "#Recuento de clases \n",
    "print(dataset['Unnamed: 0'].value_counts())\n",
    "#Recuento de nulos\n",
    "print(dataset['Unnamed: 0'].isnull().sum())\n",
    "#Ver distribucion\n",
    "# plt.hist(dataset['Unnamed: 0']) Es un indice que no tiene distribiucion \n",
    "#Imputar nulos"
   ],
   "outputs": [
    {
     "name": "stdout",
     "output_type": "stream",
     "text": [
      "int64\n",
      "Unnamed: 0\n",
      "0         1\n",
      "429174    1\n",
      "429167    1\n",
      "429168    1\n",
      "429169    1\n",
      "         ..\n",
      "215231    1\n",
      "215232    1\n",
      "215233    1\n",
      "215235    1\n",
      "641706    1\n",
      "Name: count, Length: 634682, dtype: int64\n",
      "0\n"
     ]
    }
   ],
   "execution_count": 8
  },
  {
   "metadata": {},
   "cell_type": "markdown",
   "source": "### Cod_persona\n"
  },
  {
   "metadata": {
    "ExecuteTime": {
     "end_time": "2024-06-08T20:34:00.120211800Z",
     "start_time": "2024-06-08T20:33:59.733596300Z"
    }
   },
   "cell_type": "code",
   "source": [
    "#dataset[cod_persona]=503082 y ordenarlo por fecha1:\n",
    "\n",
    "#Ejemplo de una persona\n",
    "dataset[dataset['cod_persona']==504546].sort_values(by='fecha1') # Dataset compuesto por la evolucion de contrataciones de productos de una persona a lo largo del tiempo"
   ],
   "outputs": [
    {
     "data": {
      "text/plain": "        Unnamed: 0  cod_persona         mes pais sexo edad      fecha1  \\\n62              62       504546  2015-01-28   ES    H   23  2012-08-09   \n61530        62846       504546  2015-02-28   ES    H   23  2012-08-09   \n91495        93386       504546  2015-03-28   ES    H   23  2012-08-09   \n123869      126332       504546  2015-04-28   ES    H   23  2012-08-09   \n125782      128260       504546  2015-05-28   ES    H   23  2012-08-09   \n157209      160210       504546  2015-06-28   ES    H   23  2012-08-09   \n216829      220553       504546  2015-07-28   ES    H   23  2012-08-09   \n254727      259089       504546  2015-08-28   ES    H   24  2012-08-09   \n300440      305168       504546  2015-09-28   ES    H   24  2012-08-09   \n322426      327473       504546  2015-10-28   ES    H   24  2012-08-09   \n402065      408002       504546  2015-11-28   ES    H   24  2012-08-09   \n407176      413131       504546  2015-12-28   ES    H   24  2012-08-09   \n492771      499369       504546  2016-01-28   ES    H   24  2012-08-09   \n528203      534963       504546  2016-02-28   ES    H   24  2012-08-09   \n587552      594497       504546  2016-03-28   ES    H   24  2012-08-09   \n620983      627993       504546  2016-04-28   ES    H   24  2012-08-09   \n\n       xti_empleado  xti_nuevo_cliente num_antiguedad  ...  ind_prod16  \\\n62                N                0.0             35  ...           0   \n61530             N                0.0             35  ...           0   \n91495             N                0.0             35  ...           0   \n123869            N                0.0             35  ...           0   \n125782            N                0.0             35  ...           0   \n157209            N                0.0             35  ...           0   \n216829            N                0.0             35  ...           0   \n254727            N                0.0             36  ...           0   \n300440            N                0.0             37  ...           0   \n322426            N                0.0             38  ...           0   \n402065            N                0.0             39  ...           0   \n407176            N                0.0             40  ...           0   \n492771            N                0.0             41  ...           0   \n528203            N                0.0             42  ...           0   \n587552            N                0.0             43  ...           0   \n620983            N                0.0             44  ...           0   \n\n       ind_prod17  ind_prod18 ind_prod19 ind_prod20 ind_prod21 ind_prod22  \\\n62              0           0          0          0          0        0.0   \n61530           0           0          0          0          0        0.0   \n91495           0           0          0          0          0        0.0   \n123869          0           0          0          0          0        0.0   \n125782          0           0          0          0          0        0.0   \n157209          0           0          0          0          0        0.0   \n216829          0           0          0          0          0        0.0   \n254727          0           0          0          0          0        0.0   \n300440          0           0          0          0          0        0.0   \n322426          0           0          0          0          0        0.0   \n402065          0           0          0          0          0        0.0   \n407176          0           0          0          0          0        0.0   \n492771          0           0          0          0          0        0.0   \n528203          0           0          0          0          0        0.0   \n587552          0           0          0          0          0        0.0   \n620983          0           0          0          0          0        0.0   \n\n       ind_prod23  ind_prod24  ind_prod25  \n62            0.0           0           0  \n61530         0.0           0           0  \n91495         0.0           0           0  \n123869        0.0           0           0  \n125782        0.0           0           0  \n157209        0.0           0           0  \n216829        0.0           0           0  \n254727        0.0           0           0  \n300440        0.0           0           0  \n322426        0.0           0           0  \n402065        0.0           0           0  \n407176        0.0           0           0  \n492771        0.0           0           0  \n528203        0.0           0           0  \n587552        0.0           0           0  \n620983        0.0           0           0  \n\n[16 rows x 49 columns]",
      "text/html": "<div>\n<style scoped>\n    .dataframe tbody tr th:only-of-type {\n        vertical-align: middle;\n    }\n\n    .dataframe tbody tr th {\n        vertical-align: top;\n    }\n\n    .dataframe thead th {\n        text-align: right;\n    }\n</style>\n<table border=\"1\" class=\"dataframe\">\n  <thead>\n    <tr style=\"text-align: right;\">\n      <th></th>\n      <th>Unnamed: 0</th>\n      <th>cod_persona</th>\n      <th>mes</th>\n      <th>pais</th>\n      <th>sexo</th>\n      <th>edad</th>\n      <th>fecha1</th>\n      <th>xti_empleado</th>\n      <th>xti_nuevo_cliente</th>\n      <th>num_antiguedad</th>\n      <th>...</th>\n      <th>ind_prod16</th>\n      <th>ind_prod17</th>\n      <th>ind_prod18</th>\n      <th>ind_prod19</th>\n      <th>ind_prod20</th>\n      <th>ind_prod21</th>\n      <th>ind_prod22</th>\n      <th>ind_prod23</th>\n      <th>ind_prod24</th>\n      <th>ind_prod25</th>\n    </tr>\n  </thead>\n  <tbody>\n    <tr>\n      <th>62</th>\n      <td>62</td>\n      <td>504546</td>\n      <td>2015-01-28</td>\n      <td>ES</td>\n      <td>H</td>\n      <td>23</td>\n      <td>2012-08-09</td>\n      <td>N</td>\n      <td>0.0</td>\n      <td>35</td>\n      <td>...</td>\n      <td>0</td>\n      <td>0</td>\n      <td>0</td>\n      <td>0</td>\n      <td>0</td>\n      <td>0</td>\n      <td>0.0</td>\n      <td>0.0</td>\n      <td>0</td>\n      <td>0</td>\n    </tr>\n    <tr>\n      <th>61530</th>\n      <td>62846</td>\n      <td>504546</td>\n      <td>2015-02-28</td>\n      <td>ES</td>\n      <td>H</td>\n      <td>23</td>\n      <td>2012-08-09</td>\n      <td>N</td>\n      <td>0.0</td>\n      <td>35</td>\n      <td>...</td>\n      <td>0</td>\n      <td>0</td>\n      <td>0</td>\n      <td>0</td>\n      <td>0</td>\n      <td>0</td>\n      <td>0.0</td>\n      <td>0.0</td>\n      <td>0</td>\n      <td>0</td>\n    </tr>\n    <tr>\n      <th>91495</th>\n      <td>93386</td>\n      <td>504546</td>\n      <td>2015-03-28</td>\n      <td>ES</td>\n      <td>H</td>\n      <td>23</td>\n      <td>2012-08-09</td>\n      <td>N</td>\n      <td>0.0</td>\n      <td>35</td>\n      <td>...</td>\n      <td>0</td>\n      <td>0</td>\n      <td>0</td>\n      <td>0</td>\n      <td>0</td>\n      <td>0</td>\n      <td>0.0</td>\n      <td>0.0</td>\n      <td>0</td>\n      <td>0</td>\n    </tr>\n    <tr>\n      <th>123869</th>\n      <td>126332</td>\n      <td>504546</td>\n      <td>2015-04-28</td>\n      <td>ES</td>\n      <td>H</td>\n      <td>23</td>\n      <td>2012-08-09</td>\n      <td>N</td>\n      <td>0.0</td>\n      <td>35</td>\n      <td>...</td>\n      <td>0</td>\n      <td>0</td>\n      <td>0</td>\n      <td>0</td>\n      <td>0</td>\n      <td>0</td>\n      <td>0.0</td>\n      <td>0.0</td>\n      <td>0</td>\n      <td>0</td>\n    </tr>\n    <tr>\n      <th>125782</th>\n      <td>128260</td>\n      <td>504546</td>\n      <td>2015-05-28</td>\n      <td>ES</td>\n      <td>H</td>\n      <td>23</td>\n      <td>2012-08-09</td>\n      <td>N</td>\n      <td>0.0</td>\n      <td>35</td>\n      <td>...</td>\n      <td>0</td>\n      <td>0</td>\n      <td>0</td>\n      <td>0</td>\n      <td>0</td>\n      <td>0</td>\n      <td>0.0</td>\n      <td>0.0</td>\n      <td>0</td>\n      <td>0</td>\n    </tr>\n    <tr>\n      <th>157209</th>\n      <td>160210</td>\n      <td>504546</td>\n      <td>2015-06-28</td>\n      <td>ES</td>\n      <td>H</td>\n      <td>23</td>\n      <td>2012-08-09</td>\n      <td>N</td>\n      <td>0.0</td>\n      <td>35</td>\n      <td>...</td>\n      <td>0</td>\n      <td>0</td>\n      <td>0</td>\n      <td>0</td>\n      <td>0</td>\n      <td>0</td>\n      <td>0.0</td>\n      <td>0.0</td>\n      <td>0</td>\n      <td>0</td>\n    </tr>\n    <tr>\n      <th>216829</th>\n      <td>220553</td>\n      <td>504546</td>\n      <td>2015-07-28</td>\n      <td>ES</td>\n      <td>H</td>\n      <td>23</td>\n      <td>2012-08-09</td>\n      <td>N</td>\n      <td>0.0</td>\n      <td>35</td>\n      <td>...</td>\n      <td>0</td>\n      <td>0</td>\n      <td>0</td>\n      <td>0</td>\n      <td>0</td>\n      <td>0</td>\n      <td>0.0</td>\n      <td>0.0</td>\n      <td>0</td>\n      <td>0</td>\n    </tr>\n    <tr>\n      <th>254727</th>\n      <td>259089</td>\n      <td>504546</td>\n      <td>2015-08-28</td>\n      <td>ES</td>\n      <td>H</td>\n      <td>24</td>\n      <td>2012-08-09</td>\n      <td>N</td>\n      <td>0.0</td>\n      <td>36</td>\n      <td>...</td>\n      <td>0</td>\n      <td>0</td>\n      <td>0</td>\n      <td>0</td>\n      <td>0</td>\n      <td>0</td>\n      <td>0.0</td>\n      <td>0.0</td>\n      <td>0</td>\n      <td>0</td>\n    </tr>\n    <tr>\n      <th>300440</th>\n      <td>305168</td>\n      <td>504546</td>\n      <td>2015-09-28</td>\n      <td>ES</td>\n      <td>H</td>\n      <td>24</td>\n      <td>2012-08-09</td>\n      <td>N</td>\n      <td>0.0</td>\n      <td>37</td>\n      <td>...</td>\n      <td>0</td>\n      <td>0</td>\n      <td>0</td>\n      <td>0</td>\n      <td>0</td>\n      <td>0</td>\n      <td>0.0</td>\n      <td>0.0</td>\n      <td>0</td>\n      <td>0</td>\n    </tr>\n    <tr>\n      <th>322426</th>\n      <td>327473</td>\n      <td>504546</td>\n      <td>2015-10-28</td>\n      <td>ES</td>\n      <td>H</td>\n      <td>24</td>\n      <td>2012-08-09</td>\n      <td>N</td>\n      <td>0.0</td>\n      <td>38</td>\n      <td>...</td>\n      <td>0</td>\n      <td>0</td>\n      <td>0</td>\n      <td>0</td>\n      <td>0</td>\n      <td>0</td>\n      <td>0.0</td>\n      <td>0.0</td>\n      <td>0</td>\n      <td>0</td>\n    </tr>\n    <tr>\n      <th>402065</th>\n      <td>408002</td>\n      <td>504546</td>\n      <td>2015-11-28</td>\n      <td>ES</td>\n      <td>H</td>\n      <td>24</td>\n      <td>2012-08-09</td>\n      <td>N</td>\n      <td>0.0</td>\n      <td>39</td>\n      <td>...</td>\n      <td>0</td>\n      <td>0</td>\n      <td>0</td>\n      <td>0</td>\n      <td>0</td>\n      <td>0</td>\n      <td>0.0</td>\n      <td>0.0</td>\n      <td>0</td>\n      <td>0</td>\n    </tr>\n    <tr>\n      <th>407176</th>\n      <td>413131</td>\n      <td>504546</td>\n      <td>2015-12-28</td>\n      <td>ES</td>\n      <td>H</td>\n      <td>24</td>\n      <td>2012-08-09</td>\n      <td>N</td>\n      <td>0.0</td>\n      <td>40</td>\n      <td>...</td>\n      <td>0</td>\n      <td>0</td>\n      <td>0</td>\n      <td>0</td>\n      <td>0</td>\n      <td>0</td>\n      <td>0.0</td>\n      <td>0.0</td>\n      <td>0</td>\n      <td>0</td>\n    </tr>\n    <tr>\n      <th>492771</th>\n      <td>499369</td>\n      <td>504546</td>\n      <td>2016-01-28</td>\n      <td>ES</td>\n      <td>H</td>\n      <td>24</td>\n      <td>2012-08-09</td>\n      <td>N</td>\n      <td>0.0</td>\n      <td>41</td>\n      <td>...</td>\n      <td>0</td>\n      <td>0</td>\n      <td>0</td>\n      <td>0</td>\n      <td>0</td>\n      <td>0</td>\n      <td>0.0</td>\n      <td>0.0</td>\n      <td>0</td>\n      <td>0</td>\n    </tr>\n    <tr>\n      <th>528203</th>\n      <td>534963</td>\n      <td>504546</td>\n      <td>2016-02-28</td>\n      <td>ES</td>\n      <td>H</td>\n      <td>24</td>\n      <td>2012-08-09</td>\n      <td>N</td>\n      <td>0.0</td>\n      <td>42</td>\n      <td>...</td>\n      <td>0</td>\n      <td>0</td>\n      <td>0</td>\n      <td>0</td>\n      <td>0</td>\n      <td>0</td>\n      <td>0.0</td>\n      <td>0.0</td>\n      <td>0</td>\n      <td>0</td>\n    </tr>\n    <tr>\n      <th>587552</th>\n      <td>594497</td>\n      <td>504546</td>\n      <td>2016-03-28</td>\n      <td>ES</td>\n      <td>H</td>\n      <td>24</td>\n      <td>2012-08-09</td>\n      <td>N</td>\n      <td>0.0</td>\n      <td>43</td>\n      <td>...</td>\n      <td>0</td>\n      <td>0</td>\n      <td>0</td>\n      <td>0</td>\n      <td>0</td>\n      <td>0</td>\n      <td>0.0</td>\n      <td>0.0</td>\n      <td>0</td>\n      <td>0</td>\n    </tr>\n    <tr>\n      <th>620983</th>\n      <td>627993</td>\n      <td>504546</td>\n      <td>2016-04-28</td>\n      <td>ES</td>\n      <td>H</td>\n      <td>24</td>\n      <td>2012-08-09</td>\n      <td>N</td>\n      <td>0.0</td>\n      <td>44</td>\n      <td>...</td>\n      <td>0</td>\n      <td>0</td>\n      <td>0</td>\n      <td>0</td>\n      <td>0</td>\n      <td>0</td>\n      <td>0.0</td>\n      <td>0.0</td>\n      <td>0</td>\n      <td>0</td>\n    </tr>\n  </tbody>\n</table>\n<p>16 rows × 49 columns</p>\n</div>"
     },
     "execution_count": 9,
     "metadata": {},
     "output_type": "execute_result"
    }
   ],
   "execution_count": 9
  },
  {
   "metadata": {
    "ExecuteTime": {
     "end_time": "2024-06-08T20:34:00.179016Z",
     "start_time": "2024-06-08T20:33:59.765745500Z"
    }
   },
   "cell_type": "code",
   "source": [
    "# Agrupar por 'cod_persona' y contar el número de registros para cada persona\n",
    "conteo_registros = dataset.groupby('cod_persona').size().reset_index(name='num_registros')\n",
    "\n",
    "# Filtrar para encontrar las personas con solo un registro\n",
    "personas_con_un_registro = conteo_registros[conteo_registros['num_registros'] == 1]\n",
    "\n",
    "# Contar el número de personas con solo un registro\n",
    "num_personas_con_un_registro = personas_con_un_registro.shape[0]\n",
    "\n",
    "print(num_personas_con_un_registro)"
   ],
   "outputs": [
    {
     "name": "stdout",
     "output_type": "stream",
     "text": [
      "223\n"
     ]
    }
   ],
   "execution_count": 10
  },
  {
   "metadata": {},
   "cell_type": "markdown",
   "source": "Se encuentran personas con un solo registro, lo que puede ser un problema predecir un solo registro sin un historico de contrataciones. No se eliminan los registros, ya que se considera que a pesar de tener un solo registro ese estado puede contener variables muy indicativas de compras de un producto nuevo la siguiente mensualidad."
  },
  {
   "metadata": {
    "ExecuteTime": {
     "end_time": "2024-06-08T20:34:00.183046200Z",
     "start_time": "2024-06-08T20:33:59.859827100Z"
    }
   },
   "cell_type": "code",
   "source": [
    "# Verificar si hay valores nulos en 'cod_persona'\n",
    "print(dataset['cod_persona'].isnull().sum())"
   ],
   "outputs": [
    {
     "name": "stdout",
     "output_type": "stream",
     "text": [
      "0\n"
     ]
    }
   ],
   "execution_count": 11
  },
  {
   "metadata": {},
   "cell_type": "markdown",
   "source": "### mes"
  },
  {
   "metadata": {
    "ExecuteTime": {
     "end_time": "2024-06-08T20:34:00.316132300Z",
     "start_time": "2024-06-08T20:33:59.904224500Z"
    }
   },
   "cell_type": "code",
   "source": [
    "# Paso la columna 'mes' a datetime\n",
    "dataset['mes'] = pd.to_datetime(dataset['mes'], format='%Y-%m-%d')\n",
    "#Recuento de nulos:\n",
    "print(dataset['mes'].isnull().sum())"
   ],
   "outputs": [
    {
     "name": "stdout",
     "output_type": "stream",
     "text": [
      "0\n"
     ]
    }
   ],
   "execution_count": 12
  },
  {
   "metadata": {
    "ExecuteTime": {
     "end_time": "2024-06-08T20:34:00.572236500Z",
     "start_time": "2024-06-08T20:34:00.052471700Z"
    }
   },
   "cell_type": "code",
   "source": [
    "#Extraemos las caracteristicas de mes, dia y año:\n",
    "dataset['mes_mes']=dataset['mes'].dt.month\n",
    "dataset['mes_año']=dataset['mes'].dt.year"
   ],
   "outputs": [],
   "execution_count": 13
  },
  {
   "metadata": {
    "ExecuteTime": {
     "end_time": "2024-06-08T20:34:00.678190200Z",
     "start_time": "2024-06-08T20:34:00.284590500Z"
    }
   },
   "cell_type": "code",
   "source": [
    "#Se estudia el numero de registros por mes y año para ver el balanceo de clases:\n",
    "print(dataset.groupby(['mes_mes', 'mes_año']).size())"
   ],
   "outputs": [
    {
     "name": "stdout",
     "output_type": "stream",
     "text": [
      "mes_mes  mes_año\n",
      "1        2015       30849\n",
      "         2016       45994\n",
      "2        2015       30988\n",
      "         2016       46287\n",
      "3        2015       31138\n",
      "         2016       46549\n",
      "4        2015       31250\n",
      "         2016       46776\n",
      "5        2015       31336\n",
      "6        2015       31429\n",
      "7        2015       41342\n",
      "8        2015       42016\n",
      "9        2015       43170\n",
      "10       2015       44574\n",
      "11       2015       45309\n",
      "12       2015       45675\n",
      "dtype: int64\n"
     ]
    }
   ],
   "execution_count": 14
  },
  {
   "metadata": {},
   "cell_type": "markdown",
   "source": [
    "Se observa que el dataset esta balanceado en cuanto a la cantidad de registros por mes y año.\n",
    "Se observa que el historico acaba en abril de 2016."
   ]
  },
  {
   "metadata": {},
   "cell_type": "markdown",
   "source": "### pais"
  },
  {
   "metadata": {
    "ExecuteTime": {
     "end_time": "2024-06-08T20:34:00.832797Z",
     "start_time": "2024-06-08T20:34:00.360103600Z"
    }
   },
   "cell_type": "code",
   "source": "print(dataset['pais'].value_counts())\n",
   "outputs": [
    {
     "name": "stdout",
     "output_type": "stream",
     "text": [
      "pais\n",
      "ES    631736\n",
      "DE       285\n",
      "GB       244\n",
      "FR       224\n",
      "US       203\n",
      "CH       192\n",
      "CO       160\n",
      "AR       144\n",
      "IT       138\n",
      "MX       122\n",
      "RO       104\n",
      "EC        90\n",
      "VE        80\n",
      "CL        74\n",
      "PY        74\n",
      "BE        64\n",
      "BR        52\n",
      "AT        48\n",
      "CA        48\n",
      "FI        32\n",
      "NL        32\n",
      "PL        32\n",
      "CN        32\n",
      "PE        32\n",
      "BG        32\n",
      "BO        26\n",
      "GT        16\n",
      "PK        16\n",
      "PT        16\n",
      "GN        16\n",
      "PR        16\n",
      "JP        16\n",
      "IL        16\n",
      "SA        16\n",
      "NG        16\n",
      "NZ        16\n",
      "IN        16\n",
      "AD        16\n",
      "UA        16\n",
      "SE        16\n",
      "GE        16\n",
      "CU        16\n",
      "PA        16\n",
      "SV        16\n",
      "AU        11\n",
      "MD        10\n",
      "RU        10\n",
      "HU         7\n",
      "Name: count, dtype: int64\n"
     ]
    }
   ],
   "execution_count": 15
  },
  {
   "metadata": {},
   "cell_type": "markdown",
   "source": "Se observa como la mayoría de los registros son de España, resultando el resto de paises en cifras no significativas. Se podría considerar la posibilidad de agrupar los paises con menos registros en un grupo llamado \"Otros\" para reducir la dimensionalidad de la variable y se mapea a 0-1. "
  },
  {
   "metadata": {
    "ExecuteTime": {
     "end_time": "2024-06-08T20:34:01.144269100Z",
     "start_time": "2024-06-08T20:34:00.455245900Z"
    }
   },
   "cell_type": "code",
   "source": [
    "# Crear un diccionario de mapeo para agrupar los países\n",
    "#Si pais es España el valor de la columna pais_es será 1, sino 0:\n",
    "dataset['pais_binario'] = dataset['pais'].apply(lambda x: 1 if x == 'ES' else 0)\n",
    "dataset.drop(columns=['pais'], inplace=True)\n",
    "dataset['pais_binario'].value_counts()"
   ],
   "outputs": [
    {
     "data": {
      "text/plain": "pais_binario\n1    631736\n0      2946\nName: count, dtype: int64"
     },
     "execution_count": 16,
     "metadata": {},
     "output_type": "execute_result"
    }
   ],
   "execution_count": 16
  },
  {
   "metadata": {
    "ExecuteTime": {
     "end_time": "2024-06-08T20:34:01.271945200Z",
     "start_time": "2024-06-08T20:34:01.032845900Z"
    }
   },
   "cell_type": "code",
   "source": "dataset['pais_binario'].isnull().sum() #No hay valores nulos",
   "outputs": [
    {
     "data": {
      "text/plain": "0"
     },
     "execution_count": 17,
     "metadata": {},
     "output_type": "execute_result"
    }
   ],
   "execution_count": 17
  },
  {
   "metadata": {},
   "cell_type": "markdown",
   "source": "### sexo"
  },
  {
   "metadata": {
    "ExecuteTime": {
     "end_time": "2024-06-08T20:34:01.308090400Z",
     "start_time": "2024-06-08T20:34:01.088570500Z"
    }
   },
   "cell_type": "code",
   "source": "dataset['sexo'].isnull().sum()",
   "outputs": [
    {
     "data": {
      "text/plain": "65"
     },
     "execution_count": 18,
     "metadata": {},
     "output_type": "execute_result"
    }
   ],
   "execution_count": 18
  },
  {
   "metadata": {
    "ExecuteTime": {
     "end_time": "2024-06-08T20:34:01.414086800Z",
     "start_time": "2024-06-08T20:34:01.112661400Z"
    }
   },
   "cell_type": "code",
   "source": "dataset[dataset['cod_persona']==170635]",
   "outputs": [
    {
     "data": {
      "text/plain": "        Unnamed: 0  cod_persona        mes sexo edad      fecha1 xti_empleado  \\\n51501        52614       170635 2015-02-28  NaN   NA         NaN          NaN   \n82415        84130       170635 2015-03-28  NaN   NA         NaN          NaN   \n113518      115788       170635 2015-04-28  NaN   NA         NaN          NaN   \n134835      137477       170635 2015-05-28  NaN   NA         NaN          NaN   \n165637      168754       170635 2015-06-28  NaN   NA         NaN          NaN   \n463976      470442       170635 2016-01-28    V   40  2015-02-17            N   \n506018      512718       170635 2016-02-28    V   40  2015-02-17            N   \n550982      557823       170635 2016-03-28    V   40  2015-02-17            N   \n623367      630379       170635 2016-04-28    V   40  2015-02-17            N   \n\n        xti_nuevo_cliente num_antiguedad  xti_rel  ... ind_prod19  ind_prod20  \\\n51501                 NaN             NA      NaN  ...          0           0   \n82415                 NaN             NA      NaN  ...          0           0   \n113518                NaN             NA      NaN  ...          0           0   \n134835                NaN             NA      NaN  ...          0           0   \n165637                NaN             NA      NaN  ...          0           0   \n463976                1.0              0      1.0  ...          0           0   \n506018                1.0              1      1.0  ...          0           0   \n550982                1.0              2      1.0  ...          0           0   \n623367                1.0              3      1.0  ...          0           0   \n\n       ind_prod21 ind_prod22 ind_prod23 ind_prod24 ind_prod25  mes_mes  \\\n51501           0        0.0        0.0          0          0        2   \n82415           0        0.0        0.0          0          0        3   \n113518          0        0.0        0.0          0          0        4   \n134835          0        0.0        0.0          0          0        5   \n165637          0        NaN        NaN          0          0        6   \n463976          0        0.0        0.0          0          0        1   \n506018          0        0.0        0.0          0          0        2   \n550982          0        0.0        0.0          0          0        3   \n623367          0        0.0        0.0          0          0        4   \n\n        mes_año  pais_binario  \n51501      2015             0  \n82415      2015             0  \n113518     2015             0  \n134835     2015             0  \n165637     2015             0  \n463976     2016             1  \n506018     2016             1  \n550982     2016             1  \n623367     2016             1  \n\n[9 rows x 51 columns]",
      "text/html": "<div>\n<style scoped>\n    .dataframe tbody tr th:only-of-type {\n        vertical-align: middle;\n    }\n\n    .dataframe tbody tr th {\n        vertical-align: top;\n    }\n\n    .dataframe thead th {\n        text-align: right;\n    }\n</style>\n<table border=\"1\" class=\"dataframe\">\n  <thead>\n    <tr style=\"text-align: right;\">\n      <th></th>\n      <th>Unnamed: 0</th>\n      <th>cod_persona</th>\n      <th>mes</th>\n      <th>sexo</th>\n      <th>edad</th>\n      <th>fecha1</th>\n      <th>xti_empleado</th>\n      <th>xti_nuevo_cliente</th>\n      <th>num_antiguedad</th>\n      <th>xti_rel</th>\n      <th>...</th>\n      <th>ind_prod19</th>\n      <th>ind_prod20</th>\n      <th>ind_prod21</th>\n      <th>ind_prod22</th>\n      <th>ind_prod23</th>\n      <th>ind_prod24</th>\n      <th>ind_prod25</th>\n      <th>mes_mes</th>\n      <th>mes_año</th>\n      <th>pais_binario</th>\n    </tr>\n  </thead>\n  <tbody>\n    <tr>\n      <th>51501</th>\n      <td>52614</td>\n      <td>170635</td>\n      <td>2015-02-28</td>\n      <td>NaN</td>\n      <td>NA</td>\n      <td>NaN</td>\n      <td>NaN</td>\n      <td>NaN</td>\n      <td>NA</td>\n      <td>NaN</td>\n      <td>...</td>\n      <td>0</td>\n      <td>0</td>\n      <td>0</td>\n      <td>0.0</td>\n      <td>0.0</td>\n      <td>0</td>\n      <td>0</td>\n      <td>2</td>\n      <td>2015</td>\n      <td>0</td>\n    </tr>\n    <tr>\n      <th>82415</th>\n      <td>84130</td>\n      <td>170635</td>\n      <td>2015-03-28</td>\n      <td>NaN</td>\n      <td>NA</td>\n      <td>NaN</td>\n      <td>NaN</td>\n      <td>NaN</td>\n      <td>NA</td>\n      <td>NaN</td>\n      <td>...</td>\n      <td>0</td>\n      <td>0</td>\n      <td>0</td>\n      <td>0.0</td>\n      <td>0.0</td>\n      <td>0</td>\n      <td>0</td>\n      <td>3</td>\n      <td>2015</td>\n      <td>0</td>\n    </tr>\n    <tr>\n      <th>113518</th>\n      <td>115788</td>\n      <td>170635</td>\n      <td>2015-04-28</td>\n      <td>NaN</td>\n      <td>NA</td>\n      <td>NaN</td>\n      <td>NaN</td>\n      <td>NaN</td>\n      <td>NA</td>\n      <td>NaN</td>\n      <td>...</td>\n      <td>0</td>\n      <td>0</td>\n      <td>0</td>\n      <td>0.0</td>\n      <td>0.0</td>\n      <td>0</td>\n      <td>0</td>\n      <td>4</td>\n      <td>2015</td>\n      <td>0</td>\n    </tr>\n    <tr>\n      <th>134835</th>\n      <td>137477</td>\n      <td>170635</td>\n      <td>2015-05-28</td>\n      <td>NaN</td>\n      <td>NA</td>\n      <td>NaN</td>\n      <td>NaN</td>\n      <td>NaN</td>\n      <td>NA</td>\n      <td>NaN</td>\n      <td>...</td>\n      <td>0</td>\n      <td>0</td>\n      <td>0</td>\n      <td>0.0</td>\n      <td>0.0</td>\n      <td>0</td>\n      <td>0</td>\n      <td>5</td>\n      <td>2015</td>\n      <td>0</td>\n    </tr>\n    <tr>\n      <th>165637</th>\n      <td>168754</td>\n      <td>170635</td>\n      <td>2015-06-28</td>\n      <td>NaN</td>\n      <td>NA</td>\n      <td>NaN</td>\n      <td>NaN</td>\n      <td>NaN</td>\n      <td>NA</td>\n      <td>NaN</td>\n      <td>...</td>\n      <td>0</td>\n      <td>0</td>\n      <td>0</td>\n      <td>NaN</td>\n      <td>NaN</td>\n      <td>0</td>\n      <td>0</td>\n      <td>6</td>\n      <td>2015</td>\n      <td>0</td>\n    </tr>\n    <tr>\n      <th>463976</th>\n      <td>470442</td>\n      <td>170635</td>\n      <td>2016-01-28</td>\n      <td>V</td>\n      <td>40</td>\n      <td>2015-02-17</td>\n      <td>N</td>\n      <td>1.0</td>\n      <td>0</td>\n      <td>1.0</td>\n      <td>...</td>\n      <td>0</td>\n      <td>0</td>\n      <td>0</td>\n      <td>0.0</td>\n      <td>0.0</td>\n      <td>0</td>\n      <td>0</td>\n      <td>1</td>\n      <td>2016</td>\n      <td>1</td>\n    </tr>\n    <tr>\n      <th>506018</th>\n      <td>512718</td>\n      <td>170635</td>\n      <td>2016-02-28</td>\n      <td>V</td>\n      <td>40</td>\n      <td>2015-02-17</td>\n      <td>N</td>\n      <td>1.0</td>\n      <td>1</td>\n      <td>1.0</td>\n      <td>...</td>\n      <td>0</td>\n      <td>0</td>\n      <td>0</td>\n      <td>0.0</td>\n      <td>0.0</td>\n      <td>0</td>\n      <td>0</td>\n      <td>2</td>\n      <td>2016</td>\n      <td>1</td>\n    </tr>\n    <tr>\n      <th>550982</th>\n      <td>557823</td>\n      <td>170635</td>\n      <td>2016-03-28</td>\n      <td>V</td>\n      <td>40</td>\n      <td>2015-02-17</td>\n      <td>N</td>\n      <td>1.0</td>\n      <td>2</td>\n      <td>1.0</td>\n      <td>...</td>\n      <td>0</td>\n      <td>0</td>\n      <td>0</td>\n      <td>0.0</td>\n      <td>0.0</td>\n      <td>0</td>\n      <td>0</td>\n      <td>3</td>\n      <td>2016</td>\n      <td>1</td>\n    </tr>\n    <tr>\n      <th>623367</th>\n      <td>630379</td>\n      <td>170635</td>\n      <td>2016-04-28</td>\n      <td>V</td>\n      <td>40</td>\n      <td>2015-02-17</td>\n      <td>N</td>\n      <td>1.0</td>\n      <td>3</td>\n      <td>1.0</td>\n      <td>...</td>\n      <td>0</td>\n      <td>0</td>\n      <td>0</td>\n      <td>0.0</td>\n      <td>0.0</td>\n      <td>0</td>\n      <td>0</td>\n      <td>4</td>\n      <td>2016</td>\n      <td>1</td>\n    </tr>\n  </tbody>\n</table>\n<p>9 rows × 51 columns</p>\n</div>"
     },
     "execution_count": 19,
     "metadata": {},
     "output_type": "execute_result"
    }
   ],
   "execution_count": 19
  },
  {
   "metadata": {},
   "cell_type": "markdown",
   "source": "Se observan que hay valores nulos en la columna 'sexo' que no en todos los registros de la misma persona son nulos. Suponiendo que el sexo de una persona no puede cambiar en el tiempo, se decide rellenar los valores nulos con el valor que tiene para otros registros."
  },
  {
   "metadata": {
    "ExecuteTime": {
     "end_time": "2024-06-08T20:34:07.783074400Z",
     "start_time": "2024-06-08T20:34:01.191288500Z"
    }
   },
   "cell_type": "code",
   "source": [
    "# Calcular el número de registros por 'cod_persona'\n",
    "num_registros_por_persona = dataset.groupby('cod_persona').size().reset_index(name='total_registros')\n",
    "\n",
    "# Calcular el número de valores nulos en la columna 'sexo' por cada 'cod_persona'\n",
    "num_nulos_por_persona = dataset.groupby('cod_persona')['sexo'].apply(lambda x: x.isnull().sum()).reset_index(name='num_nulos')\n",
    "\n",
    "# Unir la información de los nulos y el total de registros al dataset original\n",
    "info_completa = num_registros_por_persona.merge(num_nulos_por_persona, on='cod_persona')\n",
    "\n",
    "# Filtrar para encontrar las personas donde el número de nulos es igual al número de registros\n",
    "personas_con_todos_nulos = info_completa[info_completa['total_registros'] == info_completa['num_nulos']]\n",
    "\n",
    "# Mostrar el resultado\n",
    "print(personas_con_todos_nulos)"
   ],
   "outputs": [
    {
     "name": "stdout",
     "output_type": "stream",
     "text": [
      "       cod_persona  total_registros  num_nulos\n",
      "41790      1337182                9          9\n"
     ]
    }
   ],
   "execution_count": 20
  },
  {
   "metadata": {
    "ExecuteTime": {
     "end_time": "2024-06-08T20:34:07.829657Z",
     "start_time": "2024-06-08T20:34:07.785075400Z"
    }
   },
   "cell_type": "code",
   "source": "dataset['sexo'].value_counts()\n",
   "outputs": [
    {
     "data": {
      "text/plain": "sexo\nV    346845\nH    287772\nName: count, dtype: int64"
     },
     "execution_count": 21,
     "metadata": {},
     "output_type": "execute_result"
    }
   ],
   "execution_count": 21
  },
  {
   "metadata": {
    "ExecuteTime": {
     "end_time": "2024-06-08T20:34:07.861623800Z",
     "start_time": "2024-06-08T20:34:07.830660800Z"
    }
   },
   "cell_type": "code",
   "source": [
    "# Crear un diccionario de mapeo para asignar números a cada género\n",
    "mapping_sex = {'V': 1, 'H': 0}\n",
    "\n",
    "# Aplicar el mapeo a la columna 'customer_sex'\n",
    "dataset['sexo'] = dataset['sexo'].map(mapping_sex)"
   ],
   "outputs": [],
   "execution_count": 22
  },
  {
   "metadata": {
    "ExecuteTime": {
     "end_time": "2024-06-08T20:34:07.895691200Z",
     "start_time": "2024-06-08T20:34:07.848074700Z"
    }
   },
   "cell_type": "code",
   "source": "dataset['sexo'].value_counts()\n",
   "outputs": [
    {
     "data": {
      "text/plain": "sexo\n1.0    346845\n0.0    287772\nName: count, dtype: int64"
     },
     "execution_count": 23,
     "metadata": {},
     "output_type": "execute_result"
    }
   ],
   "execution_count": 23
  },
  {
   "metadata": {},
   "cell_type": "markdown",
   "source": "#### Ind_proc23 y Ind_prod22"
  },
  {
   "cell_type": "code",
   "metadata": {
    "ExecuteTime": {
     "end_time": "2024-06-08T20:34:08.059639600Z",
     "start_time": "2024-06-08T20:34:07.877651200Z"
    }
   },
   "source": "dataset[['ind_prod23', 'ind_prod22']].astype('Int64')\n",
   "outputs": [
    {
     "data": {
      "text/plain": "        ind_prod23  ind_prod22\n0                0           0\n1                0           0\n2                0           0\n3                0           0\n4                0           0\n...            ...         ...\n634677           0           0\n634678           0           0\n634679           0           0\n634680           0           0\n634681           0           0\n\n[634682 rows x 2 columns]",
      "text/html": "<div>\n<style scoped>\n    .dataframe tbody tr th:only-of-type {\n        vertical-align: middle;\n    }\n\n    .dataframe tbody tr th {\n        vertical-align: top;\n    }\n\n    .dataframe thead th {\n        text-align: right;\n    }\n</style>\n<table border=\"1\" class=\"dataframe\">\n  <thead>\n    <tr style=\"text-align: right;\">\n      <th></th>\n      <th>ind_prod23</th>\n      <th>ind_prod22</th>\n    </tr>\n  </thead>\n  <tbody>\n    <tr>\n      <th>0</th>\n      <td>0</td>\n      <td>0</td>\n    </tr>\n    <tr>\n      <th>1</th>\n      <td>0</td>\n      <td>0</td>\n    </tr>\n    <tr>\n      <th>2</th>\n      <td>0</td>\n      <td>0</td>\n    </tr>\n    <tr>\n      <th>3</th>\n      <td>0</td>\n      <td>0</td>\n    </tr>\n    <tr>\n      <th>4</th>\n      <td>0</td>\n      <td>0</td>\n    </tr>\n    <tr>\n      <th>...</th>\n      <td>...</td>\n      <td>...</td>\n    </tr>\n    <tr>\n      <th>634677</th>\n      <td>0</td>\n      <td>0</td>\n    </tr>\n    <tr>\n      <th>634678</th>\n      <td>0</td>\n      <td>0</td>\n    </tr>\n    <tr>\n      <th>634679</th>\n      <td>0</td>\n      <td>0</td>\n    </tr>\n    <tr>\n      <th>634680</th>\n      <td>0</td>\n      <td>0</td>\n    </tr>\n    <tr>\n      <th>634681</th>\n      <td>0</td>\n      <td>0</td>\n    </tr>\n  </tbody>\n</table>\n<p>634682 rows × 2 columns</p>\n</div>"
     },
     "execution_count": 24,
     "metadata": {},
     "output_type": "execute_result"
    }
   ],
   "execution_count": 24
  },
  {
   "metadata": {},
   "cell_type": "markdown",
   "source": "#### xti_extra"
  },
  {
   "cell_type": "code",
   "metadata": {
    "ExecuteTime": {
     "end_time": "2024-06-08T20:34:08.165777700Z",
     "start_time": "2024-06-08T20:34:08.092133400Z"
    }
   },
   "source": [
    "print(dataset['xti_extra'].value_counts()) #Casi todas las personas se consideran que estan vivas por lo que no aporta informacion y decide borrarse a las muertas\n",
    "print(dataset['xti_extra'].isnull().sum()) #56 valores nulos."
   ],
   "outputs": [
    {
     "name": "stdout",
     "output_type": "stream",
     "text": [
      "xti_extra\n",
      "N    633108\n",
      "S      1518\n",
      "Name: count, dtype: int64\n",
      "56\n"
     ]
    }
   ],
   "execution_count": 25
  },
  {
   "cell_type": "code",
   "metadata": {
    "ExecuteTime": {
     "end_time": "2024-06-08T20:34:08.250446300Z",
     "start_time": "2024-06-08T20:34:08.115201100Z"
    }
   },
   "source": [
    "print(dataset['tip_dom'].value_counts()) #Todas las personas tienen un domicilio particular por lo que no aporta informacion"
   ],
   "outputs": [
    {
     "name": "stdout",
     "output_type": "stream",
     "text": [
      "tip_dom\n",
      "1.0    634626\n",
      "Name: count, dtype: int64\n"
     ]
    }
   ],
   "execution_count": 26
  },
  {
   "cell_type": "code",
   "metadata": {
    "ExecuteTime": {
     "end_time": "2024-06-08T20:34:08.309488700Z",
     "start_time": "2024-06-08T20:34:08.143736200Z"
    }
   },
   "source": [
    "print(dataset['Unnamed: 0'].value_counts()) # No aporta información por lo que son las filas que se han añadido al cargar el dataset"
   ],
   "outputs": [
    {
     "name": "stdout",
     "output_type": "stream",
     "text": [
      "Unnamed: 0\n",
      "0         1\n",
      "429174    1\n",
      "429167    1\n",
      "429168    1\n",
      "429169    1\n",
      "         ..\n",
      "215231    1\n",
      "215232    1\n",
      "215233    1\n",
      "215235    1\n",
      "641706    1\n",
      "Name: count, Length: 634682, dtype: int64\n"
     ]
    }
   ],
   "execution_count": 27
  },
  {
   "cell_type": "code",
   "metadata": {
    "ExecuteTime": {
     "end_time": "2024-06-08T20:34:08.511224100Z",
     "start_time": "2024-06-08T20:34:08.243935200Z"
    }
   },
   "source": [
    "\n",
    "# Eliminar columnas innecesarias\n",
    "columns_to_drop = ['Unnamed: 0', 'xti_extra', 'tip_dom']\n",
    "\n",
    "# Unnamed la elimino porque es un índice que se ha guardado en el csv\n",
    "# xti_extra la elimino porque es una variable que no aporta información ya que la mayoría de los registros son personas vivas\n",
    "# tip_dom la elimino porque es una variable que no aporta información ya que no aporta informacion, todas son 1\n",
    "\n",
    "dataset.drop(columns=columns_to_drop, inplace=True)\n"
   ],
   "outputs": [],
   "execution_count": 28
  },
  {
   "cell_type": "code",
   "metadata": {
    "ExecuteTime": {
     "end_time": "2024-06-08T20:34:11.644205900Z",
     "start_time": "2024-06-08T20:34:08.515215200Z"
    }
   },
   "source": [
    "dataset['pais'].value_counts()\n"
   ],
   "outputs": [
    {
     "ename": "KeyError",
     "evalue": "'pais'",
     "output_type": "error",
     "traceback": [
      "\u001B[1;31m---------------------------------------------------------------------------\u001B[0m",
      "\u001B[1;31mKeyError\u001B[0m                                  Traceback (most recent call last)",
      "File \u001B[1;32m~\\anaconda3\\envs\\gpu\\lib\\site-packages\\pandas\\core\\indexes\\base.py:3805\u001B[0m, in \u001B[0;36mIndex.get_loc\u001B[1;34m(self, key)\u001B[0m\n\u001B[0;32m   3804\u001B[0m \u001B[38;5;28;01mtry\u001B[39;00m:\n\u001B[1;32m-> 3805\u001B[0m     \u001B[38;5;28;01mreturn\u001B[39;00m \u001B[38;5;28;43mself\u001B[39;49m\u001B[38;5;241;43m.\u001B[39;49m\u001B[43m_engine\u001B[49m\u001B[38;5;241;43m.\u001B[39;49m\u001B[43mget_loc\u001B[49m\u001B[43m(\u001B[49m\u001B[43mcasted_key\u001B[49m\u001B[43m)\u001B[49m\n\u001B[0;32m   3806\u001B[0m \u001B[38;5;28;01mexcept\u001B[39;00m \u001B[38;5;167;01mKeyError\u001B[39;00m \u001B[38;5;28;01mas\u001B[39;00m err:\n",
      "File \u001B[1;32mindex.pyx:167\u001B[0m, in \u001B[0;36mpandas._libs.index.IndexEngine.get_loc\u001B[1;34m()\u001B[0m\n",
      "File \u001B[1;32mindex.pyx:196\u001B[0m, in \u001B[0;36mpandas._libs.index.IndexEngine.get_loc\u001B[1;34m()\u001B[0m\n",
      "File \u001B[1;32mpandas\\\\_libs\\\\hashtable_class_helper.pxi:7081\u001B[0m, in \u001B[0;36mpandas._libs.hashtable.PyObjectHashTable.get_item\u001B[1;34m()\u001B[0m\n",
      "File \u001B[1;32mpandas\\\\_libs\\\\hashtable_class_helper.pxi:7089\u001B[0m, in \u001B[0;36mpandas._libs.hashtable.PyObjectHashTable.get_item\u001B[1;34m()\u001B[0m\n",
      "\u001B[1;31mKeyError\u001B[0m: 'pais'",
      "\nThe above exception was the direct cause of the following exception:\n",
      "\u001B[1;31mKeyError\u001B[0m                                  Traceback (most recent call last)",
      "Input \u001B[1;32mIn [29]\u001B[0m, in \u001B[0;36m<module>\u001B[1;34m\u001B[0m\n\u001B[1;32m----> 1\u001B[0m \u001B[43mdataset\u001B[49m\u001B[43m[\u001B[49m\u001B[38;5;124;43m'\u001B[39;49m\u001B[38;5;124;43mpais\u001B[39;49m\u001B[38;5;124;43m'\u001B[39;49m\u001B[43m]\u001B[49m\u001B[38;5;241m.\u001B[39mvalue_counts()\n",
      "File \u001B[1;32m~\\anaconda3\\envs\\gpu\\lib\\site-packages\\pandas\\core\\frame.py:4102\u001B[0m, in \u001B[0;36mDataFrame.__getitem__\u001B[1;34m(self, key)\u001B[0m\n\u001B[0;32m   4100\u001B[0m \u001B[38;5;28;01mif\u001B[39;00m \u001B[38;5;28mself\u001B[39m\u001B[38;5;241m.\u001B[39mcolumns\u001B[38;5;241m.\u001B[39mnlevels \u001B[38;5;241m>\u001B[39m \u001B[38;5;241m1\u001B[39m:\n\u001B[0;32m   4101\u001B[0m     \u001B[38;5;28;01mreturn\u001B[39;00m \u001B[38;5;28mself\u001B[39m\u001B[38;5;241m.\u001B[39m_getitem_multilevel(key)\n\u001B[1;32m-> 4102\u001B[0m indexer \u001B[38;5;241m=\u001B[39m \u001B[38;5;28;43mself\u001B[39;49m\u001B[38;5;241;43m.\u001B[39;49m\u001B[43mcolumns\u001B[49m\u001B[38;5;241;43m.\u001B[39;49m\u001B[43mget_loc\u001B[49m\u001B[43m(\u001B[49m\u001B[43mkey\u001B[49m\u001B[43m)\u001B[49m\n\u001B[0;32m   4103\u001B[0m \u001B[38;5;28;01mif\u001B[39;00m is_integer(indexer):\n\u001B[0;32m   4104\u001B[0m     indexer \u001B[38;5;241m=\u001B[39m [indexer]\n",
      "File \u001B[1;32m~\\anaconda3\\envs\\gpu\\lib\\site-packages\\pandas\\core\\indexes\\base.py:3812\u001B[0m, in \u001B[0;36mIndex.get_loc\u001B[1;34m(self, key)\u001B[0m\n\u001B[0;32m   3807\u001B[0m     \u001B[38;5;28;01mif\u001B[39;00m \u001B[38;5;28misinstance\u001B[39m(casted_key, \u001B[38;5;28mslice\u001B[39m) \u001B[38;5;129;01mor\u001B[39;00m (\n\u001B[0;32m   3808\u001B[0m         \u001B[38;5;28misinstance\u001B[39m(casted_key, abc\u001B[38;5;241m.\u001B[39mIterable)\n\u001B[0;32m   3809\u001B[0m         \u001B[38;5;129;01mand\u001B[39;00m \u001B[38;5;28many\u001B[39m(\u001B[38;5;28misinstance\u001B[39m(x, \u001B[38;5;28mslice\u001B[39m) \u001B[38;5;28;01mfor\u001B[39;00m x \u001B[38;5;129;01min\u001B[39;00m casted_key)\n\u001B[0;32m   3810\u001B[0m     ):\n\u001B[0;32m   3811\u001B[0m         \u001B[38;5;28;01mraise\u001B[39;00m InvalidIndexError(key)\n\u001B[1;32m-> 3812\u001B[0m     \u001B[38;5;28;01mraise\u001B[39;00m \u001B[38;5;167;01mKeyError\u001B[39;00m(key) \u001B[38;5;28;01mfrom\u001B[39;00m \u001B[38;5;21;01merr\u001B[39;00m\n\u001B[0;32m   3813\u001B[0m \u001B[38;5;28;01mexcept\u001B[39;00m \u001B[38;5;167;01mTypeError\u001B[39;00m:\n\u001B[0;32m   3814\u001B[0m     \u001B[38;5;66;03m# If we have a listlike key, _check_indexing_error will raise\u001B[39;00m\n\u001B[0;32m   3815\u001B[0m     \u001B[38;5;66;03m#  InvalidIndexError. Otherwise we fall through and re-raise\u001B[39;00m\n\u001B[0;32m   3816\u001B[0m     \u001B[38;5;66;03m#  the TypeError.\u001B[39;00m\n\u001B[0;32m   3817\u001B[0m     \u001B[38;5;28mself\u001B[39m\u001B[38;5;241m.\u001B[39m_check_indexing_error(key)\n",
      "\u001B[1;31mKeyError\u001B[0m: 'pais'"
     ]
    }
   ],
   "execution_count": 29
  },
  {
   "cell_type": "markdown",
   "metadata": {},
   "source": [
    "Se observa como la mayoría de los registros son de España, resultando el resto de paises en cifras no significativas. Se podría considerar la posibilidad de agrupar los paises con menos registros en un grupo llamado \"Otros\" para reducir la dimensionalidad de la variable y se mapea a 0-1. "
   ]
  },
  {
   "cell_type": "code",
   "metadata": {
    "ExecuteTime": {
     "end_time": "2024-06-08T20:34:11.671774300Z",
     "start_time": "2024-06-08T20:34:11.648224Z"
    }
   },
   "source": [
    "# Crear un diccionario de mapeo para asignar números a cada género\n",
    "mapping_sex = {'V': 1, 'H': 0}\n",
    "\n",
    "# Aplicar el mapeo a la columna 'customer_sex'\n",
    "dataset['sexo'] = dataset['sexo'].map(mapping_sex)"
   ],
   "outputs": [],
   "execution_count": null
  },
  {
   "cell_type": "code",
   "metadata": {
    "ExecuteTime": {
     "start_time": "2024-06-08T20:34:11.650221600Z"
    }
   },
   "source": [
    "dataset['sexo'].value_counts()\n"
   ],
   "outputs": [],
   "execution_count": null
  },
  {
   "cell_type": "code",
   "metadata": {
    "ExecuteTime": {
     "start_time": "2024-06-08T20:34:11.653222400Z"
    }
   },
   "source": [
    "dataset['imp_renta'].max()"
   ],
   "outputs": [],
   "execution_count": null
  },
  {
   "cell_type": "code",
   "metadata": {
    "ExecuteTime": {
     "start_time": "2024-06-08T20:34:11.656221100Z"
    }
   },
   "source": [
    "dataset['imp_renta'].hist()\n",
    "plt.title('Distribución de imp_renta')\n",
    "plt.xlabel('Ingresos Brutos (imp_renta)')\n",
    "plt.ylabel('Frecuencia')\n",
    "plt.show()"
   ],
   "outputs": [],
   "execution_count": null
  },
  {
   "cell_type": "code",
   "metadata": {
    "ExecuteTime": {
     "start_time": "2024-06-08T20:34:11.659265900Z"
    }
   },
   "source": [
    "# Filtrar los valores extremos\n",
    "q_low = dataset['imp_renta'].quantile(0.01)\n",
    "q_high = dataset['imp_renta'].quantile(0.99)\n",
    "filtered_data = dataset[(dataset['imp_renta'] >= q_low) & (dataset['imp_renta'] <= q_high)]\n",
    "\n",
    "# Crear el histograma con los datos filtrados\n",
    "plt.figure(figsize=(10, 6))\n",
    "plt.hist(filtered_data['imp_renta'], color='blue', edgecolor='black')\n",
    "plt.title('Distribución de imp_renta (valores filtrados)')\n",
    "plt.xlabel('Ingresos Brutos (imp_renta)')\n",
    "plt.ylabel('Frecuencia')\n",
    "plt.show()"
   ],
   "outputs": [],
   "execution_count": null
  },
  {
   "cell_type": "markdown",
   "metadata": {},
   "source": [
    "Es una distribución completamente sesgada (right-skewed) donde los valores se concentran en la parte baja de la distribución.\n",
    "Podríamos considerar la posibilidad de aplicar una transformación logarítmica para reducir el sesgo y mejorar la distribución de los datos."
   ]
  },
  {
   "cell_type": "code",
   "metadata": {
    "ExecuteTime": {
     "start_time": "2024-06-08T20:34:11.663262700Z"
    }
   },
   "source": [
    "#Recuento de nulos por columna:\n",
    "dataset.isnull().sum().sort_values(ascending=False)"
   ],
   "outputs": [],
   "execution_count": null
  },
  {
   "cell_type": "code",
   "metadata": {
    "ExecuteTime": {
     "start_time": "2024-06-08T20:34:11.666268700Z"
    }
   },
   "source": [
    "##Notificamos que fec_ult_cli_1t tiene casi el 100% de los valores nulos, por lo que se elimina\n",
    "dataset.drop(columns=['fec_ult_cli_1t'], inplace=True)"
   ],
   "outputs": [],
   "execution_count": null
  },
  {
   "cell_type": "markdown",
   "metadata": {},
   "source": [
    "### xti_rel"
   ]
  },
  {
   "cell_type": "code",
   "metadata": {
    "ExecuteTime": {
     "start_time": "2024-06-08T20:34:11.668769600Z"
    }
   },
   "source": [
    "dataset['xti_rel'] = pd.to_numeric(dataset['xti_rel'], errors='coerce')\n",
    "dataset['xti_rel'].value_counts()\n"
   ],
   "outputs": [],
   "execution_count": null
  },
  {
   "cell_type": "code",
   "metadata": {
    "ExecuteTime": {
     "start_time": "2024-06-08T20:34:11.671774300Z"
    }
   },
   "source": [
    "dataset['xti_rel'].fillna(1, inplace=True)"
   ],
   "outputs": [],
   "execution_count": null
  },
  {
   "cell_type": "code",
   "metadata": {
    "ExecuteTime": {
     "end_time": "2024-06-08T20:34:11.705956600Z",
     "start_time": "2024-06-08T20:34:11.673774200Z"
    }
   },
   "source": [
    "dataset['xti_rel'] = dataset['xti_rel'].apply(lambda x: 1 if x == 1 else 0)\n",
    "dataset['xti_rel'].value_counts()"
   ],
   "outputs": [],
   "execution_count": null
  },
  {
   "cell_type": "markdown",
   "metadata": {},
   "source": [
    "### xti_rel_1mes"
   ]
  },
  {
   "cell_type": "code",
   "metadata": {
    "ExecuteTime": {
     "start_time": "2024-06-08T20:34:11.677292700Z"
    }
   },
   "source": [
    "dataset['xti_rel_1mes'] = pd.to_numeric(dataset['xti_rel_1mes'], errors='coerce')\n"
   ],
   "outputs": [],
   "execution_count": null
  },
  {
   "cell_type": "code",
   "metadata": {
    "ExecuteTime": {
     "start_time": "2024-06-08T20:34:11.681299Z"
    }
   },
   "source": [
    "dataset['xti_rel_1mes'].value_counts()"
   ],
   "outputs": [],
   "execution_count": null
  },
  {
   "cell_type": "code",
   "metadata": {
    "ExecuteTime": {
     "start_time": "2024-06-08T20:34:11.684298200Z"
    }
   },
   "source": [
    "dataset['xti_rel_1mes'] = dataset['xti_rel_1mes'].apply(lambda x: 1 if x == 1 else 0)\n",
    "dataset['xti_rel_1mes'].value_counts()"
   ],
   "outputs": [],
   "execution_count": null
  },
  {
   "cell_type": "markdown",
   "metadata": {},
   "source": [
    "Casi todos los valores son 1. "
   ]
  },
  {
   "cell_type": "markdown",
   "metadata": {},
   "source": [
    "## mean_engagement, tip_rel_1mes, "
   ]
  },
  {
   "cell_type": "code",
   "metadata": {
    "ExecuteTime": {
     "start_time": "2024-06-08T20:34:11.687300500Z"
    }
   },
   "source": [
    "dataset['mean_engagement'].value_counts()\n"
   ],
   "outputs": [],
   "execution_count": null
  },
  {
   "cell_type": "code",
   "metadata": {
    "ExecuteTime": {
     "start_time": "2024-06-08T20:34:11.690353100Z"
    }
   },
   "source": [
    "dataset['tip_rel_1mes'].value_counts()"
   ],
   "outputs": [],
   "execution_count": null
  },
  {
   "cell_type": "markdown",
   "metadata": {},
   "source": [
    "\n",
    "### xti_empleado\n",
    "lo consideramos como una variable binaria porque casi todos los valores se concentran en N"
   ]
  },
  {
   "cell_type": "code",
   "metadata": {
    "ExecuteTime": {
     "start_time": "2024-06-08T20:34:11.695369100Z"
    }
   },
   "source": [
    "dataset['xti_empleado'].value_counts()\n"
   ],
   "outputs": [],
   "execution_count": null
  },
  {
   "cell_type": "code",
   "metadata": {
    "ExecuteTime": {
     "start_time": "2024-06-08T20:34:11.699927500Z"
    }
   },
   "source": [
    "dataset['xti_empleado'] = dataset['xti_empleado'].apply(lambda x: 1 if x == 'N' else 0)\n",
    "dataset['xti_empleado'].value_counts()"
   ],
   "outputs": [],
   "execution_count": null
  },
  {
   "cell_type": "markdown",
   "metadata": {},
   "source": [
    "### num_antiguedad\n",
    "Comprobamos la variable num_antiguedad: "
   ]
  },
  {
   "cell_type": "code",
   "metadata": {
    "ExecuteTime": {
     "start_time": "2024-06-08T20:34:11.703959500Z"
    }
   },
   "source": [
    "dataset['num_antiguedad'] = pd.to_numeric(dataset['num_antiguedad'], errors='coerce')\n"
   ],
   "outputs": [],
   "execution_count": null
  },
  {
   "cell_type": "code",
   "metadata": {
    "ExecuteTime": {
     "end_time": "2024-06-08T20:34:11.722985700Z",
     "start_time": "2024-06-08T20:34:11.706925600Z"
    }
   },
   "source": [
    "plt.figure(figsize=(10, 6))  # Create a figure with desired size\n",
    "plt.hist(dataset['num_antiguedad'], bins=10, color='blue', edgecolor='black')  \n",
    "\n",
    "plt.title('Distribución de antiguedad (valores filtrados)')  \n",
    "plt.xlabel('Meses de antiguedad')  \n",
    "plt.ylabel('Frecuencia')  \n",
    "\n",
    "plt.show()  "
   ],
   "outputs": [],
   "execution_count": null
  },
  {
   "cell_type": "markdown",
   "metadata": {},
   "source": []
  },
  {
   "cell_type": "code",
   "metadata": {
    "ExecuteTime": {
     "start_time": "2024-06-08T20:34:11.708445300Z"
    }
   },
   "source": [
    "pd.set_option('display.max_columns', None)\n",
    "print(dataset.head(5))"
   ],
   "outputs": [],
   "execution_count": null
  },
  {
   "cell_type": "code",
   "metadata": {
    "ExecuteTime": {
     "start_time": "2024-06-08T20:34:11.711462400Z"
    }
   },
   "source": [],
   "outputs": [],
   "execution_count": null
  },
  {
   "cell_type": "markdown",
   "metadata": {},
   "source": [
    "Calcular los valores de la moda y la mediana\n"
   ]
  },
  {
   "cell_type": "markdown",
   "metadata": {},
   "source": [
    "ESTO ES MIERDA! NO FUNCIONA"
   ]
  },
  {
   "cell_type": "code",
   "metadata": {
    "ExecuteTime": {
     "start_time": "2024-06-08T20:34:11.713462400Z"
    }
   },
   "source": [
    "most_frequent_xti_rel_1mes = dataset['xti_rel_1mes'].mode()[0]\n",
    "most_frequent_tip_rel_1mes = dataset['tip_rel_1mes'].mode()[0]\n",
    "median_engagement_score = dataset['mean_engagement'].median()"
   ],
   "outputs": [],
   "execution_count": null
  },
  {
   "cell_type": "markdown",
   "metadata": {},
   "source": [
    "Rellenar valores nulos con los valores calculados\n"
   ]
  },
  {
   "cell_type": "code",
   "metadata": {
    "ExecuteTime": {
     "start_time": "2024-06-08T20:34:11.714462100Z"
    }
   },
   "source": [
    "dataset['xti_rel_1mes'].fillna(most_frequent_xti_rel_1mes, inplace=True)\n",
    "dataset['tip_rel_1mes'].fillna(most_frequent_tip_rel_1mes, inplace=True)\n",
    "dataset['mean_engagement'].fillna(median_engagement_score, inplace=True)"
   ],
   "outputs": [],
   "execution_count": null
  },
  {
   "cell_type": "markdown",
   "metadata": {},
   "source": [
    "Reemplazar valores nulos en cod_provincia por 0\n"
   ]
  },
  {
   "cell_type": "code",
   "metadata": {
    "ExecuteTime": {
     "start_time": "2024-06-08T20:34:11.716967500Z"
    }
   },
   "source": [
    "dataset['cod_provincia'].fillna(0, inplace=True)\n"
   ],
   "outputs": [],
   "execution_count": null
  },
  {
   "cell_type": "markdown",
   "metadata": {},
   "source": [
    "Convertir las provincias categóricas a números\n"
   ]
  },
  {
   "cell_type": "code",
   "metadata": {
    "ExecuteTime": {
     "start_time": "2024-06-08T20:34:11.719974700Z"
    }
   },
   "source": [
    "dataset['cod_provincia'] = dataset['cod_provincia'].astype('category').cat.codes"
   ],
   "outputs": [],
   "execution_count": null
  },
  {
   "cell_type": "code",
   "metadata": {
    "ExecuteTime": {
     "start_time": "2024-06-08T20:34:11.721981300Z"
    }
   },
   "source": [
    "# Limpiar datos\n",
    "dataset['edad'].fillna(dataset['edad'].mean(), inplace=True)\n",
    "#Rellenamos con la media porque se considera mas representativa \n",
    "# dataset['imp_renta'].fillna(dataset['imp_renta'].median(), inplace=True) \n",
    "#Rellenamos con mediana porque existen outliers muy elevados que sesgarian el valor si rellenamos con la media los valores faltantes \n",
    "\n",
    "\"\"\"\n",
    "Se añade el codigo para una visualizacion de la distribución logaritmica por si quisiera visualizarse\n",
    "\"\"\"\n",
    "# transformed_data = np.log1p(dataset['imp_renta'])  # log1p aplica log(1 + x) para manejar valores de 0\n",
    "# plt.hist(transformed_data)\n",
    "# plt.title('Distribución transformada de imp_renta (log)')\n",
    "# plt.xlabel('Log(imp_renta)')\n",
    "# plt.ylabel('Frecuencia')\n",
    "# plt.show()"
   ],
   "outputs": [],
   "execution_count": null
  },
  {
   "cell_type": "code",
   "metadata": {
    "ExecuteTime": {
     "end_time": "2024-06-08T20:34:11.728492300Z",
     "start_time": "2024-06-08T20:34:11.724982500Z"
    }
   },
   "source": [
    "# Feature Engineering\n",
    "dataset['nueva_caracteristica'] = dataset['edad'] * dataset['imp_renta']\n",
    "\n",
    "# Verificar cambios\n",
    "print(dataset.head())"
   ],
   "outputs": [],
   "execution_count": null
  },
  {
   "cell_type": "code",
   "metadata": {
    "ExecuteTime": {
     "start_time": "2024-06-08T20:34:11.728492300Z"
    }
   },
   "source": [
    "# Convertir columnas con valores mixtos a numéricos\n",
    "dataset['num_antiguedad'] = pd.to_numeric(dataset['num_antiguedad'], errors='coerce')\n",
    "dataset['num_antiguedad'].fillna(dataset['num_antiguedad'].mean(), inplace=True)\n",
    "dataset['xti_rel_1mes'] = pd.to_numeric(dataset['xti_rel_1mes'], errors='coerce')\n",
    "dataset['xti_rel_1mes'].fillna(dataset['xti_rel_1mes'].mean(), inplace=True)\n",
    "\n",
    "# Convertir columnas categóricas en variables dummy\n",
    "categorical_columns = ['pais', 'sexo', 'xti_empleado', 'xti_rel', 'indresi', 'indext', 'des_canal', 'xti_extra', 'tip_rel_1mes']\n",
    "dataset = pd.get_dummies(dataset, columns=categorical_columns)\n",
    "\n",
    "\n",
    "\n",
    "dataset.columns"
   ],
   "outputs": [],
   "execution_count": null
  },
  {
   "cell_type": "code",
   "metadata": {
    "ExecuteTime": {
     "start_time": "2024-06-08T20:34:11.730514200Z"
    }
   },
   "source": [
    "\n",
    "# Verificar los cambios\n",
    "print(dataset.info())\n",
    "print(dataset.head())\n",
    "\n",
    "# Separar características y targets\n",
    "X = dataset.drop(columns=[f'ind_prod{i}' for i in range(1, 26)])\n",
    "y = dataset[[f'ind_prod{i}' for i in range(1, 26)]]\n",
    "\n",
    "# Dividir en conjuntos de entrenamiento y prueba\n",
    "X_train, X_test, y_train, y_test = train_test_split(X, y, test_size=0.2, random_state=42)\n"
   ],
   "outputs": [],
   "execution_count": null
  },
  {
   "cell_type": "code",
   "metadata": {
    "ExecuteTime": {
     "start_time": "2024-06-08T20:34:11.732498Z"
    }
   },
   "source": [
    "\n",
    "# Entrenar el modelo\n",
    "modelo = RandomForestClassifier()\n",
    "modelo.fit(X_train, y_train)\n",
    "\n",
    "# Generar predicciones\n",
    "predicciones = modelo.predict(X_test)\n",
    "\n",
    "# Convertir predicciones y valores reales a listas de listas para MAP@7\n",
    "y_test_list = [list(np.where(row == 1)[0] + 1) for row in y_test.values]\n",
    "predicciones_list = [list(np.argsort(row)[-7:][::-1] + 1) for row in predicciones]\n",
    "\n",
    "# Calcular MAP@7\n",
    "score = mapk(y_test_list, predicciones_list, 7)\n",
    "print(f'MAP@7 Score: {score}')"
   ],
   "outputs": [],
   "execution_count": null
  }
 ],
 "metadata": {
  "kernelspec": {
   "display_name": "Python 3 (ipykernel)",
   "language": "python",
   "name": "python3"
  },
  "language_info": {
   "codemirror_mode": {
    "name": "ipython",
    "version": 3
   },
   "file_extension": ".py",
   "mimetype": "text/x-python",
   "name": "python",
   "nbconvert_exporter": "python",
   "pygments_lexer": "ipython3",
   "version": "3.11.5"
  }
 },
 "nbformat": 4,
 "nbformat_minor": 4
}
